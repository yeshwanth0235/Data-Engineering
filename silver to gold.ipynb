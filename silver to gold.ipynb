{
 "cells": [
  {
   "cell_type": "markdown",
   "metadata": {
    "application/vnd.databricks.v1+cell": {
     "cellMetadata": {},
     "inputWidgets": {},
     "nuid": "589406ef-5426-4325-8e06-5ce6af2dee2d",
     "showTitle": false,
     "title": ""
    }
   },
   "source": [
    "###Doing Transformation for all tables(changing the columns names)"
   ]
  },
  {
   "cell_type": "code",
   "execution_count": 0,
   "metadata": {
    "application/vnd.databricks.v1+cell": {
     "cellMetadata": {
      "byteLimit": 2048000,
      "rowLimit": 10000
     },
     "inputWidgets": {},
     "nuid": "204bc26c-828c-4b36-a950-965b2a26d8d3",
     "showTitle": false,
     "title": ""
    }
   },
   "outputs": [],
   "source": [
    "table_name = []\n",
    "\n",
    "for i in dbutils.fs.ls(\"/mnt/silver/Sales/\"):\n",
    "    table_name.append(i.name.split('/')[0])"
   ]
  },
  {
   "cell_type": "code",
   "execution_count": 0,
   "metadata": {
    "application/vnd.databricks.v1+cell": {
     "cellMetadata": {
      "byteLimit": 2048000,
      "rowLimit": 10000
     },
     "inputWidgets": {},
     "nuid": "32278dc1-89da-409a-a2ea-2dc8a86d4e5a",
     "showTitle": false,
     "title": ""
    }
   },
   "outputs": [
    {
     "output_type": "stream",
     "name": "stdout",
     "output_type": "stream",
     "text": [
      "Out[9]: ['CountryRegionCurrency',\n 'CreditCard',\n 'Currency',\n 'CurrencyRate',\n 'Customer',\n 'PersonCreditCard',\n 'SalesOrderDetail',\n 'SalesOrderHeader',\n 'SalesOrderHeaderSalesReason',\n 'SalesPerson',\n 'SalesPersonQuotaHistory',\n 'SalesReason',\n 'SalesTaxRate',\n 'SalesTerritory',\n 'SalesTerritoryHistory',\n 'ShoppingCartItem',\n 'SpecialOffer',\n 'SpecialOfferProduct',\n 'Store']"
     ]
    }
   ],
   "source": [
    "table_name"
   ]
  },
  {
   "cell_type": "code",
   "execution_count": 0,
   "metadata": {
    "application/vnd.databricks.v1+cell": {
     "cellMetadata": {
      "byteLimit": 2048000,
      "rowLimit": 10000
     },
     "inputWidgets": {},
     "nuid": "92c9d2a5-f27f-460d-b4cf-a4e0bc9e96bd",
     "showTitle": false,
     "title": ""
    }
   },
   "outputs": [
    {
     "output_type": "stream",
     "name": "stdout",
     "output_type": "stream",
     "text": [
      "/mnt/silver/Sales/CountryRegionCurrency\n/mnt/silver/Sales/CreditCard\n/mnt/silver/Sales/Currency\n/mnt/silver/Sales/CurrencyRate\n/mnt/silver/Sales/Customer\n/mnt/silver/Sales/PersonCreditCard\n/mnt/silver/Sales/SalesOrderDetail\n/mnt/silver/Sales/SalesOrderHeader\n/mnt/silver/Sales/SalesOrderHeaderSalesReason\n/mnt/silver/Sales/SalesPerson\n/mnt/silver/Sales/SalesPersonQuotaHistory\n/mnt/silver/Sales/SalesReason\n/mnt/silver/Sales/SalesTaxRate\n/mnt/silver/Sales/SalesTerritory\n/mnt/silver/Sales/SalesTerritoryHistory\n/mnt/silver/Sales/ShoppingCartItem\n/mnt/silver/Sales/SpecialOffer\n/mnt/silver/Sales/SpecialOfferProduct\n/mnt/silver/Sales/Store\n"
     ]
    }
   ],
   "source": [
    "for name in table_name:\n",
    "    path= '/mnt/silver/Sales/' + name\n",
    "    print (path)\n",
    "    df = spark.read.format('delta').load(path)\n",
    "\n",
    "    # Get the list of column names\n",
    "    column_names = df.columns\n",
    "    \n",
    "    for old_col_name in column_names:\n",
    "        # Convert column name from ColumnName to Column_Name format\n",
    "        new_col_name = \"\".join([\"_\" + char if char.isupper() and not old_col_name [i-1].isupper() else char for i, char in enumerate (old_col_name)]).lstrip(\"_\")\n",
    "        # Change the column name using withColumn Renamed and regexp_replace\n",
    "        df = df.withColumnRenamed (old_col_name, new_col_name)\n",
    "    output_path = '/mnt/gold/Sales/' +name +'/'\n",
    "    df.write.format('delta'). mode (\"overwrite\").save (output_path)"
   ]
  },
  {
   "cell_type": "code",
   "execution_count": 0,
   "metadata": {
    "application/vnd.databricks.v1+cell": {
     "cellMetadata": {
      "byteLimit": 2048000,
      "rowLimit": 10000
     },
     "inputWidgets": {},
     "nuid": "acc94b7b-3c6f-4695-951a-c4c570102521",
     "showTitle": false,
     "title": ""
    }
   },
   "outputs": [
    {
     "output_type": "display_data",
     "data": {
      "text/html": [
       "<style scoped>\n",
       "  .table-result-container {\n",
       "    max-height: 300px;\n",
       "    overflow: auto;\n",
       "  }\n",
       "  table, th, td {\n",
       "    border: 1px solid black;\n",
       "    border-collapse: collapse;\n",
       "  }\n",
       "  th, td {\n",
       "    padding: 5px;\n",
       "  }\n",
       "  th {\n",
       "    text-align: left;\n",
       "  }\n",
       "</style><div class='table-result-container'><table class='table-result'><thead style='background-color: white'><tr><th>Business_Entity_ID</th><th>Demographics</th><th>Modified_Date</th><th>Name</th><th>Sales_Person_ID</th><th>rowguid</th></tr></thead><tbody><tr><td>292</td><td><StoreSurvey xmlns=\"http://schemas.microsoft.com/sqlserver/2004/07/adventure-works/StoreSurvey\"><AnnualSales>800000</AnnualSales><AnnualRevenue>80000</AnnualRevenue><BankName>United Security</BankName><BusinessType>BM</BusinessType><YearOpened>1996</YearOpened><Specialty>Mountain</Specialty><SquareFeet>21000</SquareFeet><Brands>2</Brands><Internet>ISDN</Internet><NumberEmployees>13</NumberEmployees></StoreSurvey></td><td>2014-09-12</td><td>Next-Door Bike Store</td><td>279</td><td>a22517e3-848d-4ebe-b9d9-7437f3432304</td></tr><tr><td>294</td><td><StoreSurvey xmlns=\"http://schemas.microsoft.com/sqlserver/2004/07/adventure-works/StoreSurvey\"><AnnualSales>800000</AnnualSales><AnnualRevenue>80000</AnnualRevenue><BankName>International Bank</BankName><BusinessType>BM</BusinessType><YearOpened>1991</YearOpened><Specialty>Touring</Specialty><SquareFeet>18000</SquareFeet><Brands>4+</Brands><Internet>T1</Internet><NumberEmployees>14</NumberEmployees></StoreSurvey></td><td>2014-09-12</td><td>Professional Sales and Service</td><td>276</td><td>b50ca50b-c601-4a13-b07e-2c63862d71b4</td></tr><tr><td>296</td><td><StoreSurvey xmlns=\"http://schemas.microsoft.com/sqlserver/2004/07/adventure-works/StoreSurvey\"><AnnualSales>800000</AnnualSales><AnnualRevenue>80000</AnnualRevenue><BankName>Primary Bank &amp; Reserve</BankName><BusinessType>BM</BusinessType><YearOpened>1999</YearOpened><Specialty>Road</Specialty><SquareFeet>21000</SquareFeet><Brands>2</Brands><Internet>DSL</Internet><NumberEmployees>15</NumberEmployees></StoreSurvey></td><td>2014-09-12</td><td>Riders Company</td><td>277</td><td>337c3688-1339-4e1a-a08a-b54b23566e49</td></tr><tr><td>298</td><td><StoreSurvey xmlns=\"http://schemas.microsoft.com/sqlserver/2004/07/adventure-works/StoreSurvey\"><AnnualSales>800000</AnnualSales><AnnualRevenue>80000</AnnualRevenue><BankName>International Security</BankName><BusinessType>BM</BusinessType><YearOpened>1994</YearOpened><Specialty>Mountain</Specialty><SquareFeet>18000</SquareFeet><Brands>2</Brands><Internet>DSL</Internet><NumberEmployees>16</NumberEmployees></StoreSurvey></td><td>2014-09-12</td><td>The Bike Mechanics</td><td>275</td><td>7894f278-f0c8-4d16-bd75-213fdbf13023</td></tr><tr><td>300</td><td><StoreSurvey xmlns=\"http://schemas.microsoft.com/sqlserver/2004/07/adventure-works/StoreSurvey\"><AnnualSales>800000</AnnualSales><AnnualRevenue>80000</AnnualRevenue><BankName>Guardian Bank</BankName><BusinessType>BM</BusinessType><YearOpened>1987</YearOpened><Specialty>Touring</Specialty><SquareFeet>21000</SquareFeet><Brands>4+</Brands><Internet>DSL</Internet><NumberEmployees>17</NumberEmployees></StoreSurvey></td><td>2014-09-12</td><td>Nationwide Supply</td><td>286</td><td>c3fc9705-a8c4-4f3a-9550-eb2fa4b7b64d</td></tr><tr><td>302</td><td><StoreSurvey xmlns=\"http://schemas.microsoft.com/sqlserver/2004/07/adventure-works/StoreSurvey\"><AnnualSales>300000</AnnualSales><AnnualRevenue>30000</AnnualRevenue><BankName>International Bank</BankName><BusinessType>BM</BusinessType><YearOpened>1982</YearOpened><Specialty>Road</Specialty><SquareFeet>9000</SquareFeet><Brands>AW</Brands><Internet>T2</Internet><NumberEmployees>8</NumberEmployees></StoreSurvey></td><td>2014-09-12</td><td>Area Bike Accessories</td><td>281</td><td>368be6dd-30e5-49bb-9a86-71fd49c58f4e</td></tr><tr><td>304</td><td><StoreSurvey xmlns=\"http://schemas.microsoft.com/sqlserver/2004/07/adventure-works/StoreSurvey\"><AnnualSales>300000</AnnualSales><AnnualRevenue>30000</AnnualRevenue><BankName>Primary Bank &amp; Reserve</BankName><BusinessType>BM</BusinessType><YearOpened>1990</YearOpened><Specialty>Mountain</Specialty><SquareFeet>7000</SquareFeet><Brands>AW</Brands><Internet>T1</Internet><NumberEmployees>9</NumberEmployees></StoreSurvey></td><td>2014-09-12</td><td>Bicycle Accessories and Kits</td><td>283</td><td>35f40636-5105-49d5-869e-27e231189150</td></tr><tr><td>306</td><td><StoreSurvey xmlns=\"http://schemas.microsoft.com/sqlserver/2004/07/adventure-works/StoreSurvey\"><AnnualSales>800000</AnnualSales><AnnualRevenue>80000</AnnualRevenue><BankName>International Security</BankName><BusinessType>BM</BusinessType><YearOpened>1985</YearOpened><Specialty>Mountain</Specialty><SquareFeet>17000</SquareFeet><Brands>4+</Brands><Internet>DSL</Internet><NumberEmployees>10</NumberEmployees></StoreSurvey></td><td>2014-09-12</td><td>Clamps & Brackets Co.</td><td>275</td><td>64d06bfc-d060-405c-8c60-c067fe7c67df</td></tr><tr><td>308</td><td><StoreSurvey xmlns=\"http://schemas.microsoft.com/sqlserver/2004/07/adventure-works/StoreSurvey\"><AnnualSales>3000000</AnnualSales><AnnualRevenue>300000</AnnualRevenue><BankName>Primary Bank &amp; Reserve</BankName><BusinessType>OS</BusinessType><YearOpened>1979</YearOpened><Specialty>Mountain</Specialty><SquareFeet>72000</SquareFeet><Brands>4+</Brands><Internet>DSL</Internet><NumberEmployees>66</NumberEmployees></StoreSurvey></td><td>2014-09-12</td><td>Valley Bicycle Specialists</td><td>277</td><td>59386b0c-652e-4668-b44b-4e1711793330</td></tr><tr><td>310</td><td><StoreSurvey xmlns=\"http://schemas.microsoft.com/sqlserver/2004/07/adventure-works/StoreSurvey\"><AnnualSales>1500000</AnnualSales><AnnualRevenue>150000</AnnualRevenue><BankName>International Security</BankName><BusinessType>OS</BusinessType><YearOpened>1974</YearOpened><Specialty>Road</Specialty><SquareFeet>39000</SquareFeet><Brands>4+</Brands><Internet>T1</Internet><NumberEmployees>40</NumberEmployees></StoreSurvey></td><td>2014-09-12</td><td>New Bikes Company</td><td>279</td><td>47e4b6bd-5cd1-45a3-a231-79d930381c56</td></tr><tr><td>312</td><td><StoreSurvey xmlns=\"http://schemas.microsoft.com/sqlserver/2004/07/adventure-works/StoreSurvey\"><AnnualSales>1500000</AnnualSales><AnnualRevenue>150000</AnnualRevenue><BankName>Primary Bank &amp; Reserve</BankName><BusinessType>OS</BusinessType><YearOpened>1980</YearOpened><Specialty>Mountain</Specialty><SquareFeet>41000</SquareFeet><Brands>4+</Brands><Internet>DSL</Internet><NumberEmployees>43</NumberEmployees></StoreSurvey></td><td>2014-09-12</td><td>Vinyl and Plastic Goods Corporation</td><td>282</td><td>dc610525-e373-49b1-b786-ea040ec25c06</td></tr><tr><td>314</td><td><StoreSurvey xmlns=\"http://schemas.microsoft.com/sqlserver/2004/07/adventure-works/StoreSurvey\"><AnnualSales>1500000</AnnualSales><AnnualRevenue>150000</AnnualRevenue><BankName>International Bank</BankName><BusinessType>OS</BusinessType><YearOpened>1986</YearOpened><Specialty>Touring</Specialty><SquareFeet>40000</SquareFeet><Brands>4+</Brands><Internet>DSL</Internet><NumberEmployees>46</NumberEmployees></StoreSurvey></td><td>2014-09-12</td><td>Top of the Line Bikes</td><td>288</td><td>e290e93f-a980-4ba3-86c3-9858f15c8a6d</td></tr><tr><td>316</td><td><StoreSurvey xmlns=\"http://schemas.microsoft.com/sqlserver/2004/07/adventure-works/StoreSurvey\"><AnnualSales>300000</AnnualSales><AnnualRevenue>30000</AnnualRevenue><BankName>Primary Bank &amp; Reserve</BankName><BusinessType>BM</BusinessType><YearOpened>1973</YearOpened><Specialty>Touring</Specialty><SquareFeet>6000</SquareFeet><Brands>2</Brands><Internet>DSL</Internet><NumberEmployees>2</NumberEmployees></StoreSurvey></td><td>2014-09-12</td><td>Fun Toys and Bikes</td><td>281</td><td>6cdcf941-4192-49c7-994a-5adba534e095</td></tr><tr><td>318</td><td><StoreSurvey xmlns=\"http://schemas.microsoft.com/sqlserver/2004/07/adventure-works/StoreSurvey\"><AnnualSales>300000</AnnualSales><AnnualRevenue>30000</AnnualRevenue><BankName>International Security</BankName><BusinessType>BM</BusinessType><YearOpened>1981</YearOpened><Specialty>Mountain</Specialty><SquareFeet>10000</SquareFeet><Brands>4+</Brands><Internet>T3</Internet><NumberEmployees>3</NumberEmployees></StoreSurvey></td><td>2014-09-12</td><td>Great Bikes </td><td>283</td><td>956fbc35-5e0d-4175-8045-e0be380ba340</td></tr><tr><td>320</td><td><StoreSurvey xmlns=\"http://schemas.microsoft.com/sqlserver/2004/07/adventure-works/StoreSurvey\"><AnnualSales>300000</AnnualSales><AnnualRevenue>30000</AnnualRevenue><BankName>Guardian Bank</BankName><BusinessType>BM</BusinessType><YearOpened>1976</YearOpened><Specialty>Road</Specialty><SquareFeet>6000</SquareFeet><Brands>AW</Brands><Internet>T1</Internet><NumberEmployees>4</NumberEmployees></StoreSurvey></td><td>2014-09-12</td><td>Metropolitan Sales and Rental</td><td>275</td><td>0cb4fef2-5047-40f7-8848-b59f7a3f3eec</td></tr><tr><td>322</td><td><StoreSurvey xmlns=\"http://schemas.microsoft.com/sqlserver/2004/07/adventure-works/StoreSurvey\"><AnnualSales>300000</AnnualSales><AnnualRevenue>30000</AnnualRevenue><BankName>Primary International</BankName><BusinessType>BM</BusinessType><YearOpened>1984</YearOpened><Specialty>Mountain</Specialty><SquareFeet>7000</SquareFeet><Brands>AW</Brands><Internet>DSL</Internet><NumberEmployees>5</NumberEmployees></StoreSurvey></td><td>2014-09-12</td><td>Irregulars Outlet</td><td>288</td><td>cde66279-83d8-4340-a83c-e86e15514ac4</td></tr><tr><td>324</td><td><StoreSurvey xmlns=\"http://schemas.microsoft.com/sqlserver/2004/07/adventure-works/StoreSurvey\"><AnnualSales>300000</AnnualSales><AnnualRevenue>30000</AnnualRevenue><BankName>Reserve Security</BankName><BusinessType>BM</BusinessType><YearOpened>1979</YearOpened><Specialty>Mountain</Specialty><SquareFeet>9000</SquareFeet><Brands>2</Brands><Internet>T1</Internet><NumberEmployees>6</NumberEmployees></StoreSurvey></td><td>2014-09-12</td><td>Valley Toy Store</td><td>282</td><td>6a1bea56-dcb7-45cf-8c92-3705e12eb2aa</td></tr><tr><td>326</td><td><StoreSurvey xmlns=\"http://schemas.microsoft.com/sqlserver/2004/07/adventure-works/StoreSurvey\"><AnnualSales>300000</AnnualSales><AnnualRevenue>30000</AnnualRevenue><BankName>United Security</BankName><BusinessType>BM</BusinessType><YearOpened>1987</YearOpened><Specialty>Mountain</Specialty><SquareFeet>8000</SquareFeet><Brands>2</Brands><Internet>DSL</Internet><NumberEmployees>7</NumberEmployees></StoreSurvey></td><td>2014-09-12</td><td>Worthwhile Activity Store</td><td>279</td><td>bad63717-99bd-4581-8160-0f1723be42cb</td></tr><tr><td>328</td><td><StoreSurvey xmlns=\"http://schemas.microsoft.com/sqlserver/2004/07/adventure-works/StoreSurvey\"><AnnualSales>1500000</AnnualSales><AnnualRevenue>150000</AnnualRevenue><BankName>United Security</BankName><BusinessType>OS</BusinessType><YearOpened>1992</YearOpened><Specialty>Touring</Specialty><SquareFeet>38000</SquareFeet><Brands>3</Brands><Internet>ISDN</Internet><NumberEmployees>49</NumberEmployees></StoreSurvey></td><td>2014-09-12</td><td>Purchase Mart</td><td>275</td><td>a3140349-57a3-46aa-bf32-d7f4753a06d6</td></tr><tr><td>330</td><td><StoreSurvey xmlns=\"http://schemas.microsoft.com/sqlserver/2004/07/adventure-works/StoreSurvey\"><AnnualSales>3000000</AnnualSales><AnnualRevenue>300000</AnnualRevenue><BankName>Reserve Security</BankName><BusinessType>OS</BusinessType><YearOpened>1998</YearOpened><Specialty>Mountain</Specialty><SquareFeet>68000</SquareFeet><Brands>3</Brands><Internet>DSL</Internet><NumberEmployees>52</NumberEmployees></StoreSurvey></td><td>2014-09-12</td><td>Major Sport Suppliers</td><td>283</td><td>3b5f8572-43b0-42f5-86ff-e379d0769f28</td></tr><tr><td>332</td><td><StoreSurvey xmlns=\"http://schemas.microsoft.com/sqlserver/2004/07/adventure-works/StoreSurvey\"><AnnualSales>800000</AnnualSales><AnnualRevenue>80000</AnnualRevenue><BankName>Primary International</BankName><BusinessType>BM</BusinessType><YearOpened>1997</YearOpened><Specialty>Mountain</Specialty><SquareFeet>21000</SquareFeet><Brands>3</Brands><Internet>ISDN</Internet><NumberEmployees>18</NumberEmployees></StoreSurvey></td><td>2014-09-12</td><td>Family's Favorite Bike Shop</td><td>278</td><td>712df7b6-a6e4-4059-a1b8-6d39a80ab712</td></tr><tr><td>334</td><td><StoreSurvey xmlns=\"http://schemas.microsoft.com/sqlserver/2004/07/adventure-works/StoreSurvey\"><AnnualSales>800000</AnnualSales><AnnualRevenue>80000</AnnualRevenue><BankName>Reserve Security</BankName><BusinessType>BM</BusinessType><YearOpened>1975</YearOpened><Specialty>Mountain</Specialty><SquareFeet>19000</SquareFeet><Brands>3</Brands><Internet>DSL</Internet><NumberEmployees>19</NumberEmployees></StoreSurvey></td><td>2014-09-12</td><td>Global Plaza</td><td>279</td><td>9a1e91d8-509b-4d96-bd77-7427c7f0c47b</td></tr><tr><td>336</td><td><StoreSurvey xmlns=\"http://schemas.microsoft.com/sqlserver/2004/07/adventure-works/StoreSurvey\"><AnnualSales>1000000</AnnualSales><AnnualRevenue>100000</AnnualRevenue><BankName>United Security</BankName><BusinessType>BM</BusinessType><YearOpened>2000</YearOpened><Specialty>Road</Specialty><SquareFeet>24000</SquareFeet><Brands>2</Brands><Internet>T1</Internet><NumberEmployees>20</NumberEmployees></StoreSurvey></td><td>2014-09-12</td><td>Imported and Domestic Cycles</td><td>276</td><td>25c229c0-4e7a-42d2-acb1-a2118361b2f1</td></tr><tr><td>338</td><td><StoreSurvey xmlns=\"http://schemas.microsoft.com/sqlserver/2004/07/adventure-works/StoreSurvey\"><AnnualSales>3000000</AnnualSales><AnnualRevenue>300000</AnnualRevenue><BankName>Primary International</BankName><BusinessType>OS</BusinessType><YearOpened>1999</YearOpened><Specialty>Touring</Specialty><SquareFeet>73000</SquareFeet><Brands>4+</Brands><Internet>DSL</Internet><NumberEmployees>55</NumberEmployees></StoreSurvey></td><td>2014-09-12</td><td>Systematic Sales</td><td>281</td><td>df9126a5-9c95-44a2-a31f-f759ea33eea7</td></tr><tr><td>340</td><td><StoreSurvey xmlns=\"http://schemas.microsoft.com/sqlserver/2004/07/adventure-works/StoreSurvey\"><AnnualSales>3000000</AnnualSales><AnnualRevenue>300000</AnnualRevenue><BankName>Guardian Bank</BankName><BusinessType>OS</BusinessType><YearOpened>1999</YearOpened><Specialty>Mountain</Specialty><SquareFeet>69000</SquareFeet><Brands>2</Brands><Internet>DSL</Internet><NumberEmployees>58</NumberEmployees></StoreSurvey></td><td>2014-09-12</td><td>eCommerce Bikes</td><td>279</td><td>1ec47823-4b39-4609-aaec-6ee68cc74f81</td></tr><tr><td>342</td><td><StoreSurvey xmlns=\"http://schemas.microsoft.com/sqlserver/2004/07/adventure-works/StoreSurvey\"><AnnualSales>800000</AnnualSales><AnnualRevenue>80000</AnnualRevenue><BankName>International Bank</BankName><BusinessType>BM</BusinessType><YearOpened>2000</YearOpened><Specialty>Road</Specialty><SquareFeet>18000</SquareFeet><Brands>4+</Brands><Internet>DSL</Internet><NumberEmployees>17</NumberEmployees></StoreSurvey></td><td>2014-09-12</td><td>Mountain Toy Store</td><td>277</td><td>52efc841-97c5-4ac1-b707-fa3717b0bc48</td></tr><tr><td>344</td><td><StoreSurvey xmlns=\"http://schemas.microsoft.com/sqlserver/2004/07/adventure-works/StoreSurvey\"><AnnualSales>800000</AnnualSales><AnnualRevenue>80000</AnnualRevenue><BankName>Primary Bank &amp; Reserve</BankName><BusinessType>BM</BusinessType><YearOpened>1994</YearOpened><Specialty>Road</Specialty><SquareFeet>18000</SquareFeet><Brands>2</Brands><Internet>DSL</Internet><NumberEmployees>14</NumberEmployees></StoreSurvey></td><td>2014-09-12</td><td>Retail Sales and Service</td><td>275</td><td>38f9be1b-9137-4e4e-985d-06f6c5e02330</td></tr><tr><td>346</td><td><StoreSurvey xmlns=\"http://schemas.microsoft.com/sqlserver/2004/07/adventure-works/StoreSurvey\"><AnnualSales>3000000</AnnualSales><AnnualRevenue>300000</AnnualRevenue><BankName>International Security</BankName><BusinessType>OS</BusinessType><YearOpened>1979</YearOpened><Specialty>Road</Specialty><SquareFeet>72000</SquareFeet><Brands>4+</Brands><Internet>T2</Internet><NumberEmployees>61</NumberEmployees></StoreSurvey></td><td>2014-09-12</td><td>Designated Distributors</td><td>282</td><td>5dc17a1c-f618-4b6e-bea2-bff96ca6ba8b</td></tr><tr><td>348</td><td><StoreSurvey xmlns=\"http://schemas.microsoft.com/sqlserver/2004/07/adventure-works/StoreSurvey\"><AnnualSales>3000000</AnnualSales><AnnualRevenue>300000</AnnualRevenue><BankName>Primary Bank &amp; Reserve</BankName><BusinessType>OS</BusinessType><YearOpened>1999</YearOpened><Specialty>Mountain</Specialty><SquareFeet>72000</SquareFeet><Brands>4+</Brands><Internet>DSL</Internet><NumberEmployees>58</NumberEmployees></StoreSurvey></td><td>2014-09-12</td><td>Bold Bike Accessories</td><td>276</td><td>ac7a83f1-196b-4bbf-a6e0-3165d4c84454</td></tr><tr><td>350</td><td><StoreSurvey xmlns=\"http://schemas.microsoft.com/sqlserver/2004/07/adventure-works/StoreSurvey\"><AnnualSales>800000</AnnualSales><AnnualRevenue>80000</AnnualRevenue><BankName>International Security</BankName><BusinessType>BM</BusinessType><YearOpened>1988</YearOpened><Specialty>Touring</Specialty><SquareFeet>21000</SquareFeet><Brands>AW</Brands><Internet>T1</Internet><NumberEmployees>11</NumberEmployees></StoreSurvey></td><td>2014-09-12</td><td>Twin Cycles</td><td>286</td><td>4e917578-1942-4bab-8e63-932052fdacec</td></tr><tr><td>352</td><td><StoreSurvey xmlns=\"http://schemas.microsoft.com/sqlserver/2004/07/adventure-works/StoreSurvey\"><AnnualSales>300000</AnnualSales><AnnualRevenue>30000</AnnualRevenue><BankName>International Bank</BankName><BusinessType>BM</BusinessType><YearOpened>1978</YearOpened><Specialty>Road</Specialty><SquareFeet>6000</SquareFeet><Brands>4+</Brands><Internet>DSL</Internet><NumberEmployees>4</NumberEmployees></StoreSurvey></td><td>2014-09-12</td><td>Tiny Bike Boutique</td><td>279</td><td>1d65dd5a-a7c8-4ac1-a2b6-76ad4a5946bd</td></tr><tr><td>354</td><td><StoreSurvey xmlns=\"http://schemas.microsoft.com/sqlserver/2004/07/adventure-works/StoreSurvey\"><AnnualSales>3000000</AnnualSales><AnnualRevenue>300000</AnnualRevenue><BankName>International Bank</BankName><BusinessType>OS</BusinessType><YearOpened>1979</YearOpened><Specialty>Touring</Specialty><SquareFeet>73000</SquareFeet><Brands>3</Brands><Internet>DSL</Internet><NumberEmployees>61</NumberEmployees></StoreSurvey></td><td>2014-09-12</td><td>Acclaimed Bicycle Company</td><td>279</td><td>e71ac59c-b228-49f2-acc2-077aa5dfc9db</td></tr><tr><td>356</td><td><StoreSurvey xmlns=\"http://schemas.microsoft.com/sqlserver/2004/07/adventure-works/StoreSurvey\"><AnnualSales>3000000</AnnualSales><AnnualRevenue>300000</AnnualRevenue><BankName>United Security</BankName><BusinessType>OS</BusinessType><YearOpened>1996</YearOpened><Specialty>Mountain</Specialty><SquareFeet>71000</SquareFeet><Brands>4+</Brands><Internet>ISDN</Internet><NumberEmployees>64</NumberEmployees></StoreSurvey></td><td>2014-09-12</td><td>Serious Cycles</td><td>278</td><td>8036d3b1-1c8d-43bf-b913-d17ee0d755af</td></tr><tr><td>358</td><td><StoreSurvey xmlns=\"http://schemas.microsoft.com/sqlserver/2004/07/adventure-works/StoreSurvey\"><AnnualSales>3000000</AnnualSales><AnnualRevenue>300000</AnnualRevenue><BankName>Reserve Security</BankName><BusinessType>OS</BusinessType><YearOpened>1991</YearOpened><Specialty>Touring</Specialty><SquareFeet>74000</SquareFeet><Brands>3</Brands><Internet>DSL</Internet><NumberEmployees>67</NumberEmployees></StoreSurvey></td><td>2014-09-12</td><td>Quality Bike Sales</td><td>286</td><td>55ec3545-a751-4a37-944e-b5df36219e11</td></tr><tr><td>360</td><td><StoreSurvey xmlns=\"http://schemas.microsoft.com/sqlserver/2004/07/adventure-works/StoreSurvey\"><AnnualSales>3000000</AnnualSales><AnnualRevenue>300000</AnnualRevenue><BankName>Primary International</BankName><BusinessType>OS</BusinessType><YearOpened>1993</YearOpened><Specialty>Touring</Specialty><SquareFeet>74000</SquareFeet><Brands>4+</Brands><Internet>ISDN</Internet><NumberEmployees>70</NumberEmployees></StoreSurvey></td><td>2014-09-12</td><td>Novelty Bikes</td><td>275</td><td>cd239474-966c-4474-97a9-25d52289ed52</td></tr><tr><td>362</td><td><StoreSurvey xmlns=\"http://schemas.microsoft.com/sqlserver/2004/07/adventure-works/StoreSurvey\"><AnnualSales>3000000</AnnualSales><AnnualRevenue>300000</AnnualRevenue><BankName>Primary Bank &amp; Reserve</BankName><BusinessType>OS</BusinessType><YearOpened>1995</YearOpened><Specialty>Mountain</Specialty><SquareFeet>75000</SquareFeet><Brands>3</Brands><Internet>DSL</Internet><NumberEmployees>79</NumberEmployees></StoreSurvey></td><td>2014-09-12</td><td>Distinctive Cycles Sales & Service</td><td>279</td><td>7e5da4c4-23b4-4bd2-8037-b2be46e41c83</td></tr><tr><td>364</td><td><StoreSurvey xmlns=\"http://schemas.microsoft.com/sqlserver/2004/07/adventure-works/StoreSurvey\"><AnnualSales>800000</AnnualSales><AnnualRevenue>80000</AnnualRevenue><BankName>Reserve Security</BankName><BusinessType>BS</BusinessType><YearOpened>1978</YearOpened><Specialty>Road</Specialty><SquareFeet>18000</SquareFeet><Brands>3</Brands><Internet>T1</Internet><NumberEmployees>13</NumberEmployees></StoreSurvey></td><td>2014-09-12</td><td>Leading Bike Distributors</td><td>279</td><td>0c0b95fd-1934-4dd9-bc1c-8c1e2bf07ebc</td></tr><tr><td>366</td><td><StoreSurvey xmlns=\"http://schemas.microsoft.com/sqlserver/2004/07/adventure-works/StoreSurvey\"><AnnualSales>1500000</AnnualSales><AnnualRevenue>150000</AnnualRevenue><BankName>Primary Bank &amp; Reserve</BankName><BusinessType>BS</BusinessType><YearOpened>1971</YearOpened><Specialty>Road</Specialty><SquareFeet>37000</SquareFeet><Brands>3</Brands><Internet>DSL</Internet><NumberEmployees>37</NumberEmployees></StoreSurvey></td><td>2014-09-12</td><td>Activity Center</td><td>279</td><td>f579e604-b602-4d67-ab88-130df07753f0</td></tr><tr><td>368</td><td><StoreSurvey xmlns=\"http://schemas.microsoft.com/sqlserver/2004/07/adventure-works/StoreSurvey\"><AnnualSales>1500000</AnnualSales><AnnualRevenue>150000</AnnualRevenue><BankName>International Security</BankName><BusinessType>BS</BusinessType><YearOpened>1979</YearOpened><Specialty>Mountain</Specialty><SquareFeet>36000</SquareFeet><Brands>4+</Brands><Internet>ISDN</Internet><NumberEmployees>38</NumberEmployees></StoreSurvey></td><td>2014-09-12</td><td>Brightwork Company</td><td>281</td><td>6f4273ae-583c-4219-9e0b-2f3cd44a4000</td></tr><tr><td>370</td><td><StoreSurvey xmlns=\"http://schemas.microsoft.com/sqlserver/2004/07/adventure-works/StoreSurvey\"><AnnualSales>800000</AnnualSales><AnnualRevenue>80000</AnnualRevenue><BankName>United Security</BankName><BusinessType>BM</BusinessType><YearOpened>1988</YearOpened><Specialty>Mountain</Specialty><SquareFeet>21000</SquareFeet><Brands>2</Brands><Internet>DSL</Internet><NumberEmployees>16</NumberEmployees></StoreSurvey></td><td>2014-09-12</td><td>Resale Services</td><td>276</td><td>7c7076c8-2ab9-4810-bbca-b126fc811e32</td></tr><tr><td>372</td><td><StoreSurvey xmlns=\"http://schemas.microsoft.com/sqlserver/2004/07/adventure-works/StoreSurvey\"><AnnualSales>800000</AnnualSales><AnnualRevenue>80000</AnnualRevenue><BankName>International Bank</BankName><BusinessType>BM</BusinessType><YearOpened>1982</YearOpened><Specialty>Mountain</Specialty><SquareFeet>21000</SquareFeet><Brands>2</Brands><Internet>DSL</Internet><NumberEmployees>14</NumberEmployees></StoreSurvey></td><td>2014-09-12</td><td>The Gear Store</td><td>277</td><td>03e77d8a-62b6-41ee-b081-7ec3e60c9a3e</td></tr><tr><td>374</td><td><StoreSurvey xmlns=\"http://schemas.microsoft.com/sqlserver/2004/07/adventure-works/StoreSurvey\"><AnnualSales>3000000</AnnualSales><AnnualRevenue>300000</AnnualRevenue><BankName>Guardian Bank</BankName><BusinessType>OS</BusinessType><YearOpened>1998</YearOpened><Specialty>Touring</Specialty><SquareFeet>76000</SquareFeet><Brands>4+</Brands><Internet>DSL</Internet><NumberEmployees>73</NumberEmployees></StoreSurvey></td><td>2014-09-12</td><td>Immense Manufacturing Company</td><td>277</td><td>f948f121-09c9-46d4-a783-63ead859a044</td></tr><tr><td>376</td><td><StoreSurvey xmlns=\"http://schemas.microsoft.com/sqlserver/2004/07/adventure-works/StoreSurvey\"><AnnualSales>3000000</AnnualSales><AnnualRevenue>300000</AnnualRevenue><BankName>International Security</BankName><BusinessType>OS</BusinessType><YearOpened>1990</YearOpened><Specialty>Mountain</Specialty><SquareFeet>73000</SquareFeet><Brands>4+</Brands><Internet>DSL</Internet><NumberEmployees>76</NumberEmployees></StoreSurvey></td><td>2014-09-12</td><td>Extended Bike Sales</td><td>276</td><td>9e550241-b6cb-4e95-96a2-f3bef46016df</td></tr><tr><td>378</td><td><StoreSurvey xmlns=\"http://schemas.microsoft.com/sqlserver/2004/07/adventure-works/StoreSurvey\"><AnnualSales>1500000</AnnualSales><AnnualRevenue>150000</AnnualRevenue><BankName>United Security</BankName><BusinessType>BS</BusinessType><YearOpened>1988</YearOpened><Specialty>Touring</Specialty><SquareFeet>36000</SquareFeet><Brands>4+</Brands><Internet>DSL</Internet><NumberEmployees>35</NumberEmployees></StoreSurvey></td><td>2014-09-12</td><td>Pedaling Components</td><td>288</td><td>24dd7af1-d347-44cb-96fa-14b9ce5c83a8</td></tr><tr><td>380</td><td><StoreSurvey xmlns=\"http://schemas.microsoft.com/sqlserver/2004/07/adventure-works/StoreSurvey\"><AnnualSales>1500000</AnnualSales><AnnualRevenue>150000</AnnualRevenue><BankName>International Bank</BankName><BusinessType>BS</BusinessType><YearOpened>1976</YearOpened><Specialty>Touring</Specialty><SquareFeet>39000</SquareFeet><Brands>4+</Brands><Internet>T1</Internet><NumberEmployees>36</NumberEmployees></StoreSurvey></td><td>2014-09-12</td><td>Workout Emporium</td><td>282</td><td>649db09e-3aa4-4275-880c-7853b3395e51</td></tr><tr><td>382</td><td><StoreSurvey xmlns=\"http://schemas.microsoft.com/sqlserver/2004/07/adventure-works/StoreSurvey\"><AnnualSales>800000</AnnualSales><AnnualRevenue>80000</AnnualRevenue><BankName>Primary Bank &amp; Reserve</BankName><BusinessType>BM</BusinessType><YearOpened>1976</YearOpened><Specialty>Road</Specialty><SquareFeet>22000</SquareFeet><Brands>4+</Brands><Internet>DSL</Internet><NumberEmployees>12</NumberEmployees></StoreSurvey></td><td>2014-09-12</td><td>Work and Play Association</td><td>275</td><td>e5353da7-cb02-4c26-acd3-1c42050d4bb9</td></tr><tr><td>384</td><td><StoreSurvey xmlns=\"http://schemas.microsoft.com/sqlserver/2004/07/adventure-works/StoreSurvey\"><AnnualSales>800000</AnnualSales><AnnualRevenue>80000</AnnualRevenue><BankName>International Security</BankName><BusinessType>BM</BusinessType><YearOpened>1970</YearOpened><Specialty>Touring</Specialty><SquareFeet>19000</SquareFeet><Brands>3</Brands><Internet>T1</Internet><NumberEmployees>10</NumberEmployees></StoreSurvey></td><td>2014-09-12</td><td>Seaside Bike Works</td><td>286</td><td>4c85c347-c9c0-4e6d-b290-19970f0adea0</td></tr><tr><td>386</td><td><StoreSurvey xmlns=\"http://schemas.microsoft.com/sqlserver/2004/07/adventure-works/StoreSurvey\"><AnnualSales>300000</AnnualSales><AnnualRevenue>30000</AnnualRevenue><BankName>Guardian Bank</BankName><BusinessType>BM</BusinessType><YearOpened>1975</YearOpened><Specialty>Road</Specialty><SquareFeet>9000</SquareFeet><Brands>4+</Brands><Internet>DSL</Internet><NumberEmployees>8</NumberEmployees></StoreSurvey></td><td>2014-09-12</td><td>Nice Bikes</td><td>278</td><td>9fa1609c-9a36-4282-bc80-a562332def1b</td></tr><tr><td>388</td><td><StoreSurvey xmlns=\"http://schemas.microsoft.com/sqlserver/2004/07/adventure-works/StoreSurvey\"><AnnualSales>800000</AnnualSales><AnnualRevenue>80000</AnnualRevenue><BankName>United Security</BankName><BusinessType>BS</BusinessType><YearOpened>1972</YearOpened><Specialty>Road</Specialty><SquareFeet>17000</SquareFeet><Brands>3</Brands><Internet>T2</Internet><NumberEmployees>10</NumberEmployees></StoreSurvey></td><td>2014-09-12</td><td>Remarkable Bike Store</td><td>276</td><td>f2dcd314-506d-47f1-8cd0-6017c40c96ab</td></tr><tr><td>390</td><td><StoreSurvey xmlns=\"http://schemas.microsoft.com/sqlserver/2004/07/adventure-works/StoreSurvey\"><AnnualSales>1000000</AnnualSales><AnnualRevenue>100000</AnnualRevenue><BankName>Reserve Security</BankName><BusinessType>BS</BusinessType><YearOpened>1998</YearOpened><Specialty>Mountain</Specialty><SquareFeet>26000</SquareFeet><Brands>3</Brands><Internet>DSL</Internet><NumberEmployees>27</NumberEmployees></StoreSurvey></td><td>2014-09-12</td><td>Road-Way Mart</td><td>283</td><td>b0a08902-2c39-4a50-86e5-86e98c7b2597</td></tr><tr><td>392</td><td><StoreSurvey xmlns=\"http://schemas.microsoft.com/sqlserver/2004/07/adventure-works/StoreSurvey\"><AnnualSales>1000000</AnnualSales><AnnualRevenue>100000</AnnualRevenue><BankName>United Security</BankName><BusinessType>BS</BusinessType><YearOpened>1971</YearOpened><Specialty>Road</Specialty><SquareFeet>25000</SquareFeet><Brands>3</Brands><Internet>T1</Internet><NumberEmployees>28</NumberEmployees></StoreSurvey></td><td>2014-09-12</td><td>Small Cycle Store</td><td>275</td><td>c1cdcf27-3fa6-4bf9-a5ca-baeefc8fb8e0</td></tr><tr><td>394</td><td><StoreSurvey xmlns=\"http://schemas.microsoft.com/sqlserver/2004/07/adventure-works/StoreSurvey\"><AnnualSales>300000</AnnualSales><AnnualRevenue>30000</AnnualRevenue><BankName>Primary International</BankName><BusinessType>BM</BusinessType><YearOpened>1970</YearOpened><Specialty>Touring</Specialty><SquareFeet>9000</SquareFeet><Brands>AW</Brands><Internet>T1</Internet><NumberEmployees>6</NumberEmployees></StoreSurvey></td><td>2014-09-12</td><td>Blue-Ribbon Bike Company</td><td>279</td><td>096b2c5d-14e5-4bda-94e1-3e5c01d906c4</td></tr><tr><td>396</td><td><StoreSurvey xmlns=\"http://schemas.microsoft.com/sqlserver/2004/07/adventure-works/StoreSurvey\"><AnnualSales>300000</AnnualSales><AnnualRevenue>30000</AnnualRevenue><BankName>Reserve Security</BankName><BusinessType>BM</BusinessType><YearOpened>1978</YearOpened><Specialty>Road</Specialty><SquareFeet>10000</SquareFeet><Brands>3</Brands><Internet>T2</Internet><NumberEmployees>4</NumberEmployees></StoreSurvey></td><td>2014-09-12</td><td>Flawless Bike Shop</td><td>276</td><td>71aea07e-95c4-4c44-a919-01b5008639d3</td></tr><tr><td>398</td><td><StoreSurvey xmlns=\"http://schemas.microsoft.com/sqlserver/2004/07/adventure-works/StoreSurvey\"><AnnualSales>300000</AnnualSales><AnnualRevenue>30000</AnnualRevenue><BankName>United Security</BankName><BusinessType>BM</BusinessType><YearOpened>1973</YearOpened><Specialty>Mountain</Specialty><SquareFeet>10000</SquareFeet><Brands>AW</Brands><Internet>ISDN</Internet><NumberEmployees>2</NumberEmployees></StoreSurvey></td><td>2014-09-12</td><td>Grand Bicycle Stores</td><td>277</td><td>6def5808-13ca-4784-9f4e-1a1ffb1905d9</td></tr><tr><td>400</td><td><StoreSurvey xmlns=\"http://schemas.microsoft.com/sqlserver/2004/07/adventure-works/StoreSurvey\"><AnnualSales>1500000</AnnualSales><AnnualRevenue>150000</AnnualRevenue><BankName>Guardian Bank</BankName><BusinessType>BS</BusinessType><YearOpened>1984</YearOpened><Specialty>Touring</Specialty><SquareFeet>38000</SquareFeet><Brands>4+</Brands><Internet>T1</Internet><NumberEmployees>32</NumberEmployees></StoreSurvey></td><td>2014-09-12</td><td>Exertion Activities Club</td><td>281</td><td>ac060b37-154b-4f3f-a06e-918b7ea75bb1</td></tr><tr><td>402</td><td><StoreSurvey xmlns=\"http://schemas.microsoft.com/sqlserver/2004/07/adventure-works/StoreSurvey\"><AnnualSales>1500000</AnnualSales><AnnualRevenue>150000</AnnualRevenue><BankName>Primary International</BankName><BusinessType>BS</BusinessType><YearOpened>1978</YearOpened><Specialty>Mountain</Specialty><SquareFeet>37000</SquareFeet><Brands>4+</Brands><Internet>ISDN</Internet><NumberEmployees>33</NumberEmployees></StoreSurvey></td><td>2014-09-12</td><td>Impromptu Trips</td><td>283</td><td>16255726-8647-401a-9de9-ab524a839804</td></tr><tr><td>404</td><td><StoreSurvey xmlns=\"http://schemas.microsoft.com/sqlserver/2004/07/adventure-works/StoreSurvey\"><AnnualSales>1500000</AnnualSales><AnnualRevenue>150000</AnnualRevenue><BankName>Reserve Security</BankName><BusinessType>BS</BusinessType><YearOpened>1972</YearOpened><Specialty>Mountain</Specialty><SquareFeet>35000</SquareFeet><Brands>2</Brands><Internet>T1</Internet><NumberEmployees>34</NumberEmployees></StoreSurvey></td><td>2014-09-12</td><td>Margie's Travel</td><td>275</td><td>9d71ff30-1bc5-4f0b-bd7b-3618b58634e9</td></tr><tr><td>406</td><td><StoreSurvey xmlns=\"http://schemas.microsoft.com/sqlserver/2004/07/adventure-works/StoreSurvey\"><AnnualSales>300000</AnnualSales><AnnualRevenue>30000</AnnualRevenue><BankName>International Bank</BankName><BusinessType>BM</BusinessType><YearOpened>1981</YearOpened><Specialty>Mountain</Specialty><SquareFeet>8000</SquareFeet><Brands>4+</Brands><Internet>T1</Internet><NumberEmployees>3</NumberEmployees></StoreSurvey></td><td>2014-09-12</td><td>Kickstand Sellers</td><td>275</td><td>f6f76f14-09d5-4b11-bad6-e3bff76ac761</td></tr><tr><td>408</td><td><StoreSurvey xmlns=\"http://schemas.microsoft.com/sqlserver/2004/07/adventure-works/StoreSurvey\"><AnnualSales>300000</AnnualSales><AnnualRevenue>30000</AnnualRevenue><BankName>Primary Bank &amp; Reserve</BankName><BusinessType>BM</BusinessType><YearOpened>1976</YearOpened><Specialty>Touring</Specialty><SquareFeet>8000</SquareFeet><Brands>4+</Brands><Internet>T1</Internet><NumberEmployees>4</NumberEmployees></StoreSurvey></td><td>2014-09-12</td><td>Nearest Bike Store</td><td>286</td><td>aac48ead-3e12-4431-89c4-964406a7a94d</td></tr><tr><td>410</td><td><StoreSurvey xmlns=\"http://schemas.microsoft.com/sqlserver/2004/07/adventure-works/StoreSurvey\"><AnnualSales>1000000</AnnualSales><AnnualRevenue>100000</AnnualRevenue><BankName>Primary International</BankName><BusinessType>BS</BusinessType><YearOpened>1971</YearOpened><Specialty>Touring</Specialty><SquareFeet>25000</SquareFeet><Brands>4+</Brands><Internet>DSL</Internet><NumberEmployees>28</NumberEmployees></StoreSurvey></td><td>2014-09-12</td><td>Fast Bike Works</td><td>286</td><td>d09c875e-114a-4d24-a68b-aed21ee23494</td></tr><tr><td>412</td><td><StoreSurvey xmlns=\"http://schemas.microsoft.com/sqlserver/2004/07/adventure-works/StoreSurvey\"><AnnualSales>1000000</AnnualSales><AnnualRevenue>100000</AnnualRevenue><BankName>Reserve Security</BankName><BusinessType>BS</BusinessType><YearOpened>2001</YearOpened><Specialty>Road</Specialty><SquareFeet>24000</SquareFeet><Brands>3</Brands><Internet>DSL</Internet><NumberEmployees>29</NumberEmployees></StoreSurvey></td><td>2014-09-12</td><td>Gasless Cycle Shop</td><td>278</td><td>824b931b-5f27-407c-81ad-00ff7bc886f1</td></tr><tr><td>414</td><td><StoreSurvey xmlns=\"http://schemas.microsoft.com/sqlserver/2004/07/adventure-works/StoreSurvey\"><AnnualSales>1500000</AnnualSales><AnnualRevenue>150000</AnnualRevenue><BankName>United Security</BankName><BusinessType>BS</BusinessType><YearOpened>1996</YearOpened><Specialty>Mountain</Specialty><SquareFeet>37000</SquareFeet><Brands>4+</Brands><Internet>DSL</Internet><NumberEmployees>30</NumberEmployees></StoreSurvey></td><td>2014-09-12</td><td>Lubricant and Grease Suppliers</td><td>279</td><td>4047a571-c602-4433-956c-c6af7366bf22</td></tr><tr><td>416</td><td><StoreSurvey xmlns=\"http://schemas.microsoft.com/sqlserver/2004/07/adventure-works/StoreSurvey\"><AnnualSales>800000</AnnualSales><AnnualRevenue>80000</AnnualRevenue><BankName>Reserve Security</BankName><BusinessType>BM</BusinessType><YearOpened>1994</YearOpened><Specialty>Mountain</Specialty><SquareFeet>18000</SquareFeet><Brands>3</Brands><Internet>DSL</Internet><NumberEmployees>16</NumberEmployees></StoreSurvey></td><td>2014-09-12</td><td>Teen Discount Store</td><td>288</td><td>a22c02a3-37c8-402a-932f-bc8dd75bea87</td></tr><tr><td>418</td><td><StoreSurvey xmlns=\"http://schemas.microsoft.com/sqlserver/2004/07/adventure-works/StoreSurvey\"><AnnualSales>800000</AnnualSales><AnnualRevenue>80000</AnnualRevenue><BankName>United Security</BankName><BusinessType>BM</BusinessType><YearOpened>1987</YearOpened><Specialty>Mountain</Specialty><SquareFeet>20000</SquareFeet><Brands>3</Brands><Internet>DSL</Internet><NumberEmployees>17</NumberEmployees></StoreSurvey></td><td>2014-09-12</td><td>Transportation Options</td><td>282</td><td>7cbea615-beca-44c6-8c74-cb1541faefa6</td></tr><tr><td>420</td><td><StoreSurvey xmlns=\"http://schemas.microsoft.com/sqlserver/2004/07/adventure-works/StoreSurvey\"><AnnualSales>1500000</AnnualSales><AnnualRevenue>150000</AnnualRevenue><BankName>Primary Bank &amp; Reserve</BankName><BusinessType>OS</BusinessType><YearOpened>1986</YearOpened><Specialty>Mountain</Specialty><SquareFeet>39000</SquareFeet><Brands>2</Brands><Internet>DSL</Internet><NumberEmployees>46</NumberEmployees></StoreSurvey></td><td>2014-09-12</td><td>Capital Riding Supplies</td><td>288</td><td>7ea9a2a5-753c-4df2-93f6-ab81f5a4c135</td></tr><tr><td>422</td><td><StoreSurvey xmlns=\"http://schemas.microsoft.com/sqlserver/2004/07/adventure-works/StoreSurvey\"><AnnualSales>1500000</AnnualSales><AnnualRevenue>150000</AnnualRevenue><BankName>International Bank</BankName><BusinessType>OS</BusinessType><YearOpened>1992</YearOpened><Specialty>Road</Specialty><SquareFeet>41000</SquareFeet><Brands>4+</Brands><Internet>ISDN</Internet><NumberEmployees>49</NumberEmployees></StoreSurvey></td><td>2014-09-12</td><td>Bike Boutique</td><td>275</td><td>81eda8db-5162-424f-ba36-6cb6770cd064</td></tr><tr><td>424</td><td><StoreSurvey xmlns=\"http://schemas.microsoft.com/sqlserver/2004/07/adventure-works/StoreSurvey\"><AnnualSales>1000000</AnnualSales><AnnualRevenue>100000</AnnualRevenue><BankName>International Security</BankName><BusinessType>BS</BusinessType><YearOpened>1996</YearOpened><Specialty>Touring</Specialty><SquareFeet>27000</SquareFeet><Brands>3</Brands><Internet>DSL</Internet><NumberEmployees>22</NumberEmployees></StoreSurvey></td><td>2014-09-12</td><td>Bikes Anyone?</td><td>275</td><td>6368f18b-afcf-4008-9611-99458c02c985</td></tr><tr><td>426</td><td><StoreSurvey xmlns=\"http://schemas.microsoft.com/sqlserver/2004/07/adventure-works/StoreSurvey\"><AnnualSales>800000</AnnualSales><AnnualRevenue>80000</AnnualRevenue><BankName>Guardian Bank</BankName><BusinessType>BS</BusinessType><YearOpened>1990</YearOpened><Specialty>Road</Specialty><SquareFeet>23000</SquareFeet><Brands>2</Brands><Internet>T1</Internet><NumberEmployees>19</NumberEmployees></StoreSurvey></td><td>2014-09-12</td><td>Cross-town Parts Shop</td><td>286</td><td>dfed9777-d43c-497d-86d4-14407e43c535</td></tr><tr><td>428</td><td><StoreSurvey xmlns=\"http://schemas.microsoft.com/sqlserver/2004/07/adventure-works/StoreSurvey\"><AnnualSales>800000</AnnualSales><AnnualRevenue>80000</AnnualRevenue><BankName>Primary International</BankName><BusinessType>BS</BusinessType><YearOpened>1984</YearOpened><Specialty>Mountain</Specialty><SquareFeet>20000</SquareFeet><Brands>4+</Brands><Internet>ISDN</Internet><NumberEmployees>16</NumberEmployees></StoreSurvey></td><td>2014-09-12</td><td>Finer Cycle Shop</td><td>278</td><td>52b4d514-b45e-4bf6-821b-f972b738d732</td></tr><tr><td>430</td><td><StoreSurvey xmlns=\"http://schemas.microsoft.com/sqlserver/2004/07/adventure-works/StoreSurvey\"><AnnualSales>1000000</AnnualSales><AnnualRevenue>100000</AnnualRevenue><BankName>Primary Bank &amp; Reserve</BankName><BusinessType>BM</BusinessType><YearOpened>2000</YearOpened><Specialty>Road</Specialty><SquareFeet>25000</SquareFeet><Brands>4+</Brands><Internet>T1</Internet><NumberEmployees>20</NumberEmployees></StoreSurvey></td><td>2014-09-12</td><td>Center Cycle Shop</td><td>280</td><td>8e153f0c-275c-42ca-98df-adefb90ab587</td></tr><tr><td>432</td><td><StoreSurvey xmlns=\"http://schemas.microsoft.com/sqlserver/2004/07/adventure-works/StoreSurvey\"><AnnualSales>800000</AnnualSales><AnnualRevenue>80000</AnnualRevenue><BankName>International Security</BankName><BusinessType>BM</BusinessType><YearOpened>2000</YearOpened><Specialty>Road</Specialty><SquareFeet>21000</SquareFeet><Brands>3</Brands><Internet>DSL</Internet><NumberEmployees>17</NumberEmployees></StoreSurvey></td><td>2014-09-12</td><td>Bulk Discount Store</td><td>289</td><td>e26b0754-871a-49ad-a21b-5e58d7e804ed</td></tr><tr><td>434</td><td><StoreSurvey xmlns=\"http://schemas.microsoft.com/sqlserver/2004/07/adventure-works/StoreSurvey\"><AnnualSales>800000</AnnualSales><AnnualRevenue>80000</AnnualRevenue><BankName>Guardian Bank</BankName><BusinessType>BM</BusinessType><YearOpened>1994</YearOpened><Specialty>Road</Specialty><SquareFeet>21000</SquareFeet><Brands>4+</Brands><Internet>DSL</Internet><NumberEmployees>14</NumberEmployees></StoreSurvey></td><td>2014-09-12</td><td>Country Parts Shop</td><td>290</td><td>9b88e8ed-c244-484d-8c4f-89f59570ebea</td></tr><tr><td>436</td><td><StoreSurvey xmlns=\"http://schemas.microsoft.com/sqlserver/2004/07/adventure-works/StoreSurvey\"><AnnualSales>800000</AnnualSales><AnnualRevenue>80000</AnnualRevenue><BankName>Guardian Bank</BankName><BusinessType>BM</BusinessType><YearOpened>2000</YearOpened><Specialty>Road</Specialty><SquareFeet>21000</SquareFeet><Brands>4+</Brands><Internet>T1</Internet><NumberEmployees>19</NumberEmployees></StoreSurvey></td><td>2014-09-12</td><td>Second Bike Shop</td><td>286</td><td>20838797-ec33-4328-bdc0-99190729be4a</td></tr><tr><td>438</td><td><StoreSurvey xmlns=\"http://schemas.microsoft.com/sqlserver/2004/07/adventure-works/StoreSurvey\"><AnnualSales>1000000</AnnualSales><AnnualRevenue>100000</AnnualRevenue><BankName>Primary International</BankName><BusinessType>BM</BusinessType><YearOpened>2000</YearOpened><Specialty>Road</Specialty><SquareFeet>26000</SquareFeet><Brands>3</Brands><Internet>T1</Internet><NumberEmployees>20</NumberEmployees></StoreSurvey></td><td>2014-09-12</td><td>First-Rate Outlet</td><td>278</td><td>7642e78c-f447-4f9d-b8cb-e6bb467db663</td></tr><tr><td>440</td><td><StoreSurvey xmlns=\"http://schemas.microsoft.com/sqlserver/2004/07/adventure-works/StoreSurvey\"><AnnualSales>800000</AnnualSales><AnnualRevenue>80000</AnnualRevenue><BankName>Reserve Security</BankName><BusinessType>BM</BusinessType><YearOpened>1994</YearOpened><Specialty>Mountain</Specialty><SquareFeet>20000</SquareFeet><Brands>2</Brands><Internet>DSL</Internet><NumberEmployees>18</NumberEmployees></StoreSurvey></td><td>2014-09-12</td><td>Juvenile Sports Equipment</td><td>279</td><td>74b38bf4-113c-42ec-8e72-7e4b35e5bc55</td></tr><tr><td>442</td><td><StoreSurvey xmlns=\"http://schemas.microsoft.com/sqlserver/2004/07/adventure-works/StoreSurvey\"><AnnualSales>300000</AnnualSales><AnnualRevenue>30000</AnnualRevenue><BankName>Reserve Security</BankName><BusinessType>BM</BusinessType><YearOpened>1973</YearOpened><Specialty>Touring</Specialty><SquareFeet>6000</SquareFeet><Brands>AW</Brands><Internet>DSL</Internet><NumberEmployees>2</NumberEmployees></StoreSurvey></td><td>2014-09-12</td><td>Another Bicycle Company</td><td>283</td><td>4280c0d5-6765-4add-a679-f341d27c0ecf</td></tr><tr><td>444</td><td><StoreSurvey xmlns=\"http://schemas.microsoft.com/sqlserver/2004/07/adventure-works/StoreSurvey\"><AnnualSales>300000</AnnualSales><AnnualRevenue>30000</AnnualRevenue><BankName>United Security</BankName><BusinessType>BM</BusinessType><YearOpened>1981</YearOpened><Specialty>Touring</Specialty><SquareFeet>9000</SquareFeet><Brands>AW</Brands><Internet>T1</Internet><NumberEmployees>3</NumberEmployees></StoreSurvey></td><td>2014-09-12</td><td>Fourth Bike Store</td><td>275</td><td>e8623c2d-ccbf-497a-8147-6574abe11b19</td></tr><tr><td>446</td><td><StoreSurvey xmlns=\"http://schemas.microsoft.com/sqlserver/2004/07/adventure-works/StoreSurvey\"><AnnualSales>300000</AnnualSales><AnnualRevenue>30000</AnnualRevenue><BankName>International Bank</BankName><BusinessType>BM</BusinessType><YearOpened>1976</YearOpened><Specialty>Mountain</Specialty><SquareFeet>7000</SquareFeet><Brands>4+</Brands><Internet>DSL</Internet><NumberEmployees>4</NumberEmployees></StoreSurvey></td><td>2014-09-12</td><td>Rodeway Bike Store</td><td>288</td><td>4f971590-8c1f-4b22-808e-5917b6fab7ec</td></tr><tr><td>448</td><td><StoreSurvey xmlns=\"http://schemas.microsoft.com/sqlserver/2004/07/adventure-works/StoreSurvey\"><AnnualSales>1500000</AnnualSales><AnnualRevenue>150000</AnnualRevenue><BankName>International Bank</BankName><BusinessType>BS</BusinessType><YearOpened>1990</YearOpened><Specialty>Mountain</Specialty><SquareFeet>39000</SquareFeet><Brands>2</Brands><Internet>DSL</Internet><NumberEmployees>31</NumberEmployees></StoreSurvey></td><td>2014-09-12</td><td>Traction Tire Company</td><td>276</td><td>6324fad5-6bc4-4715-85bc-a86c49e527f8</td></tr><tr><td>450</td><td><StoreSurvey xmlns=\"http://schemas.microsoft.com/sqlserver/2004/07/adventure-works/StoreSurvey\"><AnnualSales>1500000</AnnualSales><AnnualRevenue>150000</AnnualRevenue><BankName>Primary Bank &amp; Reserve</BankName><BusinessType>BS</BusinessType><YearOpened>1984</YearOpened><Specialty>Touring</Specialty><SquareFeet>39000</SquareFeet><Brands>3</Brands><Internet>DSL</Internet><NumberEmployees>32</NumberEmployees></StoreSurvey></td><td>2014-09-12</td><td>Unsurpassed Bikes</td><td>277</td><td>9bc34c8e-3856-4197-8013-f5e6c7aedb48</td></tr><tr><td>452</td><td><StoreSurvey xmlns=\"http://schemas.microsoft.com/sqlserver/2004/07/adventure-works/StoreSurvey\"><AnnualSales>1500000</AnnualSales><AnnualRevenue>150000</AnnualRevenue><BankName>International Security</BankName><BusinessType>BS</BusinessType><YearOpened>1978</YearOpened><Specialty>Road</Specialty><SquareFeet>35000</SquareFeet><Brands>4+</Brands><Internet>DSL</Internet><NumberEmployees>33</NumberEmployees></StoreSurvey></td><td>2014-09-12</td><td>Field Trip Inc</td><td>275</td><td>5276b793-128a-49f0-b822-d338c6b92fdc</td></tr><tr><td>454</td><td><StoreSurvey xmlns=\"http://schemas.microsoft.com/sqlserver/2004/07/adventure-works/StoreSurvey\"><AnnualSales>1500000</AnnualSales><AnnualRevenue>150000</AnnualRevenue><BankName>International Bank</BankName><BusinessType>BS</BusinessType><YearOpened>1983</YearOpened><Specialty>Road</Specialty><SquareFeet>37000</SquareFeet><Brands>2</Brands><Internet>DSL</Internet><NumberEmployees>45</NumberEmployees></StoreSurvey></td><td>2014-09-12</td><td>Tire Company</td><td>275</td><td>f875272b-6629-4832-9e45-f3e8e6dd8963</td></tr><tr><td>456</td><td><StoreSurvey xmlns=\"http://schemas.microsoft.com/sqlserver/2004/07/adventure-works/StoreSurvey\"><AnnualSales>1500000</AnnualSales><AnnualRevenue>150000</AnnualRevenue><BankName>Primary Bank &amp; Reserve</BankName><BusinessType>BS</BusinessType><YearOpened>1991</YearOpened><Specialty>Touring</Specialty><SquareFeet>39000</SquareFeet><Brands>4+</Brands><Internet>DSL</Internet><NumberEmployees>46</NumberEmployees></StoreSurvey></td><td>2014-09-12</td><td>Uncompromising Quality Co</td><td>286</td><td>058f1615-0267-4b7c-8e53-96101059cade</td></tr><tr><td>458</td><td><StoreSurvey xmlns=\"http://schemas.microsoft.com/sqlserver/2004/07/adventure-works/StoreSurvey\"><AnnualSales>1000000</AnnualSales><AnnualRevenue>100000</AnnualRevenue><BankName>Primary Bank &amp; Reserve</BankName><BusinessType>BS</BusinessType><YearOpened>1971</YearOpened><Specialty>Road</Specialty><SquareFeet>26000</SquareFeet><Brands>3</Brands><Internet>DSL</Internet><NumberEmployees>28</NumberEmployees></StoreSurvey></td><td>2014-09-12</td><td>Metallic Paint and Overcoat Co</td><td>281</td><td>e06866f7-c659-4952-a1ec-d2b42f80613a</td></tr><tr><td>460</td><td><StoreSurvey xmlns=\"http://schemas.microsoft.com/sqlserver/2004/07/adventure-works/StoreSurvey\"><AnnualSales>3000000</AnnualSales><AnnualRevenue>300000</AnnualRevenue><BankName>Primary International</BankName><BusinessType>OS</BusinessType><YearOpened>1972</YearOpened><Specialty>Mountain</Specialty><SquareFeet>79000</SquareFeet><Brands>4+</Brands><Internet>DSL</Internet><NumberEmployees>90</NumberEmployees></StoreSurvey></td><td>2014-09-12</td><td>Pro Sporting Goods</td><td>276</td><td>5a1ee7a6-2fd6-45c8-9b0d-41991049cdea</td></tr><tr><td>462</td><td><StoreSurvey xmlns=\"http://schemas.microsoft.com/sqlserver/2004/07/adventure-works/StoreSurvey\"><AnnualSales>3000000</AnnualSales><AnnualRevenue>300000</AnnualRevenue><BankName>Guardian Bank</BankName><BusinessType>OS</BusinessType><YearOpened>1977</YearOpened><Specialty>Road</Specialty><SquareFeet>78000</SquareFeet><Brands>3</Brands><Internet>DSL</Internet><NumberEmployees>91</NumberEmployees></StoreSurvey></td><td>2014-09-12</td><td>Sporting Goods and Bicycle Shop</td><td>279</td><td>93d4a3a7-d111-4113-859e-5b253dd9d943</td></tr><tr><td>464</td><td><StoreSurvey xmlns=\"http://schemas.microsoft.com/sqlserver/2004/07/adventure-works/StoreSurvey\"><AnnualSales>3000000</AnnualSales><AnnualRevenue>300000</AnnualRevenue><BankName>International Security</BankName><BusinessType>OS</BusinessType><YearOpened>1987</YearOpened><Specialty>Touring</Specialty><SquareFeet>76000</SquareFeet><Brands>4+</Brands><Internet>DSL</Internet><NumberEmployees>92</NumberEmployees></StoreSurvey></td><td>2014-09-12</td><td>Odometers and Accessories Company</td><td>278</td><td>47e77224-11e5-4ab9-bc23-cd122f9c281d</td></tr><tr><td>466</td><td><StoreSurvey xmlns=\"http://schemas.microsoft.com/sqlserver/2004/07/adventure-works/StoreSurvey\"><AnnualSales>800000</AnnualSales><AnnualRevenue>80000</AnnualRevenue><BankName>Guardian Bank</BankName><BusinessType>BS</BusinessType><YearOpened>1984</YearOpened><Specialty>Mountain</Specialty><SquareFeet>21000</SquareFeet><Brands>4+</Brands><Internet>DSL</Internet><NumberEmployees>16</NumberEmployees></StoreSurvey></td><td>2014-09-12</td><td>Scratch-Resistant Finishes Company</td><td>282</td><td>5f85023b-d708-4d44-b1a2-927a21c4cbbb</td></tr><tr><td>468</td><td><StoreSurvey xmlns=\"http://schemas.microsoft.com/sqlserver/2004/07/adventure-works/StoreSurvey\"><AnnualSales>800000</AnnualSales><AnnualRevenue>80000</AnnualRevenue><BankName>Primary International</BankName><BusinessType>BS</BusinessType><YearOpened>1978</YearOpened><Specialty>Mountain</Specialty><SquareFeet>22000</SquareFeet><Brands>2</Brands><Internet>T3</Internet><NumberEmployees>13</NumberEmployees></StoreSurvey></td><td>2014-09-12</td><td>Topnotch Bikes</td><td>279</td><td>69a76a96-12fc-4b67-9655-c578e6b02933</td></tr><tr><td>470</td><td><StoreSurvey xmlns=\"http://schemas.microsoft.com/sqlserver/2004/07/adventure-works/StoreSurvey\"><AnnualSales>800000</AnnualSales><AnnualRevenue>80000</AnnualRevenue><BankName>Reserve Security</BankName><BusinessType>BS</BusinessType><YearOpened>1972</YearOpened><Specialty>Touring</Specialty><SquareFeet>17000</SquareFeet><Brands>4+</Brands><Internet>T1</Internet><NumberEmployees>10</NumberEmployees></StoreSurvey></td><td>2014-09-12</td><td>Unicycles, Bicycles, and Tricycles</td><td>281</td><td>58f17106-c637-44ce-b352-164e1ad7c41d</td></tr><tr><td>472</td><td><StoreSurvey xmlns=\"http://schemas.microsoft.com/sqlserver/2004/07/adventure-works/StoreSurvey\"><AnnualSales>3000000</AnnualSales><AnnualRevenue>300000</AnnualRevenue><BankName>International Security</BankName><BusinessType>OS</BusinessType><YearOpened>1998</YearOpened><Specialty>Mountain</Specialty><SquareFeet>72000</SquareFeet><Brands>4+</Brands><Internet>DSL</Internet><NumberEmployees>73</NumberEmployees></StoreSurvey></td><td>2014-09-12</td><td>Safe Cycles Shop</td><td>283</td><td>828d8f6d-95c6-4fdc-9888-45672fec0e11</td></tr><tr><td>474</td><td><StoreSurvey xmlns=\"http://schemas.microsoft.com/sqlserver/2004/07/adventure-works/StoreSurvey\"><AnnualSales>3000000</AnnualSales><AnnualRevenue>300000</AnnualRevenue><BankName>Primary Bank &amp; Reserve</BankName><BusinessType>OS</BusinessType><YearOpened>1990</YearOpened><Specialty>Road</Specialty><SquareFeet>75000</SquareFeet><Brands>4+</Brands><Internet>ISDN</Internet><NumberEmployees>76</NumberEmployees></StoreSurvey></td><td>2014-09-12</td><td>Number 1 Supply</td><td>281</td><td>a4d7720a-57dd-4084-bfc6-b49cd3367ffe</td></tr><tr><td>476</td><td><StoreSurvey xmlns=\"http://schemas.microsoft.com/sqlserver/2004/07/adventure-works/StoreSurvey\"><AnnualSales>3000000</AnnualSales><AnnualRevenue>300000</AnnualRevenue><BankName>International Bank</BankName><BusinessType>OS</BusinessType><YearOpened>1995</YearOpened><Specialty>Touring</Specialty><SquareFeet>73000</SquareFeet><Brands>3</Brands><Internet>DSL</Internet><NumberEmployees>79</NumberEmployees></StoreSurvey></td><td>2014-09-12</td><td>Industrial Supplies</td><td>279</td><td>706a4161-4e67-41e1-a31b-2be9fbf864f3</td></tr><tr><td>478</td><td><StoreSurvey xmlns=\"http://schemas.microsoft.com/sqlserver/2004/07/adventure-works/StoreSurvey\"><AnnualSales>3000000</AnnualSales><AnnualRevenue>300000</AnnualRevenue><BankName>Guardian Bank</BankName><BusinessType>OS</BusinessType><YearOpened>1978</YearOpened><Specialty>Mountain</Specialty><SquareFeet>75000</SquareFeet><Brands>2</Brands><Internet>DSL</Internet><NumberEmployees>86</NumberEmployees></StoreSurvey></td><td>2014-09-12</td><td>Golf and Cycle Store</td><td>281</td><td>68c1f86e-f581-4aea-afa4-b0c03eaf1f13</td></tr><tr><td>480</td><td><StoreSurvey xmlns=\"http://schemas.microsoft.com/sqlserver/2004/07/adventure-works/StoreSurvey\"><AnnualSales>3000000</AnnualSales><AnnualRevenue>300000</AnnualRevenue><BankName>International Security</BankName><BusinessType>OS</BusinessType><YearOpened>1983</YearOpened><Specialty>Touring</Specialty><SquareFeet>77000</SquareFeet><Brands>4+</Brands><Internet>DSL</Internet><NumberEmployees>87</NumberEmployees></StoreSurvey></td><td>2014-09-12</td><td>Front Runner Bikes</td><td>279</td><td>0e549387-9dc1-4f37-89af-34faaeb7cfaf</td></tr><tr><td>482</td><td><StoreSurvey xmlns=\"http://schemas.microsoft.com/sqlserver/2004/07/adventure-works/StoreSurvey\"><AnnualSales>3000000</AnnualSales><AnnualRevenue>300000</AnnualRevenue><BankName>Primary Bank &amp; Reserve</BankName><BusinessType>OS</BusinessType><YearOpened>1975</YearOpened><Specialty>Touring</Specialty><SquareFeet>77000</SquareFeet><Brands>4+</Brands><Internet>DSL</Internet><NumberEmployees>88</NumberEmployees></StoreSurvey></td><td>2014-09-12</td><td>Favorite Toy Distributor</td><td>290</td><td>d4352e50-aa19-434c-a515-694e42b3c4bf</td></tr><tr><td>484</td><td><StoreSurvey xmlns=\"http://schemas.microsoft.com/sqlserver/2004/07/adventure-works/StoreSurvey\"><AnnualSales>1500000</AnnualSales><AnnualRevenue>150000</AnnualRevenue><BankName>Guardian Bank</BankName><BusinessType>BS</BusinessType><YearOpened>1979</YearOpened><Specialty>Road</Specialty><SquareFeet>39000</SquareFeet><Brands>4+</Brands><Internet>DSL</Internet><NumberEmployees>38</NumberEmployees></StoreSurvey></td><td>2014-09-12</td><td>World Bike Discount Store</td><td>276</td><td>e73e6b44-3824-4c98-a7b1-796f1f1e0de8</td></tr><tr><td>486</td><td><StoreSurvey xmlns=\"http://schemas.microsoft.com/sqlserver/2004/07/adventure-works/StoreSurvey\"><AnnualSales>1500000</AnnualSales><AnnualRevenue>150000</AnnualRevenue><BankName>Primary International</BankName><BusinessType>BS</BusinessType><YearOpened>1974</YearOpened><Specialty>Road</Specialty><SquareFeet>36000</SquareFeet><Brands>3</Brands><Internet>DSL</Internet><NumberEmployees>39</NumberEmployees></StoreSurvey></td><td>2014-09-12</td><td>Global Sporting Goods</td><td>277</td><td>df54deb4-58d4-4d01-9288-3f4a14f346b5</td></tr><tr><td>488</td><td><StoreSurvey xmlns=\"http://schemas.microsoft.com/sqlserver/2004/07/adventure-works/StoreSurvey\"><AnnualSales>1500000</AnnualSales><AnnualRevenue>150000</AnnualRevenue><BankName>Reserve Security</BankName><BusinessType>BS</BusinessType><YearOpened>1982</YearOpened><Specialty>Mountain</Specialty><SquareFeet>38000</SquareFeet><Brands>2</Brands><Internet>T1</Internet><NumberEmployees>40</NumberEmployees></StoreSurvey></td><td>2014-09-12</td><td>Historic Bicycle Sales</td><td>275</td><td>ef4de775-b406-45c4-a6dd-9b0b4815fdbf</td></tr><tr><td>490</td><td><StoreSurvey xmlns=\"http://schemas.microsoft.com/sqlserver/2004/07/adventure-works/StoreSurvey\"><AnnualSales>800000</AnnualSales><AnnualRevenue>80000</AnnualRevenue><BankName>Reserve Security</BankName><BusinessType>BM</BusinessType><YearOpened>1987</YearOpened><Specialty>Touring</Specialty><SquareFeet>22000</SquareFeet><Brands>4+</Brands><Internet>T1</Internet><NumberEmployees>17</NumberEmployees></StoreSurvey></td><td>2014-09-12</td><td>Commuter Bicycle Store</td><td>282</td><td>326d145a-2c37-4f02-aa83-350132148316</td></tr><tr><td>492</td><td><StoreSurvey xmlns=\"http://schemas.microsoft.com/sqlserver/2004/07/adventure-works/StoreSurvey\"><AnnualSales>800000</AnnualSales><AnnualRevenue>80000</AnnualRevenue><BankName>United Security</BankName><BusinessType>BM</BusinessType><YearOpened>1997</YearOpened><Specialty>Mountain</Specialty><SquareFeet>23000</SquareFeet><Brands>2</Brands><Internet>DSL</Internet><NumberEmployees>18</NumberEmployees></StoreSurvey></td><td>2014-09-12</td><td>Coalition Bike Company</td><td>281</td><td>137fea4b-320d-4676-a548-8efcf1f6b36b</td></tr><tr><td>494</td><td><StoreSurvey xmlns=\"http://schemas.microsoft.com/sqlserver/2004/07/adventure-works/StoreSurvey\"><AnnualSales>800000</AnnualSales><AnnualRevenue>80000</AnnualRevenue><BankName>International Bank</BankName><BusinessType>BM</BusinessType><YearOpened>1975</YearOpened><Specialty>Road</Specialty><SquareFeet>21000</SquareFeet><Brands>4+</Brands><Internet>T2</Internet><NumberEmployees>19</NumberEmployees></StoreSurvey></td><td>2014-09-12</td><td>Travel Systems</td><td>277</td><td>18203555-d7ae-4da4-a9fc-316d73435120</td></tr><tr><td>496</td><td><StoreSurvey xmlns=\"http://schemas.microsoft.com/sqlserver/2004/07/adventure-works/StoreSurvey\"><AnnualSales>1500000</AnnualSales><AnnualRevenue>150000</AnnualRevenue><BankName>Primary Bank &amp; Reserve</BankName><BusinessType>BS</BusinessType><YearOpened>1979</YearOpened><Specialty>Road</Specialty><SquareFeet>36000</SquareFeet><Brands>4+</Brands><Internet>T2</Internet><NumberEmployees>38</NumberEmployees></StoreSurvey></td><td>2014-09-12</td><td>Grease and Oil Products Company</td><td>277</td><td>458ad954-8f14-43b4-be03-b994cac60358</td></tr><tr><td>498</td><td><StoreSurvey xmlns=\"http://schemas.microsoft.com/sqlserver/2004/07/adventure-works/StoreSurvey\"><AnnualSales>1500000</AnnualSales><AnnualRevenue>150000</AnnualRevenue><BankName>International Security</BankName><BusinessType>BS</BusinessType><YearOpened>1974</YearOpened><Specialty>Mountain</Specialty><SquareFeet>39000</SquareFeet><Brands>2</Brands><Internet>DSL</Internet><NumberEmployees>39</NumberEmployees></StoreSurvey></td><td>2014-09-12</td><td>Moderately-Priced Bikes Store</td><td>280</td><td>05fd9119-a72e-4042-b2ce-cb512247db27</td></tr><tr><td>500</td><td><StoreSurvey xmlns=\"http://schemas.microsoft.com/sqlserver/2004/07/adventure-works/StoreSurvey\"><AnnualSales>1500000</AnnualSales><AnnualRevenue>150000</AnnualRevenue><BankName>Guardian Bank</BankName><BusinessType>BS</BusinessType><YearOpened>1977</YearOpened><Specialty>Road</Specialty><SquareFeet>40000</SquareFeet><Brands>4+</Brands><Internet>DSL</Internet><NumberEmployees>41</NumberEmployees></StoreSurvey></td><td>2014-09-12</td><td>Toy Manufacturing Inc</td><td>278</td><td>4984efd9-0788-450a-a4ac-019899744287</td></tr><tr><td>502</td><td><StoreSurvey xmlns=\"http://schemas.microsoft.com/sqlserver/2004/07/adventure-works/StoreSurvey\"><AnnualSales>1500000</AnnualSales><AnnualRevenue>150000</AnnualRevenue><BankName>Primary International</BankName><BusinessType>BS</BusinessType><YearOpened>1985</YearOpened><Specialty>Road</Specialty><SquareFeet>37000</SquareFeet><Brands>4+</Brands><Internet>T1</Internet><NumberEmployees>42</NumberEmployees></StoreSurvey></td><td>2014-09-12</td><td>Eighty Toy Stores</td><td>279</td><td>9664e5a8-7584-410b-b610-ad49368d670e</td></tr><tr><td>504</td><td><StoreSurvey xmlns=\"http://schemas.microsoft.com/sqlserver/2004/07/adventure-works/StoreSurvey\"><AnnualSales>1500000</AnnualSales><AnnualRevenue>150000</AnnualRevenue><BankName>Reserve Security</BankName><BusinessType>BS</BusinessType><YearOpened>1980</YearOpened><Specialty>Mountain</Specialty><SquareFeet>41000</SquareFeet><Brands>4+</Brands><Internet>DSL</Internet><NumberEmployees>43</NumberEmployees></StoreSurvey></td><td>2014-09-12</td><td>Economy Bikes Company</td><td>276</td><td>ab32ce06-f2af-4b8a-889a-cfc4db6b150a</td></tr><tr><td>506</td><td><StoreSurvey xmlns=\"http://schemas.microsoft.com/sqlserver/2004/07/adventure-works/StoreSurvey\"><AnnualSales>1500000</AnnualSales><AnnualRevenue>150000</AnnualRevenue><BankName>United Security</BankName><BusinessType>BS</BusinessType><YearOpened>1988</YearOpened><Specialty>Road</Specialty><SquareFeet>37000</SquareFeet><Brands>4+</Brands><Internet>T1</Internet><NumberEmployees>44</NumberEmployees></StoreSurvey></td><td>2014-09-12</td><td>Third Bike Store</td><td>277</td><td>a7048720-5bdd-4df4-8685-d14d868ae297</td></tr><tr><td>508</td><td><StoreSurvey xmlns=\"http://schemas.microsoft.com/sqlserver/2004/07/adventure-works/StoreSurvey\"><AnnualSales>1000000</AnnualSales><AnnualRevenue>100000</AnnualRevenue><BankName>Reserve Security</BankName><BusinessType>BM</BusinessType><YearOpened>2000</YearOpened><Specialty>Road</Specialty><SquareFeet>25000</SquareFeet><Brands>3</Brands><Internet>DSL</Internet><NumberEmployees>20</NumberEmployees></StoreSurvey></td><td>2014-09-12</td><td>Atypical Bike Company</td><td>290</td><td>fc920a3a-8bae-403d-99ce-542bf8923fbd</td></tr><tr><td>510</td><td><StoreSurvey xmlns=\"http://schemas.microsoft.com/sqlserver/2004/07/adventure-works/StoreSurvey\"><AnnualSales>800000</AnnualSales><AnnualRevenue>80000</AnnualRevenue><BankName>United Security</BankName><BusinessType>BM</BusinessType><YearOpened>1994</YearOpened><Specialty>Mountain</Specialty><SquareFeet>22000</SquareFeet><Brands>3</Brands><Internet>T1</Internet><NumberEmployees>18</NumberEmployees></StoreSurvey></td><td>2014-09-12</td><td>Bikes for Two</td><td>282</td><td>da5280d3-2e15-4359-a493-c036c0a84ec4</td></tr><tr><td>512</td><td><StoreSurvey xmlns=\"http://schemas.microsoft.com/sqlserver/2004/07/adventure-works/StoreSurvey\"><AnnualSales>1500000</AnnualSales><AnnualRevenue>150000</AnnualRevenue><BankName>International Security</BankName><BusinessType>BS</BusinessType><YearOpened>1986</YearOpened><Specialty>Road</Specialty><SquareFeet>39000</SquareFeet><Brands>4+</Brands><Internet>DSL</Internet><NumberEmployees>47</NumberEmployees></StoreSurvey></td><td>2014-09-12</td><td>Metal Processing Company</td><td>278</td><td>e71200e7-e3b5-4a40-bad9-88364de28030</td></tr><tr><td>514</td><td><StoreSurvey xmlns=\"http://schemas.microsoft.com/sqlserver/2004/07/adventure-works/StoreSurvey\"><AnnualSales>1500000</AnnualSales><AnnualRevenue>150000</AnnualRevenue><BankName>Guardian Bank</BankName><BusinessType>BS</BusinessType><YearOpened>1994</YearOpened><Specialty>Road</Specialty><SquareFeet>38000</SquareFeet><Brands>3</Brands><Internet>DSL</Internet><NumberEmployees>48</NumberEmployees></StoreSurvey></td><td>2014-09-12</td><td>Widget Bicycle Specialists</td><td>279</td><td>5a49a2fe-09cc-46a7-95f5-e81f346477bb</td></tr><tr><td>516</td><td><StoreSurvey xmlns=\"http://schemas.microsoft.com/sqlserver/2004/07/adventure-works/StoreSurvey\"><AnnualSales>800000</AnnualSales><AnnualRevenue>80000</AnnualRevenue><BankName>International Security</BankName><BusinessType>BM</BusinessType><YearOpened>1996</YearOpened><Specialty>Mountain</Specialty><SquareFeet>19000</SquareFeet><Brands>4+</Brands><Internet>DSL</Internet><NumberEmployees>13</NumberEmployees></StoreSurvey></td><td>2014-09-12</td><td>Initial Bike Company</td><td>281</td><td>0adcf413-2501-4dcb-bb86-01ce9f6d92be</td></tr><tr><td>518</td><td><StoreSurvey xmlns=\"http://schemas.microsoft.com/sqlserver/2004/07/adventure-works/StoreSurvey\"><AnnualSales>800000</AnnualSales><AnnualRevenue>80000</AnnualRevenue><BankName>Guardian Bank</BankName><BusinessType>BM</BusinessType><YearOpened>1991</YearOpened><Specialty>Mountain</Specialty><SquareFeet>18000</SquareFeet><Brands>4+</Brands><Internet>T1</Internet><NumberEmployees>14</NumberEmployees></StoreSurvey></td><td>2014-09-12</td><td>Latest Sports Equipment</td><td>283</td><td>afc82a28-1a27-4899-a413-1b4d32a2df11</td></tr><tr><td>520</td><td><StoreSurvey xmlns=\"http://schemas.microsoft.com/sqlserver/2004/07/adventure-works/StoreSurvey\"><AnnualSales>800000</AnnualSales><AnnualRevenue>80000</AnnualRevenue><BankName>Primary International</BankName><BusinessType>BM</BusinessType><YearOpened>1999</YearOpened><Specialty>Road</Specialty><SquareFeet>21000</SquareFeet><Brands>4+</Brands><Internet>T1</Internet><NumberEmployees>15</NumberEmployees></StoreSurvey></td><td>2014-09-12</td><td>Modern Bike Store</td><td>275</td><td>a7008459-efe5-459d-95d9-80f5e5b44132</td></tr><tr><td>522</td><td><StoreSurvey xmlns=\"http://schemas.microsoft.com/sqlserver/2004/07/adventure-works/StoreSurvey\"><AnnualSales>3000000</AnnualSales><AnnualRevenue>300000</AnnualRevenue><BankName>Primary Bank &amp; Reserve</BankName><BusinessType>OS</BusinessType><YearOpened>1998</YearOpened><Specialty>Mountain</Specialty><SquareFeet>74000</SquareFeet><Brands>4+</Brands><Internet>ISDN</Internet><NumberEmployees>73</NumberEmployees></StoreSurvey></td><td>2014-09-12</td><td>Raw Materials Inc</td><td>280</td><td>4575f698-2fa1-409c-866f-0d688251499a</td></tr><tr><td>524</td><td><StoreSurvey xmlns=\"http://schemas.microsoft.com/sqlserver/2004/07/adventure-works/StoreSurvey\"><AnnualSales>3000000</AnnualSales><AnnualRevenue>300000</AnnualRevenue><BankName>International Bank</BankName><BusinessType>OS</BusinessType><YearOpened>1990</YearOpened><Specialty>Mountain</Specialty><SquareFeet>73000</SquareFeet><Brands>2</Brands><Internet>T1</Internet><NumberEmployees>76</NumberEmployees></StoreSurvey></td><td>2014-09-12</td><td>Lots of Bikes Storehouse</td><td>277</td><td>91d541e3-6bc1-4921-bc6a-2c13eb3f7c02</td></tr><tr><td>526</td><td><StoreSurvey xmlns=\"http://schemas.microsoft.com/sqlserver/2004/07/adventure-works/StoreSurvey\"><AnnualSales>3000000</AnnualSales><AnnualRevenue>300000</AnnualRevenue><BankName>United Security</BankName><BusinessType>OS</BusinessType><YearOpened>1995</YearOpened><Specialty>Mountain</Specialty><SquareFeet>77000</SquareFeet><Brands>2</Brands><Internet>DSL</Internet><NumberEmployees>79</NumberEmployees></StoreSurvey></td><td>2014-09-12</td><td>Futuristic Bikes</td><td>281</td><td>41dfd0ba-e78e-4456-95ef-3595d32d7ca1</td></tr><tr><td>528</td><td><StoreSurvey xmlns=\"http://schemas.microsoft.com/sqlserver/2004/07/adventure-works/StoreSurvey\"><AnnualSales>1500000</AnnualSales><AnnualRevenue>150000</AnnualRevenue><BankName>United Security</BankName><BusinessType>BS</BusinessType><YearOpened>1979</YearOpened><Specialty>Road</Specialty><SquareFeet>36000</SquareFeet><Brands>4+</Brands><Internet>DSL</Internet><NumberEmployees>38</NumberEmployees></StoreSurvey></td><td>2014-09-12</td><td>Parcel Express Delivery Service</td><td>283</td><td>a4daaaf3-0d24-491d-bd6f-3d0413a38f2d</td></tr><tr><td>530</td><td><StoreSurvey xmlns=\"http://schemas.microsoft.com/sqlserver/2004/07/adventure-works/StoreSurvey\"><AnnualSales>1500000</AnnualSales><AnnualRevenue>150000</AnnualRevenue><BankName>International Bank</BankName><BusinessType>BS</BusinessType><YearOpened>1974</YearOpened><Specialty>Mountain</Specialty><SquareFeet>36000</SquareFeet><Brands>3</Brands><Internet>DSL</Internet><NumberEmployees>39</NumberEmployees></StoreSurvey></td><td>2014-09-12</td><td>Outdoor Distributors</td><td>275</td><td>b7004ace-63fa-4cab-8057-8456750c2dc0</td></tr><tr><td>532</td><td><StoreSurvey xmlns=\"http://schemas.microsoft.com/sqlserver/2004/07/adventure-works/StoreSurvey\"><AnnualSales>1500000</AnnualSales><AnnualRevenue>150000</AnnualRevenue><BankName>Primary Bank &amp; Reserve</BankName><BusinessType>BS</BusinessType><YearOpened>1982</YearOpened><Specialty>Road</Specialty><SquareFeet>37000</SquareFeet><Brands>4+</Brands><Internet>T1</Internet><NumberEmployees>40</NumberEmployees></StoreSurvey></td><td>2014-09-12</td><td>North Bike Company</td><td>288</td><td>dca8e739-f0fe-490f-990b-2b116d82c77d</td></tr><tr><td>534</td><td><StoreSurvey xmlns=\"http://schemas.microsoft.com/sqlserver/2004/07/adventure-works/StoreSurvey\"><AnnualSales>3000000</AnnualSales><AnnualRevenue>300000</AnnualRevenue><BankName>Guardian Bank</BankName><BusinessType>OS</BusinessType><YearOpened>1999</YearOpened><Specialty>Road</Specialty><SquareFeet>79000</SquareFeet><Brands>4+</Brands><Internet>T1</Internet><NumberEmployees>99</NumberEmployees></StoreSurvey></td><td>2014-09-12</td><td>Prosperous Tours</td><td>289</td><td>a0ee7b0a-7741-4f37-bdec-8d2206467fce</td></tr><tr><td>536</td><td><StoreSurvey xmlns=\"http://schemas.microsoft.com/sqlserver/2004/07/adventure-works/StoreSurvey\"><AnnualSales>3000000</AnnualSales><AnnualRevenue>300000</AnnualRevenue><BankName>International Security</BankName><BusinessType>OS</BusinessType><YearOpened>1999</YearOpened><Specialty>Mountain</Specialty><SquareFeet>80000</SquareFeet><Brands>3</Brands><Internet>T2</Internet><NumberEmployees>100</NumberEmployees></StoreSurvey></td><td>2014-09-12</td><td>Nonskid Tire Company</td><td>280</td><td>0e90c627-a250-4dba-b891-b259dbe2ca6b</td></tr><tr><td>538</td><td><StoreSurvey xmlns=\"http://schemas.microsoft.com/sqlserver/2004/07/adventure-works/StoreSurvey\"><AnnualSales>3000000</AnnualSales><AnnualRevenue>300000</AnnualRevenue><BankName>Primary Bank &amp; Reserve</BankName><BusinessType>OS</BusinessType><YearOpened>1999</YearOpened><Specialty>Touring</Specialty><SquareFeet>77000</SquareFeet><Brands>4+</Brands><Internet>T3</Internet><NumberEmployees>99</NumberEmployees></StoreSurvey></td><td>2014-09-12</td><td>Amalgamated Parts Shop</td><td>288</td><td>0ce11724-2b7f-4490-94a4-7175f97d6d7f</td></tr><tr><td>540</td><td><StoreSurvey xmlns=\"http://schemas.microsoft.com/sqlserver/2004/07/adventure-works/StoreSurvey\"><AnnualSales>3000000</AnnualSales><AnnualRevenue>300000</AnnualRevenue><BankName>International Bank</BankName><BusinessType>OS</BusinessType><YearOpened>1999</YearOpened><Specialty>Mountain</Specialty><SquareFeet>77000</SquareFeet><Brands>4+</Brands><Internet>DSL</Internet><NumberEmployees>100</NumberEmployees></StoreSurvey></td><td>2014-09-12</td><td>Metro Bike Works</td><td>275</td><td>b555436d-e4be-4352-8144-5064a4d62964</td></tr><tr><td>542</td><td><StoreSurvey xmlns=\"http://schemas.microsoft.com/sqlserver/2004/07/adventure-works/StoreSurvey\"><AnnualSales>800000</AnnualSales><AnnualRevenue>80000</AnnualRevenue><BankName>Primary International</BankName><BusinessType>BS</BusinessType><YearOpened>1972</YearOpened><Specialty>Touring</Specialty><SquareFeet>19000</SquareFeet><Brands>3</Brands><Internet>DSL</Internet><NumberEmployees>10</NumberEmployees></StoreSurvey></td><td>2014-09-12</td><td>Best o' Bikes</td><td>277</td><td>73dcb69b-0b2e-492a-a8ed-852969c26787</td></tr><tr><td>544</td><td><StoreSurvey xmlns=\"http://schemas.microsoft.com/sqlserver/2004/07/adventure-works/StoreSurvey\"><AnnualSales>1000000</AnnualSales><AnnualRevenue>100000</AnnualRevenue><BankName>Guardian Bank</BankName><BusinessType>BS</BusinessType><YearOpened>1998</YearOpened><Specialty>Road</Specialty><SquareFeet>24000</SquareFeet><Brands>3</Brands><Internet>DSL</Internet><NumberEmployees>27</NumberEmployees></StoreSurvey></td><td>2014-09-12</td><td>Painters Bicycle Specialists</td><td>275</td><td>88edc59c-1196-425a-8e7e-2286bf95a214</td></tr><tr><td>546</td><td><StoreSurvey xmlns=\"http://schemas.microsoft.com/sqlserver/2004/07/adventure-works/StoreSurvey\"><AnnualSales>1000000</AnnualSales><AnnualRevenue>100000</AnnualRevenue><BankName>Guardian Bank</BankName><BusinessType>BM</BusinessType><YearOpened>2000</YearOpened><Specialty>Mountain</Specialty><SquareFeet>24000</SquareFeet><Brands>2</Brands><Internet>DSL</Internet><NumberEmployees>20</NumberEmployees></StoreSurvey></td><td>2014-09-12</td><td>Client Discount Store</td><td>277</td><td>c7615b39-9562-48dd-a81b-107914a3dd1f</td></tr><tr><td>548</td><td><StoreSurvey xmlns=\"http://schemas.microsoft.com/sqlserver/2004/07/adventure-works/StoreSurvey\"><AnnualSales>800000</AnnualSales><AnnualRevenue>80000</AnnualRevenue><BankName>Primary International</BankName><BusinessType>BM</BusinessType><YearOpened>2000</YearOpened><Specialty>Road</Specialty><SquareFeet>19000</SquareFeet><Brands>AW</Brands><Internet>T1</Internet><NumberEmployees>17</NumberEmployees></StoreSurvey></td><td>2014-09-12</td><td>Eastside Sporting Goods</td><td>275</td><td>03189c8f-84cc-4207-92d4-4da26efdbb17</td></tr><tr><td>550</td><td><StoreSurvey xmlns=\"http://schemas.microsoft.com/sqlserver/2004/07/adventure-works/StoreSurvey\"><AnnualSales>800000</AnnualSales><AnnualRevenue>80000</AnnualRevenue><BankName>Reserve Security</BankName><BusinessType>BM</BusinessType><YearOpened>1994</YearOpened><Specialty>Touring</Specialty><SquareFeet>21000</SquareFeet><Brands>4+</Brands><Internet>ISDN</Internet><NumberEmployees>14</NumberEmployees></StoreSurvey></td><td>2014-09-12</td><td>Helmets and Cycles</td><td>286</td><td>0ea0a15a-a2cd-4f25-a833-b31cae39e783</td></tr><tr><td>552</td><td><StoreSurvey xmlns=\"http://schemas.microsoft.com/sqlserver/2004/07/adventure-works/StoreSurvey\"><AnnualSales>1500000</AnnualSales><AnnualRevenue>150000</AnnualRevenue><BankName>Guardian Bank</BankName><BusinessType>BS</BusinessType><YearOpened>1988</YearOpened><Specialty>Road</Specialty><SquareFeet>39000</SquareFeet><Brands>3</Brands><Internet>DSL</Internet><NumberEmployees>35</NumberEmployees></StoreSurvey></td><td>2014-09-12</td><td>Requisite Part Supply</td><td>282</td><td>10e20a63-73cf-4a80-a678-3d829c108d43</td></tr><tr><td>554</td><td><StoreSurvey xmlns=\"http://schemas.microsoft.com/sqlserver/2004/07/adventure-works/StoreSurvey\"><AnnualSales>1500000</AnnualSales><AnnualRevenue>150000</AnnualRevenue><BankName>Primary International</BankName><BusinessType>BS</BusinessType><YearOpened>1976</YearOpened><Specialty>Touring</Specialty><SquareFeet>39000</SquareFeet><Brands>3</Brands><Internet>DSL</Internet><NumberEmployees>36</NumberEmployees></StoreSurvey></td><td>2014-09-12</td><td>Racks and Security Systems</td><td>279</td><td>4a3c505a-c5ae-4061-b376-67415efcecbb</td></tr><tr><td>556</td><td><StoreSurvey xmlns=\"http://schemas.microsoft.com/sqlserver/2004/07/adventure-works/StoreSurvey\"><AnnualSales>1500000</AnnualSales><AnnualRevenue>150000</AnnualRevenue><BankName>Reserve Security</BankName><BusinessType>BS</BusinessType><YearOpened>1971</YearOpened><Specialty>Road</Specialty><SquareFeet>38000</SquareFeet><Brands>4+</Brands><Internet>DSL</Internet><NumberEmployees>37</NumberEmployees></StoreSurvey></td><td>2014-09-12</td><td>Mechanical Products Ltd.</td><td>281</td><td>caad1f0f-e7d6-47e6-a124-788b1a9426f7</td></tr><tr><td>558</td><td><StoreSurvey xmlns=\"http://schemas.microsoft.com/sqlserver/2004/07/adventure-works/StoreSurvey\"><AnnualSales>1500000</AnnualSales><AnnualRevenue>150000</AnnualRevenue><BankName>Guardian Bank</BankName><BusinessType>BS</BusinessType><YearOpened>1974</YearOpened><Specialty>Road</Specialty><SquareFeet>37000</SquareFeet><Brands>4+</Brands><Internet>DSL</Internet><NumberEmployees>39</NumberEmployees></StoreSurvey></td><td>2014-09-12</td><td>Commendable Bikes</td><td>283</td><td>eb847e4a-b183-4385-8de1-57c39d4d3304</td></tr><tr><td>560</td><td><StoreSurvey xmlns=\"http://schemas.microsoft.com/sqlserver/2004/07/adventure-works/StoreSurvey\"><AnnualSales>1500000</AnnualSales><AnnualRevenue>150000</AnnualRevenue><BankName>Primary International</BankName><BusinessType>BS</BusinessType><YearOpened>1982</YearOpened><Specialty>Mountain</Specialty><SquareFeet>39000</SquareFeet><Brands>2</Brands><Internet>DSL</Internet><NumberEmployees>40</NumberEmployees></StoreSurvey></td><td>2014-09-12</td><td>Online Bike Sellers</td><td>275</td><td>35ebf652-e9fc-490c-902d-304e4d112ed9</td></tr><tr><td>562</td><td><StoreSurvey xmlns=\"http://schemas.microsoft.com/sqlserver/2004/07/adventure-works/StoreSurvey\"><AnnualSales>3000000</AnnualSales><AnnualRevenue>300000</AnnualRevenue><BankName>Guardian Bank</BankName><BusinessType>OS</BusinessType><YearOpened>1998</YearOpened><Specialty>Road</Specialty><SquareFeet>79000</SquareFeet><Brands>4+</Brands><Internet>DSL</Internet><NumberEmployees>98</NumberEmployees></StoreSurvey></td><td>2014-09-12</td><td>Custom Accessories Company</td><td>278</td><td>77bbddb3-3fc7-4be6-9f90-18083f0ddaf8</td></tr><tr><td>564</td><td><StoreSurvey xmlns=\"http://schemas.microsoft.com/sqlserver/2004/07/adventure-works/StoreSurvey\"><AnnualSales>3000000</AnnualSales><AnnualRevenue>300000</AnnualRevenue><BankName>International Security</BankName><BusinessType>OS</BusinessType><YearOpened>1999</YearOpened><Specialty>Touring</Specialty><SquareFeet>78000</SquareFeet><Brands>4+</Brands><Internet>DSL</Internet><NumberEmployees>99</NumberEmployees></StoreSurvey></td><td>2014-09-12</td><td>Unusual Bicycle Company</td><td>286</td><td>c7b796a1-f605-4236-b784-1d1a2c3f2b7e</td></tr><tr><td>566</td><td><StoreSurvey xmlns=\"http://schemas.microsoft.com/sqlserver/2004/07/adventure-works/StoreSurvey\"><AnnualSales>300000</AnnualSales><AnnualRevenue>30000</AnnualRevenue><BankName>International Security</BankName><BusinessType>BM</BusinessType><YearOpened>1982</YearOpened><Specialty>Touring</Specialty><SquareFeet>10000</SquareFeet><Brands>2</Brands><Internet>DSL</Internet><NumberEmployees>8</NumberEmployees></StoreSurvey></td><td>2014-09-12</td><td>Courteous Bicycle Specialists</td><td>282</td><td>62032f02-08f9-4766-8fc2-9ead345aeec6</td></tr><tr><td>568</td><td><StoreSurvey xmlns=\"http://schemas.microsoft.com/sqlserver/2004/07/adventure-works/StoreSurvey\"><AnnualSales>300000</AnnualSales><AnnualRevenue>30000</AnnualRevenue><BankName>Guardian Bank</BankName><BusinessType>BM</BusinessType><YearOpened>1976</YearOpened><Specialty>Mountain</Specialty><SquareFeet>6000</SquareFeet><Brands>2</Brands><Internet>DSL</Internet><NumberEmployees>5</NumberEmployees></StoreSurvey></td><td>2014-09-12</td><td>Hobby Store</td><td>279</td><td>4d72976f-7a2f-499d-84ba-ea5fd79d0d14</td></tr><tr><td>570</td><td><StoreSurvey xmlns=\"http://schemas.microsoft.com/sqlserver/2004/07/adventure-works/StoreSurvey\"><AnnualSales>300000</AnnualSales><AnnualRevenue>30000</AnnualRevenue><BankName>Primary International</BankName><BusinessType>BM</BusinessType><YearOpened>1970</YearOpened><Specialty>Mountain</Specialty><SquareFeet>10000</SquareFeet><Brands>2</Brands><Internet>T1</Internet><NumberEmployees>2</NumberEmployees></StoreSurvey></td><td>2014-09-12</td><td>Professional Cycle Store</td><td>281</td><td>8c1f3e35-1a21-4ff8-8256-7433c6591d10</td></tr><tr><td>572</td><td><StoreSurvey xmlns=\"http://schemas.microsoft.com/sqlserver/2004/07/adventure-works/StoreSurvey\"><AnnualSales>1000000</AnnualSales><AnnualRevenue>100000</AnnualRevenue><BankName>United Security</BankName><BusinessType>BS</BusinessType><YearOpened>1971</YearOpened><Specialty>Mountain</Specialty><SquareFeet>28000</SquareFeet><Brands>4+</Brands><Internet>T2</Internet><NumberEmployees>28</NumberEmployees></StoreSurvey></td><td>2014-09-12</td><td>Bike Universe</td><td>281</td><td>5414845a-db08-45c9-8160-1762390db768</td></tr><tr><td>574</td><td><StoreSurvey xmlns=\"http://schemas.microsoft.com/sqlserver/2004/07/adventure-works/StoreSurvey\"><AnnualSales>1000000</AnnualSales><AnnualRevenue>100000</AnnualRevenue><BankName>International Bank</BankName><BusinessType>BS</BusinessType><YearOpened>2001</YearOpened><Specialty>Road</Specialty><SquareFeet>26000</SquareFeet><Brands>4+</Brands><Internet>DSL</Internet><NumberEmployees>25</NumberEmployees></StoreSurvey></td><td>2014-09-12</td><td>Fifth Bike Store</td><td>283</td><td>8db66e19-fc69-45b1-888b-63d253ed6a8f</td></tr><tr><td>576</td><td><StoreSurvey xmlns=\"http://schemas.microsoft.com/sqlserver/2004/07/adventure-works/StoreSurvey\"><AnnualSales>1000000</AnnualSales><AnnualRevenue>100000</AnnualRevenue><BankName>Primary Bank &amp; Reserve</BankName><BusinessType>BS</BusinessType><YearOpened>1996</YearOpened><Specialty>Road</Specialty><SquareFeet>25000</SquareFeet><Brands>3</Brands><Internet>DSL</Internet><NumberEmployees>22</NumberEmployees></StoreSurvey></td><td>2014-09-12</td><td>Independent Outlet</td><td>275</td><td>d888b41f-0f06-4e08-b871-b4fd6f9e22cf</td></tr><tr><td>578</td><td><StoreSurvey xmlns=\"http://schemas.microsoft.com/sqlserver/2004/07/adventure-works/StoreSurvey\"><AnnualSales>800000</AnnualSales><AnnualRevenue>80000</AnnualRevenue><BankName>International Security</BankName><BusinessType>BS</BusinessType><YearOpened>1990</YearOpened><Specialty>Touring</Specialty><SquareFeet>19000</SquareFeet><Brands>3</Brands><Internet>T3</Internet><NumberEmployees>19</NumberEmployees></StoreSurvey></td><td>2014-09-12</td><td>Rambling Tours</td><td>288</td><td>59763192-45a0-42f9-a4f2-8ecf595db261</td></tr><tr><td>580</td><td><StoreSurvey xmlns=\"http://schemas.microsoft.com/sqlserver/2004/07/adventure-works/StoreSurvey\"><AnnualSales>3000000</AnnualSales><AnnualRevenue>300000</AnnualRevenue><BankName>United Security</BankName><BusinessType>OS</BusinessType><YearOpened>1987</YearOpened><Specialty>Touring</Specialty><SquareFeet>74000</SquareFeet><Brands>4+</Brands><Internet>DSL</Internet><NumberEmployees>80</NumberEmployees></StoreSurvey></td><td>2014-09-12</td><td>Farthest Bike Store</td><td>282</td><td>0e3f4f5a-5dee-4b0a-a5a5-c524f74156ea</td></tr><tr><td>582</td><td><StoreSurvey xmlns=\"http://schemas.microsoft.com/sqlserver/2004/07/adventure-works/StoreSurvey\"><AnnualSales>3000000</AnnualSales><AnnualRevenue>300000</AnnualRevenue><BankName>Reserve Security</BankName><BusinessType>OS</BusinessType><YearOpened>1992</YearOpened><Specialty>Touring</Specialty><SquareFeet>75000</SquareFeet><Brands>2</Brands><Internet>DSL</Internet><NumberEmployees>81</NumberEmployees></StoreSurvey></td><td>2014-09-12</td><td>Excellent Bikes</td><td>288</td><td>cbc9be9e-5422-411c-b3ef-a301be4ae107</td></tr><tr><td>584</td><td><StoreSurvey xmlns=\"http://schemas.microsoft.com/sqlserver/2004/07/adventure-works/StoreSurvey\"><AnnualSales>3000000</AnnualSales><AnnualRevenue>300000</AnnualRevenue><BankName>Primary International</BankName><BusinessType>OS</BusinessType><YearOpened>1984</YearOpened><Specialty>Road</Specialty><SquareFeet>73000</SquareFeet><Brands>4+</Brands><Internet>DSL</Internet><NumberEmployees>82</NumberEmployees></StoreSurvey></td><td>2014-09-12</td><td>Curbside Universe</td><td>275</td><td>3c49dde5-c64c-4456-8b4a-aa9e1ecc9c2f</td></tr><tr><td>586</td><td><StoreSurvey xmlns=\"http://schemas.microsoft.com/sqlserver/2004/07/adventure-works/StoreSurvey\"><AnnualSales>1500000</AnnualSales><AnnualRevenue>150000</AnnualRevenue><BankName>Primary Bank &amp; Reserve</BankName><BusinessType>BS</BusinessType><YearOpened>1983</YearOpened><Specialty>Road</Specialty><SquareFeet>41000</SquareFeet><Brands>4+</Brands><Internet>T1</Internet><NumberEmployees>45</NumberEmployees></StoreSurvey></td><td>2014-09-12</td><td>Alternative Vehicles</td><td>280</td><td>a8c079a5-40cb-4707-b88d-25b0ffa42664</td></tr><tr><td>588</td><td><StoreSurvey xmlns=\"http://schemas.microsoft.com/sqlserver/2004/07/adventure-works/StoreSurvey\"><AnnualSales>1500000</AnnualSales><AnnualRevenue>150000</AnnualRevenue><BankName>International Security</BankName><BusinessType>BS</BusinessType><YearOpened>1991</YearOpened><Specialty>Touring</Specialty><SquareFeet>40000</SquareFeet><Brands>4+</Brands><Internet>DSL</Internet><NumberEmployees>46</NumberEmployees></StoreSurvey></td><td>2014-09-12</td><td>Channel Outlet</td><td>289</td><td>70703845-fb8a-40a5-974f-d54b46943647</td></tr><tr><td>590</td><td><StoreSurvey xmlns=\"http://schemas.microsoft.com/sqlserver/2004/07/adventure-works/StoreSurvey\"><AnnualSales>1500000</AnnualSales><AnnualRevenue>150000</AnnualRevenue><BankName>Guardian Bank</BankName><BusinessType>BS</BusinessType><YearOpened>1986</YearOpened><Specialty>Mountain</Specialty><SquareFeet>38000</SquareFeet><Brands>4+</Brands><Internet>DSL</Internet><NumberEmployees>47</NumberEmployees></StoreSurvey></td><td>2014-09-12</td><td>Full Sports Supply</td><td>290</td><td>8cff03dd-d8ec-4595-92c2-91b5e97957a3</td></tr><tr><td>592</td><td><StoreSurvey xmlns=\"http://schemas.microsoft.com/sqlserver/2004/07/adventure-works/StoreSurvey\"><AnnualSales>3000000</AnnualSales><AnnualRevenue>300000</AnnualRevenue><BankName>Primary International</BankName><BusinessType>OS</BusinessType><YearOpened>1977</YearOpened><Specialty>Road</Specialty><SquareFeet>79000</SquareFeet><Brands>4+</Brands><Internet>ISDN</Internet><NumberEmployees>91</NumberEmployees></StoreSurvey></td><td>2014-09-12</td><td>Retail Mall</td><td>282</td><td>7da72678-7f78-49f9-981d-29f073c024ce</td></tr><tr><td>594</td><td><StoreSurvey xmlns=\"http://schemas.microsoft.com/sqlserver/2004/07/adventure-works/StoreSurvey\"><AnnualSales>3000000</AnnualSales><AnnualRevenue>300000</AnnualRevenue><BankName>Guardian Bank</BankName><BusinessType>OS</BusinessType><YearOpened>1987</YearOpened><Specialty>Road</Specialty><SquareFeet>78000</SquareFeet><Brands>4+</Brands><Internet>DSL</Internet><NumberEmployees>92</NumberEmployees></StoreSurvey></td><td>2014-09-12</td><td>Racing Store</td><td>290</td><td>87eacf60-34f0-444a-8291-db255fe388d2</td></tr><tr><td>596</td><td><StoreSurvey xmlns=\"http://schemas.microsoft.com/sqlserver/2004/07/adventure-works/StoreSurvey\"><AnnualSales>3000000</AnnualSales><AnnualRevenue>300000</AnnualRevenue><BankName>International Security</BankName><BusinessType>OS</BusinessType><YearOpened>1974</YearOpened><Specialty>Touring</Specialty><SquareFeet>77000</SquareFeet><Brands>4+</Brands><Internet>DSL</Internet><NumberEmployees>93</NumberEmployees></StoreSurvey></td><td>2014-09-12</td><td>Metro Metals Co.</td><td>289</td><td>fa71e13b-b051-4f12-a280-f69ecd6af1db</td></tr><tr><td>598</td><td><StoreSurvey xmlns=\"http://schemas.microsoft.com/sqlserver/2004/07/adventure-works/StoreSurvey\"><AnnualSales>800000</AnnualSales><AnnualRevenue>80000</AnnualRevenue><BankName>International Security</BankName><BusinessType>BM</BusinessType><YearOpened>1997</YearOpened><Specialty>Road</Specialty><SquareFeet>19000</SquareFeet><Brands>3</Brands><Internet>T1</Internet><NumberEmployees>17</NumberEmployees></StoreSurvey></td><td>2014-09-12</td><td>Sheet Metal Manufacturing</td><td>277</td><td>a909c7ed-04a5-4138-ab83-c9e739aa28ae</td></tr><tr><td>600</td><td><StoreSurvey xmlns=\"http://schemas.microsoft.com/sqlserver/2004/07/adventure-works/StoreSurvey\"><AnnualSales>800000</AnnualSales><AnnualRevenue>80000</AnnualRevenue><BankName>Guardian Bank</BankName><BusinessType>BM</BusinessType><YearOpened>1975</YearOpened><Specialty>Road</Specialty><SquareFeet>22000</SquareFeet><Brands>2</Brands><Internet>T1</Internet><NumberEmployees>18</NumberEmployees></StoreSurvey></td><td>2014-09-12</td><td>Thorough Parts and Repair Services</td><td>280</td><td>6a32068c-6a79-43cf-a443-57841ed98990</td></tr><tr><td>602</td><td><StoreSurvey xmlns=\"http://schemas.microsoft.com/sqlserver/2004/07/adventure-works/StoreSurvey\"><AnnualSales>800000</AnnualSales><AnnualRevenue>80000</AnnualRevenue><BankName>Primary International</BankName><BusinessType>BM</BusinessType><YearOpened>2000</YearOpened><Specialty>Road</Specialty><SquareFeet>20000</SquareFeet><Brands>4+</Brands><Internet>DSL</Internet><NumberEmployees>19</NumberEmployees></StoreSurvey></td><td>2014-09-12</td><td>Uttermost Bike Shop</td><td>289</td><td>24f1c5f8-093a-426c-87ce-8fa9af9fac33</td></tr><tr><td>604</td><td><StoreSurvey xmlns=\"http://schemas.microsoft.com/sqlserver/2004/07/adventure-works/StoreSurvey\"><AnnualSales>1500000</AnnualSales><AnnualRevenue>150000</AnnualRevenue><BankName>International Security</BankName><BusinessType>BS</BusinessType><YearOpened>1995</YearOpened><Specialty>Road</Specialty><SquareFeet>40000</SquareFeet><Brands>3</Brands><Internet>DSL</Internet><NumberEmployees>40</NumberEmployees></StoreSurvey></td><td>2014-09-12</td><td>Mechanical Sports Center</td><td>275</td><td>739999fe-97eb-4f89-ba26-a34771d9af65</td></tr><tr><td>606</td><td><StoreSurvey xmlns=\"http://schemas.microsoft.com/sqlserver/2004/07/adventure-works/StoreSurvey\"><AnnualSales>1500000</AnnualSales><AnnualRevenue>150000</AnnualRevenue><BankName>Guardian Bank</BankName><BusinessType>BS</BusinessType><YearOpened>1995</YearOpened><Specialty>Road</Specialty><SquareFeet>39000</SquareFeet><Brands>3</Brands><Internet>DSL</Internet><NumberEmployees>37</NumberEmployees></StoreSurvey></td><td>2014-09-12</td><td>Speedometer Sales</td><td>288</td><td>56c01043-10b4-487e-8d55-48c1268bce1d</td></tr><tr><td>608</td><td><StoreSurvey xmlns=\"http://schemas.microsoft.com/sqlserver/2004/07/adventure-works/StoreSurvey\"><AnnualSales>1500000</AnnualSales><AnnualRevenue>150000</AnnualRevenue><BankName>Primary International</BankName><BusinessType>BS</BusinessType><YearOpened>1983</YearOpened><Specialty>Mountain</Specialty><SquareFeet>38000</SquareFeet><Brands>4+</Brands><Internet>DSL</Internet><NumberEmployees>34</NumberEmployees></StoreSurvey></td><td>2014-09-12</td><td>Two-Wheeled Transit Company</td><td>282</td><td>d03c1cea-5d48-4dd1-98d6-87d06c1f33a1</td></tr><tr><td>610</td><td><StoreSurvey xmlns=\"http://schemas.microsoft.com/sqlserver/2004/07/adventure-works/StoreSurvey\"><AnnualSales>1500000</AnnualSales><AnnualRevenue>150000</AnnualRevenue><BankName>Reserve Security</BankName><BusinessType>BS</BusinessType><YearOpened>1998</YearOpened><Specialty>Mountain</Specialty><SquareFeet>37000</SquareFeet><Brands>4+</Brands><Internet>T1</Internet><NumberEmployees>31</NumberEmployees></StoreSurvey></td><td>2014-09-12</td><td>Mountain Emporium</td><td>279</td><td>3b74778c-9e53-47d0-83ef-6438b9b77427</td></tr><tr><td>612</td><td><StoreSurvey xmlns=\"http://schemas.microsoft.com/sqlserver/2004/07/adventure-works/StoreSurvey\"><AnnualSales>3000000</AnnualSales><AnnualRevenue>300000</AnnualRevenue><BankName>Guardian Bank</BankName><BusinessType>OS</BusinessType><YearOpened>1989</YearOpened><Specialty>Mountain</Specialty><SquareFeet>74000</SquareFeet><Brands>3</Brands><Internet>T1</Internet><NumberEmployees>83</NumberEmployees></StoreSurvey></td><td>2014-09-12</td><td>Metro Cycle Shop</td><td>283</td><td>43be0e08-95b3-4cfe-b5fe-7c9a7270ffba</td></tr><tr><td>614</td><td><StoreSurvey xmlns=\"http://schemas.microsoft.com/sqlserver/2004/07/adventure-works/StoreSurvey\"><AnnualSales>3000000</AnnualSales><AnnualRevenue>300000</AnnualRevenue><BankName>International Security</BankName><BusinessType>OS</BusinessType><YearOpened>1981</YearOpened><Specialty>Touring</Specialty><SquareFeet>74000</SquareFeet><Brands>3</Brands><Internet>ISDN</Internet><NumberEmployees>84</NumberEmployees></StoreSurvey></td><td>2014-09-12</td><td>Outdoor Sporting Goods</td><td>281</td><td>689b5679-a37f-40c9-9f90-e4ce21785e20</td></tr><tr><td>616</td><td><StoreSurvey xmlns=\"http://schemas.microsoft.com/sqlserver/2004/07/adventure-works/StoreSurvey\"><AnnualSales>3000000</AnnualSales><AnnualRevenue>300000</AnnualRevenue><BankName>Primary Bank &amp; Reserve</BankName><BusinessType>OS</BusinessType><YearOpened>1986</YearOpened><Specialty>Mountain</Specialty><SquareFeet>77000</SquareFeet><Brands>4+</Brands><Internet>T1</Internet><NumberEmployees>85</NumberEmployees></StoreSurvey></td><td>2014-09-12</td><td>Tread Industries</td><td>279</td><td>3e476935-5369-472e-9a52-b58a8b985c34</td></tr><tr><td>618</td><td><StoreSurvey xmlns=\"http://schemas.microsoft.com/sqlserver/2004/07/adventure-works/StoreSurvey\"><AnnualSales>3000000</AnnualSales><AnnualRevenue>300000</AnnualRevenue><BankName>International Bank</BankName><BusinessType>OS</BusinessType><YearOpened>1978</YearOpened><Specialty>Touring</Specialty><SquareFeet>78000</SquareFeet><Brands>4+</Brands><Internet>DSL</Internet><NumberEmployees>86</NumberEmployees></StoreSurvey></td><td>2014-09-12</td><td>Petroleum Products Distributors</td><td>282</td><td>7d0c6ba8-2a0a-4663-b359-6b9606f5d652</td></tr><tr><td>620</td><td><StoreSurvey xmlns=\"http://schemas.microsoft.com/sqlserver/2004/07/adventure-works/StoreSurvey\"><AnnualSales>1500000</AnnualSales><AnnualRevenue>150000</AnnualRevenue><BankName>International Security</BankName><BusinessType>OS</BusinessType><YearOpened>1986</YearOpened><Specialty>Mountain</Specialty><SquareFeet>37000</SquareFeet><Brands>4+</Brands><Internet>DSL</Internet><NumberEmployees>46</NumberEmployees></StoreSurvey></td><td>2014-09-12</td><td>Tandem Bicycle Store</td><td>279</td><td>b6437d59-886a-4aa2-8463-62bbfb9e0c65</td></tr><tr><td>622</td><td><StoreSurvey xmlns=\"http://schemas.microsoft.com/sqlserver/2004/07/adventure-works/StoreSurvey\"><AnnualSales>1500000</AnnualSales><AnnualRevenue>150000</AnnualRevenue><BankName>Primary Bank &amp; Reserve</BankName><BusinessType>OS</BusinessType><YearOpened>1992</YearOpened><Specialty>Road</Specialty><SquareFeet>40000</SquareFeet><Brands>2</Brands><Internet>DSL</Internet><NumberEmployees>49</NumberEmployees></StoreSurvey></td><td>2014-09-12</td><td>Bikes and Motorbikes</td><td>278</td><td>bafcdf3f-29c8-43aa-8cf0-72943126c76c</td></tr><tr><td>624</td><td><StoreSurvey xmlns=\"http://schemas.microsoft.com/sqlserver/2004/07/adventure-works/StoreSurvey\"><AnnualSales>3000000</AnnualSales><AnnualRevenue>300000</AnnualRevenue><BankName>International Bank</BankName><BusinessType>OS</BusinessType><YearOpened>1998</YearOpened><Specialty>Mountain</Specialty><SquareFeet>71000</SquareFeet><Brands>4+</Brands><Internet>DSL</Internet><NumberEmployees>52</NumberEmployees></StoreSurvey></td><td>2014-09-12</td><td>Budget Toy Store</td><td>286</td><td>96e67a92-f1fc-4de6-9e7e-8745feb429bd</td></tr><tr><td>626</td><td><StoreSurvey xmlns=\"http://schemas.microsoft.com/sqlserver/2004/07/adventure-works/StoreSurvey\"><AnnualSales>3000000</AnnualSales><AnnualRevenue>300000</AnnualRevenue><BankName>Reserve Security</BankName><BusinessType>OS</BusinessType><YearOpened>1987</YearOpened><Specialty>Touring</Specialty><SquareFeet>77000</SquareFeet><Brands>4+</Brands><Internet>DSL</Internet><NumberEmployees>80</NumberEmployees></StoreSurvey></td><td>2014-09-12</td><td>Camping and Sports Store</td><td>282</td><td>50d6f597-0639-458f-8a28-7bf45551e116</td></tr><tr><td>628</td><td><StoreSurvey xmlns=\"http://schemas.microsoft.com/sqlserver/2004/07/adventure-works/StoreSurvey\"><AnnualSales>3000000</AnnualSales><AnnualRevenue>300000</AnnualRevenue><BankName>Primary International</BankName><BusinessType>OS</BusinessType><YearOpened>1992</YearOpened><Specialty>Mountain</Specialty><SquareFeet>73000</SquareFeet><Brands>3</Brands><Internet>T1</Internet><NumberEmployees>81</NumberEmployees></StoreSurvey></td><td>2014-09-12</td><td>Ace Bicycle Supply</td><td>290</td><td>25f54cc0-9d2a-4c75-a92d-c92290ea49c7</td></tr><tr><td>630</td><td><StoreSurvey xmlns=\"http://schemas.microsoft.com/sqlserver/2004/07/adventure-works/StoreSurvey\"><AnnualSales>1500000</AnnualSales><AnnualRevenue>150000</AnnualRevenue><BankName>United Security</BankName><BusinessType>BS</BusinessType><YearOpened>1990</YearOpened><Specialty>Touring</Specialty><SquareFeet>35000</SquareFeet><Brands>3</Brands><Internet>T1</Internet><NumberEmployees>31</NumberEmployees></StoreSurvey></td><td>2014-09-12</td><td>Rural Department Store</td><td>281</td><td>004ea91c-fcd4-4973-87ef-9059c6e20bb5</td></tr><tr><td>632</td><td><StoreSurvey xmlns=\"http://schemas.microsoft.com/sqlserver/2004/07/adventure-works/StoreSurvey\"><AnnualSales>1500000</AnnualSales><AnnualRevenue>150000</AnnualRevenue><BankName>International Bank</BankName><BusinessType>BS</BusinessType><YearOpened>1984</YearOpened><Specialty>Mountain</Specialty><SquareFeet>37000</SquareFeet><Brands>2</Brands><Internet>T1</Internet><NumberEmployees>32</NumberEmployees></StoreSurvey></td><td>2014-09-12</td><td>Sports Commodities</td><td>283</td><td>43106fac-7b87-4da1-9df8-cb286247f070</td></tr><tr><td>634</td><td><StoreSurvey xmlns=\"http://schemas.microsoft.com/sqlserver/2004/07/adventure-works/StoreSurvey\"><AnnualSales>1500000</AnnualSales><AnnualRevenue>150000</AnnualRevenue><BankName>Primary Bank &amp; Reserve</BankName><BusinessType>BS</BusinessType><YearOpened>1978</YearOpened><Specialty>Road</Specialty><SquareFeet>38000</SquareFeet><Brands>4+</Brands><Internet>DSL</Internet><NumberEmployees>33</NumberEmployees></StoreSurvey></td><td>2014-09-12</td><td>Riverside Company</td><td>275</td><td>c4db8c32-4f6d-426b-a9ac-e1221fbded9f</td></tr><tr><td>636</td><td><StoreSurvey xmlns=\"http://schemas.microsoft.com/sqlserver/2004/07/adventure-works/StoreSurvey\"><AnnualSales>1500000</AnnualSales><AnnualRevenue>150000</AnnualRevenue><BankName>International Security</BankName><BusinessType>BS</BusinessType><YearOpened>1972</YearOpened><Specialty>Touring</Specialty><SquareFeet>39000</SquareFeet><Brands>2</Brands><Internet>T2</Internet><NumberEmployees>34</NumberEmployees></StoreSurvey></td><td>2014-09-12</td><td>Bicycle Exporters</td><td>288</td><td>a6898ae5-ffa3-4b47-a0f7-f8bf151b72aa</td></tr><tr><td>638</td><td><StoreSurvey xmlns=\"http://schemas.microsoft.com/sqlserver/2004/07/adventure-works/StoreSurvey\"><AnnualSales>1500000</AnnualSales><AnnualRevenue>150000</AnnualRevenue><BankName>International Security</BankName><BusinessType>BS</BusinessType><YearOpened>1989</YearOpened><Specialty>Mountain</Specialty><SquareFeet>40000</SquareFeet><Brands>2</Brands><Internet>T1</Internet><NumberEmployees>49</NumberEmployees></StoreSurvey></td><td>2014-09-12</td><td>Responsible Bike Dealers</td><td>277</td><td>fe70ecfc-edbb-41ed-910d-8dd39c87e25d</td></tr><tr><td>640</td><td><StoreSurvey xmlns=\"http://schemas.microsoft.com/sqlserver/2004/07/adventure-works/StoreSurvey\"><AnnualSales>1500000</AnnualSales><AnnualRevenue>150000</AnnualRevenue><BankName>Primary Bank &amp; Reserve</BankName><BusinessType>BS</BusinessType><YearOpened>1994</YearOpened><Specialty>Road</Specialty><SquareFeet>38000</SquareFeet><Brands>3</Brands><Internet>T1</Internet><NumberEmployees>48</NumberEmployees></StoreSurvey></td><td>2014-09-12</td><td>Western Bike Supplies</td><td>281</td><td>4b1e8035-515e-4be1-84d9-a81ce67ee44f</td></tr><tr><td>642</td><td><StoreSurvey xmlns=\"http://schemas.microsoft.com/sqlserver/2004/07/adventure-works/StoreSurvey\"><AnnualSales>1500000</AnnualSales><AnnualRevenue>150000</AnnualRevenue><BankName>Primary International</BankName><BusinessType>OS</BusinessType><YearOpened>1974</YearOpened><Specialty>Road</Specialty><SquareFeet>38000</SquareFeet><Brands>3</Brands><Internet>DSL</Internet><NumberEmployees>40</NumberEmployees></StoreSurvey></td><td>2014-09-12</td><td>Advanced Bike Components</td><td>277</td><td>42bdf4b8-bff2-4a04-b0d3-ebb5896025ce</td></tr><tr><td>644</td><td><StoreSurvey xmlns=\"http://schemas.microsoft.com/sqlserver/2004/07/adventure-works/StoreSurvey\"><AnnualSales>1500000</AnnualSales><AnnualRevenue>150000</AnnualRevenue><BankName>Guardian Bank</BankName><BusinessType>OS</BusinessType><YearOpened>1980</YearOpened><Specialty>Road</Specialty><SquareFeet>40000</SquareFeet><Brands>3</Brands><Internet>DSL</Internet><NumberEmployees>43</NumberEmployees></StoreSurvey></td><td>2014-09-12</td><td>Aerobic Exercise Company</td><td>276</td><td>690b6d1f-f71e-4bb8-b87d-baeb505135ef</td></tr><tr><td>646</td><td><StoreSurvey xmlns=\"http://schemas.microsoft.com/sqlserver/2004/07/adventure-works/StoreSurvey\"><AnnualSales>800000</AnnualSales><AnnualRevenue>80000</AnnualRevenue><BankName>United Security</BankName><BusinessType>BM</BusinessType><YearOpened>1985</YearOpened><Specialty>Road</Specialty><SquareFeet>20000</SquareFeet><Brands>4+</Brands><Internet>T2</Internet><NumberEmployees>10</NumberEmployees></StoreSurvey></td><td>2014-09-12</td><td>Rural Sporting Goods</td><td>288</td><td>adb430fb-d23b-4a4c-9146-65193a80b9e0</td></tr><tr><td>648</td><td><StoreSurvey xmlns=\"http://schemas.microsoft.com/sqlserver/2004/07/adventure-works/StoreSurvey\"><AnnualSales>800000</AnnualSales><AnnualRevenue>80000</AnnualRevenue><BankName>International Bank</BankName><BusinessType>BM</BusinessType><YearOpened>1993</YearOpened><Specialty>Road</Specialty><SquareFeet>17000</SquareFeet><Brands>4+</Brands><Internet>DSL</Internet><NumberEmployees>11</NumberEmployees></StoreSurvey></td><td>2014-09-12</td><td>Corner Bicycle Supply</td><td>282</td><td>d899d5f5-48e6-4d2f-a13b-dbe0a43f251d</td></tr><tr><td>650</td><td><StoreSurvey xmlns=\"http://schemas.microsoft.com/sqlserver/2004/07/adventure-works/StoreSurvey\"><AnnualSales>800000</AnnualSales><AnnualRevenue>80000</AnnualRevenue><BankName>Primary Bank &amp; Reserve</BankName><BusinessType>BM</BusinessType><YearOpened>1988</YearOpened><Specialty>Road</Specialty><SquareFeet>20000</SquareFeet><Brands>2</Brands><Internet>DSL</Internet><NumberEmployees>12</NumberEmployees></StoreSurvey></td><td>2014-09-12</td><td>Distance Bikes</td><td>279</td><td>7a341a16-8c5b-4a18-84ab-9ef05241d721</td></tr><tr><td>652</td><td><StoreSurvey xmlns=\"http://schemas.microsoft.com/sqlserver/2004/07/adventure-works/StoreSurvey\"><AnnualSales>3000000</AnnualSales><AnnualRevenue>300000</AnnualRevenue><BankName>United Security</BankName><BusinessType>OS</BusinessType><YearOpened>1989</YearOpened><Specialty>Touring</Specialty><SquareFeet>74000</SquareFeet><Brands>3</Brands><Internet>DSL</Internet><NumberEmployees>83</NumberEmployees></StoreSurvey></td><td>2014-09-12</td><td>Westside Plaza</td><td>281</td><td>06abc249-ec49-45d1-b84e-98352ce995d7</td></tr><tr><td>654</td><td><StoreSurvey xmlns=\"http://schemas.microsoft.com/sqlserver/2004/07/adventure-works/StoreSurvey\"><AnnualSales>3000000</AnnualSales><AnnualRevenue>300000</AnnualRevenue><BankName>Reserve Security</BankName><BusinessType>OS</BusinessType><YearOpened>1981</YearOpened><Specialty>Mountain</Specialty><SquareFeet>78000</SquareFeet><Brands>4+</Brands><Internet>DSL</Internet><NumberEmployees>84</NumberEmployees></StoreSurvey></td><td>2014-09-12</td><td>Ultimate Bike Shop</td><td>279</td><td>d23b2b5f-d58a-4ade-a204-0082f50e32ba</td></tr><tr><td>656</td><td><StoreSurvey xmlns=\"http://schemas.microsoft.com/sqlserver/2004/07/adventure-works/StoreSurvey\"><AnnualSales>3000000</AnnualSales><AnnualRevenue>300000</AnnualRevenue><BankName>Primary International</BankName><BusinessType>OS</BusinessType><YearOpened>1986</YearOpened><Specialty>Touring</Specialty><SquareFeet>78000</SquareFeet><Brands>4+</Brands><Internet>ISDN</Internet><NumberEmployees>85</NumberEmployees></StoreSurvey></td><td>2014-09-12</td><td>Outstanding Cycles</td><td>283</td><td>039e021a-8084-4bf1-9e4f-51583ca75867</td></tr><tr><td>658</td><td><StoreSurvey xmlns=\"http://schemas.microsoft.com/sqlserver/2004/07/adventure-works/StoreSurvey\"><AnnualSales>3000000</AnnualSales><AnnualRevenue>300000</AnnualRevenue><BankName>Guardian Bank</BankName><BusinessType>OS</BusinessType><YearOpened>1984</YearOpened><Specialty>Road</Specialty><SquareFeet>73000</SquareFeet><Brands>4+</Brands><Internet>DSL</Internet><NumberEmployees>82</NumberEmployees></StoreSurvey></td><td>2014-09-12</td><td>Vigorous Sports Store</td><td>289</td><td>3fe5afd2-fe6a-4b66-8ba9-e7cc25e0e9c4</td></tr><tr><td>660</td><td><StoreSurvey xmlns=\"http://schemas.microsoft.com/sqlserver/2004/07/adventure-works/StoreSurvey\"><AnnualSales>3000000</AnnualSales><AnnualRevenue>300000</AnnualRevenue><BankName>International Security</BankName><BusinessType>OS</BusinessType><YearOpened>1989</YearOpened><Specialty>Touring</Specialty><SquareFeet>73000</SquareFeet><Brands>4+</Brands><Internet>DSL</Internet><NumberEmployees>83</NumberEmployees></StoreSurvey></td><td>2014-09-12</td><td>Sports Merchandise</td><td>280</td><td>3e12da24-cd4e-4552-aa4f-dc45bc432972</td></tr><tr><td>662</td><td><StoreSurvey xmlns=\"http://schemas.microsoft.com/sqlserver/2004/07/adventure-works/StoreSurvey\"><AnnualSales>3000000</AnnualSales><AnnualRevenue>300000</AnnualRevenue><BankName>Primary Bank &amp; Reserve</BankName><BusinessType>OS</BusinessType><YearOpened>1981</YearOpened><Specialty>Road</Specialty><SquareFeet>75000</SquareFeet><Brands>3</Brands><Internet>DSL</Internet><NumberEmployees>84</NumberEmployees></StoreSurvey></td><td>2014-09-12</td><td>Fitness Toy Store</td><td>277</td><td>fa2486e8-99b6-4832-9edf-1f86f1399cfc</td></tr><tr><td>664</td><td><StoreSurvey xmlns=\"http://schemas.microsoft.com/sqlserver/2004/07/adventure-works/StoreSurvey\"><AnnualSales>800000</AnnualSales><AnnualRevenue>80000</AnnualRevenue><BankName>Guardian Bank</BankName><BusinessType>BM</BusinessType><YearOpened>1985</YearOpened><Specialty>Mountain</Specialty><SquareFeet>18000</SquareFeet><Brands>2</Brands><Internet>T3</Internet><NumberEmployees>10</NumberEmployees></StoreSurvey></td><td>2014-09-12</td><td>Casual Bicycle Store</td><td>275</td><td>ef495883-01e1-46a0-aca4-f41dd60bcfc1</td></tr><tr><td>666</td><td><StoreSurvey xmlns=\"http://schemas.microsoft.com/sqlserver/2004/07/adventure-works/StoreSurvey\"><AnnualSales>800000</AnnualSales><AnnualRevenue>80000</AnnualRevenue><BankName>Primary International</BankName><BusinessType>BM</BusinessType><YearOpened>1993</YearOpened><Specialty>Touring</Specialty><SquareFeet>19000</SquareFeet><Brands>AW</Brands><Internet>DSL</Internet><NumberEmployees>11</NumberEmployees></StoreSurvey></td><td>2014-09-12</td><td>Fitness Discount Store</td><td>286</td><td>9ab6652a-8949-4ff5-aa99-2e7252bfd359</td></tr><tr><td>668</td><td><StoreSurvey xmlns=\"http://schemas.microsoft.com/sqlserver/2004/07/adventure-works/StoreSurvey\"><AnnualSales>800000</AnnualSales><AnnualRevenue>80000</AnnualRevenue><BankName>Reserve Security</BankName><BusinessType>BM</BusinessType><YearOpened>1988</YearOpened><Specialty>Mountain</Specialty><SquareFeet>20000</SquareFeet><Brands>4+</Brands><Internet>DSL</Internet><NumberEmployees>12</NumberEmployees></StoreSurvey></td><td>2014-09-12</td><td>General Cycle Storehouse</td><td>278</td><td>90cc4967-1a64-4f9c-b282-7917af63d9ad</td></tr><tr><td>670</td><td><StoreSurvey xmlns=\"http://schemas.microsoft.com/sqlserver/2004/07/adventure-works/StoreSurvey\"><AnnualSales>800000</AnnualSales><AnnualRevenue>80000</AnnualRevenue><BankName>International Bank</BankName><BusinessType>BM</BusinessType><YearOpened>1988</YearOpened><Specialty>Mountain</Specialty><SquareFeet>18000</SquareFeet><Brands>2</Brands><Internet>DSL</Internet><NumberEmployees>16</NumberEmployees></StoreSurvey></td><td>2014-09-12</td><td>Fitness Cycling</td><td>281</td><td>6f3ac326-f2fe-4bff-bf5a-ab67ad72a076</td></tr><tr><td>672</td><td><StoreSurvey xmlns=\"http://schemas.microsoft.com/sqlserver/2004/07/adventure-works/StoreSurvey\"><AnnualSales>800000</AnnualSales><AnnualRevenue>80000</AnnualRevenue><BankName>Primary Bank &amp; Reserve</BankName><BusinessType>BM</BusinessType><YearOpened>1982</YearOpened><Specialty>Road</Specialty><SquareFeet>19000</SquareFeet><Brands>4+</Brands><Internet>DSL</Internet><NumberEmployees>14</NumberEmployees></StoreSurvey></td><td>2014-09-12</td><td>Good Bike Shop</td><td>277</td><td>d39bc672-bb52-4eb7-939f-b3986ec7a5ca</td></tr><tr><td>674</td><td><StoreSurvey xmlns=\"http://schemas.microsoft.com/sqlserver/2004/07/adventure-works/StoreSurvey\"><AnnualSales>800000</AnnualSales><AnnualRevenue>80000</AnnualRevenue><BankName>International Security</BankName><BusinessType>BM</BusinessType><YearOpened>1976</YearOpened><Specialty>Touring</Specialty><SquareFeet>20000</SquareFeet><Brands>4+</Brands><Internet>DSL</Internet><NumberEmployees>12</NumberEmployees></StoreSurvey></td><td>2014-09-12</td><td>Imaginary Toys</td><td>280</td><td>4c6992a0-dc3e-4a96-9bbb-9239135c29df</td></tr><tr><td>676</td><td><StoreSurvey xmlns=\"http://schemas.microsoft.com/sqlserver/2004/07/adventure-works/StoreSurvey\"><AnnualSales>1500000</AnnualSales><AnnualRevenue>150000</AnnualRevenue><BankName>Guardian Bank</BankName><BusinessType>BS</BusinessType><YearOpened>1972</YearOpened><Specialty>Mountain</Specialty><SquareFeet>35000</SquareFeet><Brands>4+</Brands><Internet>T1</Internet><NumberEmployees>34</NumberEmployees></StoreSurvey></td><td>2014-09-12</td><td>Inexpensive Parts Shop</td><td>286</td><td>7d6588fc-efb7-4851-a9ce-f4c71e494709</td></tr><tr><td>678</td><td><StoreSurvey xmlns=\"http://schemas.microsoft.com/sqlserver/2004/07/adventure-works/StoreSurvey\"><AnnualSales>1500000</AnnualSales><AnnualRevenue>150000</AnnualRevenue><BankName>Primary International</BankName><BusinessType>BS</BusinessType><YearOpened>1988</YearOpened><Specialty>Mountain</Specialty><SquareFeet>37000</SquareFeet><Brands>4+</Brands><Internet>DSL</Internet><NumberEmployees>35</NumberEmployees></StoreSurvey></td><td>2014-09-12</td><td>Nuts and Bolts Mfg.</td><td>278</td><td>f5b50576-9c84-4125-af94-ebcc49d8be9e</td></tr><tr><td>680</td><td><StoreSurvey xmlns=\"http://schemas.microsoft.com/sqlserver/2004/07/adventure-works/StoreSurvey\"><AnnualSales>1500000</AnnualSales><AnnualRevenue>150000</AnnualRevenue><BankName>Reserve Security</BankName><BusinessType>BS</BusinessType><YearOpened>1976</YearOpened><Specialty>Road</Specialty><SquareFeet>39000</SquareFeet><Brands>4+</Brands><Internet>DSL</Internet><NumberEmployees>36</NumberEmployees></StoreSurvey></td><td>2014-09-12</td><td>Principal Bicycle Supply</td><td>279</td><td>b0bdbe3b-f9f2-4bdd-a74b-9423eca7a815</td></tr><tr><td>682</td><td><StoreSurvey xmlns=\"http://schemas.microsoft.com/sqlserver/2004/07/adventure-works/StoreSurvey\"><AnnualSales>1500000</AnnualSales><AnnualRevenue>150000</AnnualRevenue><BankName>United Security</BankName><BusinessType>BS</BusinessType><YearOpened>1971</YearOpened><Specialty>Touring</Specialty><SquareFeet>37000</SquareFeet><Brands>4+</Brands><Internet>ISDN</Internet><NumberEmployees>37</NumberEmployees></StoreSurvey></td><td>2014-09-12</td><td>Thrilling Bike Tours</td><td>276</td><td>b501d2ca-b083-47ec-a2a0-4341da752f4b</td></tr><tr><td>684</td><td><StoreSurvey xmlns=\"http://schemas.microsoft.com/sqlserver/2004/07/adventure-works/StoreSurvey\"><AnnualSales>1500000</AnnualSales><AnnualRevenue>150000</AnnualRevenue><BankName>International Bank</BankName><BusinessType>BS</BusinessType><YearOpened>1979</YearOpened><Specialty>Mountain</Specialty><SquareFeet>39000</SquareFeet><Brands>2</Brands><Internet>DSL</Internet><NumberEmployees>38</NumberEmployees></StoreSurvey></td><td>2014-09-12</td><td>This Area Sporting Goods</td><td>277</td><td>fb6331ea-0148-418a-884a-84d1da20ac3c</td></tr><tr><td>686</td><td><StoreSurvey xmlns=\"http://schemas.microsoft.com/sqlserver/2004/07/adventure-works/StoreSurvey\"><AnnualSales>1500000</AnnualSales><AnnualRevenue>150000</AnnualRevenue><BankName>Primary Bank &amp; Reserve</BankName><BusinessType>BS</BusinessType><YearOpened>1974</YearOpened><Specialty>Mountain</Specialty><SquareFeet>38000</SquareFeet><Brands>3</Brands><Internet>DSL</Internet><NumberEmployees>39</NumberEmployees></StoreSurvey></td><td>2014-09-12</td><td>Full-Service Bike Store</td><td>275</td><td>a167f30e-c0f1-49c3-96ce-4e8a2ca3c65c</td></tr><tr><td>688</td><td><StoreSurvey xmlns=\"http://schemas.microsoft.com/sqlserver/2004/07/adventure-works/StoreSurvey\"><AnnualSales>1500000</AnnualSales><AnnualRevenue>150000</AnnualRevenue><BankName>International Security</BankName><BusinessType>BS</BusinessType><YearOpened>1982</YearOpened><Specialty>Touring</Specialty><SquareFeet>37000</SquareFeet><Brands>3</Brands><Internet>DSL</Internet><NumberEmployees>40</NumberEmployees></StoreSurvey></td><td>2014-09-12</td><td>Plastic Products Manufacturers</td><td>286</td><td>035fc393-8bf1-4522-9dd7-f7cf3140740a</td></tr><tr><td>690</td><td><StoreSurvey xmlns=\"http://schemas.microsoft.com/sqlserver/2004/07/adventure-works/StoreSurvey\"><AnnualSales>3000000</AnnualSales><AnnualRevenue>300000</AnnualRevenue><BankName>Primary Bank &amp; Reserve</BankName><BusinessType>OS</BusinessType><YearOpened>1974</YearOpened><Specialty>Mountain</Specialty><SquareFeet>75000</SquareFeet><Brands>2</Brands><Internet>T1</Internet><NumberEmployees>93</NumberEmployees></StoreSurvey></td><td>2014-09-12</td><td>Kids and Adults Cycle Shop</td><td>286</td><td>7f00ee1c-91f3-46dc-8384-cb0317463e70</td></tr><tr><td>692</td><td><StoreSurvey xmlns=\"http://schemas.microsoft.com/sqlserver/2004/07/adventure-works/StoreSurvey\"><AnnualSales>3000000</AnnualSales><AnnualRevenue>300000</AnnualRevenue><BankName>International Bank</BankName><BusinessType>OS</BusinessType><YearOpened>1974</YearOpened><Specialty>Mountain</Specialty><SquareFeet>75000</SquareFeet><Brands>4+</Brands><Internet>DSL</Internet><NumberEmployees>94</NumberEmployees></StoreSurvey></td><td>2014-09-12</td><td>Grand Discount Store</td><td>275</td><td>20148536-7bf7-4a99-a184-2bdf1eb5eb40</td></tr><tr><td>694</td><td><StoreSurvey xmlns=\"http://schemas.microsoft.com/sqlserver/2004/07/adventure-works/StoreSurvey\"><AnnualSales>3000000</AnnualSales><AnnualRevenue>300000</AnnualRevenue><BankName>United Security</BankName><BusinessType>OS</BusinessType><YearOpened>1980</YearOpened><Specialty>Road</Specialty><SquareFeet>76000</SquareFeet><Brands>4+</Brands><Internet>DSL</Internet><NumberEmployees>95</NumberEmployees></StoreSurvey></td><td>2014-09-12</td><td>Genuine Bike Shop</td><td>277</td><td>ef74488b-1b77-4148-93ef-a4bc4638c921</td></tr><tr><td>696</td><td><StoreSurvey xmlns=\"http://schemas.microsoft.com/sqlserver/2004/07/adventure-works/StoreSurvey\"><AnnualSales>3000000</AnnualSales><AnnualRevenue>300000</AnnualRevenue><BankName>Reserve Security</BankName><BusinessType>OS</BusinessType><YearOpened>1986</YearOpened><Specialty>Touring</Specialty><SquareFeet>79000</SquareFeet><Brands>3</Brands><Internet>T1</Internet><NumberEmployees>96</NumberEmployees></StoreSurvey></td><td>2014-09-12</td><td>Extreme Riding Supplies</td><td>276</td><td>0c1ad971-9999-441a-9bf8-8d95c44489d2</td></tr><tr><td>698</td><td><StoreSurvey xmlns=\"http://schemas.microsoft.com/sqlserver/2004/07/adventure-works/StoreSurvey\"><AnnualSales>3000000</AnnualSales><AnnualRevenue>300000</AnnualRevenue><BankName>Primary International</BankName><BusinessType>OS</BusinessType><YearOpened>1992</YearOpened><Specialty>Road</Specialty><SquareFeet>80000</SquareFeet><Brands>4+</Brands><Internet>T2</Internet><NumberEmployees>97</NumberEmployees></StoreSurvey></td><td>2014-09-12</td><td>Bike Rims Company</td><td>279</td><td>d664a5cb-eb27-422e-8c7e-c81814508c73</td></tr><tr><td>700</td><td><StoreSurvey xmlns=\"http://schemas.microsoft.com/sqlserver/2004/07/adventure-works/StoreSurvey\"><AnnualSales>1500000</AnnualSales><AnnualRevenue>150000</AnnualRevenue><BankName>Primary International</BankName><BusinessType>BS</BusinessType><YearOpened>1989</YearOpened><Specialty>Mountain</Specialty><SquareFeet>40000</SquareFeet><Brands>3</Brands><Internet>DSL</Internet><NumberEmployees>49</NumberEmployees></StoreSurvey></td><td>2014-09-12</td><td>Fleet Bikes</td><td>276</td><td>cec2cc52-9fad-4328-a288-c01649dfe106</td></tr><tr><td>702</td><td><StoreSurvey xmlns=\"http://schemas.microsoft.com/sqlserver/2004/07/adventure-works/StoreSurvey\"><AnnualSales>1500000</AnnualSales><AnnualRevenue>150000</AnnualRevenue><BankName>Reserve Security</BankName><BusinessType>BS</BusinessType><YearOpened>1997</YearOpened><Specialty>Road</Specialty><SquareFeet>41000</SquareFeet><Brands>3</Brands><Internet>DSL</Internet><NumberEmployees>46</NumberEmployees></StoreSurvey></td><td>2014-09-12</td><td>Local Hardware Factory</td><td>277</td><td>16c76410-67e9-4082-bff4-172f287c1f7c</td></tr><tr><td>704</td><td><StoreSurvey xmlns=\"http://schemas.microsoft.com/sqlserver/2004/07/adventure-works/StoreSurvey\"><AnnualSales>1500000</AnnualSales><AnnualRevenue>150000</AnnualRevenue><BankName>United Security</BankName><BusinessType>BS</BusinessType><YearOpened>1992</YearOpened><Specialty>Mountain</Specialty><SquareFeet>40000</SquareFeet><Brands>4+</Brands><Internet>T1</Internet><NumberEmployees>43</NumberEmployees></StoreSurvey></td><td>2014-09-12</td><td>Only Bikes and Accessories</td><td>275</td><td>af3b1a6a-e60b-4e74-96ea-e55c89f0adf6</td></tr><tr><td>706</td><td><StoreSurvey xmlns=\"http://schemas.microsoft.com/sqlserver/2004/07/adventure-works/StoreSurvey\"><AnnualSales>1500000</AnnualSales><AnnualRevenue>150000</AnnualRevenue><BankName>International Bank</BankName><BusinessType>BS</BusinessType><YearOpened>1995</YearOpened><Specialty>Mountain</Specialty><SquareFeet>37000</SquareFeet><Brands>4+</Brands><Internet>T2</Internet><NumberEmployees>40</NumberEmployees></StoreSurvey></td><td>2014-09-12</td><td>Rental Gallery</td><td>286</td><td>71322a9a-9feb-4c12-947a-e3aeffbfa3e2</td></tr><tr><td>708</td><td><StoreSurvey xmlns=\"http://schemas.microsoft.com/sqlserver/2004/07/adventure-works/StoreSurvey\"><AnnualSales>1500000</AnnualSales><AnnualRevenue>150000</AnnualRevenue><BankName>Primary Bank &amp; Reserve</BankName><BusinessType>BS</BusinessType><YearOpened>1995</YearOpened><Specialty>Touring</Specialty><SquareFeet>40000</SquareFeet><Brands>4+</Brands><Internet>DSL</Internet><NumberEmployees>37</NumberEmployees></StoreSurvey></td><td>2014-09-12</td><td>South Bike Company</td><td>278</td><td>c3346ce3-ca88-4e5b-8a41-05e76abf4fcf</td></tr><tr><td>710</td><td><StoreSurvey xmlns=\"http://schemas.microsoft.com/sqlserver/2004/07/adventure-works/StoreSurvey\"><AnnualSales>1500000</AnnualSales><AnnualRevenue>150000</AnnualRevenue><BankName>International Security</BankName><BusinessType>BS</BusinessType><YearOpened>1983</YearOpened><Specialty>Road</Specialty><SquareFeet>37000</SquareFeet><Brands>3</Brands><Internet>T1</Internet><NumberEmployees>34</NumberEmployees></StoreSurvey></td><td>2014-09-12</td><td>Wonderful Bikes Inc.</td><td>279</td><td>0948efce-69ef-4866-b25e-19ac06159158</td></tr><tr><td>712</td><td><StoreSurvey xmlns=\"http://schemas.microsoft.com/sqlserver/2004/07/adventure-works/StoreSurvey\"><AnnualSales>1500000</AnnualSales><AnnualRevenue>150000</AnnualRevenue><BankName>Guardian Bank</BankName><BusinessType>BS</BusinessType><YearOpened>1998</YearOpened><Specialty>Road</Specialty><SquareFeet>37000</SquareFeet><Brands>4+</Brands><Internet>T1</Internet><NumberEmployees>31</NumberEmployees></StoreSurvey></td><td>2014-09-12</td><td>Another Sporting Goods Company</td><td>276</td><td>0945ecb3-8c14-4b65-90b9-9db474085ce8</td></tr><tr><td>714</td><td><StoreSurvey xmlns=\"http://schemas.microsoft.com/sqlserver/2004/07/adventure-works/StoreSurvey\"><AnnualSales>1000000</AnnualSales><AnnualRevenue>100000</AnnualRevenue><BankName>Primary International</BankName><BusinessType>BS</BusinessType><YearOpened>1971</YearOpened><Specialty>Road</Specialty><SquareFeet>28000</SquareFeet><Brands>4+</Brands><Internet>DSL</Internet><NumberEmployees>28</NumberEmployees></StoreSurvey></td><td>2014-09-12</td><td>Discount Bicycle Specialists</td><td>277</td><td>4833dbbd-77dd-4855-882d-b5bb392f8d83</td></tr><tr><td>716</td><td><StoreSurvey xmlns=\"http://schemas.microsoft.com/sqlserver/2004/07/adventure-works/StoreSurvey\"><AnnualSales>1000000</AnnualSales><AnnualRevenue>100000</AnnualRevenue><BankName>Reserve Security</BankName><BusinessType>BS</BusinessType><YearOpened>2001</YearOpened><Specialty>Road</Specialty><SquareFeet>26000</SquareFeet><Brands>4+</Brands><Internet>DSL</Internet><NumberEmployees>25</NumberEmployees></StoreSurvey></td><td>2014-09-12</td><td>Famous Bike Sales and Service</td><td>275</td><td>dcb36c79-b15c-4a9e-a169-1490449ea59f</td></tr><tr><td>718</td><td><StoreSurvey xmlns=\"http://schemas.microsoft.com/sqlserver/2004/07/adventure-works/StoreSurvey\"><AnnualSales>1000000</AnnualSales><AnnualRevenue>100000</AnnualRevenue><BankName>United Security</BankName><BusinessType>BS</BusinessType><YearOpened>1996</YearOpened><Specialty>Touring</Specialty><SquareFeet>26000</SquareFeet><Brands>4+</Brands><Internet>T1</Internet><NumberEmployees>22</NumberEmployees></StoreSurvey></td><td>2014-09-12</td><td>First Supplies</td><td>286</td><td>1b118fae-776a-4756-92b0-a7937f0edbae</td></tr><tr><td>720</td><td><StoreSurvey xmlns=\"http://schemas.microsoft.com/sqlserver/2004/07/adventure-works/StoreSurvey\"><AnnualSales>800000</AnnualSales><AnnualRevenue>80000</AnnualRevenue><BankName>International Bank</BankName><BusinessType>BS</BusinessType><YearOpened>1990</YearOpened><Specialty>Touring</Specialty><SquareFeet>22000</SquareFeet><Brands>2</Brands><Internet>T2</Internet><NumberEmployees>19</NumberEmployees></StoreSurvey></td><td>2014-09-12</td><td>Machines & Cycles Store</td><td>278</td><td>c5f81c18-5674-480b-8b7d-bc1608e21e8e</td></tr><tr><td>722</td><td><StoreSurvey xmlns=\"http://schemas.microsoft.com/sqlserver/2004/07/adventure-works/StoreSurvey\"><AnnualSales>800000</AnnualSales><AnnualRevenue>80000</AnnualRevenue><BankName>Primary Bank &amp; Reserve</BankName><BusinessType>BS</BusinessType><YearOpened>1984</YearOpened><Specialty>Road</Specialty><SquareFeet>20000</SquareFeet><Brands>2</Brands><Internet>T1</Internet><NumberEmployees>16</NumberEmployees></StoreSurvey></td><td>2014-09-12</td><td>Pedals Warehouse</td><td>279</td><td>d2dc2451-e8f2-449b-b94c-f6729dcf110c</td></tr><tr><td>724</td><td><StoreSurvey xmlns=\"http://schemas.microsoft.com/sqlserver/2004/07/adventure-works/StoreSurvey\"><AnnualSales>800000</AnnualSales><AnnualRevenue>80000</AnnualRevenue><BankName>International Security</BankName><BusinessType>BS</BusinessType><YearOpened>1978</YearOpened><Specialty>Road</Specialty><SquareFeet>22000</SquareFeet><Brands>2</Brands><Internet>T1</Internet><NumberEmployees>13</NumberEmployees></StoreSurvey></td><td>2014-09-12</td><td>Two Wheels Cycle Store</td><td>276</td><td>a04e78ff-c151-4a8f-921c-1043c85bd74c</td></tr><tr><td>726</td><td><StoreSurvey xmlns=\"http://schemas.microsoft.com/sqlserver/2004/07/adventure-works/StoreSurvey\"><AnnualSales>800000</AnnualSales><AnnualRevenue>80000</AnnualRevenue><BankName>Guardian Bank</BankName><BusinessType>BS</BusinessType><YearOpened>1972</YearOpened><Specialty>Road</Specialty><SquareFeet>20000</SquareFeet><Brands>4+</Brands><Internet>T1</Internet><NumberEmployees>10</NumberEmployees></StoreSurvey></td><td>2014-09-12</td><td>Westside Cycle Store</td><td>277</td><td>147f9060-dd41-4810-ab5b-2439c7816feb</td></tr><tr><td>728</td><td><StoreSurvey xmlns=\"http://schemas.microsoft.com/sqlserver/2004/07/adventure-works/StoreSurvey\"><AnnualSales>1000000</AnnualSales><AnnualRevenue>100000</AnnualRevenue><BankName>International Security</BankName><BusinessType>BS</BusinessType><YearOpened>1998</YearOpened><Specialty>Road</Specialty><SquareFeet>27000</SquareFeet><Brands>3</Brands><Internet>DSL</Internet><NumberEmployees>27</NumberEmployees></StoreSurvey></td><td>2014-09-12</td><td>Wholesale Bikes</td><td>275</td><td>57f096c7-5bc4-4f8c-9171-9e03246d5439</td></tr><tr><td>730</td><td><StoreSurvey xmlns=\"http://schemas.microsoft.com/sqlserver/2004/07/adventure-works/StoreSurvey\"><AnnualSales>1000000</AnnualSales><AnnualRevenue>100000</AnnualRevenue><BankName>Guardian Bank</BankName><BusinessType>BS</BusinessType><YearOpened>1971</YearOpened><Specialty>Road</Specialty><SquareFeet>28000</SquareFeet><Brands>4+</Brands><Internet>DSL</Internet><NumberEmployees>28</NumberEmployees></StoreSurvey></td><td>2014-09-12</td><td>Very Best Sports Supply</td><td>288</td><td>5a0f3b85-4258-4219-b825-31195034c5c3</td></tr><tr><td>732</td><td><StoreSurvey xmlns=\"http://schemas.microsoft.com/sqlserver/2004/07/adventure-works/StoreSurvey\"><AnnualSales>1000000</AnnualSales><AnnualRevenue>100000</AnnualRevenue><BankName>Primary International</BankName><BusinessType>BS</BusinessType><YearOpened>2001</YearOpened><Specialty>Road</Specialty><SquareFeet>24000</SquareFeet><Brands>4+</Brands><Internet>DSL</Internet><NumberEmployees>29</NumberEmployees></StoreSurvey></td><td>2014-09-12</td><td>Urban Sports Emporium</td><td>282</td><td>ac4ca540-5260-4333-818b-434f3ff000c5</td></tr><tr><td>734</td><td><StoreSurvey xmlns=\"http://schemas.microsoft.com/sqlserver/2004/07/adventure-works/StoreSurvey\"><AnnualSales>1500000</AnnualSales><AnnualRevenue>150000</AnnualRevenue><BankName>Reserve Security</BankName><BusinessType>BS</BusinessType><YearOpened>1996</YearOpened><Specialty>Mountain</Specialty><SquareFeet>36000</SquareFeet><Brands>4+</Brands><Internet>T1</Internet><NumberEmployees>30</NumberEmployees></StoreSurvey></td><td>2014-09-12</td><td>Superlative Bikes</td><td>279</td><td>e2efc4e8-5b3f-47e2-b0a6-be0701b34a05</td></tr><tr><td>736</td><td><StoreSurvey xmlns=\"http://schemas.microsoft.com/sqlserver/2004/07/adventure-works/StoreSurvey\"><AnnualSales>1500000</AnnualSales><AnnualRevenue>150000</AnnualRevenue><BankName>Reserve Security</BankName><BusinessType>BS</BusinessType><YearOpened>1977</YearOpened><Specialty>Road</Specialty><SquareFeet>37000</SquareFeet><Brands>4+</Brands><Internet>DSL</Internet><NumberEmployees>41</NumberEmployees></StoreSurvey></td><td>2014-09-12</td><td>Primary Cycle Shop</td><td>288</td><td>219adf36-cf78-4841-b348-26c2adfb518e</td></tr><tr><td>738</td><td><StoreSurvey xmlns=\"http://schemas.microsoft.com/sqlserver/2004/07/adventure-works/StoreSurvey\"><AnnualSales>1500000</AnnualSales><AnnualRevenue>150000</AnnualRevenue><BankName>United Security</BankName><BusinessType>BS</BusinessType><YearOpened>1985</YearOpened><Specialty>Mountain</Specialty><SquareFeet>37000</SquareFeet><Brands>2</Brands><Internet>T1</Internet><NumberEmployees>42</NumberEmployees></StoreSurvey></td><td>2014-09-12</td><td>Sixth Bike Store</td><td>282</td><td>587834de-cb5c-4c9f-870b-befe343b681b</td></tr><tr><td>740</td><td><StoreSurvey xmlns=\"http://schemas.microsoft.com/sqlserver/2004/07/adventure-works/StoreSurvey\"><AnnualSales>1500000</AnnualSales><AnnualRevenue>150000</AnnualRevenue><BankName>International Bank</BankName><BusinessType>BS</BusinessType><YearOpened>1980</YearOpened><Specialty>Road</Specialty><SquareFeet>38000</SquareFeet><Brands>4+</Brands><Internet>DSL</Internet><NumberEmployees>43</NumberEmployees></StoreSurvey></td><td>2014-09-12</td><td>Touring Services</td><td>279</td><td>1baa7f8a-c00a-441e-8d40-e06a4aec1c43</td></tr><tr><td>742</td><td><StoreSurvey xmlns=\"http://schemas.microsoft.com/sqlserver/2004/07/adventure-works/StoreSurvey\"><AnnualSales>1500000</AnnualSales><AnnualRevenue>150000</AnnualRevenue><BankName>Primary Bank &amp; Reserve</BankName><BusinessType>BS</BusinessType><YearOpened>1988</YearOpened><Specialty>Road</Specialty><SquareFeet>38000</SquareFeet><Brands>2</Brands><Internet>DSL</Internet><NumberEmployees>44</NumberEmployees></StoreSurvey></td><td>2014-09-12</td><td>Vehicle Shop</td><td>281</td><td>08cbc4a5-2bd2-46d5-b0e8-327387559092</td></tr><tr><td>744</td><td><StoreSurvey xmlns=\"http://schemas.microsoft.com/sqlserver/2004/07/adventure-works/StoreSurvey\"><AnnualSales>1500000</AnnualSales><AnnualRevenue>150000</AnnualRevenue><BankName>International Security</BankName><BusinessType>BS</BusinessType><YearOpened>1983</YearOpened><Specialty>Mountain</Specialty><SquareFeet>38000</SquareFeet><Brands>3</Brands><Internet>DSL</Internet><NumberEmployees>45</NumberEmployees></StoreSurvey></td><td>2014-09-12</td><td>First Department Stores</td><td>283</td><td>443e7b85-6e6e-440e-97c8-10075b6fbe4a</td></tr><tr><td>746</td><td><StoreSurvey xmlns=\"http://schemas.microsoft.com/sqlserver/2004/07/adventure-works/StoreSurvey\"><AnnualSales>1500000</AnnualSales><AnnualRevenue>150000</AnnualRevenue><BankName>Guardian Bank</BankName><BusinessType>BS</BusinessType><YearOpened>1991</YearOpened><Specialty>Road</Specialty><SquareFeet>39000</SquareFeet><Brands>4+</Brands><Internet>T1</Internet><NumberEmployees>46</NumberEmployees></StoreSurvey></td><td>2014-09-12</td><td>Grand Sport Boutique</td><td>275</td><td>96ba60f5-324c-467e-bf10-6259107dbd81</td></tr><tr><td>748</td><td><StoreSurvey xmlns=\"http://schemas.microsoft.com/sqlserver/2004/07/adventure-works/StoreSurvey\"><AnnualSales>1500000</AnnualSales><AnnualRevenue>150000</AnnualRevenue><BankName>Primary International</BankName><BusinessType>BS</BusinessType><YearOpened>1986</YearOpened><Specialty>Touring</Specialty><SquareFeet>37000</SquareFeet><Brands>2</Brands><Internet>DSL</Internet><NumberEmployees>47</NumberEmployees></StoreSurvey></td><td>2014-09-12</td><td>Major Equipment Co</td><td>288</td><td>7f68af6f-23e9-456a-8ea9-69d130fa09fd</td></tr><tr><td>750</td><td><StoreSurvey xmlns=\"http://schemas.microsoft.com/sqlserver/2004/07/adventure-works/StoreSurvey\"><AnnualSales>1500000</AnnualSales><AnnualRevenue>150000</AnnualRevenue><BankName>Reserve Security</BankName><BusinessType>BS</BusinessType><YearOpened>1994</YearOpened><Specialty>Road</Specialty><SquareFeet>39000</SquareFeet><Brands>4+</Brands><Internet>DSL</Internet><NumberEmployees>48</NumberEmployees></StoreSurvey></td><td>2014-09-12</td><td>Custom Sales and Service</td><td>282</td><td>f6618771-ca58-4681-9f85-9e91d7beac23</td></tr><tr><td>752</td><td><StoreSurvey xmlns=\"http://schemas.microsoft.com/sqlserver/2004/07/adventure-works/StoreSurvey\"><AnnualSales>1500000</AnnualSales><AnnualRevenue>150000</AnnualRevenue><BankName>United Security</BankName><BusinessType>BS</BusinessType><YearOpened>1989</YearOpened><Specialty>Mountain</Specialty><SquareFeet>41000</SquareFeet><Brands>4+</Brands><Internet>T1</Internet><NumberEmployees>49</NumberEmployees></StoreSurvey></td><td>2014-09-12</td><td>Elemental Sporting Goods</td><td>279</td><td>52581c1d-2510-48ae-9e09-5db1f7c96950</td></tr><tr><td>754</td><td><StoreSurvey xmlns=\"http://schemas.microsoft.com/sqlserver/2004/07/adventure-works/StoreSurvey\"><AnnualSales>1500000</AnnualSales><AnnualRevenue>150000</AnnualRevenue><BankName>International Bank</BankName><BusinessType>BS</BusinessType><YearOpened>1997</YearOpened><Specialty>Road</Specialty><SquareFeet>37000</SquareFeet><Brands>4+</Brands><Internet>T1</Internet><NumberEmployees>46</NumberEmployees></StoreSurvey></td><td>2014-09-12</td><td>Distinctive Store</td><td>281</td><td>019e92aa-628c-4914-acbc-d540e595e887</td></tr><tr><td>756</td><td><StoreSurvey xmlns=\"http://schemas.microsoft.com/sqlserver/2004/07/adventure-works/StoreSurvey\"><AnnualSales>1500000</AnnualSales><AnnualRevenue>150000</AnnualRevenue><BankName>Primary Bank &amp; Reserve</BankName><BusinessType>BS</BusinessType><YearOpened>1992</YearOpened><Specialty>Road</Specialty><SquareFeet>41000</SquareFeet><Brands>2</Brands><Internet>DSL</Internet><NumberEmployees>43</NumberEmployees></StoreSurvey></td><td>2014-09-12</td><td>Grand Cycle Store</td><td>283</td><td>1f40d1de-0b48-436c-bf9e-ad6f31629ff3</td></tr><tr><td>758</td><td><StoreSurvey xmlns=\"http://schemas.microsoft.com/sqlserver/2004/07/adventure-works/StoreSurvey\"><AnnualSales>3000000</AnnualSales><AnnualRevenue>300000</AnnualRevenue><BankName>United Security</BankName><BusinessType>OS</BusinessType><YearOpened>1983</YearOpened><Specialty>Road</Specialty><SquareFeet>74000</SquareFeet><Brands>2</Brands><Internet>DSL</Internet><NumberEmployees>87</NumberEmployees></StoreSurvey></td><td>2014-09-12</td><td>Nearby Bike Mall</td><td>288</td><td>d2df815b-b890-4a47-a396-d8ff91914356</td></tr><tr><td>760</td><td><StoreSurvey xmlns=\"http://schemas.microsoft.com/sqlserver/2004/07/adventure-works/StoreSurvey\"><AnnualSales>3000000</AnnualSales><AnnualRevenue>300000</AnnualRevenue><BankName>Reserve Security</BankName><BusinessType>OS</BusinessType><YearOpened>1975</YearOpened><Specialty>Mountain</Specialty><SquareFeet>76000</SquareFeet><Brands>4+</Brands><Internet>T1</Internet><NumberEmployees>88</NumberEmployees></StoreSurvey></td><td>2014-09-12</td><td>Handy Bike Services</td><td>275</td><td>f4ae5e4f-8702-419b-9e8e-f82489669453</td></tr><tr><td>762</td><td><StoreSurvey xmlns=\"http://schemas.microsoft.com/sqlserver/2004/07/adventure-works/StoreSurvey\"><AnnualSales>3000000</AnnualSales><AnnualRevenue>300000</AnnualRevenue><BankName>Primary International</BankName><BusinessType>OS</BusinessType><YearOpened>1980</YearOpened><Specialty>Road</Specialty><SquareFeet>75000</SquareFeet><Brands>2</Brands><Internet>DSL</Internet><NumberEmployees>89</NumberEmployees></StoreSurvey></td><td>2014-09-12</td><td>Friendly Bike Shop</td><td>283</td><td>ccba980d-ae01-49ac-aa30-8224225d900f</td></tr><tr><td>764</td><td><StoreSurvey xmlns=\"http://schemas.microsoft.com/sqlserver/2004/07/adventure-works/StoreSurvey\"><AnnualSales>3000000</AnnualSales><AnnualRevenue>300000</AnnualRevenue><BankName>Guardian Bank</BankName><BusinessType>OS</BusinessType><YearOpened>1972</YearOpened><Specialty>Mountain</Specialty><SquareFeet>76000</SquareFeet><Brands>3</Brands><Internet>T1</Internet><NumberEmployees>90</NumberEmployees></StoreSurvey></td><td>2014-09-12</td><td>Fashionable Bikes and Accessories</td><td>281</td><td>63427938-8dbb-470b-85d2-1b5cb62f9ed7</td></tr><tr><td>766</td><td><StoreSurvey xmlns=\"http://schemas.microsoft.com/sqlserver/2004/07/adventure-works/StoreSurvey\"><AnnualSales>3000000</AnnualSales><AnnualRevenue>300000</AnnualRevenue><BankName>International Security</BankName><BusinessType>OS</BusinessType><YearOpened>1977</YearOpened><Specialty>Mountain</Specialty><SquareFeet>75000</SquareFeet><Brands>2</Brands><Internet>DSL</Internet><NumberEmployees>91</NumberEmployees></StoreSurvey></td><td>2014-09-12</td><td>Extreme Toy Store</td><td>279</td><td>dbe4a587-bd26-485b-94c3-b04e944627c9</td></tr><tr><td>768</td><td><StoreSurvey xmlns=\"http://schemas.microsoft.com/sqlserver/2004/07/adventure-works/StoreSurvey\"><AnnualSales>3000000</AnnualSales><AnnualRevenue>300000</AnnualRevenue><BankName>Primary Bank &amp; Reserve</BankName><BusinessType>OS</BusinessType><YearOpened>1987</YearOpened><Specialty>Road</Specialty><SquareFeet>79000</SquareFeet><Brands>3</Brands><Internet>DSL</Internet><NumberEmployees>92</NumberEmployees></StoreSurvey></td><td>2014-09-12</td><td>Citywide Service and Repair</td><td>282</td><td>10069045-fe16-4eef-bdf8-2aa907c8924d</td></tr><tr><td>770</td><td><StoreSurvey xmlns=\"http://schemas.microsoft.com/sqlserver/2004/07/adventure-works/StoreSurvey\"><AnnualSales>3000000</AnnualSales><AnnualRevenue>300000</AnnualRevenue><BankName>International Bank</BankName><BusinessType>OS</BusinessType><YearOpened>1974</YearOpened><Specialty>Touring</Specialty><SquareFeet>78000</SquareFeet><Brands>4+</Brands><Internet>T1</Internet><NumberEmployees>93</NumberEmployees></StoreSurvey></td><td>2014-09-12</td><td>Best Cycle Store</td><td>288</td><td>6a2daf2a-19a5-42c5-8dc4-2038561c5ae3</td></tr><tr><td>772</td><td><StoreSurvey xmlns=\"http://schemas.microsoft.com/sqlserver/2004/07/adventure-works/StoreSurvey\"><AnnualSales>3000000</AnnualSales><AnnualRevenue>300000</AnnualRevenue><BankName>United Security</BankName><BusinessType>OS</BusinessType><YearOpened>1974</YearOpened><Specialty>Touring</Specialty><SquareFeet>78000</SquareFeet><Brands>2</Brands><Internet>DSL</Internet><NumberEmployees>94</NumberEmployees></StoreSurvey></td><td>2014-09-12</td><td>Professional Sporting Goods</td><td>275</td><td>e0453aaa-7d26-4f08-b5ab-4dc265330cf2</td></tr><tr><td>774</td><td><StoreSurvey xmlns=\"http://schemas.microsoft.com/sqlserver/2004/07/adventure-works/StoreSurvey\"><AnnualSales>3000000</AnnualSales><AnnualRevenue>300000</AnnualRevenue><BankName>Reserve Security</BankName><BusinessType>OS</BusinessType><YearOpened>1980</YearOpened><Specialty>Touring</Specialty><SquareFeet>77000</SquareFeet><Brands>2</Brands><Internet>DSL</Internet><NumberEmployees>95</NumberEmployees></StoreSurvey></td><td>2014-09-12</td><td>Rugged Bikes</td><td>283</td><td>623db28f-60da-49d6-b72d-1680aa5e6351</td></tr><tr><td>776</td><td><StoreSurvey xmlns=\"http://schemas.microsoft.com/sqlserver/2004/07/adventure-works/StoreSurvey\"><AnnualSales>3000000</AnnualSales><AnnualRevenue>300000</AnnualRevenue><BankName>Primary International</BankName><BusinessType>OS</BusinessType><YearOpened>1986</YearOpened><Specialty>Road</Specialty><SquareFeet>79000</SquareFeet><Brands>3</Brands><Internet>DSL</Internet><NumberEmployees>96</NumberEmployees></StoreSurvey></td><td>2014-09-12</td><td>Principal Bike Company</td><td>281</td><td>9bbe2c3d-be66-474e-bc4e-0ea19bf08dd5</td></tr><tr><td>778</td><td><StoreSurvey xmlns=\"http://schemas.microsoft.com/sqlserver/2004/07/adventure-works/StoreSurvey\"><AnnualSales>3000000</AnnualSales><AnnualRevenue>300000</AnnualRevenue><BankName>Guardian Bank</BankName><BusinessType>OS</BusinessType><YearOpened>1992</YearOpened><Specialty>Mountain</Specialty><SquareFeet>80000</SquareFeet><Brands>3</Brands><Internet>T1</Internet><NumberEmployees>97</NumberEmployees></StoreSurvey></td><td>2014-09-12</td><td>One-Piece Handle Bars</td><td>279</td><td>3159c810-9549-497f-8e2e-7e7dc7158751</td></tr><tr><td>780</td><td><StoreSurvey xmlns=\"http://schemas.microsoft.com/sqlserver/2004/07/adventure-works/StoreSurvey\"><AnnualSales>3000000</AnnualSales><AnnualRevenue>300000</AnnualRevenue><BankName>International Security</BankName><BusinessType>OS</BusinessType><YearOpened>1998</YearOpened><Specialty>Road</Specialty><SquareFeet>78000</SquareFeet><Brands>4+</Brands><Internet>DSL</Internet><NumberEmployees>98</NumberEmployees></StoreSurvey></td><td>2014-09-12</td><td>Finer Riding Supplies</td><td>282</td><td>943a2705-ce9c-47d6-8708-407bd239ed49</td></tr><tr><td>782</td><td><StoreSurvey xmlns=\"http://schemas.microsoft.com/sqlserver/2004/07/adventure-works/StoreSurvey\"><AnnualSales>3000000</AnnualSales><AnnualRevenue>300000</AnnualRevenue><BankName>Primary International</BankName><BusinessType>OS</BusinessType><YearOpened>1983</YearOpened><Specialty>Road</Specialty><SquareFeet>77000</SquareFeet><Brands>2</Brands><Internet>DSL</Internet><NumberEmployees>87</NumberEmployees></StoreSurvey></td><td>2014-09-12</td><td>Neighborhood Store</td><td>278</td><td>97a18a38-227d-4886-b711-7967af5ebb8e</td></tr><tr><td>784</td><td><StoreSurvey xmlns=\"http://schemas.microsoft.com/sqlserver/2004/07/adventure-works/StoreSurvey\"><AnnualSales>3000000</AnnualSales><AnnualRevenue>300000</AnnualRevenue><BankName>Guardian Bank</BankName><BusinessType>OS</BusinessType><YearOpened>1975</YearOpened><Specialty>Touring</Specialty><SquareFeet>74000</SquareFeet><Brands>3</Brands><Internet>T2</Internet><NumberEmployees>88</NumberEmployees></StoreSurvey></td><td>2014-09-12</td><td>Online Bike Catalog</td><td>286</td><td>df376bcf-680e-4b1e-aa70-23db54c6d129</td></tr><tr><td>786</td><td><StoreSurvey xmlns=\"http://schemas.microsoft.com/sqlserver/2004/07/adventure-works/StoreSurvey\"><AnnualSales>3000000</AnnualSales><AnnualRevenue>300000</AnnualRevenue><BankName>International Security</BankName><BusinessType>OS</BusinessType><YearOpened>1980</YearOpened><Specialty>Road</Specialty><SquareFeet>76000</SquareFeet><Brands>4+</Brands><Internet>T2</Internet><NumberEmployees>89</NumberEmployees></StoreSurvey></td><td>2014-09-12</td><td>Outdoor Equipment Store</td><td>275</td><td>4dcdf6f3-84a2-4407-973a-14ae73eb4e7f</td></tr><tr><td>788</td><td><StoreSurvey xmlns=\"http://schemas.microsoft.com/sqlserver/2004/07/adventure-works/StoreSurvey\"><AnnualSales>3000000</AnnualSales><AnnualRevenue>300000</AnnualRevenue><BankName>Primary Bank &amp; Reserve</BankName><BusinessType>OS</BusinessType><YearOpened>1972</YearOpened><Specialty>Mountain</Specialty><SquareFeet>78000</SquareFeet><Brands>4+</Brands><Internet>T1</Internet><NumberEmployees>90</NumberEmployees></StoreSurvey></td><td>2014-09-12</td><td>Paint Supply</td><td>277</td><td>1229501b-b60c-41a9-97e6-8b1d13c568de</td></tr><tr><td>790</td><td><StoreSurvey xmlns=\"http://schemas.microsoft.com/sqlserver/2004/07/adventure-works/StoreSurvey\"><AnnualSales>3000000</AnnualSales><AnnualRevenue>300000</AnnualRevenue><BankName>International Bank</BankName><BusinessType>OS</BusinessType><YearOpened>1977</YearOpened><Specialty>Road</Specialty><SquareFeet>77000</SquareFeet><Brands>4+</Brands><Internet>ISDN</Internet><NumberEmployees>91</NumberEmployees></StoreSurvey></td><td>2014-09-12</td><td>Preferred Bikes</td><td>276</td><td>6ab9d50f-4181-4704-9b51-e558b491d82b</td></tr><tr><td>792</td><td><StoreSurvey xmlns=\"http://schemas.microsoft.com/sqlserver/2004/07/adventure-works/StoreSurvey\"><AnnualSales>3000000</AnnualSales><AnnualRevenue>300000</AnnualRevenue><BankName>United Security</BankName><BusinessType>OS</BusinessType><YearOpened>1987</YearOpened><Specialty>Road</Specialty><SquareFeet>75000</SquareFeet><Brands>3</Brands><Internet>DSL</Internet><NumberEmployees>92</NumberEmployees></StoreSurvey></td><td>2014-09-12</td><td>Rally Day Mall</td><td>279</td><td>1d7c7ae9-7df4-4b89-9a80-b224a2dd6b41</td></tr><tr><td>794</td><td><StoreSurvey xmlns=\"http://schemas.microsoft.com/sqlserver/2004/07/adventure-works/StoreSurvey\"><AnnualSales>3000000</AnnualSales><AnnualRevenue>300000</AnnualRevenue><BankName>Reserve Security</BankName><BusinessType>OS</BusinessType><YearOpened>1974</YearOpened><Specialty>Road</Specialty><SquareFeet>76000</SquareFeet><Brands>4+</Brands><Internet>T1</Internet><NumberEmployees>93</NumberEmployees></StoreSurvey></td><td>2014-09-12</td><td>Rewarding Activities Company</td><td>278</td><td>b6d5b9ba-7304-4e4d-a78c-8fb8a66fbf4b</td></tr><tr><td>796</td><td><StoreSurvey xmlns=\"http://schemas.microsoft.com/sqlserver/2004/07/adventure-works/StoreSurvey\"><AnnualSales>3000000</AnnualSales><AnnualRevenue>300000</AnnualRevenue><BankName>Primary International</BankName><BusinessType>OS</BusinessType><YearOpened>1974</YearOpened><Specialty>Touring</Specialty><SquareFeet>76000</SquareFeet><Brands>2</Brands><Internet>DSL</Internet><NumberEmployees>94</NumberEmployees></StoreSurvey></td><td>2014-09-12</td><td>Rich Department Store</td><td>286</td><td>b227ca7d-70a5-48a6-b099-e71b35d543da</td></tr><tr><td>798</td><td><StoreSurvey xmlns=\"http://schemas.microsoft.com/sqlserver/2004/07/adventure-works/StoreSurvey\"><AnnualSales>3000000</AnnualSales><AnnualRevenue>300000</AnnualRevenue><BankName>Guardian Bank</BankName><BusinessType>OS</BusinessType><YearOpened>1980</YearOpened><Specialty>Road</Specialty><SquareFeet>75000</SquareFeet><Brands>2</Brands><Internet>T2</Internet><NumberEmployees>95</NumberEmployees></StoreSurvey></td><td>2014-09-12</td><td>Sales and Supply Company</td><td>275</td><td>40ef14b1-9714-4765-9284-951d01a65eb2</td></tr><tr><td>800</td><td><StoreSurvey xmlns=\"http://schemas.microsoft.com/sqlserver/2004/07/adventure-works/StoreSurvey\"><AnnualSales>3000000</AnnualSales><AnnualRevenue>300000</AnnualRevenue><BankName>International Security</BankName><BusinessType>OS</BusinessType><YearOpened>1986</YearOpened><Specialty>Road</Specialty><SquareFeet>76000</SquareFeet><Brands>4+</Brands><Internet>DSL</Internet><NumberEmployees>96</NumberEmployees></StoreSurvey></td><td>2014-09-12</td><td>Stationary Bikes and Stands</td><td>277</td><td>b2fedf01-27f1-4978-ac3d-0cf105185a33</td></tr><tr><td>802</td><td><StoreSurvey xmlns=\"http://schemas.microsoft.com/sqlserver/2004/07/adventure-works/StoreSurvey\"><AnnualSales>1500000</AnnualSales><AnnualRevenue>150000</AnnualRevenue><BankName>Guardian Bank</BankName><BusinessType>BS</BusinessType><YearOpened>1997</YearOpened><Specialty>Road</Specialty><SquareFeet>38000</SquareFeet><Brands>3</Brands><Internet>T1</Internet><NumberEmployees>46</NumberEmployees></StoreSurvey></td><td>2014-09-12</td><td>Successful Sales Company</td><td>280</td><td>a3d9586d-2eec-4e39-b311-2880fcdeb536</td></tr><tr><td>804</td><td><StoreSurvey xmlns=\"http://schemas.microsoft.com/sqlserver/2004/07/adventure-works/StoreSurvey\"><AnnualSales>3000000</AnnualSales><AnnualRevenue>300000</AnnualRevenue><BankName>International Bank</BankName><BusinessType>OS</BusinessType><YearOpened>1986</YearOpened><Specialty>Mountain</Specialty><SquareFeet>74000</SquareFeet><Brands>4+</Brands><Internet>DSL</Internet><NumberEmployees>85</NumberEmployees></StoreSurvey></td><td>2014-09-12</td><td>Downtown Hotel</td><td>281</td><td>19c5ccaf-6fde-4f34-b10c-2155533c51f6</td></tr><tr><td>806</td><td><StoreSurvey xmlns=\"http://schemas.microsoft.com/sqlserver/2004/07/adventure-works/StoreSurvey\"><AnnualSales>3000000</AnnualSales><AnnualRevenue>300000</AnnualRevenue><BankName>United Security</BankName><BusinessType>OS</BusinessType><YearOpened>1978</YearOpened><Specialty>Mountain</Specialty><SquareFeet>78000</SquareFeet><Brands>4+</Brands><Internet>DSL</Internet><NumberEmployees>86</NumberEmployees></StoreSurvey></td><td>2014-09-12</td><td>Certified Sports Supply</td><td>282</td><td>0f2c5152-8b95-41f8-b0a0-f6af76da98cb</td></tr><tr><td>808</td><td><StoreSurvey xmlns=\"http://schemas.microsoft.com/sqlserver/2004/07/adventure-works/StoreSurvey\"><AnnualSales>3000000</AnnualSales><AnnualRevenue>300000</AnnualRevenue><BankName>Reserve Security</BankName><BusinessType>OS</BusinessType><YearOpened>1983</YearOpened><Specialty>Mountain</Specialty><SquareFeet>77000</SquareFeet><Brands>3</Brands><Internet>T1</Internet><NumberEmployees>87</NumberEmployees></StoreSurvey></td><td>2014-09-12</td><td>Registered Cycle Store</td><td>290</td><td>dea4bef9-a886-41e7-be61-8d2618260863</td></tr><tr><td>810</td><td><StoreSurvey xmlns=\"http://schemas.microsoft.com/sqlserver/2004/07/adventure-works/StoreSurvey\"><AnnualSales>3000000</AnnualSales><AnnualRevenue>300000</AnnualRevenue><BankName>Primary International</BankName><BusinessType>OS</BusinessType><YearOpened>1975</YearOpened><Specialty>Touring</Specialty><SquareFeet>75000</SquareFeet><Brands>3</Brands><Internet>ISDN</Internet><NumberEmployees>88</NumberEmployees></StoreSurvey></td><td>2014-09-12</td><td>Rampart Amusement Company</td><td>289</td><td>4d64a5ff-671a-4c93-a494-9fb5dc7c76b4</td></tr><tr><td>812</td><td><StoreSurvey xmlns=\"http://schemas.microsoft.com/sqlserver/2004/07/adventure-works/StoreSurvey\"><AnnualSales>300000</AnnualSales><AnnualRevenue>30000</AnnualRevenue><BankName>Primary Bank &amp; Reserve</BankName><BusinessType>BM</BusinessType><YearOpened>1984</YearOpened><Specialty>Road</Specialty><SquareFeet>7000</SquareFeet><Brands>4+</Brands><Internet>T2</Internet><NumberEmployees>5</NumberEmployees></StoreSurvey></td><td>2014-09-12</td><td>Sundry Sporting Goods</td><td>282</td><td>89523b8a-763b-41da-bf56-9ed59c0a1cbb</td></tr><tr><td>814</td><td><StoreSurvey xmlns=\"http://schemas.microsoft.com/sqlserver/2004/07/adventure-works/StoreSurvey\"><AnnualSales>300000</AnnualSales><AnnualRevenue>30000</AnnualRevenue><BankName>International Security</BankName><BusinessType>BM</BusinessType><YearOpened>1979</YearOpened><Specialty>Road</Specialty><SquareFeet>9000</SquareFeet><Brands>3</Brands><Internet>ISDN</Internet><NumberEmployees>6</NumberEmployees></StoreSurvey></td><td>2014-09-12</td><td>Excellent Riding Supplies</td><td>279</td><td>c0d3f06b-dac6-42b6-b3a2-9f69ef2e27e7</td></tr><tr><td>816</td><td><StoreSurvey xmlns=\"http://schemas.microsoft.com/sqlserver/2004/07/adventure-works/StoreSurvey\"><AnnualSales>300000</AnnualSales><AnnualRevenue>30000</AnnualRevenue><BankName>Guardian Bank</BankName><BusinessType>BM</BusinessType><YearOpened>1987</YearOpened><Specialty>Road</Specialty><SquareFeet>8000</SquareFeet><Brands>3</Brands><Internet>T1</Internet><NumberEmployees>7</NumberEmployees></StoreSurvey></td><td>2014-09-12</td><td>Farthermost Bike Shop</td><td>281</td><td>91a84292-1e38-4ded-91ee-9bfaa1dd3dea</td></tr><tr><td>818</td><td><StoreSurvey xmlns=\"http://schemas.microsoft.com/sqlserver/2004/07/adventure-works/StoreSurvey\"><AnnualSales>300000</AnnualSales><AnnualRevenue>30000</AnnualRevenue><BankName>Primary International</BankName><BusinessType>BM</BusinessType><YearOpened>1982</YearOpened><Specialty>Mountain</Specialty><SquareFeet>10000</SquareFeet><Brands>3</Brands><Internet>DSL</Internet><NumberEmployees>8</NumberEmployees></StoreSurvey></td><td>2014-09-12</td><td>Suburban Cycle Shop</td><td>283</td><td>b3504bb0-308c-4d26-8e0a-ece43fe55a20</td></tr><tr><td>820</td><td><StoreSurvey xmlns=\"http://schemas.microsoft.com/sqlserver/2004/07/adventure-works/StoreSurvey\"><AnnualSales>300000</AnnualSales><AnnualRevenue>30000</AnnualRevenue><BankName>Reserve Security</BankName><BusinessType>BM</BusinessType><YearOpened>1990</YearOpened><Specialty>Road</Specialty><SquareFeet>9000</SquareFeet><Brands>AW</Brands><Internet>DSL</Internet><NumberEmployees>9</NumberEmployees></StoreSurvey></td><td>2014-09-12</td><td>Weekend Tours</td><td>275</td><td>4cfe3bd5-98f1-4e4a-90df-9decf1ce042b</td></tr><tr><td>822</td><td><StoreSurvey xmlns=\"http://schemas.microsoft.com/sqlserver/2004/07/adventure-works/StoreSurvey\"><AnnualSales>3000000</AnnualSales><AnnualRevenue>300000</AnnualRevenue><BankName>United Security</BankName><BusinessType>OS</BusinessType><YearOpened>1998</YearOpened><Specialty>Road</Specialty><SquareFeet>72000</SquareFeet><Brands>2</Brands><Internet>DSL</Internet><NumberEmployees>52</NumberEmployees></StoreSurvey></td><td>2014-09-12</td><td>Racing Bike Outlet</td><td>283</td><td>bf71f3bc-449f-418b-a0b3-c9f070365cf3</td></tr><tr><td>824</td><td><StoreSurvey xmlns=\"http://schemas.microsoft.com/sqlserver/2004/07/adventure-works/StoreSurvey\"><AnnualSales>3000000</AnnualSales><AnnualRevenue>300000</AnnualRevenue><BankName>Reserve Security</BankName><BusinessType>OS</BusinessType><YearOpened>1999</YearOpened><Specialty>Touring</Specialty><SquareFeet>72000</SquareFeet><Brands>3</Brands><Internet>DSL</Internet><NumberEmployees>55</NumberEmployees></StoreSurvey></td><td>2014-09-12</td><td>Utilitarian Sporting Goods</td><td>281</td><td>9f37eb77-80e4-4ffc-a5dc-3b1808d9af72</td></tr><tr><td>826</td><td><StoreSurvey xmlns=\"http://schemas.microsoft.com/sqlserver/2004/07/adventure-works/StoreSurvey\"><AnnualSales>3000000</AnnualSales><AnnualRevenue>300000</AnnualRevenue><BankName>Primary International</BankName><BusinessType>OS</BusinessType><YearOpened>1999</YearOpened><Specialty>Road</Specialty><SquareFeet>73000</SquareFeet><Brands>4+</Brands><Internet>T2</Internet><NumberEmployees>58</NumberEmployees></StoreSurvey></td><td>2014-09-12</td><td>Bike Goods </td><td>279</td><td>db843b5d-df3d-44ba-b4ef-81dcae29cb93</td></tr><tr><td>828</td><td><StoreSurvey xmlns=\"http://schemas.microsoft.com/sqlserver/2004/07/adventure-works/StoreSurvey\"><AnnualSales>3000000</AnnualSales><AnnualRevenue>300000</AnnualRevenue><BankName>Guardian Bank</BankName><BusinessType>OS</BusinessType><YearOpened>1979</YearOpened><Specialty>Mountain</Specialty><SquareFeet>72000</SquareFeet><Brands>2</Brands><Internet>T1</Internet><NumberEmployees>61</NumberEmployees></StoreSurvey></td><td>2014-09-12</td><td>Vigorous Exercise Company</td><td>282</td><td>9a4119a4-e158-4754-93a3-bab22274440f</td></tr><tr><td>830</td><td><StoreSurvey xmlns=\"http://schemas.microsoft.com/sqlserver/2004/07/adventure-works/StoreSurvey\"><AnnualSales>3000000</AnnualSales><AnnualRevenue>300000</AnnualRevenue><BankName>International Security</BankName><BusinessType>OS</BusinessType><YearOpened>1996</YearOpened><Specialty>Road</Specialty><SquareFeet>71000</SquareFeet><Brands>2</Brands><Internet>T1</Internet><NumberEmployees>64</NumberEmployees></StoreSurvey></td><td>2014-09-12</td><td>Showcase for Cycles</td><td>288</td><td>04dcaa69-ad7b-43c7-b149-e6fe2604d27e</td></tr><tr><td>832</td><td><StoreSurvey xmlns=\"http://schemas.microsoft.com/sqlserver/2004/07/adventure-works/StoreSurvey\"><AnnualSales>3000000</AnnualSales><AnnualRevenue>300000</AnnualRevenue><BankName>Primary Bank &amp; Reserve</BankName><BusinessType>OS</BusinessType><YearOpened>1991</YearOpened><Specialty>Road</Specialty><SquareFeet>71000</SquareFeet><Brands>3</Brands><Internet>ISDN</Internet><NumberEmployees>67</NumberEmployees></StoreSurvey></td><td>2014-09-12</td><td>Lease-a-Bike Shop</td><td>275</td><td>58c02eac-d3fd-4a79-b077-20c999b88a54</td></tr><tr><td>834</td><td><StoreSurvey xmlns=\"http://schemas.microsoft.com/sqlserver/2004/07/adventure-works/StoreSurvey\"><AnnualSales>3000000</AnnualSales><AnnualRevenue>300000</AnnualRevenue><BankName>International Bank</BankName><BusinessType>OS</BusinessType><YearOpened>1993</YearOpened><Specialty>Mountain</Specialty><SquareFeet>71000</SquareFeet><Brands>2</Brands><Internet>DSL</Internet><NumberEmployees>70</NumberEmployees></StoreSurvey></td><td>2014-09-12</td><td>Functional Store South</td><td>288</td><td>0d5c741d-a691-4732-93a3-d34ed0ed3716</td></tr><tr><td>836</td><td><StoreSurvey xmlns=\"http://schemas.microsoft.com/sqlserver/2004/07/adventure-works/StoreSurvey\"><AnnualSales>3000000</AnnualSales><AnnualRevenue>300000</AnnualRevenue><BankName>United Security</BankName><BusinessType>OS</BusinessType><YearOpened>1998</YearOpened><Specialty>Road</Specialty><SquareFeet>73000</SquareFeet><Brands>4+</Brands><Internet>DSL</Internet><NumberEmployees>73</NumberEmployees></StoreSurvey></td><td>2014-09-12</td><td>Active Cycling</td><td>275</td><td>1e3dff09-7e5c-49bd-b8b1-d0a2e1523bf6</td></tr><tr><td>838</td><td><StoreSurvey xmlns=\"http://schemas.microsoft.com/sqlserver/2004/07/adventure-works/StoreSurvey\"><AnnualSales>3000000</AnnualSales><AnnualRevenue>300000</AnnualRevenue><BankName>Reserve Security</BankName><BusinessType>OS</BusinessType><YearOpened>1990</YearOpened><Specialty>Touring</Specialty><SquareFeet>76000</SquareFeet><Brands>2</Brands><Internet>DSL</Internet><NumberEmployees>76</NumberEmployees></StoreSurvey></td><td>2014-09-12</td><td>Stock Parts and Supplies</td><td>283</td><td>ed67b7ec-a2a1-4f0b-9959-1bcd1c7e8b36</td></tr><tr><td>840</td><td><StoreSurvey xmlns=\"http://schemas.microsoft.com/sqlserver/2004/07/adventure-works/StoreSurvey\"><AnnualSales>3000000</AnnualSales><AnnualRevenue>300000</AnnualRevenue><BankName>Primary International</BankName><BusinessType>OS</BusinessType><YearOpened>1995</YearOpened><Specialty>Road</Specialty><SquareFeet>73000</SquareFeet><Brands>4+</Brands><Internet>DSL</Internet><NumberEmployees>79</NumberEmployees></StoreSurvey></td><td>2014-09-12</td><td>Roadway Supplies</td><td>281</td><td>dd1ceef8-3e77-4d8e-b420-48acba0a9651</td></tr><tr><td>842</td><td><StoreSurvey xmlns=\"http://schemas.microsoft.com/sqlserver/2004/07/adventure-works/StoreSurvey\"><AnnualSales>3000000</AnnualSales><AnnualRevenue>300000</AnnualRevenue><BankName>Guardian Bank</BankName><BusinessType>OS</BusinessType><YearOpened>1987</YearOpened><Specialty>Road</Specialty><SquareFeet>73000</SquareFeet><Brands>2</Brands><Internet>T1</Internet><NumberEmployees>80</NumberEmployees></StoreSurvey></td><td>2014-09-12</td><td>Sensational Discount Store</td><td>279</td><td>56795063-f8c7-4550-8a37-357d91cb7c96</td></tr><tr><td>844</td><td><StoreSurvey xmlns=\"http://schemas.microsoft.com/sqlserver/2004/07/adventure-works/StoreSurvey\"><AnnualSales>3000000</AnnualSales><AnnualRevenue>300000</AnnualRevenue><BankName>Guardian Bank</BankName><BusinessType>OS</BusinessType><YearOpened>1992</YearOpened><Specialty>Road</Specialty><SquareFeet>74000</SquareFeet><Brands>3</Brands><Internet>DSL</Internet><NumberEmployees>81</NumberEmployees></StoreSurvey></td><td>2014-09-12</td><td>Future Bikes</td><td>282</td><td>95a0e002-f4f0-4b42-ab6f-860c02405a6d</td></tr><tr><td>846</td><td><StoreSurvey xmlns=\"http://schemas.microsoft.com/sqlserver/2004/07/adventure-works/StoreSurvey\"><AnnualSales>3000000</AnnualSales><AnnualRevenue>300000</AnnualRevenue><BankName>Primary Bank &amp; Reserve</BankName><BusinessType>OS</BusinessType><YearOpened>1999</YearOpened><Specialty>Road</Specialty><SquareFeet>78000</SquareFeet><Brands>2</Brands><Internet>DSL</Internet><NumberEmployees>100</NumberEmployees></StoreSurvey></td><td>2014-09-12</td><td>Super Sports Store</td><td>275</td><td>a7b14c08-db02-4182-abbd-25daa3dba7f2</td></tr><tr><td>848</td><td><StoreSurvey xmlns=\"http://schemas.microsoft.com/sqlserver/2004/07/adventure-works/StoreSurvey\"><AnnualSales>3000000</AnnualSales><AnnualRevenue>300000</AnnualRevenue><BankName>International Bank</BankName><BusinessType>OS</BusinessType><YearOpened>1979</YearOpened><Specialty>Mountain</Specialty><SquareFeet>74000</SquareFeet><Brands>2</Brands><Internet>T1</Internet><NumberEmployees>66</NumberEmployees></StoreSurvey></td><td>2014-09-12</td><td>Satin Finish Company</td><td>277</td><td>24803781-0abd-47f6-a88c-c5fae0eaa3f7</td></tr><tr><td>850</td><td><StoreSurvey xmlns=\"http://schemas.microsoft.com/sqlserver/2004/07/adventure-works/StoreSurvey\"><AnnualSales>1500000</AnnualSales><AnnualRevenue>150000</AnnualRevenue><BankName>Primary Bank &amp; Reserve</BankName><BusinessType>OS</BusinessType><YearOpened>1974</YearOpened><Specialty>Mountain</Specialty><SquareFeet>38000</SquareFeet><Brands>4+</Brands><Internet>DSL</Internet><NumberEmployees>40</NumberEmployees></StoreSurvey></td><td>2014-09-12</td><td>Regional Manufacturing</td><td>281</td><td>164611b2-0b8a-4bcb-92ba-a7224089c518</td></tr><tr><td>852</td><td><StoreSurvey xmlns=\"http://schemas.microsoft.com/sqlserver/2004/07/adventure-works/StoreSurvey\"><AnnualSales>1500000</AnnualSales><AnnualRevenue>150000</AnnualRevenue><BankName>International Bank</BankName><BusinessType>OS</BusinessType><YearOpened>1980</YearOpened><Specialty>Mountain</Specialty><SquareFeet>38000</SquareFeet><Brands>4+</Brands><Internet>T1</Internet><NumberEmployees>43</NumberEmployees></StoreSurvey></td><td>2014-09-12</td><td>Original Bicycle Supply Company</td><td>282</td><td>093a9472-b613-4214-9c41-4d707cfc38c0</td></tr><tr><td>854</td><td><StoreSurvey xmlns=\"http://schemas.microsoft.com/sqlserver/2004/07/adventure-works/StoreSurvey\"><AnnualSales>1500000</AnnualSales><AnnualRevenue>150000</AnnualRevenue><BankName>United Security</BankName><BusinessType>OS</BusinessType><YearOpened>1986</YearOpened><Specialty>Mountain</Specialty><SquareFeet>39000</SquareFeet><Brands>2</Brands><Internet>T2</Internet><NumberEmployees>46</NumberEmployees></StoreSurvey></td><td>2014-09-12</td><td>First Center</td><td>290</td><td>2a96f5ea-199d-4b7b-b491-af05fa0edd2e</td></tr><tr><td>856</td><td><StoreSurvey xmlns=\"http://schemas.microsoft.com/sqlserver/2004/07/adventure-works/StoreSurvey\"><AnnualSales>1500000</AnnualSales><AnnualRevenue>150000</AnnualRevenue><BankName>Reserve Security</BankName><BusinessType>OS</BusinessType><YearOpened>1992</YearOpened><Specialty>Touring</Specialty><SquareFeet>40000</SquareFeet><Brands>2</Brands><Internet>DSL</Internet><NumberEmployees>49</NumberEmployees></StoreSurvey></td><td>2014-09-12</td><td>Action Bicycle Specialists</td><td>289</td><td>1d624dc8-9ebe-4acb-81c8-90f0b474b64f</td></tr><tr><td>858</td><td><StoreSurvey xmlns=\"http://schemas.microsoft.com/sqlserver/2004/07/adventure-works/StoreSurvey\"><AnnualSales>3000000</AnnualSales><AnnualRevenue>300000</AnnualRevenue><BankName>Primary International</BankName><BusinessType>OS</BusinessType><YearOpened>1998</YearOpened><Specialty>Touring</Specialty><SquareFeet>68000</SquareFeet><Brands>3</Brands><Internet>T1</Internet><NumberEmployees>52</NumberEmployees></StoreSurvey></td><td>2014-09-12</td><td>Roadway Bike Emporium</td><td>280</td><td>10f49b6a-8815-4b0c-aa31-f22972741d88</td></tr><tr><td>860</td><td><StoreSurvey xmlns=\"http://schemas.microsoft.com/sqlserver/2004/07/adventure-works/StoreSurvey\"><AnnualSales>3000000</AnnualSales><AnnualRevenue>300000</AnnualRevenue><BankName>Guardian Bank</BankName><BusinessType>OS</BusinessType><YearOpened>1999</YearOpened><Specialty>Touring</Specialty><SquareFeet>70000</SquareFeet><Brands>3</Brands><Internet>DSL</Internet><NumberEmployees>55</NumberEmployees></StoreSurvey></td><td>2014-09-12</td><td>Sleek Bikes </td><td>277</td><td>50684a79-632b-4a17-98f1-b09997e57ec2</td></tr><tr><td>862</td><td><StoreSurvey xmlns=\"http://schemas.microsoft.com/sqlserver/2004/07/adventure-works/StoreSurvey\"><AnnualSales>3000000</AnnualSales><AnnualRevenue>300000</AnnualRevenue><BankName>International Security</BankName><BusinessType>OS</BusinessType><YearOpened>1999</YearOpened><Specialty>Mountain</Specialty><SquareFeet>72000</SquareFeet><Brands>4+</Brands><Internet>T1</Internet><NumberEmployees>58</NumberEmployees></StoreSurvey></td><td>2014-09-12</td><td>Retail Sporting Equipment</td><td>281</td><td>7c69a372-2100-4d34-9c59-9645af5465f0</td></tr><tr><td>864</td><td><StoreSurvey xmlns=\"http://schemas.microsoft.com/sqlserver/2004/07/adventure-works/StoreSurvey\"><AnnualSales>3000000</AnnualSales><AnnualRevenue>300000</AnnualRevenue><BankName>Primary Bank &amp; Reserve</BankName><BusinessType>OS</BusinessType><YearOpened>1979</YearOpened><Specialty>Road</Specialty><SquareFeet>70000</SquareFeet><Brands>4+</Brands><Internet>DSL</Internet><NumberEmployees>61</NumberEmployees></StoreSurvey></td><td>2014-09-12</td><td>Price-Cutter Discount Bikes</td><td>282</td><td>5ef7f44b-42fc-4b7d-a1d3-fdf2f906aac1</td></tr><tr><td>866</td><td><StoreSurvey xmlns=\"http://schemas.microsoft.com/sqlserver/2004/07/adventure-works/StoreSurvey\"><AnnualSales>3000000</AnnualSales><AnnualRevenue>300000</AnnualRevenue><BankName>International Bank</BankName><BusinessType>OS</BusinessType><YearOpened>1996</YearOpened><Specialty>Road</Specialty><SquareFeet>73000</SquareFeet><Brands>4+</Brands><Internet>ISDN</Internet><NumberEmployees>64</NumberEmployees></StoreSurvey></td><td>2014-09-12</td><td>Brand New Bikes</td><td>290</td><td>43a5e3fd-0886-44e3-9640-772616d463b7</td></tr><tr><td>868</td><td><StoreSurvey xmlns=\"http://schemas.microsoft.com/sqlserver/2004/07/adventure-works/StoreSurvey\"><AnnualSales>3000000</AnnualSales><AnnualRevenue>300000</AnnualRevenue><BankName>United Security</BankName><BusinessType>OS</BusinessType><YearOpened>1991</YearOpened><Specialty>Touring</Specialty><SquareFeet>71000</SquareFeet><Brands>2</Brands><Internet>DSL</Internet><NumberEmployees>67</NumberEmployees></StoreSurvey></td><td>2014-09-12</td><td>Central Bicycle Specialists</td><td>289</td><td>c87accfe-02f1-4ecb-8759-d418e0df29ea</td></tr><tr><td>870</td><td><StoreSurvey xmlns=\"http://schemas.microsoft.com/sqlserver/2004/07/adventure-works/StoreSurvey\"><AnnualSales>3000000</AnnualSales><AnnualRevenue>300000</AnnualRevenue><BankName>Reserve Security</BankName><BusinessType>OS</BusinessType><YearOpened>1993</YearOpened><Specialty>Mountain</Specialty><SquareFeet>73000</SquareFeet><Brands>4+</Brands><Internet>ISDN</Internet><NumberEmployees>70</NumberEmployees></StoreSurvey></td><td>2014-09-12</td><td>Vast Bike Sales and Rental</td><td>280</td><td>c8c03798-fee6-49e1-a112-4f128f7f45b7</td></tr><tr><td>872</td><td><StoreSurvey xmlns=\"http://schemas.microsoft.com/sqlserver/2004/07/adventure-works/StoreSurvey\"><AnnualSales>3000000</AnnualSales><AnnualRevenue>300000</AnnualRevenue><BankName>Primary International</BankName><BusinessType>OS</BusinessType><YearOpened>1998</YearOpened><Specialty>Mountain</Specialty><SquareFeet>73000</SquareFeet><Brands>3</Brands><Internet>T2</Internet><NumberEmployees>73</NumberEmployees></StoreSurvey></td><td>2014-09-12</td><td>Summer Sports Place</td><td>277</td><td>4ff928f2-d314-455b-b00d-de870e399850</td></tr><tr><td>874</td><td><StoreSurvey xmlns=\"http://schemas.microsoft.com/sqlserver/2004/07/adventure-works/StoreSurvey\"><AnnualSales>3000000</AnnualSales><AnnualRevenue>300000</AnnualRevenue><BankName>Guardian Bank</BankName><BusinessType>OS</BusinessType><YearOpened>1990</YearOpened><Specialty>Mountain</Specialty><SquareFeet>72000</SquareFeet><Brands>3</Brands><Internet>DSL</Internet><NumberEmployees>76</NumberEmployees></StoreSurvey></td><td>2014-09-12</td><td>Real Sporting Goods</td><td>281</td><td>6cba3bfd-af5c-4eac-9f80-7b57dfe9fe5a</td></tr><tr><td>876</td><td><StoreSurvey xmlns=\"http://schemas.microsoft.com/sqlserver/2004/07/adventure-works/StoreSurvey\"><AnnualSales>3000000</AnnualSales><AnnualRevenue>300000</AnnualRevenue><BankName>Primary Bank &amp; Reserve</BankName><BusinessType>OS</BusinessType><YearOpened>1996</YearOpened><Specialty>Road</Specialty><SquareFeet>74000</SquareFeet><Brands>2</Brands><Internet>DSL</Internet><NumberEmployees>64</NumberEmployees></StoreSurvey></td><td>2014-09-12</td><td>Versatile Sporting Goods Company</td><td>288</td><td>d41ba195-3da6-42fb-8522-44a96dacb956</td></tr><tr><td>878</td><td><StoreSurvey xmlns=\"http://schemas.microsoft.com/sqlserver/2004/07/adventure-works/StoreSurvey\"><AnnualSales>3000000</AnnualSales><AnnualRevenue>300000</AnnualRevenue><BankName>International Bank</BankName><BusinessType>OS</BusinessType><YearOpened>1991</YearOpened><Specialty>Road</Specialty><SquareFeet>72000</SquareFeet><Brands>3</Brands><Internet>DSL</Internet><NumberEmployees>67</NumberEmployees></StoreSurvey></td><td>2014-09-12</td><td>Bicycle Outfitters</td><td>275</td><td>efdf9b24-7a68-42eb-949b-9aa87c7af9d9</td></tr><tr><td>880</td><td><StoreSurvey xmlns=\"http://schemas.microsoft.com/sqlserver/2004/07/adventure-works/StoreSurvey\"><AnnualSales>3000000</AnnualSales><AnnualRevenue>300000</AnnualRevenue><BankName>United Security</BankName><BusinessType>OS</BusinessType><YearOpened>1993</YearOpened><Specialty>Mountain</Specialty><SquareFeet>73000</SquareFeet><Brands>3</Brands><Internet>T1</Internet><NumberEmployees>70</NumberEmployees></StoreSurvey></td><td>2014-09-12</td><td>The Bike Shop</td><td>283</td><td>ea9810db-8f73-44e8-b65a-d148f62bf63a</td></tr><tr><td>882</td><td><StoreSurvey xmlns=\"http://schemas.microsoft.com/sqlserver/2004/07/adventure-works/StoreSurvey\"><AnnualSales>3000000</AnnualSales><AnnualRevenue>300000</AnnualRevenue><BankName>Reserve Security</BankName><BusinessType>OS</BusinessType><YearOpened>1998</YearOpened><Specialty>Mountain</Specialty><SquareFeet>74000</SquareFeet><Brands>2</Brands><Internet>T1</Internet><NumberEmployees>73</NumberEmployees></StoreSurvey></td><td>2014-09-12</td><td>Safe Toys</td><td>281</td><td>3b49ba13-2f39-4481-8153-ad709211834e</td></tr><tr><td>884</td><td><StoreSurvey xmlns=\"http://schemas.microsoft.com/sqlserver/2004/07/adventure-works/StoreSurvey\"><AnnualSales>3000000</AnnualSales><AnnualRevenue>300000</AnnualRevenue><BankName>Primary International</BankName><BusinessType>OS</BusinessType><YearOpened>1990</YearOpened><Specialty>Road</Specialty><SquareFeet>75000</SquareFeet><Brands>4+</Brands><Internet>DSL</Internet><NumberEmployees>76</NumberEmployees></StoreSurvey></td><td>2014-09-12</td><td>Qualified Sales and Repair Services</td><td>279</td><td>08a0eb56-a881-488f-a408-237a07ee87ad</td></tr><tr><td>886</td><td><StoreSurvey xmlns=\"http://schemas.microsoft.com/sqlserver/2004/07/adventure-works/StoreSurvey\"><AnnualSales>3000000</AnnualSales><AnnualRevenue>300000</AnnualRevenue><BankName>Guardian Bank</BankName><BusinessType>OS</BusinessType><YearOpened>1995</YearOpened><Specialty>Road</Specialty><SquareFeet>76000</SquareFeet><Brands>4+</Brands><Internet>DSL</Internet><NumberEmployees>79</NumberEmployees></StoreSurvey></td><td>2014-09-12</td><td>Our Sporting Goods Store</td><td>282</td><td>ae7b0459-93b0-401b-8128-6c0b3ee154fc</td></tr><tr><td>888</td><td><StoreSurvey xmlns=\"http://schemas.microsoft.com/sqlserver/2004/07/adventure-works/StoreSurvey\"><AnnualSales>3000000</AnnualSales><AnnualRevenue>300000</AnnualRevenue><BankName>International Security</BankName><BusinessType>OS</BusinessType><YearOpened>1987</YearOpened><Specialty>Road</Specialty><SquareFeet>77000</SquareFeet><Brands>4+</Brands><Internet>T1</Internet><NumberEmployees>80</NumberEmployees></StoreSurvey></td><td>2014-09-12</td><td>Lustrous Paints and Components</td><td>288</td><td>2e909f37-9d27-4090-b40f-148b648b0abf</td></tr><tr><td>890</td><td><StoreSurvey xmlns=\"http://schemas.microsoft.com/sqlserver/2004/07/adventure-works/StoreSurvey\"><AnnualSales>3000000</AnnualSales><AnnualRevenue>300000</AnnualRevenue><BankName>Primary Bank &amp; Reserve</BankName><BusinessType>OS</BusinessType><YearOpened>1992</YearOpened><Specialty>Mountain</Specialty><SquareFeet>77000</SquareFeet><Brands>3</Brands><Internet>T1</Internet><NumberEmployees>81</NumberEmployees></StoreSurvey></td><td>2014-09-12</td><td>Expert Sports Store</td><td>275</td><td>6f2a7d51-bff7-4d84-8066-642554a19d3a</td></tr><tr><td>892</td><td><StoreSurvey xmlns=\"http://schemas.microsoft.com/sqlserver/2004/07/adventure-works/StoreSurvey\"><AnnualSales>3000000</AnnualSales><AnnualRevenue>300000</AnnualRevenue><BankName>International Bank</BankName><BusinessType>OS</BusinessType><YearOpened>1984</YearOpened><Specialty>Mountain</Specialty><SquareFeet>75000</SquareFeet><Brands>3</Brands><Internet>T2</Internet><NumberEmployees>82</NumberEmployees></StoreSurvey></td><td>2014-09-12</td><td>Coho Sports</td><td>283</td><td>1ddbbf6f-bc85-45df-8798-acb47864bc13</td></tr><tr><td>894</td><td><StoreSurvey xmlns=\"http://schemas.microsoft.com/sqlserver/2004/07/adventure-works/StoreSurvey\"><AnnualSales>1500000</AnnualSales><AnnualRevenue>150000</AnnualRevenue><BankName>United Security</BankName><BusinessType>BS</BusinessType><YearOpened>1977</YearOpened><Specialty>Touring</Specialty><SquareFeet>39000</SquareFeet><Brands>2</Brands><Internet>DSL</Internet><NumberEmployees>41</NumberEmployees></StoreSurvey></td><td>2014-09-12</td><td>Jumbo Bikes</td><td>286</td><td>63b27f51-853d-44c5-87a7-1f798d0712c4</td></tr><tr><td>896</td><td><StoreSurvey xmlns=\"http://schemas.microsoft.com/sqlserver/2004/07/adventure-works/StoreSurvey\"><AnnualSales>1500000</AnnualSales><AnnualRevenue>150000</AnnualRevenue><BankName>International Bank</BankName><BusinessType>BS</BusinessType><YearOpened>1985</YearOpened><Specialty>Mountain</Specialty><SquareFeet>37000</SquareFeet><Brands>4+</Brands><Internet>T3</Internet><NumberEmployees>42</NumberEmployees></StoreSurvey></td><td>2014-09-12</td><td>Quick Delivery Service</td><td>278</td><td>5f287eda-9256-45d0-8c10-e8e73bf0af34</td></tr><tr><td>898</td><td><StoreSurvey xmlns=\"http://schemas.microsoft.com/sqlserver/2004/07/adventure-works/StoreSurvey\"><AnnualSales>1500000</AnnualSales><AnnualRevenue>150000</AnnualRevenue><BankName>Primary Bank &amp; Reserve</BankName><BusinessType>BS</BusinessType><YearOpened>1980</YearOpened><Specialty>Road</Specialty><SquareFeet>40000</SquareFeet><Brands>3</Brands><Internet>DSL</Internet><NumberEmployees>43</NumberEmployees></StoreSurvey></td><td>2014-09-12</td><td>Tough and Reliable Parts</td><td>279</td><td>5d8fdd67-754e-4233-a726-7c2273e72d9d</td></tr><tr><td>900</td><td><StoreSurvey xmlns=\"http://schemas.microsoft.com/sqlserver/2004/07/adventure-works/StoreSurvey\"><AnnualSales>1500000</AnnualSales><AnnualRevenue>150000</AnnualRevenue><BankName>International Security</BankName><BusinessType>BS</BusinessType><YearOpened>1988</YearOpened><Specialty>Mountain</Specialty><SquareFeet>38000</SquareFeet><Brands>3</Brands><Internet>DSL</Internet><NumberEmployees>44</NumberEmployees></StoreSurvey></td><td>2014-09-12</td><td>Basic Sports Equipment</td><td>276</td><td>f848fdfb-b867-4628-b5d9-1df6137103e1</td></tr><tr><td>902</td><td><StoreSurvey xmlns=\"http://schemas.microsoft.com/sqlserver/2004/07/adventure-works/StoreSurvey\"><AnnualSales>1500000</AnnualSales><AnnualRevenue>150000</AnnualRevenue><BankName>Guardian Bank</BankName><BusinessType>BS</BusinessType><YearOpened>1983</YearOpened><Specialty>Mountain</Specialty><SquareFeet>39000</SquareFeet><Brands>2</Brands><Internet>DSL</Internet><NumberEmployees>45</NumberEmployees></StoreSurvey></td><td>2014-09-12</td><td>Cash & Carry Bikes</td><td>277</td><td>2c9c648c-3dc1-47df-937d-ee53001ffc34</td></tr><tr><td>904</td><td><StoreSurvey xmlns=\"http://schemas.microsoft.com/sqlserver/2004/07/adventure-works/StoreSurvey\"><AnnualSales>1500000</AnnualSales><AnnualRevenue>150000</AnnualRevenue><BankName>Primary International</BankName><BusinessType>BS</BusinessType><YearOpened>1991</YearOpened><Specialty>Road</Specialty><SquareFeet>38000</SquareFeet><Brands>3</Brands><Internet>T2</Internet><NumberEmployees>46</NumberEmployees></StoreSurvey></td><td>2014-09-12</td><td>Convenient Bike Shop</td><td>275</td><td>060b2e02-67a3-493e-ac3a-c2a7851498fd</td></tr><tr><td>906</td><td><StoreSurvey xmlns=\"http://schemas.microsoft.com/sqlserver/2004/07/adventure-works/StoreSurvey\"><AnnualSales>1500000</AnnualSales><AnnualRevenue>150000</AnnualRevenue><BankName>Reserve Security</BankName><BusinessType>BS</BusinessType><YearOpened>1986</YearOpened><Specialty>Touring</Specialty><SquareFeet>39000</SquareFeet><Brands>3</Brands><Internet>T1</Internet><NumberEmployees>47</NumberEmployees></StoreSurvey></td><td>2014-09-12</td><td>Fitness Bike Accessories</td><td>286</td><td>132ef67c-f056-4245-8617-03da1b1da9b4</td></tr><tr><td>908</td><td><StoreSurvey xmlns=\"http://schemas.microsoft.com/sqlserver/2004/07/adventure-works/StoreSurvey\"><AnnualSales>1500000</AnnualSales><AnnualRevenue>150000</AnnualRevenue><BankName>United Security</BankName><BusinessType>BS</BusinessType><YearOpened>1994</YearOpened><Specialty>Road</Specialty><SquareFeet>38000</SquareFeet><Brands>4+</Brands><Internet>DSL</Internet><NumberEmployees>48</NumberEmployees></StoreSurvey></td><td>2014-09-12</td><td>General Bike Corporation</td><td>278</td><td>990c7fdd-84f7-4910-b140-7befc410dff2</td></tr><tr><td>910</td><td><StoreSurvey xmlns=\"http://schemas.microsoft.com/sqlserver/2004/07/adventure-works/StoreSurvey\"><AnnualSales>1500000</AnnualSales><AnnualRevenue>150000</AnnualRevenue><BankName>International Bank</BankName><BusinessType>BS</BusinessType><YearOpened>1989</YearOpened><Specialty>Touring</Specialty><SquareFeet>40000</SquareFeet><Brands>2</Brands><Internet>ISDN</Internet><NumberEmployees>49</NumberEmployees></StoreSurvey></td><td>2014-09-12</td><td>Quitting Business Distributors</td><td>279</td><td>f09339a6-110a-421e-9c64-06bc99a96fe9</td></tr><tr><td>912</td><td><StoreSurvey xmlns=\"http://schemas.microsoft.com/sqlserver/2004/07/adventure-works/StoreSurvey\"><AnnualSales>1500000</AnnualSales><AnnualRevenue>150000</AnnualRevenue><BankName>Primary Bank &amp; Reserve</BankName><BusinessType>BS</BusinessType><YearOpened>1997</YearOpened><Specialty>Mountain</Specialty><SquareFeet>38000</SquareFeet><Brands>3</Brands><Internet>T1</Internet><NumberEmployees>46</NumberEmployees></StoreSurvey></td><td>2014-09-12</td><td>Retail Cycle Shop</td><td>276</td><td>7e6cdd50-3ae0-442b-93ff-92e0d7561391</td></tr><tr><td>914</td><td><StoreSurvey xmlns=\"http://schemas.microsoft.com/sqlserver/2004/07/adventure-works/StoreSurvey\"><AnnualSales>1500000</AnnualSales><AnnualRevenue>150000</AnnualRevenue><BankName>International Security</BankName><BusinessType>BS</BusinessType><YearOpened>1992</YearOpened><Specialty>Road</Specialty><SquareFeet>39000</SquareFeet><Brands>4+</Brands><Internet>T2</Internet><NumberEmployees>43</NumberEmployees></StoreSurvey></td><td>2014-09-12</td><td>Social Activities Club</td><td>277</td><td>46fab6e6-5fb5-4131-b7cd-1da4d7ffd16f</td></tr><tr><td>916</td><td><StoreSurvey xmlns=\"http://schemas.microsoft.com/sqlserver/2004/07/adventure-works/StoreSurvey\"><AnnualSales>1500000</AnnualSales><AnnualRevenue>150000</AnnualRevenue><BankName>Guardian Bank</BankName><BusinessType>BS</BusinessType><YearOpened>1995</YearOpened><Specialty>Road</Specialty><SquareFeet>36000</SquareFeet><Brands>4+</Brands><Internet>DSL</Internet><NumberEmployees>40</NumberEmployees></StoreSurvey></td><td>2014-09-12</td><td>Blue Bicycle Company</td><td>275</td><td>edd3982f-5df1-4e35-8deb-cf85796257e4</td></tr><tr><td>918</td><td><StoreSurvey xmlns=\"http://schemas.microsoft.com/sqlserver/2004/07/adventure-works/StoreSurvey\"><AnnualSales>1500000</AnnualSales><AnnualRevenue>150000</AnnualRevenue><BankName>Primary International</BankName><BusinessType>BS</BusinessType><YearOpened>1995</YearOpened><Specialty>Touring</Specialty><SquareFeet>38000</SquareFeet><Brands>4+</Brands><Internet>DSL</Internet><NumberEmployees>37</NumberEmployees></StoreSurvey></td><td>2014-09-12</td><td>Expert Cycle Store</td><td>286</td><td>111a9af9-d7d1-4685-a091-d815dfabb800</td></tr><tr><td>920</td><td><StoreSurvey xmlns=\"http://schemas.microsoft.com/sqlserver/2004/07/adventure-works/StoreSurvey\"><AnnualSales>1500000</AnnualSales><AnnualRevenue>150000</AnnualRevenue><BankName>Reserve Security</BankName><BusinessType>BS</BusinessType><YearOpened>1983</YearOpened><Specialty>Mountain</Specialty><SquareFeet>36000</SquareFeet><Brands>3</Brands><Internet>DSL</Internet><NumberEmployees>34</NumberEmployees></StoreSurvey></td><td>2014-09-12</td><td>General Riding Supplies</td><td>278</td><td>b2340407-6a5b-4eca-891a-b59dbeec8049</td></tr><tr><td>922</td><td><StoreSurvey xmlns=\"http://schemas.microsoft.com/sqlserver/2004/07/adventure-works/StoreSurvey\"><AnnualSales>1500000</AnnualSales><AnnualRevenue>150000</AnnualRevenue><BankName>United Security</BankName><BusinessType>BS</BusinessType><YearOpened>1998</YearOpened><Specialty>Road</Specialty><SquareFeet>38000</SquareFeet><Brands>3</Brands><Internet>T3</Internet><NumberEmployees>31</NumberEmployees></StoreSurvey></td><td>2014-09-12</td><td>Parts Shop</td><td>279</td><td>42964898-0530-4811-9e7b-4da71ac9e21a</td></tr><tr><td>924</td><td><StoreSurvey xmlns=\"http://schemas.microsoft.com/sqlserver/2004/07/adventure-works/StoreSurvey\"><AnnualSales>1000000</AnnualSales><AnnualRevenue>100000</AnnualRevenue><BankName>International Bank</BankName><BusinessType>BS</BusinessType><YearOpened>1971</YearOpened><Specialty>Road</Specialty><SquareFeet>27000</SquareFeet><Brands>4+</Brands><Internet>T1</Internet><NumberEmployees>28</NumberEmployees></StoreSurvey></td><td>2014-09-12</td><td>Riding Excursions</td><td>276</td><td>642126c4-b893-460a-b8fd-0a041447ecc4</td></tr><tr><td>926</td><td><StoreSurvey xmlns=\"http://schemas.microsoft.com/sqlserver/2004/07/adventure-works/StoreSurvey\"><AnnualSales>1000000</AnnualSales><AnnualRevenue>100000</AnnualRevenue><BankName>Primary Bank &amp; Reserve</BankName><BusinessType>BS</BusinessType><YearOpened>2001</YearOpened><Specialty>Mountain</Specialty><SquareFeet>27000</SquareFeet><Brands>3</Brands><Internet>DSL</Internet><NumberEmployees>25</NumberEmployees></StoreSurvey></td><td>2014-09-12</td><td>Unique Bikes</td><td>277</td><td>424b0c7d-36b5-4d83-8b83-d346726bc960</td></tr><tr><td>928</td><td><StoreSurvey xmlns=\"http://schemas.microsoft.com/sqlserver/2004/07/adventure-works/StoreSurvey\"><AnnualSales>800000</AnnualSales><AnnualRevenue>80000</AnnualRevenue><BankName>Primary International</BankName><BusinessType>BM</BusinessType><YearOpened>1988</YearOpened><Specialty>Mountain</Specialty><SquareFeet>21000</SquareFeet><Brands>4+</Brands><Internet>DSL</Internet><NumberEmployees>11</NumberEmployees></StoreSurvey></td><td>2014-09-12</td><td>Rural Cycle Emporium</td><td>282</td><td>59deae0a-7b98-4b25-9431-1be36365167f</td></tr><tr><td>930</td><td><StoreSurvey xmlns=\"http://schemas.microsoft.com/sqlserver/2004/07/adventure-works/StoreSurvey\"><AnnualSales>300000</AnnualSales><AnnualRevenue>30000</AnnualRevenue><BankName>Reserve Security</BankName><BusinessType>BM</BusinessType><YearOpened>1982</YearOpened><Specialty>Mountain</Specialty><SquareFeet>7000</SquareFeet><Brands>3</Brands><Internet>DSL</Internet><NumberEmployees>8</NumberEmployees></StoreSurvey></td><td>2014-09-12</td><td>Associated Bikes</td><td>281</td><td>22e7c8dd-5feb-4b87-abf2-d87bc0aa4695</td></tr><tr><td>932</td><td><StoreSurvey xmlns=\"http://schemas.microsoft.com/sqlserver/2004/07/adventure-works/StoreSurvey\"><AnnualSales>300000</AnnualSales><AnnualRevenue>30000</AnnualRevenue><BankName>United Security</BankName><BusinessType>BM</BusinessType><YearOpened>1976</YearOpened><Specialty>Road</Specialty><SquareFeet>6000</SquareFeet><Brands>2</Brands><Internet>DSL</Internet><NumberEmployees>5</NumberEmployees></StoreSurvey></td><td>2014-09-12</td><td>Modular Cycle Systems</td><td>277</td><td>a232dae8-2411-4fdc-bbb2-6eb5f547986b</td></tr><tr><td>934</td><td><StoreSurvey xmlns=\"http://schemas.microsoft.com/sqlserver/2004/07/adventure-works/StoreSurvey\"><AnnualSales>300000</AnnualSales><AnnualRevenue>30000</AnnualRevenue><BankName>International Bank</BankName><BusinessType>BM</BusinessType><YearOpened>1970</YearOpened><Specialty>Road</Specialty><SquareFeet>7000</SquareFeet><Brands>AW</Brands><Internet>T1</Internet><NumberEmployees>2</NumberEmployees></StoreSurvey></td><td>2014-09-12</td><td>A Bike Store</td><td>280</td><td>80b15702-df20-4df9-876c-2cf1c3978d39</td></tr><tr><td>936</td><td><StoreSurvey xmlns=\"http://schemas.microsoft.com/sqlserver/2004/07/adventure-works/StoreSurvey\"><AnnualSales>800000</AnnualSales><AnnualRevenue>80000</AnnualRevenue><BankName>Primary Bank &amp; Reserve</BankName><BusinessType>BM</BusinessType><YearOpened>1996</YearOpened><Specialty>Mountain</Specialty><SquareFeet>21000</SquareFeet><Brands>3</Brands><Internet>DSL</Internet><NumberEmployees>13</NumberEmployees></StoreSurvey></td><td>2014-09-12</td><td>Journey Sporting Goods</td><td>277</td><td>f2ac714e-6e3e-4d55-ac9d-ea0ffa700bbb</td></tr><tr><td>938</td><td><StoreSurvey xmlns=\"http://schemas.microsoft.com/sqlserver/2004/07/adventure-works/StoreSurvey\"><AnnualSales>800000</AnnualSales><AnnualRevenue>80000</AnnualRevenue><BankName>International Security</BankName><BusinessType>BM</BusinessType><YearOpened>1991</YearOpened><Specialty>Road</Specialty><SquareFeet>20000</SquareFeet><Brands>3</Brands><Internet>T1</Internet><NumberEmployees>14</NumberEmployees></StoreSurvey></td><td>2014-09-12</td><td>Two Bike Shops</td><td>280</td><td>3f8d0676-b72e-4bfc-b90e-ceade5b51cde</td></tr><tr><td>940</td><td><StoreSurvey xmlns=\"http://schemas.microsoft.com/sqlserver/2004/07/adventure-works/StoreSurvey\"><AnnualSales>800000</AnnualSales><AnnualRevenue>80000</AnnualRevenue><BankName>Guardian Bank</BankName><BusinessType>BM</BusinessType><YearOpened>1999</YearOpened><Specialty>Touring</Specialty><SquareFeet>21000</SquareFeet><Brands>4+</Brands><Internet>T2</Internet><NumberEmployees>15</NumberEmployees></StoreSurvey></td><td>2014-09-12</td><td>Cycles Wholesaler & Mfg.</td><td>289</td><td>b634ae55-e758-4184-bd40-6f0eec1ee566</td></tr><tr><td>942</td><td><StoreSurvey xmlns=\"http://schemas.microsoft.com/sqlserver/2004/07/adventure-works/StoreSurvey\"><AnnualSales>800000</AnnualSales><AnnualRevenue>80000</AnnualRevenue><BankName>Primary International</BankName><BusinessType>BM</BusinessType><YearOpened>1994</YearOpened><Specialty>Road</Specialty><SquareFeet>19000</SquareFeet><Brands>4+</Brands><Internet>T1</Internet><NumberEmployees>16</NumberEmployees></StoreSurvey></td><td>2014-09-12</td><td>Wheels Inc.</td><td>290</td><td>7d98c7c7-c155-482e-a2b2-918964a02a05</td></tr><tr><td>944</td><td><StoreSurvey xmlns=\"http://schemas.microsoft.com/sqlserver/2004/07/adventure-works/StoreSurvey\"><AnnualSales>1500000</AnnualSales><AnnualRevenue>150000</AnnualRevenue><BankName>Guardian Bank</BankName><BusinessType>BS</BusinessType><YearOpened>1982</YearOpened><Specialty>Road</Specialty><SquareFeet>40000</SquareFeet><Brands>4+</Brands><Internet>T1</Internet><NumberEmployees>40</NumberEmployees></StoreSurvey></td><td>2014-09-12</td><td>Number One Bike Co.</td><td>289</td><td>6f9f5165-4e33-484e-8062-da66d67674b2</td></tr><tr><td>946</td><td><StoreSurvey xmlns=\"http://schemas.microsoft.com/sqlserver/2004/07/adventure-works/StoreSurvey\"><AnnualSales>1500000</AnnualSales><AnnualRevenue>150000</AnnualRevenue><BankName>Primary International</BankName><BusinessType>BS</BusinessType><YearOpened>1977</YearOpened><Specialty>Touring</Specialty><SquareFeet>38000</SquareFeet><Brands>3</Brands><Internet>DSL</Internet><NumberEmployees>41</NumberEmployees></StoreSurvey></td><td>2014-09-12</td><td>Racing Supply Distributors</td><td>290</td><td>1bcad975-f366-4870-9f27-67f8e0443bfc</td></tr><tr><td>948</td><td><StoreSurvey xmlns=\"http://schemas.microsoft.com/sqlserver/2004/07/adventure-works/StoreSurvey\"><AnnualSales>1500000</AnnualSales><AnnualRevenue>150000</AnnualRevenue><BankName>Reserve Security</BankName><BusinessType>BS</BusinessType><YearOpened>1985</YearOpened><Specialty>Mountain</Specialty><SquareFeet>38000</SquareFeet><Brands>4+</Brands><Internet>DSL</Internet><NumberEmployees>42</NumberEmployees></StoreSurvey></td><td>2014-09-12</td><td>Standard Bikes</td><td>282</td><td>5652e775-8192-4ed3-9da0-979a1fcb2071</td></tr><tr><td>950</td><td><StoreSurvey xmlns=\"http://schemas.microsoft.com/sqlserver/2004/07/adventure-works/StoreSurvey\"><AnnualSales>1500000</AnnualSales><AnnualRevenue>150000</AnnualRevenue><BankName>United Security</BankName><BusinessType>BS</BusinessType><YearOpened>1980</YearOpened><Specialty>Road</Specialty><SquareFeet>37000</SquareFeet><Brands>4+</Brands><Internet>T1</Internet><NumberEmployees>43</NumberEmployees></StoreSurvey></td><td>2014-09-12</td><td>The Bicycle Accessories Company</td><td>281</td><td>a91f242f-e7ae-4b00-abc6-037b9e740d9d</td></tr><tr><td>952</td><td><StoreSurvey xmlns=\"http://schemas.microsoft.com/sqlserver/2004/07/adventure-works/StoreSurvey\"><AnnualSales>1500000</AnnualSales><AnnualRevenue>150000</AnnualRevenue><BankName>International Bank</BankName><BusinessType>BS</BusinessType><YearOpened>1988</YearOpened><Specialty>Road</Specialty><SquareFeet>39000</SquareFeet><Brands>4+</Brands><Internet>T1</Internet><NumberEmployees>44</NumberEmployees></StoreSurvey></td><td>2014-09-12</td><td>Active Systems</td><td>277</td><td>dc414650-f329-4888-a3ea-ad5f4bb3c082</td></tr><tr><td>954</td><td><StoreSurvey xmlns=\"http://schemas.microsoft.com/sqlserver/2004/07/adventure-works/StoreSurvey\"><AnnualSales>3000000</AnnualSales><AnnualRevenue>300000</AnnualRevenue><BankName>Primary Bank &amp; Reserve</BankName><BusinessType>OS</BusinessType><YearOpened>1974</YearOpened><Specialty>Road</Specialty><SquareFeet>78000</SquareFeet><Brands>3</Brands><Internet>DSL</Internet><NumberEmployees>94</NumberEmployees></StoreSurvey></td><td>2014-09-12</td><td>Futuristic Sport Distributors</td><td>281</td><td>6da7b1d1-17b5-4382-a9d4-fbe204b9c8df</td></tr><tr><td>956</td><td><StoreSurvey xmlns=\"http://schemas.microsoft.com/sqlserver/2004/07/adventure-works/StoreSurvey\"><AnnualSales>3000000</AnnualSales><AnnualRevenue>300000</AnnualRevenue><BankName>International Bank</BankName><BusinessType>OS</BusinessType><YearOpened>1980</YearOpened><Specialty>Road</Specialty><SquareFeet>77000</SquareFeet><Brands>4+</Brands><Internet>T2</Internet><NumberEmployees>95</NumberEmployees></StoreSurvey></td><td>2014-09-12</td><td>Finer Sales and Service</td><td>282</td><td>00a7e190-d705-4791-aab5-ad218497dd06</td></tr><tr><td>958</td><td><StoreSurvey xmlns=\"http://schemas.microsoft.com/sqlserver/2004/07/adventure-works/StoreSurvey\"><AnnualSales>3000000</AnnualSales><AnnualRevenue>300000</AnnualRevenue><BankName>United Security</BankName><BusinessType>OS</BusinessType><YearOpened>1986</YearOpened><Specialty>Road</Specialty><SquareFeet>80000</SquareFeet><Brands>4+</Brands><Internet>DSL</Internet><NumberEmployees>96</NumberEmployees></StoreSurvey></td><td>2014-09-12</td><td>Big-Time Bike Store</td><td>281</td><td>059b53a3-3394-433b-b916-97265d5a95c5</td></tr><tr><td>960</td><td><StoreSurvey xmlns=\"http://schemas.microsoft.com/sqlserver/2004/07/adventure-works/StoreSurvey\"><AnnualSales>3000000</AnnualSales><AnnualRevenue>300000</AnnualRevenue><BankName>Reserve Security</BankName><BusinessType>OS</BusinessType><YearOpened>1992</YearOpened><Specialty>Road</Specialty><SquareFeet>79000</SquareFeet><Brands>4+</Brands><Internet>DSL</Internet><NumberEmployees>97</NumberEmployees></StoreSurvey></td><td>2014-09-12</td><td>The Showroom</td><td>282</td><td>af96a1ef-f280-411e-be2f-063a000dc162</td></tr><tr><td>962</td><td><StoreSurvey xmlns=\"http://schemas.microsoft.com/sqlserver/2004/07/adventure-works/StoreSurvey\"><AnnualSales>3000000</AnnualSales><AnnualRevenue>300000</AnnualRevenue><BankName>Primary International</BankName><BusinessType>OS</BusinessType><YearOpened>1998</YearOpened><Specialty>Mountain</Specialty><SquareFeet>79000</SquareFeet><Brands>4+</Brands><Internet>T1</Internet><NumberEmployees>98</NumberEmployees></StoreSurvey></td><td>2014-09-12</td><td>Spa and Exercise Outfitters</td><td>290</td><td>6fe30abe-390e-41bb-a85f-82279aa39245</td></tr><tr><td>964</td><td><StoreSurvey xmlns=\"http://schemas.microsoft.com/sqlserver/2004/07/adventure-works/StoreSurvey\"><AnnualSales>3000000</AnnualSales><AnnualRevenue>300000</AnnualRevenue><BankName>United Security</BankName><BusinessType>OS</BusinessType><YearOpened>1979</YearOpened><Specialty>Mountain</Specialty><SquareFeet>75000</SquareFeet><Brands>4+</Brands><Internet>DSL</Internet><NumberEmployees>66</NumberEmployees></StoreSurvey></td><td>2014-09-12</td><td>Year-Round Sports</td><td>283</td><td>fae5ed78-bcfc-44fb-9d14-1207978fd56d</td></tr><tr><td>966</td><td><StoreSurvey xmlns=\"http://schemas.microsoft.com/sqlserver/2004/07/adventure-works/StoreSurvey\"><AnnualSales>1500000</AnnualSales><AnnualRevenue>150000</AnnualRevenue><BankName>International Bank</BankName><BusinessType>OS</BusinessType><YearOpened>1974</YearOpened><Specialty>Road</Specialty><SquareFeet>37000</SquareFeet><Brands>4+</Brands><Internet>DSL</Internet><NumberEmployees>40</NumberEmployees></StoreSurvey></td><td>2014-09-12</td><td>The New Bike Store</td><td>276</td><td>6e52ef1b-0c2a-447d-b182-eff74a256e57</td></tr><tr><td>968</td><td><StoreSurvey xmlns=\"http://schemas.microsoft.com/sqlserver/2004/07/adventure-works/StoreSurvey\"><AnnualSales>1500000</AnnualSales><AnnualRevenue>150000</AnnualRevenue><BankName>United Security</BankName><BusinessType>OS</BusinessType><YearOpened>1980</YearOpened><Specialty>Mountain</Specialty><SquareFeet>38000</SquareFeet><Brands>4+</Brands><Internet>DSL</Internet><NumberEmployees>43</NumberEmployees></StoreSurvey></td><td>2014-09-12</td><td>Resident Cycle Shop</td><td>279</td><td>3d1fabe2-11ee-46eb-a6d2-0dfa11ef96ca</td></tr><tr><td>970</td><td><StoreSurvey xmlns=\"http://schemas.microsoft.com/sqlserver/2004/07/adventure-works/StoreSurvey\"><AnnualSales>1500000</AnnualSales><AnnualRevenue>150000</AnnualRevenue><BankName>Reserve Security</BankName><BusinessType>OS</BusinessType><YearOpened>1986</YearOpened><Specialty>Road</Specialty><SquareFeet>39000</SquareFeet><Brands>4+</Brands><Internet>T1</Internet><NumberEmployees>46</NumberEmployees></StoreSurvey></td><td>2014-09-12</td><td>Primary Bike Distributors</td><td>278</td><td>1b520861-7d47-4bb2-96ee-4acd2b54ed5e</td></tr><tr><td>972</td><td><StoreSurvey xmlns=\"http://schemas.microsoft.com/sqlserver/2004/07/adventure-works/StoreSurvey\"><AnnualSales>1500000</AnnualSales><AnnualRevenue>150000</AnnualRevenue><BankName>Primary International</BankName><BusinessType>OS</BusinessType><YearOpened>1992</YearOpened><Specialty>Touring</Specialty><SquareFeet>41000</SquareFeet><Brands>4+</Brands><Internet>T1</Internet><NumberEmployees>49</NumberEmployees></StoreSurvey></td><td>2014-09-12</td><td>Major Bicycle Store</td><td>286</td><td>1589e17f-1b07-411a-8938-6bcec7d3140f</td></tr><tr><td>974</td><td><StoreSurvey xmlns=\"http://schemas.microsoft.com/sqlserver/2004/07/adventure-works/StoreSurvey\"><AnnualSales>3000000</AnnualSales><AnnualRevenue>300000</AnnualRevenue><BankName>Guardian Bank</BankName><BusinessType>OS</BusinessType><YearOpened>1998</YearOpened><Specialty>Road</Specialty><SquareFeet>68000</SquareFeet><Brands>2</Brands><Internet>DSL</Internet><NumberEmployees>52</NumberEmployees></StoreSurvey></td><td>2014-09-12</td><td>Leather and Vinyl Manufacturing</td><td>275</td><td>5eff72c4-6ea5-4cdc-8d14-017265283388</td></tr><tr><td>976</td><td><StoreSurvey xmlns=\"http://schemas.microsoft.com/sqlserver/2004/07/adventure-works/StoreSurvey\"><AnnualSales>3000000</AnnualSales><AnnualRevenue>300000</AnnualRevenue><BankName>International Security</BankName><BusinessType>OS</BusinessType><YearOpened>1999</YearOpened><Specialty>Mountain</Specialty><SquareFeet>70000</SquareFeet><Brands>4+</Brands><Internet>T1</Internet><NumberEmployees>55</NumberEmployees></StoreSurvey></td><td>2014-09-12</td><td>Genial Bike Associates</td><td>277</td><td>8bc88e7c-8f45-4b76-83cf-2b3b4748de76</td></tr><tr><td>978</td><td><StoreSurvey xmlns=\"http://schemas.microsoft.com/sqlserver/2004/07/adventure-works/StoreSurvey\"><AnnualSales>3000000</AnnualSales><AnnualRevenue>300000</AnnualRevenue><BankName>Reserve Security</BankName><BusinessType>OS</BusinessType><YearOpened>1979</YearOpened><Specialty>Mountain</Specialty><SquareFeet>74000</SquareFeet><Brands>3</Brands><Internet>DSL</Internet><NumberEmployees>61</NumberEmployees></StoreSurvey></td><td>2014-09-12</td><td>Commercial Sporting Goods</td><td>281</td><td>835873e3-6c31-4f68-bde5-c9db54ada0f6</td></tr><tr><td>980</td><td><StoreSurvey xmlns=\"http://schemas.microsoft.com/sqlserver/2004/07/adventure-works/StoreSurvey\"><AnnualSales>3000000</AnnualSales><AnnualRevenue>300000</AnnualRevenue><BankName>Primary International</BankName><BusinessType>OS</BusinessType><YearOpened>1996</YearOpened><Specialty>Road</Specialty><SquareFeet>70000</SquareFeet><Brands>4+</Brands><Internet>DSL</Internet><NumberEmployees>64</NumberEmployees></StoreSurvey></td><td>2014-09-12</td><td>Wholesale Parts</td><td>282</td><td>d32d0b60-2a92-4f48-8b49-817466bd7dbd</td></tr><tr><td>982</td><td><StoreSurvey xmlns=\"http://schemas.microsoft.com/sqlserver/2004/07/adventure-works/StoreSurvey\"><AnnualSales>3000000</AnnualSales><AnnualRevenue>300000</AnnualRevenue><BankName>Guardian Bank</BankName><BusinessType>OS</BusinessType><YearOpened>1991</YearOpened><Specialty>Road</Specialty><SquareFeet>74000</SquareFeet><Brands>4+</Brands><Internet>T1</Internet><NumberEmployees>67</NumberEmployees></StoreSurvey></td><td>2014-09-12</td><td>Steel Inc.</td><td>290</td><td>5f9911f5-04fb-4288-801b-4af1e9ef19b0</td></tr><tr><td>984</td><td><StoreSurvey xmlns=\"http://schemas.microsoft.com/sqlserver/2004/07/adventure-works/StoreSurvey\"><AnnualSales>3000000</AnnualSales><AnnualRevenue>300000</AnnualRevenue><BankName>International Security</BankName><BusinessType>OS</BusinessType><YearOpened>1993</YearOpened><Specialty>Road</Specialty><SquareFeet>74000</SquareFeet><Brands>3</Brands><Internet>ISDN</Internet><NumberEmployees>70</NumberEmployees></StoreSurvey></td><td>2014-09-12</td><td>Riding Cycles</td><td>289</td><td>a631b7d3-4ada-4d5c-a985-6dff7a8066be</td></tr><tr><td>986</td><td><StoreSurvey xmlns=\"http://schemas.microsoft.com/sqlserver/2004/07/adventure-works/StoreSurvey\"><AnnualSales>1500000</AnnualSales><AnnualRevenue>150000</AnnualRevenue><BankName>International Security</BankName><BusinessType>BS</BusinessType><YearOpened>1977</YearOpened><Specialty>Mountain</Specialty><SquareFeet>36000</SquareFeet><Brands>4+</Brands><Internet>DSL</Internet><NumberEmployees>41</NumberEmployees></StoreSurvey></td><td>2014-09-12</td><td>Metro Manufacturing</td><td>282</td><td>682059c4-de55-43f6-8754-1a232df99fa4</td></tr><tr><td>988</td><td><StoreSurvey xmlns=\"http://schemas.microsoft.com/sqlserver/2004/07/adventure-works/StoreSurvey\"><AnnualSales>1500000</AnnualSales><AnnualRevenue>150000</AnnualRevenue><BankName>Guardian Bank</BankName><BusinessType>BS</BusinessType><YearOpened>1985</YearOpened><Specialty>Road</Specialty><SquareFeet>39000</SquareFeet><Brands>3</Brands><Internet>DSL</Internet><NumberEmployees>42</NumberEmployees></StoreSurvey></td><td>2014-09-12</td><td>Manufacturers Inc</td><td>279</td><td>349c5e18-0492-4ff2-b3b6-ce2c5277d948</td></tr><tr><td>990</td><td><StoreSurvey xmlns=\"http://schemas.microsoft.com/sqlserver/2004/07/adventure-works/StoreSurvey\"><AnnualSales>1500000</AnnualSales><AnnualRevenue>150000</AnnualRevenue><BankName>Primary International</BankName><BusinessType>BS</BusinessType><YearOpened>1980</YearOpened><Specialty>Touring</Specialty><SquareFeet>40000</SquareFeet><Brands>4+</Brands><Internet>DSL</Internet><NumberEmployees>43</NumberEmployees></StoreSurvey></td><td>2014-09-12</td><td>Locks Company</td><td>281</td><td>167623c3-b88e-4aee-a7d2-fe88d197e6cc</td></tr><tr><td>992</td><td><StoreSurvey xmlns=\"http://schemas.microsoft.com/sqlserver/2004/07/adventure-works/StoreSurvey\"><AnnualSales>1500000</AnnualSales><AnnualRevenue>150000</AnnualRevenue><BankName>Reserve Security</BankName><BusinessType>BS</BusinessType><YearOpened>1988</YearOpened><Specialty>Road</Specialty><SquareFeet>38000</SquareFeet><Brands>4+</Brands><Internet>T1</Internet><NumberEmployees>44</NumberEmployees></StoreSurvey></td><td>2014-09-12</td><td>Latest Accessories Sales</td><td>283</td><td>d9bf3762-b599-4d99-b065-6944631feba3</td></tr><tr><td>994</td><td><StoreSurvey xmlns=\"http://schemas.microsoft.com/sqlserver/2004/07/adventure-works/StoreSurvey\"><AnnualSales>1500000</AnnualSales><AnnualRevenue>150000</AnnualRevenue><BankName>United Security</BankName><BusinessType>BS</BusinessType><YearOpened>1983</YearOpened><Specialty>Touring</Specialty><SquareFeet>41000</SquareFeet><Brands>2</Brands><Internet>DSL</Internet><NumberEmployees>45</NumberEmployees></StoreSurvey></td><td>2014-09-12</td><td>Incomparable Bicycle Store</td><td>275</td><td>3385d478-6dc8-4126-b198-868a7ec06851</td></tr><tr><td>996</td><td><StoreSurvey xmlns=\"http://schemas.microsoft.com/sqlserver/2004/07/adventure-works/StoreSurvey\"><AnnualSales>1500000</AnnualSales><AnnualRevenue>150000</AnnualRevenue><BankName>International Bank</BankName><BusinessType>BS</BusinessType><YearOpened>1991</YearOpened><Specialty>Mountain</Specialty><SquareFeet>38000</SquareFeet><Brands>4+</Brands><Internet>T1</Internet><NumberEmployees>46</NumberEmployees></StoreSurvey></td><td>2014-09-12</td><td>Hometown Riding Supplies</td><td>288</td><td>bba21530-ca9c-498e-bda9-f5b62f8c8525</td></tr><tr><td>998</td><td><StoreSurvey xmlns=\"http://schemas.microsoft.com/sqlserver/2004/07/adventure-works/StoreSurvey\"><AnnualSales>1500000</AnnualSales><AnnualRevenue>150000</AnnualRevenue><BankName>Primary Bank &amp; Reserve</BankName><BusinessType>BS</BusinessType><YearOpened>1986</YearOpened><Specialty>Mountain</Specialty><SquareFeet>39000</SquareFeet><Brands>3</Brands><Internet>ISDN</Internet><NumberEmployees>47</NumberEmployees></StoreSurvey></td><td>2014-09-12</td><td>Greater Bike Store</td><td>282</td><td>aae55b33-b3db-4f4f-8647-1fa93573a847</td></tr><tr><td>1000</td><td><StoreSurvey xmlns=\"http://schemas.microsoft.com/sqlserver/2004/07/adventure-works/StoreSurvey\"><AnnualSales>1500000</AnnualSales><AnnualRevenue>150000</AnnualRevenue><BankName>International Security</BankName><BusinessType>BS</BusinessType><YearOpened>1994</YearOpened><Specialty>Touring</Specialty><SquareFeet>42000</SquareFeet><Brands>4+</Brands><Internet>DSL</Internet><NumberEmployees>48</NumberEmployees></StoreSurvey></td><td>2014-09-12</td><td>Games and Sport Supply Company</td><td>279</td><td>15a3600a-31ae-4603-ae82-2199ceead5eb</td></tr><tr><td>1002</td><td><StoreSurvey xmlns=\"http://schemas.microsoft.com/sqlserver/2004/07/adventure-works/StoreSurvey\"><AnnualSales>1500000</AnnualSales><AnnualRevenue>150000</AnnualRevenue><BankName>Guardian Bank</BankName><BusinessType>BS</BusinessType><YearOpened>1989</YearOpened><Specialty>Road</Specialty><SquareFeet>38000</SquareFeet><Brands>4+</Brands><Internet>DSL</Internet><NumberEmployees>49</NumberEmployees></StoreSurvey></td><td>2014-09-12</td><td>Distant Inn</td><td>281</td><td>4f48780d-71df-4523-9b4e-1c234ea699df</td></tr><tr><td>1004</td><td><StoreSurvey xmlns=\"http://schemas.microsoft.com/sqlserver/2004/07/adventure-works/StoreSurvey\"><AnnualSales>1500000</AnnualSales><AnnualRevenue>150000</AnnualRevenue><BankName>Primary International</BankName><BusinessType>BS</BusinessType><YearOpened>1997</YearOpened><Specialty>Touring</Specialty><SquareFeet>38000</SquareFeet><Brands>3</Brands><Internet>DSL</Internet><NumberEmployees>46</NumberEmployees></StoreSurvey></td><td>2014-09-12</td><td>Finer Mart</td><td>283</td><td>9de8d05e-04b5-4be1-ac7e-8ac22ec04329</td></tr><tr><td>1006</td><td><StoreSurvey xmlns=\"http://schemas.microsoft.com/sqlserver/2004/07/adventure-works/StoreSurvey\"><AnnualSales>1500000</AnnualSales><AnnualRevenue>150000</AnnualRevenue><BankName>Reserve Security</BankName><BusinessType>BS</BusinessType><YearOpened>1992</YearOpened><Specialty>Road</Specialty><SquareFeet>40000</SquareFeet><Brands>4+</Brands><Internet>T1</Internet><NumberEmployees>43</NumberEmployees></StoreSurvey></td><td>2014-09-12</td><td>Economic Parts Supply</td><td>275</td><td>66bc65df-a24e-4b78-ab1d-f680c4a75451</td></tr><tr><td>1008</td><td><StoreSurvey xmlns=\"http://schemas.microsoft.com/sqlserver/2004/07/adventure-works/StoreSurvey\"><AnnualSales>1500000</AnnualSales><AnnualRevenue>150000</AnnualRevenue><BankName>United Security</BankName><BusinessType>BS</BusinessType><YearOpened>1995</YearOpened><Specialty>Road</Specialty><SquareFeet>38000</SquareFeet><Brands>3</Brands><Internet>DSL</Internet><NumberEmployees>40</NumberEmployees></StoreSurvey></td><td>2014-09-12</td><td>Precision Gears Inc.</td><td>288</td><td>fb89ac44-0cf5-45d1-928e-1beeece05abf</td></tr><tr><td>1010</td><td><StoreSurvey xmlns=\"http://schemas.microsoft.com/sqlserver/2004/07/adventure-works/StoreSurvey\"><AnnualSales>1500000</AnnualSales><AnnualRevenue>150000</AnnualRevenue><BankName>International Bank</BankName><BusinessType>BS</BusinessType><YearOpened>1995</YearOpened><Specialty>Mountain</Specialty><SquareFeet>36000</SquareFeet><Brands>3</Brands><Internet>T2</Internet><NumberEmployees>37</NumberEmployees></StoreSurvey></td><td>2014-09-12</td><td>Cross-Country Riding Supplies</td><td>282</td><td>55b8ce76-1c6a-4181-83cf-786c60cee77f</td></tr><tr><td>1012</td><td><StoreSurvey xmlns=\"http://schemas.microsoft.com/sqlserver/2004/07/adventure-works/StoreSurvey\"><AnnualSales>1500000</AnnualSales><AnnualRevenue>150000</AnnualRevenue><BankName>Primary Bank &amp; Reserve</BankName><BusinessType>BS</BusinessType><YearOpened>1983</YearOpened><Specialty>Road</Specialty><SquareFeet>39000</SquareFeet><Brands>3</Brands><Internet>T1</Internet><NumberEmployees>34</NumberEmployees></StoreSurvey></td><td>2014-09-12</td><td>Stylish Department Stores</td><td>279</td><td>062a2eb8-9b1d-4fdf-a627-3e45f76d2096</td></tr><tr><td>1014</td><td><StoreSurvey xmlns=\"http://schemas.microsoft.com/sqlserver/2004/07/adventure-works/StoreSurvey\"><AnnualSales>1500000</AnnualSales><AnnualRevenue>150000</AnnualRevenue><BankName>International Security</BankName><BusinessType>BS</BusinessType><YearOpened>1998</YearOpened><Specialty>Mountain</Specialty><SquareFeet>35000</SquareFeet><Brands>4+</Brands><Internet>T1</Internet><NumberEmployees>31</NumberEmployees></StoreSurvey></td><td>2014-09-12</td><td>Bike World</td><td>281</td><td>17906b3f-7ea8-4b87-a60e-278df291a580</td></tr><tr><td>1016</td><td><StoreSurvey xmlns=\"http://schemas.microsoft.com/sqlserver/2004/07/adventure-works/StoreSurvey\"><AnnualSales>1000000</AnnualSales><AnnualRevenue>100000</AnnualRevenue><BankName>Guardian Bank</BankName><BusinessType>BS</BusinessType><YearOpened>1971</YearOpened><Specialty>Mountain</Specialty><SquareFeet>25000</SquareFeet><Brands>4+</Brands><Internet>T1</Internet><NumberEmployees>28</NumberEmployees></StoreSurvey></td><td>2014-09-12</td><td>Central Discount Store</td><td>283</td><td>58bf407a-5f67-4228-b4eb-b11c91c1c003</td></tr><tr><td>1018</td><td><StoreSurvey xmlns=\"http://schemas.microsoft.com/sqlserver/2004/07/adventure-works/StoreSurvey\"><AnnualSales>1000000</AnnualSales><AnnualRevenue>100000</AnnualRevenue><BankName>Primary International</BankName><BusinessType>BS</BusinessType><YearOpened>2001</YearOpened><Specialty>Mountain</Specialty><SquareFeet>25000</SquareFeet><Brands>4+</Brands><Internet>T1</Internet><NumberEmployees>25</NumberEmployees></StoreSurvey></td><td>2014-09-12</td><td>Trusted Catalog Store</td><td>275</td><td>3c3d1d16-defe-412f-b4bf-0935e366dff2</td></tr><tr><td>1020</td><td><StoreSurvey xmlns=\"http://schemas.microsoft.com/sqlserver/2004/07/adventure-works/StoreSurvey\"><AnnualSales>1000000</AnnualSales><AnnualRevenue>100000</AnnualRevenue><BankName>Reserve Security</BankName><BusinessType>BS</BusinessType><YearOpened>1996</YearOpened><Specialty>Mountain</Specialty><SquareFeet>26000</SquareFeet><Brands>4+</Brands><Internet>ISDN</Internet><NumberEmployees>22</NumberEmployees></StoreSurvey></td><td>2014-09-12</td><td>Bicycle Warehouse Inc.</td><td>288</td><td>adb7b98c-4e19-415d-aeca-d579b328e760</td></tr><tr><td>1022</td><td><StoreSurvey xmlns=\"http://schemas.microsoft.com/sqlserver/2004/07/adventure-works/StoreSurvey\"><AnnualSales>800000</AnnualSales><AnnualRevenue>80000</AnnualRevenue><BankName>United Security</BankName><BusinessType>BS</BusinessType><YearOpened>1990</YearOpened><Specialty>Mountain</Specialty><SquareFeet>19000</SquareFeet><Brands>AW</Brands><Internet>DSL</Internet><NumberEmployees>19</NumberEmployees></StoreSurvey></td><td>2014-09-12</td><td>Sharp Bikes</td><td>282</td><td>1f1ebdc9-2874-4a7e-be41-1127cbec7870</td></tr><tr><td>1024</td><td><StoreSurvey xmlns=\"http://schemas.microsoft.com/sqlserver/2004/07/adventure-works/StoreSurvey\"><AnnualSales>800000</AnnualSales><AnnualRevenue>80000</AnnualRevenue><BankName>International Bank</BankName><BusinessType>BS</BusinessType><YearOpened>1984</YearOpened><Specialty>Touring</Specialty><SquareFeet>20000</SquareFeet><Brands>AW</Brands><Internet>ISDN</Internet><NumberEmployees>16</NumberEmployees></StoreSurvey></td><td>2014-09-12</td><td>Exemplary Cycles</td><td>279</td><td>ab2ab66c-9002-4a91-96c9-2e9cb0881e96</td></tr><tr><td>1026</td><td><StoreSurvey xmlns=\"http://schemas.microsoft.com/sqlserver/2004/07/adventure-works/StoreSurvey\"><AnnualSales>800000</AnnualSales><AnnualRevenue>80000</AnnualRevenue><BankName>Primary Bank &amp; Reserve</BankName><BusinessType>BS</BusinessType><YearOpened>1978</YearOpened><Specialty>Road</Specialty><SquareFeet>21000</SquareFeet><Brands>4+</Brands><Internet>T2</Internet><NumberEmployees>13</NumberEmployees></StoreSurvey></td><td>2014-09-12</td><td>Metropolitan Sports Supply</td><td>281</td><td>058dea7c-58fd-42e5-a199-b19c669e985c</td></tr><tr><td>1028</td><td><StoreSurvey xmlns=\"http://schemas.microsoft.com/sqlserver/2004/07/adventure-works/StoreSurvey\"><AnnualSales>800000</AnnualSales><AnnualRevenue>80000</AnnualRevenue><BankName>International Security</BankName><BusinessType>BS</BusinessType><YearOpened>1972</YearOpened><Specialty>Mountain</Specialty><SquareFeet>18000</SquareFeet><Brands>3</Brands><Internet>T1</Internet><NumberEmployees>10</NumberEmployees></StoreSurvey></td><td>2014-09-12</td><td>Progressive Sports</td><td>283</td><td>e88b2a4c-72d3-4818-9f94-c59633d66ce8</td></tr><tr><td>1030</td><td><StoreSurvey xmlns=\"http://schemas.microsoft.com/sqlserver/2004/07/adventure-works/StoreSurvey\"><AnnualSales>800000</AnnualSales><AnnualRevenue>80000</AnnualRevenue><BankName>Reserve Security</BankName><BusinessType>BM</BusinessType><YearOpened>1993</YearOpened><Specialty>Road</Specialty><SquareFeet>18000</SquareFeet><Brands>AW</Brands><Internet>T1</Internet><NumberEmployees>11</NumberEmployees></StoreSurvey></td><td>2014-09-12</td><td>Underglaze and Finish Company</td><td>279</td><td>4008c49c-584e-432f-82e9-f224ab5772f1</td></tr><tr><td>1032</td><td><StoreSurvey xmlns=\"http://schemas.microsoft.com/sqlserver/2004/07/adventure-works/StoreSurvey\"><AnnualSales>800000</AnnualSales><AnnualRevenue>80000</AnnualRevenue><BankName>United Security</BankName><BusinessType>BM</BusinessType><YearOpened>1988</YearOpened><Specialty>Mountain</Specialty><SquareFeet>18000</SquareFeet><Brands>AW</Brands><Internet>DSL</Internet><NumberEmployees>12</NumberEmployees></StoreSurvey></td><td>2014-09-12</td><td>Brakes and Gears</td><td>276</td><td>5e3fd434-3d79-4ecd-ab34-af321ee2cfe7</td></tr><tr><td>1034</td><td><StoreSurvey xmlns=\"http://schemas.microsoft.com/sqlserver/2004/07/adventure-works/StoreSurvey\"><AnnualSales>800000</AnnualSales><AnnualRevenue>80000</AnnualRevenue><BankName>International Bank</BankName><BusinessType>BM</BusinessType><YearOpened>1996</YearOpened><Specialty>Road</Specialty><SquareFeet>18000</SquareFeet><Brands>2</Brands><Internet>DSL</Internet><NumberEmployees>13</NumberEmployees></StoreSurvey></td><td>2014-09-12</td><td>The Accessories Store</td><td>277</td><td>69deb656-1602-4d6e-ae60-d50a8b3afffd</td></tr><tr><td>1036</td><td><StoreSurvey xmlns=\"http://schemas.microsoft.com/sqlserver/2004/07/adventure-works/StoreSurvey\"><AnnualSales>800000</AnnualSales><AnnualRevenue>80000</AnnualRevenue><BankName>Primary Bank &amp; Reserve</BankName><BusinessType>BM</BusinessType><YearOpened>1991</YearOpened><Specialty>Touring</Specialty><SquareFeet>22000</SquareFeet><Brands>4+</Brands><Internet>DSL</Internet><NumberEmployees>14</NumberEmployees></StoreSurvey></td><td>2014-09-12</td><td>Mountain Bike Store</td><td>275</td><td>65b0d467-0550-4230-9eff-d931a786f5c2</td></tr><tr><td>1038</td><td><StoreSurvey xmlns=\"http://schemas.microsoft.com/sqlserver/2004/07/adventure-works/StoreSurvey\"><AnnualSales>800000</AnnualSales><AnnualRevenue>80000</AnnualRevenue><BankName>International Security</BankName><BusinessType>BM</BusinessType><YearOpened>1999</YearOpened><Specialty>Touring</Specialty><SquareFeet>21000</SquareFeet><Brands>3</Brands><Internet>T2</Internet><NumberEmployees>15</NumberEmployees></StoreSurvey></td><td>2014-09-12</td><td>Bike Part Wholesalers</td><td>286</td><td>2d5ce5ad-8cfd-41ee-87de-767e09312450</td></tr><tr><td>1040</td><td><StoreSurvey xmlns=\"http://schemas.microsoft.com/sqlserver/2004/07/adventure-works/StoreSurvey\"><AnnualSales>800000</AnnualSales><AnnualRevenue>80000</AnnualRevenue><BankName>Guardian Bank</BankName><BusinessType>BM</BusinessType><YearOpened>1994</YearOpened><Specialty>Mountain</Specialty><SquareFeet>18000</SquareFeet><Brands>4+</Brands><Internet>DSL</Internet><NumberEmployees>16</NumberEmployees></StoreSurvey></td><td>2014-09-12</td><td>Family Cycle Store</td><td>278</td><td>75a4c312-100c-4f7e-ae2e-cc57ea12f51d</td></tr><tr><td>1042</td><td><StoreSurvey xmlns=\"http://schemas.microsoft.com/sqlserver/2004/07/adventure-works/StoreSurvey\"><AnnualSales>800000</AnnualSales><AnnualRevenue>80000</AnnualRevenue><BankName>Primary International</BankName><BusinessType>BM</BusinessType><YearOpened>1987</YearOpened><Specialty>Touring</Specialty><SquareFeet>20000</SquareFeet><Brands>4+</Brands><Internet>T1</Internet><NumberEmployees>17</NumberEmployees></StoreSurvey></td><td>2014-09-12</td><td>Popular Bike Lines</td><td>286</td><td>ed883c76-170d-4fb9-a277-295d39d3eaf9</td></tr><tr><td>1044</td><td><StoreSurvey xmlns=\"http://schemas.microsoft.com/sqlserver/2004/07/adventure-works/StoreSurvey\"><AnnualSales>800000</AnnualSales><AnnualRevenue>80000</AnnualRevenue><BankName>Reserve Security</BankName><BusinessType>BM</BusinessType><YearOpened>1997</YearOpened><Specialty>Road</Specialty><SquareFeet>19000</SquareFeet><Brands>3</Brands><Internet>DSL</Internet><NumberEmployees>18</NumberEmployees></StoreSurvey></td><td>2014-09-12</td><td>Superb Sales and Repair</td><td>278</td><td>82aaf249-d8a7-427c-91e3-c7d2688a9d57</td></tr><tr><td>1046</td><td><StoreSurvey xmlns=\"http://schemas.microsoft.com/sqlserver/2004/07/adventure-works/StoreSurvey\"><AnnualSales>800000</AnnualSales><AnnualRevenue>80000</AnnualRevenue><BankName>United Security</BankName><BusinessType>BM</BusinessType><YearOpened>1975</YearOpened><Specialty>Mountain</Specialty><SquareFeet>19000</SquareFeet><Brands>4+</Brands><Internet>DSL</Internet><NumberEmployees>19</NumberEmployees></StoreSurvey></td><td>2014-09-12</td><td>Better Bike Shop</td><td>279</td><td>c5516152-8d15-438f-87f3-e29517e462d9</td></tr><tr><td>1048</td><td><StoreSurvey xmlns=\"http://schemas.microsoft.com/sqlserver/2004/07/adventure-works/StoreSurvey\"><AnnualSales>1000000</AnnualSales><AnnualRevenue>100000</AnnualRevenue><BankName>International Bank</BankName><BusinessType>BM</BusinessType><YearOpened>2000</YearOpened><Specialty>Mountain</Specialty><SquareFeet>26000</SquareFeet><Brands>2</Brands><Internet>ISDN</Internet><NumberEmployees>20</NumberEmployees></StoreSurvey></td><td>2014-09-12</td><td>Countryside Company</td><td>276</td><td>a7c471a1-1176-4335-bc85-7e89523939dd</td></tr><tr><td>1050</td><td><StoreSurvey xmlns=\"http://schemas.microsoft.com/sqlserver/2004/07/adventure-works/StoreSurvey\"><AnnualSales>800000</AnnualSales><AnnualRevenue>80000</AnnualRevenue><BankName>Primary Bank &amp; Reserve</BankName><BusinessType>BM</BusinessType><YearOpened>2000</YearOpened><Specialty>Road</Specialty><SquareFeet>21000</SquareFeet><Brands>3</Brands><Internet>DSL</Internet><NumberEmployees>17</NumberEmployees></StoreSurvey></td><td>2014-09-12</td><td>First Bike Store</td><td>277</td><td>8967ec04-4782-47a0-bc0c-5fdece06b1b5</td></tr><tr><td>1052</td><td><StoreSurvey xmlns=\"http://schemas.microsoft.com/sqlserver/2004/07/adventure-works/StoreSurvey\"><AnnualSales>800000</AnnualSales><AnnualRevenue>80000</AnnualRevenue><BankName>International Security</BankName><BusinessType>BM</BusinessType><YearOpened>1994</YearOpened><Specialty>Mountain</Specialty><SquareFeet>18000</SquareFeet><Brands>2</Brands><Internet>T1</Internet><NumberEmployees>14</NumberEmployees></StoreSurvey></td><td>2014-09-12</td><td>Traditional Department Stores</td><td>275</td><td>177c4cfc-f9df-44b9-b78c-dd01fadb28d8</td></tr><tr><td>1054</td><td><StoreSurvey xmlns=\"http://schemas.microsoft.com/sqlserver/2004/07/adventure-works/StoreSurvey\"><AnnualSales>800000</AnnualSales><AnnualRevenue>80000</AnnualRevenue><BankName>Guardian Bank</BankName><BusinessType>BM</BusinessType><YearOpened>1988</YearOpened><Specialty>Touring</Specialty><SquareFeet>21000</SquareFeet><Brands>2</Brands><Internet>T1</Internet><NumberEmployees>11</NumberEmployees></StoreSurvey></td><td>2014-09-12</td><td>Eastside Cycle Shop</td><td>286</td><td>fe68dff4-1d4e-429e-b384-9c1db41a605e</td></tr><tr><td>1056</td><td><StoreSurvey xmlns=\"http://schemas.microsoft.com/sqlserver/2004/07/adventure-works/StoreSurvey\"><AnnualSales>300000</AnnualSales><AnnualRevenue>30000</AnnualRevenue><BankName>Primary International</BankName><BusinessType>BM</BusinessType><YearOpened>1982</YearOpened><Specialty>Mountain</Specialty><SquareFeet>11000</SquareFeet><Brands>3</Brands><Internet>DSL</Internet><NumberEmployees>8</NumberEmployees></StoreSurvey></td><td>2014-09-12</td><td>General Department Stores</td><td>278</td><td>1c035fdb-8781-4e4c-9c4e-9cb3ae7b45a9</td></tr><tr><td>1058</td><td><StoreSurvey xmlns=\"http://schemas.microsoft.com/sqlserver/2004/07/adventure-works/StoreSurvey\"><AnnualSales>300000</AnnualSales><AnnualRevenue>30000</AnnualRevenue><BankName>Reserve Security</BankName><BusinessType>BM</BusinessType><YearOpened>1976</YearOpened><Specialty>Touring</Specialty><SquareFeet>7000</SquareFeet><Brands>AW</Brands><Internet>DSL</Internet><NumberEmployees>5</NumberEmployees></StoreSurvey></td><td>2014-09-12</td><td>Mass Market Bikes</td><td>286</td><td>19e26b49-51b1-4094-ac2f-b325616f2e02</td></tr><tr><td>1060</td><td><StoreSurvey xmlns=\"http://schemas.microsoft.com/sqlserver/2004/07/adventure-works/StoreSurvey\"><AnnualSales>300000</AnnualSales><AnnualRevenue>30000</AnnualRevenue><BankName>United Security</BankName><BusinessType>BM</BusinessType><YearOpened>1970</YearOpened><Specialty>Mountain</Specialty><SquareFeet>8000</SquareFeet><Brands>3</Brands><Internet>DSL</Internet><NumberEmployees>2</NumberEmployees></StoreSurvey></td><td>2014-09-12</td><td>Operational Manufacturing</td><td>278</td><td>43fce0d5-7a1b-4316-8c1c-58b9acc57fa2</td></tr><tr><td>1062</td><td><StoreSurvey xmlns=\"http://schemas.microsoft.com/sqlserver/2004/07/adventure-works/StoreSurvey\"><AnnualSales>800000</AnnualSales><AnnualRevenue>80000</AnnualRevenue><BankName>Primary International</BankName><BusinessType>BM</BusinessType><YearOpened>1997</YearOpened><Specialty>Road</Specialty><SquareFeet>21000</SquareFeet><Brands>4+</Brands><Internet>ISDN</Internet><NumberEmployees>17</NumberEmployees></StoreSurvey></td><td>2014-09-12</td><td>Online Bike Warehouse</td><td>282</td><td>4322afff-bfb8-430f-894a-c94b2d2d73fe</td></tr><tr><td>1064</td><td><StoreSurvey xmlns=\"http://schemas.microsoft.com/sqlserver/2004/07/adventure-works/StoreSurvey\"><AnnualSales>800000</AnnualSales><AnnualRevenue>80000</AnnualRevenue><BankName>Reserve Security</BankName><BusinessType>BM</BusinessType><YearOpened>1975</YearOpened><Specialty>Road</Specialty><SquareFeet>20000</SquareFeet><Brands>2</Brands><Internet>T1</Internet><NumberEmployees>18</NumberEmployees></StoreSurvey></td><td>2014-09-12</td><td>Retread Tire Company</td><td>279</td><td>a6aebd0a-7c1f-4792-bc55-d001fe04b4e1</td></tr><tr><td>1066</td><td><StoreSurvey xmlns=\"http://schemas.microsoft.com/sqlserver/2004/07/adventure-works/StoreSurvey\"><AnnualSales>800000</AnnualSales><AnnualRevenue>80000</AnnualRevenue><BankName>United Security</BankName><BusinessType>BM</BusinessType><YearOpened>2000</YearOpened><Specialty>Mountain</Specialty><SquareFeet>23000</SquareFeet><Brands>4+</Brands><Internet>T1</Internet><NumberEmployees>19</NumberEmployees></StoreSurvey></td><td>2014-09-12</td><td>Small Bike Shop</td><td>281</td><td>1b5c94c6-7689-4487-9929-ad16b7e19f75</td></tr><tr><td>1068</td><td><StoreSurvey xmlns=\"http://schemas.microsoft.com/sqlserver/2004/07/adventure-works/StoreSurvey\"><AnnualSales>1000000</AnnualSales><AnnualRevenue>100000</AnnualRevenue><BankName>International Bank</BankName><BusinessType>BM</BusinessType><YearOpened>2000</YearOpened><Specialty>Mountain</Specialty><SquareFeet>25000</SquareFeet><Brands>2</Brands><Internet>T1</Internet><NumberEmployees>20</NumberEmployees></StoreSurvey></td><td>2014-09-12</td><td>Superior Hardware Distributors</td><td>283</td><td>c8c746de-fc58-4c58-abc1-31e1375be48d</td></tr><tr><td>1070</td><td><StoreSurvey xmlns=\"http://schemas.microsoft.com/sqlserver/2004/07/adventure-works/StoreSurvey\"><AnnualSales>800000</AnnualSales><AnnualRevenue>80000</AnnualRevenue><BankName>Primary Bank &amp; Reserve</BankName><BusinessType>BM</BusinessType><YearOpened>1994</YearOpened><Specialty>Mountain</Specialty><SquareFeet>23000</SquareFeet><Brands>2</Brands><Internet>DSL</Internet><NumberEmployees>18</NumberEmployees></StoreSurvey></td><td>2014-09-12</td><td>Fitness Sport Boutique</td><td>275</td><td>954f80aa-5bd2-41a1-ab34-bb402aac37d9</td></tr><tr><td>1072</td><td><StoreSurvey xmlns=\"http://schemas.microsoft.com/sqlserver/2004/07/adventure-works/StoreSurvey\"><AnnualSales>800000</AnnualSales><AnnualRevenue>80000</AnnualRevenue><BankName>International Security</BankName><BusinessType>BM</BusinessType><YearOpened>1988</YearOpened><Specialty>Road</Specialty><SquareFeet>22000</SquareFeet><Brands>4+</Brands><Internet>T1</Internet><NumberEmployees>16</NumberEmployees></StoreSurvey></td><td>2014-09-12</td><td>Producer Goods Clearinghouse</td><td>288</td><td>9567e707-7fb8-40b2-a57a-332c6b2e8b1e</td></tr><tr><td>1074</td><td><StoreSurvey xmlns=\"http://schemas.microsoft.com/sqlserver/2004/07/adventure-works/StoreSurvey\"><AnnualSales>800000</AnnualSales><AnnualRevenue>80000</AnnualRevenue><BankName>Guardian Bank</BankName><BusinessType>BM</BusinessType><YearOpened>1982</YearOpened><Specialty>Road</Specialty><SquareFeet>20000</SquareFeet><Brands>4+</Brands><Internet>DSL</Internet><NumberEmployees>14</NumberEmployees></StoreSurvey></td><td>2014-09-12</td><td>Recreation Systems</td><td>275</td><td>cbd5d92a-3cff-40b0-9214-b0d337be2a75</td></tr><tr><td>1076</td><td><StoreSurvey xmlns=\"http://schemas.microsoft.com/sqlserver/2004/07/adventure-works/StoreSurvey\"><AnnualSales>800000</AnnualSales><AnnualRevenue>80000</AnnualRevenue><BankName>Primary International</BankName><BusinessType>BM</BusinessType><YearOpened>1976</YearOpened><Specialty>Touring</Specialty><SquareFeet>19000</SquareFeet><Brands>4+</Brands><Internet>DSL</Internet><NumberEmployees>12</NumberEmployees></StoreSurvey></td><td>2014-09-12</td><td>Rustic Bike Store</td><td>288</td><td>04ae6eb5-bea3-419f-96d6-71e6551d1993</td></tr><tr><td>1078</td><td><StoreSurvey xmlns=\"http://schemas.microsoft.com/sqlserver/2004/07/adventure-works/StoreSurvey\"><AnnualSales>800000</AnnualSales><AnnualRevenue>80000</AnnualRevenue><BankName>Reserve Security</BankName><BusinessType>BM</BusinessType><YearOpened>1970</YearOpened><Specialty>Touring</Specialty><SquareFeet>17000</SquareFeet><Brands>AW</Brands><Internet>DSL</Internet><NumberEmployees>10</NumberEmployees></StoreSurvey></td><td>2014-09-12</td><td>Eastside Parts Shop</td><td>282</td><td>3298c70d-bc74-430a-9549-d292191c3f16</td></tr><tr><td>1080</td><td><StoreSurvey xmlns=\"http://schemas.microsoft.com/sqlserver/2004/07/adventure-works/StoreSurvey\"><AnnualSales>300000</AnnualSales><AnnualRevenue>30000</AnnualRevenue><BankName>United Security</BankName><BusinessType>BM</BusinessType><YearOpened>1975</YearOpened><Specialty>Touring</Specialty><SquareFeet>9000</SquareFeet><Brands>4+</Brands><Internet>T2</Internet><NumberEmployees>8</NumberEmployees></StoreSurvey></td><td>2014-09-12</td><td>Exchange Parts Inc.</td><td>279</td><td>0d350025-a81c-4aec-a713-e536e2f66ac8</td></tr><tr><td>1082</td><td><StoreSurvey xmlns=\"http://schemas.microsoft.com/sqlserver/2004/07/adventure-works/StoreSurvey\"><AnnualSales>300000</AnnualSales><AnnualRevenue>30000</AnnualRevenue><BankName>International Bank</BankName><BusinessType>BM</BusinessType><YearOpened>1970</YearOpened><Specialty>Road</Specialty><SquareFeet>9000</SquareFeet><Brands>AW</Brands><Internet>T2</Internet><NumberEmployees>6</NumberEmployees></StoreSurvey></td><td>2014-09-12</td><td>First Cycle Store</td><td>281</td><td>4c5f9b1e-83e9-4067-a5f0-2888bdb08d29</td></tr><tr><td>1084</td><td><StoreSurvey xmlns=\"http://schemas.microsoft.com/sqlserver/2004/07/adventure-works/StoreSurvey\"><AnnualSales>300000</AnnualSales><AnnualRevenue>30000</AnnualRevenue><BankName>Primary Bank &amp; Reserve</BankName><BusinessType>BM</BusinessType><YearOpened>1978</YearOpened><Specialty>Touring</Specialty><SquareFeet>7000</SquareFeet><Brands>3</Brands><Internet>T2</Internet><NumberEmployees>4</NumberEmployees></StoreSurvey></td><td>2014-09-12</td><td>Running and Cycling Gear</td><td>283</td><td>40de80d3-d91f-43a0-b962-a2bd4fb0c795</td></tr><tr><td>1086</td><td><StoreSurvey xmlns=\"http://schemas.microsoft.com/sqlserver/2004/07/adventure-works/StoreSurvey\"><AnnualSales>300000</AnnualSales><AnnualRevenue>30000</AnnualRevenue><BankName>International Security</BankName><BusinessType>BM</BusinessType><YearOpened>1973</YearOpened><Specialty>Road</Specialty><SquareFeet>10000</SquareFeet><Brands>AW</Brands><Internet>DSL</Internet><NumberEmployees>2</NumberEmployees></StoreSurvey></td><td>2014-09-12</td><td>Seventh Bike Store</td><td>275</td><td>89522a3f-a2dd-4eae-9666-542b61e42324</td></tr><tr><td>1088</td><td><StoreSurvey xmlns=\"http://schemas.microsoft.com/sqlserver/2004/07/adventure-works/StoreSurvey\"><AnnualSales>300000</AnnualSales><AnnualRevenue>30000</AnnualRevenue><BankName>Guardian Bank</BankName><BusinessType>BM</BusinessType><YearOpened>1981</YearOpened><Specialty>Road</Specialty><SquareFeet>9000</SquareFeet><Brands>3</Brands><Internet>DSL</Internet><NumberEmployees>3</NumberEmployees></StoreSurvey></td><td>2014-09-12</td><td>Fast Services</td><td>288</td><td>cd687ad1-a0a3-4ccf-96b3-649b975417b0</td></tr><tr><td>1090</td><td><StoreSurvey xmlns=\"http://schemas.microsoft.com/sqlserver/2004/07/adventure-works/StoreSurvey\"><AnnualSales>300000</AnnualSales><AnnualRevenue>30000</AnnualRevenue><BankName>Primary International</BankName><BusinessType>BM</BusinessType><YearOpened>1976</YearOpened><Specialty>Road</Specialty><SquareFeet>9000</SquareFeet><Brands>2</Brands><Internet>T1</Internet><NumberEmployees>4</NumberEmployees></StoreSurvey></td><td>2014-09-12</td><td>General Associates</td><td>279</td><td>97137436-9322-45a0-9eba-19b7f5c4fe6c</td></tr><tr><td>1092</td><td><StoreSurvey xmlns=\"http://schemas.microsoft.com/sqlserver/2004/07/adventure-works/StoreSurvey\"><AnnualSales>300000</AnnualSales><AnnualRevenue>30000</AnnualRevenue><BankName>Reserve Security</BankName><BusinessType>BM</BusinessType><YearOpened>1984</YearOpened><Specialty>Road</Specialty><SquareFeet>9000</SquareFeet><Brands>3</Brands><Internet>T1</Internet><NumberEmployees>5</NumberEmployees></StoreSurvey></td><td>2014-09-12</td><td>Good Toys</td><td>276</td><td>045e0eb6-756c-48fe-b923-18e892dd964a</td></tr><tr><td>1094</td><td><StoreSurvey xmlns=\"http://schemas.microsoft.com/sqlserver/2004/07/adventure-works/StoreSurvey\"><AnnualSales>300000</AnnualSales><AnnualRevenue>30000</AnnualRevenue><BankName>United Security</BankName><BusinessType>BM</BusinessType><YearOpened>1979</YearOpened><Specialty>Road</Specialty><SquareFeet>11000</SquareFeet><Brands>4+</Brands><Internet>DSL</Internet><NumberEmployees>6</NumberEmployees></StoreSurvey></td><td>2014-09-12</td><td>Little Bicycle Supply Shop</td><td>277</td><td>35c9af15-98e7-4ccb-9edc-ef873ba38dc6</td></tr><tr><td>1096</td><td><StoreSurvey xmlns=\"http://schemas.microsoft.com/sqlserver/2004/07/adventure-works/StoreSurvey\"><AnnualSales>300000</AnnualSales><AnnualRevenue>30000</AnnualRevenue><BankName>International Bank</BankName><BusinessType>BM</BusinessType><YearOpened>1987</YearOpened><Specialty>Road</Specialty><SquareFeet>8000</SquareFeet><Brands>4+</Brands><Internet>T1</Internet><NumberEmployees>7</NumberEmployees></StoreSurvey></td><td>2014-09-12</td><td>Retail Toy Store</td><td>279</td><td>01351a38-0674-4191-918d-3c10b5932e8a</td></tr><tr><td>1098</td><td><StoreSurvey xmlns=\"http://schemas.microsoft.com/sqlserver/2004/07/adventure-works/StoreSurvey\"><AnnualSales>300000</AnnualSales><AnnualRevenue>30000</AnnualRevenue><BankName>Primary Bank &amp; Reserve</BankName><BusinessType>BM</BusinessType><YearOpened>1982</YearOpened><Specialty>Mountain</Specialty><SquareFeet>7000</SquareFeet><Brands>4+</Brands><Internet>T2</Internet><NumberEmployees>8</NumberEmployees></StoreSurvey></td><td>2014-09-12</td><td>Strenuous Exercise Shop</td><td>276</td><td>1489097d-7481-405d-bc93-4274cb5e6a82</td></tr><tr><td>1100</td><td><StoreSurvey xmlns=\"http://schemas.microsoft.com/sqlserver/2004/07/adventure-works/StoreSurvey\"><AnnualSales>300000</AnnualSales><AnnualRevenue>30000</AnnualRevenue><BankName>International Security</BankName><BusinessType>BM</BusinessType><YearOpened>1990</YearOpened><Specialty>Touring</Specialty><SquareFeet>10000</SquareFeet><Brands>AW</Brands><Internet>DSL</Internet><NumberEmployees>9</NumberEmployees></StoreSurvey></td><td>2014-09-12</td><td>All Seasons Sports Supply</td><td>277</td><td>1ce3c3b7-c33d-4196-95db-4e8fcfda715f</td></tr><tr><td>1102</td><td><StoreSurvey xmlns=\"http://schemas.microsoft.com/sqlserver/2004/07/adventure-works/StoreSurvey\"><AnnualSales>800000</AnnualSales><AnnualRevenue>80000</AnnualRevenue><BankName>Guardian Bank</BankName><BusinessType>BM</BusinessType><YearOpened>1970</YearOpened><Specialty>Road</Specialty><SquareFeet>20000</SquareFeet><Brands>2</Brands><Internet>DSL</Internet><NumberEmployees>10</NumberEmployees></StoreSurvey></td><td>2014-09-12</td><td>Leisure Clearing House</td><td>289</td><td>ced2ba1e-25a2-43b2-8bbb-c5cc4fb0b9fd</td></tr><tr><td>1104</td><td><StoreSurvey xmlns=\"http://schemas.microsoft.com/sqlserver/2004/07/adventure-works/StoreSurvey\"><AnnualSales>300000</AnnualSales><AnnualRevenue>30000</AnnualRevenue><BankName>Primary International</BankName><BusinessType>BM</BusinessType><YearOpened>1975</YearOpened><Specialty>Mountain</Specialty><SquareFeet>8000</SquareFeet><Brands>3</Brands><Internet>ISDN</Internet><NumberEmployees>8</NumberEmployees></StoreSurvey></td><td>2014-09-12</td><td>Outdoor Toy Store</td><td>290</td><td>5ed195d0-4019-4b98-a276-cea761d6e933</td></tr><tr><td>1106</td><td><StoreSurvey xmlns=\"http://schemas.microsoft.com/sqlserver/2004/07/adventure-works/StoreSurvey\"><AnnualSales>300000</AnnualSales><AnnualRevenue>30000</AnnualRevenue><BankName>Reserve Security</BankName><BusinessType>BM</BusinessType><YearOpened>1970</YearOpened><Specialty>Road</Specialty><SquareFeet>9000</SquareFeet><Brands>3</Brands><Internet>DSL</Internet><NumberEmployees>6</NumberEmployees></StoreSurvey></td><td>2014-09-12</td><td>The Commissary</td><td>282</td><td>85ba2ebe-8759-453c-9f7d-8f0b955577be</td></tr><tr><td>1108</td><td><StoreSurvey xmlns=\"http://schemas.microsoft.com/sqlserver/2004/07/adventure-works/StoreSurvey\"><AnnualSales>300000</AnnualSales><AnnualRevenue>30000</AnnualRevenue><BankName>United Security</BankName><BusinessType>BM</BusinessType><YearOpened>1978</YearOpened><Specialty>Road</Specialty><SquareFeet>8000</SquareFeet><Brands>AW</Brands><Internet>DSL</Internet><NumberEmployees>4</NumberEmployees></StoreSurvey></td><td>2014-09-12</td><td>Affordable Sports Equipment</td><td>281</td><td>09b525a2-191f-4431-b202-835c65ac0ea7</td></tr><tr><td>1110</td><td><StoreSurvey xmlns=\"http://schemas.microsoft.com/sqlserver/2004/07/adventure-works/StoreSurvey\"><AnnualSales>300000</AnnualSales><AnnualRevenue>30000</AnnualRevenue><BankName>International Bank</BankName><BusinessType>BM</BusinessType><YearOpened>1973</YearOpened><Specialty>Touring</Specialty><SquareFeet>10000</SquareFeet><Brands>2</Brands><Internet>DSL</Internet><NumberEmployees>2</NumberEmployees></StoreSurvey></td><td>2014-09-12</td><td>Local Sales and Rental</td><td>277</td><td>07833647-ba03-4d2a-ae63-92fd82fc6526</td></tr><tr><td>1112</td><td><StoreSurvey xmlns=\"http://schemas.microsoft.com/sqlserver/2004/07/adventure-works/StoreSurvey\"><AnnualSales>1500000</AnnualSales><AnnualRevenue>150000</AnnualRevenue><BankName>International Bank</BankName><BusinessType>BS</BusinessType><YearOpened>1998</YearOpened><Specialty>Mountain</Specialty><SquareFeet>35000</SquareFeet><Brands>4+</Brands><Internet>T2</Internet><NumberEmployees>31</NumberEmployees></StoreSurvey></td><td>2014-09-12</td><td>Economy Center</td><td>282</td><td>def1343e-ca6a-4577-ace2-3f644e2881ba</td></tr><tr><td>1114</td><td><StoreSurvey xmlns=\"http://schemas.microsoft.com/sqlserver/2004/07/adventure-works/StoreSurvey\"><AnnualSales>1500000</AnnualSales><AnnualRevenue>150000</AnnualRevenue><BankName>United Security</BankName><BusinessType>BS</BusinessType><YearOpened>1983</YearOpened><Specialty>Mountain</Specialty><SquareFeet>36000</SquareFeet><Brands>3</Brands><Internet>T2</Internet><NumberEmployees>34</NumberEmployees></StoreSurvey></td><td>2014-09-12</td><td>Community Department Stores</td><td>290</td><td>c242eab7-79f4-4e3c-a7db-48ef7f66753e</td></tr><tr><td>1116</td><td><StoreSurvey xmlns=\"http://schemas.microsoft.com/sqlserver/2004/07/adventure-works/StoreSurvey\"><AnnualSales>1500000</AnnualSales><AnnualRevenue>150000</AnnualRevenue><BankName>Reserve Security</BankName><BusinessType>BS</BusinessType><YearOpened>1995</YearOpened><Specialty>Road</Specialty><SquareFeet>36000</SquareFeet><Brands>4+</Brands><Internet>T2</Internet><NumberEmployees>37</NumberEmployees></StoreSurvey></td><td>2014-09-12</td><td>Area Sheet Metal Supply</td><td>289</td><td>0feca845-86db-4048-911a-1c97ee5e3e2a</td></tr><tr><td>1118</td><td><StoreSurvey xmlns=\"http://schemas.microsoft.com/sqlserver/2004/07/adventure-works/StoreSurvey\"><AnnualSales>1500000</AnnualSales><AnnualRevenue>150000</AnnualRevenue><BankName>Primary International</BankName><BusinessType>BS</BusinessType><YearOpened>1995</YearOpened><Specialty>Road</Specialty><SquareFeet>39000</SquareFeet><Brands>2</Brands><Internet>DSL</Internet><NumberEmployees>40</NumberEmployees></StoreSurvey></td><td>2014-09-12</td><td>Synthetic Materials Manufacturing</td><td>280</td><td>634a228b-5268-4789-a687-182151058d39</td></tr><tr><td>1120</td><td><StoreSurvey xmlns=\"http://schemas.microsoft.com/sqlserver/2004/07/adventure-works/StoreSurvey\"><AnnualSales>1500000</AnnualSales><AnnualRevenue>150000</AnnualRevenue><BankName>Guardian Bank</BankName><BusinessType>BS</BusinessType><YearOpened>1992</YearOpened><Specialty>Road</Specialty><SquareFeet>37000</SquareFeet><Brands>3</Brands><Internet>DSL</Internet><NumberEmployees>43</NumberEmployees></StoreSurvey></td><td>2014-09-12</td><td>Rural Sales and Service</td><td>277</td><td>3874be34-898f-424c-babb-e6929d6db0f8</td></tr><tr><td>1122</td><td><StoreSurvey xmlns=\"http://schemas.microsoft.com/sqlserver/2004/07/adventure-works/StoreSurvey\"><AnnualSales>3000000</AnnualSales><AnnualRevenue>300000</AnnualRevenue><BankName>International Bank</BankName><BusinessType>OS</BusinessType><YearOpened>1980</YearOpened><Specialty>Touring</Specialty><SquareFeet>75000</SquareFeet><Brands>4+</Brands><Internet>DSL</Internet><NumberEmployees>89</NumberEmployees></StoreSurvey></td><td>2014-09-12</td><td>Tubeless Tire Company</td><td>289</td><td>c4183bac-64c2-49cf-a308-fda09f500eef</td></tr><tr><td>1124</td><td><StoreSurvey xmlns=\"http://schemas.microsoft.com/sqlserver/2004/07/adventure-works/StoreSurvey\"><AnnualSales>3000000</AnnualSales><AnnualRevenue>300000</AnnualRevenue><BankName>United Security</BankName><BusinessType>OS</BusinessType><YearOpened>1972</YearOpened><Specialty>Mountain</Specialty><SquareFeet>79000</SquareFeet><Brands>4+</Brands><Internet>T2</Internet><NumberEmployees>90</NumberEmployees></StoreSurvey></td><td>2014-09-12</td><td>Tires and Tubes</td><td>280</td><td>88ceecee-7ad3-42e7-9f75-0f5a397083ae</td></tr><tr><td>1126</td><td><StoreSurvey xmlns=\"http://schemas.microsoft.com/sqlserver/2004/07/adventure-works/StoreSurvey\"><AnnualSales>3000000</AnnualSales><AnnualRevenue>300000</AnnualRevenue><BankName>Reserve Security</BankName><BusinessType>OS</BusinessType><YearOpened>1977</YearOpened><Specialty>Mountain</Specialty><SquareFeet>75000</SquareFeet><Brands>2</Brands><Internet>T1</Internet><NumberEmployees>91</NumberEmployees></StoreSurvey></td><td>2014-09-12</td><td>Hardware Components</td><td>277</td><td>f1587a33-543d-4cba-950b-e97e0bfe90df</td></tr><tr><td>1128</td><td><StoreSurvey xmlns=\"http://schemas.microsoft.com/sqlserver/2004/07/adventure-works/StoreSurvey\"><AnnualSales>3000000</AnnualSales><AnnualRevenue>300000</AnnualRevenue><BankName>Primary International</BankName><BusinessType>OS</BusinessType><YearOpened>1987</YearOpened><Specialty>Road</Specialty><SquareFeet>78000</SquareFeet><Brands>4+</Brands><Internet>DSL</Internet><NumberEmployees>92</NumberEmployees></StoreSurvey></td><td>2014-09-12</td><td>Retail Sporting Goods</td><td>281</td><td>09a0d120-26d6-45ff-87a7-d5d5cf9a0b71</td></tr><tr><td>1130</td><td><StoreSurvey xmlns=\"http://schemas.microsoft.com/sqlserver/2004/07/adventure-works/StoreSurvey\"><AnnualSales>3000000</AnnualSales><AnnualRevenue>300000</AnnualRevenue><BankName>Guardian Bank</BankName><BusinessType>OS</BusinessType><YearOpened>1974</YearOpened><Specialty>Touring</Specialty><SquareFeet>77000</SquareFeet><Brands>3</Brands><Internet>DSL</Internet><NumberEmployees>93</NumberEmployees></StoreSurvey></td><td>2014-09-12</td><td>Efficient Cycling</td><td>282</td><td>de0aa7ae-3063-40f5-b0c1-9112b1707a99</td></tr><tr><td>1132</td><td><StoreSurvey xmlns=\"http://schemas.microsoft.com/sqlserver/2004/07/adventure-works/StoreSurvey\"><AnnualSales>1500000</AnnualSales><AnnualRevenue>150000</AnnualRevenue><BankName>Primary International</BankName><BusinessType>BS</BusinessType><YearOpened>1994</YearOpened><Specialty>Road</Specialty><SquareFeet>42000</SquareFeet><Brands>4+</Brands><Internet>T1</Internet><NumberEmployees>48</NumberEmployees></StoreSurvey></td><td>2014-09-12</td><td>General Industries</td><td>282</td><td>b51ee310-8aad-4df2-a5cb-5c452b68bbfe</td></tr><tr><td>1134</td><td><StoreSurvey xmlns=\"http://schemas.microsoft.com/sqlserver/2004/07/adventure-works/StoreSurvey\"><AnnualSales>1500000</AnnualSales><AnnualRevenue>150000</AnnualRevenue><BankName>Reserve Security</BankName><BusinessType>BS</BusinessType><YearOpened>1989</YearOpened><Specialty>Road</Specialty><SquareFeet>40000</SquareFeet><Brands>2</Brands><Internet>DSL</Internet><NumberEmployees>49</NumberEmployees></StoreSurvey></td><td>2014-09-12</td><td>Highway Bike Shop</td><td>281</td><td>c4e0ba14-3a94-4de8-bfa6-cc77754ebee3</td></tr><tr><td>1136</td><td><StoreSurvey xmlns=\"http://schemas.microsoft.com/sqlserver/2004/07/adventure-works/StoreSurvey\"><AnnualSales>1500000</AnnualSales><AnnualRevenue>150000</AnnualRevenue><BankName>United Security</BankName><BusinessType>BS</BusinessType><YearOpened>1997</YearOpened><Specialty>Road</Specialty><SquareFeet>40000</SquareFeet><Brands>4+</Brands><Internet>T1</Internet><NumberEmployees>46</NumberEmployees></StoreSurvey></td><td>2014-09-12</td><td>Rental Bikes</td><td>277</td><td>995a09e7-7e7f-4b24-b493-fb70d5b83828</td></tr><tr><td>1138</td><td><StoreSurvey xmlns=\"http://schemas.microsoft.com/sqlserver/2004/07/adventure-works/StoreSurvey\"><AnnualSales>1500000</AnnualSales><AnnualRevenue>150000</AnnualRevenue><BankName>International Bank</BankName><BusinessType>BS</BusinessType><YearOpened>1992</YearOpened><Specialty>Road</Specialty><SquareFeet>41000</SquareFeet><Brands>3</Brands><Internet>ISDN</Internet><NumberEmployees>43</NumberEmployees></StoreSurvey></td><td>2014-09-12</td><td>Roving Sports</td><td>280</td><td>0e845a5c-66b0-4979-b65c-5887a58614a6</td></tr><tr><td>1140</td><td><StoreSurvey xmlns=\"http://schemas.microsoft.com/sqlserver/2004/07/adventure-works/StoreSurvey\"><AnnualSales>1500000</AnnualSales><AnnualRevenue>150000</AnnualRevenue><BankName>Primary Bank &amp; Reserve</BankName><BusinessType>BS</BusinessType><YearOpened>1995</YearOpened><Specialty>Mountain</Specialty><SquareFeet>38000</SquareFeet><Brands>4+</Brands><Internet>DSL</Internet><NumberEmployees>40</NumberEmployees></StoreSurvey></td><td>2014-09-12</td><td>Express Bike Services</td><td>289</td><td>eb0f662c-8d87-454e-abad-0cbbb847c171</td></tr><tr><td>1142</td><td><StoreSurvey xmlns=\"http://schemas.microsoft.com/sqlserver/2004/07/adventure-works/StoreSurvey\"><AnnualSales>1500000</AnnualSales><AnnualRevenue>150000</AnnualRevenue><BankName>International Security</BankName><BusinessType>BS</BusinessType><YearOpened>1995</YearOpened><Specialty>Mountain</Specialty><SquareFeet>36000</SquareFeet><Brands>4+</Brands><Internet>DSL</Internet><NumberEmployees>37</NumberEmployees></StoreSurvey></td><td>2014-09-12</td><td>Major Amusement Company</td><td>290</td><td>a37f70d2-4aa8-4c29-a3f4-00d238dd9628</td></tr><tr><td>1144</td><td><StoreSurvey xmlns=\"http://schemas.microsoft.com/sqlserver/2004/07/adventure-works/StoreSurvey\"><AnnualSales>1500000</AnnualSales><AnnualRevenue>150000</AnnualRevenue><BankName>Guardian Bank</BankName><BusinessType>BS</BusinessType><YearOpened>1983</YearOpened><Specialty>Road</Specialty><SquareFeet>37000</SquareFeet><Brands>3</Brands><Internet>T1</Internet><NumberEmployees>34</NumberEmployees></StoreSurvey></td><td>2014-09-12</td><td>Retail Discount Store</td><td>282</td><td>841949ed-fe89-4fc6-9e24-605adf88b9cd</td></tr><tr><td>1146</td><td><StoreSurvey xmlns=\"http://schemas.microsoft.com/sqlserver/2004/07/adventure-works/StoreSurvey\"><AnnualSales>1500000</AnnualSales><AnnualRevenue>150000</AnnualRevenue><BankName>Primary International</BankName><BusinessType>BS</BusinessType><YearOpened>1998</YearOpened><Specialty>Touring</Specialty><SquareFeet>37000</SquareFeet><Brands>4+</Brands><Internet>T2</Internet><NumberEmployees>31</NumberEmployees></StoreSurvey></td><td>2014-09-12</td><td>Vale Riding Supplies</td><td>281</td><td>8b93dba7-7742-42ab-81c1-91ffc3b713cb</td></tr><tr><td>1148</td><td><StoreSurvey xmlns=\"http://schemas.microsoft.com/sqlserver/2004/07/adventure-works/StoreSurvey\"><AnnualSales>1000000</AnnualSales><AnnualRevenue>100000</AnnualRevenue><BankName>Reserve Security</BankName><BusinessType>BS</BusinessType><YearOpened>1971</YearOpened><Specialty>Road</Specialty><SquareFeet>28000</SquareFeet><Brands>3</Brands><Internet>T2</Internet><NumberEmployees>28</NumberEmployees></StoreSurvey></td><td>2014-09-12</td><td>A Great Bicycle Company</td><td>277</td><td>68fc27ad-2ed1-4f61-a068-0aa3debd9931</td></tr><tr><td>1150</td><td><StoreSurvey xmlns=\"http://schemas.microsoft.com/sqlserver/2004/07/adventure-works/StoreSurvey\"><AnnualSales>1000000</AnnualSales><AnnualRevenue>100000</AnnualRevenue><BankName>United Security</BankName><BusinessType>BS</BusinessType><YearOpened>2001</YearOpened><Specialty>Road</Specialty><SquareFeet>24000</SquareFeet><Brands>2</Brands><Internet>ISDN</Internet><NumberEmployees>25</NumberEmployees></StoreSurvey></td><td>2014-09-12</td><td>Certified Bicycle Supply</td><td>280</td><td>2656a532-5879-4092-91eb-e7a2d2cd2ee6</td></tr><tr><td>1152</td><td><StoreSurvey xmlns=\"http://schemas.microsoft.com/sqlserver/2004/07/adventure-works/StoreSurvey\"><AnnualSales>1000000</AnnualSales><AnnualRevenue>100000</AnnualRevenue><BankName>International Bank</BankName><BusinessType>BS</BusinessType><YearOpened>1996</YearOpened><Specialty>Touring</Specialty><SquareFeet>27000</SquareFeet><Brands>4+</Brands><Internet>DSL</Internet><NumberEmployees>22</NumberEmployees></StoreSurvey></td><td>2014-09-12</td><td>Exceptional Cycle Services</td><td>289</td><td>4ccc7825-4c14-4649-b91f-8b5656c708f0</td></tr><tr><td>1154</td><td><StoreSurvey xmlns=\"http://schemas.microsoft.com/sqlserver/2004/07/adventure-works/StoreSurvey\"><AnnualSales>800000</AnnualSales><AnnualRevenue>80000</AnnualRevenue><BankName>Primary Bank &amp; Reserve</BankName><BusinessType>BS</BusinessType><YearOpened>1990</YearOpened><Specialty>Road</Specialty><SquareFeet>23000</SquareFeet><Brands>4+</Brands><Internet>T1</Internet><NumberEmployees>19</NumberEmployees></StoreSurvey></td><td>2014-09-12</td><td>Instant Cycle Store</td><td>290</td><td>b54785a0-100d-4912-86e8-847f736a6ba5</td></tr><tr><td>1156</td><td><StoreSurvey xmlns=\"http://schemas.microsoft.com/sqlserver/2004/07/adventure-works/StoreSurvey\"><AnnualSales>800000</AnnualSales><AnnualRevenue>80000</AnnualRevenue><BankName>International Security</BankName><BusinessType>BS</BusinessType><YearOpened>1984</YearOpened><Specialty>Mountain</Specialty><SquareFeet>22000</SquareFeet><Brands>4+</Brands><Internet>DSL</Internet><NumberEmployees>16</NumberEmployees></StoreSurvey></td><td>2014-09-12</td><td>Leisure Activities</td><td>282</td><td>5500dc18-da7b-4107-a9c0-0dd8cc47faad</td></tr><tr><td>1158</td><td><StoreSurvey xmlns=\"http://schemas.microsoft.com/sqlserver/2004/07/adventure-works/StoreSurvey\"><AnnualSales>800000</AnnualSales><AnnualRevenue>80000</AnnualRevenue><BankName>Guardian Bank</BankName><BusinessType>BS</BusinessType><YearOpened>1978</YearOpened><Specialty>Touring</Specialty><SquareFeet>18000</SquareFeet><Brands>3</Brands><Internet>T1</Internet><NumberEmployees>13</NumberEmployees></StoreSurvey></td><td>2014-09-12</td><td>Paints and Solvents Company</td><td>281</td><td>ad164fae-f4f6-4c0f-852e-889ee6280b41</td></tr><tr><td>1160</td><td><StoreSurvey xmlns=\"http://schemas.microsoft.com/sqlserver/2004/07/adventure-works/StoreSurvey\"><AnnualSales>1000000</AnnualSales><AnnualRevenue>100000</AnnualRevenue><BankName>International Bank</BankName><BusinessType>BS</BusinessType><YearOpened>2001</YearOpened><Specialty>Touring</Specialty><SquareFeet>27000</SquareFeet><Brands>3</Brands><Internet>T1</Internet><NumberEmployees>29</NumberEmployees></StoreSurvey></td><td>2014-09-12</td><td>West Wind Distributors</td><td>288</td><td>4fe6e559-7339-4043-92d9-635f2f3c00b0</td></tr><tr><td>1162</td><td><StoreSurvey xmlns=\"http://schemas.microsoft.com/sqlserver/2004/07/adventure-works/StoreSurvey\"><AnnualSales>1500000</AnnualSales><AnnualRevenue>150000</AnnualRevenue><BankName>Primary Bank &amp; Reserve</BankName><BusinessType>BS</BusinessType><YearOpened>1996</YearOpened><Specialty>Mountain</Specialty><SquareFeet>36000</SquareFeet><Brands>4+</Brands><Internet>DSL</Internet><NumberEmployees>30</NumberEmployees></StoreSurvey></td><td>2014-09-12</td><td>Bikes for Kids and Adults</td><td>282</td><td>dc41a5cf-fe94-47a2-8402-c3072a55f1e8</td></tr><tr><td>1164</td><td><StoreSurvey xmlns=\"http://schemas.microsoft.com/sqlserver/2004/07/adventure-works/StoreSurvey\"><AnnualSales>1500000</AnnualSales><AnnualRevenue>150000</AnnualRevenue><BankName>International Security</BankName><BusinessType>BS</BusinessType><YearOpened>1990</YearOpened><Specialty>Mountain</Specialty><SquareFeet>38000</SquareFeet><Brands>3</Brands><Internet>DSL</Internet><NumberEmployees>31</NumberEmployees></StoreSurvey></td><td>2014-09-12</td><td>Consolidated Sales</td><td>279</td><td>740d720c-e93a-47bd-922b-b6db87ba5452</td></tr><tr><td>1166</td><td><StoreSurvey xmlns=\"http://schemas.microsoft.com/sqlserver/2004/07/adventure-works/StoreSurvey\"><AnnualSales>800000</AnnualSales><AnnualRevenue>80000</AnnualRevenue><BankName>United Security</BankName><BusinessType>BM</BusinessType><YearOpened>1988</YearOpened><Specialty>Touring</Specialty><SquareFeet>20000</SquareFeet><Brands>3</Brands><Internet>T2</Internet><NumberEmployees>11</NumberEmployees></StoreSurvey></td><td>2014-09-12</td><td>Home Town Bike Store</td><td>278</td><td>af4ac9e0-fabe-4624-89ff-ea136723359a</td></tr><tr><td>1168</td><td><StoreSurvey xmlns=\"http://schemas.microsoft.com/sqlserver/2004/07/adventure-works/StoreSurvey\"><AnnualSales>300000</AnnualSales><AnnualRevenue>30000</AnnualRevenue><BankName>International Bank</BankName><BusinessType>BM</BusinessType><YearOpened>1982</YearOpened><Specialty>Road</Specialty><SquareFeet>10000</SquareFeet><Brands>2</Brands><Internet>T1</Internet><NumberEmployees>8</NumberEmployees></StoreSurvey></td><td>2014-09-12</td><td>Optimal Bikes</td><td>279</td><td>ee22cf36-5dc3-483e-885a-37ed28508a30</td></tr><tr><td>1170</td><td><StoreSurvey xmlns=\"http://schemas.microsoft.com/sqlserver/2004/07/adventure-works/StoreSurvey\"><AnnualSales>300000</AnnualSales><AnnualRevenue>30000</AnnualRevenue><BankName>Primary Bank &amp; Reserve</BankName><BusinessType>BM</BusinessType><YearOpened>1976</YearOpened><Specialty>Road</Specialty><SquareFeet>7000</SquareFeet><Brands>AW</Brands><Internet>DSL</Internet><NumberEmployees>5</NumberEmployees></StoreSurvey></td><td>2014-09-12</td><td>Sample Bike Store</td><td>276</td><td>b39bf496-3dd4-47af-9f26-5a7b44349127</td></tr><tr><td>1172</td><td><StoreSurvey xmlns=\"http://schemas.microsoft.com/sqlserver/2004/07/adventure-works/StoreSurvey\"><AnnualSales>300000</AnnualSales><AnnualRevenue>30000</AnnualRevenue><BankName>International Security</BankName><BusinessType>BM</BusinessType><YearOpened>1970</YearOpened><Specialty>Road</Specialty><SquareFeet>7000</SquareFeet><Brands>3</Brands><Internet>DSL</Internet><NumberEmployees>2</NumberEmployees></StoreSurvey></td><td>2014-09-12</td><td>Extras Sporting Goods</td><td>277</td><td>08c40323-b1c0-41de-978e-497b84513b5a</td></tr><tr><td>1174</td><td><StoreSurvey xmlns=\"http://schemas.microsoft.com/sqlserver/2004/07/adventure-works/StoreSurvey\"><AnnualSales>800000</AnnualSales><AnnualRevenue>80000</AnnualRevenue><BankName>International Bank</BankName><BusinessType>BM</BusinessType><YearOpened>1997</YearOpened><Specialty>Road</Specialty><SquareFeet>22000</SquareFeet><Brands>4+</Brands><Internet>DSL</Internet><NumberEmployees>17</NumberEmployees></StoreSurvey></td><td>2014-09-12</td><td>Sure & Reliable Sporting Goods</td><td>283</td><td>8a8e549d-0ba5-43d0-adf8-60f9b5fdec9d</td></tr><tr><td>1176</td><td><StoreSurvey xmlns=\"http://schemas.microsoft.com/sqlserver/2004/07/adventure-works/StoreSurvey\"><AnnualSales>800000</AnnualSales><AnnualRevenue>80000</AnnualRevenue><BankName>Primary Bank &amp; Reserve</BankName><BusinessType>BM</BusinessType><YearOpened>1975</YearOpened><Specialty>Road</Specialty><SquareFeet>22000</SquareFeet><Brands>4+</Brands><Internet>DSL</Internet><NumberEmployees>18</NumberEmployees></StoreSurvey></td><td>2014-09-12</td><td>Eleventh Bike Store</td><td>275</td><td>63164f1d-d845-487d-aecb-74e67a036563</td></tr><tr><td>1178</td><td><StoreSurvey xmlns=\"http://schemas.microsoft.com/sqlserver/2004/07/adventure-works/StoreSurvey\"><AnnualSales>800000</AnnualSales><AnnualRevenue>80000</AnnualRevenue><BankName>International Security</BankName><BusinessType>BM</BusinessType><YearOpened>2000</YearOpened><Specialty>Touring</Specialty><SquareFeet>23000</SquareFeet><Brands>4+</Brands><Internet>T1</Internet><NumberEmployees>19</NumberEmployees></StoreSurvey></td><td>2014-09-12</td><td>Enterprise Center</td><td>288</td><td>23df9965-0d48-4935-8af6-a3f21d37edfa</td></tr><tr><td>1180</td><td><StoreSurvey xmlns=\"http://schemas.microsoft.com/sqlserver/2004/07/adventure-works/StoreSurvey\"><AnnualSales>1000000</AnnualSales><AnnualRevenue>100000</AnnualRevenue><BankName>Guardian Bank</BankName><BusinessType>BM</BusinessType><YearOpened>2000</YearOpened><Specialty>Road</Specialty><SquareFeet>27000</SquareFeet><Brands>2</Brands><Internet>DSL</Internet><NumberEmployees>20</NumberEmployees></StoreSurvey></td><td>2014-09-12</td><td>Purple Bicycle Company</td><td>282</td><td>0d9b5235-d3c0-4bf0-a319-f122c2cc1a36</td></tr><tr><td>1182</td><td><StoreSurvey xmlns=\"http://schemas.microsoft.com/sqlserver/2004/07/adventure-works/StoreSurvey\"><AnnualSales>800000</AnnualSales><AnnualRevenue>80000</AnnualRevenue><BankName>Primary International</BankName><BusinessType>BM</BusinessType><YearOpened>1994</YearOpened><Specialty>Road</Specialty><SquareFeet>20000</SquareFeet><Brands>AW</Brands><Internet>DSL</Internet><NumberEmployees>18</NumberEmployees></StoreSurvey></td><td>2014-09-12</td><td>New and Used Bicycles</td><td>279</td><td>271474f4-52f9-4c6d-ad70-5a894111e739</td></tr><tr><td>1184</td><td><StoreSurvey xmlns=\"http://schemas.microsoft.com/sqlserver/2004/07/adventure-works/StoreSurvey\"><AnnualSales>800000</AnnualSales><AnnualRevenue>80000</AnnualRevenue><BankName>Reserve Security</BankName><BusinessType>BM</BusinessType><YearOpened>1988</YearOpened><Specialty>Road</Specialty><SquareFeet>21000</SquareFeet><Brands>3</Brands><Internet>DSL</Internet><NumberEmployees>16</NumberEmployees></StoreSurvey></td><td>2014-09-12</td><td>Separate Parts Corporation</td><td>281</td><td>4cf82063-b7cb-4772-9f0c-d3acb230f459</td></tr><tr><td>1186</td><td><StoreSurvey xmlns=\"http://schemas.microsoft.com/sqlserver/2004/07/adventure-works/StoreSurvey\"><AnnualSales>800000</AnnualSales><AnnualRevenue>80000</AnnualRevenue><BankName>United Security</BankName><BusinessType>BM</BusinessType><YearOpened>1982</YearOpened><Specialty>Road</Specialty><SquareFeet>20000</SquareFeet><Brands>2</Brands><Internet>DSL</Internet><NumberEmployees>14</NumberEmployees></StoreSurvey></td><td>2014-09-12</td><td>Basic Bike Company</td><td>283</td><td>f2c84903-19ed-4549-8b4e-9604c558eab6</td></tr><tr><td>1188</td><td><StoreSurvey xmlns=\"http://schemas.microsoft.com/sqlserver/2004/07/adventure-works/StoreSurvey\"><AnnualSales>800000</AnnualSales><AnnualRevenue>80000</AnnualRevenue><BankName>International Bank</BankName><BusinessType>BM</BusinessType><YearOpened>1976</YearOpened><Specialty>Mountain</Specialty><SquareFeet>18000</SquareFeet><Brands>4+</Brands><Internet>DSL</Internet><NumberEmployees>12</NumberEmployees></StoreSurvey></td><td>2014-09-12</td><td>Fabrikam Inc., West</td><td>275</td><td>9da146b6-2e9b-4039-83e1-427879f8471e</td></tr><tr><td>1190</td><td><StoreSurvey xmlns=\"http://schemas.microsoft.com/sqlserver/2004/07/adventure-works/StoreSurvey\"><AnnualSales>800000</AnnualSales><AnnualRevenue>80000</AnnualRevenue><BankName>Primary Bank &amp; Reserve</BankName><BusinessType>BM</BusinessType><YearOpened>1970</YearOpened><Specialty>Touring</Specialty><SquareFeet>21000</SquareFeet><Brands>3</Brands><Internet>T1</Internet><NumberEmployees>10</NumberEmployees></StoreSurvey></td><td>2014-09-12</td><td>Mechanical Brake Manufacturers</td><td>288</td><td>0e715ab8-2eb4-41e4-8b9d-63523c2e4b2d</td></tr><tr><td>1192</td><td><StoreSurvey xmlns=\"http://schemas.microsoft.com/sqlserver/2004/07/adventure-works/StoreSurvey\"><AnnualSales>300000</AnnualSales><AnnualRevenue>30000</AnnualRevenue><BankName>International Security</BankName><BusinessType>BM</BusinessType><YearOpened>1975</YearOpened><Specialty>Road</Specialty><SquareFeet>11000</SquareFeet><Brands>AW</Brands><Internet>DSL</Internet><NumberEmployees>8</NumberEmployees></StoreSurvey></td><td>2014-09-12</td><td>Non-Slip Pedal Company</td><td>282</td><td>c374851d-b5f0-46c6-bf7b-e3ead1124bd5</td></tr><tr><td>1194</td><td><StoreSurvey xmlns=\"http://schemas.microsoft.com/sqlserver/2004/07/adventure-works/StoreSurvey\"><AnnualSales>300000</AnnualSales><AnnualRevenue>30000</AnnualRevenue><BankName>Guardian Bank</BankName><BusinessType>BM</BusinessType><YearOpened>1970</YearOpened><Specialty>Mountain</Specialty><SquareFeet>9000</SquareFeet><Brands>AW</Brands><Internet>DSL</Internet><NumberEmployees>6</NumberEmployees></StoreSurvey></td><td>2014-09-12</td><td>Variety Bike Outlet</td><td>279</td><td>2211f0a3-5a94-486c-ac43-8b2a76f40db5</td></tr><tr><td>1196</td><td><StoreSurvey xmlns=\"http://schemas.microsoft.com/sqlserver/2004/07/adventure-works/StoreSurvey\"><AnnualSales>300000</AnnualSales><AnnualRevenue>30000</AnnualRevenue><BankName>Primary International</BankName><BusinessType>BM</BusinessType><YearOpened>1978</YearOpened><Specialty>Road</Specialty><SquareFeet>7000</SquareFeet><Brands>AW</Brands><Internet>DSL</Internet><NumberEmployees>4</NumberEmployees></StoreSurvey></td><td>2014-09-12</td><td>Weekend Bike Tours</td><td>281</td><td>6252826a-91a5-41e4-9348-ff0afc2b669e</td></tr><tr><td>1198</td><td><StoreSurvey xmlns=\"http://schemas.microsoft.com/sqlserver/2004/07/adventure-works/StoreSurvey\"><AnnualSales>800000</AnnualSales><AnnualRevenue>80000</AnnualRevenue><BankName>Guardian Bank</BankName><BusinessType>BM</BusinessType><YearOpened>1993</YearOpened><Specialty>Road</Specialty><SquareFeet>20000</SquareFeet><Brands>AW</Brands><Internet>DSL</Internet><NumberEmployees>11</NumberEmployees></StoreSurvey></td><td>2014-09-12</td><td>Fabrikam Inc., East</td><td>288</td><td>43d11293-c15a-4e15-acae-7a1eeab66096</td></tr><tr><td>1200</td><td><StoreSurvey xmlns=\"http://schemas.microsoft.com/sqlserver/2004/07/adventure-works/StoreSurvey\"><AnnualSales>800000</AnnualSales><AnnualRevenue>80000</AnnualRevenue><BankName>Primary International</BankName><BusinessType>BM</BusinessType><YearOpened>1988</YearOpened><Specialty>Road</Specialty><SquareFeet>21000</SquareFeet><Brands>3</Brands><Internet>T2</Internet><NumberEmployees>12</NumberEmployees></StoreSurvey></td><td>2014-09-12</td><td>General Supplies</td><td>282</td><td>2e8cc24d-2556-40b0-98c5-91cce9d75e1e</td></tr><tr><td>1202</td><td><StoreSurvey xmlns=\"http://schemas.microsoft.com/sqlserver/2004/07/adventure-works/StoreSurvey\"><AnnualSales>800000</AnnualSales><AnnualRevenue>80000</AnnualRevenue><BankName>Reserve Security</BankName><BusinessType>BM</BusinessType><YearOpened>1996</YearOpened><Specialty>Mountain</Specialty><SquareFeet>20000</SquareFeet><Brands>4+</Brands><Internet>DSL</Internet><NumberEmployees>13</NumberEmployees></StoreSurvey></td><td>2014-09-12</td><td>Noiseless Gear Company</td><td>279</td><td>6036acc8-a7e3-4d9f-8383-31d759b8d4bc</td></tr><tr><td>1204</td><td><StoreSurvey xmlns=\"http://schemas.microsoft.com/sqlserver/2004/07/adventure-works/StoreSurvey\"><AnnualSales>800000</AnnualSales><AnnualRevenue>80000</AnnualRevenue><BankName>United Security</BankName><BusinessType>BM</BusinessType><YearOpened>1991</YearOpened><Specialty>Road</Specialty><SquareFeet>18000</SquareFeet><Brands>2</Brands><Internet>DSL</Internet><NumberEmployees>14</NumberEmployees></StoreSurvey></td><td>2014-09-12</td><td>Racing Toys</td><td>281</td><td>243a84e3-1c70-4a25-a8dd-bb6c0b0c8072</td></tr><tr><td>1206</td><td><StoreSurvey xmlns=\"http://schemas.microsoft.com/sqlserver/2004/07/adventure-works/StoreSurvey\"><AnnualSales>300000</AnnualSales><AnnualRevenue>30000</AnnualRevenue><BankName>Primary Bank &amp; Reserve</BankName><BusinessType>BM</BusinessType><YearOpened>1981</YearOpened><Specialty>Mountain</Specialty><SquareFeet>10000</SquareFeet><Brands>4+</Brands><Internet>DSL</Internet><NumberEmployees>3</NumberEmployees></StoreSurvey></td><td>2014-09-12</td><td>Capable Sales and Service</td><td>280</td><td>88d825c6-a877-46cb-b874-3f933ded0920</td></tr><tr><td>1208</td><td><StoreSurvey xmlns=\"http://schemas.microsoft.com/sqlserver/2004/07/adventure-works/StoreSurvey\"><AnnualSales>300000</AnnualSales><AnnualRevenue>30000</AnnualRevenue><BankName>International Security</BankName><BusinessType>BM</BusinessType><YearOpened>1976</YearOpened><Specialty>Touring</Specialty><SquareFeet>10000</SquareFeet><Brands>4+</Brands><Internet>DSL</Internet><NumberEmployees>4</NumberEmployees></StoreSurvey></td><td>2014-09-12</td><td>Little Sports Center</td><td>289</td><td>de9e508e-4e51-4a6f-8c53-20be18c1dea1</td></tr><tr><td>1210</td><td><StoreSurvey xmlns=\"http://schemas.microsoft.com/sqlserver/2004/07/adventure-works/StoreSurvey\"><AnnualSales>300000</AnnualSales><AnnualRevenue>30000</AnnualRevenue><BankName>Guardian Bank</BankName><BusinessType>BM</BusinessType><YearOpened>1984</YearOpened><Specialty>Road</Specialty><SquareFeet>6000</SquareFeet><Brands>3</Brands><Internet>T2</Internet><NumberEmployees>5</NumberEmployees></StoreSurvey></td><td>2014-09-12</td><td>Pretty Bikes and Toys</td><td>290</td><td>f0e72f25-41ef-4c1d-ad51-5af894f852b0</td></tr><tr><td>1212</td><td><StoreSurvey xmlns=\"http://schemas.microsoft.com/sqlserver/2004/07/adventure-works/StoreSurvey\"><AnnualSales>300000</AnnualSales><AnnualRevenue>30000</AnnualRevenue><BankName>Primary International</BankName><BusinessType>BM</BusinessType><YearOpened>1979</YearOpened><Specialty>Mountain</Specialty><SquareFeet>10000</SquareFeet><Brands>3</Brands><Internet>T1</Internet><NumberEmployees>6</NumberEmployees></StoreSurvey></td><td>2014-09-12</td><td>Road Way Sales and Rental</td><td>282</td><td>89ad5863-0a77-448a-b52f-11dc514ce6f1</td></tr><tr><td>1214</td><td><StoreSurvey xmlns=\"http://schemas.microsoft.com/sqlserver/2004/07/adventure-works/StoreSurvey\"><AnnualSales>300000</AnnualSales><AnnualRevenue>30000</AnnualRevenue><BankName>Reserve Security</BankName><BusinessType>BM</BusinessType><YearOpened>1987</YearOpened><Specialty>Mountain</Specialty><SquareFeet>9000</SquareFeet><Brands>2</Brands><Internet>DSL</Internet><NumberEmployees>7</NumberEmployees></StoreSurvey></td><td>2014-09-12</td><td>Sturdy Toys</td><td>281</td><td>54897e0c-a386-46e8-8065-a9cc052075bd</td></tr><tr><td>1216</td><td><StoreSurvey xmlns=\"http://schemas.microsoft.com/sqlserver/2004/07/adventure-works/StoreSurvey\"><AnnualSales>300000</AnnualSales><AnnualRevenue>30000</AnnualRevenue><BankName>United Security</BankName><BusinessType>BM</BusinessType><YearOpened>1982</YearOpened><Specialty>Road</Specialty><SquareFeet>9000</SquareFeet><Brands>2</Brands><Internet>T1</Internet><NumberEmployees>8</NumberEmployees></StoreSurvey></td><td>2014-09-12</td><td>Beneficial Exercises and Activities</td><td>277</td><td>8c9fef87-a44e-4ee0-9051-39b7bdc8d552</td></tr><tr><td>1218</td><td><StoreSurvey xmlns=\"http://schemas.microsoft.com/sqlserver/2004/07/adventure-works/StoreSurvey\"><AnnualSales>300000</AnnualSales><AnnualRevenue>30000</AnnualRevenue><BankName>International Bank</BankName><BusinessType>BM</BusinessType><YearOpened>1990</YearOpened><Specialty>Road</Specialty><SquareFeet>8000</SquareFeet><Brands>AW</Brands><Internet>DSL</Internet><NumberEmployees>9</NumberEmployees></StoreSurvey></td><td>2014-09-12</td><td>Fad Outlet</td><td>280</td><td>fcafe412-052f-4f3e-b8a5-28f71c755019</td></tr><tr><td>1220</td><td><StoreSurvey xmlns=\"http://schemas.microsoft.com/sqlserver/2004/07/adventure-works/StoreSurvey\"><AnnualSales>800000</AnnualSales><AnnualRevenue>80000</AnnualRevenue><BankName>Primary Bank &amp; Reserve</BankName><BusinessType>BM</BusinessType><YearOpened>1985</YearOpened><Specialty>Mountain</Specialty><SquareFeet>19000</SquareFeet><Brands>4+</Brands><Internet>ISDN</Internet><NumberEmployees>10</NumberEmployees></StoreSurvey></td><td>2014-09-12</td><td>Commerce Bicycle Specialists</td><td>289</td><td>a9d77ea7-baec-46f1-b2dc-5a7ebfad788b</td></tr><tr><td>1222</td><td><StoreSurvey xmlns=\"http://schemas.microsoft.com/sqlserver/2004/07/adventure-works/StoreSurvey\"><AnnualSales>800000</AnnualSales><AnnualRevenue>80000</AnnualRevenue><BankName>International Security</BankName><BusinessType>BM</BusinessType><YearOpened>1993</YearOpened><Specialty>Road</Specialty><SquareFeet>18000</SquareFeet><Brands>4+</Brands><Internet>ISDN</Internet><NumberEmployees>11</NumberEmployees></StoreSurvey></td><td>2014-09-12</td><td>Township Inn</td><td>290</td><td>01cd6b0b-1c26-4490-bc7b-fa20c8adab95</td></tr><tr><td>1224</td><td><StoreSurvey xmlns=\"http://schemas.microsoft.com/sqlserver/2004/07/adventure-works/StoreSurvey\"><AnnualSales>800000</AnnualSales><AnnualRevenue>80000</AnnualRevenue><BankName>Guardian Bank</BankName><BusinessType>BM</BusinessType><YearOpened>1988</YearOpened><Specialty>Road</Specialty><SquareFeet>21000</SquareFeet><Brands>AW</Brands><Internet>DSL</Internet><NumberEmployees>12</NumberEmployees></StoreSurvey></td><td>2014-09-12</td><td>Acceptable Sales & Service</td><td>282</td><td>1b4d0a1b-5b60-46af-97b3-03cb5449dc87</td></tr><tr><td>1226</td><td><StoreSurvey xmlns=\"http://schemas.microsoft.com/sqlserver/2004/07/adventure-works/StoreSurvey\"><AnnualSales>800000</AnnualSales><AnnualRevenue>80000</AnnualRevenue><BankName>Primary International</BankName><BusinessType>BM</BusinessType><YearOpened>1996</YearOpened><Specialty>Road</Specialty><SquareFeet>19000</SquareFeet><Brands>2</Brands><Internet>DSL</Internet><NumberEmployees>13</NumberEmployees></StoreSurvey></td><td>2014-09-12</td><td>Brown Bicycle Company</td><td>281</td><td>a61b8d5f-ddda-4cde-9607-a6d4d446a5f3</td></tr><tr><td>1228</td><td><StoreSurvey xmlns=\"http://schemas.microsoft.com/sqlserver/2004/07/adventure-works/StoreSurvey\"><AnnualSales>800000</AnnualSales><AnnualRevenue>80000</AnnualRevenue><BankName>Reserve Security</BankName><BusinessType>BM</BusinessType><YearOpened>1991</YearOpened><Specialty>Road</Specialty><SquareFeet>19000</SquareFeet><Brands>4+</Brands><Internet>T1</Internet><NumberEmployees>14</NumberEmployees></StoreSurvey></td><td>2014-09-12</td><td>District Mall</td><td>277</td><td>2a26b47b-13a6-474e-83f9-a1022d05fce3</td></tr><tr><td>1230</td><td><StoreSurvey xmlns=\"http://schemas.microsoft.com/sqlserver/2004/07/adventure-works/StoreSurvey\"><AnnualSales>800000</AnnualSales><AnnualRevenue>80000</AnnualRevenue><BankName>United Security</BankName><BusinessType>BM</BusinessType><YearOpened>1999</YearOpened><Specialty>Touring</Specialty><SquareFeet>19000</SquareFeet><Brands>4+</Brands><Internet>T2</Internet><NumberEmployees>15</NumberEmployees></StoreSurvey></td><td>2014-09-12</td><td>Fitness Supplies</td><td>280</td><td>fc972e23-ab3e-48b2-8270-6defb1b8a796</td></tr><tr><td>1232</td><td><StoreSurvey xmlns=\"http://schemas.microsoft.com/sqlserver/2004/07/adventure-works/StoreSurvey\"><AnnualSales>800000</AnnualSales><AnnualRevenue>80000</AnnualRevenue><BankName>International Bank</BankName><BusinessType>BM</BusinessType><YearOpened>1994</YearOpened><Specialty>Touring</Specialty><SquareFeet>19000</SquareFeet><Brands>AW</Brands><Internet>DSL</Internet><NumberEmployees>16</NumberEmployees></StoreSurvey></td><td>2014-09-12</td><td>Mail Market</td><td>289</td><td>b60f9c7d-9e7f-41b0-9589-235dde103ae0</td></tr><tr><td>1234</td><td><StoreSurvey xmlns=\"http://schemas.microsoft.com/sqlserver/2004/07/adventure-works/StoreSurvey\"><AnnualSales>800000</AnnualSales><AnnualRevenue>80000</AnnualRevenue><BankName>Primary Bank &amp; Reserve</BankName><BusinessType>BM</BusinessType><YearOpened>1987</YearOpened><Specialty>Mountain</Specialty><SquareFeet>19000</SquareFeet><Brands>4+</Brands><Internet>DSL</Internet><NumberEmployees>17</NumberEmployees></StoreSurvey></td><td>2014-09-12</td><td>Spare Parts Co.</td><td>290</td><td>33679919-5665-4ce3-924f-b0df10ee7eb5</td></tr><tr><td>1236</td><td><StoreSurvey xmlns=\"http://schemas.microsoft.com/sqlserver/2004/07/adventure-works/StoreSurvey\"><AnnualSales>800000</AnnualSales><AnnualRevenue>80000</AnnualRevenue><BankName>International Security</BankName><BusinessType>BM</BusinessType><YearOpened>1997</YearOpened><Specialty>Mountain</Specialty><SquareFeet>21000</SquareFeet><Brands>4+</Brands><Internet>T1</Internet><NumberEmployees>18</NumberEmployees></StoreSurvey></td><td>2014-09-12</td><td>Twelfth Bike Store</td><td>282</td><td>7e41175a-1bbd-4b0e-b2ba-f66c90efa540</td></tr><tr><td>1238</td><td><StoreSurvey xmlns=\"http://schemas.microsoft.com/sqlserver/2004/07/adventure-works/StoreSurvey\"><AnnualSales>300000</AnnualSales><AnnualRevenue>30000</AnnualRevenue><BankName>Guardian Bank</BankName><BusinessType>BM</BusinessType><YearOpened>1982</YearOpened><Specialty>Road</Specialty><SquareFeet>7000</SquareFeet><Brands>3</Brands><Internet>DSL</Internet><NumberEmployees>8</NumberEmployees></StoreSurvey></td><td>2014-09-12</td><td>Consolidated Messenger</td><td>278</td><td>78b4a61e-0999-49b7-a104-9e2faaa8b92f</td></tr><tr><td>1240</td><td><StoreSurvey xmlns=\"http://schemas.microsoft.com/sqlserver/2004/07/adventure-works/StoreSurvey\"><AnnualSales>300000</AnnualSales><AnnualRevenue>30000</AnnualRevenue><BankName>Primary International</BankName><BusinessType>BM</BusinessType><YearOpened>1976</YearOpened><Specialty>Road</Specialty><SquareFeet>10000</SquareFeet><Brands>4+</Brands><Internet>T2</Internet><NumberEmployees>5</NumberEmployees></StoreSurvey></td><td>2014-09-12</td><td>Daring Rides</td><td>279</td><td>544095f1-f43c-44d5-b3e2-ecb0a5ecacd4</td></tr><tr><td>1242</td><td><StoreSurvey xmlns=\"http://schemas.microsoft.com/sqlserver/2004/07/adventure-works/StoreSurvey\"><AnnualSales>300000</AnnualSales><AnnualRevenue>30000</AnnualRevenue><BankName>Reserve Security</BankName><BusinessType>BM</BusinessType><YearOpened>1970</YearOpened><Specialty>Mountain</Specialty><SquareFeet>8000</SquareFeet><Brands>3</Brands><Internet>T2</Internet><NumberEmployees>2</NumberEmployees></StoreSurvey></td><td>2014-09-12</td><td>Field Trip Store</td><td>276</td><td>4dd9789c-dd7c-4c82-9bee-356e105fe143</td></tr><tr><td>1244</td><td><StoreSurvey xmlns=\"http://schemas.microsoft.com/sqlserver/2004/07/adventure-works/StoreSurvey\"><AnnualSales>800000</AnnualSales><AnnualRevenue>80000</AnnualRevenue><BankName>Guardian Bank</BankName><BusinessType>BM</BusinessType><YearOpened>1997</YearOpened><Specialty>Road</Specialty><SquareFeet>22000</SquareFeet><Brands>AW</Brands><Internet>DSL</Internet><NumberEmployees>17</NumberEmployees></StoreSurvey></td><td>2014-09-12</td><td>Finish and Sealant Products</td><td>281</td><td>e6398b3c-082f-4ca0-9dc8-2aec08797505</td></tr><tr><td>1246</td><td><StoreSurvey xmlns=\"http://schemas.microsoft.com/sqlserver/2004/07/adventure-works/StoreSurvey\"><AnnualSales>800000</AnnualSales><AnnualRevenue>80000</AnnualRevenue><BankName>Primary International</BankName><BusinessType>BM</BusinessType><YearOpened>1975</YearOpened><Specialty>Mountain</Specialty><SquareFeet>19000</SquareFeet><Brands>2</Brands><Internet>DSL</Internet><NumberEmployees>18</NumberEmployees></StoreSurvey></td><td>2014-09-12</td><td>Finer Parts Shop</td><td>283</td><td>57d0e838-dc59-449e-98a4-b86c6b507dbf</td></tr><tr><td>1248</td><td><StoreSurvey xmlns=\"http://schemas.microsoft.com/sqlserver/2004/07/adventure-works/StoreSurvey\"><AnnualSales>800000</AnnualSales><AnnualRevenue>80000</AnnualRevenue><BankName>Reserve Security</BankName><BusinessType>BM</BusinessType><YearOpened>2000</YearOpened><Specialty>Touring</Specialty><SquareFeet>22000</SquareFeet><Brands>2</Brands><Internet>DSL</Internet><NumberEmployees>19</NumberEmployees></StoreSurvey></td><td>2014-09-12</td><td>Glossy Bikes</td><td>275</td><td>9a4b9ccb-bb2f-4fad-88de-2e62d19f20c8</td></tr><tr><td>1250</td><td><StoreSurvey xmlns=\"http://schemas.microsoft.com/sqlserver/2004/07/adventure-works/StoreSurvey\"><AnnualSales>1000000</AnnualSales><AnnualRevenue>100000</AnnualRevenue><BankName>United Security</BankName><BusinessType>BM</BusinessType><YearOpened>2000</YearOpened><Specialty>Touring</Specialty><SquareFeet>27000</SquareFeet><Brands>3</Brands><Internet>T2</Internet><NumberEmployees>20</NumberEmployees></StoreSurvey></td><td>2014-09-12</td><td>Next Door Cycles</td><td>288</td><td>b83544ef-3eac-4e68-b36d-12ab33dcd6b3</td></tr><tr><td>1252</td><td><StoreSurvey xmlns=\"http://schemas.microsoft.com/sqlserver/2004/07/adventure-works/StoreSurvey\"><AnnualSales>1000000</AnnualSales><AnnualRevenue>100000</AnnualRevenue><BankName>International Security</BankName><BusinessType>BM</BusinessType><YearOpened>2000</YearOpened><Specialty>Mountain</Specialty><SquareFeet>26000</SquareFeet><Brands>4+</Brands><Internet>DSL</Internet><NumberEmployees>20</NumberEmployees></StoreSurvey></td><td>2014-09-12</td><td>Up-To-Date Sports</td><td>282</td><td>dd55a844-7fb1-4dff-a273-843e4a5753e0</td></tr><tr><td>1254</td><td><StoreSurvey xmlns=\"http://schemas.microsoft.com/sqlserver/2004/07/adventure-works/StoreSurvey\"><AnnualSales>800000</AnnualSales><AnnualRevenue>80000</AnnualRevenue><BankName>Guardian Bank</BankName><BusinessType>BM</BusinessType><YearOpened>1994</YearOpened><Specialty>Road</Specialty><SquareFeet>20000</SquareFeet><Brands>4+</Brands><Internet>DSL</Internet><NumberEmployees>18</NumberEmployees></StoreSurvey></td><td>2014-09-12</td><td>Mountain Bike Center</td><td>281</td><td>d937b41e-b8e0-4c46-91ae-352e6b37c1fc</td></tr><tr><td>1256</td><td><StoreSurvey xmlns=\"http://schemas.microsoft.com/sqlserver/2004/07/adventure-works/StoreSurvey\"><AnnualSales>800000</AnnualSales><AnnualRevenue>80000</AnnualRevenue><BankName>Primary International</BankName><BusinessType>BM</BusinessType><YearOpened>1988</YearOpened><Specialty>Mountain</Specialty><SquareFeet>20000</SquareFeet><Brands>AW</Brands><Internet>T2</Internet><NumberEmployees>16</NumberEmployees></StoreSurvey></td><td>2014-09-12</td><td>Specialty Sports Store</td><td>277</td><td>5b3d4ad5-0f11-4f5e-9ed4-4f0aa9472762</td></tr><tr><td>1258</td><td><StoreSurvey xmlns=\"http://schemas.microsoft.com/sqlserver/2004/07/adventure-works/StoreSurvey\"><AnnualSales>800000</AnnualSales><AnnualRevenue>80000</AnnualRevenue><BankName>Reserve Security</BankName><BusinessType>BM</BusinessType><YearOpened>1982</YearOpened><Specialty>Road</Specialty><SquareFeet>21000</SquareFeet><Brands>2</Brands><Internet>DSL</Internet><NumberEmployees>14</NumberEmployees></StoreSurvey></td><td>2014-09-12</td><td>Scooters and Bikes Store</td><td>280</td><td>9240a9e4-b7f9-40f2-9d2a-c01f78c45c3d</td></tr><tr><td>1260</td><td><StoreSurvey xmlns=\"http://schemas.microsoft.com/sqlserver/2004/07/adventure-works/StoreSurvey\"><AnnualSales>800000</AnnualSales><AnnualRevenue>80000</AnnualRevenue><BankName>United Security</BankName><BusinessType>BM</BusinessType><YearOpened>1976</YearOpened><Specialty>Mountain</Specialty><SquareFeet>22000</SquareFeet><Brands>3</Brands><Internet>T1</Internet><NumberEmployees>12</NumberEmployees></StoreSurvey></td><td>2014-09-12</td><td>Closest Bicycle Store</td><td>289</td><td>67dad033-715a-4a60-abcb-ee68e898dd6a</td></tr><tr><td>1262</td><td><StoreSurvey xmlns=\"http://schemas.microsoft.com/sqlserver/2004/07/adventure-works/StoreSurvey\"><AnnualSales>800000</AnnualSales><AnnualRevenue>80000</AnnualRevenue><BankName>International Bank</BankName><BusinessType>BM</BusinessType><YearOpened>1970</YearOpened><Specialty>Touring</Specialty><SquareFeet>19000</SquareFeet><Brands>4+</Brands><Internet>DSL</Internet><NumberEmployees>10</NumberEmployees></StoreSurvey></td><td>2014-09-12</td><td>Roadway Bicycle Supply</td><td>290</td><td>17fe3739-c3ab-4d95-ac2b-a55ff2ce3afe</td></tr><tr><td>1264</td><td><StoreSurvey xmlns=\"http://schemas.microsoft.com/sqlserver/2004/07/adventure-works/StoreSurvey\"><AnnualSales>300000</AnnualSales><AnnualRevenue>30000</AnnualRevenue><BankName>Primary Bank &amp; Reserve</BankName><BusinessType>BM</BusinessType><YearOpened>1975</YearOpened><Specialty>Road</Specialty><SquareFeet>7000</SquareFeet><Brands>3</Brands><Internet>T2</Internet><NumberEmployees>8</NumberEmployees></StoreSurvey></td><td>2014-09-12</td><td>Refined Department Stores</td><td>282</td><td>4ec6c861-04e8-479e-ba0d-17217795631d</td></tr><tr><td>1266</td><td><StoreSurvey xmlns=\"http://schemas.microsoft.com/sqlserver/2004/07/adventure-works/StoreSurvey\"><AnnualSales>300000</AnnualSales><AnnualRevenue>30000</AnnualRevenue><BankName>International Security</BankName><BusinessType>BM</BusinessType><YearOpened>1970</YearOpened><Specialty>Road</Specialty><SquareFeet>10000</SquareFeet><Brands>3</Brands><Internet>DSL</Internet><NumberEmployees>6</NumberEmployees></StoreSurvey></td><td>2014-09-12</td><td>Reasonable Bicycle Sales</td><td>281</td><td>baa74406-e6a4-430d-8d72-3bce10d8c088</td></tr><tr><td>1268</td><td><StoreSurvey xmlns=\"http://schemas.microsoft.com/sqlserver/2004/07/adventure-works/StoreSurvey\"><AnnualSales>300000</AnnualSales><AnnualRevenue>30000</AnnualRevenue><BankName>Guardian Bank</BankName><BusinessType>BM</BusinessType><YearOpened>1978</YearOpened><Specialty>Mountain</Specialty><SquareFeet>8000</SquareFeet><Brands>3</Brands><Internet>DSL</Internet><NumberEmployees>4</NumberEmployees></StoreSurvey></td><td>2014-09-12</td><td>Out-of-the-Way Hotels</td><td>277</td><td>4229e3be-ee6a-4692-9147-ac75a788f770</td></tr><tr><td>1270</td><td><StoreSurvey xmlns=\"http://schemas.microsoft.com/sqlserver/2004/07/adventure-works/StoreSurvey\"><AnnualSales>300000</AnnualSales><AnnualRevenue>30000</AnnualRevenue><BankName>Primary International</BankName><BusinessType>BM</BusinessType><YearOpened>1973</YearOpened><Specialty>Mountain</Specialty><SquareFeet>9000</SquareFeet><Brands>AW</Brands><Internet>DSL</Internet><NumberEmployees>2</NumberEmployees></StoreSurvey></td><td>2014-09-12</td><td>Outdoor Sports Supply</td><td>280</td><td>1a149464-a393-435e-ae32-6049a6ac1275</td></tr><tr><td>1272</td><td><StoreSurvey xmlns=\"http://schemas.microsoft.com/sqlserver/2004/07/adventure-works/StoreSurvey\"><AnnualSales>300000</AnnualSales><AnnualRevenue>30000</AnnualRevenue><BankName>Reserve Security</BankName><BusinessType>BM</BusinessType><YearOpened>1981</YearOpened><Specialty>Road</Specialty><SquareFeet>8000</SquareFeet><Brands>AW</Brands><Internet>DSL</Internet><NumberEmployees>3</NumberEmployees></StoreSurvey></td><td>2014-09-12</td><td>Outdoor Aerobic Systems Company</td><td>289</td><td>2c9d7f50-6431-4361-9843-0cf1601b23b9</td></tr><tr><td>1274</td><td><StoreSurvey xmlns=\"http://schemas.microsoft.com/sqlserver/2004/07/adventure-works/StoreSurvey\"><AnnualSales>300000</AnnualSales><AnnualRevenue>30000</AnnualRevenue><BankName>United Security</BankName><BusinessType>BM</BusinessType><YearOpened>1976</YearOpened><Specialty>Road</Specialty><SquareFeet>7000</SquareFeet><Brands>3</Brands><Internet>DSL</Internet><NumberEmployees>4</NumberEmployees></StoreSurvey></td><td>2014-09-12</td><td>Self-Contained Cycle Parts Company</td><td>290</td><td>8e256f9e-fecd-4695-96f0-ea82e830a79f</td></tr><tr><td>1276</td><td><StoreSurvey xmlns=\"http://schemas.microsoft.com/sqlserver/2004/07/adventure-works/StoreSurvey\"><AnnualSales>300000</AnnualSales><AnnualRevenue>30000</AnnualRevenue><BankName>International Bank</BankName><BusinessType>BM</BusinessType><YearOpened>1984</YearOpened><Specialty>Touring</Specialty><SquareFeet>9000</SquareFeet><Brands>3</Brands><Internet>T2</Internet><NumberEmployees>5</NumberEmployees></StoreSurvey></td><td>2014-09-12</td><td>Metal Clearing House</td><td>282</td><td>ca15bc7f-6499-41bc-9737-f8b289004af6</td></tr><tr><td>1278</td><td><StoreSurvey xmlns=\"http://schemas.microsoft.com/sqlserver/2004/07/adventure-works/StoreSurvey\"><AnnualSales>300000</AnnualSales><AnnualRevenue>30000</AnnualRevenue><BankName>Primary Bank &amp; Reserve</BankName><BusinessType>BM</BusinessType><YearOpened>1979</YearOpened><Specialty>Mountain</Specialty><SquareFeet>10000</SquareFeet><Brands>3</Brands><Internet>DSL</Internet><NumberEmployees>6</NumberEmployees></StoreSurvey></td><td>2014-09-12</td><td>Many Bikes Store</td><td>281</td><td>c9a6c2a1-c616-455d-b37b-1fc154f568c8</td></tr><tr><td>1280</td><td><StoreSurvey xmlns=\"http://schemas.microsoft.com/sqlserver/2004/07/adventure-works/StoreSurvey\"><AnnualSales>300000</AnnualSales><AnnualRevenue>30000</AnnualRevenue><BankName>International Security</BankName><BusinessType>BM</BusinessType><YearOpened>1987</YearOpened><Specialty>Road</Specialty><SquareFeet>7000</SquareFeet><Brands>AW</Brands><Internet>T1</Internet><NumberEmployees>7</NumberEmployees></StoreSurvey></td><td>2014-09-12</td><td>Largest Bike Store</td><td>277</td><td>12c44c5f-e2a2-4497-8e32-d2fea261c96b</td></tr><tr><td>1282</td><td><StoreSurvey xmlns=\"http://schemas.microsoft.com/sqlserver/2004/07/adventure-works/StoreSurvey\"><AnnualSales>300000</AnnualSales><AnnualRevenue>30000</AnnualRevenue><BankName>Guardian Bank</BankName><BusinessType>BM</BusinessType><YearOpened>1982</YearOpened><Specialty>Touring</Specialty><SquareFeet>10000</SquareFeet><Brands>2</Brands><Internet>T1</Internet><NumberEmployees>8</NumberEmployees></StoreSurvey></td><td>2014-09-12</td><td>Kickstands and Accessories Company</td><td>280</td><td>15cf6264-3356-4e35-ba49-de49ce8156db</td></tr><tr><td>1284</td><td><StoreSurvey xmlns=\"http://schemas.microsoft.com/sqlserver/2004/07/adventure-works/StoreSurvey\"><AnnualSales>300000</AnnualSales><AnnualRevenue>30000</AnnualRevenue><BankName>Primary International</BankName><BusinessType>BM</BusinessType><YearOpened>1990</YearOpened><Specialty>Touring</Specialty><SquareFeet>8000</SquareFeet><Brands>3</Brands><Internet>T1</Internet><NumberEmployees>9</NumberEmployees></StoreSurvey></td><td>2014-09-12</td><td>Instruments and Parts Company</td><td>289</td><td>3f04b809-5be1-4449-9e42-585eef390c2d</td></tr><tr><td>1286</td><td><StoreSurvey xmlns=\"http://schemas.microsoft.com/sqlserver/2004/07/adventure-works/StoreSurvey\"><AnnualSales>800000</AnnualSales><AnnualRevenue>80000</AnnualRevenue><BankName>Reserve Security</BankName><BusinessType>BM</BusinessType><YearOpened>1985</YearOpened><Specialty>Touring</Specialty><SquareFeet>17000</SquareFeet><Brands>3</Brands><Internet>T1</Internet><NumberEmployees>10</NumberEmployees></StoreSurvey></td><td>2014-09-12</td><td>Neighborhood Bicycle Storehouse</td><td>290</td><td>f4468b06-bc53-4c4d-9524-20ad28f1626e</td></tr><tr><td>1288</td><td><StoreSurvey xmlns=\"http://schemas.microsoft.com/sqlserver/2004/07/adventure-works/StoreSurvey\"><AnnualSales>800000</AnnualSales><AnnualRevenue>80000</AnnualRevenue><BankName>United Security</BankName><BusinessType>BM</BusinessType><YearOpened>1993</YearOpened><Specialty>Road</Specialty><SquareFeet>21000</SquareFeet><Brands>AW</Brands><Internet>T1</Internet><NumberEmployees>11</NumberEmployees></StoreSurvey></td><td>2014-09-12</td><td>Gear-Shift Bikes Limited</td><td>282</td><td>29188bcd-ed2a-4518-9a83-d36e20043fe7</td></tr><tr><td>1290</td><td><StoreSurvey xmlns=\"http://schemas.microsoft.com/sqlserver/2004/07/adventure-works/StoreSurvey\"><AnnualSales>800000</AnnualSales><AnnualRevenue>80000</AnnualRevenue><BankName>International Bank</BankName><BusinessType>BM</BusinessType><YearOpened>1988</YearOpened><Specialty>Mountain</Specialty><SquareFeet>21000</SquareFeet><Brands>2</Brands><Internet>T1</Internet><NumberEmployees>12</NumberEmployees></StoreSurvey></td><td>2014-09-12</td><td>Frugal Bike Shop</td><td>281</td><td>c479a10e-fb4d-4c85-b2a3-d12db41d2423</td></tr><tr><td>1292</td><td><StoreSurvey xmlns=\"http://schemas.microsoft.com/sqlserver/2004/07/adventure-works/StoreSurvey\"><AnnualSales>3000000</AnnualSales><AnnualRevenue>300000</AnnualRevenue><BankName>Guardian Bank</BankName><BusinessType>OS</BusinessType><YearOpened>1980</YearOpened><Specialty>Touring</Specialty><SquareFeet>75000</SquareFeet><Brands>4+</Brands><Internet>DSL</Internet><NumberEmployees>89</NumberEmployees></StoreSurvey></td><td>2014-09-12</td><td>Family Entertainment Center</td><td>280</td><td>785c93ca-4ad3-4427-a790-8437cbb3a3ee</td></tr><tr><td>1294</td><td><StoreSurvey xmlns=\"http://schemas.microsoft.com/sqlserver/2004/07/adventure-works/StoreSurvey\"><AnnualSales>3000000</AnnualSales><AnnualRevenue>300000</AnnualRevenue><BankName>International Security</BankName><BusinessType>OS</BusinessType><YearOpened>1972</YearOpened><Specialty>Mountain</Specialty><SquareFeet>78000</SquareFeet><Brands>4+</Brands><Internet>DSL</Internet><NumberEmployees>90</NumberEmployees></StoreSurvey></td><td>2014-09-12</td><td>Go-cart and Bike Specialists</td><td>277</td><td>d8a88a07-ac1c-4b24-9a78-75bb4ff04852</td></tr><tr><td>1296</td><td><StoreSurvey xmlns=\"http://schemas.microsoft.com/sqlserver/2004/07/adventure-works/StoreSurvey\"><AnnualSales>3000000</AnnualSales><AnnualRevenue>300000</AnnualRevenue><BankName>Primary Bank &amp; Reserve</BankName><BusinessType>OS</BusinessType><YearOpened>1977</YearOpened><Specialty>Mountain</Specialty><SquareFeet>78000</SquareFeet><Brands>3</Brands><Internet>T1</Internet><NumberEmployees>91</NumberEmployees></StoreSurvey></td><td>2014-09-12</td><td>Trailblazing Sports</td><td>281</td><td>276c70d2-c4d6-458e-9a49-0036b93bb544</td></tr><tr><td>1298</td><td><StoreSurvey xmlns=\"http://schemas.microsoft.com/sqlserver/2004/07/adventure-works/StoreSurvey\"><AnnualSales>3000000</AnnualSales><AnnualRevenue>300000</AnnualRevenue><BankName>International Bank</BankName><BusinessType>OS</BusinessType><YearOpened>1987</YearOpened><Specialty>Mountain</Specialty><SquareFeet>79000</SquareFeet><Brands>4+</Brands><Internet>DSL</Internet><NumberEmployees>92</NumberEmployees></StoreSurvey></td><td>2014-09-12</td><td>Racing Partners</td><td>282</td><td>e18d136c-7303-49ed-a534-e54680cace07</td></tr><tr><td>1300</td><td><StoreSurvey xmlns=\"http://schemas.microsoft.com/sqlserver/2004/07/adventure-works/StoreSurvey\"><AnnualSales>3000000</AnnualSales><AnnualRevenue>300000</AnnualRevenue><BankName>United Security</BankName><BusinessType>OS</BusinessType><YearOpened>1974</YearOpened><Specialty>Touring</Specialty><SquareFeet>76000</SquareFeet><Brands>2</Brands><Internet>ISDN</Internet><NumberEmployees>93</NumberEmployees></StoreSurvey></td><td>2014-09-12</td><td>Perfect Toys</td><td>290</td><td>06e14015-df3d-4a8d-9998-d6c752f05a02</td></tr><tr><td>1302</td><td><StoreSurvey xmlns=\"http://schemas.microsoft.com/sqlserver/2004/07/adventure-works/StoreSurvey\"><AnnualSales>3000000</AnnualSales><AnnualRevenue>300000</AnnualRevenue><BankName>Reserve Security</BankName><BusinessType>OS</BusinessType><YearOpened>1974</YearOpened><Specialty>Mountain</Specialty><SquareFeet>77000</SquareFeet><Brands>2</Brands><Internet>DSL</Internet><NumberEmployees>94</NumberEmployees></StoreSurvey></td><td>2014-09-12</td><td>Exhibition Showroom</td><td>289</td><td>a7788438-9873-4c7b-98e9-f8bbb6c8490e</td></tr><tr><td>1304</td><td><StoreSurvey xmlns=\"http://schemas.microsoft.com/sqlserver/2004/07/adventure-works/StoreSurvey\"><AnnualSales>3000000</AnnualSales><AnnualRevenue>300000</AnnualRevenue><BankName>Primary International</BankName><BusinessType>OS</BusinessType><YearOpened>1980</YearOpened><Specialty>Touring</Specialty><SquareFeet>75000</SquareFeet><Brands>3</Brands><Internet>T1</Internet><NumberEmployees>95</NumberEmployees></StoreSurvey></td><td>2014-09-12</td><td>Authorized Bike Sales and Rental</td><td>280</td><td>d1966056-3822-4f4d-a687-14eba601642c</td></tr><tr><td>1306</td><td><StoreSurvey xmlns=\"http://schemas.microsoft.com/sqlserver/2004/07/adventure-works/StoreSurvey\"><AnnualSales>3000000</AnnualSales><AnnualRevenue>300000</AnnualRevenue><BankName>Guardian Bank</BankName><BusinessType>OS</BusinessType><YearOpened>1986</YearOpened><Specialty>Touring</Specialty><SquareFeet>80000</SquareFeet><Brands>2</Brands><Internet>T1</Internet><NumberEmployees>96</NumberEmployees></StoreSurvey></td><td>2014-09-12</td><td>Two-Seater Bikes</td><td>277</td><td>2d7135a8-73a7-4efe-8b67-87fd720c4b86</td></tr><tr><td>1308</td><td><StoreSurvey xmlns=\"http://schemas.microsoft.com/sqlserver/2004/07/adventure-works/StoreSurvey\"><AnnualSales>3000000</AnnualSales><AnnualRevenue>300000</AnnualRevenue><BankName>Primary Bank &amp; Reserve</BankName><BusinessType>OS</BusinessType><YearOpened>1992</YearOpened><Specialty>Road</Specialty><SquareFeet>79000</SquareFeet><Brands>3</Brands><Internet>T2</Internet><NumberEmployees>97</NumberEmployees></StoreSurvey></td><td>2014-09-12</td><td>More Bikes!</td><td>276</td><td>f27b7f9d-045a-49b7-88d6-b11a2beda905</td></tr><tr><td>1310</td><td><StoreSurvey xmlns=\"http://schemas.microsoft.com/sqlserver/2004/07/adventure-works/StoreSurvey\"><AnnualSales>3000000</AnnualSales><AnnualRevenue>300000</AnnualRevenue><BankName>International Bank</BankName><BusinessType>OS</BusinessType><YearOpened>1998</YearOpened><Specialty>Mountain</Specialty><SquareFeet>80000</SquareFeet><Brands>4+</Brands><Internet>ISDN</Internet><NumberEmployees>98</NumberEmployees></StoreSurvey></td><td>2014-09-12</td><td>Unified Sports Company</td><td>279</td><td>5ce11163-c07a-4383-88ad-e0ef5bc0f040</td></tr><tr><td>1312</td><td><StoreSurvey xmlns=\"http://schemas.microsoft.com/sqlserver/2004/07/adventure-works/StoreSurvey\"><AnnualSales>3000000</AnnualSales><AnnualRevenue>300000</AnnualRevenue><BankName>United Security</BankName><BusinessType>OS</BusinessType><YearOpened>1999</YearOpened><Specialty>Road</Specialty><SquareFeet>80000</SquareFeet><Brands>3</Brands><Internet>DSL</Internet><NumberEmployees>99</NumberEmployees></StoreSurvey></td><td>2014-09-12</td><td>National Manufacturing</td><td>278</td><td>bbbe2820-9426-4cb9-a4ca-76fe78175e99</td></tr><tr><td>1314</td><td><StoreSurvey xmlns=\"http://schemas.microsoft.com/sqlserver/2004/07/adventure-works/StoreSurvey\"><AnnualSales>3000000</AnnualSales><AnnualRevenue>300000</AnnualRevenue><BankName>Reserve Security</BankName><BusinessType>OS</BusinessType><YearOpened>1999</YearOpened><Specialty>Mountain</Specialty><SquareFeet>78000</SquareFeet><Brands>4+</Brands><Internet>DSL</Internet><NumberEmployees>100</NumberEmployees></StoreSurvey></td><td>2014-09-12</td><td>Volume Bike Sellers</td><td>286</td><td>e7efaebc-d62c-4744-9613-57f093f71db6</td></tr><tr><td>1316</td><td><StoreSurvey xmlns=\"http://schemas.microsoft.com/sqlserver/2004/07/adventure-works/StoreSurvey\"><AnnualSales>3000000</AnnualSales><AnnualRevenue>300000</AnnualRevenue><BankName>Primary International</BankName><BusinessType>OS</BusinessType><YearOpened>1979</YearOpened><Specialty>Road</Specialty><SquareFeet>73000</SquareFeet><Brands>2</Brands><Internet>T1</Internet><NumberEmployees>66</NumberEmployees></StoreSurvey></td><td>2014-09-12</td><td>Wheelsets Storehouse</td><td>275</td><td>286465b6-93ec-4ee3-b33a-b5ba2c77bde1</td></tr><tr><td>1318</td><td><StoreSurvey xmlns=\"http://schemas.microsoft.com/sqlserver/2004/07/adventure-works/StoreSurvey\"><AnnualSales>1500000</AnnualSales><AnnualRevenue>150000</AnnualRevenue><BankName>Reserve Security</BankName><BusinessType>OS</BusinessType><YearOpened>1974</YearOpened><Specialty>Touring</Specialty><SquareFeet>38000</SquareFeet><Brands>2</Brands><Internet>DSL</Internet><NumberEmployees>40</NumberEmployees></StoreSurvey></td><td>2014-09-12</td><td>Town Industries</td><td>277</td><td>5642c175-e11f-490a-9590-8d5211692d60</td></tr><tr><td>1320</td><td><StoreSurvey xmlns=\"http://schemas.microsoft.com/sqlserver/2004/07/adventure-works/StoreSurvey\"><AnnualSales>1500000</AnnualSales><AnnualRevenue>150000</AnnualRevenue><BankName>Primary International</BankName><BusinessType>OS</BusinessType><YearOpened>1980</YearOpened><Specialty>Mountain</Specialty><SquareFeet>41000</SquareFeet><Brands>4+</Brands><Internet>DSL</Internet><NumberEmployees>43</NumberEmployees></StoreSurvey></td><td>2014-09-12</td><td>Security Racks and Locks Wholesalers</td><td>281</td><td>69a30a7b-7b6a-43e1-a2f2-438909377803</td></tr><tr><td>1322</td><td><StoreSurvey xmlns=\"http://schemas.microsoft.com/sqlserver/2004/07/adventure-works/StoreSurvey\"><AnnualSales>1500000</AnnualSales><AnnualRevenue>150000</AnnualRevenue><BankName>Guardian Bank</BankName><BusinessType>OS</BusinessType><YearOpened>1986</YearOpened><Specialty>Mountain</Specialty><SquareFeet>40000</SquareFeet><Brands>2</Brands><Internet>T2</Internet><NumberEmployees>46</NumberEmployees></StoreSurvey></td><td>2014-09-12</td><td>Rapid Bikes</td><td>282</td><td>476cdcad-c2c1-4036-b4d0-1469a7b29749</td></tr><tr><td>1324</td><td><StoreSurvey xmlns=\"http://schemas.microsoft.com/sqlserver/2004/07/adventure-works/StoreSurvey\"><AnnualSales>1500000</AnnualSales><AnnualRevenue>150000</AnnualRevenue><BankName>International Security</BankName><BusinessType>OS</BusinessType><YearOpened>1992</YearOpened><Specialty>Mountain</Specialty><SquareFeet>41000</SquareFeet><Brands>4+</Brands><Internet>T1</Internet><NumberEmployees>49</NumberEmployees></StoreSurvey></td><td>2014-09-12</td><td>Metro Sports Equipment</td><td>290</td><td>e522c053-ff26-41cf-8c15-d36b57eb863d</td></tr><tr><td>1326</td><td><StoreSurvey xmlns=\"http://schemas.microsoft.com/sqlserver/2004/07/adventure-works/StoreSurvey\"><AnnualSales>3000000</AnnualSales><AnnualRevenue>300000</AnnualRevenue><BankName>Primary Bank &amp; Reserve</BankName><BusinessType>OS</BusinessType><YearOpened>1998</YearOpened><Specialty>Road</Specialty><SquareFeet>71000</SquareFeet><Brands>4+</Brands><Internet>DSL</Internet><NumberEmployees>52</NumberEmployees></StoreSurvey></td><td>2014-09-12</td><td>Nearby Sporting Goods</td><td>289</td><td>5b2933ee-ec29-4e35-9b6a-bef23a42d046</td></tr><tr><td>1328</td><td><StoreSurvey xmlns=\"http://schemas.microsoft.com/sqlserver/2004/07/adventure-works/StoreSurvey\"><AnnualSales>3000000</AnnualSales><AnnualRevenue>300000</AnnualRevenue><BankName>International Bank</BankName><BusinessType>OS</BusinessType><YearOpened>1999</YearOpened><Specialty>Mountain</Specialty><SquareFeet>70000</SquareFeet><Brands>2</Brands><Internet>DSL</Internet><NumberEmployees>55</NumberEmployees></StoreSurvey></td><td>2014-09-12</td><td>Front Sporting Goods</td><td>280</td><td>5aed8117-0923-489c-864b-db7a601daf33</td></tr><tr><td>1330</td><td><StoreSurvey xmlns=\"http://schemas.microsoft.com/sqlserver/2004/07/adventure-works/StoreSurvey\"><AnnualSales>3000000</AnnualSales><AnnualRevenue>300000</AnnualRevenue><BankName>United Security</BankName><BusinessType>OS</BusinessType><YearOpened>1999</YearOpened><Specialty>Road</Specialty><SquareFeet>69000</SquareFeet><Brands>2</Brands><Internet>DSL</Internet><NumberEmployees>58</NumberEmployees></StoreSurvey></td><td>2014-09-12</td><td>Elite Bikes</td><td>277</td><td>4d2585ec-171b-4aae-a54b-09dedd3a5583</td></tr><tr><td>1332</td><td><StoreSurvey xmlns=\"http://schemas.microsoft.com/sqlserver/2004/07/adventure-works/StoreSurvey\"><AnnualSales>3000000</AnnualSales><AnnualRevenue>300000</AnnualRevenue><BankName>United Security</BankName><BusinessType>OS</BusinessType><YearOpened>1999</YearOpened><Specialty>Mountain</Specialty><SquareFeet>69000</SquareFeet><Brands>3</Brands><Internet>ISDN</Internet><NumberEmployees>55</NumberEmployees></StoreSurvey></td><td>2014-09-12</td><td>Catalog Store</td><td>275</td><td>7ebd2cb1-52cf-4658-ba05-41435ee1f2ba</td></tr><tr><td>1334</td><td><StoreSurvey xmlns=\"http://schemas.microsoft.com/sqlserver/2004/07/adventure-works/StoreSurvey\"><AnnualSales>3000000</AnnualSales><AnnualRevenue>300000</AnnualRevenue><BankName>Reserve Security</BankName><BusinessType>OS</BusinessType><YearOpened>1999</YearOpened><Specialty>Mountain</Specialty><SquareFeet>71000</SquareFeet><Brands>4+</Brands><Internet>T1</Internet><NumberEmployees>58</NumberEmployees></StoreSurvey></td><td>2014-09-12</td><td>Chic Department Stores</td><td>277</td><td>519d6c36-96bc-409d-a2bc-81f75b79e504</td></tr><tr><td>1336</td><td><StoreSurvey xmlns=\"http://schemas.microsoft.com/sqlserver/2004/07/adventure-works/StoreSurvey\"><AnnualSales>3000000</AnnualSales><AnnualRevenue>300000</AnnualRevenue><BankName>Primary International</BankName><BusinessType>OS</BusinessType><YearOpened>1979</YearOpened><Specialty>Road</Specialty><SquareFeet>70000</SquareFeet><Brands>3</Brands><Internet>DSL</Internet><NumberEmployees>61</NumberEmployees></StoreSurvey></td><td>2014-09-12</td><td>Eastside Department Store</td><td>276</td><td>6a400bd8-88a6-46e3-ae7a-c146ffcdc7fc</td></tr><tr><td>1338</td><td><StoreSurvey xmlns=\"http://schemas.microsoft.com/sqlserver/2004/07/adventure-works/StoreSurvey\"><AnnualSales>3000000</AnnualSales><AnnualRevenue>300000</AnnualRevenue><BankName>Guardian Bank</BankName><BusinessType>OS</BusinessType><YearOpened>1996</YearOpened><Specialty>Mountain</Specialty><SquareFeet>72000</SquareFeet><Brands>4+</Brands><Internet>T2</Internet><NumberEmployees>64</NumberEmployees></StoreSurvey></td><td>2014-09-12</td><td>Sports Sales and Rental</td><td>279</td><td>8718b588-0073-4706-824c-0bae6ac48a41</td></tr><tr><td>1340</td><td><StoreSurvey xmlns=\"http://schemas.microsoft.com/sqlserver/2004/07/adventure-works/StoreSurvey\"><AnnualSales>3000000</AnnualSales><AnnualRevenue>300000</AnnualRevenue><BankName>International Security</BankName><BusinessType>OS</BusinessType><YearOpened>1991</YearOpened><Specialty>Road</Specialty><SquareFeet>75000</SquareFeet><Brands>3</Brands><Internet>DSL</Internet><NumberEmployees>67</NumberEmployees></StoreSurvey></td><td>2014-09-12</td><td>Cycle Merchants</td><td>278</td><td>43121a65-0aa0-4cc7-b2c2-068777556d79</td></tr><tr><td>1342</td><td><StoreSurvey xmlns=\"http://schemas.microsoft.com/sqlserver/2004/07/adventure-works/StoreSurvey\"><AnnualSales>3000000</AnnualSales><AnnualRevenue>300000</AnnualRevenue><BankName>Primary Bank &amp; Reserve</BankName><BusinessType>OS</BusinessType><YearOpened>1993</YearOpened><Specialty>Mountain</Specialty><SquareFeet>75000</SquareFeet><Brands>4+</Brands><Internet>DSL</Internet><NumberEmployees>70</NumberEmployees></StoreSurvey></td><td>2014-09-12</td><td>Global Sports Outlet</td><td>286</td><td>c20c86a2-5d1a-4a9d-99da-d989bcd0f2fd</td></tr><tr><td>1344</td><td><StoreSurvey xmlns=\"http://schemas.microsoft.com/sqlserver/2004/07/adventure-works/StoreSurvey\"><AnnualSales>3000000</AnnualSales><AnnualRevenue>300000</AnnualRevenue><BankName>International Bank</BankName><BusinessType>OS</BusinessType><YearOpened>1998</YearOpened><Specialty>Road</Specialty><SquareFeet>75000</SquareFeet><Brands>4+</Brands><Internet>ISDN</Internet><NumberEmployees>73</NumberEmployees></StoreSurvey></td><td>2014-09-12</td><td>Exotic Bikes</td><td>275</td><td>4f33eed4-011c-4916-8eb3-52b9032eab97</td></tr><tr><td>1346</td><td><StoreSurvey xmlns=\"http://schemas.microsoft.com/sqlserver/2004/07/adventure-works/StoreSurvey\"><AnnualSales>3000000</AnnualSales><AnnualRevenue>300000</AnnualRevenue><BankName>United Security</BankName><BusinessType>OS</BusinessType><YearOpened>1990</YearOpened><Specialty>Road</Specialty><SquareFeet>75000</SquareFeet><Brands>2</Brands><Internet>T1</Internet><NumberEmployees>76</NumberEmployees></StoreSurvey></td><td>2014-09-12</td><td>Fitness Hotel</td><td>277</td><td>5b9242cc-550d-4105-9baa-886f20dd34f9</td></tr><tr><td>1348</td><td><StoreSurvey xmlns=\"http://schemas.microsoft.com/sqlserver/2004/07/adventure-works/StoreSurvey\"><AnnualSales>3000000</AnnualSales><AnnualRevenue>300000</AnnualRevenue><BankName>Reserve Security</BankName><BusinessType>OS</BusinessType><YearOpened>1995</YearOpened><Specialty>Mountain</Specialty><SquareFeet>74000</SquareFeet><Brands>4+</Brands><Internet>ISDN</Internet><NumberEmployees>79</NumberEmployees></StoreSurvey></td><td>2014-09-12</td><td>Healthy Activity Store</td><td>276</td><td>5988540b-f987-421f-a342-4eb1b809afa1</td></tr><tr><td>1350</td><td><StoreSurvey xmlns=\"http://schemas.microsoft.com/sqlserver/2004/07/adventure-works/StoreSurvey\"><AnnualSales>3000000</AnnualSales><AnnualRevenue>300000</AnnualRevenue><BankName>Primary International</BankName><BusinessType>OS</BusinessType><YearOpened>1987</YearOpened><Specialty>Road</Specialty><SquareFeet>76000</SquareFeet><Brands>2</Brands><Internet>T1</Internet><NumberEmployees>80</NumberEmployees></StoreSurvey></td><td>2014-09-12</td><td>Every Bike Shop</td><td>279</td><td>1e7c9c84-dab9-4164-8154-4f7b8893a542</td></tr><tr><td>1352</td><td><StoreSurvey xmlns=\"http://schemas.microsoft.com/sqlserver/2004/07/adventure-works/StoreSurvey\"><AnnualSales>3000000</AnnualSales><AnnualRevenue>300000</AnnualRevenue><BankName>Guardian Bank</BankName><BusinessType>OS</BusinessType><YearOpened>1992</YearOpened><Specialty>Touring</Specialty><SquareFeet>77000</SquareFeet><Brands>2</Brands><Internet>T1</Internet><NumberEmployees>81</NumberEmployees></StoreSurvey></td><td>2014-09-12</td><td>Grand Industries</td><td>278</td><td>72cfcc42-64dc-4283-98c7-a64a2d112451</td></tr><tr><td>1354</td><td><StoreSurvey xmlns=\"http://schemas.microsoft.com/sqlserver/2004/07/adventure-works/StoreSurvey\"><AnnualSales>3000000</AnnualSales><AnnualRevenue>300000</AnnualRevenue><BankName>International Security</BankName><BusinessType>OS</BusinessType><YearOpened>1984</YearOpened><Specialty>Touring</Specialty><SquareFeet>76000</SquareFeet><Brands>3</Brands><Internet>DSL</Internet><NumberEmployees>82</NumberEmployees></StoreSurvey></td><td>2014-09-12</td><td>Ideal Components</td><td>286</td><td>254d461c-3410-4a91-b496-f4b43c1f406e</td></tr><tr><td>1356</td><td><StoreSurvey xmlns=\"http://schemas.microsoft.com/sqlserver/2004/07/adventure-works/StoreSurvey\"><AnnualSales>3000000</AnnualSales><AnnualRevenue>300000</AnnualRevenue><BankName>Primary Bank &amp; Reserve</BankName><BusinessType>OS</BusinessType><YearOpened>1989</YearOpened><Specialty>Road</Specialty><SquareFeet>77000</SquareFeet><Brands>4+</Brands><Internet>T1</Internet><NumberEmployees>83</NumberEmployees></StoreSurvey></td><td>2014-09-12</td><td>Larger Cycle Shop</td><td>275</td><td>ac717a14-7677-402e-8b8a-3b9e17ca3664</td></tr><tr><td>1358</td><td><StoreSurvey xmlns=\"http://schemas.microsoft.com/sqlserver/2004/07/adventure-works/StoreSurvey\"><AnnualSales>3000000</AnnualSales><AnnualRevenue>300000</AnnualRevenue><BankName>International Bank</BankName><BusinessType>OS</BusinessType><YearOpened>1981</YearOpened><Specialty>Road</Specialty><SquareFeet>75000</SquareFeet><Brands>4+</Brands><Internet>T1</Internet><NumberEmployees>84</NumberEmployees></StoreSurvey></td><td>2014-09-12</td><td>Leading Sales & Repair</td><td>277</td><td>2a953c4e-a056-456a-86fc-21e0dcd7e432</td></tr><tr><td>1360</td><td><StoreSurvey xmlns=\"http://schemas.microsoft.com/sqlserver/2004/07/adventure-works/StoreSurvey\"><AnnualSales>3000000</AnnualSales><AnnualRevenue>300000</AnnualRevenue><BankName>United Security</BankName><BusinessType>OS</BusinessType><YearOpened>1986</YearOpened><Specialty>Road</Specialty><SquareFeet>75000</SquareFeet><Brands>3</Brands><Internet>T2</Internet><NumberEmployees>85</NumberEmployees></StoreSurvey></td><td>2014-09-12</td><td>Main Bicycle Services</td><td>276</td><td>4ebcd19d-6dab-4f99-83c0-c439a13969d3</td></tr><tr><td>1362</td><td><StoreSurvey xmlns=\"http://schemas.microsoft.com/sqlserver/2004/07/adventure-works/StoreSurvey\"><AnnualSales>3000000</AnnualSales><AnnualRevenue>300000</AnnualRevenue><BankName>Reserve Security</BankName><BusinessType>OS</BusinessType><YearOpened>1978</YearOpened><Specialty>Mountain</Specialty><SquareFeet>76000</SquareFeet><Brands>3</Brands><Internet>DSL</Internet><NumberEmployees>86</NumberEmployees></StoreSurvey></td><td>2014-09-12</td><td>Metro Bike Mart</td><td>279</td><td>662ce427-c733-44b5-a35c-891589d210b8</td></tr><tr><td>1364</td><td><StoreSurvey xmlns=\"http://schemas.microsoft.com/sqlserver/2004/07/adventure-works/StoreSurvey\"><AnnualSales>1500000</AnnualSales><AnnualRevenue>150000</AnnualRevenue><BankName>International Bank</BankName><BusinessType>BS</BusinessType><YearOpened>1972</YearOpened><Specialty>Road</Specialty><SquareFeet>38000</SquareFeet><Brands>4+</Brands><Internet>DSL</Internet><NumberEmployees>34</NumberEmployees></StoreSurvey></td><td>2014-09-12</td><td>Tandem Sales and Service</td><td>278</td><td>4372d419-1d5a-4a3d-8803-cb94a930e5d9</td></tr><tr><td>1366</td><td><StoreSurvey xmlns=\"http://schemas.microsoft.com/sqlserver/2004/07/adventure-works/StoreSurvey\"><AnnualSales>1500000</AnnualSales><AnnualRevenue>150000</AnnualRevenue><BankName>United Security</BankName><BusinessType>BS</BusinessType><YearOpened>1978</YearOpened><Specialty>Touring</Specialty><SquareFeet>37000</SquareFeet><Brands>2</Brands><Internet>DSL</Internet><NumberEmployees>33</NumberEmployees></StoreSurvey></td><td>2014-09-12</td><td>Sensible Sports</td><td>286</td><td>c32f634b-50be-48bb-a1e4-f39800b04407</td></tr><tr><td>1368</td><td><StoreSurvey xmlns=\"http://schemas.microsoft.com/sqlserver/2004/07/adventure-works/StoreSurvey\"><AnnualSales>1500000</AnnualSales><AnnualRevenue>150000</AnnualRevenue><BankName>Reserve Security</BankName><BusinessType>BS</BusinessType><YearOpened>1984</YearOpened><Specialty>Road</Specialty><SquareFeet>35000</SquareFeet><Brands>4+</Brands><Internet>DSL</Internet><NumberEmployees>32</NumberEmployees></StoreSurvey></td><td>2014-09-12</td><td>Reliable Retail Center</td><td>278</td><td>65eb45f3-c60f-4bb6-85ce-b8482e68868b</td></tr><tr><td>1370</td><td><StoreSurvey xmlns=\"http://schemas.microsoft.com/sqlserver/2004/07/adventure-works/StoreSurvey\"><AnnualSales>1500000</AnnualSales><AnnualRevenue>150000</AnnualRevenue><BankName>Primary International</BankName><BusinessType>BS</BusinessType><YearOpened>1990</YearOpened><Specialty>Touring</Specialty><SquareFeet>37000</SquareFeet><Brands>4+</Brands><Internet>T1</Internet><NumberEmployees>31</NumberEmployees></StoreSurvey></td><td>2014-09-12</td><td>Liquidation Sales</td><td>286</td><td>0f23ce3a-c1d0-4c61-9d5f-a071dcbc9912</td></tr><tr><td>1372</td><td><StoreSurvey xmlns=\"http://schemas.microsoft.com/sqlserver/2004/07/adventure-works/StoreSurvey\"><AnnualSales>1500000</AnnualSales><AnnualRevenue>150000</AnnualRevenue><BankName>Guardian Bank</BankName><BusinessType>BS</BusinessType><YearOpened>1996</YearOpened><Specialty>Road</Specialty><SquareFeet>39000</SquareFeet><Brands>2</Brands><Internet>ISDN</Internet><NumberEmployees>30</NumberEmployees></StoreSurvey></td><td>2014-09-12</td><td>Friendly Bike Shop</td><td>275</td><td>8483baae-a01a-4497-bebf-1f193e1d5f34</td></tr><tr><td>1374</td><td><StoreSurvey xmlns=\"http://schemas.microsoft.com/sqlserver/2004/07/adventure-works/StoreSurvey\"><AnnualSales>1000000</AnnualSales><AnnualRevenue>100000</AnnualRevenue><BankName>International Security</BankName><BusinessType>BS</BusinessType><YearOpened>2001</YearOpened><Specialty>Mountain</Specialty><SquareFeet>26000</SquareFeet><Brands>4+</Brands><Internet>T1</Internet><NumberEmployees>29</NumberEmployees></StoreSurvey></td><td>2014-09-12</td><td>Yellow Bicycle Company</td><td>277</td><td>6ae7f252-55b7-4d73-91b1-4580678cba60</td></tr><tr><td>1376</td><td><StoreSurvey xmlns=\"http://schemas.microsoft.com/sqlserver/2004/07/adventure-works/StoreSurvey\"><AnnualSales>1000000</AnnualSales><AnnualRevenue>100000</AnnualRevenue><BankName>Primary Bank &amp; Reserve</BankName><BusinessType>BS</BusinessType><YearOpened>1971</YearOpened><Specialty>Road</Specialty><SquareFeet>26000</SquareFeet><Brands>4+</Brands><Internet>DSL</Internet><NumberEmployees>28</NumberEmployees></StoreSurvey></td><td>2014-09-12</td><td>Sports Products Store</td><td>276</td><td>dccccf66-c09a-45cd-8f03-e2fd39257c4f</td></tr><tr><td>1378</td><td><StoreSurvey xmlns=\"http://schemas.microsoft.com/sqlserver/2004/07/adventure-works/StoreSurvey\"><AnnualSales>1000000</AnnualSales><AnnualRevenue>100000</AnnualRevenue><BankName>International Bank</BankName><BusinessType>BS</BusinessType><YearOpened>1998</YearOpened><Specialty>Mountain</Specialty><SquareFeet>27000</SquareFeet><Brands>3</Brands><Internet>DSL</Internet><NumberEmployees>27</NumberEmployees></StoreSurvey></td><td>2014-09-12</td><td>Selected Distributors</td><td>279</td><td>c408e9d4-c9f0-422f-89a1-f5c77d5d9680</td></tr><tr><td>1380</td><td><StoreSurvey xmlns=\"http://schemas.microsoft.com/sqlserver/2004/07/adventure-works/StoreSurvey\"><AnnualSales>800000</AnnualSales><AnnualRevenue>80000</AnnualRevenue><BankName>Primary Bank &amp; Reserve</BankName><BusinessType>BS</BusinessType><YearOpened>1972</YearOpened><Specialty>Mountain</Specialty><SquareFeet>18000</SquareFeet><Brands>3</Brands><Internet>ISDN</Internet><NumberEmployees>10</NumberEmployees></StoreSurvey></td><td>2014-09-12</td><td>Impervious Paint Company</td><td>290</td><td>26b1e4dc-8fb0-495c-8188-0e06f117f2f9</td></tr><tr><td>1382</td><td><StoreSurvey xmlns=\"http://schemas.microsoft.com/sqlserver/2004/07/adventure-works/StoreSurvey\"><AnnualSales>800000</AnnualSales><AnnualRevenue>80000</AnnualRevenue><BankName>International Bank</BankName><BusinessType>BS</BusinessType><YearOpened>1978</YearOpened><Specialty>Road</Specialty><SquareFeet>20000</SquareFeet><Brands>2</Brands><Internet>DSL</Internet><NumberEmployees>13</NumberEmployees></StoreSurvey></td><td>2014-09-12</td><td>Shipping Specialists</td><td>289</td><td>14aa6ec7-1684-4a9d-bfb9-3405270bc52b</td></tr><tr><td>1384</td><td><StoreSurvey xmlns=\"http://schemas.microsoft.com/sqlserver/2004/07/adventure-works/StoreSurvey\"><AnnualSales>800000</AnnualSales><AnnualRevenue>80000</AnnualRevenue><BankName>United Security</BankName><BusinessType>BS</BusinessType><YearOpened>1984</YearOpened><Specialty>Touring</Specialty><SquareFeet>18000</SquareFeet><Brands>4+</Brands><Internet>T1</Internet><NumberEmployees>16</NumberEmployees></StoreSurvey></td><td>2014-09-12</td><td>Finer Sporting Goods</td><td>290</td><td>dc4c935b-4788-48de-8e2b-fe702b9b3940</td></tr><tr><td>1386</td><td><StoreSurvey xmlns=\"http://schemas.microsoft.com/sqlserver/2004/07/adventure-works/StoreSurvey\"><AnnualSales>800000</AnnualSales><AnnualRevenue>80000</AnnualRevenue><BankName>Reserve Security</BankName><BusinessType>BS</BusinessType><YearOpened>1990</YearOpened><Specialty>Mountain</Specialty><SquareFeet>20000</SquareFeet><Brands>AW</Brands><Internet>DSL</Internet><NumberEmployees>19</NumberEmployees></StoreSurvey></td><td>2014-09-12</td><td>Authentic Sales and Service</td><td>289</td><td>9cb195b3-45e3-455c-8e5e-8b621010bca8</td></tr><tr><td>1388</td><td><StoreSurvey xmlns=\"http://schemas.microsoft.com/sqlserver/2004/07/adventure-works/StoreSurvey\"><AnnualSales>1000000</AnnualSales><AnnualRevenue>100000</AnnualRevenue><BankName>Primary International</BankName><BusinessType>BS</BusinessType><YearOpened>1996</YearOpened><Specialty>Road</Specialty><SquareFeet>24000</SquareFeet><Brands>4+</Brands><Internet>T1</Internet><NumberEmployees>22</NumberEmployees></StoreSurvey></td><td>2014-09-12</td><td>Official Parts Shop</td><td>280</td><td>0676819d-a218-496d-a83b-4b750bee0d61</td></tr><tr><td>1390</td><td><StoreSurvey xmlns=\"http://schemas.microsoft.com/sqlserver/2004/07/adventure-works/StoreSurvey\"><AnnualSales>1000000</AnnualSales><AnnualRevenue>100000</AnnualRevenue><BankName>Guardian Bank</BankName><BusinessType>BS</BusinessType><YearOpened>2001</YearOpened><Specialty>Road</Specialty><SquareFeet>24000</SquareFeet><Brands>4+</Brands><Internet>T2</Internet><NumberEmployees>25</NumberEmployees></StoreSurvey></td><td>2014-09-12</td><td>Contoso, Ltd.</td><td>277</td><td>8874d7b8-9bfb-412a-b19c-3c566c15c03a</td></tr><tr><td>1392</td><td><StoreSurvey xmlns=\"http://schemas.microsoft.com/sqlserver/2004/07/adventure-works/StoreSurvey\"><AnnualSales>1000000</AnnualSales><AnnualRevenue>100000</AnnualRevenue><BankName>International Security</BankName><BusinessType>BS</BusinessType><YearOpened>1971</YearOpened><Specialty>Road</Specialty><SquareFeet>28000</SquareFeet><Brands>4+</Brands><Internet>DSL</Internet><NumberEmployees>28</NumberEmployees></StoreSurvey></td><td>2014-09-12</td><td>Discount Tours</td><td>281</td><td>d208f87f-7cff-40f7-b3a8-efbabbae289c</td></tr><tr><td>1394</td><td><StoreSurvey xmlns=\"http://schemas.microsoft.com/sqlserver/2004/07/adventure-works/StoreSurvey\"><AnnualSales>1500000</AnnualSales><AnnualRevenue>150000</AnnualRevenue><BankName>Primary Bank &amp; Reserve</BankName><BusinessType>BS</BusinessType><YearOpened>1998</YearOpened><Specialty>Mountain</Specialty><SquareFeet>36000</SquareFeet><Brands>4+</Brands><Internet>T1</Internet><NumberEmployees>31</NumberEmployees></StoreSurvey></td><td>2014-09-12</td><td>Tire Exchange</td><td>282</td><td>529d4609-7129-4c41-a88e-7bbe2f25b663</td></tr><tr><td>1396</td><td><StoreSurvey xmlns=\"http://schemas.microsoft.com/sqlserver/2004/07/adventure-works/StoreSurvey\"><AnnualSales>1500000</AnnualSales><AnnualRevenue>150000</AnnualRevenue><BankName>International Bank</BankName><BusinessType>BS</BusinessType><YearOpened>1983</YearOpened><Specialty>Mountain</Specialty><SquareFeet>36000</SquareFeet><Brands>3</Brands><Internet>T1</Internet><NumberEmployees>34</NumberEmployees></StoreSurvey></td><td>2014-09-12</td><td>Racing Tours</td><td>290</td><td>6b6d4a42-f6dc-4c37-8c31-0aea817b2167</td></tr><tr><td>1398</td><td><StoreSurvey xmlns=\"http://schemas.microsoft.com/sqlserver/2004/07/adventure-works/StoreSurvey\"><AnnualSales>1500000</AnnualSales><AnnualRevenue>150000</AnnualRevenue><BankName>United Security</BankName><BusinessType>BS</BusinessType><YearOpened>1995</YearOpened><Specialty>Mountain</Specialty><SquareFeet>37000</SquareFeet><Brands>3</Brands><Internet>T1</Internet><NumberEmployees>37</NumberEmployees></StoreSurvey></td><td>2014-09-12</td><td>Oils and Fluids Warehouse</td><td>289</td><td>ebfc3863-01f0-4614-8a38-25f35f6801e2</td></tr><tr><td>1400</td><td><StoreSurvey xmlns=\"http://schemas.microsoft.com/sqlserver/2004/07/adventure-works/StoreSurvey\"><AnnualSales>1500000</AnnualSales><AnnualRevenue>150000</AnnualRevenue><BankName>Reserve Security</BankName><BusinessType>BS</BusinessType><YearOpened>1995</YearOpened><Specialty>Mountain</Specialty><SquareFeet>36000</SquareFeet><Brands>3</Brands><Internet>DSL</Internet><NumberEmployees>40</NumberEmployees></StoreSurvey></td><td>2014-09-12</td><td>Finished Parts Shop</td><td>290</td><td>08aefe30-a612-49ad-8b00-f4f8304c17cb</td></tr><tr><td>1402</td><td><StoreSurvey xmlns=\"http://schemas.microsoft.com/sqlserver/2004/07/adventure-works/StoreSurvey\"><AnnualSales>1500000</AnnualSales><AnnualRevenue>150000</AnnualRevenue><BankName>Primary International</BankName><BusinessType>BS</BusinessType><YearOpened>1992</YearOpened><Specialty>Road</Specialty><SquareFeet>37000</SquareFeet><Brands>4+</Brands><Internet>T2</Internet><NumberEmployees>43</NumberEmployees></StoreSurvey></td><td>2014-09-12</td><td>Consumer Equipment</td><td>289</td><td>05721187-b066-4424-b9a3-e089f95f3fd4</td></tr><tr><td>1404</td><td><StoreSurvey xmlns=\"http://schemas.microsoft.com/sqlserver/2004/07/adventure-works/StoreSurvey\"><AnnualSales>3000000</AnnualSales><AnnualRevenue>300000</AnnualRevenue><BankName>International Security</BankName><BusinessType>OS</BusinessType><YearOpened>1992</YearOpened><Specialty>Touring</Specialty><SquareFeet>77000</SquareFeet><Brands>2</Brands><Internet>T2</Internet><NumberEmployees>97</NumberEmployees></StoreSurvey></td><td>2014-09-12</td><td>Rally Master Company Inc</td><td>281</td><td>7501acfe-c321-41d1-9966-7928ee700b8e</td></tr><tr><td>1406</td><td><StoreSurvey xmlns=\"http://schemas.microsoft.com/sqlserver/2004/07/adventure-works/StoreSurvey\"><AnnualSales>3000000</AnnualSales><AnnualRevenue>300000</AnnualRevenue><BankName>Primary Bank &amp; Reserve</BankName><BusinessType>OS</BusinessType><YearOpened>1998</YearOpened><Specialty>Road</Specialty><SquareFeet>77000</SquareFeet><Brands>3</Brands><Internet>T1</Internet><NumberEmployees>98</NumberEmployees></StoreSurvey></td><td>2014-09-12</td><td>Professional Cyclists</td><td>282</td><td>e0097dfc-ab99-445b-b0a1-f8f53bd19743</td></tr><tr><td>1408</td><td><StoreSurvey xmlns=\"http://schemas.microsoft.com/sqlserver/2004/07/adventure-works/StoreSurvey\"><AnnualSales>3000000</AnnualSales><AnnualRevenue>300000</AnnualRevenue><BankName>International Bank</BankName><BusinessType>OS</BusinessType><YearOpened>1999</YearOpened><Specialty>Road</Specialty><SquareFeet>78000</SquareFeet><Brands>3</Brands><Internet>ISDN</Internet><NumberEmployees>99</NumberEmployees></StoreSurvey></td><td>2014-09-12</td><td>Sports Products Store</td><td>290</td><td>f4988993-96c3-4cfb-9ef5-325adeff13d9</td></tr><tr><td>1410</td><td><StoreSurvey xmlns=\"http://schemas.microsoft.com/sqlserver/2004/07/adventure-works/StoreSurvey\"><AnnualSales>3000000</AnnualSales><AnnualRevenue>300000</AnnualRevenue><BankName>United Security</BankName><BusinessType>OS</BusinessType><YearOpened>1999</YearOpened><Specialty>Road</Specialty><SquareFeet>77000</SquareFeet><Brands>4+</Brands><Internet>DSL</Internet><NumberEmployees>100</NumberEmployees></StoreSurvey></td><td>2014-09-12</td><td>Exclusive Bicycle Mart</td><td>289</td><td>1638ea15-3bdc-4803-a8ee-4604446ab757</td></tr><tr><td>1412</td><td><StoreSurvey xmlns=\"http://schemas.microsoft.com/sqlserver/2004/07/adventure-works/StoreSurvey\"><AnnualSales>3000000</AnnualSales><AnnualRevenue>300000</AnnualRevenue><BankName>Reserve Security</BankName><BusinessType>OS</BusinessType><YearOpened>1979</YearOpened><Specialty>Mountain</Specialty><SquareFeet>75000</SquareFeet><Brands>4+</Brands><Internet>DSL</Internet><NumberEmployees>66</NumberEmployees></StoreSurvey></td><td>2014-09-12</td><td>City Manufacturing</td><td>280</td><td>c8a665ba-4ee0-4a76-a2fc-b78323823f46</td></tr><tr><td>1414</td><td><StoreSurvey xmlns=\"http://schemas.microsoft.com/sqlserver/2004/07/adventure-works/StoreSurvey\"><AnnualSales>1500000</AnnualSales><AnnualRevenue>150000</AnnualRevenue><BankName>United Security</BankName><BusinessType>OS</BusinessType><YearOpened>1974</YearOpened><Specialty>Road</Specialty><SquareFeet>40000</SquareFeet><Brands>3</Brands><Internet>T1</Internet><NumberEmployees>40</NumberEmployees></StoreSurvey></td><td>2014-09-12</td><td>Bike Dealers Association</td><td>281</td><td>b882005e-0489-4033-ad67-3e0cbf4ffa37</td></tr><tr><td>1416</td><td><StoreSurvey xmlns=\"http://schemas.microsoft.com/sqlserver/2004/07/adventure-works/StoreSurvey\"><AnnualSales>1500000</AnnualSales><AnnualRevenue>150000</AnnualRevenue><BankName>Reserve Security</BankName><BusinessType>OS</BusinessType><YearOpened>1980</YearOpened><Specialty>Road</Specialty><SquareFeet>39000</SquareFeet><Brands>4+</Brands><Internet>T3</Internet><NumberEmployees>43</NumberEmployees></StoreSurvey></td><td>2014-09-12</td><td>Pedal Systems Company</td><td>279</td><td>0d2bed8a-7bce-4f09-8da0-ac99a88b334f</td></tr><tr><td>1418</td><td><StoreSurvey xmlns=\"http://schemas.microsoft.com/sqlserver/2004/07/adventure-works/StoreSurvey\"><AnnualSales>1500000</AnnualSales><AnnualRevenue>150000</AnnualRevenue><BankName>Primary International</BankName><BusinessType>OS</BusinessType><YearOpened>1986</YearOpened><Specialty>Road</Specialty><SquareFeet>40000</SquareFeet><Brands>4+</Brands><Internet>T1</Internet><NumberEmployees>46</NumberEmployees></StoreSurvey></td><td>2014-09-12</td><td>Health Spa, Limited</td><td>282</td><td>2340bc61-c2f5-4f38-84a6-44b3e1b90d5e</td></tr><tr><td>1420</td><td><StoreSurvey xmlns=\"http://schemas.microsoft.com/sqlserver/2004/07/adventure-works/StoreSurvey\"><AnnualSales>1500000</AnnualSales><AnnualRevenue>150000</AnnualRevenue><BankName>Guardian Bank</BankName><BusinessType>OS</BusinessType><YearOpened>1992</YearOpened><Specialty>Touring</Specialty><SquareFeet>40000</SquareFeet><Brands>4+</Brands><Internet>T1</Internet><NumberEmployees>49</NumberEmployees></StoreSurvey></td><td>2014-09-12</td><td>Global Bike Retailers</td><td>288</td><td>72466590-e6b6-4aab-a1f2-0dcb18685a12</td></tr><tr><td>1422</td><td><StoreSurvey xmlns=\"http://schemas.microsoft.com/sqlserver/2004/07/adventure-works/StoreSurvey\"><AnnualSales>3000000</AnnualSales><AnnualRevenue>300000</AnnualRevenue><BankName>International Security</BankName><BusinessType>OS</BusinessType><YearOpened>1998</YearOpened><Specialty>Mountain</Specialty><SquareFeet>68000</SquareFeet><Brands>3</Brands><Internet>DSL</Internet><NumberEmployees>52</NumberEmployees></StoreSurvey></td><td>2014-09-12</td><td>Fashionable Department Stores</td><td>275</td><td>5221dd86-f37e-4f4a-8374-bbcae7e69f4f</td></tr><tr><td>1424</td><td><StoreSurvey xmlns=\"http://schemas.microsoft.com/sqlserver/2004/07/adventure-works/StoreSurvey\"><AnnualSales>3000000</AnnualSales><AnnualRevenue>300000</AnnualRevenue><BankName>Primary Bank &amp; Reserve</BankName><BusinessType>OS</BusinessType><YearOpened>1999</YearOpened><Specialty>Mountain</Specialty><SquareFeet>70000</SquareFeet><Brands>3</Brands><Internet>T1</Internet><NumberEmployees>55</NumberEmployees></StoreSurvey></td><td>2014-09-12</td><td>Closeout Boutique</td><td>283</td><td>7b25c4ec-0a30-416b-8353-99a4725cb62a</td></tr><tr><td>1426</td><td><StoreSurvey xmlns=\"http://schemas.microsoft.com/sqlserver/2004/07/adventure-works/StoreSurvey\"><AnnualSales>3000000</AnnualSales><AnnualRevenue>300000</AnnualRevenue><BankName>International Bank</BankName><BusinessType>OS</BusinessType><YearOpened>1999</YearOpened><Specialty>Road</Specialty><SquareFeet>69000</SquareFeet><Brands>4+</Brands><Internet>T1</Internet><NumberEmployees>58</NumberEmployees></StoreSurvey></td><td>2014-09-12</td><td>Bicycle Merchandise Warehouse</td><td>281</td><td>820b50fb-3a24-4cc5-a4dd-aae6ad57d919</td></tr><tr><td>1428</td><td><StoreSurvey xmlns=\"http://schemas.microsoft.com/sqlserver/2004/07/adventure-works/StoreSurvey\"><AnnualSales>3000000</AnnualSales><AnnualRevenue>300000</AnnualRevenue><BankName>United Security</BankName><BusinessType>OS</BusinessType><YearOpened>1979</YearOpened><Specialty>Road</Specialty><SquareFeet>74000</SquareFeet><Brands>4+</Brands><Internet>T1</Internet><NumberEmployees>61</NumberEmployees></StoreSurvey></td><td>2014-09-12</td><td>Spoke Manufacturers</td><td>279</td><td>d0e5ad57-6e5e-40c6-a834-d2906a365231</td></tr><tr><td>1430</td><td><StoreSurvey xmlns=\"http://schemas.microsoft.com/sqlserver/2004/07/adventure-works/StoreSurvey\"><AnnualSales>3000000</AnnualSales><AnnualRevenue>300000</AnnualRevenue><BankName>Reserve Security</BankName><BusinessType>OS</BusinessType><YearOpened>1996</YearOpened><Specialty>Mountain</Specialty><SquareFeet>72000</SquareFeet><Brands>4+</Brands><Internet>ISDN</Internet><NumberEmployees>64</NumberEmployees></StoreSurvey></td><td>2014-09-12</td><td>Leather Seat Factory</td><td>282</td><td>1fcc2c07-e555-42b9-a4b7-cff0b9dcf884</td></tr><tr><td>1432</td><td><StoreSurvey xmlns=\"http://schemas.microsoft.com/sqlserver/2004/07/adventure-works/StoreSurvey\"><AnnualSales>3000000</AnnualSales><AnnualRevenue>300000</AnnualRevenue><BankName>Primary International</BankName><BusinessType>OS</BusinessType><YearOpened>1991</YearOpened><Specialty>Road</Specialty><SquareFeet>71000</SquareFeet><Brands>4+</Brands><Internet>ISDN</Internet><NumberEmployees>67</NumberEmployees></StoreSurvey></td><td>2014-09-12</td><td>Good Bicycle Store</td><td>288</td><td>8625c3d9-e443-494e-ad75-523a30e2967b</td></tr><tr><td>1434</td><td><StoreSurvey xmlns=\"http://schemas.microsoft.com/sqlserver/2004/07/adventure-works/StoreSurvey\"><AnnualSales>3000000</AnnualSales><AnnualRevenue>300000</AnnualRevenue><BankName>Guardian Bank</BankName><BusinessType>OS</BusinessType><YearOpened>1993</YearOpened><Specialty>Road</Specialty><SquareFeet>75000</SquareFeet><Brands>3</Brands><Internet>DSL</Internet><NumberEmployees>70</NumberEmployees></StoreSurvey></td><td>2014-09-12</td><td>Endurance Bikes</td><td>275</td><td>d393f32e-8fe6-4ff2-865c-b4175331f985</td></tr><tr><td>1436</td><td><StoreSurvey xmlns=\"http://schemas.microsoft.com/sqlserver/2004/07/adventure-works/StoreSurvey\"><AnnualSales>1000000</AnnualSales><AnnualRevenue>100000</AnnualRevenue><BankName>International Security</BankName><BusinessType>BS</BusinessType><YearOpened>2001</YearOpened><Specialty>Mountain</Specialty><SquareFeet>26000</SquareFeet><Brands>3</Brands><Internet>DSL</Internet><NumberEmployees>25</NumberEmployees></StoreSurvey></td><td>2014-09-12</td><td>Practical Bike Supply Company</td><td>277</td><td>7d0add31-0074-42d0-b00a-ddb8d31bbbd2</td></tr><tr><td>1438</td><td><StoreSurvey xmlns=\"http://schemas.microsoft.com/sqlserver/2004/07/adventure-works/StoreSurvey\"><AnnualSales>1000000</AnnualSales><AnnualRevenue>100000</AnnualRevenue><BankName>Guardian Bank</BankName><BusinessType>BS</BusinessType><YearOpened>1996</YearOpened><Specialty>Mountain</Specialty><SquareFeet>27000</SquareFeet><Brands>2</Brands><Internet>T1</Internet><NumberEmployees>22</NumberEmployees></StoreSurvey></td><td>2014-09-12</td><td>Some Discount Store</td><td>280</td><td>b5ca298f-1ecc-4f42-a077-a32c5c9a30bb</td></tr><tr><td>1440</td><td><StoreSurvey xmlns=\"http://schemas.microsoft.com/sqlserver/2004/07/adventure-works/StoreSurvey\"><AnnualSales>800000</AnnualSales><AnnualRevenue>80000</AnnualRevenue><BankName>Primary International</BankName><BusinessType>BS</BusinessType><YearOpened>1990</YearOpened><Specialty>Touring</Specialty><SquareFeet>21000</SquareFeet><Brands>AW</Brands><Internet>DSL</Internet><NumberEmployees>19</NumberEmployees></StoreSurvey></td><td>2014-09-12</td><td>Variety Cycling</td><td>289</td><td>47d6b3c9-a6d6-405a-9cce-1f78cbafb1fd</td></tr><tr><td>1442</td><td><StoreSurvey xmlns=\"http://schemas.microsoft.com/sqlserver/2004/07/adventure-works/StoreSurvey\"><AnnualSales>800000</AnnualSales><AnnualRevenue>80000</AnnualRevenue><BankName>Reserve Security</BankName><BusinessType>BS</BusinessType><YearOpened>1984</YearOpened><Specialty>Touring</Specialty><SquareFeet>22000</SquareFeet><Brands>2</Brands><Internet>DSL</Internet><NumberEmployees>16</NumberEmployees></StoreSurvey></td><td>2014-09-12</td><td>Accessories Network</td><td>290</td><td>4ffffbb5-1337-4f14-ba3c-6bb27cd33e50</td></tr><tr><td>1444</td><td><StoreSurvey xmlns=\"http://schemas.microsoft.com/sqlserver/2004/07/adventure-works/StoreSurvey\"><AnnualSales>800000</AnnualSales><AnnualRevenue>80000</AnnualRevenue><BankName>United Security</BankName><BusinessType>BS</BusinessType><YearOpened>1978</YearOpened><Specialty>Road</Specialty><SquareFeet>19000</SquareFeet><Brands>3</Brands><Internet>DSL</Internet><NumberEmployees>13</NumberEmployees></StoreSurvey></td><td>2014-09-12</td><td>Remote Bicycle Specialists</td><td>282</td><td>2b37636b-b111-414f-ad38-25c3d407b501</td></tr><tr><td>1446</td><td><StoreSurvey xmlns=\"http://schemas.microsoft.com/sqlserver/2004/07/adventure-works/StoreSurvey\"><AnnualSales>800000</AnnualSales><AnnualRevenue>80000</AnnualRevenue><BankName>International Bank</BankName><BusinessType>BS</BusinessType><YearOpened>1972</YearOpened><Specialty>Road</Specialty><SquareFeet>20000</SquareFeet><Brands>3</Brands><Internet>DSL</Internet><NumberEmployees>10</NumberEmployees></StoreSurvey></td><td>2014-09-12</td><td>Curbside Sporting Goods</td><td>281</td><td>3ee65eec-4abf-48b2-82b6-5b368c1bb84e</td></tr><tr><td>1448</td><td><StoreSurvey xmlns=\"http://schemas.microsoft.com/sqlserver/2004/07/adventure-works/StoreSurvey\"><AnnualSales>1000000</AnnualSales><AnnualRevenue>100000</AnnualRevenue><BankName>United Security</BankName><BusinessType>BS</BusinessType><YearOpened>1998</YearOpened><Specialty>Mountain</Specialty><SquareFeet>28000</SquareFeet><Brands>4+</Brands><Internet>DSL</Internet><NumberEmployees>27</NumberEmployees></StoreSurvey></td><td>2014-09-12</td><td>Friendly Neighborhood Bikes</td><td>277</td><td>a9849c81-88bc-49a9-9584-78634aea3681</td></tr><tr><td>1450</td><td><StoreSurvey xmlns=\"http://schemas.microsoft.com/sqlserver/2004/07/adventure-works/StoreSurvey\"><AnnualSales>1000000</AnnualSales><AnnualRevenue>100000</AnnualRevenue><BankName>International Bank</BankName><BusinessType>BS</BusinessType><YearOpened>1971</YearOpened><Specialty>Road</Specialty><SquareFeet>28000</SquareFeet><Brands>4+</Brands><Internet>T1</Internet><NumberEmployees>28</NumberEmployees></StoreSurvey></td><td>2014-09-12</td><td>Guaranteed Sales and Service</td><td>275</td><td>e0e88a9e-eac4-4e30-8072-534c4c4ac250</td></tr><tr><td>1452</td><td><StoreSurvey xmlns=\"http://schemas.microsoft.com/sqlserver/2004/07/adventure-works/StoreSurvey\"><AnnualSales>1000000</AnnualSales><AnnualRevenue>100000</AnnualRevenue><BankName>Primary Bank &amp; Reserve</BankName><BusinessType>BS</BusinessType><YearOpened>2001</YearOpened><Specialty>Touring</Specialty><SquareFeet>24000</SquareFeet><Brands>4+</Brands><Internet>DSL</Internet><NumberEmployees>29</NumberEmployees></StoreSurvey></td><td>2014-09-12</td><td>Preferable Bikes</td><td>286</td><td>0ff9a129-cad9-4a94-9a92-a08461903579</td></tr><tr><td>1454</td><td><StoreSurvey xmlns=\"http://schemas.microsoft.com/sqlserver/2004/07/adventure-works/StoreSurvey\"><AnnualSales>1500000</AnnualSales><AnnualRevenue>150000</AnnualRevenue><BankName>International Security</BankName><BusinessType>BS</BusinessType><YearOpened>1996</YearOpened><Specialty>Road</Specialty><SquareFeet>35000</SquareFeet><Brands>4+</Brands><Internet>DSL</Internet><NumberEmployees>30</NumberEmployees></StoreSurvey></td><td>2014-09-12</td><td>Recommended Bicycles</td><td>278</td><td>f00bfda2-17eb-4b77-ba24-4443e1da8360</td></tr><tr><td>1456</td><td><StoreSurvey xmlns=\"http://schemas.microsoft.com/sqlserver/2004/07/adventure-works/StoreSurvey\"><AnnualSales>1500000</AnnualSales><AnnualRevenue>150000</AnnualRevenue><BankName>Guardian Bank</BankName><BusinessType>BS</BusinessType><YearOpened>1990</YearOpened><Specialty>Road</Specialty><SquareFeet>39000</SquareFeet><Brands>4+</Brands><Internet>DSL</Internet><NumberEmployees>31</NumberEmployees></StoreSurvey></td><td>2014-09-12</td><td>Sunny Place Bikes</td><td>279</td><td>b07b4a19-8960-4a16-914c-b516cb49cce0</td></tr><tr><td>1458</td><td><StoreSurvey xmlns=\"http://schemas.microsoft.com/sqlserver/2004/07/adventure-works/StoreSurvey\"><AnnualSales>1500000</AnnualSales><AnnualRevenue>150000</AnnualRevenue><BankName>Primary International</BankName><BusinessType>BS</BusinessType><YearOpened>1984</YearOpened><Specialty>Road</Specialty><SquareFeet>37000</SquareFeet><Brands>2</Brands><Internet>DSL</Internet><NumberEmployees>32</NumberEmployees></StoreSurvey></td><td>2014-09-12</td><td>Alpine Ski House</td><td>276</td><td>a05e0815-2d28-45e6-91e5-ff8053433ebf</td></tr><tr><td>1460</td><td><StoreSurvey xmlns=\"http://schemas.microsoft.com/sqlserver/2004/07/adventure-works/StoreSurvey\"><AnnualSales>1500000</AnnualSales><AnnualRevenue>150000</AnnualRevenue><BankName>Reserve Security</BankName><BusinessType>BS</BusinessType><YearOpened>1978</YearOpened><Specialty>Road</Specialty><SquareFeet>35000</SquareFeet><Brands>4+</Brands><Internet>T1</Internet><NumberEmployees>33</NumberEmployees></StoreSurvey></td><td>2014-09-12</td><td>Cycles and Scooters</td><td>279</td><td>30141da2-7560-44cb-97a9-02c8857c7079</td></tr><tr><td>1462</td><td><StoreSurvey xmlns=\"http://schemas.microsoft.com/sqlserver/2004/07/adventure-works/StoreSurvey\"><AnnualSales>1500000</AnnualSales><AnnualRevenue>150000</AnnualRevenue><BankName>United Security</BankName><BusinessType>BS</BusinessType><YearOpened>1972</YearOpened><Specialty>Touring</Specialty><SquareFeet>37000</SquareFeet><Brands>3</Brands><Internet>T2</Internet><NumberEmployees>34</NumberEmployees></StoreSurvey></td><td>2014-09-12</td><td>Small Bike Accessories Shop</td><td>275</td><td>0ab43663-3a2d-4234-b2ab-04b18376d857</td></tr><tr><td>1464</td><td><StoreSurvey xmlns=\"http://schemas.microsoft.com/sqlserver/2004/07/adventure-works/StoreSurvey\"><AnnualSales>1500000</AnnualSales><AnnualRevenue>150000</AnnualRevenue><BankName>International Bank</BankName><BusinessType>BS</BusinessType><YearOpened>1988</YearOpened><Specialty>Touring</Specialty><SquareFeet>37000</SquareFeet><Brands>3</Brands><Internet>DSL</Internet><NumberEmployees>35</NumberEmployees></StoreSurvey></td><td>2014-09-12</td><td>List Price Catalog Company</td><td>286</td><td>ba90930e-259d-4bfe-b558-de00867a4247</td></tr><tr><td>1466</td><td><StoreSurvey xmlns=\"http://schemas.microsoft.com/sqlserver/2004/07/adventure-works/StoreSurvey\"><AnnualSales>1500000</AnnualSales><AnnualRevenue>150000</AnnualRevenue><BankName>Primary Bank &amp; Reserve</BankName><BusinessType>BS</BusinessType><YearOpened>1976</YearOpened><Specialty>Mountain</Specialty><SquareFeet>38000</SquareFeet><Brands>4+</Brands><Internet>DSL</Internet><NumberEmployees>36</NumberEmployees></StoreSurvey></td><td>2014-09-12</td><td>Seats and Saddles Company</td><td>278</td><td>2316f0f6-acf4-4458-9538-74f842c88d11</td></tr><tr><td>1468</td><td><StoreSurvey xmlns=\"http://schemas.microsoft.com/sqlserver/2004/07/adventure-works/StoreSurvey\"><AnnualSales>1500000</AnnualSales><AnnualRevenue>150000</AnnualRevenue><BankName>International Security</BankName><BusinessType>BS</BusinessType><YearOpened>1971</YearOpened><Specialty>Mountain</Specialty><SquareFeet>40000</SquareFeet><Brands>3</Brands><Internet>ISDN</Internet><NumberEmployees>37</NumberEmployees></StoreSurvey></td><td>2014-09-12</td><td>Village Tours</td><td>279</td><td>96a94727-d9cc-4596-a196-f48d0932f5cc</td></tr><tr><td>1470</td><td><StoreSurvey xmlns=\"http://schemas.microsoft.com/sqlserver/2004/07/adventure-works/StoreSurvey\"><AnnualSales>1000000</AnnualSales><AnnualRevenue>100000</AnnualRevenue><BankName>Primary International</BankName><BusinessType>BS</BusinessType><YearOpened>1998</YearOpened><Specialty>Mountain</Specialty><SquareFeet>25000</SquareFeet><Brands>3</Brands><Internet>DSL</Internet><NumberEmployees>27</NumberEmployees></StoreSurvey></td><td>2014-09-12</td><td>All Cycle Shop</td><td>280</td><td>c5b62e91-9344-4622-b360-8a1c3101535c</td></tr><tr><td>1472</td><td><StoreSurvey xmlns=\"http://schemas.microsoft.com/sqlserver/2004/07/adventure-works/StoreSurvey\"><AnnualSales>1000000</AnnualSales><AnnualRevenue>100000</AnnualRevenue><BankName>Reserve Security</BankName><BusinessType>BS</BusinessType><YearOpened>1971</YearOpened><Specialty>Mountain</Specialty><SquareFeet>25000</SquareFeet><Brands>4+</Brands><Internet>DSL</Internet><NumberEmployees>28</NumberEmployees></StoreSurvey></td><td>2014-09-12</td><td>Tachometers and Accessories</td><td>289</td><td>9e86d886-ae40-492a-960c-376f1102aa68</td></tr><tr><td>1474</td><td><StoreSurvey xmlns=\"http://schemas.microsoft.com/sqlserver/2004/07/adventure-works/StoreSurvey\"><AnnualSales>1000000</AnnualSales><AnnualRevenue>100000</AnnualRevenue><BankName>United Security</BankName><BusinessType>BS</BusinessType><YearOpened>2001</YearOpened><Specialty>Touring</Specialty><SquareFeet>26000</SquareFeet><Brands>3</Brands><Internet>T1</Internet><NumberEmployees>29</NumberEmployees></StoreSurvey></td><td>2014-09-12</td><td>Cycles Sales and Repair</td><td>290</td><td>29d20006-51cb-491d-bba5-d126f15062af</td></tr><tr><td>1476</td><td><StoreSurvey xmlns=\"http://schemas.microsoft.com/sqlserver/2004/07/adventure-works/StoreSurvey\"><AnnualSales>1500000</AnnualSales><AnnualRevenue>150000</AnnualRevenue><BankName>International Bank</BankName><BusinessType>BS</BusinessType><YearOpened>1996</YearOpened><Specialty>Mountain</Specialty><SquareFeet>36000</SquareFeet><Brands>4+</Brands><Internet>DSL</Internet><NumberEmployees>30</NumberEmployees></StoreSurvey></td><td>2014-09-12</td><td>Low Price Cycles</td><td>282</td><td>47c198f4-09ed-4826-b43b-7cf4ac53d6bf</td></tr><tr><td>1478</td><td><StoreSurvey xmlns=\"http://schemas.microsoft.com/sqlserver/2004/07/adventure-works/StoreSurvey\"><AnnualSales>1500000</AnnualSales><AnnualRevenue>150000</AnnualRevenue><BankName>Primary Bank &amp; Reserve</BankName><BusinessType>BS</BusinessType><YearOpened>1990</YearOpened><Specialty>Road</Specialty><SquareFeet>39000</SquareFeet><Brands>4+</Brands><Internet>DSL</Internet><NumberEmployees>31</NumberEmployees></StoreSurvey></td><td>2014-09-12</td><td>Metropolitan Manufacturing</td><td>281</td><td>76c1b6ab-0697-4636-b65e-b4c66fd9af60</td></tr><tr><td>1480</td><td><StoreSurvey xmlns=\"http://schemas.microsoft.com/sqlserver/2004/07/adventure-works/StoreSurvey\"><AnnualSales>1500000</AnnualSales><AnnualRevenue>150000</AnnualRevenue><BankName>International Security</BankName><BusinessType>BS</BusinessType><YearOpened>1984</YearOpened><Specialty>Road</Specialty><SquareFeet>37000</SquareFeet><Brands>4+</Brands><Internet>T1</Internet><NumberEmployees>32</NumberEmployees></StoreSurvey></td><td>2014-09-12</td><td>Orange Bicycle Company</td><td>277</td><td>094a64bd-0f6e-4a78-977c-3ee38b1fa993</td></tr><tr><td>1482</td><td><StoreSurvey xmlns=\"http://schemas.microsoft.com/sqlserver/2004/07/adventure-works/StoreSurvey\"><AnnualSales>1500000</AnnualSales><AnnualRevenue>150000</AnnualRevenue><BankName>Guardian Bank</BankName><BusinessType>BS</BusinessType><YearOpened>1978</YearOpened><Specialty>Mountain</Specialty><SquareFeet>36000</SquareFeet><Brands>4+</Brands><Internet>DSL</Internet><NumberEmployees>33</NumberEmployees></StoreSurvey></td><td>2014-09-12</td><td>Riding Associates</td><td>280</td><td>5ccdbdc8-55f8-4b22-b24d-0f58db098e0b</td></tr><tr><td>1484</td><td><StoreSurvey xmlns=\"http://schemas.microsoft.com/sqlserver/2004/07/adventure-works/StoreSurvey\"><AnnualSales>1500000</AnnualSales><AnnualRevenue>150000</AnnualRevenue><BankName>Primary International</BankName><BusinessType>BS</BusinessType><YearOpened>1972</YearOpened><Specialty>Road</Specialty><SquareFeet>39000</SquareFeet><Brands>4+</Brands><Internet>DSL</Internet><NumberEmployees>34</NumberEmployees></StoreSurvey></td><td>2014-09-12</td><td>Essential Bike Works</td><td>289</td><td>18887cc9-a503-4f5c-b054-fb6ccdf9f56d</td></tr><tr><td>1486</td><td><StoreSurvey xmlns=\"http://schemas.microsoft.com/sqlserver/2004/07/adventure-works/StoreSurvey\"><AnnualSales>1500000</AnnualSales><AnnualRevenue>150000</AnnualRevenue><BankName>Reserve Security</BankName><BusinessType>BS</BusinessType><YearOpened>1988</YearOpened><Specialty>Road</Specialty><SquareFeet>39000</SquareFeet><Brands>4+</Brands><Internet>T1</Internet><NumberEmployees>35</NumberEmployees></StoreSurvey></td><td>2014-09-12</td><td>Rural Mountain Bike Mart</td><td>290</td><td>7df7c186-7e2a-4bce-9ea2-5d42abf2fb7b</td></tr><tr><td>1488</td><td><StoreSurvey xmlns=\"http://schemas.microsoft.com/sqlserver/2004/07/adventure-works/StoreSurvey\"><AnnualSales>1500000</AnnualSales><AnnualRevenue>150000</AnnualRevenue><BankName>United Security</BankName><BusinessType>BS</BusinessType><YearOpened>1976</YearOpened><Specialty>Road</Specialty><SquareFeet>37000</SquareFeet><Brands>2</Brands><Internet>T1</Internet><NumberEmployees>36</NumberEmployees></StoreSurvey></td><td>2014-09-12</td><td>City Cycling</td><td>282</td><td>7d7911cf-c5dc-4d89-a503-7377a84cb3d9</td></tr><tr><td>1490</td><td><StoreSurvey xmlns=\"http://schemas.microsoft.com/sqlserver/2004/07/adventure-works/StoreSurvey\"><AnnualSales>1500000</AnnualSales><AnnualRevenue>150000</AnnualRevenue><BankName>International Bank</BankName><BusinessType>BS</BusinessType><YearOpened>1971</YearOpened><Specialty>Touring</Specialty><SquareFeet>40000</SquareFeet><Brands>4+</Brands><Internet>T2</Internet><NumberEmployees>37</NumberEmployees></StoreSurvey></td><td>2014-09-12</td><td>Engineered Bike Systems</td><td>281</td><td>28a52834-6069-473e-b547-fc8b4b04c0c9</td></tr><tr><td>1796</td><td><StoreSurvey xmlns=\"http://schemas.microsoft.com/sqlserver/2004/07/adventure-works/StoreSurvey\"><AnnualSales>1500000</AnnualSales><AnnualRevenue>150000</AnnualRevenue><BankName>International Security</BankName><BusinessType>BS</BusinessType><YearOpened>1997</YearOpened><Specialty>Mountain</Specialty><SquareFeet>38000</SquareFeet><Brands>4+</Brands><Internet>DSL</Internet><NumberEmployees>46</NumberEmployees></StoreSurvey></td><td>2014-09-12</td><td>Professional Containers and Packaging Co.</td><td>281</td><td>57e8e5c9-7a01-485e-ae4b-48dcb41a0dc2</td></tr><tr><td>1798</td><td><StoreSurvey xmlns=\"http://schemas.microsoft.com/sqlserver/2004/07/adventure-works/StoreSurvey\"><AnnualSales>1500000</AnnualSales><AnnualRevenue>150000</AnnualRevenue><BankName>Primary Bank &amp; Reserve</BankName><BusinessType>BS</BusinessType><YearOpened>1989</YearOpened><Specialty>Mountain</Specialty><SquareFeet>41000</SquareFeet><Brands>3</Brands><Internet>DSL</Internet><NumberEmployees>49</NumberEmployees></StoreSurvey></td><td>2014-09-12</td><td>One Bike Company</td><td>282</td><td>4317b79b-6640-4ec3-8353-1370a12633a5</td></tr><tr><td>1800</td><td><StoreSurvey xmlns=\"http://schemas.microsoft.com/sqlserver/2004/07/adventure-works/StoreSurvey\"><AnnualSales>1500000</AnnualSales><AnnualRevenue>150000</AnnualRevenue><BankName>International Bank</BankName><BusinessType>BS</BusinessType><YearOpened>1994</YearOpened><Specialty>Touring</Specialty><SquareFeet>40000</SquareFeet><Brands>2</Brands><Internet>T2</Internet><NumberEmployees>48</NumberEmployees></StoreSurvey></td><td>2014-09-12</td><td>Hiatus Bike Tours</td><td>290</td><td>c838b0d9-14ea-4019-b010-5bbef2b43862</td></tr><tr><td>1802</td><td><StoreSurvey xmlns=\"http://schemas.microsoft.com/sqlserver/2004/07/adventure-works/StoreSurvey\"><AnnualSales>1500000</AnnualSales><AnnualRevenue>150000</AnnualRevenue><BankName>United Security</BankName><BusinessType>BS</BusinessType><YearOpened>1986</YearOpened><Specialty>Road</Specialty><SquareFeet>37000</SquareFeet><Brands>4+</Brands><Internet>DSL</Internet><NumberEmployees>47</NumberEmployees></StoreSurvey></td><td>2014-09-12</td><td>Cycling Goods</td><td>289</td><td>5aef8ade-bd2a-4012-9766-71b2147d5d35</td></tr><tr><td>1804</td><td><StoreSurvey xmlns=\"http://schemas.microsoft.com/sqlserver/2004/07/adventure-works/StoreSurvey\"><AnnualSales>1500000</AnnualSales><AnnualRevenue>150000</AnnualRevenue><BankName>Reserve Security</BankName><BusinessType>BS</BusinessType><YearOpened>1991</YearOpened><Specialty>Touring</Specialty><SquareFeet>40000</SquareFeet><Brands>2</Brands><Internet>T1</Internet><NumberEmployees>46</NumberEmployees></StoreSurvey></td><td>2014-09-12</td><td>Cycle Clearance</td><td>280</td><td>7f2c3ab3-97ca-46ba-820e-a03f59ec842d</td></tr><tr><td>1806</td><td><StoreSurvey xmlns=\"http://schemas.microsoft.com/sqlserver/2004/07/adventure-works/StoreSurvey\"><AnnualSales>1500000</AnnualSales><AnnualRevenue>150000</AnnualRevenue><BankName>Primary International</BankName><BusinessType>BS</BusinessType><YearOpened>1983</YearOpened><Specialty>Mountain</Specialty><SquareFeet>40000</SquareFeet><Brands>4+</Brands><Internet>DSL</Internet><NumberEmployees>45</NumberEmployees></StoreSurvey></td><td>2014-09-12</td><td>Black Bicycle Company</td><td>277</td><td>b67e6fd5-2918-4100-82a8-e004da0ddb35</td></tr><tr><td>1808</td><td><StoreSurvey xmlns=\"http://schemas.microsoft.com/sqlserver/2004/07/adventure-works/StoreSurvey\"><AnnualSales>1500000</AnnualSales><AnnualRevenue>150000</AnnualRevenue><BankName>Guardian Bank</BankName><BusinessType>BS</BusinessType><YearOpened>1988</YearOpened><Specialty>Touring</Specialty><SquareFeet>41000</SquareFeet><Brands>3</Brands><Internet>ISDN</Internet><NumberEmployees>44</NumberEmployees></StoreSurvey></td><td>2014-09-12</td><td>Transport Bikes</td><td>281</td><td>8317603a-1c85-40fd-a106-b5c591042ea3</td></tr><tr><td>1810</td><td><StoreSurvey xmlns=\"http://schemas.microsoft.com/sqlserver/2004/07/adventure-works/StoreSurvey\"><AnnualSales>1500000</AnnualSales><AnnualRevenue>150000</AnnualRevenue><BankName>International Security</BankName><BusinessType>BS</BusinessType><YearOpened>1980</YearOpened><Specialty>Road</Specialty><SquareFeet>37000</SquareFeet><Brands>4+</Brands><Internet>DSL</Internet><NumberEmployees>43</NumberEmployees></StoreSurvey></td><td>2014-09-12</td><td>Sellers of Cycles</td><td>280</td><td>3818af93-b4da-49ce-968e-672059b77bed</td></tr><tr><td>1812</td><td><StoreSurvey xmlns=\"http://schemas.microsoft.com/sqlserver/2004/07/adventure-works/StoreSurvey\"><AnnualSales>1500000</AnnualSales><AnnualRevenue>150000</AnnualRevenue><BankName>Primary Bank &amp; Reserve</BankName><BusinessType>BS</BusinessType><YearOpened>1985</YearOpened><Specialty>Touring</Specialty><SquareFeet>41000</SquareFeet><Brands>4+</Brands><Internet>DSL</Internet><NumberEmployees>42</NumberEmployees></StoreSurvey></td><td>2014-09-12</td><td>Maintenance and Repair for Bicycles</td><td>277</td><td>060163f2-6e85-4473-b0fc-c2ef091c057d</td></tr><tr><td>1814</td><td><StoreSurvey xmlns=\"http://schemas.microsoft.com/sqlserver/2004/07/adventure-works/StoreSurvey\"><AnnualSales>1500000</AnnualSales><AnnualRevenue>150000</AnnualRevenue><BankName>International Bank</BankName><BusinessType>BS</BusinessType><YearOpened>1977</YearOpened><Specialty>Touring</Specialty><SquareFeet>37000</SquareFeet><Brands>3</Brands><Internet>T2</Internet><NumberEmployees>41</NumberEmployees></StoreSurvey></td><td>2014-09-12</td><td>Fitness Department Stores</td><td>281</td><td>02f5437e-f74e-4f8b-92ee-f129c8ac0986</td></tr><tr><td>1816</td><td><StoreSurvey xmlns=\"http://schemas.microsoft.com/sqlserver/2004/07/adventure-works/StoreSurvey\"><AnnualSales>1500000</AnnualSales><AnnualRevenue>150000</AnnualRevenue><BankName>United Security</BankName><BusinessType>BS</BusinessType><YearOpened>1982</YearOpened><Specialty>Mountain</Specialty><SquareFeet>37000</SquareFeet><Brands>4+</Brands><Internet>DSL</Internet><NumberEmployees>40</NumberEmployees></StoreSurvey></td><td>2014-09-12</td><td>Famous Bike Shop</td><td>278</td><td>0e7982ee-ce33-404c-b7db-36f78da457eb</td></tr><tr><td>1818</td><td><StoreSurvey xmlns=\"http://schemas.microsoft.com/sqlserver/2004/07/adventure-works/StoreSurvey\"><AnnualSales>1500000</AnnualSales><AnnualRevenue>150000</AnnualRevenue><BankName>Reserve Security</BankName><BusinessType>BS</BusinessType><YearOpened>1974</YearOpened><Specialty>Touring</Specialty><SquareFeet>39000</SquareFeet><Brands>3</Brands><Internet>DSL</Internet><NumberEmployees>39</NumberEmployees></StoreSurvey></td><td>2014-09-12</td><td>Eastward Bike Accessories</td><td>286</td><td>11108d11-d7ab-49f8-824b-d4e5d4341570</td></tr><tr><td>1820</td><td><StoreSurvey xmlns=\"http://schemas.microsoft.com/sqlserver/2004/07/adventure-works/StoreSurvey\"><AnnualSales>1500000</AnnualSales><AnnualRevenue>150000</AnnualRevenue><BankName>Primary International</BankName><BusinessType>BS</BusinessType><YearOpened>1979</YearOpened><Specialty>Road</Specialty><SquareFeet>36000</SquareFeet><Brands>4+</Brands><Internet>DSL</Internet><NumberEmployees>38</NumberEmployees></StoreSurvey></td><td>2014-09-12</td><td>Strong Metal Manufacturing</td><td>275</td><td>f844dffd-c87f-4dd4-b82b-e27fd5b50372</td></tr><tr><td>1822</td><td><StoreSurvey xmlns=\"http://schemas.microsoft.com/sqlserver/2004/07/adventure-works/StoreSurvey\"><AnnualSales>1500000</AnnualSales><AnnualRevenue>150000</AnnualRevenue><BankName>Guardian Bank</BankName><BusinessType>BS</BusinessType><YearOpened>1971</YearOpened><Specialty>Road</Specialty><SquareFeet>36000</SquareFeet><Brands>4+</Brands><Internet>DSL</Internet><NumberEmployees>37</NumberEmployees></StoreSurvey></td><td>2014-09-12</td><td>Gift and Toy Store</td><td>277</td><td>0ab1bbf2-d910-4baf-b8e4-1977cc0fbcbb</td></tr><tr><td>1824</td><td><StoreSurvey xmlns=\"http://schemas.microsoft.com/sqlserver/2004/07/adventure-works/StoreSurvey\"><AnnualSales>1500000</AnnualSales><AnnualRevenue>150000</AnnualRevenue><BankName>International Security</BankName><BusinessType>BS</BusinessType><YearOpened>1976</YearOpened><Specialty>Road</Specialty><SquareFeet>40000</SquareFeet><Brands>4+</Brands><Internet>DSL</Internet><NumberEmployees>36</NumberEmployees></StoreSurvey></td><td>2014-09-12</td><td>Major Sporting Goods</td><td>276</td><td>9fc444e5-c1bc-42b2-8656-2e6c96f32920</td></tr><tr><td>1826</td><td><StoreSurvey xmlns=\"http://schemas.microsoft.com/sqlserver/2004/07/adventure-works/StoreSurvey\"><AnnualSales>1500000</AnnualSales><AnnualRevenue>150000</AnnualRevenue><BankName>Primary Bank &amp; Reserve</BankName><BusinessType>BS</BusinessType><YearOpened>1988</YearOpened><Specialty>Road</Specialty><SquareFeet>39000</SquareFeet><Brands>4+</Brands><Internet>T1</Internet><NumberEmployees>35</NumberEmployees></StoreSurvey></td><td>2014-09-12</td><td>Executive Discount Store</td><td>279</td><td>a2ab0a56-0e6f-4786-b122-3a2fb52ce2ef</td></tr><tr><td>1828</td><td><StoreSurvey xmlns=\"http://schemas.microsoft.com/sqlserver/2004/07/adventure-works/StoreSurvey\"><AnnualSales>3000000</AnnualSales><AnnualRevenue>300000</AnnualRevenue><BankName>International Security</BankName><BusinessType>OS</BusinessType><YearOpened>1995</YearOpened><Specialty>Road</Specialty><SquareFeet>77000</SquareFeet><Brands>2</Brands><Internet>T2</Internet><NumberEmployees>79</NumberEmployees></StoreSurvey></td><td>2014-09-12</td><td>Major Cycling</td><td>282</td><td>2f45bf63-26c3-43e5-adae-486a0fa6d41f</td></tr><tr><td>1830</td><td><StoreSurvey xmlns=\"http://schemas.microsoft.com/sqlserver/2004/07/adventure-works/StoreSurvey\"><AnnualSales>3000000</AnnualSales><AnnualRevenue>300000</AnnualRevenue><BankName>Primary Bank &amp; Reserve</BankName><BusinessType>OS</BusinessType><YearOpened>1987</YearOpened><Specialty>Road</Specialty><SquareFeet>75000</SquareFeet><Brands>4+</Brands><Internet>T1</Internet><NumberEmployees>80</NumberEmployees></StoreSurvey></td><td>2014-09-12</td><td>Getaway Inn</td><td>290</td><td>64f9ef4b-475a-4cfa-a816-e0e66856cc5f</td></tr><tr><td>1832</td><td><StoreSurvey xmlns=\"http://schemas.microsoft.com/sqlserver/2004/07/adventure-works/StoreSurvey\"><AnnualSales>3000000</AnnualSales><AnnualRevenue>300000</AnnualRevenue><BankName>International Bank</BankName><BusinessType>OS</BusinessType><YearOpened>1992</YearOpened><Specialty>Mountain</Specialty><SquareFeet>77000</SquareFeet><Brands>2</Brands><Internet>DSL</Internet><NumberEmployees>81</NumberEmployees></StoreSurvey></td><td>2014-09-12</td><td>Downhill Bicycle Specialists</td><td>289</td><td>161b1bb9-5afb-47b2-b1ad-45bf03ba6520</td></tr><tr><td>1834</td><td><StoreSurvey xmlns=\"http://schemas.microsoft.com/sqlserver/2004/07/adventure-works/StoreSurvey\"><AnnualSales>3000000</AnnualSales><AnnualRevenue>300000</AnnualRevenue><BankName>United Security</BankName><BusinessType>OS</BusinessType><YearOpened>1984</YearOpened><Specialty>Mountain</Specialty><SquareFeet>73000</SquareFeet><Brands>4+</Brands><Internet>DSL</Internet><NumberEmployees>82</NumberEmployees></StoreSurvey></td><td>2014-09-12</td><td>Bike Experts</td><td>280</td><td>639bbc3a-d30b-4456-a2fd-cb740884e939</td></tr><tr><td>1836</td><td><StoreSurvey xmlns=\"http://schemas.microsoft.com/sqlserver/2004/07/adventure-works/StoreSurvey\"><AnnualSales>3000000</AnnualSales><AnnualRevenue>300000</AnnualRevenue><BankName>Reserve Security</BankName><BusinessType>OS</BusinessType><YearOpened>1989</YearOpened><Specialty>Mountain</Specialty><SquareFeet>75000</SquareFeet><Brands>2</Brands><Internet>T2</Internet><NumberEmployees>83</NumberEmployees></StoreSurvey></td><td>2014-09-12</td><td>Extraordinary Bike Works</td><td>277</td><td>d8f8e7f3-9acf-4f4b-8327-293b7a7943b3</td></tr><tr><td>1838</td><td><StoreSurvey xmlns=\"http://schemas.microsoft.com/sqlserver/2004/07/adventure-works/StoreSurvey\"><AnnualSales>3000000</AnnualSales><AnnualRevenue>300000</AnnualRevenue><BankName>Primary International</BankName><BusinessType>OS</BusinessType><YearOpened>1981</YearOpened><Specialty>Road</Specialty><SquareFeet>76000</SquareFeet><Brands>4+</Brands><Internet>DSL</Internet><NumberEmployees>84</NumberEmployees></StoreSurvey></td><td>2014-09-12</td><td>Valley Bicycle Distributors</td><td>281</td><td>db88da40-586e-4429-af8d-2148a59b93a6</td></tr><tr><td>1840</td><td><StoreSurvey xmlns=\"http://schemas.microsoft.com/sqlserver/2004/07/adventure-works/StoreSurvey\"><AnnualSales>3000000</AnnualSales><AnnualRevenue>300000</AnnualRevenue><BankName>Guardian Bank</BankName><BusinessType>OS</BusinessType><YearOpened>1986</YearOpened><Specialty>Mountain</Specialty><SquareFeet>78000</SquareFeet><Brands>3</Brands><Internet>DSL</Internet><NumberEmployees>85</NumberEmployees></StoreSurvey></td><td>2014-09-12</td><td>Top Sports Supply</td><td>282</td><td>20d63e3e-5631-4118-9712-1171aa5a0357</td></tr><tr><td>1842</td><td><StoreSurvey xmlns=\"http://schemas.microsoft.com/sqlserver/2004/07/adventure-works/StoreSurvey\"><AnnualSales>3000000</AnnualSales><AnnualRevenue>300000</AnnualRevenue><BankName>International Security</BankName><BusinessType>OS</BusinessType><YearOpened>1978</YearOpened><Specialty>Road</Specialty><SquareFeet>77000</SquareFeet><Brands>3</Brands><Internet>DSL</Internet><NumberEmployees>86</NumberEmployees></StoreSurvey></td><td>2014-09-12</td><td>Racing Sales and Service</td><td>290</td><td>cdd163a9-dc42-44b4-ba95-b5de845813e4</td></tr><tr><td>1844</td><td><StoreSurvey xmlns=\"http://schemas.microsoft.com/sqlserver/2004/07/adventure-works/StoreSurvey\"><AnnualSales>3000000</AnnualSales><AnnualRevenue>300000</AnnualRevenue><BankName>Primary Bank &amp; Reserve</BankName><BusinessType>OS</BusinessType><YearOpened>1983</YearOpened><Specialty>Mountain</Specialty><SquareFeet>78000</SquareFeet><Brands>4+</Brands><Internet>DSL</Internet><NumberEmployees>87</NumberEmployees></StoreSurvey></td><td>2014-09-12</td><td>Metropolitan Bicycle Supply</td><td>289</td><td>bf60e1dd-fe8b-4d6f-bd43-dcec43504357</td></tr><tr><td>1846</td><td><StoreSurvey xmlns=\"http://schemas.microsoft.com/sqlserver/2004/07/adventure-works/StoreSurvey\"><AnnualSales>3000000</AnnualSales><AnnualRevenue>300000</AnnualRevenue><BankName>International Bank</BankName><BusinessType>OS</BusinessType><YearOpened>1975</YearOpened><Specialty>Touring</Specialty><SquareFeet>77000</SquareFeet><Brands>3</Brands><Internet>DSL</Internet><NumberEmployees>88</NumberEmployees></StoreSurvey></td><td>2014-09-12</td><td>Honest Repair Service</td><td>280</td><td>ea9914d7-5fc2-4f73-9483-95cbad7408a7</td></tr><tr><td>1848</td><td><StoreSurvey xmlns=\"http://schemas.microsoft.com/sqlserver/2004/07/adventure-works/StoreSurvey\"><AnnualSales>3000000</AnnualSales><AnnualRevenue>300000</AnnualRevenue><BankName>United Security</BankName><BusinessType>OS</BusinessType><YearOpened>1980</YearOpened><Specialty>Road</Specialty><SquareFeet>74000</SquareFeet><Brands>3</Brands><Internet>T2</Internet><NumberEmployees>89</NumberEmployees></StoreSurvey></td><td>2014-09-12</td><td>Designer Department Stores</td><td>277</td><td>8689142f-784a-4e36-acc4-87346be7da38</td></tr><tr><td>1850</td><td><StoreSurvey xmlns=\"http://schemas.microsoft.com/sqlserver/2004/07/adventure-works/StoreSurvey\"><AnnualSales>3000000</AnnualSales><AnnualRevenue>300000</AnnualRevenue><BankName>Reserve Security</BankName><BusinessType>OS</BusinessType><YearOpened>1972</YearOpened><Specialty>Road</Specialty><SquareFeet>79000</SquareFeet><Brands>2</Brands><Internet>DSL</Internet><NumberEmployees>90</NumberEmployees></StoreSurvey></td><td>2014-09-12</td><td>Wheel Gallery</td><td>281</td><td>7ef9c12f-21f8-46c6-b18d-e073e1a2a5f3</td></tr><tr><td>1852</td><td><StoreSurvey xmlns=\"http://schemas.microsoft.com/sqlserver/2004/07/adventure-works/StoreSurvey\"><AnnualSales>3000000</AnnualSales><AnnualRevenue>300000</AnnualRevenue><BankName>International Bank</BankName><BusinessType>OS</BusinessType><YearOpened>1987</YearOpened><Specialty>Touring</Specialty><SquareFeet>75000</SquareFeet><Brands>3</Brands><Internet>T1</Internet><NumberEmployees>80</NumberEmployees></StoreSurvey></td><td>2014-09-12</td><td>Top Bike Market</td><td>278</td><td>5555020a-f026-41f8-924f-4180974f39eb</td></tr><tr><td>1854</td><td><StoreSurvey xmlns=\"http://schemas.microsoft.com/sqlserver/2004/07/adventure-works/StoreSurvey\"><AnnualSales>3000000</AnnualSales><AnnualRevenue>300000</AnnualRevenue><BankName>United Security</BankName><BusinessType>OS</BusinessType><YearOpened>1992</YearOpened><Specialty>Road</Specialty><SquareFeet>75000</SquareFeet><Brands>2</Brands><Internet>DSL</Internet><NumberEmployees>81</NumberEmployees></StoreSurvey></td><td>2014-09-12</td><td>Region Bike Company</td><td>286</td><td>1d393e58-5467-4529-be25-52f1eb28ba12</td></tr><tr><td>1856</td><td><StoreSurvey xmlns=\"http://schemas.microsoft.com/sqlserver/2004/07/adventure-works/StoreSurvey\"><AnnualSales>3000000</AnnualSales><AnnualRevenue>300000</AnnualRevenue><BankName>Reserve Security</BankName><BusinessType>OS</BusinessType><YearOpened>1984</YearOpened><Specialty>Mountain</Specialty><SquareFeet>75000</SquareFeet><Brands>3</Brands><Internet>DSL</Internet><NumberEmployees>82</NumberEmployees></StoreSurvey></td><td>2014-09-12</td><td>Grown-up Bike Store</td><td>275</td><td>5ae09d08-49d1-46bf-9219-bf9874cb1992</td></tr><tr><td>1858</td><td><StoreSurvey xmlns=\"http://schemas.microsoft.com/sqlserver/2004/07/adventure-works/StoreSurvey\"><AnnualSales>3000000</AnnualSales><AnnualRevenue>300000</AnnualRevenue><BankName>Primary International</BankName><BusinessType>OS</BusinessType><YearOpened>1989</YearOpened><Specialty>Mountain</Specialty><SquareFeet>77000</SquareFeet><Brands>3</Brands><Internet>DSL</Internet><NumberEmployees>83</NumberEmployees></StoreSurvey></td><td>2014-09-12</td><td>Bicycle Lines Distributors</td><td>277</td><td>ede264f5-0931-4e4b-b447-5c0add3aba5d</td></tr><tr><td>1860</td><td><StoreSurvey xmlns=\"http://schemas.microsoft.com/sqlserver/2004/07/adventure-works/StoreSurvey\"><AnnualSales>3000000</AnnualSales><AnnualRevenue>300000</AnnualRevenue><BankName>Guardian Bank</BankName><BusinessType>OS</BusinessType><YearOpened>1981</YearOpened><Specialty>Mountain</Specialty><SquareFeet>76000</SquareFeet><Brands>2</Brands><Internet>DSL</Internet><NumberEmployees>84</NumberEmployees></StoreSurvey></td><td>2014-09-12</td><td>Sparkling Paint and Finishes</td><td>276</td><td>b84ba799-82a1-45ea-94fe-63bbe36f1d2d</td></tr><tr><td>1862</td><td><StoreSurvey xmlns=\"http://schemas.microsoft.com/sqlserver/2004/07/adventure-works/StoreSurvey\"><AnnualSales>3000000</AnnualSales><AnnualRevenue>300000</AnnualRevenue><BankName>International Security</BankName><BusinessType>OS</BusinessType><YearOpened>1986</YearOpened><Specialty>Road</Specialty><SquareFeet>76000</SquareFeet><Brands>3</Brands><Internet>T1</Internet><NumberEmployees>85</NumberEmployees></StoreSurvey></td><td>2014-09-12</td><td>Racing Association</td><td>279</td><td>f2b788db-35c9-4f0f-a282-4983bbcb8eac</td></tr><tr><td>1864</td><td><StoreSurvey xmlns=\"http://schemas.microsoft.com/sqlserver/2004/07/adventure-works/StoreSurvey\"><AnnualSales>3000000</AnnualSales><AnnualRevenue>300000</AnnualRevenue><BankName>Primary Bank &amp; Reserve</BankName><BusinessType>OS</BusinessType><YearOpened>1978</YearOpened><Specialty>Mountain</Specialty><SquareFeet>76000</SquareFeet><Brands>4+</Brands><Internet>DSL</Internet><NumberEmployees>86</NumberEmployees></StoreSurvey></td><td>2014-09-12</td><td>Plastic Parts Company</td><td>278</td><td>ce201239-6a87-4995-a399-2ee197df8d0f</td></tr><tr><td>1866</td><td><StoreSurvey xmlns=\"http://schemas.microsoft.com/sqlserver/2004/07/adventure-works/StoreSurvey\"><AnnualSales>3000000</AnnualSales><AnnualRevenue>300000</AnnualRevenue><BankName>International Bank</BankName><BusinessType>OS</BusinessType><YearOpened>1983</YearOpened><Specialty>Touring</Specialty><SquareFeet>74000</SquareFeet><Brands>2</Brands><Internet>T1</Internet><NumberEmployees>87</NumberEmployees></StoreSurvey></td><td>2014-09-12</td><td>Gears and Parts Company</td><td>286</td><td>8fc966e0-ad57-4b20-b4fd-f03da9bb9ccb</td></tr><tr><td>1868</td><td><StoreSurvey xmlns=\"http://schemas.microsoft.com/sqlserver/2004/07/adventure-works/StoreSurvey\"><AnnualSales>3000000</AnnualSales><AnnualRevenue>300000</AnnualRevenue><BankName>United Security</BankName><BusinessType>OS</BusinessType><YearOpened>1975</YearOpened><Specialty>Mountain</Specialty><SquareFeet>76000</SquareFeet><Brands>3</Brands><Internet>DSL</Internet><NumberEmployees>88</NumberEmployees></StoreSurvey></td><td>2014-09-12</td><td>Executive Gift Store</td><td>275</td><td>2387a2b5-33ea-4e68-8a92-11c251f92280</td></tr><tr><td>1870</td><td><StoreSurvey xmlns=\"http://schemas.microsoft.com/sqlserver/2004/07/adventure-works/StoreSurvey\"><AnnualSales>3000000</AnnualSales><AnnualRevenue>300000</AnnualRevenue><BankName>Reserve Security</BankName><BusinessType>OS</BusinessType><YearOpened>1980</YearOpened><Specialty>Touring</Specialty><SquareFeet>77000</SquareFeet><Brands>4+</Brands><Internet>DSL</Internet><NumberEmployees>89</NumberEmployees></StoreSurvey></td><td>2014-09-12</td><td>Big Cycle Mall</td><td>277</td><td>17fa0e6e-9ef9-4574-9338-d0610acfd99a</td></tr><tr><td>1872</td><td><StoreSurvey xmlns=\"http://schemas.microsoft.com/sqlserver/2004/07/adventure-works/StoreSurvey\"><AnnualSales>800000</AnnualSales><AnnualRevenue>80000</AnnualRevenue><BankName>International Bank</BankName><BusinessType>BM</BusinessType><YearOpened>1997</YearOpened><Specialty>Road</Specialty><SquareFeet>22000</SquareFeet><Brands>AW</Brands><Internet>ISDN</Internet><NumberEmployees>18</NumberEmployees></StoreSurvey></td><td>2014-09-12</td><td>Budget Bike Company</td><td>279</td><td>a954dc6d-de84-4eb7-b23b-120571fdfde8</td></tr><tr><td>1874</td><td><StoreSurvey xmlns=\"http://schemas.microsoft.com/sqlserver/2004/07/adventure-works/StoreSurvey\"><AnnualSales>800000</AnnualSales><AnnualRevenue>80000</AnnualRevenue><BankName>Primary Bank &amp; Reserve</BankName><BusinessType>BM</BusinessType><YearOpened>1975</YearOpened><Specialty>Touring</Specialty><SquareFeet>21000</SquareFeet><Brands>3</Brands><Internet>T2</Internet><NumberEmployees>19</NumberEmployees></StoreSurvey></td><td>2014-09-12</td><td>Eighth Bike Store</td><td>281</td><td>311afc6c-933d-41b8-83b8-51551f1d8ff0</td></tr><tr><td>1876</td><td><StoreSurvey xmlns=\"http://schemas.microsoft.com/sqlserver/2004/07/adventure-works/StoreSurvey\"><AnnualSales>1000000</AnnualSales><AnnualRevenue>100000</AnnualRevenue><BankName>International Security</BankName><BusinessType>BM</BusinessType><YearOpened>2000</YearOpened><Specialty>Road</Specialty><SquareFeet>24000</SquareFeet><Brands>4+</Brands><Internet>T1</Internet><NumberEmployees>20</NumberEmployees></StoreSurvey></td><td>2014-09-12</td><td>Demand Distributors</td><td>283</td><td>b34e161a-8ed8-4e28-a86c-200ce4704883</td></tr><tr><td>1878</td><td><StoreSurvey xmlns=\"http://schemas.microsoft.com/sqlserver/2004/07/adventure-works/StoreSurvey\"><AnnualSales>800000</AnnualSales><AnnualRevenue>80000</AnnualRevenue><BankName>Guardian Bank</BankName><BusinessType>BM</BusinessType><YearOpened>2000</YearOpened><Specialty>Mountain</Specialty><SquareFeet>22000</SquareFeet><Brands>4+</Brands><Internet>T2</Internet><NumberEmployees>17</NumberEmployees></StoreSurvey></td><td>2014-09-12</td><td>Immediate Repair Shop</td><td>275</td><td>0c2d39a6-b731-4d81-8253-85a0d25acd25</td></tr><tr><td>1880</td><td><StoreSurvey xmlns=\"http://schemas.microsoft.com/sqlserver/2004/07/adventure-works/StoreSurvey\"><AnnualSales>800000</AnnualSales><AnnualRevenue>80000</AnnualRevenue><BankName>Primary International</BankName><BusinessType>BM</BusinessType><YearOpened>1994</YearOpened><Specialty>Touring</Specialty><SquareFeet>22000</SquareFeet><Brands>4+</Brands><Internet>T1</Internet><NumberEmployees>14</NumberEmployees></StoreSurvey></td><td>2014-09-12</td><td>Off-Price Bike Center</td><td>288</td><td>0bd08a52-187e-42bb-8a1c-2ac8971bfa12</td></tr><tr><td>1882</td><td><StoreSurvey xmlns=\"http://schemas.microsoft.com/sqlserver/2004/07/adventure-works/StoreSurvey\"><AnnualSales>800000</AnnualSales><AnnualRevenue>80000</AnnualRevenue><BankName>Reserve Security</BankName><BusinessType>BM</BusinessType><YearOpened>1988</YearOpened><Specialty>Mountain</Specialty><SquareFeet>18000</SquareFeet><Brands>3</Brands><Internet>DSL</Internet><NumberEmployees>11</NumberEmployees></StoreSurvey></td><td>2014-09-12</td><td>Red Bicycle Company</td><td>282</td><td>b8e6ef57-7087-4b21-9636-0e657902714e</td></tr><tr><td>1884</td><td><StoreSurvey xmlns=\"http://schemas.microsoft.com/sqlserver/2004/07/adventure-works/StoreSurvey\"><AnnualSales>300000</AnnualSales><AnnualRevenue>30000</AnnualRevenue><BankName>United Security</BankName><BusinessType>BM</BusinessType><YearOpened>1982</YearOpened><Specialty>Road</Specialty><SquareFeet>11000</SquareFeet><Brands>4+</Brands><Internet>T1</Internet><NumberEmployees>8</NumberEmployees></StoreSurvey></td><td>2014-09-12</td><td>Retirement Activities Association</td><td>279</td><td>acdca9a3-f6f2-4e09-a9af-61f6b9834595</td></tr><tr><td>1886</td><td><StoreSurvey xmlns=\"http://schemas.microsoft.com/sqlserver/2004/07/adventure-works/StoreSurvey\"><AnnualSales>300000</AnnualSales><AnnualRevenue>30000</AnnualRevenue><BankName>International Bank</BankName><BusinessType>BM</BusinessType><YearOpened>1976</YearOpened><Specialty>Touring</Specialty><SquareFeet>9000</SquareFeet><Brands>AW</Brands><Internet>DSL</Internet><NumberEmployees>5</NumberEmployees></StoreSurvey></td><td>2014-09-12</td><td>Trendy Department Stores</td><td>281</td><td>5f8c35a3-92f4-4979-a838-5b93c221b9df</td></tr><tr><td>1888</td><td><StoreSurvey xmlns=\"http://schemas.microsoft.com/sqlserver/2004/07/adventure-works/StoreSurvey\"><AnnualSales>300000</AnnualSales><AnnualRevenue>30000</AnnualRevenue><BankName>Primary Bank &amp; Reserve</BankName><BusinessType>BM</BusinessType><YearOpened>1970</YearOpened><Specialty>Touring</Specialty><SquareFeet>9000</SquareFeet><Brands>AW</Brands><Internet>DSL</Internet><NumberEmployees>2</NumberEmployees></StoreSurvey></td><td>2014-09-12</td><td>Vintage Sport Boutique</td><td>283</td><td>6d6e4980-1732-4c6f-9045-31c3e1c75abb</td></tr><tr><td>1890</td><td><StoreSurvey xmlns=\"http://schemas.microsoft.com/sqlserver/2004/07/adventure-works/StoreSurvey\"><AnnualSales>800000</AnnualSales><AnnualRevenue>80000</AnnualRevenue><BankName>United Security</BankName><BusinessType>BM</BusinessType><YearOpened>1997</YearOpened><Specialty>Mountain</Specialty><SquareFeet>18000</SquareFeet><Brands>4+</Brands><Internet>DSL</Internet><NumberEmployees>17</NumberEmployees></StoreSurvey></td><td>2014-09-12</td><td>Travel Sports</td><td>280</td><td>5e8bf52b-d5c7-49ab-bc10-ddced8cf5dda</td></tr><tr><td>1892</td><td><StoreSurvey xmlns=\"http://schemas.microsoft.com/sqlserver/2004/07/adventure-works/StoreSurvey\"><AnnualSales>800000</AnnualSales><AnnualRevenue>80000</AnnualRevenue><BankName>International Bank</BankName><BusinessType>BM</BusinessType><YearOpened>1975</YearOpened><Specialty>Touring</Specialty><SquareFeet>19000</SquareFeet><Brands>3</Brands><Internet>DSL</Internet><NumberEmployees>18</NumberEmployees></StoreSurvey></td><td>2014-09-12</td><td>West Side Mart</td><td>289</td><td>ac3c4acf-213f-4bcd-9778-dca173060cc0</td></tr><tr><td>1894</td><td><StoreSurvey xmlns=\"http://schemas.microsoft.com/sqlserver/2004/07/adventure-works/StoreSurvey\"><AnnualSales>800000</AnnualSales><AnnualRevenue>80000</AnnualRevenue><BankName>Primary Bank &amp; Reserve</BankName><BusinessType>BM</BusinessType><YearOpened>2000</YearOpened><Specialty>Touring</Specialty><SquareFeet>21000</SquareFeet><Brands>2</Brands><Internet>T1</Internet><NumberEmployees>19</NumberEmployees></StoreSurvey></td><td>2014-09-12</td><td>The Bike Outlet</td><td>290</td><td>9a11a00b-06e6-4e9b-a7d7-69fd4045f80e</td></tr><tr><td>1896</td><td><StoreSurvey xmlns=\"http://schemas.microsoft.com/sqlserver/2004/07/adventure-works/StoreSurvey\"><AnnualSales>800000</AnnualSales><AnnualRevenue>80000</AnnualRevenue><BankName>International Bank</BankName><BusinessType>BM</BusinessType><YearOpened>1994</YearOpened><Specialty>Road</Specialty><SquareFeet>23000</SquareFeet><Brands>4+</Brands><Internet>DSL</Internet><NumberEmployees>18</NumberEmployees></StoreSurvey></td><td>2014-09-12</td><td>Tenth Bike Store</td><td>282</td><td>66b28442-b5d7-4332-9ef2-e89221fdbb9b</td></tr><tr><td>1898</td><td><StoreSurvey xmlns=\"http://schemas.microsoft.com/sqlserver/2004/07/adventure-works/StoreSurvey\"><AnnualSales>800000</AnnualSales><AnnualRevenue>80000</AnnualRevenue><BankName>Primary Bank &amp; Reserve</BankName><BusinessType>BM</BusinessType><YearOpened>1988</YearOpened><Specialty>Mountain</Specialty><SquareFeet>20000</SquareFeet><Brands>2</Brands><Internet>DSL</Internet><NumberEmployees>16</NumberEmployees></StoreSurvey></td><td>2014-09-12</td><td>Valuable Bike Parts Company</td><td>279</td><td>3e4f1b95-2189-4ee2-a882-749a904b1dfa</td></tr><tr><td>1900</td><td><StoreSurvey xmlns=\"http://schemas.microsoft.com/sqlserver/2004/07/adventure-works/StoreSurvey\"><AnnualSales>800000</AnnualSales><AnnualRevenue>80000</AnnualRevenue><BankName>International Security</BankName><BusinessType>BM</BusinessType><YearOpened>1982</YearOpened><Specialty>Road</Specialty><SquareFeet>22000</SquareFeet><Brands>3</Brands><Internet>DSL</Internet><NumberEmployees>14</NumberEmployees></StoreSurvey></td><td>2014-09-12</td><td>Fun Times Club</td><td>281</td><td>2ae16c95-ed93-45e7-a3ab-3d4c60dfb9a9</td></tr><tr><td>1902</td><td><StoreSurvey xmlns=\"http://schemas.microsoft.com/sqlserver/2004/07/adventure-works/StoreSurvey\"><AnnualSales>800000</AnnualSales><AnnualRevenue>80000</AnnualRevenue><BankName>Guardian Bank</BankName><BusinessType>BM</BusinessType><YearOpened>1976</YearOpened><Specialty>Road</Specialty><SquareFeet>20000</SquareFeet><Brands>3</Brands><Internet>DSL</Internet><NumberEmployees>12</NumberEmployees></StoreSurvey></td><td>2014-09-12</td><td>Chain and Chain Tool Distributions</td><td>279</td><td>4034b966-97e9-42f1-a475-406339846dc5</td></tr><tr><td>1904</td><td><StoreSurvey xmlns=\"http://schemas.microsoft.com/sqlserver/2004/07/adventure-works/StoreSurvey\"><AnnualSales>800000</AnnualSales><AnnualRevenue>80000</AnnualRevenue><BankName>Primary International</BankName><BusinessType>BM</BusinessType><YearOpened>1970</YearOpened><Specialty>Road</Specialty><SquareFeet>17000</SquareFeet><Brands>2</Brands><Internet>T1</Internet><NumberEmployees>10</NumberEmployees></StoreSurvey></td><td>2014-09-12</td><td>Mobile Outlet</td><td>275</td><td>9acf0c46-95c0-40d3-b39e-44c548a7a8ab</td></tr><tr><td>1906</td><td><StoreSurvey xmlns=\"http://schemas.microsoft.com/sqlserver/2004/07/adventure-works/StoreSurvey\"><AnnualSales>300000</AnnualSales><AnnualRevenue>30000</AnnualRevenue><BankName>Reserve Security</BankName><BusinessType>BM</BusinessType><YearOpened>1975</YearOpened><Specialty>Road</Specialty><SquareFeet>10000</SquareFeet><Brands>2</Brands><Internet>DSL</Internet><NumberEmployees>8</NumberEmployees></StoreSurvey></td><td>2014-09-12</td><td>Regional Cycle Shop</td><td>288</td><td>793a1b41-4b83-416b-853c-fb190b79728c</td></tr><tr><td>1908</td><td><StoreSurvey xmlns=\"http://schemas.microsoft.com/sqlserver/2004/07/adventure-works/StoreSurvey\"><AnnualSales>300000</AnnualSales><AnnualRevenue>30000</AnnualRevenue><BankName>United Security</BankName><BusinessType>BM</BusinessType><YearOpened>1970</YearOpened><Specialty>Mountain</Specialty><SquareFeet>10000</SquareFeet><Brands>4+</Brands><Internet>DSL</Internet><NumberEmployees>6</NumberEmployees></StoreSurvey></td><td>2014-09-12</td><td>Rural Bicycle Supply</td><td>282</td><td>0f7aa600-6050-49ba-819d-30a7d3ab4b5b</td></tr><tr><td>1910</td><td><StoreSurvey xmlns=\"http://schemas.microsoft.com/sqlserver/2004/07/adventure-works/StoreSurvey\"><AnnualSales>800000</AnnualSales><AnnualRevenue>80000</AnnualRevenue><BankName>International Bank</BankName><BusinessType>BM</BusinessType><YearOpened>1999</YearOpened><Specialty>Mountain</Specialty><SquareFeet>20000</SquareFeet><Brands>3</Brands><Internet>T1</Internet><NumberEmployees>15</NumberEmployees></StoreSurvey></td><td>2014-09-12</td><td>Wingtip Toys</td><td>283</td><td>23f57be6-5b8b-447b-ae0d-3a161c09a0ac</td></tr><tr><td>1912</td><td><StoreSurvey xmlns=\"http://schemas.microsoft.com/sqlserver/2004/07/adventure-works/StoreSurvey\"><AnnualSales>800000</AnnualSales><AnnualRevenue>80000</AnnualRevenue><BankName>Primary Bank &amp; Reserve</BankName><BusinessType>BM</BusinessType><YearOpened>1994</YearOpened><Specialty>Mountain</Specialty><SquareFeet>22000</SquareFeet><Brands>3</Brands><Internet>T1</Internet><NumberEmployees>16</NumberEmployees></StoreSurvey></td><td>2014-09-12</td><td>The Cycle Store</td><td>275</td><td>3fce0ef1-27ca-48ee-9339-3523648400d1</td></tr><tr><td>1914</td><td><StoreSurvey xmlns=\"http://schemas.microsoft.com/sqlserver/2004/07/adventure-works/StoreSurvey\"><AnnualSales>800000</AnnualSales><AnnualRevenue>80000</AnnualRevenue><BankName>International Security</BankName><BusinessType>BM</BusinessType><YearOpened>1987</YearOpened><Specialty>Touring</Specialty><SquareFeet>19000</SquareFeet><Brands>2</Brands><Internet>DSL</Internet><NumberEmployees>17</NumberEmployees></StoreSurvey></td><td>2014-09-12</td><td>Educational Services</td><td>288</td><td>74b0c415-ae1e-4fd1-985b-a62f7c378632</td></tr><tr><td>1916</td><td><StoreSurvey xmlns=\"http://schemas.microsoft.com/sqlserver/2004/07/adventure-works/StoreSurvey\"><AnnualSales>800000</AnnualSales><AnnualRevenue>80000</AnnualRevenue><BankName>Guardian Bank</BankName><BusinessType>BM</BusinessType><YearOpened>1997</YearOpened><Specialty>Road</Specialty><SquareFeet>20000</SquareFeet><Brands>4+</Brands><Internet>T1</Internet><NumberEmployees>18</NumberEmployees></StoreSurvey></td><td>2014-09-12</td><td>Active Life Toys</td><td>282</td><td>0893dd3b-bd98-4820-aae6-ed7f8562d210</td></tr><tr><td>1918</td><td><StoreSurvey xmlns=\"http://schemas.microsoft.com/sqlserver/2004/07/adventure-works/StoreSurvey\"><AnnualSales>800000</AnnualSales><AnnualRevenue>80000</AnnualRevenue><BankName>Primary International</BankName><BusinessType>BM</BusinessType><YearOpened>1975</YearOpened><Specialty>Road</Specialty><SquareFeet>21000</SquareFeet><Brands>4+</Brands><Internet>DSL</Internet><NumberEmployees>19</NumberEmployees></StoreSurvey></td><td>2014-09-12</td><td>Simple Bike Parts</td><td>279</td><td>608d52aa-1d0d-4d5d-a0a0-47f9977af2af</td></tr><tr><td>1920</td><td><StoreSurvey xmlns=\"http://schemas.microsoft.com/sqlserver/2004/07/adventure-works/StoreSurvey\"><AnnualSales>1000000</AnnualSales><AnnualRevenue>100000</AnnualRevenue><BankName>Reserve Security</BankName><BusinessType>BM</BusinessType><YearOpened>2000</YearOpened><Specialty>Mountain</Specialty><SquareFeet>24000</SquareFeet><Brands>2</Brands><Internet>T1</Internet><NumberEmployees>20</NumberEmployees></StoreSurvey></td><td>2014-09-12</td><td>Timely Shipping Service</td><td>281</td><td>5b92790f-aa8b-4f60-8dc8-bc45bf25e4a6</td></tr><tr><td>1922</td><td><StoreSurvey xmlns=\"http://schemas.microsoft.com/sqlserver/2004/07/adventure-works/StoreSurvey\"><AnnualSales>800000</AnnualSales><AnnualRevenue>80000</AnnualRevenue><BankName>United Security</BankName><BusinessType>BM</BusinessType><YearOpened>2000</YearOpened><Specialty>Touring</Specialty><SquareFeet>22000</SquareFeet><Brands>3</Brands><Internet>T2</Internet><NumberEmployees>17</NumberEmployees></StoreSurvey></td><td>2014-09-12</td><td>A Cycle Shop</td><td>283</td><td>d2a3db53-0901-4322-a7af-1cc77a7b1778</td></tr><tr><td>1924</td><td><StoreSurvey xmlns=\"http://schemas.microsoft.com/sqlserver/2004/07/adventure-works/StoreSurvey\"><AnnualSales>800000</AnnualSales><AnnualRevenue>80000</AnnualRevenue><BankName>International Bank</BankName><BusinessType>BM</BusinessType><YearOpened>1994</YearOpened><Specialty>Mountain</Specialty><SquareFeet>19000</SquareFeet><Brands>AW</Brands><Internet>T2</Internet><NumberEmployees>14</NumberEmployees></StoreSurvey></td><td>2014-09-12</td><td>Bike Products and Accessories</td><td>275</td><td>7fb517f3-ecee-4451-9563-c95665a0b777</td></tr><tr><td>1926</td><td><StoreSurvey xmlns=\"http://schemas.microsoft.com/sqlserver/2004/07/adventure-works/StoreSurvey\"><AnnualSales>800000</AnnualSales><AnnualRevenue>80000</AnnualRevenue><BankName>Primary Bank &amp; Reserve</BankName><BusinessType>BM</BusinessType><YearOpened>1988</YearOpened><Specialty>Touring</Specialty><SquareFeet>21000</SquareFeet><Brands>2</Brands><Internet>T1</Internet><NumberEmployees>11</NumberEmployees></StoreSurvey></td><td>2014-09-12</td><td>Fitness Toys</td><td>288</td><td>70cbfdc4-a8fe-4bdd-9571-8fc617bdfcb7</td></tr><tr><td>1928</td><td><StoreSurvey xmlns=\"http://schemas.microsoft.com/sqlserver/2004/07/adventure-works/StoreSurvey\"><AnnualSales>300000</AnnualSales><AnnualRevenue>30000</AnnualRevenue><BankName>International Security</BankName><BusinessType>BM</BusinessType><YearOpened>1984</YearOpened><Specialty>Touring</Specialty><SquareFeet>7000</SquareFeet><Brands>4+</Brands><Internet>DSL</Internet><NumberEmployees>5</NumberEmployees></StoreSurvey></td><td>2014-09-12</td><td>Quick Parts and Service</td><td>278</td><td>638dfc4e-0c69-4538-8da8-7e82b1b7a9ce</td></tr><tr><td>1930</td><td><StoreSurvey xmlns=\"http://schemas.microsoft.com/sqlserver/2004/07/adventure-works/StoreSurvey\"><AnnualSales>300000</AnnualSales><AnnualRevenue>30000</AnnualRevenue><BankName>Guardian Bank</BankName><BusinessType>BM</BusinessType><YearOpened>1979</YearOpened><Specialty>Mountain</Specialty><SquareFeet>7000</SquareFeet><Brands>3</Brands><Internet>DSL</Internet><NumberEmployees>6</NumberEmployees></StoreSurvey></td><td>2014-09-12</td><td>Reliable Brake Systems</td><td>279</td><td>e33ad5ac-f5ce-4070-bbf0-5f9d3d5dbefb</td></tr><tr><td>1932</td><td><StoreSurvey xmlns=\"http://schemas.microsoft.com/sqlserver/2004/07/adventure-works/StoreSurvey\"><AnnualSales>300000</AnnualSales><AnnualRevenue>30000</AnnualRevenue><BankName>Primary International</BankName><BusinessType>BM</BusinessType><YearOpened>1987</YearOpened><Specialty>Road</Specialty><SquareFeet>8000</SquareFeet><Brands>2</Brands><Internet>DSL</Internet><NumberEmployees>7</NumberEmployees></StoreSurvey></td><td>2014-09-12</td><td>Thrifty Parts and Sales</td><td>276</td><td>b8862d14-e834-48e6-b0a6-643eb0b7900b</td></tr><tr><td>1934</td><td><StoreSurvey xmlns=\"http://schemas.microsoft.com/sqlserver/2004/07/adventure-works/StoreSurvey\"><AnnualSales>300000</AnnualSales><AnnualRevenue>30000</AnnualRevenue><BankName>Reserve Security</BankName><BusinessType>BM</BusinessType><YearOpened>1982</YearOpened><Specialty>Road</Specialty><SquareFeet>8000</SquareFeet><Brands>AW</Brands><Internet>T1</Internet><NumberEmployees>8</NumberEmployees></StoreSurvey></td><td>2014-09-12</td><td>A Typical Bike Shop</td><td>277</td><td>68147f2d-51db-4ef8-8909-4d5951f18d0c</td></tr><tr><td>1936</td><td><StoreSurvey xmlns=\"http://schemas.microsoft.com/sqlserver/2004/07/adventure-works/StoreSurvey\"><AnnualSales>300000</AnnualSales><AnnualRevenue>30000</AnnualRevenue><BankName>United Security</BankName><BusinessType>BM</BusinessType><YearOpened>1990</YearOpened><Specialty>Road</Specialty><SquareFeet>8000</SquareFeet><Brands>AW</Brands><Internet>T2</Internet><NumberEmployees>9</NumberEmployees></StoreSurvey></td><td>2014-09-12</td><td>Active Transport Inc.</td><td>275</td><td>08ace001-1d14-4fc9-ae2d-bc20edb2f9dc</td></tr><tr><td>1938</td><td><StoreSurvey xmlns=\"http://schemas.microsoft.com/sqlserver/2004/07/adventure-works/StoreSurvey\"><AnnualSales>800000</AnnualSales><AnnualRevenue>80000</AnnualRevenue><BankName>International Bank</BankName><BusinessType>BM</BusinessType><YearOpened>1985</YearOpened><Specialty>Touring</Specialty><SquareFeet>20000</SquareFeet><Brands>3</Brands><Internet>T2</Internet><NumberEmployees>10</NumberEmployees></StoreSurvey></td><td>2014-09-12</td><td>Cycle Parts and Accessories</td><td>286</td><td>f2bbf7e1-a7eb-4966-bc17-64288e4568f6</td></tr><tr><td>1940</td><td><StoreSurvey xmlns=\"http://schemas.microsoft.com/sqlserver/2004/07/adventure-works/StoreSurvey\"><AnnualSales>800000</AnnualSales><AnnualRevenue>80000</AnnualRevenue><BankName>Primary Bank &amp; Reserve</BankName><BusinessType>BM</BusinessType><YearOpened>1993</YearOpened><Specialty>Touring</Specialty><SquareFeet>18000</SquareFeet><Brands>4+</Brands><Internet>DSL</Internet><NumberEmployees>11</NumberEmployees></StoreSurvey></td><td>2014-09-12</td><td>Fasteners & Bolts Outlet</td><td>278</td><td>42ebcb9e-a948-46ad-b1e9-1ce6b3586670</td></tr><tr><td>1942</td><td><StoreSurvey xmlns=\"http://schemas.microsoft.com/sqlserver/2004/07/adventure-works/StoreSurvey\"><AnnualSales>800000</AnnualSales><AnnualRevenue>80000</AnnualRevenue><BankName>International Security</BankName><BusinessType>BM</BusinessType><YearOpened>1988</YearOpened><Specialty>Mountain</Specialty><SquareFeet>19000</SquareFeet><Brands>3</Brands><Internet>DSL</Internet><NumberEmployees>12</NumberEmployees></StoreSurvey></td><td>2014-09-12</td><td>Functional Store North</td><td>279</td><td>33313e49-4158-4e04-acb3-9f6407b0eb02</td></tr><tr><td>1944</td><td><StoreSurvey xmlns=\"http://schemas.microsoft.com/sqlserver/2004/07/adventure-works/StoreSurvey\"><AnnualSales>800000</AnnualSales><AnnualRevenue>80000</AnnualRevenue><BankName>Guardian Bank</BankName><BusinessType>BM</BusinessType><YearOpened>1996</YearOpened><Specialty>Road</Specialty><SquareFeet>19000</SquareFeet><Brands>3</Brands><Internet>DSL</Internet><NumberEmployees>13</NumberEmployees></StoreSurvey></td><td>2014-09-12</td><td>Quantity Discounts</td><td>276</td><td>7c2547ec-e661-4c36-bb47-51f57ac3dbc4</td></tr><tr><td>1946</td><td><StoreSurvey xmlns=\"http://schemas.microsoft.com/sqlserver/2004/07/adventure-works/StoreSurvey\"><AnnualSales>800000</AnnualSales><AnnualRevenue>80000</AnnualRevenue><BankName>Primary International</BankName><BusinessType>BM</BusinessType><YearOpened>1991</YearOpened><Specialty>Road</Specialty><SquareFeet>22000</SquareFeet><Brands>3</Brands><Internet>ISDN</Internet><NumberEmployees>14</NumberEmployees></StoreSurvey></td><td>2014-09-12</td><td>Swift Cycles</td><td>277</td><td>c05a6203-36f7-4be4-92e6-e7cf57b838c3</td></tr><tr><td>1948</td><td><StoreSurvey xmlns=\"http://schemas.microsoft.com/sqlserver/2004/07/adventure-works/StoreSurvey\"><AnnualSales>800000</AnnualSales><AnnualRevenue>80000</AnnualRevenue><BankName>Reserve Security</BankName><BusinessType>BM</BusinessType><YearOpened>1999</YearOpened><Specialty>Mountain</Specialty><SquareFeet>22000</SquareFeet><Brands>2</Brands><Internet>DSL</Internet><NumberEmployees>15</NumberEmployees></StoreSurvey></td><td>2014-09-12</td><td>Classic Cycle Store</td><td>275</td><td>966674c7-2048-4d9e-8a92-138e9b09030d</td></tr><tr><td>1950</td><td><StoreSurvey xmlns=\"http://schemas.microsoft.com/sqlserver/2004/07/adventure-works/StoreSurvey\"><AnnualSales>800000</AnnualSales><AnnualRevenue>80000</AnnualRevenue><BankName>United Security</BankName><BusinessType>BM</BusinessType><YearOpened>1994</YearOpened><Specialty>Touring</Specialty><SquareFeet>19000</SquareFeet><Brands>4+</Brands><Internet>DSL</Internet><NumberEmployees>16</NumberEmployees></StoreSurvey></td><td>2014-09-12</td><td>Helpful Sales and Repair Service </td><td>286</td><td>5b578c14-dcd2-4fa6-a64d-4f87f843722c</td></tr><tr><td>1952</td><td><StoreSurvey xmlns=\"http://schemas.microsoft.com/sqlserver/2004/07/adventure-works/StoreSurvey\"><AnnualSales>800000</AnnualSales><AnnualRevenue>80000</AnnualRevenue><BankName>International Bank</BankName><BusinessType>BM</BusinessType><YearOpened>1987</YearOpened><Specialty>Mountain</Specialty><SquareFeet>19000</SquareFeet><Brands>4+</Brands><Internet>T1</Internet><NumberEmployees>17</NumberEmployees></StoreSurvey></td><td>2014-09-12</td><td>Large Bike Shop</td><td>278</td><td>8b1e2f28-a97f-4b3e-9130-ac855b3f8a42</td></tr><tr><td>1954</td><td><StoreSurvey xmlns=\"http://schemas.microsoft.com/sqlserver/2004/07/adventure-works/StoreSurvey\"><AnnualSales>800000</AnnualSales><AnnualRevenue>80000</AnnualRevenue><BankName>Primary Bank &amp; Reserve</BankName><BusinessType>BM</BusinessType><YearOpened>1997</YearOpened><Specialty>Mountain</Specialty><SquareFeet>22000</SquareFeet><Brands>3</Brands><Internet>DSL</Internet><NumberEmployees>18</NumberEmployees></StoreSurvey></td><td>2014-09-12</td><td>Recreation Supplies</td><td>279</td><td>00e69db8-5933-4f61-a963-7808c4baf0c5</td></tr><tr><td>1956</td><td><StoreSurvey xmlns=\"http://schemas.microsoft.com/sqlserver/2004/07/adventure-works/StoreSurvey\"><AnnualSales>800000</AnnualSales><AnnualRevenue>80000</AnnualRevenue><BankName>International Security</BankName><BusinessType>BM</BusinessType><YearOpened>1975</YearOpened><Specialty>Road</Specialty><SquareFeet>19000</SquareFeet><Brands>4+</Brands><Internet>DSL</Internet><NumberEmployees>19</NumberEmployees></StoreSurvey></td><td>2014-09-12</td><td>Wire Baskets and Parts</td><td>276</td><td>d8dca6ad-2529-469d-bb71-314f7a177e65</td></tr><tr><td>1958</td><td><StoreSurvey xmlns=\"http://schemas.microsoft.com/sqlserver/2004/07/adventure-works/StoreSurvey\"><AnnualSales>3000000</AnnualSales><AnnualRevenue>300000</AnnualRevenue><BankName>International Security</BankName><BusinessType>OS</BusinessType><YearOpened>1974</YearOpened><Specialty>Mountain</Specialty><SquareFeet>78000</SquareFeet><Brands>2</Brands><Internet>T1</Internet><NumberEmployees>94</NumberEmployees></StoreSurvey></td><td>2014-09-12</td><td>Ultimate Bicycle Company</td><td>290</td><td>304c84b4-89a5-4b0f-8bbd-461e8c70c13c</td></tr><tr><td>1960</td><td><StoreSurvey xmlns=\"http://schemas.microsoft.com/sqlserver/2004/07/adventure-works/StoreSurvey\"><AnnualSales>3000000</AnnualSales><AnnualRevenue>300000</AnnualRevenue><BankName>Primary Bank &amp; Reserve</BankName><BusinessType>OS</BusinessType><YearOpened>1980</YearOpened><Specialty>Mountain</Specialty><SquareFeet>76000</SquareFeet><Brands>3</Brands><Internet>DSL</Internet><NumberEmployees>95</NumberEmployees></StoreSurvey></td><td>2014-09-12</td><td>Sports Store</td><td>289</td><td>ff449303-a956-4800-ad4c-a7892235679c</td></tr><tr><td>1962</td><td><StoreSurvey xmlns=\"http://schemas.microsoft.com/sqlserver/2004/07/adventure-works/StoreSurvey\"><AnnualSales>3000000</AnnualSales><AnnualRevenue>300000</AnnualRevenue><BankName>International Bank</BankName><BusinessType>OS</BusinessType><YearOpened>1986</YearOpened><Specialty>Road</Specialty><SquareFeet>78000</SquareFeet><Brands>2</Brands><Internet>DSL</Internet><NumberEmployees>96</NumberEmployees></StoreSurvey></td><td>2014-09-12</td><td>Metropolitan Equipment</td><td>290</td><td>32618f97-57c6-454a-a594-172076b0f52c</td></tr><tr><td>1964</td><td><StoreSurvey xmlns=\"http://schemas.microsoft.com/sqlserver/2004/07/adventure-works/StoreSurvey\"><AnnualSales>3000000</AnnualSales><AnnualRevenue>300000</AnnualRevenue><BankName>United Security</BankName><BusinessType>OS</BusinessType><YearOpened>1992</YearOpened><Specialty>Road</Specialty><SquareFeet>78000</SquareFeet><Brands>4+</Brands><Internet>T1</Internet><NumberEmployees>97</NumberEmployees></StoreSurvey></td><td>2014-09-12</td><td>Extended Tours</td><td>289</td><td>993c0120-5e56-4ab8-9e1b-bf71be3b7faa</td></tr><tr><td>1966</td><td><StoreSurvey xmlns=\"http://schemas.microsoft.com/sqlserver/2004/07/adventure-works/StoreSurvey\"><AnnualSales>3000000</AnnualSales><AnnualRevenue>300000</AnnualRevenue><BankName>Reserve Security</BankName><BusinessType>OS</BusinessType><YearOpened>1998</YearOpened><Specialty>Road</Specialty><SquareFeet>77000</SquareFeet><Brands>4+</Brands><Internet>T1</Internet><NumberEmployees>98</NumberEmployees></StoreSurvey></td><td>2014-09-12</td><td>Convenient Sales and Service</td><td>280</td><td>4a396e48-e3ff-4115-a0c6-51847e75adcf</td></tr><tr><td>1968</td><td><StoreSurvey xmlns=\"http://schemas.microsoft.com/sqlserver/2004/07/adventure-works/StoreSurvey\"><AnnualSales>3000000</AnnualSales><AnnualRevenue>300000</AnnualRevenue><BankName>Primary International</BankName><BusinessType>OS</BusinessType><YearOpened>1999</YearOpened><Specialty>Road</Specialty><SquareFeet>77000</SquareFeet><Brands>4+</Brands><Internet>DSL</Internet><NumberEmployees>99</NumberEmployees></StoreSurvey></td><td>2014-09-12</td><td>Solid Bike Parts</td><td>277</td><td>5e7cb5e1-6651-49e6-a5cf-edf584f7ec92</td></tr><tr><td>1970</td><td><StoreSurvey xmlns=\"http://schemas.microsoft.com/sqlserver/2004/07/adventure-works/StoreSurvey\"><AnnualSales>3000000</AnnualSales><AnnualRevenue>300000</AnnualRevenue><BankName>Guardian Bank</BankName><BusinessType>OS</BusinessType><YearOpened>1999</YearOpened><Specialty>Mountain</Specialty><SquareFeet>79000</SquareFeet><Brands>4+</Brands><Internet>DSL</Internet><NumberEmployees>100</NumberEmployees></StoreSurvey></td><td>2014-09-12</td><td>Permanent Finish Products</td><td>281</td><td>7c270785-2478-4e43-9681-ec76000f4881</td></tr><tr><td>1972</td><td><StoreSurvey xmlns=\"http://schemas.microsoft.com/sqlserver/2004/07/adventure-works/StoreSurvey\"><AnnualSales>3000000</AnnualSales><AnnualRevenue>300000</AnnualRevenue><BankName>International Security</BankName><BusinessType>OS</BusinessType><YearOpened>1979</YearOpened><Specialty>Mountain</Specialty><SquareFeet>71000</SquareFeet><Brands>4+</Brands><Internet>T1</Internet><NumberEmployees>66</NumberEmployees></StoreSurvey></td><td>2014-09-12</td><td>Mercantile Outlet</td><td>282</td><td>27758a68-359b-4ea6-8689-5cb8b4a5f489</td></tr><tr><td>1974</td><td><StoreSurvey xmlns=\"http://schemas.microsoft.com/sqlserver/2004/07/adventure-works/StoreSurvey\"><AnnualSales>1500000</AnnualSales><AnnualRevenue>150000</AnnualRevenue><BankName>Guardian Bank</BankName><BusinessType>OS</BusinessType><YearOpened>1974</YearOpened><Specialty>Mountain</Specialty><SquareFeet>39000</SquareFeet><Brands>2</Brands><Internet>DSL</Internet><NumberEmployees>40</NumberEmployees></StoreSurvey></td><td>2014-09-12</td><td>Links Works</td><td>288</td><td>6870f695-e4e4-453f-8ecc-0c1cb1c09a14</td></tr><tr><td>1976</td><td><StoreSurvey xmlns=\"http://schemas.microsoft.com/sqlserver/2004/07/adventure-works/StoreSurvey\"><AnnualSales>1500000</AnnualSales><AnnualRevenue>150000</AnnualRevenue><BankName>International Security</BankName><BusinessType>OS</BusinessType><YearOpened>1980</YearOpened><Specialty>Road</Specialty><SquareFeet>40000</SquareFeet><Brands>3</Brands><Internet>T2</Internet><NumberEmployees>43</NumberEmployees></StoreSurvey></td><td>2014-09-12</td><td>Exhilarating Cycles</td><td>275</td><td>38f8bb38-28b7-42ef-a1ef-c66d247ecb59</td></tr><tr><td>1978</td><td><StoreSurvey xmlns=\"http://schemas.microsoft.com/sqlserver/2004/07/adventure-works/StoreSurvey\"><AnnualSales>800000</AnnualSales><AnnualRevenue>80000</AnnualRevenue><BankName>Guardian Bank</BankName><BusinessType>BM</BusinessType><YearOpened>1975</YearOpened><Specialty>Mountain</Specialty><SquareFeet>23000</SquareFeet><Brands>2</Brands><Internet>T1</Internet><NumberEmployees>19</NumberEmployees></StoreSurvey></td><td>2014-09-12</td><td>Exercise Center</td><td>281</td><td>7f509b53-0c05-4d57-9596-6701191190da</td></tr><tr><td>1980</td><td><StoreSurvey xmlns=\"http://schemas.microsoft.com/sqlserver/2004/07/adventure-works/StoreSurvey\"><AnnualSales>1000000</AnnualSales><AnnualRevenue>100000</AnnualRevenue><BankName>Primary International</BankName><BusinessType>BM</BusinessType><YearOpened>2000</YearOpened><Specialty>Mountain</Specialty><SquareFeet>27000</SquareFeet><Brands>4+</Brands><Internet>T1</Internet><NumberEmployees>20</NumberEmployees></StoreSurvey></td><td>2014-09-12</td><td>Great Bicycle Supply</td><td>277</td><td>dca3fda7-7276-45cf-a3ff-74eae11f6798</td></tr><tr><td>1982</td><td><StoreSurvey xmlns=\"http://schemas.microsoft.com/sqlserver/2004/07/adventure-works/StoreSurvey\"><AnnualSales>800000</AnnualSales><AnnualRevenue>80000</AnnualRevenue><BankName>Reserve Security</BankName><BusinessType>BM</BusinessType><YearOpened>2000</YearOpened><Specialty>Road</Specialty><SquareFeet>18000</SquareFeet><Brands>4+</Brands><Internet>T1</Internet><NumberEmployees>17</NumberEmployees></StoreSurvey></td><td>2014-09-12</td><td>Mail-Order Outlet</td><td>280</td><td>a6644d71-94f1-4964-b258-9be80889f5df</td></tr><tr><td>1984</td><td><StoreSurvey xmlns=\"http://schemas.microsoft.com/sqlserver/2004/07/adventure-works/StoreSurvey\"><AnnualSales>800000</AnnualSales><AnnualRevenue>80000</AnnualRevenue><BankName>United Security</BankName><BusinessType>BM</BusinessType><YearOpened>1994</YearOpened><Specialty>Mountain</Specialty><SquareFeet>20000</SquareFeet><Brands>2</Brands><Internet>T1</Internet><NumberEmployees>14</NumberEmployees></StoreSurvey></td><td>2014-09-12</td><td>Nearby Cycle Shop</td><td>289</td><td>a0670332-e61e-4ad6-8233-76a3dbbd514a</td></tr><tr><td>1986</td><td><StoreSurvey xmlns=\"http://schemas.microsoft.com/sqlserver/2004/07/adventure-works/StoreSurvey\"><AnnualSales>800000</AnnualSales><AnnualRevenue>80000</AnnualRevenue><BankName>International Bank</BankName><BusinessType>BM</BusinessType><YearOpened>1988</YearOpened><Specialty>Mountain</Specialty><SquareFeet>17000</SquareFeet><Brands>3</Brands><Internet>T1</Internet><NumberEmployees>11</NumberEmployees></StoreSurvey></td><td>2014-09-12</td><td>Recreation Toy Store</td><td>290</td><td>77a34c42-6d04-406a-8dec-7928a48520ee</td></tr><tr><td>1988</td><td><StoreSurvey xmlns=\"http://schemas.microsoft.com/sqlserver/2004/07/adventure-works/StoreSurvey\"><AnnualSales>300000</AnnualSales><AnnualRevenue>30000</AnnualRevenue><BankName>Primary Bank &amp; Reserve</BankName><BusinessType>BM</BusinessType><YearOpened>1982</YearOpened><Specialty>Road</Specialty><SquareFeet>7000</SquareFeet><Brands>4+</Brands><Internet>T2</Internet><NumberEmployees>8</NumberEmployees></StoreSurvey></td><td>2014-09-12</td><td>Retreat Inn</td><td>282</td><td>ea21ec81-1bfa-4a07-9b4d-73d9852afcbf</td></tr><tr><td>1990</td><td><StoreSurvey xmlns=\"http://schemas.microsoft.com/sqlserver/2004/07/adventure-works/StoreSurvey\"><AnnualSales>300000</AnnualSales><AnnualRevenue>30000</AnnualRevenue><BankName>International Security</BankName><BusinessType>BM</BusinessType><YearOpened>1976</YearOpened><Specialty>Touring</Specialty><SquareFeet>7000</SquareFeet><Brands>4+</Brands><Internet>T1</Internet><NumberEmployees>5</NumberEmployees></StoreSurvey></td><td>2014-09-12</td><td>Technical Parts Manufacturing</td><td>281</td><td>c8e3c4ed-8f58-4db2-b600-e0cd11d9cfad</td></tr><tr><td>1992</td><td><StoreSurvey xmlns=\"http://schemas.microsoft.com/sqlserver/2004/07/adventure-works/StoreSurvey\"><AnnualSales>300000</AnnualSales><AnnualRevenue>30000</AnnualRevenue><BankName>Guardian Bank</BankName><BusinessType>BM</BusinessType><YearOpened>1970</YearOpened><Specialty>Road</Specialty><SquareFeet>6000</SquareFeet><Brands>4+</Brands><Internet>DSL</Internet><NumberEmployees>2</NumberEmployees></StoreSurvey></td><td>2014-09-12</td><td>Totes & Baskets Company</td><td>277</td><td>ce860b58-643c-4567-bfd8-06e97969cc67</td></tr><tr><td>1994</td><td><StoreSurvey xmlns=\"http://schemas.microsoft.com/sqlserver/2004/07/adventure-works/StoreSurvey\"><AnnualSales>800000</AnnualSales><AnnualRevenue>80000</AnnualRevenue><BankName>Primary Bank &amp; Reserve</BankName><BusinessType>BM</BusinessType><YearOpened>1997</YearOpened><Specialty>Mountain</Specialty><SquareFeet>19000</SquareFeet><Brands>4+</Brands><Internet>T1</Internet><NumberEmployees>17</NumberEmployees></StoreSurvey></td><td>2014-09-12</td><td>World of Bikes</td><td>277</td><td>0c10f2b6-a13a-440c-9c25-5b28d482872a</td></tr><tr><td>2051</td><td><StoreSurvey xmlns=\"http://schemas.microsoft.com/sqlserver/2004/07/adventure-works/StoreSurvey\"><AnnualSales>800000</AnnualSales><AnnualRevenue>80000</AnnualRevenue><BankName>International Security</BankName><BusinessType>BM</BusinessType><YearOpened>1975</YearOpened><Specialty>Touring</Specialty><SquareFeet>19000</SquareFeet><Brands>2</Brands><Internet>T1</Internet><NumberEmployees>18</NumberEmployees></StoreSurvey></td><td>2014-09-12</td><td>A Bicycle Association</td><td>275</td><td>82237172-d3fe-4a95-82ef-636f655240ad</td></tr></tbody></table></div>"
      ]
     },
     "metadata": {
      "application/vnd.databricks.v1+output": {
       "addedWidgets": {},
       "aggData": [],
       "aggError": "",
       "aggOverflow": false,
       "aggSchema": [],
       "aggSeriesLimitReached": false,
       "aggType": "",
       "arguments": {},
       "columnCustomDisplayInfos": {},
       "data": [
        [
         292,
         "<StoreSurvey xmlns=\"http://schemas.microsoft.com/sqlserver/2004/07/adventure-works/StoreSurvey\"><AnnualSales>800000</AnnualSales><AnnualRevenue>80000</AnnualRevenue><BankName>United Security</BankName><BusinessType>BM</BusinessType><YearOpened>1996</YearOpened><Specialty>Mountain</Specialty><SquareFeet>21000</SquareFeet><Brands>2</Brands><Internet>ISDN</Internet><NumberEmployees>13</NumberEmployees></StoreSurvey>",
         "2014-09-12",
         "Next-Door Bike Store",
         279,
         "a22517e3-848d-4ebe-b9d9-7437f3432304"
        ],
        [
         294,
         "<StoreSurvey xmlns=\"http://schemas.microsoft.com/sqlserver/2004/07/adventure-works/StoreSurvey\"><AnnualSales>800000</AnnualSales><AnnualRevenue>80000</AnnualRevenue><BankName>International Bank</BankName><BusinessType>BM</BusinessType><YearOpened>1991</YearOpened><Specialty>Touring</Specialty><SquareFeet>18000</SquareFeet><Brands>4+</Brands><Internet>T1</Internet><NumberEmployees>14</NumberEmployees></StoreSurvey>",
         "2014-09-12",
         "Professional Sales and Service",
         276,
         "b50ca50b-c601-4a13-b07e-2c63862d71b4"
        ],
        [
         296,
         "<StoreSurvey xmlns=\"http://schemas.microsoft.com/sqlserver/2004/07/adventure-works/StoreSurvey\"><AnnualSales>800000</AnnualSales><AnnualRevenue>80000</AnnualRevenue><BankName>Primary Bank &amp; Reserve</BankName><BusinessType>BM</BusinessType><YearOpened>1999</YearOpened><Specialty>Road</Specialty><SquareFeet>21000</SquareFeet><Brands>2</Brands><Internet>DSL</Internet><NumberEmployees>15</NumberEmployees></StoreSurvey>",
         "2014-09-12",
         "Riders Company",
         277,
         "337c3688-1339-4e1a-a08a-b54b23566e49"
        ],
        [
         298,
         "<StoreSurvey xmlns=\"http://schemas.microsoft.com/sqlserver/2004/07/adventure-works/StoreSurvey\"><AnnualSales>800000</AnnualSales><AnnualRevenue>80000</AnnualRevenue><BankName>International Security</BankName><BusinessType>BM</BusinessType><YearOpened>1994</YearOpened><Specialty>Mountain</Specialty><SquareFeet>18000</SquareFeet><Brands>2</Brands><Internet>DSL</Internet><NumberEmployees>16</NumberEmployees></StoreSurvey>",
         "2014-09-12",
         "The Bike Mechanics",
         275,
         "7894f278-f0c8-4d16-bd75-213fdbf13023"
        ],
        [
         300,
         "<StoreSurvey xmlns=\"http://schemas.microsoft.com/sqlserver/2004/07/adventure-works/StoreSurvey\"><AnnualSales>800000</AnnualSales><AnnualRevenue>80000</AnnualRevenue><BankName>Guardian Bank</BankName><BusinessType>BM</BusinessType><YearOpened>1987</YearOpened><Specialty>Touring</Specialty><SquareFeet>21000</SquareFeet><Brands>4+</Brands><Internet>DSL</Internet><NumberEmployees>17</NumberEmployees></StoreSurvey>",
         "2014-09-12",
         "Nationwide Supply",
         286,
         "c3fc9705-a8c4-4f3a-9550-eb2fa4b7b64d"
        ],
        [
         302,
         "<StoreSurvey xmlns=\"http://schemas.microsoft.com/sqlserver/2004/07/adventure-works/StoreSurvey\"><AnnualSales>300000</AnnualSales><AnnualRevenue>30000</AnnualRevenue><BankName>International Bank</BankName><BusinessType>BM</BusinessType><YearOpened>1982</YearOpened><Specialty>Road</Specialty><SquareFeet>9000</SquareFeet><Brands>AW</Brands><Internet>T2</Internet><NumberEmployees>8</NumberEmployees></StoreSurvey>",
         "2014-09-12",
         "Area Bike Accessories",
         281,
         "368be6dd-30e5-49bb-9a86-71fd49c58f4e"
        ],
        [
         304,
         "<StoreSurvey xmlns=\"http://schemas.microsoft.com/sqlserver/2004/07/adventure-works/StoreSurvey\"><AnnualSales>300000</AnnualSales><AnnualRevenue>30000</AnnualRevenue><BankName>Primary Bank &amp; Reserve</BankName><BusinessType>BM</BusinessType><YearOpened>1990</YearOpened><Specialty>Mountain</Specialty><SquareFeet>7000</SquareFeet><Brands>AW</Brands><Internet>T1</Internet><NumberEmployees>9</NumberEmployees></StoreSurvey>",
         "2014-09-12",
         "Bicycle Accessories and Kits",
         283,
         "35f40636-5105-49d5-869e-27e231189150"
        ],
        [
         306,
         "<StoreSurvey xmlns=\"http://schemas.microsoft.com/sqlserver/2004/07/adventure-works/StoreSurvey\"><AnnualSales>800000</AnnualSales><AnnualRevenue>80000</AnnualRevenue><BankName>International Security</BankName><BusinessType>BM</BusinessType><YearOpened>1985</YearOpened><Specialty>Mountain</Specialty><SquareFeet>17000</SquareFeet><Brands>4+</Brands><Internet>DSL</Internet><NumberEmployees>10</NumberEmployees></StoreSurvey>",
         "2014-09-12",
         "Clamps & Brackets Co.",
         275,
         "64d06bfc-d060-405c-8c60-c067fe7c67df"
        ],
        [
         308,
         "<StoreSurvey xmlns=\"http://schemas.microsoft.com/sqlserver/2004/07/adventure-works/StoreSurvey\"><AnnualSales>3000000</AnnualSales><AnnualRevenue>300000</AnnualRevenue><BankName>Primary Bank &amp; Reserve</BankName><BusinessType>OS</BusinessType><YearOpened>1979</YearOpened><Specialty>Mountain</Specialty><SquareFeet>72000</SquareFeet><Brands>4+</Brands><Internet>DSL</Internet><NumberEmployees>66</NumberEmployees></StoreSurvey>",
         "2014-09-12",
         "Valley Bicycle Specialists",
         277,
         "59386b0c-652e-4668-b44b-4e1711793330"
        ],
        [
         310,
         "<StoreSurvey xmlns=\"http://schemas.microsoft.com/sqlserver/2004/07/adventure-works/StoreSurvey\"><AnnualSales>1500000</AnnualSales><AnnualRevenue>150000</AnnualRevenue><BankName>International Security</BankName><BusinessType>OS</BusinessType><YearOpened>1974</YearOpened><Specialty>Road</Specialty><SquareFeet>39000</SquareFeet><Brands>4+</Brands><Internet>T1</Internet><NumberEmployees>40</NumberEmployees></StoreSurvey>",
         "2014-09-12",
         "New Bikes Company",
         279,
         "47e4b6bd-5cd1-45a3-a231-79d930381c56"
        ],
        [
         312,
         "<StoreSurvey xmlns=\"http://schemas.microsoft.com/sqlserver/2004/07/adventure-works/StoreSurvey\"><AnnualSales>1500000</AnnualSales><AnnualRevenue>150000</AnnualRevenue><BankName>Primary Bank &amp; Reserve</BankName><BusinessType>OS</BusinessType><YearOpened>1980</YearOpened><Specialty>Mountain</Specialty><SquareFeet>41000</SquareFeet><Brands>4+</Brands><Internet>DSL</Internet><NumberEmployees>43</NumberEmployees></StoreSurvey>",
         "2014-09-12",
         "Vinyl and Plastic Goods Corporation",
         282,
         "dc610525-e373-49b1-b786-ea040ec25c06"
        ],
        [
         314,
         "<StoreSurvey xmlns=\"http://schemas.microsoft.com/sqlserver/2004/07/adventure-works/StoreSurvey\"><AnnualSales>1500000</AnnualSales><AnnualRevenue>150000</AnnualRevenue><BankName>International Bank</BankName><BusinessType>OS</BusinessType><YearOpened>1986</YearOpened><Specialty>Touring</Specialty><SquareFeet>40000</SquareFeet><Brands>4+</Brands><Internet>DSL</Internet><NumberEmployees>46</NumberEmployees></StoreSurvey>",
         "2014-09-12",
         "Top of the Line Bikes",
         288,
         "e290e93f-a980-4ba3-86c3-9858f15c8a6d"
        ],
        [
         316,
         "<StoreSurvey xmlns=\"http://schemas.microsoft.com/sqlserver/2004/07/adventure-works/StoreSurvey\"><AnnualSales>300000</AnnualSales><AnnualRevenue>30000</AnnualRevenue><BankName>Primary Bank &amp; Reserve</BankName><BusinessType>BM</BusinessType><YearOpened>1973</YearOpened><Specialty>Touring</Specialty><SquareFeet>6000</SquareFeet><Brands>2</Brands><Internet>DSL</Internet><NumberEmployees>2</NumberEmployees></StoreSurvey>",
         "2014-09-12",
         "Fun Toys and Bikes",
         281,
         "6cdcf941-4192-49c7-994a-5adba534e095"
        ],
        [
         318,
         "<StoreSurvey xmlns=\"http://schemas.microsoft.com/sqlserver/2004/07/adventure-works/StoreSurvey\"><AnnualSales>300000</AnnualSales><AnnualRevenue>30000</AnnualRevenue><BankName>International Security</BankName><BusinessType>BM</BusinessType><YearOpened>1981</YearOpened><Specialty>Mountain</Specialty><SquareFeet>10000</SquareFeet><Brands>4+</Brands><Internet>T3</Internet><NumberEmployees>3</NumberEmployees></StoreSurvey>",
         "2014-09-12",
         "Great Bikes ",
         283,
         "956fbc35-5e0d-4175-8045-e0be380ba340"
        ],
        [
         320,
         "<StoreSurvey xmlns=\"http://schemas.microsoft.com/sqlserver/2004/07/adventure-works/StoreSurvey\"><AnnualSales>300000</AnnualSales><AnnualRevenue>30000</AnnualRevenue><BankName>Guardian Bank</BankName><BusinessType>BM</BusinessType><YearOpened>1976</YearOpened><Specialty>Road</Specialty><SquareFeet>6000</SquareFeet><Brands>AW</Brands><Internet>T1</Internet><NumberEmployees>4</NumberEmployees></StoreSurvey>",
         "2014-09-12",
         "Metropolitan Sales and Rental",
         275,
         "0cb4fef2-5047-40f7-8848-b59f7a3f3eec"
        ],
        [
         322,
         "<StoreSurvey xmlns=\"http://schemas.microsoft.com/sqlserver/2004/07/adventure-works/StoreSurvey\"><AnnualSales>300000</AnnualSales><AnnualRevenue>30000</AnnualRevenue><BankName>Primary International</BankName><BusinessType>BM</BusinessType><YearOpened>1984</YearOpened><Specialty>Mountain</Specialty><SquareFeet>7000</SquareFeet><Brands>AW</Brands><Internet>DSL</Internet><NumberEmployees>5</NumberEmployees></StoreSurvey>",
         "2014-09-12",
         "Irregulars Outlet",
         288,
         "cde66279-83d8-4340-a83c-e86e15514ac4"
        ],
        [
         324,
         "<StoreSurvey xmlns=\"http://schemas.microsoft.com/sqlserver/2004/07/adventure-works/StoreSurvey\"><AnnualSales>300000</AnnualSales><AnnualRevenue>30000</AnnualRevenue><BankName>Reserve Security</BankName><BusinessType>BM</BusinessType><YearOpened>1979</YearOpened><Specialty>Mountain</Specialty><SquareFeet>9000</SquareFeet><Brands>2</Brands><Internet>T1</Internet><NumberEmployees>6</NumberEmployees></StoreSurvey>",
         "2014-09-12",
         "Valley Toy Store",
         282,
         "6a1bea56-dcb7-45cf-8c92-3705e12eb2aa"
        ],
        [
         326,
         "<StoreSurvey xmlns=\"http://schemas.microsoft.com/sqlserver/2004/07/adventure-works/StoreSurvey\"><AnnualSales>300000</AnnualSales><AnnualRevenue>30000</AnnualRevenue><BankName>United Security</BankName><BusinessType>BM</BusinessType><YearOpened>1987</YearOpened><Specialty>Mountain</Specialty><SquareFeet>8000</SquareFeet><Brands>2</Brands><Internet>DSL</Internet><NumberEmployees>7</NumberEmployees></StoreSurvey>",
         "2014-09-12",
         "Worthwhile Activity Store",
         279,
         "bad63717-99bd-4581-8160-0f1723be42cb"
        ],
        [
         328,
         "<StoreSurvey xmlns=\"http://schemas.microsoft.com/sqlserver/2004/07/adventure-works/StoreSurvey\"><AnnualSales>1500000</AnnualSales><AnnualRevenue>150000</AnnualRevenue><BankName>United Security</BankName><BusinessType>OS</BusinessType><YearOpened>1992</YearOpened><Specialty>Touring</Specialty><SquareFeet>38000</SquareFeet><Brands>3</Brands><Internet>ISDN</Internet><NumberEmployees>49</NumberEmployees></StoreSurvey>",
         "2014-09-12",
         "Purchase Mart",
         275,
         "a3140349-57a3-46aa-bf32-d7f4753a06d6"
        ],
        [
         330,
         "<StoreSurvey xmlns=\"http://schemas.microsoft.com/sqlserver/2004/07/adventure-works/StoreSurvey\"><AnnualSales>3000000</AnnualSales><AnnualRevenue>300000</AnnualRevenue><BankName>Reserve Security</BankName><BusinessType>OS</BusinessType><YearOpened>1998</YearOpened><Specialty>Mountain</Specialty><SquareFeet>68000</SquareFeet><Brands>3</Brands><Internet>DSL</Internet><NumberEmployees>52</NumberEmployees></StoreSurvey>",
         "2014-09-12",
         "Major Sport Suppliers",
         283,
         "3b5f8572-43b0-42f5-86ff-e379d0769f28"
        ],
        [
         332,
         "<StoreSurvey xmlns=\"http://schemas.microsoft.com/sqlserver/2004/07/adventure-works/StoreSurvey\"><AnnualSales>800000</AnnualSales><AnnualRevenue>80000</AnnualRevenue><BankName>Primary International</BankName><BusinessType>BM</BusinessType><YearOpened>1997</YearOpened><Specialty>Mountain</Specialty><SquareFeet>21000</SquareFeet><Brands>3</Brands><Internet>ISDN</Internet><NumberEmployees>18</NumberEmployees></StoreSurvey>",
         "2014-09-12",
         "Family's Favorite Bike Shop",
         278,
         "712df7b6-a6e4-4059-a1b8-6d39a80ab712"
        ],
        [
         334,
         "<StoreSurvey xmlns=\"http://schemas.microsoft.com/sqlserver/2004/07/adventure-works/StoreSurvey\"><AnnualSales>800000</AnnualSales><AnnualRevenue>80000</AnnualRevenue><BankName>Reserve Security</BankName><BusinessType>BM</BusinessType><YearOpened>1975</YearOpened><Specialty>Mountain</Specialty><SquareFeet>19000</SquareFeet><Brands>3</Brands><Internet>DSL</Internet><NumberEmployees>19</NumberEmployees></StoreSurvey>",
         "2014-09-12",
         "Global Plaza",
         279,
         "9a1e91d8-509b-4d96-bd77-7427c7f0c47b"
        ],
        [
         336,
         "<StoreSurvey xmlns=\"http://schemas.microsoft.com/sqlserver/2004/07/adventure-works/StoreSurvey\"><AnnualSales>1000000</AnnualSales><AnnualRevenue>100000</AnnualRevenue><BankName>United Security</BankName><BusinessType>BM</BusinessType><YearOpened>2000</YearOpened><Specialty>Road</Specialty><SquareFeet>24000</SquareFeet><Brands>2</Brands><Internet>T1</Internet><NumberEmployees>20</NumberEmployees></StoreSurvey>",
         "2014-09-12",
         "Imported and Domestic Cycles",
         276,
         "25c229c0-4e7a-42d2-acb1-a2118361b2f1"
        ],
        [
         338,
         "<StoreSurvey xmlns=\"http://schemas.microsoft.com/sqlserver/2004/07/adventure-works/StoreSurvey\"><AnnualSales>3000000</AnnualSales><AnnualRevenue>300000</AnnualRevenue><BankName>Primary International</BankName><BusinessType>OS</BusinessType><YearOpened>1999</YearOpened><Specialty>Touring</Specialty><SquareFeet>73000</SquareFeet><Brands>4+</Brands><Internet>DSL</Internet><NumberEmployees>55</NumberEmployees></StoreSurvey>",
         "2014-09-12",
         "Systematic Sales",
         281,
         "df9126a5-9c95-44a2-a31f-f759ea33eea7"
        ],
        [
         340,
         "<StoreSurvey xmlns=\"http://schemas.microsoft.com/sqlserver/2004/07/adventure-works/StoreSurvey\"><AnnualSales>3000000</AnnualSales><AnnualRevenue>300000</AnnualRevenue><BankName>Guardian Bank</BankName><BusinessType>OS</BusinessType><YearOpened>1999</YearOpened><Specialty>Mountain</Specialty><SquareFeet>69000</SquareFeet><Brands>2</Brands><Internet>DSL</Internet><NumberEmployees>58</NumberEmployees></StoreSurvey>",
         "2014-09-12",
         "eCommerce Bikes",
         279,
         "1ec47823-4b39-4609-aaec-6ee68cc74f81"
        ],
        [
         342,
         "<StoreSurvey xmlns=\"http://schemas.microsoft.com/sqlserver/2004/07/adventure-works/StoreSurvey\"><AnnualSales>800000</AnnualSales><AnnualRevenue>80000</AnnualRevenue><BankName>International Bank</BankName><BusinessType>BM</BusinessType><YearOpened>2000</YearOpened><Specialty>Road</Specialty><SquareFeet>18000</SquareFeet><Brands>4+</Brands><Internet>DSL</Internet><NumberEmployees>17</NumberEmployees></StoreSurvey>",
         "2014-09-12",
         "Mountain Toy Store",
         277,
         "52efc841-97c5-4ac1-b707-fa3717b0bc48"
        ],
        [
         344,
         "<StoreSurvey xmlns=\"http://schemas.microsoft.com/sqlserver/2004/07/adventure-works/StoreSurvey\"><AnnualSales>800000</AnnualSales><AnnualRevenue>80000</AnnualRevenue><BankName>Primary Bank &amp; Reserve</BankName><BusinessType>BM</BusinessType><YearOpened>1994</YearOpened><Specialty>Road</Specialty><SquareFeet>18000</SquareFeet><Brands>2</Brands><Internet>DSL</Internet><NumberEmployees>14</NumberEmployees></StoreSurvey>",
         "2014-09-12",
         "Retail Sales and Service",
         275,
         "38f9be1b-9137-4e4e-985d-06f6c5e02330"
        ],
        [
         346,
         "<StoreSurvey xmlns=\"http://schemas.microsoft.com/sqlserver/2004/07/adventure-works/StoreSurvey\"><AnnualSales>3000000</AnnualSales><AnnualRevenue>300000</AnnualRevenue><BankName>International Security</BankName><BusinessType>OS</BusinessType><YearOpened>1979</YearOpened><Specialty>Road</Specialty><SquareFeet>72000</SquareFeet><Brands>4+</Brands><Internet>T2</Internet><NumberEmployees>61</NumberEmployees></StoreSurvey>",
         "2014-09-12",
         "Designated Distributors",
         282,
         "5dc17a1c-f618-4b6e-bea2-bff96ca6ba8b"
        ],
        [
         348,
         "<StoreSurvey xmlns=\"http://schemas.microsoft.com/sqlserver/2004/07/adventure-works/StoreSurvey\"><AnnualSales>3000000</AnnualSales><AnnualRevenue>300000</AnnualRevenue><BankName>Primary Bank &amp; Reserve</BankName><BusinessType>OS</BusinessType><YearOpened>1999</YearOpened><Specialty>Mountain</Specialty><SquareFeet>72000</SquareFeet><Brands>4+</Brands><Internet>DSL</Internet><NumberEmployees>58</NumberEmployees></StoreSurvey>",
         "2014-09-12",
         "Bold Bike Accessories",
         276,
         "ac7a83f1-196b-4bbf-a6e0-3165d4c84454"
        ],
        [
         350,
         "<StoreSurvey xmlns=\"http://schemas.microsoft.com/sqlserver/2004/07/adventure-works/StoreSurvey\"><AnnualSales>800000</AnnualSales><AnnualRevenue>80000</AnnualRevenue><BankName>International Security</BankName><BusinessType>BM</BusinessType><YearOpened>1988</YearOpened><Specialty>Touring</Specialty><SquareFeet>21000</SquareFeet><Brands>AW</Brands><Internet>T1</Internet><NumberEmployees>11</NumberEmployees></StoreSurvey>",
         "2014-09-12",
         "Twin Cycles",
         286,
         "4e917578-1942-4bab-8e63-932052fdacec"
        ],
        [
         352,
         "<StoreSurvey xmlns=\"http://schemas.microsoft.com/sqlserver/2004/07/adventure-works/StoreSurvey\"><AnnualSales>300000</AnnualSales><AnnualRevenue>30000</AnnualRevenue><BankName>International Bank</BankName><BusinessType>BM</BusinessType><YearOpened>1978</YearOpened><Specialty>Road</Specialty><SquareFeet>6000</SquareFeet><Brands>4+</Brands><Internet>DSL</Internet><NumberEmployees>4</NumberEmployees></StoreSurvey>",
         "2014-09-12",
         "Tiny Bike Boutique",
         279,
         "1d65dd5a-a7c8-4ac1-a2b6-76ad4a5946bd"
        ],
        [
         354,
         "<StoreSurvey xmlns=\"http://schemas.microsoft.com/sqlserver/2004/07/adventure-works/StoreSurvey\"><AnnualSales>3000000</AnnualSales><AnnualRevenue>300000</AnnualRevenue><BankName>International Bank</BankName><BusinessType>OS</BusinessType><YearOpened>1979</YearOpened><Specialty>Touring</Specialty><SquareFeet>73000</SquareFeet><Brands>3</Brands><Internet>DSL</Internet><NumberEmployees>61</NumberEmployees></StoreSurvey>",
         "2014-09-12",
         "Acclaimed Bicycle Company",
         279,
         "e71ac59c-b228-49f2-acc2-077aa5dfc9db"
        ],
        [
         356,
         "<StoreSurvey xmlns=\"http://schemas.microsoft.com/sqlserver/2004/07/adventure-works/StoreSurvey\"><AnnualSales>3000000</AnnualSales><AnnualRevenue>300000</AnnualRevenue><BankName>United Security</BankName><BusinessType>OS</BusinessType><YearOpened>1996</YearOpened><Specialty>Mountain</Specialty><SquareFeet>71000</SquareFeet><Brands>4+</Brands><Internet>ISDN</Internet><NumberEmployees>64</NumberEmployees></StoreSurvey>",
         "2014-09-12",
         "Serious Cycles",
         278,
         "8036d3b1-1c8d-43bf-b913-d17ee0d755af"
        ],
        [
         358,
         "<StoreSurvey xmlns=\"http://schemas.microsoft.com/sqlserver/2004/07/adventure-works/StoreSurvey\"><AnnualSales>3000000</AnnualSales><AnnualRevenue>300000</AnnualRevenue><BankName>Reserve Security</BankName><BusinessType>OS</BusinessType><YearOpened>1991</YearOpened><Specialty>Touring</Specialty><SquareFeet>74000</SquareFeet><Brands>3</Brands><Internet>DSL</Internet><NumberEmployees>67</NumberEmployees></StoreSurvey>",
         "2014-09-12",
         "Quality Bike Sales",
         286,
         "55ec3545-a751-4a37-944e-b5df36219e11"
        ],
        [
         360,
         "<StoreSurvey xmlns=\"http://schemas.microsoft.com/sqlserver/2004/07/adventure-works/StoreSurvey\"><AnnualSales>3000000</AnnualSales><AnnualRevenue>300000</AnnualRevenue><BankName>Primary International</BankName><BusinessType>OS</BusinessType><YearOpened>1993</YearOpened><Specialty>Touring</Specialty><SquareFeet>74000</SquareFeet><Brands>4+</Brands><Internet>ISDN</Internet><NumberEmployees>70</NumberEmployees></StoreSurvey>",
         "2014-09-12",
         "Novelty Bikes",
         275,
         "cd239474-966c-4474-97a9-25d52289ed52"
        ],
        [
         362,
         "<StoreSurvey xmlns=\"http://schemas.microsoft.com/sqlserver/2004/07/adventure-works/StoreSurvey\"><AnnualSales>3000000</AnnualSales><AnnualRevenue>300000</AnnualRevenue><BankName>Primary Bank &amp; Reserve</BankName><BusinessType>OS</BusinessType><YearOpened>1995</YearOpened><Specialty>Mountain</Specialty><SquareFeet>75000</SquareFeet><Brands>3</Brands><Internet>DSL</Internet><NumberEmployees>79</NumberEmployees></StoreSurvey>",
         "2014-09-12",
         "Distinctive Cycles Sales & Service",
         279,
         "7e5da4c4-23b4-4bd2-8037-b2be46e41c83"
        ],
        [
         364,
         "<StoreSurvey xmlns=\"http://schemas.microsoft.com/sqlserver/2004/07/adventure-works/StoreSurvey\"><AnnualSales>800000</AnnualSales><AnnualRevenue>80000</AnnualRevenue><BankName>Reserve Security</BankName><BusinessType>BS</BusinessType><YearOpened>1978</YearOpened><Specialty>Road</Specialty><SquareFeet>18000</SquareFeet><Brands>3</Brands><Internet>T1</Internet><NumberEmployees>13</NumberEmployees></StoreSurvey>",
         "2014-09-12",
         "Leading Bike Distributors",
         279,
         "0c0b95fd-1934-4dd9-bc1c-8c1e2bf07ebc"
        ],
        [
         366,
         "<StoreSurvey xmlns=\"http://schemas.microsoft.com/sqlserver/2004/07/adventure-works/StoreSurvey\"><AnnualSales>1500000</AnnualSales><AnnualRevenue>150000</AnnualRevenue><BankName>Primary Bank &amp; Reserve</BankName><BusinessType>BS</BusinessType><YearOpened>1971</YearOpened><Specialty>Road</Specialty><SquareFeet>37000</SquareFeet><Brands>3</Brands><Internet>DSL</Internet><NumberEmployees>37</NumberEmployees></StoreSurvey>",
         "2014-09-12",
         "Activity Center",
         279,
         "f579e604-b602-4d67-ab88-130df07753f0"
        ],
        [
         368,
         "<StoreSurvey xmlns=\"http://schemas.microsoft.com/sqlserver/2004/07/adventure-works/StoreSurvey\"><AnnualSales>1500000</AnnualSales><AnnualRevenue>150000</AnnualRevenue><BankName>International Security</BankName><BusinessType>BS</BusinessType><YearOpened>1979</YearOpened><Specialty>Mountain</Specialty><SquareFeet>36000</SquareFeet><Brands>4+</Brands><Internet>ISDN</Internet><NumberEmployees>38</NumberEmployees></StoreSurvey>",
         "2014-09-12",
         "Brightwork Company",
         281,
         "6f4273ae-583c-4219-9e0b-2f3cd44a4000"
        ],
        [
         370,
         "<StoreSurvey xmlns=\"http://schemas.microsoft.com/sqlserver/2004/07/adventure-works/StoreSurvey\"><AnnualSales>800000</AnnualSales><AnnualRevenue>80000</AnnualRevenue><BankName>United Security</BankName><BusinessType>BM</BusinessType><YearOpened>1988</YearOpened><Specialty>Mountain</Specialty><SquareFeet>21000</SquareFeet><Brands>2</Brands><Internet>DSL</Internet><NumberEmployees>16</NumberEmployees></StoreSurvey>",
         "2014-09-12",
         "Resale Services",
         276,
         "7c7076c8-2ab9-4810-bbca-b126fc811e32"
        ],
        [
         372,
         "<StoreSurvey xmlns=\"http://schemas.microsoft.com/sqlserver/2004/07/adventure-works/StoreSurvey\"><AnnualSales>800000</AnnualSales><AnnualRevenue>80000</AnnualRevenue><BankName>International Bank</BankName><BusinessType>BM</BusinessType><YearOpened>1982</YearOpened><Specialty>Mountain</Specialty><SquareFeet>21000</SquareFeet><Brands>2</Brands><Internet>DSL</Internet><NumberEmployees>14</NumberEmployees></StoreSurvey>",
         "2014-09-12",
         "The Gear Store",
         277,
         "03e77d8a-62b6-41ee-b081-7ec3e60c9a3e"
        ],
        [
         374,
         "<StoreSurvey xmlns=\"http://schemas.microsoft.com/sqlserver/2004/07/adventure-works/StoreSurvey\"><AnnualSales>3000000</AnnualSales><AnnualRevenue>300000</AnnualRevenue><BankName>Guardian Bank</BankName><BusinessType>OS</BusinessType><YearOpened>1998</YearOpened><Specialty>Touring</Specialty><SquareFeet>76000</SquareFeet><Brands>4+</Brands><Internet>DSL</Internet><NumberEmployees>73</NumberEmployees></StoreSurvey>",
         "2014-09-12",
         "Immense Manufacturing Company",
         277,
         "f948f121-09c9-46d4-a783-63ead859a044"
        ],
        [
         376,
         "<StoreSurvey xmlns=\"http://schemas.microsoft.com/sqlserver/2004/07/adventure-works/StoreSurvey\"><AnnualSales>3000000</AnnualSales><AnnualRevenue>300000</AnnualRevenue><BankName>International Security</BankName><BusinessType>OS</BusinessType><YearOpened>1990</YearOpened><Specialty>Mountain</Specialty><SquareFeet>73000</SquareFeet><Brands>4+</Brands><Internet>DSL</Internet><NumberEmployees>76</NumberEmployees></StoreSurvey>",
         "2014-09-12",
         "Extended Bike Sales",
         276,
         "9e550241-b6cb-4e95-96a2-f3bef46016df"
        ],
        [
         378,
         "<StoreSurvey xmlns=\"http://schemas.microsoft.com/sqlserver/2004/07/adventure-works/StoreSurvey\"><AnnualSales>1500000</AnnualSales><AnnualRevenue>150000</AnnualRevenue><BankName>United Security</BankName><BusinessType>BS</BusinessType><YearOpened>1988</YearOpened><Specialty>Touring</Specialty><SquareFeet>36000</SquareFeet><Brands>4+</Brands><Internet>DSL</Internet><NumberEmployees>35</NumberEmployees></StoreSurvey>",
         "2014-09-12",
         "Pedaling Components",
         288,
         "24dd7af1-d347-44cb-96fa-14b9ce5c83a8"
        ],
        [
         380,
         "<StoreSurvey xmlns=\"http://schemas.microsoft.com/sqlserver/2004/07/adventure-works/StoreSurvey\"><AnnualSales>1500000</AnnualSales><AnnualRevenue>150000</AnnualRevenue><BankName>International Bank</BankName><BusinessType>BS</BusinessType><YearOpened>1976</YearOpened><Specialty>Touring</Specialty><SquareFeet>39000</SquareFeet><Brands>4+</Brands><Internet>T1</Internet><NumberEmployees>36</NumberEmployees></StoreSurvey>",
         "2014-09-12",
         "Workout Emporium",
         282,
         "649db09e-3aa4-4275-880c-7853b3395e51"
        ],
        [
         382,
         "<StoreSurvey xmlns=\"http://schemas.microsoft.com/sqlserver/2004/07/adventure-works/StoreSurvey\"><AnnualSales>800000</AnnualSales><AnnualRevenue>80000</AnnualRevenue><BankName>Primary Bank &amp; Reserve</BankName><BusinessType>BM</BusinessType><YearOpened>1976</YearOpened><Specialty>Road</Specialty><SquareFeet>22000</SquareFeet><Brands>4+</Brands><Internet>DSL</Internet><NumberEmployees>12</NumberEmployees></StoreSurvey>",
         "2014-09-12",
         "Work and Play Association",
         275,
         "e5353da7-cb02-4c26-acd3-1c42050d4bb9"
        ],
        [
         384,
         "<StoreSurvey xmlns=\"http://schemas.microsoft.com/sqlserver/2004/07/adventure-works/StoreSurvey\"><AnnualSales>800000</AnnualSales><AnnualRevenue>80000</AnnualRevenue><BankName>International Security</BankName><BusinessType>BM</BusinessType><YearOpened>1970</YearOpened><Specialty>Touring</Specialty><SquareFeet>19000</SquareFeet><Brands>3</Brands><Internet>T1</Internet><NumberEmployees>10</NumberEmployees></StoreSurvey>",
         "2014-09-12",
         "Seaside Bike Works",
         286,
         "4c85c347-c9c0-4e6d-b290-19970f0adea0"
        ],
        [
         386,
         "<StoreSurvey xmlns=\"http://schemas.microsoft.com/sqlserver/2004/07/adventure-works/StoreSurvey\"><AnnualSales>300000</AnnualSales><AnnualRevenue>30000</AnnualRevenue><BankName>Guardian Bank</BankName><BusinessType>BM</BusinessType><YearOpened>1975</YearOpened><Specialty>Road</Specialty><SquareFeet>9000</SquareFeet><Brands>4+</Brands><Internet>DSL</Internet><NumberEmployees>8</NumberEmployees></StoreSurvey>",
         "2014-09-12",
         "Nice Bikes",
         278,
         "9fa1609c-9a36-4282-bc80-a562332def1b"
        ],
        [
         388,
         "<StoreSurvey xmlns=\"http://schemas.microsoft.com/sqlserver/2004/07/adventure-works/StoreSurvey\"><AnnualSales>800000</AnnualSales><AnnualRevenue>80000</AnnualRevenue><BankName>United Security</BankName><BusinessType>BS</BusinessType><YearOpened>1972</YearOpened><Specialty>Road</Specialty><SquareFeet>17000</SquareFeet><Brands>3</Brands><Internet>T2</Internet><NumberEmployees>10</NumberEmployees></StoreSurvey>",
         "2014-09-12",
         "Remarkable Bike Store",
         276,
         "f2dcd314-506d-47f1-8cd0-6017c40c96ab"
        ],
        [
         390,
         "<StoreSurvey xmlns=\"http://schemas.microsoft.com/sqlserver/2004/07/adventure-works/StoreSurvey\"><AnnualSales>1000000</AnnualSales><AnnualRevenue>100000</AnnualRevenue><BankName>Reserve Security</BankName><BusinessType>BS</BusinessType><YearOpened>1998</YearOpened><Specialty>Mountain</Specialty><SquareFeet>26000</SquareFeet><Brands>3</Brands><Internet>DSL</Internet><NumberEmployees>27</NumberEmployees></StoreSurvey>",
         "2014-09-12",
         "Road-Way Mart",
         283,
         "b0a08902-2c39-4a50-86e5-86e98c7b2597"
        ],
        [
         392,
         "<StoreSurvey xmlns=\"http://schemas.microsoft.com/sqlserver/2004/07/adventure-works/StoreSurvey\"><AnnualSales>1000000</AnnualSales><AnnualRevenue>100000</AnnualRevenue><BankName>United Security</BankName><BusinessType>BS</BusinessType><YearOpened>1971</YearOpened><Specialty>Road</Specialty><SquareFeet>25000</SquareFeet><Brands>3</Brands><Internet>T1</Internet><NumberEmployees>28</NumberEmployees></StoreSurvey>",
         "2014-09-12",
         "Small Cycle Store",
         275,
         "c1cdcf27-3fa6-4bf9-a5ca-baeefc8fb8e0"
        ],
        [
         394,
         "<StoreSurvey xmlns=\"http://schemas.microsoft.com/sqlserver/2004/07/adventure-works/StoreSurvey\"><AnnualSales>300000</AnnualSales><AnnualRevenue>30000</AnnualRevenue><BankName>Primary International</BankName><BusinessType>BM</BusinessType><YearOpened>1970</YearOpened><Specialty>Touring</Specialty><SquareFeet>9000</SquareFeet><Brands>AW</Brands><Internet>T1</Internet><NumberEmployees>6</NumberEmployees></StoreSurvey>",
         "2014-09-12",
         "Blue-Ribbon Bike Company",
         279,
         "096b2c5d-14e5-4bda-94e1-3e5c01d906c4"
        ],
        [
         396,
         "<StoreSurvey xmlns=\"http://schemas.microsoft.com/sqlserver/2004/07/adventure-works/StoreSurvey\"><AnnualSales>300000</AnnualSales><AnnualRevenue>30000</AnnualRevenue><BankName>Reserve Security</BankName><BusinessType>BM</BusinessType><YearOpened>1978</YearOpened><Specialty>Road</Specialty><SquareFeet>10000</SquareFeet><Brands>3</Brands><Internet>T2</Internet><NumberEmployees>4</NumberEmployees></StoreSurvey>",
         "2014-09-12",
         "Flawless Bike Shop",
         276,
         "71aea07e-95c4-4c44-a919-01b5008639d3"
        ],
        [
         398,
         "<StoreSurvey xmlns=\"http://schemas.microsoft.com/sqlserver/2004/07/adventure-works/StoreSurvey\"><AnnualSales>300000</AnnualSales><AnnualRevenue>30000</AnnualRevenue><BankName>United Security</BankName><BusinessType>BM</BusinessType><YearOpened>1973</YearOpened><Specialty>Mountain</Specialty><SquareFeet>10000</SquareFeet><Brands>AW</Brands><Internet>ISDN</Internet><NumberEmployees>2</NumberEmployees></StoreSurvey>",
         "2014-09-12",
         "Grand Bicycle Stores",
         277,
         "6def5808-13ca-4784-9f4e-1a1ffb1905d9"
        ],
        [
         400,
         "<StoreSurvey xmlns=\"http://schemas.microsoft.com/sqlserver/2004/07/adventure-works/StoreSurvey\"><AnnualSales>1500000</AnnualSales><AnnualRevenue>150000</AnnualRevenue><BankName>Guardian Bank</BankName><BusinessType>BS</BusinessType><YearOpened>1984</YearOpened><Specialty>Touring</Specialty><SquareFeet>38000</SquareFeet><Brands>4+</Brands><Internet>T1</Internet><NumberEmployees>32</NumberEmployees></StoreSurvey>",
         "2014-09-12",
         "Exertion Activities Club",
         281,
         "ac060b37-154b-4f3f-a06e-918b7ea75bb1"
        ],
        [
         402,
         "<StoreSurvey xmlns=\"http://schemas.microsoft.com/sqlserver/2004/07/adventure-works/StoreSurvey\"><AnnualSales>1500000</AnnualSales><AnnualRevenue>150000</AnnualRevenue><BankName>Primary International</BankName><BusinessType>BS</BusinessType><YearOpened>1978</YearOpened><Specialty>Mountain</Specialty><SquareFeet>37000</SquareFeet><Brands>4+</Brands><Internet>ISDN</Internet><NumberEmployees>33</NumberEmployees></StoreSurvey>",
         "2014-09-12",
         "Impromptu Trips",
         283,
         "16255726-8647-401a-9de9-ab524a839804"
        ],
        [
         404,
         "<StoreSurvey xmlns=\"http://schemas.microsoft.com/sqlserver/2004/07/adventure-works/StoreSurvey\"><AnnualSales>1500000</AnnualSales><AnnualRevenue>150000</AnnualRevenue><BankName>Reserve Security</BankName><BusinessType>BS</BusinessType><YearOpened>1972</YearOpened><Specialty>Mountain</Specialty><SquareFeet>35000</SquareFeet><Brands>2</Brands><Internet>T1</Internet><NumberEmployees>34</NumberEmployees></StoreSurvey>",
         "2014-09-12",
         "Margie's Travel",
         275,
         "9d71ff30-1bc5-4f0b-bd7b-3618b58634e9"
        ],
        [
         406,
         "<StoreSurvey xmlns=\"http://schemas.microsoft.com/sqlserver/2004/07/adventure-works/StoreSurvey\"><AnnualSales>300000</AnnualSales><AnnualRevenue>30000</AnnualRevenue><BankName>International Bank</BankName><BusinessType>BM</BusinessType><YearOpened>1981</YearOpened><Specialty>Mountain</Specialty><SquareFeet>8000</SquareFeet><Brands>4+</Brands><Internet>T1</Internet><NumberEmployees>3</NumberEmployees></StoreSurvey>",
         "2014-09-12",
         "Kickstand Sellers",
         275,
         "f6f76f14-09d5-4b11-bad6-e3bff76ac761"
        ],
        [
         408,
         "<StoreSurvey xmlns=\"http://schemas.microsoft.com/sqlserver/2004/07/adventure-works/StoreSurvey\"><AnnualSales>300000</AnnualSales><AnnualRevenue>30000</AnnualRevenue><BankName>Primary Bank &amp; Reserve</BankName><BusinessType>BM</BusinessType><YearOpened>1976</YearOpened><Specialty>Touring</Specialty><SquareFeet>8000</SquareFeet><Brands>4+</Brands><Internet>T1</Internet><NumberEmployees>4</NumberEmployees></StoreSurvey>",
         "2014-09-12",
         "Nearest Bike Store",
         286,
         "aac48ead-3e12-4431-89c4-964406a7a94d"
        ],
        [
         410,
         "<StoreSurvey xmlns=\"http://schemas.microsoft.com/sqlserver/2004/07/adventure-works/StoreSurvey\"><AnnualSales>1000000</AnnualSales><AnnualRevenue>100000</AnnualRevenue><BankName>Primary International</BankName><BusinessType>BS</BusinessType><YearOpened>1971</YearOpened><Specialty>Touring</Specialty><SquareFeet>25000</SquareFeet><Brands>4+</Brands><Internet>DSL</Internet><NumberEmployees>28</NumberEmployees></StoreSurvey>",
         "2014-09-12",
         "Fast Bike Works",
         286,
         "d09c875e-114a-4d24-a68b-aed21ee23494"
        ],
        [
         412,
         "<StoreSurvey xmlns=\"http://schemas.microsoft.com/sqlserver/2004/07/adventure-works/StoreSurvey\"><AnnualSales>1000000</AnnualSales><AnnualRevenue>100000</AnnualRevenue><BankName>Reserve Security</BankName><BusinessType>BS</BusinessType><YearOpened>2001</YearOpened><Specialty>Road</Specialty><SquareFeet>24000</SquareFeet><Brands>3</Brands><Internet>DSL</Internet><NumberEmployees>29</NumberEmployees></StoreSurvey>",
         "2014-09-12",
         "Gasless Cycle Shop",
         278,
         "824b931b-5f27-407c-81ad-00ff7bc886f1"
        ],
        [
         414,
         "<StoreSurvey xmlns=\"http://schemas.microsoft.com/sqlserver/2004/07/adventure-works/StoreSurvey\"><AnnualSales>1500000</AnnualSales><AnnualRevenue>150000</AnnualRevenue><BankName>United Security</BankName><BusinessType>BS</BusinessType><YearOpened>1996</YearOpened><Specialty>Mountain</Specialty><SquareFeet>37000</SquareFeet><Brands>4+</Brands><Internet>DSL</Internet><NumberEmployees>30</NumberEmployees></StoreSurvey>",
         "2014-09-12",
         "Lubricant and Grease Suppliers",
         279,
         "4047a571-c602-4433-956c-c6af7366bf22"
        ],
        [
         416,
         "<StoreSurvey xmlns=\"http://schemas.microsoft.com/sqlserver/2004/07/adventure-works/StoreSurvey\"><AnnualSales>800000</AnnualSales><AnnualRevenue>80000</AnnualRevenue><BankName>Reserve Security</BankName><BusinessType>BM</BusinessType><YearOpened>1994</YearOpened><Specialty>Mountain</Specialty><SquareFeet>18000</SquareFeet><Brands>3</Brands><Internet>DSL</Internet><NumberEmployees>16</NumberEmployees></StoreSurvey>",
         "2014-09-12",
         "Teen Discount Store",
         288,
         "a22c02a3-37c8-402a-932f-bc8dd75bea87"
        ],
        [
         418,
         "<StoreSurvey xmlns=\"http://schemas.microsoft.com/sqlserver/2004/07/adventure-works/StoreSurvey\"><AnnualSales>800000</AnnualSales><AnnualRevenue>80000</AnnualRevenue><BankName>United Security</BankName><BusinessType>BM</BusinessType><YearOpened>1987</YearOpened><Specialty>Mountain</Specialty><SquareFeet>20000</SquareFeet><Brands>3</Brands><Internet>DSL</Internet><NumberEmployees>17</NumberEmployees></StoreSurvey>",
         "2014-09-12",
         "Transportation Options",
         282,
         "7cbea615-beca-44c6-8c74-cb1541faefa6"
        ],
        [
         420,
         "<StoreSurvey xmlns=\"http://schemas.microsoft.com/sqlserver/2004/07/adventure-works/StoreSurvey\"><AnnualSales>1500000</AnnualSales><AnnualRevenue>150000</AnnualRevenue><BankName>Primary Bank &amp; Reserve</BankName><BusinessType>OS</BusinessType><YearOpened>1986</YearOpened><Specialty>Mountain</Specialty><SquareFeet>39000</SquareFeet><Brands>2</Brands><Internet>DSL</Internet><NumberEmployees>46</NumberEmployees></StoreSurvey>",
         "2014-09-12",
         "Capital Riding Supplies",
         288,
         "7ea9a2a5-753c-4df2-93f6-ab81f5a4c135"
        ],
        [
         422,
         "<StoreSurvey xmlns=\"http://schemas.microsoft.com/sqlserver/2004/07/adventure-works/StoreSurvey\"><AnnualSales>1500000</AnnualSales><AnnualRevenue>150000</AnnualRevenue><BankName>International Bank</BankName><BusinessType>OS</BusinessType><YearOpened>1992</YearOpened><Specialty>Road</Specialty><SquareFeet>41000</SquareFeet><Brands>4+</Brands><Internet>ISDN</Internet><NumberEmployees>49</NumberEmployees></StoreSurvey>",
         "2014-09-12",
         "Bike Boutique",
         275,
         "81eda8db-5162-424f-ba36-6cb6770cd064"
        ],
        [
         424,
         "<StoreSurvey xmlns=\"http://schemas.microsoft.com/sqlserver/2004/07/adventure-works/StoreSurvey\"><AnnualSales>1000000</AnnualSales><AnnualRevenue>100000</AnnualRevenue><BankName>International Security</BankName><BusinessType>BS</BusinessType><YearOpened>1996</YearOpened><Specialty>Touring</Specialty><SquareFeet>27000</SquareFeet><Brands>3</Brands><Internet>DSL</Internet><NumberEmployees>22</NumberEmployees></StoreSurvey>",
         "2014-09-12",
         "Bikes Anyone?",
         275,
         "6368f18b-afcf-4008-9611-99458c02c985"
        ],
        [
         426,
         "<StoreSurvey xmlns=\"http://schemas.microsoft.com/sqlserver/2004/07/adventure-works/StoreSurvey\"><AnnualSales>800000</AnnualSales><AnnualRevenue>80000</AnnualRevenue><BankName>Guardian Bank</BankName><BusinessType>BS</BusinessType><YearOpened>1990</YearOpened><Specialty>Road</Specialty><SquareFeet>23000</SquareFeet><Brands>2</Brands><Internet>T1</Internet><NumberEmployees>19</NumberEmployees></StoreSurvey>",
         "2014-09-12",
         "Cross-town Parts Shop",
         286,
         "dfed9777-d43c-497d-86d4-14407e43c535"
        ],
        [
         428,
         "<StoreSurvey xmlns=\"http://schemas.microsoft.com/sqlserver/2004/07/adventure-works/StoreSurvey\"><AnnualSales>800000</AnnualSales><AnnualRevenue>80000</AnnualRevenue><BankName>Primary International</BankName><BusinessType>BS</BusinessType><YearOpened>1984</YearOpened><Specialty>Mountain</Specialty><SquareFeet>20000</SquareFeet><Brands>4+</Brands><Internet>ISDN</Internet><NumberEmployees>16</NumberEmployees></StoreSurvey>",
         "2014-09-12",
         "Finer Cycle Shop",
         278,
         "52b4d514-b45e-4bf6-821b-f972b738d732"
        ],
        [
         430,
         "<StoreSurvey xmlns=\"http://schemas.microsoft.com/sqlserver/2004/07/adventure-works/StoreSurvey\"><AnnualSales>1000000</AnnualSales><AnnualRevenue>100000</AnnualRevenue><BankName>Primary Bank &amp; Reserve</BankName><BusinessType>BM</BusinessType><YearOpened>2000</YearOpened><Specialty>Road</Specialty><SquareFeet>25000</SquareFeet><Brands>4+</Brands><Internet>T1</Internet><NumberEmployees>20</NumberEmployees></StoreSurvey>",
         "2014-09-12",
         "Center Cycle Shop",
         280,
         "8e153f0c-275c-42ca-98df-adefb90ab587"
        ],
        [
         432,
         "<StoreSurvey xmlns=\"http://schemas.microsoft.com/sqlserver/2004/07/adventure-works/StoreSurvey\"><AnnualSales>800000</AnnualSales><AnnualRevenue>80000</AnnualRevenue><BankName>International Security</BankName><BusinessType>BM</BusinessType><YearOpened>2000</YearOpened><Specialty>Road</Specialty><SquareFeet>21000</SquareFeet><Brands>3</Brands><Internet>DSL</Internet><NumberEmployees>17</NumberEmployees></StoreSurvey>",
         "2014-09-12",
         "Bulk Discount Store",
         289,
         "e26b0754-871a-49ad-a21b-5e58d7e804ed"
        ],
        [
         434,
         "<StoreSurvey xmlns=\"http://schemas.microsoft.com/sqlserver/2004/07/adventure-works/StoreSurvey\"><AnnualSales>800000</AnnualSales><AnnualRevenue>80000</AnnualRevenue><BankName>Guardian Bank</BankName><BusinessType>BM</BusinessType><YearOpened>1994</YearOpened><Specialty>Road</Specialty><SquareFeet>21000</SquareFeet><Brands>4+</Brands><Internet>DSL</Internet><NumberEmployees>14</NumberEmployees></StoreSurvey>",
         "2014-09-12",
         "Country Parts Shop",
         290,
         "9b88e8ed-c244-484d-8c4f-89f59570ebea"
        ],
        [
         436,
         "<StoreSurvey xmlns=\"http://schemas.microsoft.com/sqlserver/2004/07/adventure-works/StoreSurvey\"><AnnualSales>800000</AnnualSales><AnnualRevenue>80000</AnnualRevenue><BankName>Guardian Bank</BankName><BusinessType>BM</BusinessType><YearOpened>2000</YearOpened><Specialty>Road</Specialty><SquareFeet>21000</SquareFeet><Brands>4+</Brands><Internet>T1</Internet><NumberEmployees>19</NumberEmployees></StoreSurvey>",
         "2014-09-12",
         "Second Bike Shop",
         286,
         "20838797-ec33-4328-bdc0-99190729be4a"
        ],
        [
         438,
         "<StoreSurvey xmlns=\"http://schemas.microsoft.com/sqlserver/2004/07/adventure-works/StoreSurvey\"><AnnualSales>1000000</AnnualSales><AnnualRevenue>100000</AnnualRevenue><BankName>Primary International</BankName><BusinessType>BM</BusinessType><YearOpened>2000</YearOpened><Specialty>Road</Specialty><SquareFeet>26000</SquareFeet><Brands>3</Brands><Internet>T1</Internet><NumberEmployees>20</NumberEmployees></StoreSurvey>",
         "2014-09-12",
         "First-Rate Outlet",
         278,
         "7642e78c-f447-4f9d-b8cb-e6bb467db663"
        ],
        [
         440,
         "<StoreSurvey xmlns=\"http://schemas.microsoft.com/sqlserver/2004/07/adventure-works/StoreSurvey\"><AnnualSales>800000</AnnualSales><AnnualRevenue>80000</AnnualRevenue><BankName>Reserve Security</BankName><BusinessType>BM</BusinessType><YearOpened>1994</YearOpened><Specialty>Mountain</Specialty><SquareFeet>20000</SquareFeet><Brands>2</Brands><Internet>DSL</Internet><NumberEmployees>18</NumberEmployees></StoreSurvey>",
         "2014-09-12",
         "Juvenile Sports Equipment",
         279,
         "74b38bf4-113c-42ec-8e72-7e4b35e5bc55"
        ],
        [
         442,
         "<StoreSurvey xmlns=\"http://schemas.microsoft.com/sqlserver/2004/07/adventure-works/StoreSurvey\"><AnnualSales>300000</AnnualSales><AnnualRevenue>30000</AnnualRevenue><BankName>Reserve Security</BankName><BusinessType>BM</BusinessType><YearOpened>1973</YearOpened><Specialty>Touring</Specialty><SquareFeet>6000</SquareFeet><Brands>AW</Brands><Internet>DSL</Internet><NumberEmployees>2</NumberEmployees></StoreSurvey>",
         "2014-09-12",
         "Another Bicycle Company",
         283,
         "4280c0d5-6765-4add-a679-f341d27c0ecf"
        ],
        [
         444,
         "<StoreSurvey xmlns=\"http://schemas.microsoft.com/sqlserver/2004/07/adventure-works/StoreSurvey\"><AnnualSales>300000</AnnualSales><AnnualRevenue>30000</AnnualRevenue><BankName>United Security</BankName><BusinessType>BM</BusinessType><YearOpened>1981</YearOpened><Specialty>Touring</Specialty><SquareFeet>9000</SquareFeet><Brands>AW</Brands><Internet>T1</Internet><NumberEmployees>3</NumberEmployees></StoreSurvey>",
         "2014-09-12",
         "Fourth Bike Store",
         275,
         "e8623c2d-ccbf-497a-8147-6574abe11b19"
        ],
        [
         446,
         "<StoreSurvey xmlns=\"http://schemas.microsoft.com/sqlserver/2004/07/adventure-works/StoreSurvey\"><AnnualSales>300000</AnnualSales><AnnualRevenue>30000</AnnualRevenue><BankName>International Bank</BankName><BusinessType>BM</BusinessType><YearOpened>1976</YearOpened><Specialty>Mountain</Specialty><SquareFeet>7000</SquareFeet><Brands>4+</Brands><Internet>DSL</Internet><NumberEmployees>4</NumberEmployees></StoreSurvey>",
         "2014-09-12",
         "Rodeway Bike Store",
         288,
         "4f971590-8c1f-4b22-808e-5917b6fab7ec"
        ],
        [
         448,
         "<StoreSurvey xmlns=\"http://schemas.microsoft.com/sqlserver/2004/07/adventure-works/StoreSurvey\"><AnnualSales>1500000</AnnualSales><AnnualRevenue>150000</AnnualRevenue><BankName>International Bank</BankName><BusinessType>BS</BusinessType><YearOpened>1990</YearOpened><Specialty>Mountain</Specialty><SquareFeet>39000</SquareFeet><Brands>2</Brands><Internet>DSL</Internet><NumberEmployees>31</NumberEmployees></StoreSurvey>",
         "2014-09-12",
         "Traction Tire Company",
         276,
         "6324fad5-6bc4-4715-85bc-a86c49e527f8"
        ],
        [
         450,
         "<StoreSurvey xmlns=\"http://schemas.microsoft.com/sqlserver/2004/07/adventure-works/StoreSurvey\"><AnnualSales>1500000</AnnualSales><AnnualRevenue>150000</AnnualRevenue><BankName>Primary Bank &amp; Reserve</BankName><BusinessType>BS</BusinessType><YearOpened>1984</YearOpened><Specialty>Touring</Specialty><SquareFeet>39000</SquareFeet><Brands>3</Brands><Internet>DSL</Internet><NumberEmployees>32</NumberEmployees></StoreSurvey>",
         "2014-09-12",
         "Unsurpassed Bikes",
         277,
         "9bc34c8e-3856-4197-8013-f5e6c7aedb48"
        ],
        [
         452,
         "<StoreSurvey xmlns=\"http://schemas.microsoft.com/sqlserver/2004/07/adventure-works/StoreSurvey\"><AnnualSales>1500000</AnnualSales><AnnualRevenue>150000</AnnualRevenue><BankName>International Security</BankName><BusinessType>BS</BusinessType><YearOpened>1978</YearOpened><Specialty>Road</Specialty><SquareFeet>35000</SquareFeet><Brands>4+</Brands><Internet>DSL</Internet><NumberEmployees>33</NumberEmployees></StoreSurvey>",
         "2014-09-12",
         "Field Trip Inc",
         275,
         "5276b793-128a-49f0-b822-d338c6b92fdc"
        ],
        [
         454,
         "<StoreSurvey xmlns=\"http://schemas.microsoft.com/sqlserver/2004/07/adventure-works/StoreSurvey\"><AnnualSales>1500000</AnnualSales><AnnualRevenue>150000</AnnualRevenue><BankName>International Bank</BankName><BusinessType>BS</BusinessType><YearOpened>1983</YearOpened><Specialty>Road</Specialty><SquareFeet>37000</SquareFeet><Brands>2</Brands><Internet>DSL</Internet><NumberEmployees>45</NumberEmployees></StoreSurvey>",
         "2014-09-12",
         "Tire Company",
         275,
         "f875272b-6629-4832-9e45-f3e8e6dd8963"
        ],
        [
         456,
         "<StoreSurvey xmlns=\"http://schemas.microsoft.com/sqlserver/2004/07/adventure-works/StoreSurvey\"><AnnualSales>1500000</AnnualSales><AnnualRevenue>150000</AnnualRevenue><BankName>Primary Bank &amp; Reserve</BankName><BusinessType>BS</BusinessType><YearOpened>1991</YearOpened><Specialty>Touring</Specialty><SquareFeet>39000</SquareFeet><Brands>4+</Brands><Internet>DSL</Internet><NumberEmployees>46</NumberEmployees></StoreSurvey>",
         "2014-09-12",
         "Uncompromising Quality Co",
         286,
         "058f1615-0267-4b7c-8e53-96101059cade"
        ],
        [
         458,
         "<StoreSurvey xmlns=\"http://schemas.microsoft.com/sqlserver/2004/07/adventure-works/StoreSurvey\"><AnnualSales>1000000</AnnualSales><AnnualRevenue>100000</AnnualRevenue><BankName>Primary Bank &amp; Reserve</BankName><BusinessType>BS</BusinessType><YearOpened>1971</YearOpened><Specialty>Road</Specialty><SquareFeet>26000</SquareFeet><Brands>3</Brands><Internet>DSL</Internet><NumberEmployees>28</NumberEmployees></StoreSurvey>",
         "2014-09-12",
         "Metallic Paint and Overcoat Co",
         281,
         "e06866f7-c659-4952-a1ec-d2b42f80613a"
        ],
        [
         460,
         "<StoreSurvey xmlns=\"http://schemas.microsoft.com/sqlserver/2004/07/adventure-works/StoreSurvey\"><AnnualSales>3000000</AnnualSales><AnnualRevenue>300000</AnnualRevenue><BankName>Primary International</BankName><BusinessType>OS</BusinessType><YearOpened>1972</YearOpened><Specialty>Mountain</Specialty><SquareFeet>79000</SquareFeet><Brands>4+</Brands><Internet>DSL</Internet><NumberEmployees>90</NumberEmployees></StoreSurvey>",
         "2014-09-12",
         "Pro Sporting Goods",
         276,
         "5a1ee7a6-2fd6-45c8-9b0d-41991049cdea"
        ],
        [
         462,
         "<StoreSurvey xmlns=\"http://schemas.microsoft.com/sqlserver/2004/07/adventure-works/StoreSurvey\"><AnnualSales>3000000</AnnualSales><AnnualRevenue>300000</AnnualRevenue><BankName>Guardian Bank</BankName><BusinessType>OS</BusinessType><YearOpened>1977</YearOpened><Specialty>Road</Specialty><SquareFeet>78000</SquareFeet><Brands>3</Brands><Internet>DSL</Internet><NumberEmployees>91</NumberEmployees></StoreSurvey>",
         "2014-09-12",
         "Sporting Goods and Bicycle Shop",
         279,
         "93d4a3a7-d111-4113-859e-5b253dd9d943"
        ],
        [
         464,
         "<StoreSurvey xmlns=\"http://schemas.microsoft.com/sqlserver/2004/07/adventure-works/StoreSurvey\"><AnnualSales>3000000</AnnualSales><AnnualRevenue>300000</AnnualRevenue><BankName>International Security</BankName><BusinessType>OS</BusinessType><YearOpened>1987</YearOpened><Specialty>Touring</Specialty><SquareFeet>76000</SquareFeet><Brands>4+</Brands><Internet>DSL</Internet><NumberEmployees>92</NumberEmployees></StoreSurvey>",
         "2014-09-12",
         "Odometers and Accessories Company",
         278,
         "47e77224-11e5-4ab9-bc23-cd122f9c281d"
        ],
        [
         466,
         "<StoreSurvey xmlns=\"http://schemas.microsoft.com/sqlserver/2004/07/adventure-works/StoreSurvey\"><AnnualSales>800000</AnnualSales><AnnualRevenue>80000</AnnualRevenue><BankName>Guardian Bank</BankName><BusinessType>BS</BusinessType><YearOpened>1984</YearOpened><Specialty>Mountain</Specialty><SquareFeet>21000</SquareFeet><Brands>4+</Brands><Internet>DSL</Internet><NumberEmployees>16</NumberEmployees></StoreSurvey>",
         "2014-09-12",
         "Scratch-Resistant Finishes Company",
         282,
         "5f85023b-d708-4d44-b1a2-927a21c4cbbb"
        ],
        [
         468,
         "<StoreSurvey xmlns=\"http://schemas.microsoft.com/sqlserver/2004/07/adventure-works/StoreSurvey\"><AnnualSales>800000</AnnualSales><AnnualRevenue>80000</AnnualRevenue><BankName>Primary International</BankName><BusinessType>BS</BusinessType><YearOpened>1978</YearOpened><Specialty>Mountain</Specialty><SquareFeet>22000</SquareFeet><Brands>2</Brands><Internet>T3</Internet><NumberEmployees>13</NumberEmployees></StoreSurvey>",
         "2014-09-12",
         "Topnotch Bikes",
         279,
         "69a76a96-12fc-4b67-9655-c578e6b02933"
        ],
        [
         470,
         "<StoreSurvey xmlns=\"http://schemas.microsoft.com/sqlserver/2004/07/adventure-works/StoreSurvey\"><AnnualSales>800000</AnnualSales><AnnualRevenue>80000</AnnualRevenue><BankName>Reserve Security</BankName><BusinessType>BS</BusinessType><YearOpened>1972</YearOpened><Specialty>Touring</Specialty><SquareFeet>17000</SquareFeet><Brands>4+</Brands><Internet>T1</Internet><NumberEmployees>10</NumberEmployees></StoreSurvey>",
         "2014-09-12",
         "Unicycles, Bicycles, and Tricycles",
         281,
         "58f17106-c637-44ce-b352-164e1ad7c41d"
        ],
        [
         472,
         "<StoreSurvey xmlns=\"http://schemas.microsoft.com/sqlserver/2004/07/adventure-works/StoreSurvey\"><AnnualSales>3000000</AnnualSales><AnnualRevenue>300000</AnnualRevenue><BankName>International Security</BankName><BusinessType>OS</BusinessType><YearOpened>1998</YearOpened><Specialty>Mountain</Specialty><SquareFeet>72000</SquareFeet><Brands>4+</Brands><Internet>DSL</Internet><NumberEmployees>73</NumberEmployees></StoreSurvey>",
         "2014-09-12",
         "Safe Cycles Shop",
         283,
         "828d8f6d-95c6-4fdc-9888-45672fec0e11"
        ],
        [
         474,
         "<StoreSurvey xmlns=\"http://schemas.microsoft.com/sqlserver/2004/07/adventure-works/StoreSurvey\"><AnnualSales>3000000</AnnualSales><AnnualRevenue>300000</AnnualRevenue><BankName>Primary Bank &amp; Reserve</BankName><BusinessType>OS</BusinessType><YearOpened>1990</YearOpened><Specialty>Road</Specialty><SquareFeet>75000</SquareFeet><Brands>4+</Brands><Internet>ISDN</Internet><NumberEmployees>76</NumberEmployees></StoreSurvey>",
         "2014-09-12",
         "Number 1 Supply",
         281,
         "a4d7720a-57dd-4084-bfc6-b49cd3367ffe"
        ],
        [
         476,
         "<StoreSurvey xmlns=\"http://schemas.microsoft.com/sqlserver/2004/07/adventure-works/StoreSurvey\"><AnnualSales>3000000</AnnualSales><AnnualRevenue>300000</AnnualRevenue><BankName>International Bank</BankName><BusinessType>OS</BusinessType><YearOpened>1995</YearOpened><Specialty>Touring</Specialty><SquareFeet>73000</SquareFeet><Brands>3</Brands><Internet>DSL</Internet><NumberEmployees>79</NumberEmployees></StoreSurvey>",
         "2014-09-12",
         "Industrial Supplies",
         279,
         "706a4161-4e67-41e1-a31b-2be9fbf864f3"
        ],
        [
         478,
         "<StoreSurvey xmlns=\"http://schemas.microsoft.com/sqlserver/2004/07/adventure-works/StoreSurvey\"><AnnualSales>3000000</AnnualSales><AnnualRevenue>300000</AnnualRevenue><BankName>Guardian Bank</BankName><BusinessType>OS</BusinessType><YearOpened>1978</YearOpened><Specialty>Mountain</Specialty><SquareFeet>75000</SquareFeet><Brands>2</Brands><Internet>DSL</Internet><NumberEmployees>86</NumberEmployees></StoreSurvey>",
         "2014-09-12",
         "Golf and Cycle Store",
         281,
         "68c1f86e-f581-4aea-afa4-b0c03eaf1f13"
        ],
        [
         480,
         "<StoreSurvey xmlns=\"http://schemas.microsoft.com/sqlserver/2004/07/adventure-works/StoreSurvey\"><AnnualSales>3000000</AnnualSales><AnnualRevenue>300000</AnnualRevenue><BankName>International Security</BankName><BusinessType>OS</BusinessType><YearOpened>1983</YearOpened><Specialty>Touring</Specialty><SquareFeet>77000</SquareFeet><Brands>4+</Brands><Internet>DSL</Internet><NumberEmployees>87</NumberEmployees></StoreSurvey>",
         "2014-09-12",
         "Front Runner Bikes",
         279,
         "0e549387-9dc1-4f37-89af-34faaeb7cfaf"
        ],
        [
         482,
         "<StoreSurvey xmlns=\"http://schemas.microsoft.com/sqlserver/2004/07/adventure-works/StoreSurvey\"><AnnualSales>3000000</AnnualSales><AnnualRevenue>300000</AnnualRevenue><BankName>Primary Bank &amp; Reserve</BankName><BusinessType>OS</BusinessType><YearOpened>1975</YearOpened><Specialty>Touring</Specialty><SquareFeet>77000</SquareFeet><Brands>4+</Brands><Internet>DSL</Internet><NumberEmployees>88</NumberEmployees></StoreSurvey>",
         "2014-09-12",
         "Favorite Toy Distributor",
         290,
         "d4352e50-aa19-434c-a515-694e42b3c4bf"
        ],
        [
         484,
         "<StoreSurvey xmlns=\"http://schemas.microsoft.com/sqlserver/2004/07/adventure-works/StoreSurvey\"><AnnualSales>1500000</AnnualSales><AnnualRevenue>150000</AnnualRevenue><BankName>Guardian Bank</BankName><BusinessType>BS</BusinessType><YearOpened>1979</YearOpened><Specialty>Road</Specialty><SquareFeet>39000</SquareFeet><Brands>4+</Brands><Internet>DSL</Internet><NumberEmployees>38</NumberEmployees></StoreSurvey>",
         "2014-09-12",
         "World Bike Discount Store",
         276,
         "e73e6b44-3824-4c98-a7b1-796f1f1e0de8"
        ],
        [
         486,
         "<StoreSurvey xmlns=\"http://schemas.microsoft.com/sqlserver/2004/07/adventure-works/StoreSurvey\"><AnnualSales>1500000</AnnualSales><AnnualRevenue>150000</AnnualRevenue><BankName>Primary International</BankName><BusinessType>BS</BusinessType><YearOpened>1974</YearOpened><Specialty>Road</Specialty><SquareFeet>36000</SquareFeet><Brands>3</Brands><Internet>DSL</Internet><NumberEmployees>39</NumberEmployees></StoreSurvey>",
         "2014-09-12",
         "Global Sporting Goods",
         277,
         "df54deb4-58d4-4d01-9288-3f4a14f346b5"
        ],
        [
         488,
         "<StoreSurvey xmlns=\"http://schemas.microsoft.com/sqlserver/2004/07/adventure-works/StoreSurvey\"><AnnualSales>1500000</AnnualSales><AnnualRevenue>150000</AnnualRevenue><BankName>Reserve Security</BankName><BusinessType>BS</BusinessType><YearOpened>1982</YearOpened><Specialty>Mountain</Specialty><SquareFeet>38000</SquareFeet><Brands>2</Brands><Internet>T1</Internet><NumberEmployees>40</NumberEmployees></StoreSurvey>",
         "2014-09-12",
         "Historic Bicycle Sales",
         275,
         "ef4de775-b406-45c4-a6dd-9b0b4815fdbf"
        ],
        [
         490,
         "<StoreSurvey xmlns=\"http://schemas.microsoft.com/sqlserver/2004/07/adventure-works/StoreSurvey\"><AnnualSales>800000</AnnualSales><AnnualRevenue>80000</AnnualRevenue><BankName>Reserve Security</BankName><BusinessType>BM</BusinessType><YearOpened>1987</YearOpened><Specialty>Touring</Specialty><SquareFeet>22000</SquareFeet><Brands>4+</Brands><Internet>T1</Internet><NumberEmployees>17</NumberEmployees></StoreSurvey>",
         "2014-09-12",
         "Commuter Bicycle Store",
         282,
         "326d145a-2c37-4f02-aa83-350132148316"
        ],
        [
         492,
         "<StoreSurvey xmlns=\"http://schemas.microsoft.com/sqlserver/2004/07/adventure-works/StoreSurvey\"><AnnualSales>800000</AnnualSales><AnnualRevenue>80000</AnnualRevenue><BankName>United Security</BankName><BusinessType>BM</BusinessType><YearOpened>1997</YearOpened><Specialty>Mountain</Specialty><SquareFeet>23000</SquareFeet><Brands>2</Brands><Internet>DSL</Internet><NumberEmployees>18</NumberEmployees></StoreSurvey>",
         "2014-09-12",
         "Coalition Bike Company",
         281,
         "137fea4b-320d-4676-a548-8efcf1f6b36b"
        ],
        [
         494,
         "<StoreSurvey xmlns=\"http://schemas.microsoft.com/sqlserver/2004/07/adventure-works/StoreSurvey\"><AnnualSales>800000</AnnualSales><AnnualRevenue>80000</AnnualRevenue><BankName>International Bank</BankName><BusinessType>BM</BusinessType><YearOpened>1975</YearOpened><Specialty>Road</Specialty><SquareFeet>21000</SquareFeet><Brands>4+</Brands><Internet>T2</Internet><NumberEmployees>19</NumberEmployees></StoreSurvey>",
         "2014-09-12",
         "Travel Systems",
         277,
         "18203555-d7ae-4da4-a9fc-316d73435120"
        ],
        [
         496,
         "<StoreSurvey xmlns=\"http://schemas.microsoft.com/sqlserver/2004/07/adventure-works/StoreSurvey\"><AnnualSales>1500000</AnnualSales><AnnualRevenue>150000</AnnualRevenue><BankName>Primary Bank &amp; Reserve</BankName><BusinessType>BS</BusinessType><YearOpened>1979</YearOpened><Specialty>Road</Specialty><SquareFeet>36000</SquareFeet><Brands>4+</Brands><Internet>T2</Internet><NumberEmployees>38</NumberEmployees></StoreSurvey>",
         "2014-09-12",
         "Grease and Oil Products Company",
         277,
         "458ad954-8f14-43b4-be03-b994cac60358"
        ],
        [
         498,
         "<StoreSurvey xmlns=\"http://schemas.microsoft.com/sqlserver/2004/07/adventure-works/StoreSurvey\"><AnnualSales>1500000</AnnualSales><AnnualRevenue>150000</AnnualRevenue><BankName>International Security</BankName><BusinessType>BS</BusinessType><YearOpened>1974</YearOpened><Specialty>Mountain</Specialty><SquareFeet>39000</SquareFeet><Brands>2</Brands><Internet>DSL</Internet><NumberEmployees>39</NumberEmployees></StoreSurvey>",
         "2014-09-12",
         "Moderately-Priced Bikes Store",
         280,
         "05fd9119-a72e-4042-b2ce-cb512247db27"
        ],
        [
         500,
         "<StoreSurvey xmlns=\"http://schemas.microsoft.com/sqlserver/2004/07/adventure-works/StoreSurvey\"><AnnualSales>1500000</AnnualSales><AnnualRevenue>150000</AnnualRevenue><BankName>Guardian Bank</BankName><BusinessType>BS</BusinessType><YearOpened>1977</YearOpened><Specialty>Road</Specialty><SquareFeet>40000</SquareFeet><Brands>4+</Brands><Internet>DSL</Internet><NumberEmployees>41</NumberEmployees></StoreSurvey>",
         "2014-09-12",
         "Toy Manufacturing Inc",
         278,
         "4984efd9-0788-450a-a4ac-019899744287"
        ],
        [
         502,
         "<StoreSurvey xmlns=\"http://schemas.microsoft.com/sqlserver/2004/07/adventure-works/StoreSurvey\"><AnnualSales>1500000</AnnualSales><AnnualRevenue>150000</AnnualRevenue><BankName>Primary International</BankName><BusinessType>BS</BusinessType><YearOpened>1985</YearOpened><Specialty>Road</Specialty><SquareFeet>37000</SquareFeet><Brands>4+</Brands><Internet>T1</Internet><NumberEmployees>42</NumberEmployees></StoreSurvey>",
         "2014-09-12",
         "Eighty Toy Stores",
         279,
         "9664e5a8-7584-410b-b610-ad49368d670e"
        ],
        [
         504,
         "<StoreSurvey xmlns=\"http://schemas.microsoft.com/sqlserver/2004/07/adventure-works/StoreSurvey\"><AnnualSales>1500000</AnnualSales><AnnualRevenue>150000</AnnualRevenue><BankName>Reserve Security</BankName><BusinessType>BS</BusinessType><YearOpened>1980</YearOpened><Specialty>Mountain</Specialty><SquareFeet>41000</SquareFeet><Brands>4+</Brands><Internet>DSL</Internet><NumberEmployees>43</NumberEmployees></StoreSurvey>",
         "2014-09-12",
         "Economy Bikes Company",
         276,
         "ab32ce06-f2af-4b8a-889a-cfc4db6b150a"
        ],
        [
         506,
         "<StoreSurvey xmlns=\"http://schemas.microsoft.com/sqlserver/2004/07/adventure-works/StoreSurvey\"><AnnualSales>1500000</AnnualSales><AnnualRevenue>150000</AnnualRevenue><BankName>United Security</BankName><BusinessType>BS</BusinessType><YearOpened>1988</YearOpened><Specialty>Road</Specialty><SquareFeet>37000</SquareFeet><Brands>4+</Brands><Internet>T1</Internet><NumberEmployees>44</NumberEmployees></StoreSurvey>",
         "2014-09-12",
         "Third Bike Store",
         277,
         "a7048720-5bdd-4df4-8685-d14d868ae297"
        ],
        [
         508,
         "<StoreSurvey xmlns=\"http://schemas.microsoft.com/sqlserver/2004/07/adventure-works/StoreSurvey\"><AnnualSales>1000000</AnnualSales><AnnualRevenue>100000</AnnualRevenue><BankName>Reserve Security</BankName><BusinessType>BM</BusinessType><YearOpened>2000</YearOpened><Specialty>Road</Specialty><SquareFeet>25000</SquareFeet><Brands>3</Brands><Internet>DSL</Internet><NumberEmployees>20</NumberEmployees></StoreSurvey>",
         "2014-09-12",
         "Atypical Bike Company",
         290,
         "fc920a3a-8bae-403d-99ce-542bf8923fbd"
        ],
        [
         510,
         "<StoreSurvey xmlns=\"http://schemas.microsoft.com/sqlserver/2004/07/adventure-works/StoreSurvey\"><AnnualSales>800000</AnnualSales><AnnualRevenue>80000</AnnualRevenue><BankName>United Security</BankName><BusinessType>BM</BusinessType><YearOpened>1994</YearOpened><Specialty>Mountain</Specialty><SquareFeet>22000</SquareFeet><Brands>3</Brands><Internet>T1</Internet><NumberEmployees>18</NumberEmployees></StoreSurvey>",
         "2014-09-12",
         "Bikes for Two",
         282,
         "da5280d3-2e15-4359-a493-c036c0a84ec4"
        ],
        [
         512,
         "<StoreSurvey xmlns=\"http://schemas.microsoft.com/sqlserver/2004/07/adventure-works/StoreSurvey\"><AnnualSales>1500000</AnnualSales><AnnualRevenue>150000</AnnualRevenue><BankName>International Security</BankName><BusinessType>BS</BusinessType><YearOpened>1986</YearOpened><Specialty>Road</Specialty><SquareFeet>39000</SquareFeet><Brands>4+</Brands><Internet>DSL</Internet><NumberEmployees>47</NumberEmployees></StoreSurvey>",
         "2014-09-12",
         "Metal Processing Company",
         278,
         "e71200e7-e3b5-4a40-bad9-88364de28030"
        ],
        [
         514,
         "<StoreSurvey xmlns=\"http://schemas.microsoft.com/sqlserver/2004/07/adventure-works/StoreSurvey\"><AnnualSales>1500000</AnnualSales><AnnualRevenue>150000</AnnualRevenue><BankName>Guardian Bank</BankName><BusinessType>BS</BusinessType><YearOpened>1994</YearOpened><Specialty>Road</Specialty><SquareFeet>38000</SquareFeet><Brands>3</Brands><Internet>DSL</Internet><NumberEmployees>48</NumberEmployees></StoreSurvey>",
         "2014-09-12",
         "Widget Bicycle Specialists",
         279,
         "5a49a2fe-09cc-46a7-95f5-e81f346477bb"
        ],
        [
         516,
         "<StoreSurvey xmlns=\"http://schemas.microsoft.com/sqlserver/2004/07/adventure-works/StoreSurvey\"><AnnualSales>800000</AnnualSales><AnnualRevenue>80000</AnnualRevenue><BankName>International Security</BankName><BusinessType>BM</BusinessType><YearOpened>1996</YearOpened><Specialty>Mountain</Specialty><SquareFeet>19000</SquareFeet><Brands>4+</Brands><Internet>DSL</Internet><NumberEmployees>13</NumberEmployees></StoreSurvey>",
         "2014-09-12",
         "Initial Bike Company",
         281,
         "0adcf413-2501-4dcb-bb86-01ce9f6d92be"
        ],
        [
         518,
         "<StoreSurvey xmlns=\"http://schemas.microsoft.com/sqlserver/2004/07/adventure-works/StoreSurvey\"><AnnualSales>800000</AnnualSales><AnnualRevenue>80000</AnnualRevenue><BankName>Guardian Bank</BankName><BusinessType>BM</BusinessType><YearOpened>1991</YearOpened><Specialty>Mountain</Specialty><SquareFeet>18000</SquareFeet><Brands>4+</Brands><Internet>T1</Internet><NumberEmployees>14</NumberEmployees></StoreSurvey>",
         "2014-09-12",
         "Latest Sports Equipment",
         283,
         "afc82a28-1a27-4899-a413-1b4d32a2df11"
        ],
        [
         520,
         "<StoreSurvey xmlns=\"http://schemas.microsoft.com/sqlserver/2004/07/adventure-works/StoreSurvey\"><AnnualSales>800000</AnnualSales><AnnualRevenue>80000</AnnualRevenue><BankName>Primary International</BankName><BusinessType>BM</BusinessType><YearOpened>1999</YearOpened><Specialty>Road</Specialty><SquareFeet>21000</SquareFeet><Brands>4+</Brands><Internet>T1</Internet><NumberEmployees>15</NumberEmployees></StoreSurvey>",
         "2014-09-12",
         "Modern Bike Store",
         275,
         "a7008459-efe5-459d-95d9-80f5e5b44132"
        ],
        [
         522,
         "<StoreSurvey xmlns=\"http://schemas.microsoft.com/sqlserver/2004/07/adventure-works/StoreSurvey\"><AnnualSales>3000000</AnnualSales><AnnualRevenue>300000</AnnualRevenue><BankName>Primary Bank &amp; Reserve</BankName><BusinessType>OS</BusinessType><YearOpened>1998</YearOpened><Specialty>Mountain</Specialty><SquareFeet>74000</SquareFeet><Brands>4+</Brands><Internet>ISDN</Internet><NumberEmployees>73</NumberEmployees></StoreSurvey>",
         "2014-09-12",
         "Raw Materials Inc",
         280,
         "4575f698-2fa1-409c-866f-0d688251499a"
        ],
        [
         524,
         "<StoreSurvey xmlns=\"http://schemas.microsoft.com/sqlserver/2004/07/adventure-works/StoreSurvey\"><AnnualSales>3000000</AnnualSales><AnnualRevenue>300000</AnnualRevenue><BankName>International Bank</BankName><BusinessType>OS</BusinessType><YearOpened>1990</YearOpened><Specialty>Mountain</Specialty><SquareFeet>73000</SquareFeet><Brands>2</Brands><Internet>T1</Internet><NumberEmployees>76</NumberEmployees></StoreSurvey>",
         "2014-09-12",
         "Lots of Bikes Storehouse",
         277,
         "91d541e3-6bc1-4921-bc6a-2c13eb3f7c02"
        ],
        [
         526,
         "<StoreSurvey xmlns=\"http://schemas.microsoft.com/sqlserver/2004/07/adventure-works/StoreSurvey\"><AnnualSales>3000000</AnnualSales><AnnualRevenue>300000</AnnualRevenue><BankName>United Security</BankName><BusinessType>OS</BusinessType><YearOpened>1995</YearOpened><Specialty>Mountain</Specialty><SquareFeet>77000</SquareFeet><Brands>2</Brands><Internet>DSL</Internet><NumberEmployees>79</NumberEmployees></StoreSurvey>",
         "2014-09-12",
         "Futuristic Bikes",
         281,
         "41dfd0ba-e78e-4456-95ef-3595d32d7ca1"
        ],
        [
         528,
         "<StoreSurvey xmlns=\"http://schemas.microsoft.com/sqlserver/2004/07/adventure-works/StoreSurvey\"><AnnualSales>1500000</AnnualSales><AnnualRevenue>150000</AnnualRevenue><BankName>United Security</BankName><BusinessType>BS</BusinessType><YearOpened>1979</YearOpened><Specialty>Road</Specialty><SquareFeet>36000</SquareFeet><Brands>4+</Brands><Internet>DSL</Internet><NumberEmployees>38</NumberEmployees></StoreSurvey>",
         "2014-09-12",
         "Parcel Express Delivery Service",
         283,
         "a4daaaf3-0d24-491d-bd6f-3d0413a38f2d"
        ],
        [
         530,
         "<StoreSurvey xmlns=\"http://schemas.microsoft.com/sqlserver/2004/07/adventure-works/StoreSurvey\"><AnnualSales>1500000</AnnualSales><AnnualRevenue>150000</AnnualRevenue><BankName>International Bank</BankName><BusinessType>BS</BusinessType><YearOpened>1974</YearOpened><Specialty>Mountain</Specialty><SquareFeet>36000</SquareFeet><Brands>3</Brands><Internet>DSL</Internet><NumberEmployees>39</NumberEmployees></StoreSurvey>",
         "2014-09-12",
         "Outdoor Distributors",
         275,
         "b7004ace-63fa-4cab-8057-8456750c2dc0"
        ],
        [
         532,
         "<StoreSurvey xmlns=\"http://schemas.microsoft.com/sqlserver/2004/07/adventure-works/StoreSurvey\"><AnnualSales>1500000</AnnualSales><AnnualRevenue>150000</AnnualRevenue><BankName>Primary Bank &amp; Reserve</BankName><BusinessType>BS</BusinessType><YearOpened>1982</YearOpened><Specialty>Road</Specialty><SquareFeet>37000</SquareFeet><Brands>4+</Brands><Internet>T1</Internet><NumberEmployees>40</NumberEmployees></StoreSurvey>",
         "2014-09-12",
         "North Bike Company",
         288,
         "dca8e739-f0fe-490f-990b-2b116d82c77d"
        ],
        [
         534,
         "<StoreSurvey xmlns=\"http://schemas.microsoft.com/sqlserver/2004/07/adventure-works/StoreSurvey\"><AnnualSales>3000000</AnnualSales><AnnualRevenue>300000</AnnualRevenue><BankName>Guardian Bank</BankName><BusinessType>OS</BusinessType><YearOpened>1999</YearOpened><Specialty>Road</Specialty><SquareFeet>79000</SquareFeet><Brands>4+</Brands><Internet>T1</Internet><NumberEmployees>99</NumberEmployees></StoreSurvey>",
         "2014-09-12",
         "Prosperous Tours",
         289,
         "a0ee7b0a-7741-4f37-bdec-8d2206467fce"
        ],
        [
         536,
         "<StoreSurvey xmlns=\"http://schemas.microsoft.com/sqlserver/2004/07/adventure-works/StoreSurvey\"><AnnualSales>3000000</AnnualSales><AnnualRevenue>300000</AnnualRevenue><BankName>International Security</BankName><BusinessType>OS</BusinessType><YearOpened>1999</YearOpened><Specialty>Mountain</Specialty><SquareFeet>80000</SquareFeet><Brands>3</Brands><Internet>T2</Internet><NumberEmployees>100</NumberEmployees></StoreSurvey>",
         "2014-09-12",
         "Nonskid Tire Company",
         280,
         "0e90c627-a250-4dba-b891-b259dbe2ca6b"
        ],
        [
         538,
         "<StoreSurvey xmlns=\"http://schemas.microsoft.com/sqlserver/2004/07/adventure-works/StoreSurvey\"><AnnualSales>3000000</AnnualSales><AnnualRevenue>300000</AnnualRevenue><BankName>Primary Bank &amp; Reserve</BankName><BusinessType>OS</BusinessType><YearOpened>1999</YearOpened><Specialty>Touring</Specialty><SquareFeet>77000</SquareFeet><Brands>4+</Brands><Internet>T3</Internet><NumberEmployees>99</NumberEmployees></StoreSurvey>",
         "2014-09-12",
         "Amalgamated Parts Shop",
         288,
         "0ce11724-2b7f-4490-94a4-7175f97d6d7f"
        ],
        [
         540,
         "<StoreSurvey xmlns=\"http://schemas.microsoft.com/sqlserver/2004/07/adventure-works/StoreSurvey\"><AnnualSales>3000000</AnnualSales><AnnualRevenue>300000</AnnualRevenue><BankName>International Bank</BankName><BusinessType>OS</BusinessType><YearOpened>1999</YearOpened><Specialty>Mountain</Specialty><SquareFeet>77000</SquareFeet><Brands>4+</Brands><Internet>DSL</Internet><NumberEmployees>100</NumberEmployees></StoreSurvey>",
         "2014-09-12",
         "Metro Bike Works",
         275,
         "b555436d-e4be-4352-8144-5064a4d62964"
        ],
        [
         542,
         "<StoreSurvey xmlns=\"http://schemas.microsoft.com/sqlserver/2004/07/adventure-works/StoreSurvey\"><AnnualSales>800000</AnnualSales><AnnualRevenue>80000</AnnualRevenue><BankName>Primary International</BankName><BusinessType>BS</BusinessType><YearOpened>1972</YearOpened><Specialty>Touring</Specialty><SquareFeet>19000</SquareFeet><Brands>3</Brands><Internet>DSL</Internet><NumberEmployees>10</NumberEmployees></StoreSurvey>",
         "2014-09-12",
         "Best o' Bikes",
         277,
         "73dcb69b-0b2e-492a-a8ed-852969c26787"
        ],
        [
         544,
         "<StoreSurvey xmlns=\"http://schemas.microsoft.com/sqlserver/2004/07/adventure-works/StoreSurvey\"><AnnualSales>1000000</AnnualSales><AnnualRevenue>100000</AnnualRevenue><BankName>Guardian Bank</BankName><BusinessType>BS</BusinessType><YearOpened>1998</YearOpened><Specialty>Road</Specialty><SquareFeet>24000</SquareFeet><Brands>3</Brands><Internet>DSL</Internet><NumberEmployees>27</NumberEmployees></StoreSurvey>",
         "2014-09-12",
         "Painters Bicycle Specialists",
         275,
         "88edc59c-1196-425a-8e7e-2286bf95a214"
        ],
        [
         546,
         "<StoreSurvey xmlns=\"http://schemas.microsoft.com/sqlserver/2004/07/adventure-works/StoreSurvey\"><AnnualSales>1000000</AnnualSales><AnnualRevenue>100000</AnnualRevenue><BankName>Guardian Bank</BankName><BusinessType>BM</BusinessType><YearOpened>2000</YearOpened><Specialty>Mountain</Specialty><SquareFeet>24000</SquareFeet><Brands>2</Brands><Internet>DSL</Internet><NumberEmployees>20</NumberEmployees></StoreSurvey>",
         "2014-09-12",
         "Client Discount Store",
         277,
         "c7615b39-9562-48dd-a81b-107914a3dd1f"
        ],
        [
         548,
         "<StoreSurvey xmlns=\"http://schemas.microsoft.com/sqlserver/2004/07/adventure-works/StoreSurvey\"><AnnualSales>800000</AnnualSales><AnnualRevenue>80000</AnnualRevenue><BankName>Primary International</BankName><BusinessType>BM</BusinessType><YearOpened>2000</YearOpened><Specialty>Road</Specialty><SquareFeet>19000</SquareFeet><Brands>AW</Brands><Internet>T1</Internet><NumberEmployees>17</NumberEmployees></StoreSurvey>",
         "2014-09-12",
         "Eastside Sporting Goods",
         275,
         "03189c8f-84cc-4207-92d4-4da26efdbb17"
        ],
        [
         550,
         "<StoreSurvey xmlns=\"http://schemas.microsoft.com/sqlserver/2004/07/adventure-works/StoreSurvey\"><AnnualSales>800000</AnnualSales><AnnualRevenue>80000</AnnualRevenue><BankName>Reserve Security</BankName><BusinessType>BM</BusinessType><YearOpened>1994</YearOpened><Specialty>Touring</Specialty><SquareFeet>21000</SquareFeet><Brands>4+</Brands><Internet>ISDN</Internet><NumberEmployees>14</NumberEmployees></StoreSurvey>",
         "2014-09-12",
         "Helmets and Cycles",
         286,
         "0ea0a15a-a2cd-4f25-a833-b31cae39e783"
        ],
        [
         552,
         "<StoreSurvey xmlns=\"http://schemas.microsoft.com/sqlserver/2004/07/adventure-works/StoreSurvey\"><AnnualSales>1500000</AnnualSales><AnnualRevenue>150000</AnnualRevenue><BankName>Guardian Bank</BankName><BusinessType>BS</BusinessType><YearOpened>1988</YearOpened><Specialty>Road</Specialty><SquareFeet>39000</SquareFeet><Brands>3</Brands><Internet>DSL</Internet><NumberEmployees>35</NumberEmployees></StoreSurvey>",
         "2014-09-12",
         "Requisite Part Supply",
         282,
         "10e20a63-73cf-4a80-a678-3d829c108d43"
        ],
        [
         554,
         "<StoreSurvey xmlns=\"http://schemas.microsoft.com/sqlserver/2004/07/adventure-works/StoreSurvey\"><AnnualSales>1500000</AnnualSales><AnnualRevenue>150000</AnnualRevenue><BankName>Primary International</BankName><BusinessType>BS</BusinessType><YearOpened>1976</YearOpened><Specialty>Touring</Specialty><SquareFeet>39000</SquareFeet><Brands>3</Brands><Internet>DSL</Internet><NumberEmployees>36</NumberEmployees></StoreSurvey>",
         "2014-09-12",
         "Racks and Security Systems",
         279,
         "4a3c505a-c5ae-4061-b376-67415efcecbb"
        ],
        [
         556,
         "<StoreSurvey xmlns=\"http://schemas.microsoft.com/sqlserver/2004/07/adventure-works/StoreSurvey\"><AnnualSales>1500000</AnnualSales><AnnualRevenue>150000</AnnualRevenue><BankName>Reserve Security</BankName><BusinessType>BS</BusinessType><YearOpened>1971</YearOpened><Specialty>Road</Specialty><SquareFeet>38000</SquareFeet><Brands>4+</Brands><Internet>DSL</Internet><NumberEmployees>37</NumberEmployees></StoreSurvey>",
         "2014-09-12",
         "Mechanical Products Ltd.",
         281,
         "caad1f0f-e7d6-47e6-a124-788b1a9426f7"
        ],
        [
         558,
         "<StoreSurvey xmlns=\"http://schemas.microsoft.com/sqlserver/2004/07/adventure-works/StoreSurvey\"><AnnualSales>1500000</AnnualSales><AnnualRevenue>150000</AnnualRevenue><BankName>Guardian Bank</BankName><BusinessType>BS</BusinessType><YearOpened>1974</YearOpened><Specialty>Road</Specialty><SquareFeet>37000</SquareFeet><Brands>4+</Brands><Internet>DSL</Internet><NumberEmployees>39</NumberEmployees></StoreSurvey>",
         "2014-09-12",
         "Commendable Bikes",
         283,
         "eb847e4a-b183-4385-8de1-57c39d4d3304"
        ],
        [
         560,
         "<StoreSurvey xmlns=\"http://schemas.microsoft.com/sqlserver/2004/07/adventure-works/StoreSurvey\"><AnnualSales>1500000</AnnualSales><AnnualRevenue>150000</AnnualRevenue><BankName>Primary International</BankName><BusinessType>BS</BusinessType><YearOpened>1982</YearOpened><Specialty>Mountain</Specialty><SquareFeet>39000</SquareFeet><Brands>2</Brands><Internet>DSL</Internet><NumberEmployees>40</NumberEmployees></StoreSurvey>",
         "2014-09-12",
         "Online Bike Sellers",
         275,
         "35ebf652-e9fc-490c-902d-304e4d112ed9"
        ],
        [
         562,
         "<StoreSurvey xmlns=\"http://schemas.microsoft.com/sqlserver/2004/07/adventure-works/StoreSurvey\"><AnnualSales>3000000</AnnualSales><AnnualRevenue>300000</AnnualRevenue><BankName>Guardian Bank</BankName><BusinessType>OS</BusinessType><YearOpened>1998</YearOpened><Specialty>Road</Specialty><SquareFeet>79000</SquareFeet><Brands>4+</Brands><Internet>DSL</Internet><NumberEmployees>98</NumberEmployees></StoreSurvey>",
         "2014-09-12",
         "Custom Accessories Company",
         278,
         "77bbddb3-3fc7-4be6-9f90-18083f0ddaf8"
        ],
        [
         564,
         "<StoreSurvey xmlns=\"http://schemas.microsoft.com/sqlserver/2004/07/adventure-works/StoreSurvey\"><AnnualSales>3000000</AnnualSales><AnnualRevenue>300000</AnnualRevenue><BankName>International Security</BankName><BusinessType>OS</BusinessType><YearOpened>1999</YearOpened><Specialty>Touring</Specialty><SquareFeet>78000</SquareFeet><Brands>4+</Brands><Internet>DSL</Internet><NumberEmployees>99</NumberEmployees></StoreSurvey>",
         "2014-09-12",
         "Unusual Bicycle Company",
         286,
         "c7b796a1-f605-4236-b784-1d1a2c3f2b7e"
        ],
        [
         566,
         "<StoreSurvey xmlns=\"http://schemas.microsoft.com/sqlserver/2004/07/adventure-works/StoreSurvey\"><AnnualSales>300000</AnnualSales><AnnualRevenue>30000</AnnualRevenue><BankName>International Security</BankName><BusinessType>BM</BusinessType><YearOpened>1982</YearOpened><Specialty>Touring</Specialty><SquareFeet>10000</SquareFeet><Brands>2</Brands><Internet>DSL</Internet><NumberEmployees>8</NumberEmployees></StoreSurvey>",
         "2014-09-12",
         "Courteous Bicycle Specialists",
         282,
         "62032f02-08f9-4766-8fc2-9ead345aeec6"
        ],
        [
         568,
         "<StoreSurvey xmlns=\"http://schemas.microsoft.com/sqlserver/2004/07/adventure-works/StoreSurvey\"><AnnualSales>300000</AnnualSales><AnnualRevenue>30000</AnnualRevenue><BankName>Guardian Bank</BankName><BusinessType>BM</BusinessType><YearOpened>1976</YearOpened><Specialty>Mountain</Specialty><SquareFeet>6000</SquareFeet><Brands>2</Brands><Internet>DSL</Internet><NumberEmployees>5</NumberEmployees></StoreSurvey>",
         "2014-09-12",
         "Hobby Store",
         279,
         "4d72976f-7a2f-499d-84ba-ea5fd79d0d14"
        ],
        [
         570,
         "<StoreSurvey xmlns=\"http://schemas.microsoft.com/sqlserver/2004/07/adventure-works/StoreSurvey\"><AnnualSales>300000</AnnualSales><AnnualRevenue>30000</AnnualRevenue><BankName>Primary International</BankName><BusinessType>BM</BusinessType><YearOpened>1970</YearOpened><Specialty>Mountain</Specialty><SquareFeet>10000</SquareFeet><Brands>2</Brands><Internet>T1</Internet><NumberEmployees>2</NumberEmployees></StoreSurvey>",
         "2014-09-12",
         "Professional Cycle Store",
         281,
         "8c1f3e35-1a21-4ff8-8256-7433c6591d10"
        ],
        [
         572,
         "<StoreSurvey xmlns=\"http://schemas.microsoft.com/sqlserver/2004/07/adventure-works/StoreSurvey\"><AnnualSales>1000000</AnnualSales><AnnualRevenue>100000</AnnualRevenue><BankName>United Security</BankName><BusinessType>BS</BusinessType><YearOpened>1971</YearOpened><Specialty>Mountain</Specialty><SquareFeet>28000</SquareFeet><Brands>4+</Brands><Internet>T2</Internet><NumberEmployees>28</NumberEmployees></StoreSurvey>",
         "2014-09-12",
         "Bike Universe",
         281,
         "5414845a-db08-45c9-8160-1762390db768"
        ],
        [
         574,
         "<StoreSurvey xmlns=\"http://schemas.microsoft.com/sqlserver/2004/07/adventure-works/StoreSurvey\"><AnnualSales>1000000</AnnualSales><AnnualRevenue>100000</AnnualRevenue><BankName>International Bank</BankName><BusinessType>BS</BusinessType><YearOpened>2001</YearOpened><Specialty>Road</Specialty><SquareFeet>26000</SquareFeet><Brands>4+</Brands><Internet>DSL</Internet><NumberEmployees>25</NumberEmployees></StoreSurvey>",
         "2014-09-12",
         "Fifth Bike Store",
         283,
         "8db66e19-fc69-45b1-888b-63d253ed6a8f"
        ],
        [
         576,
         "<StoreSurvey xmlns=\"http://schemas.microsoft.com/sqlserver/2004/07/adventure-works/StoreSurvey\"><AnnualSales>1000000</AnnualSales><AnnualRevenue>100000</AnnualRevenue><BankName>Primary Bank &amp; Reserve</BankName><BusinessType>BS</BusinessType><YearOpened>1996</YearOpened><Specialty>Road</Specialty><SquareFeet>25000</SquareFeet><Brands>3</Brands><Internet>DSL</Internet><NumberEmployees>22</NumberEmployees></StoreSurvey>",
         "2014-09-12",
         "Independent Outlet",
         275,
         "d888b41f-0f06-4e08-b871-b4fd6f9e22cf"
        ],
        [
         578,
         "<StoreSurvey xmlns=\"http://schemas.microsoft.com/sqlserver/2004/07/adventure-works/StoreSurvey\"><AnnualSales>800000</AnnualSales><AnnualRevenue>80000</AnnualRevenue><BankName>International Security</BankName><BusinessType>BS</BusinessType><YearOpened>1990</YearOpened><Specialty>Touring</Specialty><SquareFeet>19000</SquareFeet><Brands>3</Brands><Internet>T3</Internet><NumberEmployees>19</NumberEmployees></StoreSurvey>",
         "2014-09-12",
         "Rambling Tours",
         288,
         "59763192-45a0-42f9-a4f2-8ecf595db261"
        ],
        [
         580,
         "<StoreSurvey xmlns=\"http://schemas.microsoft.com/sqlserver/2004/07/adventure-works/StoreSurvey\"><AnnualSales>3000000</AnnualSales><AnnualRevenue>300000</AnnualRevenue><BankName>United Security</BankName><BusinessType>OS</BusinessType><YearOpened>1987</YearOpened><Specialty>Touring</Specialty><SquareFeet>74000</SquareFeet><Brands>4+</Brands><Internet>DSL</Internet><NumberEmployees>80</NumberEmployees></StoreSurvey>",
         "2014-09-12",
         "Farthest Bike Store",
         282,
         "0e3f4f5a-5dee-4b0a-a5a5-c524f74156ea"
        ],
        [
         582,
         "<StoreSurvey xmlns=\"http://schemas.microsoft.com/sqlserver/2004/07/adventure-works/StoreSurvey\"><AnnualSales>3000000</AnnualSales><AnnualRevenue>300000</AnnualRevenue><BankName>Reserve Security</BankName><BusinessType>OS</BusinessType><YearOpened>1992</YearOpened><Specialty>Touring</Specialty><SquareFeet>75000</SquareFeet><Brands>2</Brands><Internet>DSL</Internet><NumberEmployees>81</NumberEmployees></StoreSurvey>",
         "2014-09-12",
         "Excellent Bikes",
         288,
         "cbc9be9e-5422-411c-b3ef-a301be4ae107"
        ],
        [
         584,
         "<StoreSurvey xmlns=\"http://schemas.microsoft.com/sqlserver/2004/07/adventure-works/StoreSurvey\"><AnnualSales>3000000</AnnualSales><AnnualRevenue>300000</AnnualRevenue><BankName>Primary International</BankName><BusinessType>OS</BusinessType><YearOpened>1984</YearOpened><Specialty>Road</Specialty><SquareFeet>73000</SquareFeet><Brands>4+</Brands><Internet>DSL</Internet><NumberEmployees>82</NumberEmployees></StoreSurvey>",
         "2014-09-12",
         "Curbside Universe",
         275,
         "3c49dde5-c64c-4456-8b4a-aa9e1ecc9c2f"
        ],
        [
         586,
         "<StoreSurvey xmlns=\"http://schemas.microsoft.com/sqlserver/2004/07/adventure-works/StoreSurvey\"><AnnualSales>1500000</AnnualSales><AnnualRevenue>150000</AnnualRevenue><BankName>Primary Bank &amp; Reserve</BankName><BusinessType>BS</BusinessType><YearOpened>1983</YearOpened><Specialty>Road</Specialty><SquareFeet>41000</SquareFeet><Brands>4+</Brands><Internet>T1</Internet><NumberEmployees>45</NumberEmployees></StoreSurvey>",
         "2014-09-12",
         "Alternative Vehicles",
         280,
         "a8c079a5-40cb-4707-b88d-25b0ffa42664"
        ],
        [
         588,
         "<StoreSurvey xmlns=\"http://schemas.microsoft.com/sqlserver/2004/07/adventure-works/StoreSurvey\"><AnnualSales>1500000</AnnualSales><AnnualRevenue>150000</AnnualRevenue><BankName>International Security</BankName><BusinessType>BS</BusinessType><YearOpened>1991</YearOpened><Specialty>Touring</Specialty><SquareFeet>40000</SquareFeet><Brands>4+</Brands><Internet>DSL</Internet><NumberEmployees>46</NumberEmployees></StoreSurvey>",
         "2014-09-12",
         "Channel Outlet",
         289,
         "70703845-fb8a-40a5-974f-d54b46943647"
        ],
        [
         590,
         "<StoreSurvey xmlns=\"http://schemas.microsoft.com/sqlserver/2004/07/adventure-works/StoreSurvey\"><AnnualSales>1500000</AnnualSales><AnnualRevenue>150000</AnnualRevenue><BankName>Guardian Bank</BankName><BusinessType>BS</BusinessType><YearOpened>1986</YearOpened><Specialty>Mountain</Specialty><SquareFeet>38000</SquareFeet><Brands>4+</Brands><Internet>DSL</Internet><NumberEmployees>47</NumberEmployees></StoreSurvey>",
         "2014-09-12",
         "Full Sports Supply",
         290,
         "8cff03dd-d8ec-4595-92c2-91b5e97957a3"
        ],
        [
         592,
         "<StoreSurvey xmlns=\"http://schemas.microsoft.com/sqlserver/2004/07/adventure-works/StoreSurvey\"><AnnualSales>3000000</AnnualSales><AnnualRevenue>300000</AnnualRevenue><BankName>Primary International</BankName><BusinessType>OS</BusinessType><YearOpened>1977</YearOpened><Specialty>Road</Specialty><SquareFeet>79000</SquareFeet><Brands>4+</Brands><Internet>ISDN</Internet><NumberEmployees>91</NumberEmployees></StoreSurvey>",
         "2014-09-12",
         "Retail Mall",
         282,
         "7da72678-7f78-49f9-981d-29f073c024ce"
        ],
        [
         594,
         "<StoreSurvey xmlns=\"http://schemas.microsoft.com/sqlserver/2004/07/adventure-works/StoreSurvey\"><AnnualSales>3000000</AnnualSales><AnnualRevenue>300000</AnnualRevenue><BankName>Guardian Bank</BankName><BusinessType>OS</BusinessType><YearOpened>1987</YearOpened><Specialty>Road</Specialty><SquareFeet>78000</SquareFeet><Brands>4+</Brands><Internet>DSL</Internet><NumberEmployees>92</NumberEmployees></StoreSurvey>",
         "2014-09-12",
         "Racing Store",
         290,
         "87eacf60-34f0-444a-8291-db255fe388d2"
        ],
        [
         596,
         "<StoreSurvey xmlns=\"http://schemas.microsoft.com/sqlserver/2004/07/adventure-works/StoreSurvey\"><AnnualSales>3000000</AnnualSales><AnnualRevenue>300000</AnnualRevenue><BankName>International Security</BankName><BusinessType>OS</BusinessType><YearOpened>1974</YearOpened><Specialty>Touring</Specialty><SquareFeet>77000</SquareFeet><Brands>4+</Brands><Internet>DSL</Internet><NumberEmployees>93</NumberEmployees></StoreSurvey>",
         "2014-09-12",
         "Metro Metals Co.",
         289,
         "fa71e13b-b051-4f12-a280-f69ecd6af1db"
        ],
        [
         598,
         "<StoreSurvey xmlns=\"http://schemas.microsoft.com/sqlserver/2004/07/adventure-works/StoreSurvey\"><AnnualSales>800000</AnnualSales><AnnualRevenue>80000</AnnualRevenue><BankName>International Security</BankName><BusinessType>BM</BusinessType><YearOpened>1997</YearOpened><Specialty>Road</Specialty><SquareFeet>19000</SquareFeet><Brands>3</Brands><Internet>T1</Internet><NumberEmployees>17</NumberEmployees></StoreSurvey>",
         "2014-09-12",
         "Sheet Metal Manufacturing",
         277,
         "a909c7ed-04a5-4138-ab83-c9e739aa28ae"
        ],
        [
         600,
         "<StoreSurvey xmlns=\"http://schemas.microsoft.com/sqlserver/2004/07/adventure-works/StoreSurvey\"><AnnualSales>800000</AnnualSales><AnnualRevenue>80000</AnnualRevenue><BankName>Guardian Bank</BankName><BusinessType>BM</BusinessType><YearOpened>1975</YearOpened><Specialty>Road</Specialty><SquareFeet>22000</SquareFeet><Brands>2</Brands><Internet>T1</Internet><NumberEmployees>18</NumberEmployees></StoreSurvey>",
         "2014-09-12",
         "Thorough Parts and Repair Services",
         280,
         "6a32068c-6a79-43cf-a443-57841ed98990"
        ],
        [
         602,
         "<StoreSurvey xmlns=\"http://schemas.microsoft.com/sqlserver/2004/07/adventure-works/StoreSurvey\"><AnnualSales>800000</AnnualSales><AnnualRevenue>80000</AnnualRevenue><BankName>Primary International</BankName><BusinessType>BM</BusinessType><YearOpened>2000</YearOpened><Specialty>Road</Specialty><SquareFeet>20000</SquareFeet><Brands>4+</Brands><Internet>DSL</Internet><NumberEmployees>19</NumberEmployees></StoreSurvey>",
         "2014-09-12",
         "Uttermost Bike Shop",
         289,
         "24f1c5f8-093a-426c-87ce-8fa9af9fac33"
        ],
        [
         604,
         "<StoreSurvey xmlns=\"http://schemas.microsoft.com/sqlserver/2004/07/adventure-works/StoreSurvey\"><AnnualSales>1500000</AnnualSales><AnnualRevenue>150000</AnnualRevenue><BankName>International Security</BankName><BusinessType>BS</BusinessType><YearOpened>1995</YearOpened><Specialty>Road</Specialty><SquareFeet>40000</SquareFeet><Brands>3</Brands><Internet>DSL</Internet><NumberEmployees>40</NumberEmployees></StoreSurvey>",
         "2014-09-12",
         "Mechanical Sports Center",
         275,
         "739999fe-97eb-4f89-ba26-a34771d9af65"
        ],
        [
         606,
         "<StoreSurvey xmlns=\"http://schemas.microsoft.com/sqlserver/2004/07/adventure-works/StoreSurvey\"><AnnualSales>1500000</AnnualSales><AnnualRevenue>150000</AnnualRevenue><BankName>Guardian Bank</BankName><BusinessType>BS</BusinessType><YearOpened>1995</YearOpened><Specialty>Road</Specialty><SquareFeet>39000</SquareFeet><Brands>3</Brands><Internet>DSL</Internet><NumberEmployees>37</NumberEmployees></StoreSurvey>",
         "2014-09-12",
         "Speedometer Sales",
         288,
         "56c01043-10b4-487e-8d55-48c1268bce1d"
        ],
        [
         608,
         "<StoreSurvey xmlns=\"http://schemas.microsoft.com/sqlserver/2004/07/adventure-works/StoreSurvey\"><AnnualSales>1500000</AnnualSales><AnnualRevenue>150000</AnnualRevenue><BankName>Primary International</BankName><BusinessType>BS</BusinessType><YearOpened>1983</YearOpened><Specialty>Mountain</Specialty><SquareFeet>38000</SquareFeet><Brands>4+</Brands><Internet>DSL</Internet><NumberEmployees>34</NumberEmployees></StoreSurvey>",
         "2014-09-12",
         "Two-Wheeled Transit Company",
         282,
         "d03c1cea-5d48-4dd1-98d6-87d06c1f33a1"
        ],
        [
         610,
         "<StoreSurvey xmlns=\"http://schemas.microsoft.com/sqlserver/2004/07/adventure-works/StoreSurvey\"><AnnualSales>1500000</AnnualSales><AnnualRevenue>150000</AnnualRevenue><BankName>Reserve Security</BankName><BusinessType>BS</BusinessType><YearOpened>1998</YearOpened><Specialty>Mountain</Specialty><SquareFeet>37000</SquareFeet><Brands>4+</Brands><Internet>T1</Internet><NumberEmployees>31</NumberEmployees></StoreSurvey>",
         "2014-09-12",
         "Mountain Emporium",
         279,
         "3b74778c-9e53-47d0-83ef-6438b9b77427"
        ],
        [
         612,
         "<StoreSurvey xmlns=\"http://schemas.microsoft.com/sqlserver/2004/07/adventure-works/StoreSurvey\"><AnnualSales>3000000</AnnualSales><AnnualRevenue>300000</AnnualRevenue><BankName>Guardian Bank</BankName><BusinessType>OS</BusinessType><YearOpened>1989</YearOpened><Specialty>Mountain</Specialty><SquareFeet>74000</SquareFeet><Brands>3</Brands><Internet>T1</Internet><NumberEmployees>83</NumberEmployees></StoreSurvey>",
         "2014-09-12",
         "Metro Cycle Shop",
         283,
         "43be0e08-95b3-4cfe-b5fe-7c9a7270ffba"
        ],
        [
         614,
         "<StoreSurvey xmlns=\"http://schemas.microsoft.com/sqlserver/2004/07/adventure-works/StoreSurvey\"><AnnualSales>3000000</AnnualSales><AnnualRevenue>300000</AnnualRevenue><BankName>International Security</BankName><BusinessType>OS</BusinessType><YearOpened>1981</YearOpened><Specialty>Touring</Specialty><SquareFeet>74000</SquareFeet><Brands>3</Brands><Internet>ISDN</Internet><NumberEmployees>84</NumberEmployees></StoreSurvey>",
         "2014-09-12",
         "Outdoor Sporting Goods",
         281,
         "689b5679-a37f-40c9-9f90-e4ce21785e20"
        ],
        [
         616,
         "<StoreSurvey xmlns=\"http://schemas.microsoft.com/sqlserver/2004/07/adventure-works/StoreSurvey\"><AnnualSales>3000000</AnnualSales><AnnualRevenue>300000</AnnualRevenue><BankName>Primary Bank &amp; Reserve</BankName><BusinessType>OS</BusinessType><YearOpened>1986</YearOpened><Specialty>Mountain</Specialty><SquareFeet>77000</SquareFeet><Brands>4+</Brands><Internet>T1</Internet><NumberEmployees>85</NumberEmployees></StoreSurvey>",
         "2014-09-12",
         "Tread Industries",
         279,
         "3e476935-5369-472e-9a52-b58a8b985c34"
        ],
        [
         618,
         "<StoreSurvey xmlns=\"http://schemas.microsoft.com/sqlserver/2004/07/adventure-works/StoreSurvey\"><AnnualSales>3000000</AnnualSales><AnnualRevenue>300000</AnnualRevenue><BankName>International Bank</BankName><BusinessType>OS</BusinessType><YearOpened>1978</YearOpened><Specialty>Touring</Specialty><SquareFeet>78000</SquareFeet><Brands>4+</Brands><Internet>DSL</Internet><NumberEmployees>86</NumberEmployees></StoreSurvey>",
         "2014-09-12",
         "Petroleum Products Distributors",
         282,
         "7d0c6ba8-2a0a-4663-b359-6b9606f5d652"
        ],
        [
         620,
         "<StoreSurvey xmlns=\"http://schemas.microsoft.com/sqlserver/2004/07/adventure-works/StoreSurvey\"><AnnualSales>1500000</AnnualSales><AnnualRevenue>150000</AnnualRevenue><BankName>International Security</BankName><BusinessType>OS</BusinessType><YearOpened>1986</YearOpened><Specialty>Mountain</Specialty><SquareFeet>37000</SquareFeet><Brands>4+</Brands><Internet>DSL</Internet><NumberEmployees>46</NumberEmployees></StoreSurvey>",
         "2014-09-12",
         "Tandem Bicycle Store",
         279,
         "b6437d59-886a-4aa2-8463-62bbfb9e0c65"
        ],
        [
         622,
         "<StoreSurvey xmlns=\"http://schemas.microsoft.com/sqlserver/2004/07/adventure-works/StoreSurvey\"><AnnualSales>1500000</AnnualSales><AnnualRevenue>150000</AnnualRevenue><BankName>Primary Bank &amp; Reserve</BankName><BusinessType>OS</BusinessType><YearOpened>1992</YearOpened><Specialty>Road</Specialty><SquareFeet>40000</SquareFeet><Brands>2</Brands><Internet>DSL</Internet><NumberEmployees>49</NumberEmployees></StoreSurvey>",
         "2014-09-12",
         "Bikes and Motorbikes",
         278,
         "bafcdf3f-29c8-43aa-8cf0-72943126c76c"
        ],
        [
         624,
         "<StoreSurvey xmlns=\"http://schemas.microsoft.com/sqlserver/2004/07/adventure-works/StoreSurvey\"><AnnualSales>3000000</AnnualSales><AnnualRevenue>300000</AnnualRevenue><BankName>International Bank</BankName><BusinessType>OS</BusinessType><YearOpened>1998</YearOpened><Specialty>Mountain</Specialty><SquareFeet>71000</SquareFeet><Brands>4+</Brands><Internet>DSL</Internet><NumberEmployees>52</NumberEmployees></StoreSurvey>",
         "2014-09-12",
         "Budget Toy Store",
         286,
         "96e67a92-f1fc-4de6-9e7e-8745feb429bd"
        ],
        [
         626,
         "<StoreSurvey xmlns=\"http://schemas.microsoft.com/sqlserver/2004/07/adventure-works/StoreSurvey\"><AnnualSales>3000000</AnnualSales><AnnualRevenue>300000</AnnualRevenue><BankName>Reserve Security</BankName><BusinessType>OS</BusinessType><YearOpened>1987</YearOpened><Specialty>Touring</Specialty><SquareFeet>77000</SquareFeet><Brands>4+</Brands><Internet>DSL</Internet><NumberEmployees>80</NumberEmployees></StoreSurvey>",
         "2014-09-12",
         "Camping and Sports Store",
         282,
         "50d6f597-0639-458f-8a28-7bf45551e116"
        ],
        [
         628,
         "<StoreSurvey xmlns=\"http://schemas.microsoft.com/sqlserver/2004/07/adventure-works/StoreSurvey\"><AnnualSales>3000000</AnnualSales><AnnualRevenue>300000</AnnualRevenue><BankName>Primary International</BankName><BusinessType>OS</BusinessType><YearOpened>1992</YearOpened><Specialty>Mountain</Specialty><SquareFeet>73000</SquareFeet><Brands>3</Brands><Internet>T1</Internet><NumberEmployees>81</NumberEmployees></StoreSurvey>",
         "2014-09-12",
         "Ace Bicycle Supply",
         290,
         "25f54cc0-9d2a-4c75-a92d-c92290ea49c7"
        ],
        [
         630,
         "<StoreSurvey xmlns=\"http://schemas.microsoft.com/sqlserver/2004/07/adventure-works/StoreSurvey\"><AnnualSales>1500000</AnnualSales><AnnualRevenue>150000</AnnualRevenue><BankName>United Security</BankName><BusinessType>BS</BusinessType><YearOpened>1990</YearOpened><Specialty>Touring</Specialty><SquareFeet>35000</SquareFeet><Brands>3</Brands><Internet>T1</Internet><NumberEmployees>31</NumberEmployees></StoreSurvey>",
         "2014-09-12",
         "Rural Department Store",
         281,
         "004ea91c-fcd4-4973-87ef-9059c6e20bb5"
        ],
        [
         632,
         "<StoreSurvey xmlns=\"http://schemas.microsoft.com/sqlserver/2004/07/adventure-works/StoreSurvey\"><AnnualSales>1500000</AnnualSales><AnnualRevenue>150000</AnnualRevenue><BankName>International Bank</BankName><BusinessType>BS</BusinessType><YearOpened>1984</YearOpened><Specialty>Mountain</Specialty><SquareFeet>37000</SquareFeet><Brands>2</Brands><Internet>T1</Internet><NumberEmployees>32</NumberEmployees></StoreSurvey>",
         "2014-09-12",
         "Sports Commodities",
         283,
         "43106fac-7b87-4da1-9df8-cb286247f070"
        ],
        [
         634,
         "<StoreSurvey xmlns=\"http://schemas.microsoft.com/sqlserver/2004/07/adventure-works/StoreSurvey\"><AnnualSales>1500000</AnnualSales><AnnualRevenue>150000</AnnualRevenue><BankName>Primary Bank &amp; Reserve</BankName><BusinessType>BS</BusinessType><YearOpened>1978</YearOpened><Specialty>Road</Specialty><SquareFeet>38000</SquareFeet><Brands>4+</Brands><Internet>DSL</Internet><NumberEmployees>33</NumberEmployees></StoreSurvey>",
         "2014-09-12",
         "Riverside Company",
         275,
         "c4db8c32-4f6d-426b-a9ac-e1221fbded9f"
        ],
        [
         636,
         "<StoreSurvey xmlns=\"http://schemas.microsoft.com/sqlserver/2004/07/adventure-works/StoreSurvey\"><AnnualSales>1500000</AnnualSales><AnnualRevenue>150000</AnnualRevenue><BankName>International Security</BankName><BusinessType>BS</BusinessType><YearOpened>1972</YearOpened><Specialty>Touring</Specialty><SquareFeet>39000</SquareFeet><Brands>2</Brands><Internet>T2</Internet><NumberEmployees>34</NumberEmployees></StoreSurvey>",
         "2014-09-12",
         "Bicycle Exporters",
         288,
         "a6898ae5-ffa3-4b47-a0f7-f8bf151b72aa"
        ],
        [
         638,
         "<StoreSurvey xmlns=\"http://schemas.microsoft.com/sqlserver/2004/07/adventure-works/StoreSurvey\"><AnnualSales>1500000</AnnualSales><AnnualRevenue>150000</AnnualRevenue><BankName>International Security</BankName><BusinessType>BS</BusinessType><YearOpened>1989</YearOpened><Specialty>Mountain</Specialty><SquareFeet>40000</SquareFeet><Brands>2</Brands><Internet>T1</Internet><NumberEmployees>49</NumberEmployees></StoreSurvey>",
         "2014-09-12",
         "Responsible Bike Dealers",
         277,
         "fe70ecfc-edbb-41ed-910d-8dd39c87e25d"
        ],
        [
         640,
         "<StoreSurvey xmlns=\"http://schemas.microsoft.com/sqlserver/2004/07/adventure-works/StoreSurvey\"><AnnualSales>1500000</AnnualSales><AnnualRevenue>150000</AnnualRevenue><BankName>Primary Bank &amp; Reserve</BankName><BusinessType>BS</BusinessType><YearOpened>1994</YearOpened><Specialty>Road</Specialty><SquareFeet>38000</SquareFeet><Brands>3</Brands><Internet>T1</Internet><NumberEmployees>48</NumberEmployees></StoreSurvey>",
         "2014-09-12",
         "Western Bike Supplies",
         281,
         "4b1e8035-515e-4be1-84d9-a81ce67ee44f"
        ],
        [
         642,
         "<StoreSurvey xmlns=\"http://schemas.microsoft.com/sqlserver/2004/07/adventure-works/StoreSurvey\"><AnnualSales>1500000</AnnualSales><AnnualRevenue>150000</AnnualRevenue><BankName>Primary International</BankName><BusinessType>OS</BusinessType><YearOpened>1974</YearOpened><Specialty>Road</Specialty><SquareFeet>38000</SquareFeet><Brands>3</Brands><Internet>DSL</Internet><NumberEmployees>40</NumberEmployees></StoreSurvey>",
         "2014-09-12",
         "Advanced Bike Components",
         277,
         "42bdf4b8-bff2-4a04-b0d3-ebb5896025ce"
        ],
        [
         644,
         "<StoreSurvey xmlns=\"http://schemas.microsoft.com/sqlserver/2004/07/adventure-works/StoreSurvey\"><AnnualSales>1500000</AnnualSales><AnnualRevenue>150000</AnnualRevenue><BankName>Guardian Bank</BankName><BusinessType>OS</BusinessType><YearOpened>1980</YearOpened><Specialty>Road</Specialty><SquareFeet>40000</SquareFeet><Brands>3</Brands><Internet>DSL</Internet><NumberEmployees>43</NumberEmployees></StoreSurvey>",
         "2014-09-12",
         "Aerobic Exercise Company",
         276,
         "690b6d1f-f71e-4bb8-b87d-baeb505135ef"
        ],
        [
         646,
         "<StoreSurvey xmlns=\"http://schemas.microsoft.com/sqlserver/2004/07/adventure-works/StoreSurvey\"><AnnualSales>800000</AnnualSales><AnnualRevenue>80000</AnnualRevenue><BankName>United Security</BankName><BusinessType>BM</BusinessType><YearOpened>1985</YearOpened><Specialty>Road</Specialty><SquareFeet>20000</SquareFeet><Brands>4+</Brands><Internet>T2</Internet><NumberEmployees>10</NumberEmployees></StoreSurvey>",
         "2014-09-12",
         "Rural Sporting Goods",
         288,
         "adb430fb-d23b-4a4c-9146-65193a80b9e0"
        ],
        [
         648,
         "<StoreSurvey xmlns=\"http://schemas.microsoft.com/sqlserver/2004/07/adventure-works/StoreSurvey\"><AnnualSales>800000</AnnualSales><AnnualRevenue>80000</AnnualRevenue><BankName>International Bank</BankName><BusinessType>BM</BusinessType><YearOpened>1993</YearOpened><Specialty>Road</Specialty><SquareFeet>17000</SquareFeet><Brands>4+</Brands><Internet>DSL</Internet><NumberEmployees>11</NumberEmployees></StoreSurvey>",
         "2014-09-12",
         "Corner Bicycle Supply",
         282,
         "d899d5f5-48e6-4d2f-a13b-dbe0a43f251d"
        ],
        [
         650,
         "<StoreSurvey xmlns=\"http://schemas.microsoft.com/sqlserver/2004/07/adventure-works/StoreSurvey\"><AnnualSales>800000</AnnualSales><AnnualRevenue>80000</AnnualRevenue><BankName>Primary Bank &amp; Reserve</BankName><BusinessType>BM</BusinessType><YearOpened>1988</YearOpened><Specialty>Road</Specialty><SquareFeet>20000</SquareFeet><Brands>2</Brands><Internet>DSL</Internet><NumberEmployees>12</NumberEmployees></StoreSurvey>",
         "2014-09-12",
         "Distance Bikes",
         279,
         "7a341a16-8c5b-4a18-84ab-9ef05241d721"
        ],
        [
         652,
         "<StoreSurvey xmlns=\"http://schemas.microsoft.com/sqlserver/2004/07/adventure-works/StoreSurvey\"><AnnualSales>3000000</AnnualSales><AnnualRevenue>300000</AnnualRevenue><BankName>United Security</BankName><BusinessType>OS</BusinessType><YearOpened>1989</YearOpened><Specialty>Touring</Specialty><SquareFeet>74000</SquareFeet><Brands>3</Brands><Internet>DSL</Internet><NumberEmployees>83</NumberEmployees></StoreSurvey>",
         "2014-09-12",
         "Westside Plaza",
         281,
         "06abc249-ec49-45d1-b84e-98352ce995d7"
        ],
        [
         654,
         "<StoreSurvey xmlns=\"http://schemas.microsoft.com/sqlserver/2004/07/adventure-works/StoreSurvey\"><AnnualSales>3000000</AnnualSales><AnnualRevenue>300000</AnnualRevenue><BankName>Reserve Security</BankName><BusinessType>OS</BusinessType><YearOpened>1981</YearOpened><Specialty>Mountain</Specialty><SquareFeet>78000</SquareFeet><Brands>4+</Brands><Internet>DSL</Internet><NumberEmployees>84</NumberEmployees></StoreSurvey>",
         "2014-09-12",
         "Ultimate Bike Shop",
         279,
         "d23b2b5f-d58a-4ade-a204-0082f50e32ba"
        ],
        [
         656,
         "<StoreSurvey xmlns=\"http://schemas.microsoft.com/sqlserver/2004/07/adventure-works/StoreSurvey\"><AnnualSales>3000000</AnnualSales><AnnualRevenue>300000</AnnualRevenue><BankName>Primary International</BankName><BusinessType>OS</BusinessType><YearOpened>1986</YearOpened><Specialty>Touring</Specialty><SquareFeet>78000</SquareFeet><Brands>4+</Brands><Internet>ISDN</Internet><NumberEmployees>85</NumberEmployees></StoreSurvey>",
         "2014-09-12",
         "Outstanding Cycles",
         283,
         "039e021a-8084-4bf1-9e4f-51583ca75867"
        ],
        [
         658,
         "<StoreSurvey xmlns=\"http://schemas.microsoft.com/sqlserver/2004/07/adventure-works/StoreSurvey\"><AnnualSales>3000000</AnnualSales><AnnualRevenue>300000</AnnualRevenue><BankName>Guardian Bank</BankName><BusinessType>OS</BusinessType><YearOpened>1984</YearOpened><Specialty>Road</Specialty><SquareFeet>73000</SquareFeet><Brands>4+</Brands><Internet>DSL</Internet><NumberEmployees>82</NumberEmployees></StoreSurvey>",
         "2014-09-12",
         "Vigorous Sports Store",
         289,
         "3fe5afd2-fe6a-4b66-8ba9-e7cc25e0e9c4"
        ],
        [
         660,
         "<StoreSurvey xmlns=\"http://schemas.microsoft.com/sqlserver/2004/07/adventure-works/StoreSurvey\"><AnnualSales>3000000</AnnualSales><AnnualRevenue>300000</AnnualRevenue><BankName>International Security</BankName><BusinessType>OS</BusinessType><YearOpened>1989</YearOpened><Specialty>Touring</Specialty><SquareFeet>73000</SquareFeet><Brands>4+</Brands><Internet>DSL</Internet><NumberEmployees>83</NumberEmployees></StoreSurvey>",
         "2014-09-12",
         "Sports Merchandise",
         280,
         "3e12da24-cd4e-4552-aa4f-dc45bc432972"
        ],
        [
         662,
         "<StoreSurvey xmlns=\"http://schemas.microsoft.com/sqlserver/2004/07/adventure-works/StoreSurvey\"><AnnualSales>3000000</AnnualSales><AnnualRevenue>300000</AnnualRevenue><BankName>Primary Bank &amp; Reserve</BankName><BusinessType>OS</BusinessType><YearOpened>1981</YearOpened><Specialty>Road</Specialty><SquareFeet>75000</SquareFeet><Brands>3</Brands><Internet>DSL</Internet><NumberEmployees>84</NumberEmployees></StoreSurvey>",
         "2014-09-12",
         "Fitness Toy Store",
         277,
         "fa2486e8-99b6-4832-9edf-1f86f1399cfc"
        ],
        [
         664,
         "<StoreSurvey xmlns=\"http://schemas.microsoft.com/sqlserver/2004/07/adventure-works/StoreSurvey\"><AnnualSales>800000</AnnualSales><AnnualRevenue>80000</AnnualRevenue><BankName>Guardian Bank</BankName><BusinessType>BM</BusinessType><YearOpened>1985</YearOpened><Specialty>Mountain</Specialty><SquareFeet>18000</SquareFeet><Brands>2</Brands><Internet>T3</Internet><NumberEmployees>10</NumberEmployees></StoreSurvey>",
         "2014-09-12",
         "Casual Bicycle Store",
         275,
         "ef495883-01e1-46a0-aca4-f41dd60bcfc1"
        ],
        [
         666,
         "<StoreSurvey xmlns=\"http://schemas.microsoft.com/sqlserver/2004/07/adventure-works/StoreSurvey\"><AnnualSales>800000</AnnualSales><AnnualRevenue>80000</AnnualRevenue><BankName>Primary International</BankName><BusinessType>BM</BusinessType><YearOpened>1993</YearOpened><Specialty>Touring</Specialty><SquareFeet>19000</SquareFeet><Brands>AW</Brands><Internet>DSL</Internet><NumberEmployees>11</NumberEmployees></StoreSurvey>",
         "2014-09-12",
         "Fitness Discount Store",
         286,
         "9ab6652a-8949-4ff5-aa99-2e7252bfd359"
        ],
        [
         668,
         "<StoreSurvey xmlns=\"http://schemas.microsoft.com/sqlserver/2004/07/adventure-works/StoreSurvey\"><AnnualSales>800000</AnnualSales><AnnualRevenue>80000</AnnualRevenue><BankName>Reserve Security</BankName><BusinessType>BM</BusinessType><YearOpened>1988</YearOpened><Specialty>Mountain</Specialty><SquareFeet>20000</SquareFeet><Brands>4+</Brands><Internet>DSL</Internet><NumberEmployees>12</NumberEmployees></StoreSurvey>",
         "2014-09-12",
         "General Cycle Storehouse",
         278,
         "90cc4967-1a64-4f9c-b282-7917af63d9ad"
        ],
        [
         670,
         "<StoreSurvey xmlns=\"http://schemas.microsoft.com/sqlserver/2004/07/adventure-works/StoreSurvey\"><AnnualSales>800000</AnnualSales><AnnualRevenue>80000</AnnualRevenue><BankName>International Bank</BankName><BusinessType>BM</BusinessType><YearOpened>1988</YearOpened><Specialty>Mountain</Specialty><SquareFeet>18000</SquareFeet><Brands>2</Brands><Internet>DSL</Internet><NumberEmployees>16</NumberEmployees></StoreSurvey>",
         "2014-09-12",
         "Fitness Cycling",
         281,
         "6f3ac326-f2fe-4bff-bf5a-ab67ad72a076"
        ],
        [
         672,
         "<StoreSurvey xmlns=\"http://schemas.microsoft.com/sqlserver/2004/07/adventure-works/StoreSurvey\"><AnnualSales>800000</AnnualSales><AnnualRevenue>80000</AnnualRevenue><BankName>Primary Bank &amp; Reserve</BankName><BusinessType>BM</BusinessType><YearOpened>1982</YearOpened><Specialty>Road</Specialty><SquareFeet>19000</SquareFeet><Brands>4+</Brands><Internet>DSL</Internet><NumberEmployees>14</NumberEmployees></StoreSurvey>",
         "2014-09-12",
         "Good Bike Shop",
         277,
         "d39bc672-bb52-4eb7-939f-b3986ec7a5ca"
        ],
        [
         674,
         "<StoreSurvey xmlns=\"http://schemas.microsoft.com/sqlserver/2004/07/adventure-works/StoreSurvey\"><AnnualSales>800000</AnnualSales><AnnualRevenue>80000</AnnualRevenue><BankName>International Security</BankName><BusinessType>BM</BusinessType><YearOpened>1976</YearOpened><Specialty>Touring</Specialty><SquareFeet>20000</SquareFeet><Brands>4+</Brands><Internet>DSL</Internet><NumberEmployees>12</NumberEmployees></StoreSurvey>",
         "2014-09-12",
         "Imaginary Toys",
         280,
         "4c6992a0-dc3e-4a96-9bbb-9239135c29df"
        ],
        [
         676,
         "<StoreSurvey xmlns=\"http://schemas.microsoft.com/sqlserver/2004/07/adventure-works/StoreSurvey\"><AnnualSales>1500000</AnnualSales><AnnualRevenue>150000</AnnualRevenue><BankName>Guardian Bank</BankName><BusinessType>BS</BusinessType><YearOpened>1972</YearOpened><Specialty>Mountain</Specialty><SquareFeet>35000</SquareFeet><Brands>4+</Brands><Internet>T1</Internet><NumberEmployees>34</NumberEmployees></StoreSurvey>",
         "2014-09-12",
         "Inexpensive Parts Shop",
         286,
         "7d6588fc-efb7-4851-a9ce-f4c71e494709"
        ],
        [
         678,
         "<StoreSurvey xmlns=\"http://schemas.microsoft.com/sqlserver/2004/07/adventure-works/StoreSurvey\"><AnnualSales>1500000</AnnualSales><AnnualRevenue>150000</AnnualRevenue><BankName>Primary International</BankName><BusinessType>BS</BusinessType><YearOpened>1988</YearOpened><Specialty>Mountain</Specialty><SquareFeet>37000</SquareFeet><Brands>4+</Brands><Internet>DSL</Internet><NumberEmployees>35</NumberEmployees></StoreSurvey>",
         "2014-09-12",
         "Nuts and Bolts Mfg.",
         278,
         "f5b50576-9c84-4125-af94-ebcc49d8be9e"
        ],
        [
         680,
         "<StoreSurvey xmlns=\"http://schemas.microsoft.com/sqlserver/2004/07/adventure-works/StoreSurvey\"><AnnualSales>1500000</AnnualSales><AnnualRevenue>150000</AnnualRevenue><BankName>Reserve Security</BankName><BusinessType>BS</BusinessType><YearOpened>1976</YearOpened><Specialty>Road</Specialty><SquareFeet>39000</SquareFeet><Brands>4+</Brands><Internet>DSL</Internet><NumberEmployees>36</NumberEmployees></StoreSurvey>",
         "2014-09-12",
         "Principal Bicycle Supply",
         279,
         "b0bdbe3b-f9f2-4bdd-a74b-9423eca7a815"
        ],
        [
         682,
         "<StoreSurvey xmlns=\"http://schemas.microsoft.com/sqlserver/2004/07/adventure-works/StoreSurvey\"><AnnualSales>1500000</AnnualSales><AnnualRevenue>150000</AnnualRevenue><BankName>United Security</BankName><BusinessType>BS</BusinessType><YearOpened>1971</YearOpened><Specialty>Touring</Specialty><SquareFeet>37000</SquareFeet><Brands>4+</Brands><Internet>ISDN</Internet><NumberEmployees>37</NumberEmployees></StoreSurvey>",
         "2014-09-12",
         "Thrilling Bike Tours",
         276,
         "b501d2ca-b083-47ec-a2a0-4341da752f4b"
        ],
        [
         684,
         "<StoreSurvey xmlns=\"http://schemas.microsoft.com/sqlserver/2004/07/adventure-works/StoreSurvey\"><AnnualSales>1500000</AnnualSales><AnnualRevenue>150000</AnnualRevenue><BankName>International Bank</BankName><BusinessType>BS</BusinessType><YearOpened>1979</YearOpened><Specialty>Mountain</Specialty><SquareFeet>39000</SquareFeet><Brands>2</Brands><Internet>DSL</Internet><NumberEmployees>38</NumberEmployees></StoreSurvey>",
         "2014-09-12",
         "This Area Sporting Goods",
         277,
         "fb6331ea-0148-418a-884a-84d1da20ac3c"
        ],
        [
         686,
         "<StoreSurvey xmlns=\"http://schemas.microsoft.com/sqlserver/2004/07/adventure-works/StoreSurvey\"><AnnualSales>1500000</AnnualSales><AnnualRevenue>150000</AnnualRevenue><BankName>Primary Bank &amp; Reserve</BankName><BusinessType>BS</BusinessType><YearOpened>1974</YearOpened><Specialty>Mountain</Specialty><SquareFeet>38000</SquareFeet><Brands>3</Brands><Internet>DSL</Internet><NumberEmployees>39</NumberEmployees></StoreSurvey>",
         "2014-09-12",
         "Full-Service Bike Store",
         275,
         "a167f30e-c0f1-49c3-96ce-4e8a2ca3c65c"
        ],
        [
         688,
         "<StoreSurvey xmlns=\"http://schemas.microsoft.com/sqlserver/2004/07/adventure-works/StoreSurvey\"><AnnualSales>1500000</AnnualSales><AnnualRevenue>150000</AnnualRevenue><BankName>International Security</BankName><BusinessType>BS</BusinessType><YearOpened>1982</YearOpened><Specialty>Touring</Specialty><SquareFeet>37000</SquareFeet><Brands>3</Brands><Internet>DSL</Internet><NumberEmployees>40</NumberEmployees></StoreSurvey>",
         "2014-09-12",
         "Plastic Products Manufacturers",
         286,
         "035fc393-8bf1-4522-9dd7-f7cf3140740a"
        ],
        [
         690,
         "<StoreSurvey xmlns=\"http://schemas.microsoft.com/sqlserver/2004/07/adventure-works/StoreSurvey\"><AnnualSales>3000000</AnnualSales><AnnualRevenue>300000</AnnualRevenue><BankName>Primary Bank &amp; Reserve</BankName><BusinessType>OS</BusinessType><YearOpened>1974</YearOpened><Specialty>Mountain</Specialty><SquareFeet>75000</SquareFeet><Brands>2</Brands><Internet>T1</Internet><NumberEmployees>93</NumberEmployees></StoreSurvey>",
         "2014-09-12",
         "Kids and Adults Cycle Shop",
         286,
         "7f00ee1c-91f3-46dc-8384-cb0317463e70"
        ],
        [
         692,
         "<StoreSurvey xmlns=\"http://schemas.microsoft.com/sqlserver/2004/07/adventure-works/StoreSurvey\"><AnnualSales>3000000</AnnualSales><AnnualRevenue>300000</AnnualRevenue><BankName>International Bank</BankName><BusinessType>OS</BusinessType><YearOpened>1974</YearOpened><Specialty>Mountain</Specialty><SquareFeet>75000</SquareFeet><Brands>4+</Brands><Internet>DSL</Internet><NumberEmployees>94</NumberEmployees></StoreSurvey>",
         "2014-09-12",
         "Grand Discount Store",
         275,
         "20148536-7bf7-4a99-a184-2bdf1eb5eb40"
        ],
        [
         694,
         "<StoreSurvey xmlns=\"http://schemas.microsoft.com/sqlserver/2004/07/adventure-works/StoreSurvey\"><AnnualSales>3000000</AnnualSales><AnnualRevenue>300000</AnnualRevenue><BankName>United Security</BankName><BusinessType>OS</BusinessType><YearOpened>1980</YearOpened><Specialty>Road</Specialty><SquareFeet>76000</SquareFeet><Brands>4+</Brands><Internet>DSL</Internet><NumberEmployees>95</NumberEmployees></StoreSurvey>",
         "2014-09-12",
         "Genuine Bike Shop",
         277,
         "ef74488b-1b77-4148-93ef-a4bc4638c921"
        ],
        [
         696,
         "<StoreSurvey xmlns=\"http://schemas.microsoft.com/sqlserver/2004/07/adventure-works/StoreSurvey\"><AnnualSales>3000000</AnnualSales><AnnualRevenue>300000</AnnualRevenue><BankName>Reserve Security</BankName><BusinessType>OS</BusinessType><YearOpened>1986</YearOpened><Specialty>Touring</Specialty><SquareFeet>79000</SquareFeet><Brands>3</Brands><Internet>T1</Internet><NumberEmployees>96</NumberEmployees></StoreSurvey>",
         "2014-09-12",
         "Extreme Riding Supplies",
         276,
         "0c1ad971-9999-441a-9bf8-8d95c44489d2"
        ],
        [
         698,
         "<StoreSurvey xmlns=\"http://schemas.microsoft.com/sqlserver/2004/07/adventure-works/StoreSurvey\"><AnnualSales>3000000</AnnualSales><AnnualRevenue>300000</AnnualRevenue><BankName>Primary International</BankName><BusinessType>OS</BusinessType><YearOpened>1992</YearOpened><Specialty>Road</Specialty><SquareFeet>80000</SquareFeet><Brands>4+</Brands><Internet>T2</Internet><NumberEmployees>97</NumberEmployees></StoreSurvey>",
         "2014-09-12",
         "Bike Rims Company",
         279,
         "d664a5cb-eb27-422e-8c7e-c81814508c73"
        ],
        [
         700,
         "<StoreSurvey xmlns=\"http://schemas.microsoft.com/sqlserver/2004/07/adventure-works/StoreSurvey\"><AnnualSales>1500000</AnnualSales><AnnualRevenue>150000</AnnualRevenue><BankName>Primary International</BankName><BusinessType>BS</BusinessType><YearOpened>1989</YearOpened><Specialty>Mountain</Specialty><SquareFeet>40000</SquareFeet><Brands>3</Brands><Internet>DSL</Internet><NumberEmployees>49</NumberEmployees></StoreSurvey>",
         "2014-09-12",
         "Fleet Bikes",
         276,
         "cec2cc52-9fad-4328-a288-c01649dfe106"
        ],
        [
         702,
         "<StoreSurvey xmlns=\"http://schemas.microsoft.com/sqlserver/2004/07/adventure-works/StoreSurvey\"><AnnualSales>1500000</AnnualSales><AnnualRevenue>150000</AnnualRevenue><BankName>Reserve Security</BankName><BusinessType>BS</BusinessType><YearOpened>1997</YearOpened><Specialty>Road</Specialty><SquareFeet>41000</SquareFeet><Brands>3</Brands><Internet>DSL</Internet><NumberEmployees>46</NumberEmployees></StoreSurvey>",
         "2014-09-12",
         "Local Hardware Factory",
         277,
         "16c76410-67e9-4082-bff4-172f287c1f7c"
        ],
        [
         704,
         "<StoreSurvey xmlns=\"http://schemas.microsoft.com/sqlserver/2004/07/adventure-works/StoreSurvey\"><AnnualSales>1500000</AnnualSales><AnnualRevenue>150000</AnnualRevenue><BankName>United Security</BankName><BusinessType>BS</BusinessType><YearOpened>1992</YearOpened><Specialty>Mountain</Specialty><SquareFeet>40000</SquareFeet><Brands>4+</Brands><Internet>T1</Internet><NumberEmployees>43</NumberEmployees></StoreSurvey>",
         "2014-09-12",
         "Only Bikes and Accessories",
         275,
         "af3b1a6a-e60b-4e74-96ea-e55c89f0adf6"
        ],
        [
         706,
         "<StoreSurvey xmlns=\"http://schemas.microsoft.com/sqlserver/2004/07/adventure-works/StoreSurvey\"><AnnualSales>1500000</AnnualSales><AnnualRevenue>150000</AnnualRevenue><BankName>International Bank</BankName><BusinessType>BS</BusinessType><YearOpened>1995</YearOpened><Specialty>Mountain</Specialty><SquareFeet>37000</SquareFeet><Brands>4+</Brands><Internet>T2</Internet><NumberEmployees>40</NumberEmployees></StoreSurvey>",
         "2014-09-12",
         "Rental Gallery",
         286,
         "71322a9a-9feb-4c12-947a-e3aeffbfa3e2"
        ],
        [
         708,
         "<StoreSurvey xmlns=\"http://schemas.microsoft.com/sqlserver/2004/07/adventure-works/StoreSurvey\"><AnnualSales>1500000</AnnualSales><AnnualRevenue>150000</AnnualRevenue><BankName>Primary Bank &amp; Reserve</BankName><BusinessType>BS</BusinessType><YearOpened>1995</YearOpened><Specialty>Touring</Specialty><SquareFeet>40000</SquareFeet><Brands>4+</Brands><Internet>DSL</Internet><NumberEmployees>37</NumberEmployees></StoreSurvey>",
         "2014-09-12",
         "South Bike Company",
         278,
         "c3346ce3-ca88-4e5b-8a41-05e76abf4fcf"
        ],
        [
         710,
         "<StoreSurvey xmlns=\"http://schemas.microsoft.com/sqlserver/2004/07/adventure-works/StoreSurvey\"><AnnualSales>1500000</AnnualSales><AnnualRevenue>150000</AnnualRevenue><BankName>International Security</BankName><BusinessType>BS</BusinessType><YearOpened>1983</YearOpened><Specialty>Road</Specialty><SquareFeet>37000</SquareFeet><Brands>3</Brands><Internet>T1</Internet><NumberEmployees>34</NumberEmployees></StoreSurvey>",
         "2014-09-12",
         "Wonderful Bikes Inc.",
         279,
         "0948efce-69ef-4866-b25e-19ac06159158"
        ],
        [
         712,
         "<StoreSurvey xmlns=\"http://schemas.microsoft.com/sqlserver/2004/07/adventure-works/StoreSurvey\"><AnnualSales>1500000</AnnualSales><AnnualRevenue>150000</AnnualRevenue><BankName>Guardian Bank</BankName><BusinessType>BS</BusinessType><YearOpened>1998</YearOpened><Specialty>Road</Specialty><SquareFeet>37000</SquareFeet><Brands>4+</Brands><Internet>T1</Internet><NumberEmployees>31</NumberEmployees></StoreSurvey>",
         "2014-09-12",
         "Another Sporting Goods Company",
         276,
         "0945ecb3-8c14-4b65-90b9-9db474085ce8"
        ],
        [
         714,
         "<StoreSurvey xmlns=\"http://schemas.microsoft.com/sqlserver/2004/07/adventure-works/StoreSurvey\"><AnnualSales>1000000</AnnualSales><AnnualRevenue>100000</AnnualRevenue><BankName>Primary International</BankName><BusinessType>BS</BusinessType><YearOpened>1971</YearOpened><Specialty>Road</Specialty><SquareFeet>28000</SquareFeet><Brands>4+</Brands><Internet>DSL</Internet><NumberEmployees>28</NumberEmployees></StoreSurvey>",
         "2014-09-12",
         "Discount Bicycle Specialists",
         277,
         "4833dbbd-77dd-4855-882d-b5bb392f8d83"
        ],
        [
         716,
         "<StoreSurvey xmlns=\"http://schemas.microsoft.com/sqlserver/2004/07/adventure-works/StoreSurvey\"><AnnualSales>1000000</AnnualSales><AnnualRevenue>100000</AnnualRevenue><BankName>Reserve Security</BankName><BusinessType>BS</BusinessType><YearOpened>2001</YearOpened><Specialty>Road</Specialty><SquareFeet>26000</SquareFeet><Brands>4+</Brands><Internet>DSL</Internet><NumberEmployees>25</NumberEmployees></StoreSurvey>",
         "2014-09-12",
         "Famous Bike Sales and Service",
         275,
         "dcb36c79-b15c-4a9e-a169-1490449ea59f"
        ],
        [
         718,
         "<StoreSurvey xmlns=\"http://schemas.microsoft.com/sqlserver/2004/07/adventure-works/StoreSurvey\"><AnnualSales>1000000</AnnualSales><AnnualRevenue>100000</AnnualRevenue><BankName>United Security</BankName><BusinessType>BS</BusinessType><YearOpened>1996</YearOpened><Specialty>Touring</Specialty><SquareFeet>26000</SquareFeet><Brands>4+</Brands><Internet>T1</Internet><NumberEmployees>22</NumberEmployees></StoreSurvey>",
         "2014-09-12",
         "First Supplies",
         286,
         "1b118fae-776a-4756-92b0-a7937f0edbae"
        ],
        [
         720,
         "<StoreSurvey xmlns=\"http://schemas.microsoft.com/sqlserver/2004/07/adventure-works/StoreSurvey\"><AnnualSales>800000</AnnualSales><AnnualRevenue>80000</AnnualRevenue><BankName>International Bank</BankName><BusinessType>BS</BusinessType><YearOpened>1990</YearOpened><Specialty>Touring</Specialty><SquareFeet>22000</SquareFeet><Brands>2</Brands><Internet>T2</Internet><NumberEmployees>19</NumberEmployees></StoreSurvey>",
         "2014-09-12",
         "Machines & Cycles Store",
         278,
         "c5f81c18-5674-480b-8b7d-bc1608e21e8e"
        ],
        [
         722,
         "<StoreSurvey xmlns=\"http://schemas.microsoft.com/sqlserver/2004/07/adventure-works/StoreSurvey\"><AnnualSales>800000</AnnualSales><AnnualRevenue>80000</AnnualRevenue><BankName>Primary Bank &amp; Reserve</BankName><BusinessType>BS</BusinessType><YearOpened>1984</YearOpened><Specialty>Road</Specialty><SquareFeet>20000</SquareFeet><Brands>2</Brands><Internet>T1</Internet><NumberEmployees>16</NumberEmployees></StoreSurvey>",
         "2014-09-12",
         "Pedals Warehouse",
         279,
         "d2dc2451-e8f2-449b-b94c-f6729dcf110c"
        ],
        [
         724,
         "<StoreSurvey xmlns=\"http://schemas.microsoft.com/sqlserver/2004/07/adventure-works/StoreSurvey\"><AnnualSales>800000</AnnualSales><AnnualRevenue>80000</AnnualRevenue><BankName>International Security</BankName><BusinessType>BS</BusinessType><YearOpened>1978</YearOpened><Specialty>Road</Specialty><SquareFeet>22000</SquareFeet><Brands>2</Brands><Internet>T1</Internet><NumberEmployees>13</NumberEmployees></StoreSurvey>",
         "2014-09-12",
         "Two Wheels Cycle Store",
         276,
         "a04e78ff-c151-4a8f-921c-1043c85bd74c"
        ],
        [
         726,
         "<StoreSurvey xmlns=\"http://schemas.microsoft.com/sqlserver/2004/07/adventure-works/StoreSurvey\"><AnnualSales>800000</AnnualSales><AnnualRevenue>80000</AnnualRevenue><BankName>Guardian Bank</BankName><BusinessType>BS</BusinessType><YearOpened>1972</YearOpened><Specialty>Road</Specialty><SquareFeet>20000</SquareFeet><Brands>4+</Brands><Internet>T1</Internet><NumberEmployees>10</NumberEmployees></StoreSurvey>",
         "2014-09-12",
         "Westside Cycle Store",
         277,
         "147f9060-dd41-4810-ab5b-2439c7816feb"
        ],
        [
         728,
         "<StoreSurvey xmlns=\"http://schemas.microsoft.com/sqlserver/2004/07/adventure-works/StoreSurvey\"><AnnualSales>1000000</AnnualSales><AnnualRevenue>100000</AnnualRevenue><BankName>International Security</BankName><BusinessType>BS</BusinessType><YearOpened>1998</YearOpened><Specialty>Road</Specialty><SquareFeet>27000</SquareFeet><Brands>3</Brands><Internet>DSL</Internet><NumberEmployees>27</NumberEmployees></StoreSurvey>",
         "2014-09-12",
         "Wholesale Bikes",
         275,
         "57f096c7-5bc4-4f8c-9171-9e03246d5439"
        ],
        [
         730,
         "<StoreSurvey xmlns=\"http://schemas.microsoft.com/sqlserver/2004/07/adventure-works/StoreSurvey\"><AnnualSales>1000000</AnnualSales><AnnualRevenue>100000</AnnualRevenue><BankName>Guardian Bank</BankName><BusinessType>BS</BusinessType><YearOpened>1971</YearOpened><Specialty>Road</Specialty><SquareFeet>28000</SquareFeet><Brands>4+</Brands><Internet>DSL</Internet><NumberEmployees>28</NumberEmployees></StoreSurvey>",
         "2014-09-12",
         "Very Best Sports Supply",
         288,
         "5a0f3b85-4258-4219-b825-31195034c5c3"
        ],
        [
         732,
         "<StoreSurvey xmlns=\"http://schemas.microsoft.com/sqlserver/2004/07/adventure-works/StoreSurvey\"><AnnualSales>1000000</AnnualSales><AnnualRevenue>100000</AnnualRevenue><BankName>Primary International</BankName><BusinessType>BS</BusinessType><YearOpened>2001</YearOpened><Specialty>Road</Specialty><SquareFeet>24000</SquareFeet><Brands>4+</Brands><Internet>DSL</Internet><NumberEmployees>29</NumberEmployees></StoreSurvey>",
         "2014-09-12",
         "Urban Sports Emporium",
         282,
         "ac4ca540-5260-4333-818b-434f3ff000c5"
        ],
        [
         734,
         "<StoreSurvey xmlns=\"http://schemas.microsoft.com/sqlserver/2004/07/adventure-works/StoreSurvey\"><AnnualSales>1500000</AnnualSales><AnnualRevenue>150000</AnnualRevenue><BankName>Reserve Security</BankName><BusinessType>BS</BusinessType><YearOpened>1996</YearOpened><Specialty>Mountain</Specialty><SquareFeet>36000</SquareFeet><Brands>4+</Brands><Internet>T1</Internet><NumberEmployees>30</NumberEmployees></StoreSurvey>",
         "2014-09-12",
         "Superlative Bikes",
         279,
         "e2efc4e8-5b3f-47e2-b0a6-be0701b34a05"
        ],
        [
         736,
         "<StoreSurvey xmlns=\"http://schemas.microsoft.com/sqlserver/2004/07/adventure-works/StoreSurvey\"><AnnualSales>1500000</AnnualSales><AnnualRevenue>150000</AnnualRevenue><BankName>Reserve Security</BankName><BusinessType>BS</BusinessType><YearOpened>1977</YearOpened><Specialty>Road</Specialty><SquareFeet>37000</SquareFeet><Brands>4+</Brands><Internet>DSL</Internet><NumberEmployees>41</NumberEmployees></StoreSurvey>",
         "2014-09-12",
         "Primary Cycle Shop",
         288,
         "219adf36-cf78-4841-b348-26c2adfb518e"
        ],
        [
         738,
         "<StoreSurvey xmlns=\"http://schemas.microsoft.com/sqlserver/2004/07/adventure-works/StoreSurvey\"><AnnualSales>1500000</AnnualSales><AnnualRevenue>150000</AnnualRevenue><BankName>United Security</BankName><BusinessType>BS</BusinessType><YearOpened>1985</YearOpened><Specialty>Mountain</Specialty><SquareFeet>37000</SquareFeet><Brands>2</Brands><Internet>T1</Internet><NumberEmployees>42</NumberEmployees></StoreSurvey>",
         "2014-09-12",
         "Sixth Bike Store",
         282,
         "587834de-cb5c-4c9f-870b-befe343b681b"
        ],
        [
         740,
         "<StoreSurvey xmlns=\"http://schemas.microsoft.com/sqlserver/2004/07/adventure-works/StoreSurvey\"><AnnualSales>1500000</AnnualSales><AnnualRevenue>150000</AnnualRevenue><BankName>International Bank</BankName><BusinessType>BS</BusinessType><YearOpened>1980</YearOpened><Specialty>Road</Specialty><SquareFeet>38000</SquareFeet><Brands>4+</Brands><Internet>DSL</Internet><NumberEmployees>43</NumberEmployees></StoreSurvey>",
         "2014-09-12",
         "Touring Services",
         279,
         "1baa7f8a-c00a-441e-8d40-e06a4aec1c43"
        ],
        [
         742,
         "<StoreSurvey xmlns=\"http://schemas.microsoft.com/sqlserver/2004/07/adventure-works/StoreSurvey\"><AnnualSales>1500000</AnnualSales><AnnualRevenue>150000</AnnualRevenue><BankName>Primary Bank &amp; Reserve</BankName><BusinessType>BS</BusinessType><YearOpened>1988</YearOpened><Specialty>Road</Specialty><SquareFeet>38000</SquareFeet><Brands>2</Brands><Internet>DSL</Internet><NumberEmployees>44</NumberEmployees></StoreSurvey>",
         "2014-09-12",
         "Vehicle Shop",
         281,
         "08cbc4a5-2bd2-46d5-b0e8-327387559092"
        ],
        [
         744,
         "<StoreSurvey xmlns=\"http://schemas.microsoft.com/sqlserver/2004/07/adventure-works/StoreSurvey\"><AnnualSales>1500000</AnnualSales><AnnualRevenue>150000</AnnualRevenue><BankName>International Security</BankName><BusinessType>BS</BusinessType><YearOpened>1983</YearOpened><Specialty>Mountain</Specialty><SquareFeet>38000</SquareFeet><Brands>3</Brands><Internet>DSL</Internet><NumberEmployees>45</NumberEmployees></StoreSurvey>",
         "2014-09-12",
         "First Department Stores",
         283,
         "443e7b85-6e6e-440e-97c8-10075b6fbe4a"
        ],
        [
         746,
         "<StoreSurvey xmlns=\"http://schemas.microsoft.com/sqlserver/2004/07/adventure-works/StoreSurvey\"><AnnualSales>1500000</AnnualSales><AnnualRevenue>150000</AnnualRevenue><BankName>Guardian Bank</BankName><BusinessType>BS</BusinessType><YearOpened>1991</YearOpened><Specialty>Road</Specialty><SquareFeet>39000</SquareFeet><Brands>4+</Brands><Internet>T1</Internet><NumberEmployees>46</NumberEmployees></StoreSurvey>",
         "2014-09-12",
         "Grand Sport Boutique",
         275,
         "96ba60f5-324c-467e-bf10-6259107dbd81"
        ],
        [
         748,
         "<StoreSurvey xmlns=\"http://schemas.microsoft.com/sqlserver/2004/07/adventure-works/StoreSurvey\"><AnnualSales>1500000</AnnualSales><AnnualRevenue>150000</AnnualRevenue><BankName>Primary International</BankName><BusinessType>BS</BusinessType><YearOpened>1986</YearOpened><Specialty>Touring</Specialty><SquareFeet>37000</SquareFeet><Brands>2</Brands><Internet>DSL</Internet><NumberEmployees>47</NumberEmployees></StoreSurvey>",
         "2014-09-12",
         "Major Equipment Co",
         288,
         "7f68af6f-23e9-456a-8ea9-69d130fa09fd"
        ],
        [
         750,
         "<StoreSurvey xmlns=\"http://schemas.microsoft.com/sqlserver/2004/07/adventure-works/StoreSurvey\"><AnnualSales>1500000</AnnualSales><AnnualRevenue>150000</AnnualRevenue><BankName>Reserve Security</BankName><BusinessType>BS</BusinessType><YearOpened>1994</YearOpened><Specialty>Road</Specialty><SquareFeet>39000</SquareFeet><Brands>4+</Brands><Internet>DSL</Internet><NumberEmployees>48</NumberEmployees></StoreSurvey>",
         "2014-09-12",
         "Custom Sales and Service",
         282,
         "f6618771-ca58-4681-9f85-9e91d7beac23"
        ],
        [
         752,
         "<StoreSurvey xmlns=\"http://schemas.microsoft.com/sqlserver/2004/07/adventure-works/StoreSurvey\"><AnnualSales>1500000</AnnualSales><AnnualRevenue>150000</AnnualRevenue><BankName>United Security</BankName><BusinessType>BS</BusinessType><YearOpened>1989</YearOpened><Specialty>Mountain</Specialty><SquareFeet>41000</SquareFeet><Brands>4+</Brands><Internet>T1</Internet><NumberEmployees>49</NumberEmployees></StoreSurvey>",
         "2014-09-12",
         "Elemental Sporting Goods",
         279,
         "52581c1d-2510-48ae-9e09-5db1f7c96950"
        ],
        [
         754,
         "<StoreSurvey xmlns=\"http://schemas.microsoft.com/sqlserver/2004/07/adventure-works/StoreSurvey\"><AnnualSales>1500000</AnnualSales><AnnualRevenue>150000</AnnualRevenue><BankName>International Bank</BankName><BusinessType>BS</BusinessType><YearOpened>1997</YearOpened><Specialty>Road</Specialty><SquareFeet>37000</SquareFeet><Brands>4+</Brands><Internet>T1</Internet><NumberEmployees>46</NumberEmployees></StoreSurvey>",
         "2014-09-12",
         "Distinctive Store",
         281,
         "019e92aa-628c-4914-acbc-d540e595e887"
        ],
        [
         756,
         "<StoreSurvey xmlns=\"http://schemas.microsoft.com/sqlserver/2004/07/adventure-works/StoreSurvey\"><AnnualSales>1500000</AnnualSales><AnnualRevenue>150000</AnnualRevenue><BankName>Primary Bank &amp; Reserve</BankName><BusinessType>BS</BusinessType><YearOpened>1992</YearOpened><Specialty>Road</Specialty><SquareFeet>41000</SquareFeet><Brands>2</Brands><Internet>DSL</Internet><NumberEmployees>43</NumberEmployees></StoreSurvey>",
         "2014-09-12",
         "Grand Cycle Store",
         283,
         "1f40d1de-0b48-436c-bf9e-ad6f31629ff3"
        ],
        [
         758,
         "<StoreSurvey xmlns=\"http://schemas.microsoft.com/sqlserver/2004/07/adventure-works/StoreSurvey\"><AnnualSales>3000000</AnnualSales><AnnualRevenue>300000</AnnualRevenue><BankName>United Security</BankName><BusinessType>OS</BusinessType><YearOpened>1983</YearOpened><Specialty>Road</Specialty><SquareFeet>74000</SquareFeet><Brands>2</Brands><Internet>DSL</Internet><NumberEmployees>87</NumberEmployees></StoreSurvey>",
         "2014-09-12",
         "Nearby Bike Mall",
         288,
         "d2df815b-b890-4a47-a396-d8ff91914356"
        ],
        [
         760,
         "<StoreSurvey xmlns=\"http://schemas.microsoft.com/sqlserver/2004/07/adventure-works/StoreSurvey\"><AnnualSales>3000000</AnnualSales><AnnualRevenue>300000</AnnualRevenue><BankName>Reserve Security</BankName><BusinessType>OS</BusinessType><YearOpened>1975</YearOpened><Specialty>Mountain</Specialty><SquareFeet>76000</SquareFeet><Brands>4+</Brands><Internet>T1</Internet><NumberEmployees>88</NumberEmployees></StoreSurvey>",
         "2014-09-12",
         "Handy Bike Services",
         275,
         "f4ae5e4f-8702-419b-9e8e-f82489669453"
        ],
        [
         762,
         "<StoreSurvey xmlns=\"http://schemas.microsoft.com/sqlserver/2004/07/adventure-works/StoreSurvey\"><AnnualSales>3000000</AnnualSales><AnnualRevenue>300000</AnnualRevenue><BankName>Primary International</BankName><BusinessType>OS</BusinessType><YearOpened>1980</YearOpened><Specialty>Road</Specialty><SquareFeet>75000</SquareFeet><Brands>2</Brands><Internet>DSL</Internet><NumberEmployees>89</NumberEmployees></StoreSurvey>",
         "2014-09-12",
         "Friendly Bike Shop",
         283,
         "ccba980d-ae01-49ac-aa30-8224225d900f"
        ],
        [
         764,
         "<StoreSurvey xmlns=\"http://schemas.microsoft.com/sqlserver/2004/07/adventure-works/StoreSurvey\"><AnnualSales>3000000</AnnualSales><AnnualRevenue>300000</AnnualRevenue><BankName>Guardian Bank</BankName><BusinessType>OS</BusinessType><YearOpened>1972</YearOpened><Specialty>Mountain</Specialty><SquareFeet>76000</SquareFeet><Brands>3</Brands><Internet>T1</Internet><NumberEmployees>90</NumberEmployees></StoreSurvey>",
         "2014-09-12",
         "Fashionable Bikes and Accessories",
         281,
         "63427938-8dbb-470b-85d2-1b5cb62f9ed7"
        ],
        [
         766,
         "<StoreSurvey xmlns=\"http://schemas.microsoft.com/sqlserver/2004/07/adventure-works/StoreSurvey\"><AnnualSales>3000000</AnnualSales><AnnualRevenue>300000</AnnualRevenue><BankName>International Security</BankName><BusinessType>OS</BusinessType><YearOpened>1977</YearOpened><Specialty>Mountain</Specialty><SquareFeet>75000</SquareFeet><Brands>2</Brands><Internet>DSL</Internet><NumberEmployees>91</NumberEmployees></StoreSurvey>",
         "2014-09-12",
         "Extreme Toy Store",
         279,
         "dbe4a587-bd26-485b-94c3-b04e944627c9"
        ],
        [
         768,
         "<StoreSurvey xmlns=\"http://schemas.microsoft.com/sqlserver/2004/07/adventure-works/StoreSurvey\"><AnnualSales>3000000</AnnualSales><AnnualRevenue>300000</AnnualRevenue><BankName>Primary Bank &amp; Reserve</BankName><BusinessType>OS</BusinessType><YearOpened>1987</YearOpened><Specialty>Road</Specialty><SquareFeet>79000</SquareFeet><Brands>3</Brands><Internet>DSL</Internet><NumberEmployees>92</NumberEmployees></StoreSurvey>",
         "2014-09-12",
         "Citywide Service and Repair",
         282,
         "10069045-fe16-4eef-bdf8-2aa907c8924d"
        ],
        [
         770,
         "<StoreSurvey xmlns=\"http://schemas.microsoft.com/sqlserver/2004/07/adventure-works/StoreSurvey\"><AnnualSales>3000000</AnnualSales><AnnualRevenue>300000</AnnualRevenue><BankName>International Bank</BankName><BusinessType>OS</BusinessType><YearOpened>1974</YearOpened><Specialty>Touring</Specialty><SquareFeet>78000</SquareFeet><Brands>4+</Brands><Internet>T1</Internet><NumberEmployees>93</NumberEmployees></StoreSurvey>",
         "2014-09-12",
         "Best Cycle Store",
         288,
         "6a2daf2a-19a5-42c5-8dc4-2038561c5ae3"
        ],
        [
         772,
         "<StoreSurvey xmlns=\"http://schemas.microsoft.com/sqlserver/2004/07/adventure-works/StoreSurvey\"><AnnualSales>3000000</AnnualSales><AnnualRevenue>300000</AnnualRevenue><BankName>United Security</BankName><BusinessType>OS</BusinessType><YearOpened>1974</YearOpened><Specialty>Touring</Specialty><SquareFeet>78000</SquareFeet><Brands>2</Brands><Internet>DSL</Internet><NumberEmployees>94</NumberEmployees></StoreSurvey>",
         "2014-09-12",
         "Professional Sporting Goods",
         275,
         "e0453aaa-7d26-4f08-b5ab-4dc265330cf2"
        ],
        [
         774,
         "<StoreSurvey xmlns=\"http://schemas.microsoft.com/sqlserver/2004/07/adventure-works/StoreSurvey\"><AnnualSales>3000000</AnnualSales><AnnualRevenue>300000</AnnualRevenue><BankName>Reserve Security</BankName><BusinessType>OS</BusinessType><YearOpened>1980</YearOpened><Specialty>Touring</Specialty><SquareFeet>77000</SquareFeet><Brands>2</Brands><Internet>DSL</Internet><NumberEmployees>95</NumberEmployees></StoreSurvey>",
         "2014-09-12",
         "Rugged Bikes",
         283,
         "623db28f-60da-49d6-b72d-1680aa5e6351"
        ],
        [
         776,
         "<StoreSurvey xmlns=\"http://schemas.microsoft.com/sqlserver/2004/07/adventure-works/StoreSurvey\"><AnnualSales>3000000</AnnualSales><AnnualRevenue>300000</AnnualRevenue><BankName>Primary International</BankName><BusinessType>OS</BusinessType><YearOpened>1986</YearOpened><Specialty>Road</Specialty><SquareFeet>79000</SquareFeet><Brands>3</Brands><Internet>DSL</Internet><NumberEmployees>96</NumberEmployees></StoreSurvey>",
         "2014-09-12",
         "Principal Bike Company",
         281,
         "9bbe2c3d-be66-474e-bc4e-0ea19bf08dd5"
        ],
        [
         778,
         "<StoreSurvey xmlns=\"http://schemas.microsoft.com/sqlserver/2004/07/adventure-works/StoreSurvey\"><AnnualSales>3000000</AnnualSales><AnnualRevenue>300000</AnnualRevenue><BankName>Guardian Bank</BankName><BusinessType>OS</BusinessType><YearOpened>1992</YearOpened><Specialty>Mountain</Specialty><SquareFeet>80000</SquareFeet><Brands>3</Brands><Internet>T1</Internet><NumberEmployees>97</NumberEmployees></StoreSurvey>",
         "2014-09-12",
         "One-Piece Handle Bars",
         279,
         "3159c810-9549-497f-8e2e-7e7dc7158751"
        ],
        [
         780,
         "<StoreSurvey xmlns=\"http://schemas.microsoft.com/sqlserver/2004/07/adventure-works/StoreSurvey\"><AnnualSales>3000000</AnnualSales><AnnualRevenue>300000</AnnualRevenue><BankName>International Security</BankName><BusinessType>OS</BusinessType><YearOpened>1998</YearOpened><Specialty>Road</Specialty><SquareFeet>78000</SquareFeet><Brands>4+</Brands><Internet>DSL</Internet><NumberEmployees>98</NumberEmployees></StoreSurvey>",
         "2014-09-12",
         "Finer Riding Supplies",
         282,
         "943a2705-ce9c-47d6-8708-407bd239ed49"
        ],
        [
         782,
         "<StoreSurvey xmlns=\"http://schemas.microsoft.com/sqlserver/2004/07/adventure-works/StoreSurvey\"><AnnualSales>3000000</AnnualSales><AnnualRevenue>300000</AnnualRevenue><BankName>Primary International</BankName><BusinessType>OS</BusinessType><YearOpened>1983</YearOpened><Specialty>Road</Specialty><SquareFeet>77000</SquareFeet><Brands>2</Brands><Internet>DSL</Internet><NumberEmployees>87</NumberEmployees></StoreSurvey>",
         "2014-09-12",
         "Neighborhood Store",
         278,
         "97a18a38-227d-4886-b711-7967af5ebb8e"
        ],
        [
         784,
         "<StoreSurvey xmlns=\"http://schemas.microsoft.com/sqlserver/2004/07/adventure-works/StoreSurvey\"><AnnualSales>3000000</AnnualSales><AnnualRevenue>300000</AnnualRevenue><BankName>Guardian Bank</BankName><BusinessType>OS</BusinessType><YearOpened>1975</YearOpened><Specialty>Touring</Specialty><SquareFeet>74000</SquareFeet><Brands>3</Brands><Internet>T2</Internet><NumberEmployees>88</NumberEmployees></StoreSurvey>",
         "2014-09-12",
         "Online Bike Catalog",
         286,
         "df376bcf-680e-4b1e-aa70-23db54c6d129"
        ],
        [
         786,
         "<StoreSurvey xmlns=\"http://schemas.microsoft.com/sqlserver/2004/07/adventure-works/StoreSurvey\"><AnnualSales>3000000</AnnualSales><AnnualRevenue>300000</AnnualRevenue><BankName>International Security</BankName><BusinessType>OS</BusinessType><YearOpened>1980</YearOpened><Specialty>Road</Specialty><SquareFeet>76000</SquareFeet><Brands>4+</Brands><Internet>T2</Internet><NumberEmployees>89</NumberEmployees></StoreSurvey>",
         "2014-09-12",
         "Outdoor Equipment Store",
         275,
         "4dcdf6f3-84a2-4407-973a-14ae73eb4e7f"
        ],
        [
         788,
         "<StoreSurvey xmlns=\"http://schemas.microsoft.com/sqlserver/2004/07/adventure-works/StoreSurvey\"><AnnualSales>3000000</AnnualSales><AnnualRevenue>300000</AnnualRevenue><BankName>Primary Bank &amp; Reserve</BankName><BusinessType>OS</BusinessType><YearOpened>1972</YearOpened><Specialty>Mountain</Specialty><SquareFeet>78000</SquareFeet><Brands>4+</Brands><Internet>T1</Internet><NumberEmployees>90</NumberEmployees></StoreSurvey>",
         "2014-09-12",
         "Paint Supply",
         277,
         "1229501b-b60c-41a9-97e6-8b1d13c568de"
        ],
        [
         790,
         "<StoreSurvey xmlns=\"http://schemas.microsoft.com/sqlserver/2004/07/adventure-works/StoreSurvey\"><AnnualSales>3000000</AnnualSales><AnnualRevenue>300000</AnnualRevenue><BankName>International Bank</BankName><BusinessType>OS</BusinessType><YearOpened>1977</YearOpened><Specialty>Road</Specialty><SquareFeet>77000</SquareFeet><Brands>4+</Brands><Internet>ISDN</Internet><NumberEmployees>91</NumberEmployees></StoreSurvey>",
         "2014-09-12",
         "Preferred Bikes",
         276,
         "6ab9d50f-4181-4704-9b51-e558b491d82b"
        ],
        [
         792,
         "<StoreSurvey xmlns=\"http://schemas.microsoft.com/sqlserver/2004/07/adventure-works/StoreSurvey\"><AnnualSales>3000000</AnnualSales><AnnualRevenue>300000</AnnualRevenue><BankName>United Security</BankName><BusinessType>OS</BusinessType><YearOpened>1987</YearOpened><Specialty>Road</Specialty><SquareFeet>75000</SquareFeet><Brands>3</Brands><Internet>DSL</Internet><NumberEmployees>92</NumberEmployees></StoreSurvey>",
         "2014-09-12",
         "Rally Day Mall",
         279,
         "1d7c7ae9-7df4-4b89-9a80-b224a2dd6b41"
        ],
        [
         794,
         "<StoreSurvey xmlns=\"http://schemas.microsoft.com/sqlserver/2004/07/adventure-works/StoreSurvey\"><AnnualSales>3000000</AnnualSales><AnnualRevenue>300000</AnnualRevenue><BankName>Reserve Security</BankName><BusinessType>OS</BusinessType><YearOpened>1974</YearOpened><Specialty>Road</Specialty><SquareFeet>76000</SquareFeet><Brands>4+</Brands><Internet>T1</Internet><NumberEmployees>93</NumberEmployees></StoreSurvey>",
         "2014-09-12",
         "Rewarding Activities Company",
         278,
         "b6d5b9ba-7304-4e4d-a78c-8fb8a66fbf4b"
        ],
        [
         796,
         "<StoreSurvey xmlns=\"http://schemas.microsoft.com/sqlserver/2004/07/adventure-works/StoreSurvey\"><AnnualSales>3000000</AnnualSales><AnnualRevenue>300000</AnnualRevenue><BankName>Primary International</BankName><BusinessType>OS</BusinessType><YearOpened>1974</YearOpened><Specialty>Touring</Specialty><SquareFeet>76000</SquareFeet><Brands>2</Brands><Internet>DSL</Internet><NumberEmployees>94</NumberEmployees></StoreSurvey>",
         "2014-09-12",
         "Rich Department Store",
         286,
         "b227ca7d-70a5-48a6-b099-e71b35d543da"
        ],
        [
         798,
         "<StoreSurvey xmlns=\"http://schemas.microsoft.com/sqlserver/2004/07/adventure-works/StoreSurvey\"><AnnualSales>3000000</AnnualSales><AnnualRevenue>300000</AnnualRevenue><BankName>Guardian Bank</BankName><BusinessType>OS</BusinessType><YearOpened>1980</YearOpened><Specialty>Road</Specialty><SquareFeet>75000</SquareFeet><Brands>2</Brands><Internet>T2</Internet><NumberEmployees>95</NumberEmployees></StoreSurvey>",
         "2014-09-12",
         "Sales and Supply Company",
         275,
         "40ef14b1-9714-4765-9284-951d01a65eb2"
        ],
        [
         800,
         "<StoreSurvey xmlns=\"http://schemas.microsoft.com/sqlserver/2004/07/adventure-works/StoreSurvey\"><AnnualSales>3000000</AnnualSales><AnnualRevenue>300000</AnnualRevenue><BankName>International Security</BankName><BusinessType>OS</BusinessType><YearOpened>1986</YearOpened><Specialty>Road</Specialty><SquareFeet>76000</SquareFeet><Brands>4+</Brands><Internet>DSL</Internet><NumberEmployees>96</NumberEmployees></StoreSurvey>",
         "2014-09-12",
         "Stationary Bikes and Stands",
         277,
         "b2fedf01-27f1-4978-ac3d-0cf105185a33"
        ],
        [
         802,
         "<StoreSurvey xmlns=\"http://schemas.microsoft.com/sqlserver/2004/07/adventure-works/StoreSurvey\"><AnnualSales>1500000</AnnualSales><AnnualRevenue>150000</AnnualRevenue><BankName>Guardian Bank</BankName><BusinessType>BS</BusinessType><YearOpened>1997</YearOpened><Specialty>Road</Specialty><SquareFeet>38000</SquareFeet><Brands>3</Brands><Internet>T1</Internet><NumberEmployees>46</NumberEmployees></StoreSurvey>",
         "2014-09-12",
         "Successful Sales Company",
         280,
         "a3d9586d-2eec-4e39-b311-2880fcdeb536"
        ],
        [
         804,
         "<StoreSurvey xmlns=\"http://schemas.microsoft.com/sqlserver/2004/07/adventure-works/StoreSurvey\"><AnnualSales>3000000</AnnualSales><AnnualRevenue>300000</AnnualRevenue><BankName>International Bank</BankName><BusinessType>OS</BusinessType><YearOpened>1986</YearOpened><Specialty>Mountain</Specialty><SquareFeet>74000</SquareFeet><Brands>4+</Brands><Internet>DSL</Internet><NumberEmployees>85</NumberEmployees></StoreSurvey>",
         "2014-09-12",
         "Downtown Hotel",
         281,
         "19c5ccaf-6fde-4f34-b10c-2155533c51f6"
        ],
        [
         806,
         "<StoreSurvey xmlns=\"http://schemas.microsoft.com/sqlserver/2004/07/adventure-works/StoreSurvey\"><AnnualSales>3000000</AnnualSales><AnnualRevenue>300000</AnnualRevenue><BankName>United Security</BankName><BusinessType>OS</BusinessType><YearOpened>1978</YearOpened><Specialty>Mountain</Specialty><SquareFeet>78000</SquareFeet><Brands>4+</Brands><Internet>DSL</Internet><NumberEmployees>86</NumberEmployees></StoreSurvey>",
         "2014-09-12",
         "Certified Sports Supply",
         282,
         "0f2c5152-8b95-41f8-b0a0-f6af76da98cb"
        ],
        [
         808,
         "<StoreSurvey xmlns=\"http://schemas.microsoft.com/sqlserver/2004/07/adventure-works/StoreSurvey\"><AnnualSales>3000000</AnnualSales><AnnualRevenue>300000</AnnualRevenue><BankName>Reserve Security</BankName><BusinessType>OS</BusinessType><YearOpened>1983</YearOpened><Specialty>Mountain</Specialty><SquareFeet>77000</SquareFeet><Brands>3</Brands><Internet>T1</Internet><NumberEmployees>87</NumberEmployees></StoreSurvey>",
         "2014-09-12",
         "Registered Cycle Store",
         290,
         "dea4bef9-a886-41e7-be61-8d2618260863"
        ],
        [
         810,
         "<StoreSurvey xmlns=\"http://schemas.microsoft.com/sqlserver/2004/07/adventure-works/StoreSurvey\"><AnnualSales>3000000</AnnualSales><AnnualRevenue>300000</AnnualRevenue><BankName>Primary International</BankName><BusinessType>OS</BusinessType><YearOpened>1975</YearOpened><Specialty>Touring</Specialty><SquareFeet>75000</SquareFeet><Brands>3</Brands><Internet>ISDN</Internet><NumberEmployees>88</NumberEmployees></StoreSurvey>",
         "2014-09-12",
         "Rampart Amusement Company",
         289,
         "4d64a5ff-671a-4c93-a494-9fb5dc7c76b4"
        ],
        [
         812,
         "<StoreSurvey xmlns=\"http://schemas.microsoft.com/sqlserver/2004/07/adventure-works/StoreSurvey\"><AnnualSales>300000</AnnualSales><AnnualRevenue>30000</AnnualRevenue><BankName>Primary Bank &amp; Reserve</BankName><BusinessType>BM</BusinessType><YearOpened>1984</YearOpened><Specialty>Road</Specialty><SquareFeet>7000</SquareFeet><Brands>4+</Brands><Internet>T2</Internet><NumberEmployees>5</NumberEmployees></StoreSurvey>",
         "2014-09-12",
         "Sundry Sporting Goods",
         282,
         "89523b8a-763b-41da-bf56-9ed59c0a1cbb"
        ],
        [
         814,
         "<StoreSurvey xmlns=\"http://schemas.microsoft.com/sqlserver/2004/07/adventure-works/StoreSurvey\"><AnnualSales>300000</AnnualSales><AnnualRevenue>30000</AnnualRevenue><BankName>International Security</BankName><BusinessType>BM</BusinessType><YearOpened>1979</YearOpened><Specialty>Road</Specialty><SquareFeet>9000</SquareFeet><Brands>3</Brands><Internet>ISDN</Internet><NumberEmployees>6</NumberEmployees></StoreSurvey>",
         "2014-09-12",
         "Excellent Riding Supplies",
         279,
         "c0d3f06b-dac6-42b6-b3a2-9f69ef2e27e7"
        ],
        [
         816,
         "<StoreSurvey xmlns=\"http://schemas.microsoft.com/sqlserver/2004/07/adventure-works/StoreSurvey\"><AnnualSales>300000</AnnualSales><AnnualRevenue>30000</AnnualRevenue><BankName>Guardian Bank</BankName><BusinessType>BM</BusinessType><YearOpened>1987</YearOpened><Specialty>Road</Specialty><SquareFeet>8000</SquareFeet><Brands>3</Brands><Internet>T1</Internet><NumberEmployees>7</NumberEmployees></StoreSurvey>",
         "2014-09-12",
         "Farthermost Bike Shop",
         281,
         "91a84292-1e38-4ded-91ee-9bfaa1dd3dea"
        ],
        [
         818,
         "<StoreSurvey xmlns=\"http://schemas.microsoft.com/sqlserver/2004/07/adventure-works/StoreSurvey\"><AnnualSales>300000</AnnualSales><AnnualRevenue>30000</AnnualRevenue><BankName>Primary International</BankName><BusinessType>BM</BusinessType><YearOpened>1982</YearOpened><Specialty>Mountain</Specialty><SquareFeet>10000</SquareFeet><Brands>3</Brands><Internet>DSL</Internet><NumberEmployees>8</NumberEmployees></StoreSurvey>",
         "2014-09-12",
         "Suburban Cycle Shop",
         283,
         "b3504bb0-308c-4d26-8e0a-ece43fe55a20"
        ],
        [
         820,
         "<StoreSurvey xmlns=\"http://schemas.microsoft.com/sqlserver/2004/07/adventure-works/StoreSurvey\"><AnnualSales>300000</AnnualSales><AnnualRevenue>30000</AnnualRevenue><BankName>Reserve Security</BankName><BusinessType>BM</BusinessType><YearOpened>1990</YearOpened><Specialty>Road</Specialty><SquareFeet>9000</SquareFeet><Brands>AW</Brands><Internet>DSL</Internet><NumberEmployees>9</NumberEmployees></StoreSurvey>",
         "2014-09-12",
         "Weekend Tours",
         275,
         "4cfe3bd5-98f1-4e4a-90df-9decf1ce042b"
        ],
        [
         822,
         "<StoreSurvey xmlns=\"http://schemas.microsoft.com/sqlserver/2004/07/adventure-works/StoreSurvey\"><AnnualSales>3000000</AnnualSales><AnnualRevenue>300000</AnnualRevenue><BankName>United Security</BankName><BusinessType>OS</BusinessType><YearOpened>1998</YearOpened><Specialty>Road</Specialty><SquareFeet>72000</SquareFeet><Brands>2</Brands><Internet>DSL</Internet><NumberEmployees>52</NumberEmployees></StoreSurvey>",
         "2014-09-12",
         "Racing Bike Outlet",
         283,
         "bf71f3bc-449f-418b-a0b3-c9f070365cf3"
        ],
        [
         824,
         "<StoreSurvey xmlns=\"http://schemas.microsoft.com/sqlserver/2004/07/adventure-works/StoreSurvey\"><AnnualSales>3000000</AnnualSales><AnnualRevenue>300000</AnnualRevenue><BankName>Reserve Security</BankName><BusinessType>OS</BusinessType><YearOpened>1999</YearOpened><Specialty>Touring</Specialty><SquareFeet>72000</SquareFeet><Brands>3</Brands><Internet>DSL</Internet><NumberEmployees>55</NumberEmployees></StoreSurvey>",
         "2014-09-12",
         "Utilitarian Sporting Goods",
         281,
         "9f37eb77-80e4-4ffc-a5dc-3b1808d9af72"
        ],
        [
         826,
         "<StoreSurvey xmlns=\"http://schemas.microsoft.com/sqlserver/2004/07/adventure-works/StoreSurvey\"><AnnualSales>3000000</AnnualSales><AnnualRevenue>300000</AnnualRevenue><BankName>Primary International</BankName><BusinessType>OS</BusinessType><YearOpened>1999</YearOpened><Specialty>Road</Specialty><SquareFeet>73000</SquareFeet><Brands>4+</Brands><Internet>T2</Internet><NumberEmployees>58</NumberEmployees></StoreSurvey>",
         "2014-09-12",
         "Bike Goods ",
         279,
         "db843b5d-df3d-44ba-b4ef-81dcae29cb93"
        ],
        [
         828,
         "<StoreSurvey xmlns=\"http://schemas.microsoft.com/sqlserver/2004/07/adventure-works/StoreSurvey\"><AnnualSales>3000000</AnnualSales><AnnualRevenue>300000</AnnualRevenue><BankName>Guardian Bank</BankName><BusinessType>OS</BusinessType><YearOpened>1979</YearOpened><Specialty>Mountain</Specialty><SquareFeet>72000</SquareFeet><Brands>2</Brands><Internet>T1</Internet><NumberEmployees>61</NumberEmployees></StoreSurvey>",
         "2014-09-12",
         "Vigorous Exercise Company",
         282,
         "9a4119a4-e158-4754-93a3-bab22274440f"
        ],
        [
         830,
         "<StoreSurvey xmlns=\"http://schemas.microsoft.com/sqlserver/2004/07/adventure-works/StoreSurvey\"><AnnualSales>3000000</AnnualSales><AnnualRevenue>300000</AnnualRevenue><BankName>International Security</BankName><BusinessType>OS</BusinessType><YearOpened>1996</YearOpened><Specialty>Road</Specialty><SquareFeet>71000</SquareFeet><Brands>2</Brands><Internet>T1</Internet><NumberEmployees>64</NumberEmployees></StoreSurvey>",
         "2014-09-12",
         "Showcase for Cycles",
         288,
         "04dcaa69-ad7b-43c7-b149-e6fe2604d27e"
        ],
        [
         832,
         "<StoreSurvey xmlns=\"http://schemas.microsoft.com/sqlserver/2004/07/adventure-works/StoreSurvey\"><AnnualSales>3000000</AnnualSales><AnnualRevenue>300000</AnnualRevenue><BankName>Primary Bank &amp; Reserve</BankName><BusinessType>OS</BusinessType><YearOpened>1991</YearOpened><Specialty>Road</Specialty><SquareFeet>71000</SquareFeet><Brands>3</Brands><Internet>ISDN</Internet><NumberEmployees>67</NumberEmployees></StoreSurvey>",
         "2014-09-12",
         "Lease-a-Bike Shop",
         275,
         "58c02eac-d3fd-4a79-b077-20c999b88a54"
        ],
        [
         834,
         "<StoreSurvey xmlns=\"http://schemas.microsoft.com/sqlserver/2004/07/adventure-works/StoreSurvey\"><AnnualSales>3000000</AnnualSales><AnnualRevenue>300000</AnnualRevenue><BankName>International Bank</BankName><BusinessType>OS</BusinessType><YearOpened>1993</YearOpened><Specialty>Mountain</Specialty><SquareFeet>71000</SquareFeet><Brands>2</Brands><Internet>DSL</Internet><NumberEmployees>70</NumberEmployees></StoreSurvey>",
         "2014-09-12",
         "Functional Store South",
         288,
         "0d5c741d-a691-4732-93a3-d34ed0ed3716"
        ],
        [
         836,
         "<StoreSurvey xmlns=\"http://schemas.microsoft.com/sqlserver/2004/07/adventure-works/StoreSurvey\"><AnnualSales>3000000</AnnualSales><AnnualRevenue>300000</AnnualRevenue><BankName>United Security</BankName><BusinessType>OS</BusinessType><YearOpened>1998</YearOpened><Specialty>Road</Specialty><SquareFeet>73000</SquareFeet><Brands>4+</Brands><Internet>DSL</Internet><NumberEmployees>73</NumberEmployees></StoreSurvey>",
         "2014-09-12",
         "Active Cycling",
         275,
         "1e3dff09-7e5c-49bd-b8b1-d0a2e1523bf6"
        ],
        [
         838,
         "<StoreSurvey xmlns=\"http://schemas.microsoft.com/sqlserver/2004/07/adventure-works/StoreSurvey\"><AnnualSales>3000000</AnnualSales><AnnualRevenue>300000</AnnualRevenue><BankName>Reserve Security</BankName><BusinessType>OS</BusinessType><YearOpened>1990</YearOpened><Specialty>Touring</Specialty><SquareFeet>76000</SquareFeet><Brands>2</Brands><Internet>DSL</Internet><NumberEmployees>76</NumberEmployees></StoreSurvey>",
         "2014-09-12",
         "Stock Parts and Supplies",
         283,
         "ed67b7ec-a2a1-4f0b-9959-1bcd1c7e8b36"
        ],
        [
         840,
         "<StoreSurvey xmlns=\"http://schemas.microsoft.com/sqlserver/2004/07/adventure-works/StoreSurvey\"><AnnualSales>3000000</AnnualSales><AnnualRevenue>300000</AnnualRevenue><BankName>Primary International</BankName><BusinessType>OS</BusinessType><YearOpened>1995</YearOpened><Specialty>Road</Specialty><SquareFeet>73000</SquareFeet><Brands>4+</Brands><Internet>DSL</Internet><NumberEmployees>79</NumberEmployees></StoreSurvey>",
         "2014-09-12",
         "Roadway Supplies",
         281,
         "dd1ceef8-3e77-4d8e-b420-48acba0a9651"
        ],
        [
         842,
         "<StoreSurvey xmlns=\"http://schemas.microsoft.com/sqlserver/2004/07/adventure-works/StoreSurvey\"><AnnualSales>3000000</AnnualSales><AnnualRevenue>300000</AnnualRevenue><BankName>Guardian Bank</BankName><BusinessType>OS</BusinessType><YearOpened>1987</YearOpened><Specialty>Road</Specialty><SquareFeet>73000</SquareFeet><Brands>2</Brands><Internet>T1</Internet><NumberEmployees>80</NumberEmployees></StoreSurvey>",
         "2014-09-12",
         "Sensational Discount Store",
         279,
         "56795063-f8c7-4550-8a37-357d91cb7c96"
        ],
        [
         844,
         "<StoreSurvey xmlns=\"http://schemas.microsoft.com/sqlserver/2004/07/adventure-works/StoreSurvey\"><AnnualSales>3000000</AnnualSales><AnnualRevenue>300000</AnnualRevenue><BankName>Guardian Bank</BankName><BusinessType>OS</BusinessType><YearOpened>1992</YearOpened><Specialty>Road</Specialty><SquareFeet>74000</SquareFeet><Brands>3</Brands><Internet>DSL</Internet><NumberEmployees>81</NumberEmployees></StoreSurvey>",
         "2014-09-12",
         "Future Bikes",
         282,
         "95a0e002-f4f0-4b42-ab6f-860c02405a6d"
        ],
        [
         846,
         "<StoreSurvey xmlns=\"http://schemas.microsoft.com/sqlserver/2004/07/adventure-works/StoreSurvey\"><AnnualSales>3000000</AnnualSales><AnnualRevenue>300000</AnnualRevenue><BankName>Primary Bank &amp; Reserve</BankName><BusinessType>OS</BusinessType><YearOpened>1999</YearOpened><Specialty>Road</Specialty><SquareFeet>78000</SquareFeet><Brands>2</Brands><Internet>DSL</Internet><NumberEmployees>100</NumberEmployees></StoreSurvey>",
         "2014-09-12",
         "Super Sports Store",
         275,
         "a7b14c08-db02-4182-abbd-25daa3dba7f2"
        ],
        [
         848,
         "<StoreSurvey xmlns=\"http://schemas.microsoft.com/sqlserver/2004/07/adventure-works/StoreSurvey\"><AnnualSales>3000000</AnnualSales><AnnualRevenue>300000</AnnualRevenue><BankName>International Bank</BankName><BusinessType>OS</BusinessType><YearOpened>1979</YearOpened><Specialty>Mountain</Specialty><SquareFeet>74000</SquareFeet><Brands>2</Brands><Internet>T1</Internet><NumberEmployees>66</NumberEmployees></StoreSurvey>",
         "2014-09-12",
         "Satin Finish Company",
         277,
         "24803781-0abd-47f6-a88c-c5fae0eaa3f7"
        ],
        [
         850,
         "<StoreSurvey xmlns=\"http://schemas.microsoft.com/sqlserver/2004/07/adventure-works/StoreSurvey\"><AnnualSales>1500000</AnnualSales><AnnualRevenue>150000</AnnualRevenue><BankName>Primary Bank &amp; Reserve</BankName><BusinessType>OS</BusinessType><YearOpened>1974</YearOpened><Specialty>Mountain</Specialty><SquareFeet>38000</SquareFeet><Brands>4+</Brands><Internet>DSL</Internet><NumberEmployees>40</NumberEmployees></StoreSurvey>",
         "2014-09-12",
         "Regional Manufacturing",
         281,
         "164611b2-0b8a-4bcb-92ba-a7224089c518"
        ],
        [
         852,
         "<StoreSurvey xmlns=\"http://schemas.microsoft.com/sqlserver/2004/07/adventure-works/StoreSurvey\"><AnnualSales>1500000</AnnualSales><AnnualRevenue>150000</AnnualRevenue><BankName>International Bank</BankName><BusinessType>OS</BusinessType><YearOpened>1980</YearOpened><Specialty>Mountain</Specialty><SquareFeet>38000</SquareFeet><Brands>4+</Brands><Internet>T1</Internet><NumberEmployees>43</NumberEmployees></StoreSurvey>",
         "2014-09-12",
         "Original Bicycle Supply Company",
         282,
         "093a9472-b613-4214-9c41-4d707cfc38c0"
        ],
        [
         854,
         "<StoreSurvey xmlns=\"http://schemas.microsoft.com/sqlserver/2004/07/adventure-works/StoreSurvey\"><AnnualSales>1500000</AnnualSales><AnnualRevenue>150000</AnnualRevenue><BankName>United Security</BankName><BusinessType>OS</BusinessType><YearOpened>1986</YearOpened><Specialty>Mountain</Specialty><SquareFeet>39000</SquareFeet><Brands>2</Brands><Internet>T2</Internet><NumberEmployees>46</NumberEmployees></StoreSurvey>",
         "2014-09-12",
         "First Center",
         290,
         "2a96f5ea-199d-4b7b-b491-af05fa0edd2e"
        ],
        [
         856,
         "<StoreSurvey xmlns=\"http://schemas.microsoft.com/sqlserver/2004/07/adventure-works/StoreSurvey\"><AnnualSales>1500000</AnnualSales><AnnualRevenue>150000</AnnualRevenue><BankName>Reserve Security</BankName><BusinessType>OS</BusinessType><YearOpened>1992</YearOpened><Specialty>Touring</Specialty><SquareFeet>40000</SquareFeet><Brands>2</Brands><Internet>DSL</Internet><NumberEmployees>49</NumberEmployees></StoreSurvey>",
         "2014-09-12",
         "Action Bicycle Specialists",
         289,
         "1d624dc8-9ebe-4acb-81c8-90f0b474b64f"
        ],
        [
         858,
         "<StoreSurvey xmlns=\"http://schemas.microsoft.com/sqlserver/2004/07/adventure-works/StoreSurvey\"><AnnualSales>3000000</AnnualSales><AnnualRevenue>300000</AnnualRevenue><BankName>Primary International</BankName><BusinessType>OS</BusinessType><YearOpened>1998</YearOpened><Specialty>Touring</Specialty><SquareFeet>68000</SquareFeet><Brands>3</Brands><Internet>T1</Internet><NumberEmployees>52</NumberEmployees></StoreSurvey>",
         "2014-09-12",
         "Roadway Bike Emporium",
         280,
         "10f49b6a-8815-4b0c-aa31-f22972741d88"
        ],
        [
         860,
         "<StoreSurvey xmlns=\"http://schemas.microsoft.com/sqlserver/2004/07/adventure-works/StoreSurvey\"><AnnualSales>3000000</AnnualSales><AnnualRevenue>300000</AnnualRevenue><BankName>Guardian Bank</BankName><BusinessType>OS</BusinessType><YearOpened>1999</YearOpened><Specialty>Touring</Specialty><SquareFeet>70000</SquareFeet><Brands>3</Brands><Internet>DSL</Internet><NumberEmployees>55</NumberEmployees></StoreSurvey>",
         "2014-09-12",
         "Sleek Bikes ",
         277,
         "50684a79-632b-4a17-98f1-b09997e57ec2"
        ],
        [
         862,
         "<StoreSurvey xmlns=\"http://schemas.microsoft.com/sqlserver/2004/07/adventure-works/StoreSurvey\"><AnnualSales>3000000</AnnualSales><AnnualRevenue>300000</AnnualRevenue><BankName>International Security</BankName><BusinessType>OS</BusinessType><YearOpened>1999</YearOpened><Specialty>Mountain</Specialty><SquareFeet>72000</SquareFeet><Brands>4+</Brands><Internet>T1</Internet><NumberEmployees>58</NumberEmployees></StoreSurvey>",
         "2014-09-12",
         "Retail Sporting Equipment",
         281,
         "7c69a372-2100-4d34-9c59-9645af5465f0"
        ],
        [
         864,
         "<StoreSurvey xmlns=\"http://schemas.microsoft.com/sqlserver/2004/07/adventure-works/StoreSurvey\"><AnnualSales>3000000</AnnualSales><AnnualRevenue>300000</AnnualRevenue><BankName>Primary Bank &amp; Reserve</BankName><BusinessType>OS</BusinessType><YearOpened>1979</YearOpened><Specialty>Road</Specialty><SquareFeet>70000</SquareFeet><Brands>4+</Brands><Internet>DSL</Internet><NumberEmployees>61</NumberEmployees></StoreSurvey>",
         "2014-09-12",
         "Price-Cutter Discount Bikes",
         282,
         "5ef7f44b-42fc-4b7d-a1d3-fdf2f906aac1"
        ],
        [
         866,
         "<StoreSurvey xmlns=\"http://schemas.microsoft.com/sqlserver/2004/07/adventure-works/StoreSurvey\"><AnnualSales>3000000</AnnualSales><AnnualRevenue>300000</AnnualRevenue><BankName>International Bank</BankName><BusinessType>OS</BusinessType><YearOpened>1996</YearOpened><Specialty>Road</Specialty><SquareFeet>73000</SquareFeet><Brands>4+</Brands><Internet>ISDN</Internet><NumberEmployees>64</NumberEmployees></StoreSurvey>",
         "2014-09-12",
         "Brand New Bikes",
         290,
         "43a5e3fd-0886-44e3-9640-772616d463b7"
        ],
        [
         868,
         "<StoreSurvey xmlns=\"http://schemas.microsoft.com/sqlserver/2004/07/adventure-works/StoreSurvey\"><AnnualSales>3000000</AnnualSales><AnnualRevenue>300000</AnnualRevenue><BankName>United Security</BankName><BusinessType>OS</BusinessType><YearOpened>1991</YearOpened><Specialty>Touring</Specialty><SquareFeet>71000</SquareFeet><Brands>2</Brands><Internet>DSL</Internet><NumberEmployees>67</NumberEmployees></StoreSurvey>",
         "2014-09-12",
         "Central Bicycle Specialists",
         289,
         "c87accfe-02f1-4ecb-8759-d418e0df29ea"
        ],
        [
         870,
         "<StoreSurvey xmlns=\"http://schemas.microsoft.com/sqlserver/2004/07/adventure-works/StoreSurvey\"><AnnualSales>3000000</AnnualSales><AnnualRevenue>300000</AnnualRevenue><BankName>Reserve Security</BankName><BusinessType>OS</BusinessType><YearOpened>1993</YearOpened><Specialty>Mountain</Specialty><SquareFeet>73000</SquareFeet><Brands>4+</Brands><Internet>ISDN</Internet><NumberEmployees>70</NumberEmployees></StoreSurvey>",
         "2014-09-12",
         "Vast Bike Sales and Rental",
         280,
         "c8c03798-fee6-49e1-a112-4f128f7f45b7"
        ],
        [
         872,
         "<StoreSurvey xmlns=\"http://schemas.microsoft.com/sqlserver/2004/07/adventure-works/StoreSurvey\"><AnnualSales>3000000</AnnualSales><AnnualRevenue>300000</AnnualRevenue><BankName>Primary International</BankName><BusinessType>OS</BusinessType><YearOpened>1998</YearOpened><Specialty>Mountain</Specialty><SquareFeet>73000</SquareFeet><Brands>3</Brands><Internet>T2</Internet><NumberEmployees>73</NumberEmployees></StoreSurvey>",
         "2014-09-12",
         "Summer Sports Place",
         277,
         "4ff928f2-d314-455b-b00d-de870e399850"
        ],
        [
         874,
         "<StoreSurvey xmlns=\"http://schemas.microsoft.com/sqlserver/2004/07/adventure-works/StoreSurvey\"><AnnualSales>3000000</AnnualSales><AnnualRevenue>300000</AnnualRevenue><BankName>Guardian Bank</BankName><BusinessType>OS</BusinessType><YearOpened>1990</YearOpened><Specialty>Mountain</Specialty><SquareFeet>72000</SquareFeet><Brands>3</Brands><Internet>DSL</Internet><NumberEmployees>76</NumberEmployees></StoreSurvey>",
         "2014-09-12",
         "Real Sporting Goods",
         281,
         "6cba3bfd-af5c-4eac-9f80-7b57dfe9fe5a"
        ],
        [
         876,
         "<StoreSurvey xmlns=\"http://schemas.microsoft.com/sqlserver/2004/07/adventure-works/StoreSurvey\"><AnnualSales>3000000</AnnualSales><AnnualRevenue>300000</AnnualRevenue><BankName>Primary Bank &amp; Reserve</BankName><BusinessType>OS</BusinessType><YearOpened>1996</YearOpened><Specialty>Road</Specialty><SquareFeet>74000</SquareFeet><Brands>2</Brands><Internet>DSL</Internet><NumberEmployees>64</NumberEmployees></StoreSurvey>",
         "2014-09-12",
         "Versatile Sporting Goods Company",
         288,
         "d41ba195-3da6-42fb-8522-44a96dacb956"
        ],
        [
         878,
         "<StoreSurvey xmlns=\"http://schemas.microsoft.com/sqlserver/2004/07/adventure-works/StoreSurvey\"><AnnualSales>3000000</AnnualSales><AnnualRevenue>300000</AnnualRevenue><BankName>International Bank</BankName><BusinessType>OS</BusinessType><YearOpened>1991</YearOpened><Specialty>Road</Specialty><SquareFeet>72000</SquareFeet><Brands>3</Brands><Internet>DSL</Internet><NumberEmployees>67</NumberEmployees></StoreSurvey>",
         "2014-09-12",
         "Bicycle Outfitters",
         275,
         "efdf9b24-7a68-42eb-949b-9aa87c7af9d9"
        ],
        [
         880,
         "<StoreSurvey xmlns=\"http://schemas.microsoft.com/sqlserver/2004/07/adventure-works/StoreSurvey\"><AnnualSales>3000000</AnnualSales><AnnualRevenue>300000</AnnualRevenue><BankName>United Security</BankName><BusinessType>OS</BusinessType><YearOpened>1993</YearOpened><Specialty>Mountain</Specialty><SquareFeet>73000</SquareFeet><Brands>3</Brands><Internet>T1</Internet><NumberEmployees>70</NumberEmployees></StoreSurvey>",
         "2014-09-12",
         "The Bike Shop",
         283,
         "ea9810db-8f73-44e8-b65a-d148f62bf63a"
        ],
        [
         882,
         "<StoreSurvey xmlns=\"http://schemas.microsoft.com/sqlserver/2004/07/adventure-works/StoreSurvey\"><AnnualSales>3000000</AnnualSales><AnnualRevenue>300000</AnnualRevenue><BankName>Reserve Security</BankName><BusinessType>OS</BusinessType><YearOpened>1998</YearOpened><Specialty>Mountain</Specialty><SquareFeet>74000</SquareFeet><Brands>2</Brands><Internet>T1</Internet><NumberEmployees>73</NumberEmployees></StoreSurvey>",
         "2014-09-12",
         "Safe Toys",
         281,
         "3b49ba13-2f39-4481-8153-ad709211834e"
        ],
        [
         884,
         "<StoreSurvey xmlns=\"http://schemas.microsoft.com/sqlserver/2004/07/adventure-works/StoreSurvey\"><AnnualSales>3000000</AnnualSales><AnnualRevenue>300000</AnnualRevenue><BankName>Primary International</BankName><BusinessType>OS</BusinessType><YearOpened>1990</YearOpened><Specialty>Road</Specialty><SquareFeet>75000</SquareFeet><Brands>4+</Brands><Internet>DSL</Internet><NumberEmployees>76</NumberEmployees></StoreSurvey>",
         "2014-09-12",
         "Qualified Sales and Repair Services",
         279,
         "08a0eb56-a881-488f-a408-237a07ee87ad"
        ],
        [
         886,
         "<StoreSurvey xmlns=\"http://schemas.microsoft.com/sqlserver/2004/07/adventure-works/StoreSurvey\"><AnnualSales>3000000</AnnualSales><AnnualRevenue>300000</AnnualRevenue><BankName>Guardian Bank</BankName><BusinessType>OS</BusinessType><YearOpened>1995</YearOpened><Specialty>Road</Specialty><SquareFeet>76000</SquareFeet><Brands>4+</Brands><Internet>DSL</Internet><NumberEmployees>79</NumberEmployees></StoreSurvey>",
         "2014-09-12",
         "Our Sporting Goods Store",
         282,
         "ae7b0459-93b0-401b-8128-6c0b3ee154fc"
        ],
        [
         888,
         "<StoreSurvey xmlns=\"http://schemas.microsoft.com/sqlserver/2004/07/adventure-works/StoreSurvey\"><AnnualSales>3000000</AnnualSales><AnnualRevenue>300000</AnnualRevenue><BankName>International Security</BankName><BusinessType>OS</BusinessType><YearOpened>1987</YearOpened><Specialty>Road</Specialty><SquareFeet>77000</SquareFeet><Brands>4+</Brands><Internet>T1</Internet><NumberEmployees>80</NumberEmployees></StoreSurvey>",
         "2014-09-12",
         "Lustrous Paints and Components",
         288,
         "2e909f37-9d27-4090-b40f-148b648b0abf"
        ],
        [
         890,
         "<StoreSurvey xmlns=\"http://schemas.microsoft.com/sqlserver/2004/07/adventure-works/StoreSurvey\"><AnnualSales>3000000</AnnualSales><AnnualRevenue>300000</AnnualRevenue><BankName>Primary Bank &amp; Reserve</BankName><BusinessType>OS</BusinessType><YearOpened>1992</YearOpened><Specialty>Mountain</Specialty><SquareFeet>77000</SquareFeet><Brands>3</Brands><Internet>T1</Internet><NumberEmployees>81</NumberEmployees></StoreSurvey>",
         "2014-09-12",
         "Expert Sports Store",
         275,
         "6f2a7d51-bff7-4d84-8066-642554a19d3a"
        ],
        [
         892,
         "<StoreSurvey xmlns=\"http://schemas.microsoft.com/sqlserver/2004/07/adventure-works/StoreSurvey\"><AnnualSales>3000000</AnnualSales><AnnualRevenue>300000</AnnualRevenue><BankName>International Bank</BankName><BusinessType>OS</BusinessType><YearOpened>1984</YearOpened><Specialty>Mountain</Specialty><SquareFeet>75000</SquareFeet><Brands>3</Brands><Internet>T2</Internet><NumberEmployees>82</NumberEmployees></StoreSurvey>",
         "2014-09-12",
         "Coho Sports",
         283,
         "1ddbbf6f-bc85-45df-8798-acb47864bc13"
        ],
        [
         894,
         "<StoreSurvey xmlns=\"http://schemas.microsoft.com/sqlserver/2004/07/adventure-works/StoreSurvey\"><AnnualSales>1500000</AnnualSales><AnnualRevenue>150000</AnnualRevenue><BankName>United Security</BankName><BusinessType>BS</BusinessType><YearOpened>1977</YearOpened><Specialty>Touring</Specialty><SquareFeet>39000</SquareFeet><Brands>2</Brands><Internet>DSL</Internet><NumberEmployees>41</NumberEmployees></StoreSurvey>",
         "2014-09-12",
         "Jumbo Bikes",
         286,
         "63b27f51-853d-44c5-87a7-1f798d0712c4"
        ],
        [
         896,
         "<StoreSurvey xmlns=\"http://schemas.microsoft.com/sqlserver/2004/07/adventure-works/StoreSurvey\"><AnnualSales>1500000</AnnualSales><AnnualRevenue>150000</AnnualRevenue><BankName>International Bank</BankName><BusinessType>BS</BusinessType><YearOpened>1985</YearOpened><Specialty>Mountain</Specialty><SquareFeet>37000</SquareFeet><Brands>4+</Brands><Internet>T3</Internet><NumberEmployees>42</NumberEmployees></StoreSurvey>",
         "2014-09-12",
         "Quick Delivery Service",
         278,
         "5f287eda-9256-45d0-8c10-e8e73bf0af34"
        ],
        [
         898,
         "<StoreSurvey xmlns=\"http://schemas.microsoft.com/sqlserver/2004/07/adventure-works/StoreSurvey\"><AnnualSales>1500000</AnnualSales><AnnualRevenue>150000</AnnualRevenue><BankName>Primary Bank &amp; Reserve</BankName><BusinessType>BS</BusinessType><YearOpened>1980</YearOpened><Specialty>Road</Specialty><SquareFeet>40000</SquareFeet><Brands>3</Brands><Internet>DSL</Internet><NumberEmployees>43</NumberEmployees></StoreSurvey>",
         "2014-09-12",
         "Tough and Reliable Parts",
         279,
         "5d8fdd67-754e-4233-a726-7c2273e72d9d"
        ],
        [
         900,
         "<StoreSurvey xmlns=\"http://schemas.microsoft.com/sqlserver/2004/07/adventure-works/StoreSurvey\"><AnnualSales>1500000</AnnualSales><AnnualRevenue>150000</AnnualRevenue><BankName>International Security</BankName><BusinessType>BS</BusinessType><YearOpened>1988</YearOpened><Specialty>Mountain</Specialty><SquareFeet>38000</SquareFeet><Brands>3</Brands><Internet>DSL</Internet><NumberEmployees>44</NumberEmployees></StoreSurvey>",
         "2014-09-12",
         "Basic Sports Equipment",
         276,
         "f848fdfb-b867-4628-b5d9-1df6137103e1"
        ],
        [
         902,
         "<StoreSurvey xmlns=\"http://schemas.microsoft.com/sqlserver/2004/07/adventure-works/StoreSurvey\"><AnnualSales>1500000</AnnualSales><AnnualRevenue>150000</AnnualRevenue><BankName>Guardian Bank</BankName><BusinessType>BS</BusinessType><YearOpened>1983</YearOpened><Specialty>Mountain</Specialty><SquareFeet>39000</SquareFeet><Brands>2</Brands><Internet>DSL</Internet><NumberEmployees>45</NumberEmployees></StoreSurvey>",
         "2014-09-12",
         "Cash & Carry Bikes",
         277,
         "2c9c648c-3dc1-47df-937d-ee53001ffc34"
        ],
        [
         904,
         "<StoreSurvey xmlns=\"http://schemas.microsoft.com/sqlserver/2004/07/adventure-works/StoreSurvey\"><AnnualSales>1500000</AnnualSales><AnnualRevenue>150000</AnnualRevenue><BankName>Primary International</BankName><BusinessType>BS</BusinessType><YearOpened>1991</YearOpened><Specialty>Road</Specialty><SquareFeet>38000</SquareFeet><Brands>3</Brands><Internet>T2</Internet><NumberEmployees>46</NumberEmployees></StoreSurvey>",
         "2014-09-12",
         "Convenient Bike Shop",
         275,
         "060b2e02-67a3-493e-ac3a-c2a7851498fd"
        ],
        [
         906,
         "<StoreSurvey xmlns=\"http://schemas.microsoft.com/sqlserver/2004/07/adventure-works/StoreSurvey\"><AnnualSales>1500000</AnnualSales><AnnualRevenue>150000</AnnualRevenue><BankName>Reserve Security</BankName><BusinessType>BS</BusinessType><YearOpened>1986</YearOpened><Specialty>Touring</Specialty><SquareFeet>39000</SquareFeet><Brands>3</Brands><Internet>T1</Internet><NumberEmployees>47</NumberEmployees></StoreSurvey>",
         "2014-09-12",
         "Fitness Bike Accessories",
         286,
         "132ef67c-f056-4245-8617-03da1b1da9b4"
        ],
        [
         908,
         "<StoreSurvey xmlns=\"http://schemas.microsoft.com/sqlserver/2004/07/adventure-works/StoreSurvey\"><AnnualSales>1500000</AnnualSales><AnnualRevenue>150000</AnnualRevenue><BankName>United Security</BankName><BusinessType>BS</BusinessType><YearOpened>1994</YearOpened><Specialty>Road</Specialty><SquareFeet>38000</SquareFeet><Brands>4+</Brands><Internet>DSL</Internet><NumberEmployees>48</NumberEmployees></StoreSurvey>",
         "2014-09-12",
         "General Bike Corporation",
         278,
         "990c7fdd-84f7-4910-b140-7befc410dff2"
        ],
        [
         910,
         "<StoreSurvey xmlns=\"http://schemas.microsoft.com/sqlserver/2004/07/adventure-works/StoreSurvey\"><AnnualSales>1500000</AnnualSales><AnnualRevenue>150000</AnnualRevenue><BankName>International Bank</BankName><BusinessType>BS</BusinessType><YearOpened>1989</YearOpened><Specialty>Touring</Specialty><SquareFeet>40000</SquareFeet><Brands>2</Brands><Internet>ISDN</Internet><NumberEmployees>49</NumberEmployees></StoreSurvey>",
         "2014-09-12",
         "Quitting Business Distributors",
         279,
         "f09339a6-110a-421e-9c64-06bc99a96fe9"
        ],
        [
         912,
         "<StoreSurvey xmlns=\"http://schemas.microsoft.com/sqlserver/2004/07/adventure-works/StoreSurvey\"><AnnualSales>1500000</AnnualSales><AnnualRevenue>150000</AnnualRevenue><BankName>Primary Bank &amp; Reserve</BankName><BusinessType>BS</BusinessType><YearOpened>1997</YearOpened><Specialty>Mountain</Specialty><SquareFeet>38000</SquareFeet><Brands>3</Brands><Internet>T1</Internet><NumberEmployees>46</NumberEmployees></StoreSurvey>",
         "2014-09-12",
         "Retail Cycle Shop",
         276,
         "7e6cdd50-3ae0-442b-93ff-92e0d7561391"
        ],
        [
         914,
         "<StoreSurvey xmlns=\"http://schemas.microsoft.com/sqlserver/2004/07/adventure-works/StoreSurvey\"><AnnualSales>1500000</AnnualSales><AnnualRevenue>150000</AnnualRevenue><BankName>International Security</BankName><BusinessType>BS</BusinessType><YearOpened>1992</YearOpened><Specialty>Road</Specialty><SquareFeet>39000</SquareFeet><Brands>4+</Brands><Internet>T2</Internet><NumberEmployees>43</NumberEmployees></StoreSurvey>",
         "2014-09-12",
         "Social Activities Club",
         277,
         "46fab6e6-5fb5-4131-b7cd-1da4d7ffd16f"
        ],
        [
         916,
         "<StoreSurvey xmlns=\"http://schemas.microsoft.com/sqlserver/2004/07/adventure-works/StoreSurvey\"><AnnualSales>1500000</AnnualSales><AnnualRevenue>150000</AnnualRevenue><BankName>Guardian Bank</BankName><BusinessType>BS</BusinessType><YearOpened>1995</YearOpened><Specialty>Road</Specialty><SquareFeet>36000</SquareFeet><Brands>4+</Brands><Internet>DSL</Internet><NumberEmployees>40</NumberEmployees></StoreSurvey>",
         "2014-09-12",
         "Blue Bicycle Company",
         275,
         "edd3982f-5df1-4e35-8deb-cf85796257e4"
        ],
        [
         918,
         "<StoreSurvey xmlns=\"http://schemas.microsoft.com/sqlserver/2004/07/adventure-works/StoreSurvey\"><AnnualSales>1500000</AnnualSales><AnnualRevenue>150000</AnnualRevenue><BankName>Primary International</BankName><BusinessType>BS</BusinessType><YearOpened>1995</YearOpened><Specialty>Touring</Specialty><SquareFeet>38000</SquareFeet><Brands>4+</Brands><Internet>DSL</Internet><NumberEmployees>37</NumberEmployees></StoreSurvey>",
         "2014-09-12",
         "Expert Cycle Store",
         286,
         "111a9af9-d7d1-4685-a091-d815dfabb800"
        ],
        [
         920,
         "<StoreSurvey xmlns=\"http://schemas.microsoft.com/sqlserver/2004/07/adventure-works/StoreSurvey\"><AnnualSales>1500000</AnnualSales><AnnualRevenue>150000</AnnualRevenue><BankName>Reserve Security</BankName><BusinessType>BS</BusinessType><YearOpened>1983</YearOpened><Specialty>Mountain</Specialty><SquareFeet>36000</SquareFeet><Brands>3</Brands><Internet>DSL</Internet><NumberEmployees>34</NumberEmployees></StoreSurvey>",
         "2014-09-12",
         "General Riding Supplies",
         278,
         "b2340407-6a5b-4eca-891a-b59dbeec8049"
        ],
        [
         922,
         "<StoreSurvey xmlns=\"http://schemas.microsoft.com/sqlserver/2004/07/adventure-works/StoreSurvey\"><AnnualSales>1500000</AnnualSales><AnnualRevenue>150000</AnnualRevenue><BankName>United Security</BankName><BusinessType>BS</BusinessType><YearOpened>1998</YearOpened><Specialty>Road</Specialty><SquareFeet>38000</SquareFeet><Brands>3</Brands><Internet>T3</Internet><NumberEmployees>31</NumberEmployees></StoreSurvey>",
         "2014-09-12",
         "Parts Shop",
         279,
         "42964898-0530-4811-9e7b-4da71ac9e21a"
        ],
        [
         924,
         "<StoreSurvey xmlns=\"http://schemas.microsoft.com/sqlserver/2004/07/adventure-works/StoreSurvey\"><AnnualSales>1000000</AnnualSales><AnnualRevenue>100000</AnnualRevenue><BankName>International Bank</BankName><BusinessType>BS</BusinessType><YearOpened>1971</YearOpened><Specialty>Road</Specialty><SquareFeet>27000</SquareFeet><Brands>4+</Brands><Internet>T1</Internet><NumberEmployees>28</NumberEmployees></StoreSurvey>",
         "2014-09-12",
         "Riding Excursions",
         276,
         "642126c4-b893-460a-b8fd-0a041447ecc4"
        ],
        [
         926,
         "<StoreSurvey xmlns=\"http://schemas.microsoft.com/sqlserver/2004/07/adventure-works/StoreSurvey\"><AnnualSales>1000000</AnnualSales><AnnualRevenue>100000</AnnualRevenue><BankName>Primary Bank &amp; Reserve</BankName><BusinessType>BS</BusinessType><YearOpened>2001</YearOpened><Specialty>Mountain</Specialty><SquareFeet>27000</SquareFeet><Brands>3</Brands><Internet>DSL</Internet><NumberEmployees>25</NumberEmployees></StoreSurvey>",
         "2014-09-12",
         "Unique Bikes",
         277,
         "424b0c7d-36b5-4d83-8b83-d346726bc960"
        ],
        [
         928,
         "<StoreSurvey xmlns=\"http://schemas.microsoft.com/sqlserver/2004/07/adventure-works/StoreSurvey\"><AnnualSales>800000</AnnualSales><AnnualRevenue>80000</AnnualRevenue><BankName>Primary International</BankName><BusinessType>BM</BusinessType><YearOpened>1988</YearOpened><Specialty>Mountain</Specialty><SquareFeet>21000</SquareFeet><Brands>4+</Brands><Internet>DSL</Internet><NumberEmployees>11</NumberEmployees></StoreSurvey>",
         "2014-09-12",
         "Rural Cycle Emporium",
         282,
         "59deae0a-7b98-4b25-9431-1be36365167f"
        ],
        [
         930,
         "<StoreSurvey xmlns=\"http://schemas.microsoft.com/sqlserver/2004/07/adventure-works/StoreSurvey\"><AnnualSales>300000</AnnualSales><AnnualRevenue>30000</AnnualRevenue><BankName>Reserve Security</BankName><BusinessType>BM</BusinessType><YearOpened>1982</YearOpened><Specialty>Mountain</Specialty><SquareFeet>7000</SquareFeet><Brands>3</Brands><Internet>DSL</Internet><NumberEmployees>8</NumberEmployees></StoreSurvey>",
         "2014-09-12",
         "Associated Bikes",
         281,
         "22e7c8dd-5feb-4b87-abf2-d87bc0aa4695"
        ],
        [
         932,
         "<StoreSurvey xmlns=\"http://schemas.microsoft.com/sqlserver/2004/07/adventure-works/StoreSurvey\"><AnnualSales>300000</AnnualSales><AnnualRevenue>30000</AnnualRevenue><BankName>United Security</BankName><BusinessType>BM</BusinessType><YearOpened>1976</YearOpened><Specialty>Road</Specialty><SquareFeet>6000</SquareFeet><Brands>2</Brands><Internet>DSL</Internet><NumberEmployees>5</NumberEmployees></StoreSurvey>",
         "2014-09-12",
         "Modular Cycle Systems",
         277,
         "a232dae8-2411-4fdc-bbb2-6eb5f547986b"
        ],
        [
         934,
         "<StoreSurvey xmlns=\"http://schemas.microsoft.com/sqlserver/2004/07/adventure-works/StoreSurvey\"><AnnualSales>300000</AnnualSales><AnnualRevenue>30000</AnnualRevenue><BankName>International Bank</BankName><BusinessType>BM</BusinessType><YearOpened>1970</YearOpened><Specialty>Road</Specialty><SquareFeet>7000</SquareFeet><Brands>AW</Brands><Internet>T1</Internet><NumberEmployees>2</NumberEmployees></StoreSurvey>",
         "2014-09-12",
         "A Bike Store",
         280,
         "80b15702-df20-4df9-876c-2cf1c3978d39"
        ],
        [
         936,
         "<StoreSurvey xmlns=\"http://schemas.microsoft.com/sqlserver/2004/07/adventure-works/StoreSurvey\"><AnnualSales>800000</AnnualSales><AnnualRevenue>80000</AnnualRevenue><BankName>Primary Bank &amp; Reserve</BankName><BusinessType>BM</BusinessType><YearOpened>1996</YearOpened><Specialty>Mountain</Specialty><SquareFeet>21000</SquareFeet><Brands>3</Brands><Internet>DSL</Internet><NumberEmployees>13</NumberEmployees></StoreSurvey>",
         "2014-09-12",
         "Journey Sporting Goods",
         277,
         "f2ac714e-6e3e-4d55-ac9d-ea0ffa700bbb"
        ],
        [
         938,
         "<StoreSurvey xmlns=\"http://schemas.microsoft.com/sqlserver/2004/07/adventure-works/StoreSurvey\"><AnnualSales>800000</AnnualSales><AnnualRevenue>80000</AnnualRevenue><BankName>International Security</BankName><BusinessType>BM</BusinessType><YearOpened>1991</YearOpened><Specialty>Road</Specialty><SquareFeet>20000</SquareFeet><Brands>3</Brands><Internet>T1</Internet><NumberEmployees>14</NumberEmployees></StoreSurvey>",
         "2014-09-12",
         "Two Bike Shops",
         280,
         "3f8d0676-b72e-4bfc-b90e-ceade5b51cde"
        ],
        [
         940,
         "<StoreSurvey xmlns=\"http://schemas.microsoft.com/sqlserver/2004/07/adventure-works/StoreSurvey\"><AnnualSales>800000</AnnualSales><AnnualRevenue>80000</AnnualRevenue><BankName>Guardian Bank</BankName><BusinessType>BM</BusinessType><YearOpened>1999</YearOpened><Specialty>Touring</Specialty><SquareFeet>21000</SquareFeet><Brands>4+</Brands><Internet>T2</Internet><NumberEmployees>15</NumberEmployees></StoreSurvey>",
         "2014-09-12",
         "Cycles Wholesaler & Mfg.",
         289,
         "b634ae55-e758-4184-bd40-6f0eec1ee566"
        ],
        [
         942,
         "<StoreSurvey xmlns=\"http://schemas.microsoft.com/sqlserver/2004/07/adventure-works/StoreSurvey\"><AnnualSales>800000</AnnualSales><AnnualRevenue>80000</AnnualRevenue><BankName>Primary International</BankName><BusinessType>BM</BusinessType><YearOpened>1994</YearOpened><Specialty>Road</Specialty><SquareFeet>19000</SquareFeet><Brands>4+</Brands><Internet>T1</Internet><NumberEmployees>16</NumberEmployees></StoreSurvey>",
         "2014-09-12",
         "Wheels Inc.",
         290,
         "7d98c7c7-c155-482e-a2b2-918964a02a05"
        ],
        [
         944,
         "<StoreSurvey xmlns=\"http://schemas.microsoft.com/sqlserver/2004/07/adventure-works/StoreSurvey\"><AnnualSales>1500000</AnnualSales><AnnualRevenue>150000</AnnualRevenue><BankName>Guardian Bank</BankName><BusinessType>BS</BusinessType><YearOpened>1982</YearOpened><Specialty>Road</Specialty><SquareFeet>40000</SquareFeet><Brands>4+</Brands><Internet>T1</Internet><NumberEmployees>40</NumberEmployees></StoreSurvey>",
         "2014-09-12",
         "Number One Bike Co.",
         289,
         "6f9f5165-4e33-484e-8062-da66d67674b2"
        ],
        [
         946,
         "<StoreSurvey xmlns=\"http://schemas.microsoft.com/sqlserver/2004/07/adventure-works/StoreSurvey\"><AnnualSales>1500000</AnnualSales><AnnualRevenue>150000</AnnualRevenue><BankName>Primary International</BankName><BusinessType>BS</BusinessType><YearOpened>1977</YearOpened><Specialty>Touring</Specialty><SquareFeet>38000</SquareFeet><Brands>3</Brands><Internet>DSL</Internet><NumberEmployees>41</NumberEmployees></StoreSurvey>",
         "2014-09-12",
         "Racing Supply Distributors",
         290,
         "1bcad975-f366-4870-9f27-67f8e0443bfc"
        ],
        [
         948,
         "<StoreSurvey xmlns=\"http://schemas.microsoft.com/sqlserver/2004/07/adventure-works/StoreSurvey\"><AnnualSales>1500000</AnnualSales><AnnualRevenue>150000</AnnualRevenue><BankName>Reserve Security</BankName><BusinessType>BS</BusinessType><YearOpened>1985</YearOpened><Specialty>Mountain</Specialty><SquareFeet>38000</SquareFeet><Brands>4+</Brands><Internet>DSL</Internet><NumberEmployees>42</NumberEmployees></StoreSurvey>",
         "2014-09-12",
         "Standard Bikes",
         282,
         "5652e775-8192-4ed3-9da0-979a1fcb2071"
        ],
        [
         950,
         "<StoreSurvey xmlns=\"http://schemas.microsoft.com/sqlserver/2004/07/adventure-works/StoreSurvey\"><AnnualSales>1500000</AnnualSales><AnnualRevenue>150000</AnnualRevenue><BankName>United Security</BankName><BusinessType>BS</BusinessType><YearOpened>1980</YearOpened><Specialty>Road</Specialty><SquareFeet>37000</SquareFeet><Brands>4+</Brands><Internet>T1</Internet><NumberEmployees>43</NumberEmployees></StoreSurvey>",
         "2014-09-12",
         "The Bicycle Accessories Company",
         281,
         "a91f242f-e7ae-4b00-abc6-037b9e740d9d"
        ],
        [
         952,
         "<StoreSurvey xmlns=\"http://schemas.microsoft.com/sqlserver/2004/07/adventure-works/StoreSurvey\"><AnnualSales>1500000</AnnualSales><AnnualRevenue>150000</AnnualRevenue><BankName>International Bank</BankName><BusinessType>BS</BusinessType><YearOpened>1988</YearOpened><Specialty>Road</Specialty><SquareFeet>39000</SquareFeet><Brands>4+</Brands><Internet>T1</Internet><NumberEmployees>44</NumberEmployees></StoreSurvey>",
         "2014-09-12",
         "Active Systems",
         277,
         "dc414650-f329-4888-a3ea-ad5f4bb3c082"
        ],
        [
         954,
         "<StoreSurvey xmlns=\"http://schemas.microsoft.com/sqlserver/2004/07/adventure-works/StoreSurvey\"><AnnualSales>3000000</AnnualSales><AnnualRevenue>300000</AnnualRevenue><BankName>Primary Bank &amp; Reserve</BankName><BusinessType>OS</BusinessType><YearOpened>1974</YearOpened><Specialty>Road</Specialty><SquareFeet>78000</SquareFeet><Brands>3</Brands><Internet>DSL</Internet><NumberEmployees>94</NumberEmployees></StoreSurvey>",
         "2014-09-12",
         "Futuristic Sport Distributors",
         281,
         "6da7b1d1-17b5-4382-a9d4-fbe204b9c8df"
        ],
        [
         956,
         "<StoreSurvey xmlns=\"http://schemas.microsoft.com/sqlserver/2004/07/adventure-works/StoreSurvey\"><AnnualSales>3000000</AnnualSales><AnnualRevenue>300000</AnnualRevenue><BankName>International Bank</BankName><BusinessType>OS</BusinessType><YearOpened>1980</YearOpened><Specialty>Road</Specialty><SquareFeet>77000</SquareFeet><Brands>4+</Brands><Internet>T2</Internet><NumberEmployees>95</NumberEmployees></StoreSurvey>",
         "2014-09-12",
         "Finer Sales and Service",
         282,
         "00a7e190-d705-4791-aab5-ad218497dd06"
        ],
        [
         958,
         "<StoreSurvey xmlns=\"http://schemas.microsoft.com/sqlserver/2004/07/adventure-works/StoreSurvey\"><AnnualSales>3000000</AnnualSales><AnnualRevenue>300000</AnnualRevenue><BankName>United Security</BankName><BusinessType>OS</BusinessType><YearOpened>1986</YearOpened><Specialty>Road</Specialty><SquareFeet>80000</SquareFeet><Brands>4+</Brands><Internet>DSL</Internet><NumberEmployees>96</NumberEmployees></StoreSurvey>",
         "2014-09-12",
         "Big-Time Bike Store",
         281,
         "059b53a3-3394-433b-b916-97265d5a95c5"
        ],
        [
         960,
         "<StoreSurvey xmlns=\"http://schemas.microsoft.com/sqlserver/2004/07/adventure-works/StoreSurvey\"><AnnualSales>3000000</AnnualSales><AnnualRevenue>300000</AnnualRevenue><BankName>Reserve Security</BankName><BusinessType>OS</BusinessType><YearOpened>1992</YearOpened><Specialty>Road</Specialty><SquareFeet>79000</SquareFeet><Brands>4+</Brands><Internet>DSL</Internet><NumberEmployees>97</NumberEmployees></StoreSurvey>",
         "2014-09-12",
         "The Showroom",
         282,
         "af96a1ef-f280-411e-be2f-063a000dc162"
        ],
        [
         962,
         "<StoreSurvey xmlns=\"http://schemas.microsoft.com/sqlserver/2004/07/adventure-works/StoreSurvey\"><AnnualSales>3000000</AnnualSales><AnnualRevenue>300000</AnnualRevenue><BankName>Primary International</BankName><BusinessType>OS</BusinessType><YearOpened>1998</YearOpened><Specialty>Mountain</Specialty><SquareFeet>79000</SquareFeet><Brands>4+</Brands><Internet>T1</Internet><NumberEmployees>98</NumberEmployees></StoreSurvey>",
         "2014-09-12",
         "Spa and Exercise Outfitters",
         290,
         "6fe30abe-390e-41bb-a85f-82279aa39245"
        ],
        [
         964,
         "<StoreSurvey xmlns=\"http://schemas.microsoft.com/sqlserver/2004/07/adventure-works/StoreSurvey\"><AnnualSales>3000000</AnnualSales><AnnualRevenue>300000</AnnualRevenue><BankName>United Security</BankName><BusinessType>OS</BusinessType><YearOpened>1979</YearOpened><Specialty>Mountain</Specialty><SquareFeet>75000</SquareFeet><Brands>4+</Brands><Internet>DSL</Internet><NumberEmployees>66</NumberEmployees></StoreSurvey>",
         "2014-09-12",
         "Year-Round Sports",
         283,
         "fae5ed78-bcfc-44fb-9d14-1207978fd56d"
        ],
        [
         966,
         "<StoreSurvey xmlns=\"http://schemas.microsoft.com/sqlserver/2004/07/adventure-works/StoreSurvey\"><AnnualSales>1500000</AnnualSales><AnnualRevenue>150000</AnnualRevenue><BankName>International Bank</BankName><BusinessType>OS</BusinessType><YearOpened>1974</YearOpened><Specialty>Road</Specialty><SquareFeet>37000</SquareFeet><Brands>4+</Brands><Internet>DSL</Internet><NumberEmployees>40</NumberEmployees></StoreSurvey>",
         "2014-09-12",
         "The New Bike Store",
         276,
         "6e52ef1b-0c2a-447d-b182-eff74a256e57"
        ],
        [
         968,
         "<StoreSurvey xmlns=\"http://schemas.microsoft.com/sqlserver/2004/07/adventure-works/StoreSurvey\"><AnnualSales>1500000</AnnualSales><AnnualRevenue>150000</AnnualRevenue><BankName>United Security</BankName><BusinessType>OS</BusinessType><YearOpened>1980</YearOpened><Specialty>Mountain</Specialty><SquareFeet>38000</SquareFeet><Brands>4+</Brands><Internet>DSL</Internet><NumberEmployees>43</NumberEmployees></StoreSurvey>",
         "2014-09-12",
         "Resident Cycle Shop",
         279,
         "3d1fabe2-11ee-46eb-a6d2-0dfa11ef96ca"
        ],
        [
         970,
         "<StoreSurvey xmlns=\"http://schemas.microsoft.com/sqlserver/2004/07/adventure-works/StoreSurvey\"><AnnualSales>1500000</AnnualSales><AnnualRevenue>150000</AnnualRevenue><BankName>Reserve Security</BankName><BusinessType>OS</BusinessType><YearOpened>1986</YearOpened><Specialty>Road</Specialty><SquareFeet>39000</SquareFeet><Brands>4+</Brands><Internet>T1</Internet><NumberEmployees>46</NumberEmployees></StoreSurvey>",
         "2014-09-12",
         "Primary Bike Distributors",
         278,
         "1b520861-7d47-4bb2-96ee-4acd2b54ed5e"
        ],
        [
         972,
         "<StoreSurvey xmlns=\"http://schemas.microsoft.com/sqlserver/2004/07/adventure-works/StoreSurvey\"><AnnualSales>1500000</AnnualSales><AnnualRevenue>150000</AnnualRevenue><BankName>Primary International</BankName><BusinessType>OS</BusinessType><YearOpened>1992</YearOpened><Specialty>Touring</Specialty><SquareFeet>41000</SquareFeet><Brands>4+</Brands><Internet>T1</Internet><NumberEmployees>49</NumberEmployees></StoreSurvey>",
         "2014-09-12",
         "Major Bicycle Store",
         286,
         "1589e17f-1b07-411a-8938-6bcec7d3140f"
        ],
        [
         974,
         "<StoreSurvey xmlns=\"http://schemas.microsoft.com/sqlserver/2004/07/adventure-works/StoreSurvey\"><AnnualSales>3000000</AnnualSales><AnnualRevenue>300000</AnnualRevenue><BankName>Guardian Bank</BankName><BusinessType>OS</BusinessType><YearOpened>1998</YearOpened><Specialty>Road</Specialty><SquareFeet>68000</SquareFeet><Brands>2</Brands><Internet>DSL</Internet><NumberEmployees>52</NumberEmployees></StoreSurvey>",
         "2014-09-12",
         "Leather and Vinyl Manufacturing",
         275,
         "5eff72c4-6ea5-4cdc-8d14-017265283388"
        ],
        [
         976,
         "<StoreSurvey xmlns=\"http://schemas.microsoft.com/sqlserver/2004/07/adventure-works/StoreSurvey\"><AnnualSales>3000000</AnnualSales><AnnualRevenue>300000</AnnualRevenue><BankName>International Security</BankName><BusinessType>OS</BusinessType><YearOpened>1999</YearOpened><Specialty>Mountain</Specialty><SquareFeet>70000</SquareFeet><Brands>4+</Brands><Internet>T1</Internet><NumberEmployees>55</NumberEmployees></StoreSurvey>",
         "2014-09-12",
         "Genial Bike Associates",
         277,
         "8bc88e7c-8f45-4b76-83cf-2b3b4748de76"
        ],
        [
         978,
         "<StoreSurvey xmlns=\"http://schemas.microsoft.com/sqlserver/2004/07/adventure-works/StoreSurvey\"><AnnualSales>3000000</AnnualSales><AnnualRevenue>300000</AnnualRevenue><BankName>Reserve Security</BankName><BusinessType>OS</BusinessType><YearOpened>1979</YearOpened><Specialty>Mountain</Specialty><SquareFeet>74000</SquareFeet><Brands>3</Brands><Internet>DSL</Internet><NumberEmployees>61</NumberEmployees></StoreSurvey>",
         "2014-09-12",
         "Commercial Sporting Goods",
         281,
         "835873e3-6c31-4f68-bde5-c9db54ada0f6"
        ],
        [
         980,
         "<StoreSurvey xmlns=\"http://schemas.microsoft.com/sqlserver/2004/07/adventure-works/StoreSurvey\"><AnnualSales>3000000</AnnualSales><AnnualRevenue>300000</AnnualRevenue><BankName>Primary International</BankName><BusinessType>OS</BusinessType><YearOpened>1996</YearOpened><Specialty>Road</Specialty><SquareFeet>70000</SquareFeet><Brands>4+</Brands><Internet>DSL</Internet><NumberEmployees>64</NumberEmployees></StoreSurvey>",
         "2014-09-12",
         "Wholesale Parts",
         282,
         "d32d0b60-2a92-4f48-8b49-817466bd7dbd"
        ],
        [
         982,
         "<StoreSurvey xmlns=\"http://schemas.microsoft.com/sqlserver/2004/07/adventure-works/StoreSurvey\"><AnnualSales>3000000</AnnualSales><AnnualRevenue>300000</AnnualRevenue><BankName>Guardian Bank</BankName><BusinessType>OS</BusinessType><YearOpened>1991</YearOpened><Specialty>Road</Specialty><SquareFeet>74000</SquareFeet><Brands>4+</Brands><Internet>T1</Internet><NumberEmployees>67</NumberEmployees></StoreSurvey>",
         "2014-09-12",
         "Steel Inc.",
         290,
         "5f9911f5-04fb-4288-801b-4af1e9ef19b0"
        ],
        [
         984,
         "<StoreSurvey xmlns=\"http://schemas.microsoft.com/sqlserver/2004/07/adventure-works/StoreSurvey\"><AnnualSales>3000000</AnnualSales><AnnualRevenue>300000</AnnualRevenue><BankName>International Security</BankName><BusinessType>OS</BusinessType><YearOpened>1993</YearOpened><Specialty>Road</Specialty><SquareFeet>74000</SquareFeet><Brands>3</Brands><Internet>ISDN</Internet><NumberEmployees>70</NumberEmployees></StoreSurvey>",
         "2014-09-12",
         "Riding Cycles",
         289,
         "a631b7d3-4ada-4d5c-a985-6dff7a8066be"
        ],
        [
         986,
         "<StoreSurvey xmlns=\"http://schemas.microsoft.com/sqlserver/2004/07/adventure-works/StoreSurvey\"><AnnualSales>1500000</AnnualSales><AnnualRevenue>150000</AnnualRevenue><BankName>International Security</BankName><BusinessType>BS</BusinessType><YearOpened>1977</YearOpened><Specialty>Mountain</Specialty><SquareFeet>36000</SquareFeet><Brands>4+</Brands><Internet>DSL</Internet><NumberEmployees>41</NumberEmployees></StoreSurvey>",
         "2014-09-12",
         "Metro Manufacturing",
         282,
         "682059c4-de55-43f6-8754-1a232df99fa4"
        ],
        [
         988,
         "<StoreSurvey xmlns=\"http://schemas.microsoft.com/sqlserver/2004/07/adventure-works/StoreSurvey\"><AnnualSales>1500000</AnnualSales><AnnualRevenue>150000</AnnualRevenue><BankName>Guardian Bank</BankName><BusinessType>BS</BusinessType><YearOpened>1985</YearOpened><Specialty>Road</Specialty><SquareFeet>39000</SquareFeet><Brands>3</Brands><Internet>DSL</Internet><NumberEmployees>42</NumberEmployees></StoreSurvey>",
         "2014-09-12",
         "Manufacturers Inc",
         279,
         "349c5e18-0492-4ff2-b3b6-ce2c5277d948"
        ],
        [
         990,
         "<StoreSurvey xmlns=\"http://schemas.microsoft.com/sqlserver/2004/07/adventure-works/StoreSurvey\"><AnnualSales>1500000</AnnualSales><AnnualRevenue>150000</AnnualRevenue><BankName>Primary International</BankName><BusinessType>BS</BusinessType><YearOpened>1980</YearOpened><Specialty>Touring</Specialty><SquareFeet>40000</SquareFeet><Brands>4+</Brands><Internet>DSL</Internet><NumberEmployees>43</NumberEmployees></StoreSurvey>",
         "2014-09-12",
         "Locks Company",
         281,
         "167623c3-b88e-4aee-a7d2-fe88d197e6cc"
        ],
        [
         992,
         "<StoreSurvey xmlns=\"http://schemas.microsoft.com/sqlserver/2004/07/adventure-works/StoreSurvey\"><AnnualSales>1500000</AnnualSales><AnnualRevenue>150000</AnnualRevenue><BankName>Reserve Security</BankName><BusinessType>BS</BusinessType><YearOpened>1988</YearOpened><Specialty>Road</Specialty><SquareFeet>38000</SquareFeet><Brands>4+</Brands><Internet>T1</Internet><NumberEmployees>44</NumberEmployees></StoreSurvey>",
         "2014-09-12",
         "Latest Accessories Sales",
         283,
         "d9bf3762-b599-4d99-b065-6944631feba3"
        ],
        [
         994,
         "<StoreSurvey xmlns=\"http://schemas.microsoft.com/sqlserver/2004/07/adventure-works/StoreSurvey\"><AnnualSales>1500000</AnnualSales><AnnualRevenue>150000</AnnualRevenue><BankName>United Security</BankName><BusinessType>BS</BusinessType><YearOpened>1983</YearOpened><Specialty>Touring</Specialty><SquareFeet>41000</SquareFeet><Brands>2</Brands><Internet>DSL</Internet><NumberEmployees>45</NumberEmployees></StoreSurvey>",
         "2014-09-12",
         "Incomparable Bicycle Store",
         275,
         "3385d478-6dc8-4126-b198-868a7ec06851"
        ],
        [
         996,
         "<StoreSurvey xmlns=\"http://schemas.microsoft.com/sqlserver/2004/07/adventure-works/StoreSurvey\"><AnnualSales>1500000</AnnualSales><AnnualRevenue>150000</AnnualRevenue><BankName>International Bank</BankName><BusinessType>BS</BusinessType><YearOpened>1991</YearOpened><Specialty>Mountain</Specialty><SquareFeet>38000</SquareFeet><Brands>4+</Brands><Internet>T1</Internet><NumberEmployees>46</NumberEmployees></StoreSurvey>",
         "2014-09-12",
         "Hometown Riding Supplies",
         288,
         "bba21530-ca9c-498e-bda9-f5b62f8c8525"
        ],
        [
         998,
         "<StoreSurvey xmlns=\"http://schemas.microsoft.com/sqlserver/2004/07/adventure-works/StoreSurvey\"><AnnualSales>1500000</AnnualSales><AnnualRevenue>150000</AnnualRevenue><BankName>Primary Bank &amp; Reserve</BankName><BusinessType>BS</BusinessType><YearOpened>1986</YearOpened><Specialty>Mountain</Specialty><SquareFeet>39000</SquareFeet><Brands>3</Brands><Internet>ISDN</Internet><NumberEmployees>47</NumberEmployees></StoreSurvey>",
         "2014-09-12",
         "Greater Bike Store",
         282,
         "aae55b33-b3db-4f4f-8647-1fa93573a847"
        ],
        [
         1000,
         "<StoreSurvey xmlns=\"http://schemas.microsoft.com/sqlserver/2004/07/adventure-works/StoreSurvey\"><AnnualSales>1500000</AnnualSales><AnnualRevenue>150000</AnnualRevenue><BankName>International Security</BankName><BusinessType>BS</BusinessType><YearOpened>1994</YearOpened><Specialty>Touring</Specialty><SquareFeet>42000</SquareFeet><Brands>4+</Brands><Internet>DSL</Internet><NumberEmployees>48</NumberEmployees></StoreSurvey>",
         "2014-09-12",
         "Games and Sport Supply Company",
         279,
         "15a3600a-31ae-4603-ae82-2199ceead5eb"
        ],
        [
         1002,
         "<StoreSurvey xmlns=\"http://schemas.microsoft.com/sqlserver/2004/07/adventure-works/StoreSurvey\"><AnnualSales>1500000</AnnualSales><AnnualRevenue>150000</AnnualRevenue><BankName>Guardian Bank</BankName><BusinessType>BS</BusinessType><YearOpened>1989</YearOpened><Specialty>Road</Specialty><SquareFeet>38000</SquareFeet><Brands>4+</Brands><Internet>DSL</Internet><NumberEmployees>49</NumberEmployees></StoreSurvey>",
         "2014-09-12",
         "Distant Inn",
         281,
         "4f48780d-71df-4523-9b4e-1c234ea699df"
        ],
        [
         1004,
         "<StoreSurvey xmlns=\"http://schemas.microsoft.com/sqlserver/2004/07/adventure-works/StoreSurvey\"><AnnualSales>1500000</AnnualSales><AnnualRevenue>150000</AnnualRevenue><BankName>Primary International</BankName><BusinessType>BS</BusinessType><YearOpened>1997</YearOpened><Specialty>Touring</Specialty><SquareFeet>38000</SquareFeet><Brands>3</Brands><Internet>DSL</Internet><NumberEmployees>46</NumberEmployees></StoreSurvey>",
         "2014-09-12",
         "Finer Mart",
         283,
         "9de8d05e-04b5-4be1-ac7e-8ac22ec04329"
        ],
        [
         1006,
         "<StoreSurvey xmlns=\"http://schemas.microsoft.com/sqlserver/2004/07/adventure-works/StoreSurvey\"><AnnualSales>1500000</AnnualSales><AnnualRevenue>150000</AnnualRevenue><BankName>Reserve Security</BankName><BusinessType>BS</BusinessType><YearOpened>1992</YearOpened><Specialty>Road</Specialty><SquareFeet>40000</SquareFeet><Brands>4+</Brands><Internet>T1</Internet><NumberEmployees>43</NumberEmployees></StoreSurvey>",
         "2014-09-12",
         "Economic Parts Supply",
         275,
         "66bc65df-a24e-4b78-ab1d-f680c4a75451"
        ],
        [
         1008,
         "<StoreSurvey xmlns=\"http://schemas.microsoft.com/sqlserver/2004/07/adventure-works/StoreSurvey\"><AnnualSales>1500000</AnnualSales><AnnualRevenue>150000</AnnualRevenue><BankName>United Security</BankName><BusinessType>BS</BusinessType><YearOpened>1995</YearOpened><Specialty>Road</Specialty><SquareFeet>38000</SquareFeet><Brands>3</Brands><Internet>DSL</Internet><NumberEmployees>40</NumberEmployees></StoreSurvey>",
         "2014-09-12",
         "Precision Gears Inc.",
         288,
         "fb89ac44-0cf5-45d1-928e-1beeece05abf"
        ],
        [
         1010,
         "<StoreSurvey xmlns=\"http://schemas.microsoft.com/sqlserver/2004/07/adventure-works/StoreSurvey\"><AnnualSales>1500000</AnnualSales><AnnualRevenue>150000</AnnualRevenue><BankName>International Bank</BankName><BusinessType>BS</BusinessType><YearOpened>1995</YearOpened><Specialty>Mountain</Specialty><SquareFeet>36000</SquareFeet><Brands>3</Brands><Internet>T2</Internet><NumberEmployees>37</NumberEmployees></StoreSurvey>",
         "2014-09-12",
         "Cross-Country Riding Supplies",
         282,
         "55b8ce76-1c6a-4181-83cf-786c60cee77f"
        ],
        [
         1012,
         "<StoreSurvey xmlns=\"http://schemas.microsoft.com/sqlserver/2004/07/adventure-works/StoreSurvey\"><AnnualSales>1500000</AnnualSales><AnnualRevenue>150000</AnnualRevenue><BankName>Primary Bank &amp; Reserve</BankName><BusinessType>BS</BusinessType><YearOpened>1983</YearOpened><Specialty>Road</Specialty><SquareFeet>39000</SquareFeet><Brands>3</Brands><Internet>T1</Internet><NumberEmployees>34</NumberEmployees></StoreSurvey>",
         "2014-09-12",
         "Stylish Department Stores",
         279,
         "062a2eb8-9b1d-4fdf-a627-3e45f76d2096"
        ],
        [
         1014,
         "<StoreSurvey xmlns=\"http://schemas.microsoft.com/sqlserver/2004/07/adventure-works/StoreSurvey\"><AnnualSales>1500000</AnnualSales><AnnualRevenue>150000</AnnualRevenue><BankName>International Security</BankName><BusinessType>BS</BusinessType><YearOpened>1998</YearOpened><Specialty>Mountain</Specialty><SquareFeet>35000</SquareFeet><Brands>4+</Brands><Internet>T1</Internet><NumberEmployees>31</NumberEmployees></StoreSurvey>",
         "2014-09-12",
         "Bike World",
         281,
         "17906b3f-7ea8-4b87-a60e-278df291a580"
        ],
        [
         1016,
         "<StoreSurvey xmlns=\"http://schemas.microsoft.com/sqlserver/2004/07/adventure-works/StoreSurvey\"><AnnualSales>1000000</AnnualSales><AnnualRevenue>100000</AnnualRevenue><BankName>Guardian Bank</BankName><BusinessType>BS</BusinessType><YearOpened>1971</YearOpened><Specialty>Mountain</Specialty><SquareFeet>25000</SquareFeet><Brands>4+</Brands><Internet>T1</Internet><NumberEmployees>28</NumberEmployees></StoreSurvey>",
         "2014-09-12",
         "Central Discount Store",
         283,
         "58bf407a-5f67-4228-b4eb-b11c91c1c003"
        ],
        [
         1018,
         "<StoreSurvey xmlns=\"http://schemas.microsoft.com/sqlserver/2004/07/adventure-works/StoreSurvey\"><AnnualSales>1000000</AnnualSales><AnnualRevenue>100000</AnnualRevenue><BankName>Primary International</BankName><BusinessType>BS</BusinessType><YearOpened>2001</YearOpened><Specialty>Mountain</Specialty><SquareFeet>25000</SquareFeet><Brands>4+</Brands><Internet>T1</Internet><NumberEmployees>25</NumberEmployees></StoreSurvey>",
         "2014-09-12",
         "Trusted Catalog Store",
         275,
         "3c3d1d16-defe-412f-b4bf-0935e366dff2"
        ],
        [
         1020,
         "<StoreSurvey xmlns=\"http://schemas.microsoft.com/sqlserver/2004/07/adventure-works/StoreSurvey\"><AnnualSales>1000000</AnnualSales><AnnualRevenue>100000</AnnualRevenue><BankName>Reserve Security</BankName><BusinessType>BS</BusinessType><YearOpened>1996</YearOpened><Specialty>Mountain</Specialty><SquareFeet>26000</SquareFeet><Brands>4+</Brands><Internet>ISDN</Internet><NumberEmployees>22</NumberEmployees></StoreSurvey>",
         "2014-09-12",
         "Bicycle Warehouse Inc.",
         288,
         "adb7b98c-4e19-415d-aeca-d579b328e760"
        ],
        [
         1022,
         "<StoreSurvey xmlns=\"http://schemas.microsoft.com/sqlserver/2004/07/adventure-works/StoreSurvey\"><AnnualSales>800000</AnnualSales><AnnualRevenue>80000</AnnualRevenue><BankName>United Security</BankName><BusinessType>BS</BusinessType><YearOpened>1990</YearOpened><Specialty>Mountain</Specialty><SquareFeet>19000</SquareFeet><Brands>AW</Brands><Internet>DSL</Internet><NumberEmployees>19</NumberEmployees></StoreSurvey>",
         "2014-09-12",
         "Sharp Bikes",
         282,
         "1f1ebdc9-2874-4a7e-be41-1127cbec7870"
        ],
        [
         1024,
         "<StoreSurvey xmlns=\"http://schemas.microsoft.com/sqlserver/2004/07/adventure-works/StoreSurvey\"><AnnualSales>800000</AnnualSales><AnnualRevenue>80000</AnnualRevenue><BankName>International Bank</BankName><BusinessType>BS</BusinessType><YearOpened>1984</YearOpened><Specialty>Touring</Specialty><SquareFeet>20000</SquareFeet><Brands>AW</Brands><Internet>ISDN</Internet><NumberEmployees>16</NumberEmployees></StoreSurvey>",
         "2014-09-12",
         "Exemplary Cycles",
         279,
         "ab2ab66c-9002-4a91-96c9-2e9cb0881e96"
        ],
        [
         1026,
         "<StoreSurvey xmlns=\"http://schemas.microsoft.com/sqlserver/2004/07/adventure-works/StoreSurvey\"><AnnualSales>800000</AnnualSales><AnnualRevenue>80000</AnnualRevenue><BankName>Primary Bank &amp; Reserve</BankName><BusinessType>BS</BusinessType><YearOpened>1978</YearOpened><Specialty>Road</Specialty><SquareFeet>21000</SquareFeet><Brands>4+</Brands><Internet>T2</Internet><NumberEmployees>13</NumberEmployees></StoreSurvey>",
         "2014-09-12",
         "Metropolitan Sports Supply",
         281,
         "058dea7c-58fd-42e5-a199-b19c669e985c"
        ],
        [
         1028,
         "<StoreSurvey xmlns=\"http://schemas.microsoft.com/sqlserver/2004/07/adventure-works/StoreSurvey\"><AnnualSales>800000</AnnualSales><AnnualRevenue>80000</AnnualRevenue><BankName>International Security</BankName><BusinessType>BS</BusinessType><YearOpened>1972</YearOpened><Specialty>Mountain</Specialty><SquareFeet>18000</SquareFeet><Brands>3</Brands><Internet>T1</Internet><NumberEmployees>10</NumberEmployees></StoreSurvey>",
         "2014-09-12",
         "Progressive Sports",
         283,
         "e88b2a4c-72d3-4818-9f94-c59633d66ce8"
        ],
        [
         1030,
         "<StoreSurvey xmlns=\"http://schemas.microsoft.com/sqlserver/2004/07/adventure-works/StoreSurvey\"><AnnualSales>800000</AnnualSales><AnnualRevenue>80000</AnnualRevenue><BankName>Reserve Security</BankName><BusinessType>BM</BusinessType><YearOpened>1993</YearOpened><Specialty>Road</Specialty><SquareFeet>18000</SquareFeet><Brands>AW</Brands><Internet>T1</Internet><NumberEmployees>11</NumberEmployees></StoreSurvey>",
         "2014-09-12",
         "Underglaze and Finish Company",
         279,
         "4008c49c-584e-432f-82e9-f224ab5772f1"
        ],
        [
         1032,
         "<StoreSurvey xmlns=\"http://schemas.microsoft.com/sqlserver/2004/07/adventure-works/StoreSurvey\"><AnnualSales>800000</AnnualSales><AnnualRevenue>80000</AnnualRevenue><BankName>United Security</BankName><BusinessType>BM</BusinessType><YearOpened>1988</YearOpened><Specialty>Mountain</Specialty><SquareFeet>18000</SquareFeet><Brands>AW</Brands><Internet>DSL</Internet><NumberEmployees>12</NumberEmployees></StoreSurvey>",
         "2014-09-12",
         "Brakes and Gears",
         276,
         "5e3fd434-3d79-4ecd-ab34-af321ee2cfe7"
        ],
        [
         1034,
         "<StoreSurvey xmlns=\"http://schemas.microsoft.com/sqlserver/2004/07/adventure-works/StoreSurvey\"><AnnualSales>800000</AnnualSales><AnnualRevenue>80000</AnnualRevenue><BankName>International Bank</BankName><BusinessType>BM</BusinessType><YearOpened>1996</YearOpened><Specialty>Road</Specialty><SquareFeet>18000</SquareFeet><Brands>2</Brands><Internet>DSL</Internet><NumberEmployees>13</NumberEmployees></StoreSurvey>",
         "2014-09-12",
         "The Accessories Store",
         277,
         "69deb656-1602-4d6e-ae60-d50a8b3afffd"
        ],
        [
         1036,
         "<StoreSurvey xmlns=\"http://schemas.microsoft.com/sqlserver/2004/07/adventure-works/StoreSurvey\"><AnnualSales>800000</AnnualSales><AnnualRevenue>80000</AnnualRevenue><BankName>Primary Bank &amp; Reserve</BankName><BusinessType>BM</BusinessType><YearOpened>1991</YearOpened><Specialty>Touring</Specialty><SquareFeet>22000</SquareFeet><Brands>4+</Brands><Internet>DSL</Internet><NumberEmployees>14</NumberEmployees></StoreSurvey>",
         "2014-09-12",
         "Mountain Bike Store",
         275,
         "65b0d467-0550-4230-9eff-d931a786f5c2"
        ],
        [
         1038,
         "<StoreSurvey xmlns=\"http://schemas.microsoft.com/sqlserver/2004/07/adventure-works/StoreSurvey\"><AnnualSales>800000</AnnualSales><AnnualRevenue>80000</AnnualRevenue><BankName>International Security</BankName><BusinessType>BM</BusinessType><YearOpened>1999</YearOpened><Specialty>Touring</Specialty><SquareFeet>21000</SquareFeet><Brands>3</Brands><Internet>T2</Internet><NumberEmployees>15</NumberEmployees></StoreSurvey>",
         "2014-09-12",
         "Bike Part Wholesalers",
         286,
         "2d5ce5ad-8cfd-41ee-87de-767e09312450"
        ],
        [
         1040,
         "<StoreSurvey xmlns=\"http://schemas.microsoft.com/sqlserver/2004/07/adventure-works/StoreSurvey\"><AnnualSales>800000</AnnualSales><AnnualRevenue>80000</AnnualRevenue><BankName>Guardian Bank</BankName><BusinessType>BM</BusinessType><YearOpened>1994</YearOpened><Specialty>Mountain</Specialty><SquareFeet>18000</SquareFeet><Brands>4+</Brands><Internet>DSL</Internet><NumberEmployees>16</NumberEmployees></StoreSurvey>",
         "2014-09-12",
         "Family Cycle Store",
         278,
         "75a4c312-100c-4f7e-ae2e-cc57ea12f51d"
        ],
        [
         1042,
         "<StoreSurvey xmlns=\"http://schemas.microsoft.com/sqlserver/2004/07/adventure-works/StoreSurvey\"><AnnualSales>800000</AnnualSales><AnnualRevenue>80000</AnnualRevenue><BankName>Primary International</BankName><BusinessType>BM</BusinessType><YearOpened>1987</YearOpened><Specialty>Touring</Specialty><SquareFeet>20000</SquareFeet><Brands>4+</Brands><Internet>T1</Internet><NumberEmployees>17</NumberEmployees></StoreSurvey>",
         "2014-09-12",
         "Popular Bike Lines",
         286,
         "ed883c76-170d-4fb9-a277-295d39d3eaf9"
        ],
        [
         1044,
         "<StoreSurvey xmlns=\"http://schemas.microsoft.com/sqlserver/2004/07/adventure-works/StoreSurvey\"><AnnualSales>800000</AnnualSales><AnnualRevenue>80000</AnnualRevenue><BankName>Reserve Security</BankName><BusinessType>BM</BusinessType><YearOpened>1997</YearOpened><Specialty>Road</Specialty><SquareFeet>19000</SquareFeet><Brands>3</Brands><Internet>DSL</Internet><NumberEmployees>18</NumberEmployees></StoreSurvey>",
         "2014-09-12",
         "Superb Sales and Repair",
         278,
         "82aaf249-d8a7-427c-91e3-c7d2688a9d57"
        ],
        [
         1046,
         "<StoreSurvey xmlns=\"http://schemas.microsoft.com/sqlserver/2004/07/adventure-works/StoreSurvey\"><AnnualSales>800000</AnnualSales><AnnualRevenue>80000</AnnualRevenue><BankName>United Security</BankName><BusinessType>BM</BusinessType><YearOpened>1975</YearOpened><Specialty>Mountain</Specialty><SquareFeet>19000</SquareFeet><Brands>4+</Brands><Internet>DSL</Internet><NumberEmployees>19</NumberEmployees></StoreSurvey>",
         "2014-09-12",
         "Better Bike Shop",
         279,
         "c5516152-8d15-438f-87f3-e29517e462d9"
        ],
        [
         1048,
         "<StoreSurvey xmlns=\"http://schemas.microsoft.com/sqlserver/2004/07/adventure-works/StoreSurvey\"><AnnualSales>1000000</AnnualSales><AnnualRevenue>100000</AnnualRevenue><BankName>International Bank</BankName><BusinessType>BM</BusinessType><YearOpened>2000</YearOpened><Specialty>Mountain</Specialty><SquareFeet>26000</SquareFeet><Brands>2</Brands><Internet>ISDN</Internet><NumberEmployees>20</NumberEmployees></StoreSurvey>",
         "2014-09-12",
         "Countryside Company",
         276,
         "a7c471a1-1176-4335-bc85-7e89523939dd"
        ],
        [
         1050,
         "<StoreSurvey xmlns=\"http://schemas.microsoft.com/sqlserver/2004/07/adventure-works/StoreSurvey\"><AnnualSales>800000</AnnualSales><AnnualRevenue>80000</AnnualRevenue><BankName>Primary Bank &amp; Reserve</BankName><BusinessType>BM</BusinessType><YearOpened>2000</YearOpened><Specialty>Road</Specialty><SquareFeet>21000</SquareFeet><Brands>3</Brands><Internet>DSL</Internet><NumberEmployees>17</NumberEmployees></StoreSurvey>",
         "2014-09-12",
         "First Bike Store",
         277,
         "8967ec04-4782-47a0-bc0c-5fdece06b1b5"
        ],
        [
         1052,
         "<StoreSurvey xmlns=\"http://schemas.microsoft.com/sqlserver/2004/07/adventure-works/StoreSurvey\"><AnnualSales>800000</AnnualSales><AnnualRevenue>80000</AnnualRevenue><BankName>International Security</BankName><BusinessType>BM</BusinessType><YearOpened>1994</YearOpened><Specialty>Mountain</Specialty><SquareFeet>18000</SquareFeet><Brands>2</Brands><Internet>T1</Internet><NumberEmployees>14</NumberEmployees></StoreSurvey>",
         "2014-09-12",
         "Traditional Department Stores",
         275,
         "177c4cfc-f9df-44b9-b78c-dd01fadb28d8"
        ],
        [
         1054,
         "<StoreSurvey xmlns=\"http://schemas.microsoft.com/sqlserver/2004/07/adventure-works/StoreSurvey\"><AnnualSales>800000</AnnualSales><AnnualRevenue>80000</AnnualRevenue><BankName>Guardian Bank</BankName><BusinessType>BM</BusinessType><YearOpened>1988</YearOpened><Specialty>Touring</Specialty><SquareFeet>21000</SquareFeet><Brands>2</Brands><Internet>T1</Internet><NumberEmployees>11</NumberEmployees></StoreSurvey>",
         "2014-09-12",
         "Eastside Cycle Shop",
         286,
         "fe68dff4-1d4e-429e-b384-9c1db41a605e"
        ],
        [
         1056,
         "<StoreSurvey xmlns=\"http://schemas.microsoft.com/sqlserver/2004/07/adventure-works/StoreSurvey\"><AnnualSales>300000</AnnualSales><AnnualRevenue>30000</AnnualRevenue><BankName>Primary International</BankName><BusinessType>BM</BusinessType><YearOpened>1982</YearOpened><Specialty>Mountain</Specialty><SquareFeet>11000</SquareFeet><Brands>3</Brands><Internet>DSL</Internet><NumberEmployees>8</NumberEmployees></StoreSurvey>",
         "2014-09-12",
         "General Department Stores",
         278,
         "1c035fdb-8781-4e4c-9c4e-9cb3ae7b45a9"
        ],
        [
         1058,
         "<StoreSurvey xmlns=\"http://schemas.microsoft.com/sqlserver/2004/07/adventure-works/StoreSurvey\"><AnnualSales>300000</AnnualSales><AnnualRevenue>30000</AnnualRevenue><BankName>Reserve Security</BankName><BusinessType>BM</BusinessType><YearOpened>1976</YearOpened><Specialty>Touring</Specialty><SquareFeet>7000</SquareFeet><Brands>AW</Brands><Internet>DSL</Internet><NumberEmployees>5</NumberEmployees></StoreSurvey>",
         "2014-09-12",
         "Mass Market Bikes",
         286,
         "19e26b49-51b1-4094-ac2f-b325616f2e02"
        ],
        [
         1060,
         "<StoreSurvey xmlns=\"http://schemas.microsoft.com/sqlserver/2004/07/adventure-works/StoreSurvey\"><AnnualSales>300000</AnnualSales><AnnualRevenue>30000</AnnualRevenue><BankName>United Security</BankName><BusinessType>BM</BusinessType><YearOpened>1970</YearOpened><Specialty>Mountain</Specialty><SquareFeet>8000</SquareFeet><Brands>3</Brands><Internet>DSL</Internet><NumberEmployees>2</NumberEmployees></StoreSurvey>",
         "2014-09-12",
         "Operational Manufacturing",
         278,
         "43fce0d5-7a1b-4316-8c1c-58b9acc57fa2"
        ],
        [
         1062,
         "<StoreSurvey xmlns=\"http://schemas.microsoft.com/sqlserver/2004/07/adventure-works/StoreSurvey\"><AnnualSales>800000</AnnualSales><AnnualRevenue>80000</AnnualRevenue><BankName>Primary International</BankName><BusinessType>BM</BusinessType><YearOpened>1997</YearOpened><Specialty>Road</Specialty><SquareFeet>21000</SquareFeet><Brands>4+</Brands><Internet>ISDN</Internet><NumberEmployees>17</NumberEmployees></StoreSurvey>",
         "2014-09-12",
         "Online Bike Warehouse",
         282,
         "4322afff-bfb8-430f-894a-c94b2d2d73fe"
        ],
        [
         1064,
         "<StoreSurvey xmlns=\"http://schemas.microsoft.com/sqlserver/2004/07/adventure-works/StoreSurvey\"><AnnualSales>800000</AnnualSales><AnnualRevenue>80000</AnnualRevenue><BankName>Reserve Security</BankName><BusinessType>BM</BusinessType><YearOpened>1975</YearOpened><Specialty>Road</Specialty><SquareFeet>20000</SquareFeet><Brands>2</Brands><Internet>T1</Internet><NumberEmployees>18</NumberEmployees></StoreSurvey>",
         "2014-09-12",
         "Retread Tire Company",
         279,
         "a6aebd0a-7c1f-4792-bc55-d001fe04b4e1"
        ],
        [
         1066,
         "<StoreSurvey xmlns=\"http://schemas.microsoft.com/sqlserver/2004/07/adventure-works/StoreSurvey\"><AnnualSales>800000</AnnualSales><AnnualRevenue>80000</AnnualRevenue><BankName>United Security</BankName><BusinessType>BM</BusinessType><YearOpened>2000</YearOpened><Specialty>Mountain</Specialty><SquareFeet>23000</SquareFeet><Brands>4+</Brands><Internet>T1</Internet><NumberEmployees>19</NumberEmployees></StoreSurvey>",
         "2014-09-12",
         "Small Bike Shop",
         281,
         "1b5c94c6-7689-4487-9929-ad16b7e19f75"
        ],
        [
         1068,
         "<StoreSurvey xmlns=\"http://schemas.microsoft.com/sqlserver/2004/07/adventure-works/StoreSurvey\"><AnnualSales>1000000</AnnualSales><AnnualRevenue>100000</AnnualRevenue><BankName>International Bank</BankName><BusinessType>BM</BusinessType><YearOpened>2000</YearOpened><Specialty>Mountain</Specialty><SquareFeet>25000</SquareFeet><Brands>2</Brands><Internet>T1</Internet><NumberEmployees>20</NumberEmployees></StoreSurvey>",
         "2014-09-12",
         "Superior Hardware Distributors",
         283,
         "c8c746de-fc58-4c58-abc1-31e1375be48d"
        ],
        [
         1070,
         "<StoreSurvey xmlns=\"http://schemas.microsoft.com/sqlserver/2004/07/adventure-works/StoreSurvey\"><AnnualSales>800000</AnnualSales><AnnualRevenue>80000</AnnualRevenue><BankName>Primary Bank &amp; Reserve</BankName><BusinessType>BM</BusinessType><YearOpened>1994</YearOpened><Specialty>Mountain</Specialty><SquareFeet>23000</SquareFeet><Brands>2</Brands><Internet>DSL</Internet><NumberEmployees>18</NumberEmployees></StoreSurvey>",
         "2014-09-12",
         "Fitness Sport Boutique",
         275,
         "954f80aa-5bd2-41a1-ab34-bb402aac37d9"
        ],
        [
         1072,
         "<StoreSurvey xmlns=\"http://schemas.microsoft.com/sqlserver/2004/07/adventure-works/StoreSurvey\"><AnnualSales>800000</AnnualSales><AnnualRevenue>80000</AnnualRevenue><BankName>International Security</BankName><BusinessType>BM</BusinessType><YearOpened>1988</YearOpened><Specialty>Road</Specialty><SquareFeet>22000</SquareFeet><Brands>4+</Brands><Internet>T1</Internet><NumberEmployees>16</NumberEmployees></StoreSurvey>",
         "2014-09-12",
         "Producer Goods Clearinghouse",
         288,
         "9567e707-7fb8-40b2-a57a-332c6b2e8b1e"
        ],
        [
         1074,
         "<StoreSurvey xmlns=\"http://schemas.microsoft.com/sqlserver/2004/07/adventure-works/StoreSurvey\"><AnnualSales>800000</AnnualSales><AnnualRevenue>80000</AnnualRevenue><BankName>Guardian Bank</BankName><BusinessType>BM</BusinessType><YearOpened>1982</YearOpened><Specialty>Road</Specialty><SquareFeet>20000</SquareFeet><Brands>4+</Brands><Internet>DSL</Internet><NumberEmployees>14</NumberEmployees></StoreSurvey>",
         "2014-09-12",
         "Recreation Systems",
         275,
         "cbd5d92a-3cff-40b0-9214-b0d337be2a75"
        ],
        [
         1076,
         "<StoreSurvey xmlns=\"http://schemas.microsoft.com/sqlserver/2004/07/adventure-works/StoreSurvey\"><AnnualSales>800000</AnnualSales><AnnualRevenue>80000</AnnualRevenue><BankName>Primary International</BankName><BusinessType>BM</BusinessType><YearOpened>1976</YearOpened><Specialty>Touring</Specialty><SquareFeet>19000</SquareFeet><Brands>4+</Brands><Internet>DSL</Internet><NumberEmployees>12</NumberEmployees></StoreSurvey>",
         "2014-09-12",
         "Rustic Bike Store",
         288,
         "04ae6eb5-bea3-419f-96d6-71e6551d1993"
        ],
        [
         1078,
         "<StoreSurvey xmlns=\"http://schemas.microsoft.com/sqlserver/2004/07/adventure-works/StoreSurvey\"><AnnualSales>800000</AnnualSales><AnnualRevenue>80000</AnnualRevenue><BankName>Reserve Security</BankName><BusinessType>BM</BusinessType><YearOpened>1970</YearOpened><Specialty>Touring</Specialty><SquareFeet>17000</SquareFeet><Brands>AW</Brands><Internet>DSL</Internet><NumberEmployees>10</NumberEmployees></StoreSurvey>",
         "2014-09-12",
         "Eastside Parts Shop",
         282,
         "3298c70d-bc74-430a-9549-d292191c3f16"
        ],
        [
         1080,
         "<StoreSurvey xmlns=\"http://schemas.microsoft.com/sqlserver/2004/07/adventure-works/StoreSurvey\"><AnnualSales>300000</AnnualSales><AnnualRevenue>30000</AnnualRevenue><BankName>United Security</BankName><BusinessType>BM</BusinessType><YearOpened>1975</YearOpened><Specialty>Touring</Specialty><SquareFeet>9000</SquareFeet><Brands>4+</Brands><Internet>T2</Internet><NumberEmployees>8</NumberEmployees></StoreSurvey>",
         "2014-09-12",
         "Exchange Parts Inc.",
         279,
         "0d350025-a81c-4aec-a713-e536e2f66ac8"
        ],
        [
         1082,
         "<StoreSurvey xmlns=\"http://schemas.microsoft.com/sqlserver/2004/07/adventure-works/StoreSurvey\"><AnnualSales>300000</AnnualSales><AnnualRevenue>30000</AnnualRevenue><BankName>International Bank</BankName><BusinessType>BM</BusinessType><YearOpened>1970</YearOpened><Specialty>Road</Specialty><SquareFeet>9000</SquareFeet><Brands>AW</Brands><Internet>T2</Internet><NumberEmployees>6</NumberEmployees></StoreSurvey>",
         "2014-09-12",
         "First Cycle Store",
         281,
         "4c5f9b1e-83e9-4067-a5f0-2888bdb08d29"
        ],
        [
         1084,
         "<StoreSurvey xmlns=\"http://schemas.microsoft.com/sqlserver/2004/07/adventure-works/StoreSurvey\"><AnnualSales>300000</AnnualSales><AnnualRevenue>30000</AnnualRevenue><BankName>Primary Bank &amp; Reserve</BankName><BusinessType>BM</BusinessType><YearOpened>1978</YearOpened><Specialty>Touring</Specialty><SquareFeet>7000</SquareFeet><Brands>3</Brands><Internet>T2</Internet><NumberEmployees>4</NumberEmployees></StoreSurvey>",
         "2014-09-12",
         "Running and Cycling Gear",
         283,
         "40de80d3-d91f-43a0-b962-a2bd4fb0c795"
        ],
        [
         1086,
         "<StoreSurvey xmlns=\"http://schemas.microsoft.com/sqlserver/2004/07/adventure-works/StoreSurvey\"><AnnualSales>300000</AnnualSales><AnnualRevenue>30000</AnnualRevenue><BankName>International Security</BankName><BusinessType>BM</BusinessType><YearOpened>1973</YearOpened><Specialty>Road</Specialty><SquareFeet>10000</SquareFeet><Brands>AW</Brands><Internet>DSL</Internet><NumberEmployees>2</NumberEmployees></StoreSurvey>",
         "2014-09-12",
         "Seventh Bike Store",
         275,
         "89522a3f-a2dd-4eae-9666-542b61e42324"
        ],
        [
         1088,
         "<StoreSurvey xmlns=\"http://schemas.microsoft.com/sqlserver/2004/07/adventure-works/StoreSurvey\"><AnnualSales>300000</AnnualSales><AnnualRevenue>30000</AnnualRevenue><BankName>Guardian Bank</BankName><BusinessType>BM</BusinessType><YearOpened>1981</YearOpened><Specialty>Road</Specialty><SquareFeet>9000</SquareFeet><Brands>3</Brands><Internet>DSL</Internet><NumberEmployees>3</NumberEmployees></StoreSurvey>",
         "2014-09-12",
         "Fast Services",
         288,
         "cd687ad1-a0a3-4ccf-96b3-649b975417b0"
        ],
        [
         1090,
         "<StoreSurvey xmlns=\"http://schemas.microsoft.com/sqlserver/2004/07/adventure-works/StoreSurvey\"><AnnualSales>300000</AnnualSales><AnnualRevenue>30000</AnnualRevenue><BankName>Primary International</BankName><BusinessType>BM</BusinessType><YearOpened>1976</YearOpened><Specialty>Road</Specialty><SquareFeet>9000</SquareFeet><Brands>2</Brands><Internet>T1</Internet><NumberEmployees>4</NumberEmployees></StoreSurvey>",
         "2014-09-12",
         "General Associates",
         279,
         "97137436-9322-45a0-9eba-19b7f5c4fe6c"
        ],
        [
         1092,
         "<StoreSurvey xmlns=\"http://schemas.microsoft.com/sqlserver/2004/07/adventure-works/StoreSurvey\"><AnnualSales>300000</AnnualSales><AnnualRevenue>30000</AnnualRevenue><BankName>Reserve Security</BankName><BusinessType>BM</BusinessType><YearOpened>1984</YearOpened><Specialty>Road</Specialty><SquareFeet>9000</SquareFeet><Brands>3</Brands><Internet>T1</Internet><NumberEmployees>5</NumberEmployees></StoreSurvey>",
         "2014-09-12",
         "Good Toys",
         276,
         "045e0eb6-756c-48fe-b923-18e892dd964a"
        ],
        [
         1094,
         "<StoreSurvey xmlns=\"http://schemas.microsoft.com/sqlserver/2004/07/adventure-works/StoreSurvey\"><AnnualSales>300000</AnnualSales><AnnualRevenue>30000</AnnualRevenue><BankName>United Security</BankName><BusinessType>BM</BusinessType><YearOpened>1979</YearOpened><Specialty>Road</Specialty><SquareFeet>11000</SquareFeet><Brands>4+</Brands><Internet>DSL</Internet><NumberEmployees>6</NumberEmployees></StoreSurvey>",
         "2014-09-12",
         "Little Bicycle Supply Shop",
         277,
         "35c9af15-98e7-4ccb-9edc-ef873ba38dc6"
        ],
        [
         1096,
         "<StoreSurvey xmlns=\"http://schemas.microsoft.com/sqlserver/2004/07/adventure-works/StoreSurvey\"><AnnualSales>300000</AnnualSales><AnnualRevenue>30000</AnnualRevenue><BankName>International Bank</BankName><BusinessType>BM</BusinessType><YearOpened>1987</YearOpened><Specialty>Road</Specialty><SquareFeet>8000</SquareFeet><Brands>4+</Brands><Internet>T1</Internet><NumberEmployees>7</NumberEmployees></StoreSurvey>",
         "2014-09-12",
         "Retail Toy Store",
         279,
         "01351a38-0674-4191-918d-3c10b5932e8a"
        ],
        [
         1098,
         "<StoreSurvey xmlns=\"http://schemas.microsoft.com/sqlserver/2004/07/adventure-works/StoreSurvey\"><AnnualSales>300000</AnnualSales><AnnualRevenue>30000</AnnualRevenue><BankName>Primary Bank &amp; Reserve</BankName><BusinessType>BM</BusinessType><YearOpened>1982</YearOpened><Specialty>Mountain</Specialty><SquareFeet>7000</SquareFeet><Brands>4+</Brands><Internet>T2</Internet><NumberEmployees>8</NumberEmployees></StoreSurvey>",
         "2014-09-12",
         "Strenuous Exercise Shop",
         276,
         "1489097d-7481-405d-bc93-4274cb5e6a82"
        ],
        [
         1100,
         "<StoreSurvey xmlns=\"http://schemas.microsoft.com/sqlserver/2004/07/adventure-works/StoreSurvey\"><AnnualSales>300000</AnnualSales><AnnualRevenue>30000</AnnualRevenue><BankName>International Security</BankName><BusinessType>BM</BusinessType><YearOpened>1990</YearOpened><Specialty>Touring</Specialty><SquareFeet>10000</SquareFeet><Brands>AW</Brands><Internet>DSL</Internet><NumberEmployees>9</NumberEmployees></StoreSurvey>",
         "2014-09-12",
         "All Seasons Sports Supply",
         277,
         "1ce3c3b7-c33d-4196-95db-4e8fcfda715f"
        ],
        [
         1102,
         "<StoreSurvey xmlns=\"http://schemas.microsoft.com/sqlserver/2004/07/adventure-works/StoreSurvey\"><AnnualSales>800000</AnnualSales><AnnualRevenue>80000</AnnualRevenue><BankName>Guardian Bank</BankName><BusinessType>BM</BusinessType><YearOpened>1970</YearOpened><Specialty>Road</Specialty><SquareFeet>20000</SquareFeet><Brands>2</Brands><Internet>DSL</Internet><NumberEmployees>10</NumberEmployees></StoreSurvey>",
         "2014-09-12",
         "Leisure Clearing House",
         289,
         "ced2ba1e-25a2-43b2-8bbb-c5cc4fb0b9fd"
        ],
        [
         1104,
         "<StoreSurvey xmlns=\"http://schemas.microsoft.com/sqlserver/2004/07/adventure-works/StoreSurvey\"><AnnualSales>300000</AnnualSales><AnnualRevenue>30000</AnnualRevenue><BankName>Primary International</BankName><BusinessType>BM</BusinessType><YearOpened>1975</YearOpened><Specialty>Mountain</Specialty><SquareFeet>8000</SquareFeet><Brands>3</Brands><Internet>ISDN</Internet><NumberEmployees>8</NumberEmployees></StoreSurvey>",
         "2014-09-12",
         "Outdoor Toy Store",
         290,
         "5ed195d0-4019-4b98-a276-cea761d6e933"
        ],
        [
         1106,
         "<StoreSurvey xmlns=\"http://schemas.microsoft.com/sqlserver/2004/07/adventure-works/StoreSurvey\"><AnnualSales>300000</AnnualSales><AnnualRevenue>30000</AnnualRevenue><BankName>Reserve Security</BankName><BusinessType>BM</BusinessType><YearOpened>1970</YearOpened><Specialty>Road</Specialty><SquareFeet>9000</SquareFeet><Brands>3</Brands><Internet>DSL</Internet><NumberEmployees>6</NumberEmployees></StoreSurvey>",
         "2014-09-12",
         "The Commissary",
         282,
         "85ba2ebe-8759-453c-9f7d-8f0b955577be"
        ],
        [
         1108,
         "<StoreSurvey xmlns=\"http://schemas.microsoft.com/sqlserver/2004/07/adventure-works/StoreSurvey\"><AnnualSales>300000</AnnualSales><AnnualRevenue>30000</AnnualRevenue><BankName>United Security</BankName><BusinessType>BM</BusinessType><YearOpened>1978</YearOpened><Specialty>Road</Specialty><SquareFeet>8000</SquareFeet><Brands>AW</Brands><Internet>DSL</Internet><NumberEmployees>4</NumberEmployees></StoreSurvey>",
         "2014-09-12",
         "Affordable Sports Equipment",
         281,
         "09b525a2-191f-4431-b202-835c65ac0ea7"
        ],
        [
         1110,
         "<StoreSurvey xmlns=\"http://schemas.microsoft.com/sqlserver/2004/07/adventure-works/StoreSurvey\"><AnnualSales>300000</AnnualSales><AnnualRevenue>30000</AnnualRevenue><BankName>International Bank</BankName><BusinessType>BM</BusinessType><YearOpened>1973</YearOpened><Specialty>Touring</Specialty><SquareFeet>10000</SquareFeet><Brands>2</Brands><Internet>DSL</Internet><NumberEmployees>2</NumberEmployees></StoreSurvey>",
         "2014-09-12",
         "Local Sales and Rental",
         277,
         "07833647-ba03-4d2a-ae63-92fd82fc6526"
        ],
        [
         1112,
         "<StoreSurvey xmlns=\"http://schemas.microsoft.com/sqlserver/2004/07/adventure-works/StoreSurvey\"><AnnualSales>1500000</AnnualSales><AnnualRevenue>150000</AnnualRevenue><BankName>International Bank</BankName><BusinessType>BS</BusinessType><YearOpened>1998</YearOpened><Specialty>Mountain</Specialty><SquareFeet>35000</SquareFeet><Brands>4+</Brands><Internet>T2</Internet><NumberEmployees>31</NumberEmployees></StoreSurvey>",
         "2014-09-12",
         "Economy Center",
         282,
         "def1343e-ca6a-4577-ace2-3f644e2881ba"
        ],
        [
         1114,
         "<StoreSurvey xmlns=\"http://schemas.microsoft.com/sqlserver/2004/07/adventure-works/StoreSurvey\"><AnnualSales>1500000</AnnualSales><AnnualRevenue>150000</AnnualRevenue><BankName>United Security</BankName><BusinessType>BS</BusinessType><YearOpened>1983</YearOpened><Specialty>Mountain</Specialty><SquareFeet>36000</SquareFeet><Brands>3</Brands><Internet>T2</Internet><NumberEmployees>34</NumberEmployees></StoreSurvey>",
         "2014-09-12",
         "Community Department Stores",
         290,
         "c242eab7-79f4-4e3c-a7db-48ef7f66753e"
        ],
        [
         1116,
         "<StoreSurvey xmlns=\"http://schemas.microsoft.com/sqlserver/2004/07/adventure-works/StoreSurvey\"><AnnualSales>1500000</AnnualSales><AnnualRevenue>150000</AnnualRevenue><BankName>Reserve Security</BankName><BusinessType>BS</BusinessType><YearOpened>1995</YearOpened><Specialty>Road</Specialty><SquareFeet>36000</SquareFeet><Brands>4+</Brands><Internet>T2</Internet><NumberEmployees>37</NumberEmployees></StoreSurvey>",
         "2014-09-12",
         "Area Sheet Metal Supply",
         289,
         "0feca845-86db-4048-911a-1c97ee5e3e2a"
        ],
        [
         1118,
         "<StoreSurvey xmlns=\"http://schemas.microsoft.com/sqlserver/2004/07/adventure-works/StoreSurvey\"><AnnualSales>1500000</AnnualSales><AnnualRevenue>150000</AnnualRevenue><BankName>Primary International</BankName><BusinessType>BS</BusinessType><YearOpened>1995</YearOpened><Specialty>Road</Specialty><SquareFeet>39000</SquareFeet><Brands>2</Brands><Internet>DSL</Internet><NumberEmployees>40</NumberEmployees></StoreSurvey>",
         "2014-09-12",
         "Synthetic Materials Manufacturing",
         280,
         "634a228b-5268-4789-a687-182151058d39"
        ],
        [
         1120,
         "<StoreSurvey xmlns=\"http://schemas.microsoft.com/sqlserver/2004/07/adventure-works/StoreSurvey\"><AnnualSales>1500000</AnnualSales><AnnualRevenue>150000</AnnualRevenue><BankName>Guardian Bank</BankName><BusinessType>BS</BusinessType><YearOpened>1992</YearOpened><Specialty>Road</Specialty><SquareFeet>37000</SquareFeet><Brands>3</Brands><Internet>DSL</Internet><NumberEmployees>43</NumberEmployees></StoreSurvey>",
         "2014-09-12",
         "Rural Sales and Service",
         277,
         "3874be34-898f-424c-babb-e6929d6db0f8"
        ],
        [
         1122,
         "<StoreSurvey xmlns=\"http://schemas.microsoft.com/sqlserver/2004/07/adventure-works/StoreSurvey\"><AnnualSales>3000000</AnnualSales><AnnualRevenue>300000</AnnualRevenue><BankName>International Bank</BankName><BusinessType>OS</BusinessType><YearOpened>1980</YearOpened><Specialty>Touring</Specialty><SquareFeet>75000</SquareFeet><Brands>4+</Brands><Internet>DSL</Internet><NumberEmployees>89</NumberEmployees></StoreSurvey>",
         "2014-09-12",
         "Tubeless Tire Company",
         289,
         "c4183bac-64c2-49cf-a308-fda09f500eef"
        ],
        [
         1124,
         "<StoreSurvey xmlns=\"http://schemas.microsoft.com/sqlserver/2004/07/adventure-works/StoreSurvey\"><AnnualSales>3000000</AnnualSales><AnnualRevenue>300000</AnnualRevenue><BankName>United Security</BankName><BusinessType>OS</BusinessType><YearOpened>1972</YearOpened><Specialty>Mountain</Specialty><SquareFeet>79000</SquareFeet><Brands>4+</Brands><Internet>T2</Internet><NumberEmployees>90</NumberEmployees></StoreSurvey>",
         "2014-09-12",
         "Tires and Tubes",
         280,
         "88ceecee-7ad3-42e7-9f75-0f5a397083ae"
        ],
        [
         1126,
         "<StoreSurvey xmlns=\"http://schemas.microsoft.com/sqlserver/2004/07/adventure-works/StoreSurvey\"><AnnualSales>3000000</AnnualSales><AnnualRevenue>300000</AnnualRevenue><BankName>Reserve Security</BankName><BusinessType>OS</BusinessType><YearOpened>1977</YearOpened><Specialty>Mountain</Specialty><SquareFeet>75000</SquareFeet><Brands>2</Brands><Internet>T1</Internet><NumberEmployees>91</NumberEmployees></StoreSurvey>",
         "2014-09-12",
         "Hardware Components",
         277,
         "f1587a33-543d-4cba-950b-e97e0bfe90df"
        ],
        [
         1128,
         "<StoreSurvey xmlns=\"http://schemas.microsoft.com/sqlserver/2004/07/adventure-works/StoreSurvey\"><AnnualSales>3000000</AnnualSales><AnnualRevenue>300000</AnnualRevenue><BankName>Primary International</BankName><BusinessType>OS</BusinessType><YearOpened>1987</YearOpened><Specialty>Road</Specialty><SquareFeet>78000</SquareFeet><Brands>4+</Brands><Internet>DSL</Internet><NumberEmployees>92</NumberEmployees></StoreSurvey>",
         "2014-09-12",
         "Retail Sporting Goods",
         281,
         "09a0d120-26d6-45ff-87a7-d5d5cf9a0b71"
        ],
        [
         1130,
         "<StoreSurvey xmlns=\"http://schemas.microsoft.com/sqlserver/2004/07/adventure-works/StoreSurvey\"><AnnualSales>3000000</AnnualSales><AnnualRevenue>300000</AnnualRevenue><BankName>Guardian Bank</BankName><BusinessType>OS</BusinessType><YearOpened>1974</YearOpened><Specialty>Touring</Specialty><SquareFeet>77000</SquareFeet><Brands>3</Brands><Internet>DSL</Internet><NumberEmployees>93</NumberEmployees></StoreSurvey>",
         "2014-09-12",
         "Efficient Cycling",
         282,
         "de0aa7ae-3063-40f5-b0c1-9112b1707a99"
        ],
        [
         1132,
         "<StoreSurvey xmlns=\"http://schemas.microsoft.com/sqlserver/2004/07/adventure-works/StoreSurvey\"><AnnualSales>1500000</AnnualSales><AnnualRevenue>150000</AnnualRevenue><BankName>Primary International</BankName><BusinessType>BS</BusinessType><YearOpened>1994</YearOpened><Specialty>Road</Specialty><SquareFeet>42000</SquareFeet><Brands>4+</Brands><Internet>T1</Internet><NumberEmployees>48</NumberEmployees></StoreSurvey>",
         "2014-09-12",
         "General Industries",
         282,
         "b51ee310-8aad-4df2-a5cb-5c452b68bbfe"
        ],
        [
         1134,
         "<StoreSurvey xmlns=\"http://schemas.microsoft.com/sqlserver/2004/07/adventure-works/StoreSurvey\"><AnnualSales>1500000</AnnualSales><AnnualRevenue>150000</AnnualRevenue><BankName>Reserve Security</BankName><BusinessType>BS</BusinessType><YearOpened>1989</YearOpened><Specialty>Road</Specialty><SquareFeet>40000</SquareFeet><Brands>2</Brands><Internet>DSL</Internet><NumberEmployees>49</NumberEmployees></StoreSurvey>",
         "2014-09-12",
         "Highway Bike Shop",
         281,
         "c4e0ba14-3a94-4de8-bfa6-cc77754ebee3"
        ],
        [
         1136,
         "<StoreSurvey xmlns=\"http://schemas.microsoft.com/sqlserver/2004/07/adventure-works/StoreSurvey\"><AnnualSales>1500000</AnnualSales><AnnualRevenue>150000</AnnualRevenue><BankName>United Security</BankName><BusinessType>BS</BusinessType><YearOpened>1997</YearOpened><Specialty>Road</Specialty><SquareFeet>40000</SquareFeet><Brands>4+</Brands><Internet>T1</Internet><NumberEmployees>46</NumberEmployees></StoreSurvey>",
         "2014-09-12",
         "Rental Bikes",
         277,
         "995a09e7-7e7f-4b24-b493-fb70d5b83828"
        ],
        [
         1138,
         "<StoreSurvey xmlns=\"http://schemas.microsoft.com/sqlserver/2004/07/adventure-works/StoreSurvey\"><AnnualSales>1500000</AnnualSales><AnnualRevenue>150000</AnnualRevenue><BankName>International Bank</BankName><BusinessType>BS</BusinessType><YearOpened>1992</YearOpened><Specialty>Road</Specialty><SquareFeet>41000</SquareFeet><Brands>3</Brands><Internet>ISDN</Internet><NumberEmployees>43</NumberEmployees></StoreSurvey>",
         "2014-09-12",
         "Roving Sports",
         280,
         "0e845a5c-66b0-4979-b65c-5887a58614a6"
        ],
        [
         1140,
         "<StoreSurvey xmlns=\"http://schemas.microsoft.com/sqlserver/2004/07/adventure-works/StoreSurvey\"><AnnualSales>1500000</AnnualSales><AnnualRevenue>150000</AnnualRevenue><BankName>Primary Bank &amp; Reserve</BankName><BusinessType>BS</BusinessType><YearOpened>1995</YearOpened><Specialty>Mountain</Specialty><SquareFeet>38000</SquareFeet><Brands>4+</Brands><Internet>DSL</Internet><NumberEmployees>40</NumberEmployees></StoreSurvey>",
         "2014-09-12",
         "Express Bike Services",
         289,
         "eb0f662c-8d87-454e-abad-0cbbb847c171"
        ],
        [
         1142,
         "<StoreSurvey xmlns=\"http://schemas.microsoft.com/sqlserver/2004/07/adventure-works/StoreSurvey\"><AnnualSales>1500000</AnnualSales><AnnualRevenue>150000</AnnualRevenue><BankName>International Security</BankName><BusinessType>BS</BusinessType><YearOpened>1995</YearOpened><Specialty>Mountain</Specialty><SquareFeet>36000</SquareFeet><Brands>4+</Brands><Internet>DSL</Internet><NumberEmployees>37</NumberEmployees></StoreSurvey>",
         "2014-09-12",
         "Major Amusement Company",
         290,
         "a37f70d2-4aa8-4c29-a3f4-00d238dd9628"
        ],
        [
         1144,
         "<StoreSurvey xmlns=\"http://schemas.microsoft.com/sqlserver/2004/07/adventure-works/StoreSurvey\"><AnnualSales>1500000</AnnualSales><AnnualRevenue>150000</AnnualRevenue><BankName>Guardian Bank</BankName><BusinessType>BS</BusinessType><YearOpened>1983</YearOpened><Specialty>Road</Specialty><SquareFeet>37000</SquareFeet><Brands>3</Brands><Internet>T1</Internet><NumberEmployees>34</NumberEmployees></StoreSurvey>",
         "2014-09-12",
         "Retail Discount Store",
         282,
         "841949ed-fe89-4fc6-9e24-605adf88b9cd"
        ],
        [
         1146,
         "<StoreSurvey xmlns=\"http://schemas.microsoft.com/sqlserver/2004/07/adventure-works/StoreSurvey\"><AnnualSales>1500000</AnnualSales><AnnualRevenue>150000</AnnualRevenue><BankName>Primary International</BankName><BusinessType>BS</BusinessType><YearOpened>1998</YearOpened><Specialty>Touring</Specialty><SquareFeet>37000</SquareFeet><Brands>4+</Brands><Internet>T2</Internet><NumberEmployees>31</NumberEmployees></StoreSurvey>",
         "2014-09-12",
         "Vale Riding Supplies",
         281,
         "8b93dba7-7742-42ab-81c1-91ffc3b713cb"
        ],
        [
         1148,
         "<StoreSurvey xmlns=\"http://schemas.microsoft.com/sqlserver/2004/07/adventure-works/StoreSurvey\"><AnnualSales>1000000</AnnualSales><AnnualRevenue>100000</AnnualRevenue><BankName>Reserve Security</BankName><BusinessType>BS</BusinessType><YearOpened>1971</YearOpened><Specialty>Road</Specialty><SquareFeet>28000</SquareFeet><Brands>3</Brands><Internet>T2</Internet><NumberEmployees>28</NumberEmployees></StoreSurvey>",
         "2014-09-12",
         "A Great Bicycle Company",
         277,
         "68fc27ad-2ed1-4f61-a068-0aa3debd9931"
        ],
        [
         1150,
         "<StoreSurvey xmlns=\"http://schemas.microsoft.com/sqlserver/2004/07/adventure-works/StoreSurvey\"><AnnualSales>1000000</AnnualSales><AnnualRevenue>100000</AnnualRevenue><BankName>United Security</BankName><BusinessType>BS</BusinessType><YearOpened>2001</YearOpened><Specialty>Road</Specialty><SquareFeet>24000</SquareFeet><Brands>2</Brands><Internet>ISDN</Internet><NumberEmployees>25</NumberEmployees></StoreSurvey>",
         "2014-09-12",
         "Certified Bicycle Supply",
         280,
         "2656a532-5879-4092-91eb-e7a2d2cd2ee6"
        ],
        [
         1152,
         "<StoreSurvey xmlns=\"http://schemas.microsoft.com/sqlserver/2004/07/adventure-works/StoreSurvey\"><AnnualSales>1000000</AnnualSales><AnnualRevenue>100000</AnnualRevenue><BankName>International Bank</BankName><BusinessType>BS</BusinessType><YearOpened>1996</YearOpened><Specialty>Touring</Specialty><SquareFeet>27000</SquareFeet><Brands>4+</Brands><Internet>DSL</Internet><NumberEmployees>22</NumberEmployees></StoreSurvey>",
         "2014-09-12",
         "Exceptional Cycle Services",
         289,
         "4ccc7825-4c14-4649-b91f-8b5656c708f0"
        ],
        [
         1154,
         "<StoreSurvey xmlns=\"http://schemas.microsoft.com/sqlserver/2004/07/adventure-works/StoreSurvey\"><AnnualSales>800000</AnnualSales><AnnualRevenue>80000</AnnualRevenue><BankName>Primary Bank &amp; Reserve</BankName><BusinessType>BS</BusinessType><YearOpened>1990</YearOpened><Specialty>Road</Specialty><SquareFeet>23000</SquareFeet><Brands>4+</Brands><Internet>T1</Internet><NumberEmployees>19</NumberEmployees></StoreSurvey>",
         "2014-09-12",
         "Instant Cycle Store",
         290,
         "b54785a0-100d-4912-86e8-847f736a6ba5"
        ],
        [
         1156,
         "<StoreSurvey xmlns=\"http://schemas.microsoft.com/sqlserver/2004/07/adventure-works/StoreSurvey\"><AnnualSales>800000</AnnualSales><AnnualRevenue>80000</AnnualRevenue><BankName>International Security</BankName><BusinessType>BS</BusinessType><YearOpened>1984</YearOpened><Specialty>Mountain</Specialty><SquareFeet>22000</SquareFeet><Brands>4+</Brands><Internet>DSL</Internet><NumberEmployees>16</NumberEmployees></StoreSurvey>",
         "2014-09-12",
         "Leisure Activities",
         282,
         "5500dc18-da7b-4107-a9c0-0dd8cc47faad"
        ],
        [
         1158,
         "<StoreSurvey xmlns=\"http://schemas.microsoft.com/sqlserver/2004/07/adventure-works/StoreSurvey\"><AnnualSales>800000</AnnualSales><AnnualRevenue>80000</AnnualRevenue><BankName>Guardian Bank</BankName><BusinessType>BS</BusinessType><YearOpened>1978</YearOpened><Specialty>Touring</Specialty><SquareFeet>18000</SquareFeet><Brands>3</Brands><Internet>T1</Internet><NumberEmployees>13</NumberEmployees></StoreSurvey>",
         "2014-09-12",
         "Paints and Solvents Company",
         281,
         "ad164fae-f4f6-4c0f-852e-889ee6280b41"
        ],
        [
         1160,
         "<StoreSurvey xmlns=\"http://schemas.microsoft.com/sqlserver/2004/07/adventure-works/StoreSurvey\"><AnnualSales>1000000</AnnualSales><AnnualRevenue>100000</AnnualRevenue><BankName>International Bank</BankName><BusinessType>BS</BusinessType><YearOpened>2001</YearOpened><Specialty>Touring</Specialty><SquareFeet>27000</SquareFeet><Brands>3</Brands><Internet>T1</Internet><NumberEmployees>29</NumberEmployees></StoreSurvey>",
         "2014-09-12",
         "West Wind Distributors",
         288,
         "4fe6e559-7339-4043-92d9-635f2f3c00b0"
        ],
        [
         1162,
         "<StoreSurvey xmlns=\"http://schemas.microsoft.com/sqlserver/2004/07/adventure-works/StoreSurvey\"><AnnualSales>1500000</AnnualSales><AnnualRevenue>150000</AnnualRevenue><BankName>Primary Bank &amp; Reserve</BankName><BusinessType>BS</BusinessType><YearOpened>1996</YearOpened><Specialty>Mountain</Specialty><SquareFeet>36000</SquareFeet><Brands>4+</Brands><Internet>DSL</Internet><NumberEmployees>30</NumberEmployees></StoreSurvey>",
         "2014-09-12",
         "Bikes for Kids and Adults",
         282,
         "dc41a5cf-fe94-47a2-8402-c3072a55f1e8"
        ],
        [
         1164,
         "<StoreSurvey xmlns=\"http://schemas.microsoft.com/sqlserver/2004/07/adventure-works/StoreSurvey\"><AnnualSales>1500000</AnnualSales><AnnualRevenue>150000</AnnualRevenue><BankName>International Security</BankName><BusinessType>BS</BusinessType><YearOpened>1990</YearOpened><Specialty>Mountain</Specialty><SquareFeet>38000</SquareFeet><Brands>3</Brands><Internet>DSL</Internet><NumberEmployees>31</NumberEmployees></StoreSurvey>",
         "2014-09-12",
         "Consolidated Sales",
         279,
         "740d720c-e93a-47bd-922b-b6db87ba5452"
        ],
        [
         1166,
         "<StoreSurvey xmlns=\"http://schemas.microsoft.com/sqlserver/2004/07/adventure-works/StoreSurvey\"><AnnualSales>800000</AnnualSales><AnnualRevenue>80000</AnnualRevenue><BankName>United Security</BankName><BusinessType>BM</BusinessType><YearOpened>1988</YearOpened><Specialty>Touring</Specialty><SquareFeet>20000</SquareFeet><Brands>3</Brands><Internet>T2</Internet><NumberEmployees>11</NumberEmployees></StoreSurvey>",
         "2014-09-12",
         "Home Town Bike Store",
         278,
         "af4ac9e0-fabe-4624-89ff-ea136723359a"
        ],
        [
         1168,
         "<StoreSurvey xmlns=\"http://schemas.microsoft.com/sqlserver/2004/07/adventure-works/StoreSurvey\"><AnnualSales>300000</AnnualSales><AnnualRevenue>30000</AnnualRevenue><BankName>International Bank</BankName><BusinessType>BM</BusinessType><YearOpened>1982</YearOpened><Specialty>Road</Specialty><SquareFeet>10000</SquareFeet><Brands>2</Brands><Internet>T1</Internet><NumberEmployees>8</NumberEmployees></StoreSurvey>",
         "2014-09-12",
         "Optimal Bikes",
         279,
         "ee22cf36-5dc3-483e-885a-37ed28508a30"
        ],
        [
         1170,
         "<StoreSurvey xmlns=\"http://schemas.microsoft.com/sqlserver/2004/07/adventure-works/StoreSurvey\"><AnnualSales>300000</AnnualSales><AnnualRevenue>30000</AnnualRevenue><BankName>Primary Bank &amp; Reserve</BankName><BusinessType>BM</BusinessType><YearOpened>1976</YearOpened><Specialty>Road</Specialty><SquareFeet>7000</SquareFeet><Brands>AW</Brands><Internet>DSL</Internet><NumberEmployees>5</NumberEmployees></StoreSurvey>",
         "2014-09-12",
         "Sample Bike Store",
         276,
         "b39bf496-3dd4-47af-9f26-5a7b44349127"
        ],
        [
         1172,
         "<StoreSurvey xmlns=\"http://schemas.microsoft.com/sqlserver/2004/07/adventure-works/StoreSurvey\"><AnnualSales>300000</AnnualSales><AnnualRevenue>30000</AnnualRevenue><BankName>International Security</BankName><BusinessType>BM</BusinessType><YearOpened>1970</YearOpened><Specialty>Road</Specialty><SquareFeet>7000</SquareFeet><Brands>3</Brands><Internet>DSL</Internet><NumberEmployees>2</NumberEmployees></StoreSurvey>",
         "2014-09-12",
         "Extras Sporting Goods",
         277,
         "08c40323-b1c0-41de-978e-497b84513b5a"
        ],
        [
         1174,
         "<StoreSurvey xmlns=\"http://schemas.microsoft.com/sqlserver/2004/07/adventure-works/StoreSurvey\"><AnnualSales>800000</AnnualSales><AnnualRevenue>80000</AnnualRevenue><BankName>International Bank</BankName><BusinessType>BM</BusinessType><YearOpened>1997</YearOpened><Specialty>Road</Specialty><SquareFeet>22000</SquareFeet><Brands>4+</Brands><Internet>DSL</Internet><NumberEmployees>17</NumberEmployees></StoreSurvey>",
         "2014-09-12",
         "Sure & Reliable Sporting Goods",
         283,
         "8a8e549d-0ba5-43d0-adf8-60f9b5fdec9d"
        ],
        [
         1176,
         "<StoreSurvey xmlns=\"http://schemas.microsoft.com/sqlserver/2004/07/adventure-works/StoreSurvey\"><AnnualSales>800000</AnnualSales><AnnualRevenue>80000</AnnualRevenue><BankName>Primary Bank &amp; Reserve</BankName><BusinessType>BM</BusinessType><YearOpened>1975</YearOpened><Specialty>Road</Specialty><SquareFeet>22000</SquareFeet><Brands>4+</Brands><Internet>DSL</Internet><NumberEmployees>18</NumberEmployees></StoreSurvey>",
         "2014-09-12",
         "Eleventh Bike Store",
         275,
         "63164f1d-d845-487d-aecb-74e67a036563"
        ],
        [
         1178,
         "<StoreSurvey xmlns=\"http://schemas.microsoft.com/sqlserver/2004/07/adventure-works/StoreSurvey\"><AnnualSales>800000</AnnualSales><AnnualRevenue>80000</AnnualRevenue><BankName>International Security</BankName><BusinessType>BM</BusinessType><YearOpened>2000</YearOpened><Specialty>Touring</Specialty><SquareFeet>23000</SquareFeet><Brands>4+</Brands><Internet>T1</Internet><NumberEmployees>19</NumberEmployees></StoreSurvey>",
         "2014-09-12",
         "Enterprise Center",
         288,
         "23df9965-0d48-4935-8af6-a3f21d37edfa"
        ],
        [
         1180,
         "<StoreSurvey xmlns=\"http://schemas.microsoft.com/sqlserver/2004/07/adventure-works/StoreSurvey\"><AnnualSales>1000000</AnnualSales><AnnualRevenue>100000</AnnualRevenue><BankName>Guardian Bank</BankName><BusinessType>BM</BusinessType><YearOpened>2000</YearOpened><Specialty>Road</Specialty><SquareFeet>27000</SquareFeet><Brands>2</Brands><Internet>DSL</Internet><NumberEmployees>20</NumberEmployees></StoreSurvey>",
         "2014-09-12",
         "Purple Bicycle Company",
         282,
         "0d9b5235-d3c0-4bf0-a319-f122c2cc1a36"
        ],
        [
         1182,
         "<StoreSurvey xmlns=\"http://schemas.microsoft.com/sqlserver/2004/07/adventure-works/StoreSurvey\"><AnnualSales>800000</AnnualSales><AnnualRevenue>80000</AnnualRevenue><BankName>Primary International</BankName><BusinessType>BM</BusinessType><YearOpened>1994</YearOpened><Specialty>Road</Specialty><SquareFeet>20000</SquareFeet><Brands>AW</Brands><Internet>DSL</Internet><NumberEmployees>18</NumberEmployees></StoreSurvey>",
         "2014-09-12",
         "New and Used Bicycles",
         279,
         "271474f4-52f9-4c6d-ad70-5a894111e739"
        ],
        [
         1184,
         "<StoreSurvey xmlns=\"http://schemas.microsoft.com/sqlserver/2004/07/adventure-works/StoreSurvey\"><AnnualSales>800000</AnnualSales><AnnualRevenue>80000</AnnualRevenue><BankName>Reserve Security</BankName><BusinessType>BM</BusinessType><YearOpened>1988</YearOpened><Specialty>Road</Specialty><SquareFeet>21000</SquareFeet><Brands>3</Brands><Internet>DSL</Internet><NumberEmployees>16</NumberEmployees></StoreSurvey>",
         "2014-09-12",
         "Separate Parts Corporation",
         281,
         "4cf82063-b7cb-4772-9f0c-d3acb230f459"
        ],
        [
         1186,
         "<StoreSurvey xmlns=\"http://schemas.microsoft.com/sqlserver/2004/07/adventure-works/StoreSurvey\"><AnnualSales>800000</AnnualSales><AnnualRevenue>80000</AnnualRevenue><BankName>United Security</BankName><BusinessType>BM</BusinessType><YearOpened>1982</YearOpened><Specialty>Road</Specialty><SquareFeet>20000</SquareFeet><Brands>2</Brands><Internet>DSL</Internet><NumberEmployees>14</NumberEmployees></StoreSurvey>",
         "2014-09-12",
         "Basic Bike Company",
         283,
         "f2c84903-19ed-4549-8b4e-9604c558eab6"
        ],
        [
         1188,
         "<StoreSurvey xmlns=\"http://schemas.microsoft.com/sqlserver/2004/07/adventure-works/StoreSurvey\"><AnnualSales>800000</AnnualSales><AnnualRevenue>80000</AnnualRevenue><BankName>International Bank</BankName><BusinessType>BM</BusinessType><YearOpened>1976</YearOpened><Specialty>Mountain</Specialty><SquareFeet>18000</SquareFeet><Brands>4+</Brands><Internet>DSL</Internet><NumberEmployees>12</NumberEmployees></StoreSurvey>",
         "2014-09-12",
         "Fabrikam Inc., West",
         275,
         "9da146b6-2e9b-4039-83e1-427879f8471e"
        ],
        [
         1190,
         "<StoreSurvey xmlns=\"http://schemas.microsoft.com/sqlserver/2004/07/adventure-works/StoreSurvey\"><AnnualSales>800000</AnnualSales><AnnualRevenue>80000</AnnualRevenue><BankName>Primary Bank &amp; Reserve</BankName><BusinessType>BM</BusinessType><YearOpened>1970</YearOpened><Specialty>Touring</Specialty><SquareFeet>21000</SquareFeet><Brands>3</Brands><Internet>T1</Internet><NumberEmployees>10</NumberEmployees></StoreSurvey>",
         "2014-09-12",
         "Mechanical Brake Manufacturers",
         288,
         "0e715ab8-2eb4-41e4-8b9d-63523c2e4b2d"
        ],
        [
         1192,
         "<StoreSurvey xmlns=\"http://schemas.microsoft.com/sqlserver/2004/07/adventure-works/StoreSurvey\"><AnnualSales>300000</AnnualSales><AnnualRevenue>30000</AnnualRevenue><BankName>International Security</BankName><BusinessType>BM</BusinessType><YearOpened>1975</YearOpened><Specialty>Road</Specialty><SquareFeet>11000</SquareFeet><Brands>AW</Brands><Internet>DSL</Internet><NumberEmployees>8</NumberEmployees></StoreSurvey>",
         "2014-09-12",
         "Non-Slip Pedal Company",
         282,
         "c374851d-b5f0-46c6-bf7b-e3ead1124bd5"
        ],
        [
         1194,
         "<StoreSurvey xmlns=\"http://schemas.microsoft.com/sqlserver/2004/07/adventure-works/StoreSurvey\"><AnnualSales>300000</AnnualSales><AnnualRevenue>30000</AnnualRevenue><BankName>Guardian Bank</BankName><BusinessType>BM</BusinessType><YearOpened>1970</YearOpened><Specialty>Mountain</Specialty><SquareFeet>9000</SquareFeet><Brands>AW</Brands><Internet>DSL</Internet><NumberEmployees>6</NumberEmployees></StoreSurvey>",
         "2014-09-12",
         "Variety Bike Outlet",
         279,
         "2211f0a3-5a94-486c-ac43-8b2a76f40db5"
        ],
        [
         1196,
         "<StoreSurvey xmlns=\"http://schemas.microsoft.com/sqlserver/2004/07/adventure-works/StoreSurvey\"><AnnualSales>300000</AnnualSales><AnnualRevenue>30000</AnnualRevenue><BankName>Primary International</BankName><BusinessType>BM</BusinessType><YearOpened>1978</YearOpened><Specialty>Road</Specialty><SquareFeet>7000</SquareFeet><Brands>AW</Brands><Internet>DSL</Internet><NumberEmployees>4</NumberEmployees></StoreSurvey>",
         "2014-09-12",
         "Weekend Bike Tours",
         281,
         "6252826a-91a5-41e4-9348-ff0afc2b669e"
        ],
        [
         1198,
         "<StoreSurvey xmlns=\"http://schemas.microsoft.com/sqlserver/2004/07/adventure-works/StoreSurvey\"><AnnualSales>800000</AnnualSales><AnnualRevenue>80000</AnnualRevenue><BankName>Guardian Bank</BankName><BusinessType>BM</BusinessType><YearOpened>1993</YearOpened><Specialty>Road</Specialty><SquareFeet>20000</SquareFeet><Brands>AW</Brands><Internet>DSL</Internet><NumberEmployees>11</NumberEmployees></StoreSurvey>",
         "2014-09-12",
         "Fabrikam Inc., East",
         288,
         "43d11293-c15a-4e15-acae-7a1eeab66096"
        ],
        [
         1200,
         "<StoreSurvey xmlns=\"http://schemas.microsoft.com/sqlserver/2004/07/adventure-works/StoreSurvey\"><AnnualSales>800000</AnnualSales><AnnualRevenue>80000</AnnualRevenue><BankName>Primary International</BankName><BusinessType>BM</BusinessType><YearOpened>1988</YearOpened><Specialty>Road</Specialty><SquareFeet>21000</SquareFeet><Brands>3</Brands><Internet>T2</Internet><NumberEmployees>12</NumberEmployees></StoreSurvey>",
         "2014-09-12",
         "General Supplies",
         282,
         "2e8cc24d-2556-40b0-98c5-91cce9d75e1e"
        ],
        [
         1202,
         "<StoreSurvey xmlns=\"http://schemas.microsoft.com/sqlserver/2004/07/adventure-works/StoreSurvey\"><AnnualSales>800000</AnnualSales><AnnualRevenue>80000</AnnualRevenue><BankName>Reserve Security</BankName><BusinessType>BM</BusinessType><YearOpened>1996</YearOpened><Specialty>Mountain</Specialty><SquareFeet>20000</SquareFeet><Brands>4+</Brands><Internet>DSL</Internet><NumberEmployees>13</NumberEmployees></StoreSurvey>",
         "2014-09-12",
         "Noiseless Gear Company",
         279,
         "6036acc8-a7e3-4d9f-8383-31d759b8d4bc"
        ],
        [
         1204,
         "<StoreSurvey xmlns=\"http://schemas.microsoft.com/sqlserver/2004/07/adventure-works/StoreSurvey\"><AnnualSales>800000</AnnualSales><AnnualRevenue>80000</AnnualRevenue><BankName>United Security</BankName><BusinessType>BM</BusinessType><YearOpened>1991</YearOpened><Specialty>Road</Specialty><SquareFeet>18000</SquareFeet><Brands>2</Brands><Internet>DSL</Internet><NumberEmployees>14</NumberEmployees></StoreSurvey>",
         "2014-09-12",
         "Racing Toys",
         281,
         "243a84e3-1c70-4a25-a8dd-bb6c0b0c8072"
        ],
        [
         1206,
         "<StoreSurvey xmlns=\"http://schemas.microsoft.com/sqlserver/2004/07/adventure-works/StoreSurvey\"><AnnualSales>300000</AnnualSales><AnnualRevenue>30000</AnnualRevenue><BankName>Primary Bank &amp; Reserve</BankName><BusinessType>BM</BusinessType><YearOpened>1981</YearOpened><Specialty>Mountain</Specialty><SquareFeet>10000</SquareFeet><Brands>4+</Brands><Internet>DSL</Internet><NumberEmployees>3</NumberEmployees></StoreSurvey>",
         "2014-09-12",
         "Capable Sales and Service",
         280,
         "88d825c6-a877-46cb-b874-3f933ded0920"
        ],
        [
         1208,
         "<StoreSurvey xmlns=\"http://schemas.microsoft.com/sqlserver/2004/07/adventure-works/StoreSurvey\"><AnnualSales>300000</AnnualSales><AnnualRevenue>30000</AnnualRevenue><BankName>International Security</BankName><BusinessType>BM</BusinessType><YearOpened>1976</YearOpened><Specialty>Touring</Specialty><SquareFeet>10000</SquareFeet><Brands>4+</Brands><Internet>DSL</Internet><NumberEmployees>4</NumberEmployees></StoreSurvey>",
         "2014-09-12",
         "Little Sports Center",
         289,
         "de9e508e-4e51-4a6f-8c53-20be18c1dea1"
        ],
        [
         1210,
         "<StoreSurvey xmlns=\"http://schemas.microsoft.com/sqlserver/2004/07/adventure-works/StoreSurvey\"><AnnualSales>300000</AnnualSales><AnnualRevenue>30000</AnnualRevenue><BankName>Guardian Bank</BankName><BusinessType>BM</BusinessType><YearOpened>1984</YearOpened><Specialty>Road</Specialty><SquareFeet>6000</SquareFeet><Brands>3</Brands><Internet>T2</Internet><NumberEmployees>5</NumberEmployees></StoreSurvey>",
         "2014-09-12",
         "Pretty Bikes and Toys",
         290,
         "f0e72f25-41ef-4c1d-ad51-5af894f852b0"
        ],
        [
         1212,
         "<StoreSurvey xmlns=\"http://schemas.microsoft.com/sqlserver/2004/07/adventure-works/StoreSurvey\"><AnnualSales>300000</AnnualSales><AnnualRevenue>30000</AnnualRevenue><BankName>Primary International</BankName><BusinessType>BM</BusinessType><YearOpened>1979</YearOpened><Specialty>Mountain</Specialty><SquareFeet>10000</SquareFeet><Brands>3</Brands><Internet>T1</Internet><NumberEmployees>6</NumberEmployees></StoreSurvey>",
         "2014-09-12",
         "Road Way Sales and Rental",
         282,
         "89ad5863-0a77-448a-b52f-11dc514ce6f1"
        ],
        [
         1214,
         "<StoreSurvey xmlns=\"http://schemas.microsoft.com/sqlserver/2004/07/adventure-works/StoreSurvey\"><AnnualSales>300000</AnnualSales><AnnualRevenue>30000</AnnualRevenue><BankName>Reserve Security</BankName><BusinessType>BM</BusinessType><YearOpened>1987</YearOpened><Specialty>Mountain</Specialty><SquareFeet>9000</SquareFeet><Brands>2</Brands><Internet>DSL</Internet><NumberEmployees>7</NumberEmployees></StoreSurvey>",
         "2014-09-12",
         "Sturdy Toys",
         281,
         "54897e0c-a386-46e8-8065-a9cc052075bd"
        ],
        [
         1216,
         "<StoreSurvey xmlns=\"http://schemas.microsoft.com/sqlserver/2004/07/adventure-works/StoreSurvey\"><AnnualSales>300000</AnnualSales><AnnualRevenue>30000</AnnualRevenue><BankName>United Security</BankName><BusinessType>BM</BusinessType><YearOpened>1982</YearOpened><Specialty>Road</Specialty><SquareFeet>9000</SquareFeet><Brands>2</Brands><Internet>T1</Internet><NumberEmployees>8</NumberEmployees></StoreSurvey>",
         "2014-09-12",
         "Beneficial Exercises and Activities",
         277,
         "8c9fef87-a44e-4ee0-9051-39b7bdc8d552"
        ],
        [
         1218,
         "<StoreSurvey xmlns=\"http://schemas.microsoft.com/sqlserver/2004/07/adventure-works/StoreSurvey\"><AnnualSales>300000</AnnualSales><AnnualRevenue>30000</AnnualRevenue><BankName>International Bank</BankName><BusinessType>BM</BusinessType><YearOpened>1990</YearOpened><Specialty>Road</Specialty><SquareFeet>8000</SquareFeet><Brands>AW</Brands><Internet>DSL</Internet><NumberEmployees>9</NumberEmployees></StoreSurvey>",
         "2014-09-12",
         "Fad Outlet",
         280,
         "fcafe412-052f-4f3e-b8a5-28f71c755019"
        ],
        [
         1220,
         "<StoreSurvey xmlns=\"http://schemas.microsoft.com/sqlserver/2004/07/adventure-works/StoreSurvey\"><AnnualSales>800000</AnnualSales><AnnualRevenue>80000</AnnualRevenue><BankName>Primary Bank &amp; Reserve</BankName><BusinessType>BM</BusinessType><YearOpened>1985</YearOpened><Specialty>Mountain</Specialty><SquareFeet>19000</SquareFeet><Brands>4+</Brands><Internet>ISDN</Internet><NumberEmployees>10</NumberEmployees></StoreSurvey>",
         "2014-09-12",
         "Commerce Bicycle Specialists",
         289,
         "a9d77ea7-baec-46f1-b2dc-5a7ebfad788b"
        ],
        [
         1222,
         "<StoreSurvey xmlns=\"http://schemas.microsoft.com/sqlserver/2004/07/adventure-works/StoreSurvey\"><AnnualSales>800000</AnnualSales><AnnualRevenue>80000</AnnualRevenue><BankName>International Security</BankName><BusinessType>BM</BusinessType><YearOpened>1993</YearOpened><Specialty>Road</Specialty><SquareFeet>18000</SquareFeet><Brands>4+</Brands><Internet>ISDN</Internet><NumberEmployees>11</NumberEmployees></StoreSurvey>",
         "2014-09-12",
         "Township Inn",
         290,
         "01cd6b0b-1c26-4490-bc7b-fa20c8adab95"
        ],
        [
         1224,
         "<StoreSurvey xmlns=\"http://schemas.microsoft.com/sqlserver/2004/07/adventure-works/StoreSurvey\"><AnnualSales>800000</AnnualSales><AnnualRevenue>80000</AnnualRevenue><BankName>Guardian Bank</BankName><BusinessType>BM</BusinessType><YearOpened>1988</YearOpened><Specialty>Road</Specialty><SquareFeet>21000</SquareFeet><Brands>AW</Brands><Internet>DSL</Internet><NumberEmployees>12</NumberEmployees></StoreSurvey>",
         "2014-09-12",
         "Acceptable Sales & Service",
         282,
         "1b4d0a1b-5b60-46af-97b3-03cb5449dc87"
        ],
        [
         1226,
         "<StoreSurvey xmlns=\"http://schemas.microsoft.com/sqlserver/2004/07/adventure-works/StoreSurvey\"><AnnualSales>800000</AnnualSales><AnnualRevenue>80000</AnnualRevenue><BankName>Primary International</BankName><BusinessType>BM</BusinessType><YearOpened>1996</YearOpened><Specialty>Road</Specialty><SquareFeet>19000</SquareFeet><Brands>2</Brands><Internet>DSL</Internet><NumberEmployees>13</NumberEmployees></StoreSurvey>",
         "2014-09-12",
         "Brown Bicycle Company",
         281,
         "a61b8d5f-ddda-4cde-9607-a6d4d446a5f3"
        ],
        [
         1228,
         "<StoreSurvey xmlns=\"http://schemas.microsoft.com/sqlserver/2004/07/adventure-works/StoreSurvey\"><AnnualSales>800000</AnnualSales><AnnualRevenue>80000</AnnualRevenue><BankName>Reserve Security</BankName><BusinessType>BM</BusinessType><YearOpened>1991</YearOpened><Specialty>Road</Specialty><SquareFeet>19000</SquareFeet><Brands>4+</Brands><Internet>T1</Internet><NumberEmployees>14</NumberEmployees></StoreSurvey>",
         "2014-09-12",
         "District Mall",
         277,
         "2a26b47b-13a6-474e-83f9-a1022d05fce3"
        ],
        [
         1230,
         "<StoreSurvey xmlns=\"http://schemas.microsoft.com/sqlserver/2004/07/adventure-works/StoreSurvey\"><AnnualSales>800000</AnnualSales><AnnualRevenue>80000</AnnualRevenue><BankName>United Security</BankName><BusinessType>BM</BusinessType><YearOpened>1999</YearOpened><Specialty>Touring</Specialty><SquareFeet>19000</SquareFeet><Brands>4+</Brands><Internet>T2</Internet><NumberEmployees>15</NumberEmployees></StoreSurvey>",
         "2014-09-12",
         "Fitness Supplies",
         280,
         "fc972e23-ab3e-48b2-8270-6defb1b8a796"
        ],
        [
         1232,
         "<StoreSurvey xmlns=\"http://schemas.microsoft.com/sqlserver/2004/07/adventure-works/StoreSurvey\"><AnnualSales>800000</AnnualSales><AnnualRevenue>80000</AnnualRevenue><BankName>International Bank</BankName><BusinessType>BM</BusinessType><YearOpened>1994</YearOpened><Specialty>Touring</Specialty><SquareFeet>19000</SquareFeet><Brands>AW</Brands><Internet>DSL</Internet><NumberEmployees>16</NumberEmployees></StoreSurvey>",
         "2014-09-12",
         "Mail Market",
         289,
         "b60f9c7d-9e7f-41b0-9589-235dde103ae0"
        ],
        [
         1234,
         "<StoreSurvey xmlns=\"http://schemas.microsoft.com/sqlserver/2004/07/adventure-works/StoreSurvey\"><AnnualSales>800000</AnnualSales><AnnualRevenue>80000</AnnualRevenue><BankName>Primary Bank &amp; Reserve</BankName><BusinessType>BM</BusinessType><YearOpened>1987</YearOpened><Specialty>Mountain</Specialty><SquareFeet>19000</SquareFeet><Brands>4+</Brands><Internet>DSL</Internet><NumberEmployees>17</NumberEmployees></StoreSurvey>",
         "2014-09-12",
         "Spare Parts Co.",
         290,
         "33679919-5665-4ce3-924f-b0df10ee7eb5"
        ],
        [
         1236,
         "<StoreSurvey xmlns=\"http://schemas.microsoft.com/sqlserver/2004/07/adventure-works/StoreSurvey\"><AnnualSales>800000</AnnualSales><AnnualRevenue>80000</AnnualRevenue><BankName>International Security</BankName><BusinessType>BM</BusinessType><YearOpened>1997</YearOpened><Specialty>Mountain</Specialty><SquareFeet>21000</SquareFeet><Brands>4+</Brands><Internet>T1</Internet><NumberEmployees>18</NumberEmployees></StoreSurvey>",
         "2014-09-12",
         "Twelfth Bike Store",
         282,
         "7e41175a-1bbd-4b0e-b2ba-f66c90efa540"
        ],
        [
         1238,
         "<StoreSurvey xmlns=\"http://schemas.microsoft.com/sqlserver/2004/07/adventure-works/StoreSurvey\"><AnnualSales>300000</AnnualSales><AnnualRevenue>30000</AnnualRevenue><BankName>Guardian Bank</BankName><BusinessType>BM</BusinessType><YearOpened>1982</YearOpened><Specialty>Road</Specialty><SquareFeet>7000</SquareFeet><Brands>3</Brands><Internet>DSL</Internet><NumberEmployees>8</NumberEmployees></StoreSurvey>",
         "2014-09-12",
         "Consolidated Messenger",
         278,
         "78b4a61e-0999-49b7-a104-9e2faaa8b92f"
        ],
        [
         1240,
         "<StoreSurvey xmlns=\"http://schemas.microsoft.com/sqlserver/2004/07/adventure-works/StoreSurvey\"><AnnualSales>300000</AnnualSales><AnnualRevenue>30000</AnnualRevenue><BankName>Primary International</BankName><BusinessType>BM</BusinessType><YearOpened>1976</YearOpened><Specialty>Road</Specialty><SquareFeet>10000</SquareFeet><Brands>4+</Brands><Internet>T2</Internet><NumberEmployees>5</NumberEmployees></StoreSurvey>",
         "2014-09-12",
         "Daring Rides",
         279,
         "544095f1-f43c-44d5-b3e2-ecb0a5ecacd4"
        ],
        [
         1242,
         "<StoreSurvey xmlns=\"http://schemas.microsoft.com/sqlserver/2004/07/adventure-works/StoreSurvey\"><AnnualSales>300000</AnnualSales><AnnualRevenue>30000</AnnualRevenue><BankName>Reserve Security</BankName><BusinessType>BM</BusinessType><YearOpened>1970</YearOpened><Specialty>Mountain</Specialty><SquareFeet>8000</SquareFeet><Brands>3</Brands><Internet>T2</Internet><NumberEmployees>2</NumberEmployees></StoreSurvey>",
         "2014-09-12",
         "Field Trip Store",
         276,
         "4dd9789c-dd7c-4c82-9bee-356e105fe143"
        ],
        [
         1244,
         "<StoreSurvey xmlns=\"http://schemas.microsoft.com/sqlserver/2004/07/adventure-works/StoreSurvey\"><AnnualSales>800000</AnnualSales><AnnualRevenue>80000</AnnualRevenue><BankName>Guardian Bank</BankName><BusinessType>BM</BusinessType><YearOpened>1997</YearOpened><Specialty>Road</Specialty><SquareFeet>22000</SquareFeet><Brands>AW</Brands><Internet>DSL</Internet><NumberEmployees>17</NumberEmployees></StoreSurvey>",
         "2014-09-12",
         "Finish and Sealant Products",
         281,
         "e6398b3c-082f-4ca0-9dc8-2aec08797505"
        ],
        [
         1246,
         "<StoreSurvey xmlns=\"http://schemas.microsoft.com/sqlserver/2004/07/adventure-works/StoreSurvey\"><AnnualSales>800000</AnnualSales><AnnualRevenue>80000</AnnualRevenue><BankName>Primary International</BankName><BusinessType>BM</BusinessType><YearOpened>1975</YearOpened><Specialty>Mountain</Specialty><SquareFeet>19000</SquareFeet><Brands>2</Brands><Internet>DSL</Internet><NumberEmployees>18</NumberEmployees></StoreSurvey>",
         "2014-09-12",
         "Finer Parts Shop",
         283,
         "57d0e838-dc59-449e-98a4-b86c6b507dbf"
        ],
        [
         1248,
         "<StoreSurvey xmlns=\"http://schemas.microsoft.com/sqlserver/2004/07/adventure-works/StoreSurvey\"><AnnualSales>800000</AnnualSales><AnnualRevenue>80000</AnnualRevenue><BankName>Reserve Security</BankName><BusinessType>BM</BusinessType><YearOpened>2000</YearOpened><Specialty>Touring</Specialty><SquareFeet>22000</SquareFeet><Brands>2</Brands><Internet>DSL</Internet><NumberEmployees>19</NumberEmployees></StoreSurvey>",
         "2014-09-12",
         "Glossy Bikes",
         275,
         "9a4b9ccb-bb2f-4fad-88de-2e62d19f20c8"
        ],
        [
         1250,
         "<StoreSurvey xmlns=\"http://schemas.microsoft.com/sqlserver/2004/07/adventure-works/StoreSurvey\"><AnnualSales>1000000</AnnualSales><AnnualRevenue>100000</AnnualRevenue><BankName>United Security</BankName><BusinessType>BM</BusinessType><YearOpened>2000</YearOpened><Specialty>Touring</Specialty><SquareFeet>27000</SquareFeet><Brands>3</Brands><Internet>T2</Internet><NumberEmployees>20</NumberEmployees></StoreSurvey>",
         "2014-09-12",
         "Next Door Cycles",
         288,
         "b83544ef-3eac-4e68-b36d-12ab33dcd6b3"
        ],
        [
         1252,
         "<StoreSurvey xmlns=\"http://schemas.microsoft.com/sqlserver/2004/07/adventure-works/StoreSurvey\"><AnnualSales>1000000</AnnualSales><AnnualRevenue>100000</AnnualRevenue><BankName>International Security</BankName><BusinessType>BM</BusinessType><YearOpened>2000</YearOpened><Specialty>Mountain</Specialty><SquareFeet>26000</SquareFeet><Brands>4+</Brands><Internet>DSL</Internet><NumberEmployees>20</NumberEmployees></StoreSurvey>",
         "2014-09-12",
         "Up-To-Date Sports",
         282,
         "dd55a844-7fb1-4dff-a273-843e4a5753e0"
        ],
        [
         1254,
         "<StoreSurvey xmlns=\"http://schemas.microsoft.com/sqlserver/2004/07/adventure-works/StoreSurvey\"><AnnualSales>800000</AnnualSales><AnnualRevenue>80000</AnnualRevenue><BankName>Guardian Bank</BankName><BusinessType>BM</BusinessType><YearOpened>1994</YearOpened><Specialty>Road</Specialty><SquareFeet>20000</SquareFeet><Brands>4+</Brands><Internet>DSL</Internet><NumberEmployees>18</NumberEmployees></StoreSurvey>",
         "2014-09-12",
         "Mountain Bike Center",
         281,
         "d937b41e-b8e0-4c46-91ae-352e6b37c1fc"
        ],
        [
         1256,
         "<StoreSurvey xmlns=\"http://schemas.microsoft.com/sqlserver/2004/07/adventure-works/StoreSurvey\"><AnnualSales>800000</AnnualSales><AnnualRevenue>80000</AnnualRevenue><BankName>Primary International</BankName><BusinessType>BM</BusinessType><YearOpened>1988</YearOpened><Specialty>Mountain</Specialty><SquareFeet>20000</SquareFeet><Brands>AW</Brands><Internet>T2</Internet><NumberEmployees>16</NumberEmployees></StoreSurvey>",
         "2014-09-12",
         "Specialty Sports Store",
         277,
         "5b3d4ad5-0f11-4f5e-9ed4-4f0aa9472762"
        ],
        [
         1258,
         "<StoreSurvey xmlns=\"http://schemas.microsoft.com/sqlserver/2004/07/adventure-works/StoreSurvey\"><AnnualSales>800000</AnnualSales><AnnualRevenue>80000</AnnualRevenue><BankName>Reserve Security</BankName><BusinessType>BM</BusinessType><YearOpened>1982</YearOpened><Specialty>Road</Specialty><SquareFeet>21000</SquareFeet><Brands>2</Brands><Internet>DSL</Internet><NumberEmployees>14</NumberEmployees></StoreSurvey>",
         "2014-09-12",
         "Scooters and Bikes Store",
         280,
         "9240a9e4-b7f9-40f2-9d2a-c01f78c45c3d"
        ],
        [
         1260,
         "<StoreSurvey xmlns=\"http://schemas.microsoft.com/sqlserver/2004/07/adventure-works/StoreSurvey\"><AnnualSales>800000</AnnualSales><AnnualRevenue>80000</AnnualRevenue><BankName>United Security</BankName><BusinessType>BM</BusinessType><YearOpened>1976</YearOpened><Specialty>Mountain</Specialty><SquareFeet>22000</SquareFeet><Brands>3</Brands><Internet>T1</Internet><NumberEmployees>12</NumberEmployees></StoreSurvey>",
         "2014-09-12",
         "Closest Bicycle Store",
         289,
         "67dad033-715a-4a60-abcb-ee68e898dd6a"
        ],
        [
         1262,
         "<StoreSurvey xmlns=\"http://schemas.microsoft.com/sqlserver/2004/07/adventure-works/StoreSurvey\"><AnnualSales>800000</AnnualSales><AnnualRevenue>80000</AnnualRevenue><BankName>International Bank</BankName><BusinessType>BM</BusinessType><YearOpened>1970</YearOpened><Specialty>Touring</Specialty><SquareFeet>19000</SquareFeet><Brands>4+</Brands><Internet>DSL</Internet><NumberEmployees>10</NumberEmployees></StoreSurvey>",
         "2014-09-12",
         "Roadway Bicycle Supply",
         290,
         "17fe3739-c3ab-4d95-ac2b-a55ff2ce3afe"
        ],
        [
         1264,
         "<StoreSurvey xmlns=\"http://schemas.microsoft.com/sqlserver/2004/07/adventure-works/StoreSurvey\"><AnnualSales>300000</AnnualSales><AnnualRevenue>30000</AnnualRevenue><BankName>Primary Bank &amp; Reserve</BankName><BusinessType>BM</BusinessType><YearOpened>1975</YearOpened><Specialty>Road</Specialty><SquareFeet>7000</SquareFeet><Brands>3</Brands><Internet>T2</Internet><NumberEmployees>8</NumberEmployees></StoreSurvey>",
         "2014-09-12",
         "Refined Department Stores",
         282,
         "4ec6c861-04e8-479e-ba0d-17217795631d"
        ],
        [
         1266,
         "<StoreSurvey xmlns=\"http://schemas.microsoft.com/sqlserver/2004/07/adventure-works/StoreSurvey\"><AnnualSales>300000</AnnualSales><AnnualRevenue>30000</AnnualRevenue><BankName>International Security</BankName><BusinessType>BM</BusinessType><YearOpened>1970</YearOpened><Specialty>Road</Specialty><SquareFeet>10000</SquareFeet><Brands>3</Brands><Internet>DSL</Internet><NumberEmployees>6</NumberEmployees></StoreSurvey>",
         "2014-09-12",
         "Reasonable Bicycle Sales",
         281,
         "baa74406-e6a4-430d-8d72-3bce10d8c088"
        ],
        [
         1268,
         "<StoreSurvey xmlns=\"http://schemas.microsoft.com/sqlserver/2004/07/adventure-works/StoreSurvey\"><AnnualSales>300000</AnnualSales><AnnualRevenue>30000</AnnualRevenue><BankName>Guardian Bank</BankName><BusinessType>BM</BusinessType><YearOpened>1978</YearOpened><Specialty>Mountain</Specialty><SquareFeet>8000</SquareFeet><Brands>3</Brands><Internet>DSL</Internet><NumberEmployees>4</NumberEmployees></StoreSurvey>",
         "2014-09-12",
         "Out-of-the-Way Hotels",
         277,
         "4229e3be-ee6a-4692-9147-ac75a788f770"
        ],
        [
         1270,
         "<StoreSurvey xmlns=\"http://schemas.microsoft.com/sqlserver/2004/07/adventure-works/StoreSurvey\"><AnnualSales>300000</AnnualSales><AnnualRevenue>30000</AnnualRevenue><BankName>Primary International</BankName><BusinessType>BM</BusinessType><YearOpened>1973</YearOpened><Specialty>Mountain</Specialty><SquareFeet>9000</SquareFeet><Brands>AW</Brands><Internet>DSL</Internet><NumberEmployees>2</NumberEmployees></StoreSurvey>",
         "2014-09-12",
         "Outdoor Sports Supply",
         280,
         "1a149464-a393-435e-ae32-6049a6ac1275"
        ],
        [
         1272,
         "<StoreSurvey xmlns=\"http://schemas.microsoft.com/sqlserver/2004/07/adventure-works/StoreSurvey\"><AnnualSales>300000</AnnualSales><AnnualRevenue>30000</AnnualRevenue><BankName>Reserve Security</BankName><BusinessType>BM</BusinessType><YearOpened>1981</YearOpened><Specialty>Road</Specialty><SquareFeet>8000</SquareFeet><Brands>AW</Brands><Internet>DSL</Internet><NumberEmployees>3</NumberEmployees></StoreSurvey>",
         "2014-09-12",
         "Outdoor Aerobic Systems Company",
         289,
         "2c9d7f50-6431-4361-9843-0cf1601b23b9"
        ],
        [
         1274,
         "<StoreSurvey xmlns=\"http://schemas.microsoft.com/sqlserver/2004/07/adventure-works/StoreSurvey\"><AnnualSales>300000</AnnualSales><AnnualRevenue>30000</AnnualRevenue><BankName>United Security</BankName><BusinessType>BM</BusinessType><YearOpened>1976</YearOpened><Specialty>Road</Specialty><SquareFeet>7000</SquareFeet><Brands>3</Brands><Internet>DSL</Internet><NumberEmployees>4</NumberEmployees></StoreSurvey>",
         "2014-09-12",
         "Self-Contained Cycle Parts Company",
         290,
         "8e256f9e-fecd-4695-96f0-ea82e830a79f"
        ],
        [
         1276,
         "<StoreSurvey xmlns=\"http://schemas.microsoft.com/sqlserver/2004/07/adventure-works/StoreSurvey\"><AnnualSales>300000</AnnualSales><AnnualRevenue>30000</AnnualRevenue><BankName>International Bank</BankName><BusinessType>BM</BusinessType><YearOpened>1984</YearOpened><Specialty>Touring</Specialty><SquareFeet>9000</SquareFeet><Brands>3</Brands><Internet>T2</Internet><NumberEmployees>5</NumberEmployees></StoreSurvey>",
         "2014-09-12",
         "Metal Clearing House",
         282,
         "ca15bc7f-6499-41bc-9737-f8b289004af6"
        ],
        [
         1278,
         "<StoreSurvey xmlns=\"http://schemas.microsoft.com/sqlserver/2004/07/adventure-works/StoreSurvey\"><AnnualSales>300000</AnnualSales><AnnualRevenue>30000</AnnualRevenue><BankName>Primary Bank &amp; Reserve</BankName><BusinessType>BM</BusinessType><YearOpened>1979</YearOpened><Specialty>Mountain</Specialty><SquareFeet>10000</SquareFeet><Brands>3</Brands><Internet>DSL</Internet><NumberEmployees>6</NumberEmployees></StoreSurvey>",
         "2014-09-12",
         "Many Bikes Store",
         281,
         "c9a6c2a1-c616-455d-b37b-1fc154f568c8"
        ],
        [
         1280,
         "<StoreSurvey xmlns=\"http://schemas.microsoft.com/sqlserver/2004/07/adventure-works/StoreSurvey\"><AnnualSales>300000</AnnualSales><AnnualRevenue>30000</AnnualRevenue><BankName>International Security</BankName><BusinessType>BM</BusinessType><YearOpened>1987</YearOpened><Specialty>Road</Specialty><SquareFeet>7000</SquareFeet><Brands>AW</Brands><Internet>T1</Internet><NumberEmployees>7</NumberEmployees></StoreSurvey>",
         "2014-09-12",
         "Largest Bike Store",
         277,
         "12c44c5f-e2a2-4497-8e32-d2fea261c96b"
        ],
        [
         1282,
         "<StoreSurvey xmlns=\"http://schemas.microsoft.com/sqlserver/2004/07/adventure-works/StoreSurvey\"><AnnualSales>300000</AnnualSales><AnnualRevenue>30000</AnnualRevenue><BankName>Guardian Bank</BankName><BusinessType>BM</BusinessType><YearOpened>1982</YearOpened><Specialty>Touring</Specialty><SquareFeet>10000</SquareFeet><Brands>2</Brands><Internet>T1</Internet><NumberEmployees>8</NumberEmployees></StoreSurvey>",
         "2014-09-12",
         "Kickstands and Accessories Company",
         280,
         "15cf6264-3356-4e35-ba49-de49ce8156db"
        ],
        [
         1284,
         "<StoreSurvey xmlns=\"http://schemas.microsoft.com/sqlserver/2004/07/adventure-works/StoreSurvey\"><AnnualSales>300000</AnnualSales><AnnualRevenue>30000</AnnualRevenue><BankName>Primary International</BankName><BusinessType>BM</BusinessType><YearOpened>1990</YearOpened><Specialty>Touring</Specialty><SquareFeet>8000</SquareFeet><Brands>3</Brands><Internet>T1</Internet><NumberEmployees>9</NumberEmployees></StoreSurvey>",
         "2014-09-12",
         "Instruments and Parts Company",
         289,
         "3f04b809-5be1-4449-9e42-585eef390c2d"
        ],
        [
         1286,
         "<StoreSurvey xmlns=\"http://schemas.microsoft.com/sqlserver/2004/07/adventure-works/StoreSurvey\"><AnnualSales>800000</AnnualSales><AnnualRevenue>80000</AnnualRevenue><BankName>Reserve Security</BankName><BusinessType>BM</BusinessType><YearOpened>1985</YearOpened><Specialty>Touring</Specialty><SquareFeet>17000</SquareFeet><Brands>3</Brands><Internet>T1</Internet><NumberEmployees>10</NumberEmployees></StoreSurvey>",
         "2014-09-12",
         "Neighborhood Bicycle Storehouse",
         290,
         "f4468b06-bc53-4c4d-9524-20ad28f1626e"
        ],
        [
         1288,
         "<StoreSurvey xmlns=\"http://schemas.microsoft.com/sqlserver/2004/07/adventure-works/StoreSurvey\"><AnnualSales>800000</AnnualSales><AnnualRevenue>80000</AnnualRevenue><BankName>United Security</BankName><BusinessType>BM</BusinessType><YearOpened>1993</YearOpened><Specialty>Road</Specialty><SquareFeet>21000</SquareFeet><Brands>AW</Brands><Internet>T1</Internet><NumberEmployees>11</NumberEmployees></StoreSurvey>",
         "2014-09-12",
         "Gear-Shift Bikes Limited",
         282,
         "29188bcd-ed2a-4518-9a83-d36e20043fe7"
        ],
        [
         1290,
         "<StoreSurvey xmlns=\"http://schemas.microsoft.com/sqlserver/2004/07/adventure-works/StoreSurvey\"><AnnualSales>800000</AnnualSales><AnnualRevenue>80000</AnnualRevenue><BankName>International Bank</BankName><BusinessType>BM</BusinessType><YearOpened>1988</YearOpened><Specialty>Mountain</Specialty><SquareFeet>21000</SquareFeet><Brands>2</Brands><Internet>T1</Internet><NumberEmployees>12</NumberEmployees></StoreSurvey>",
         "2014-09-12",
         "Frugal Bike Shop",
         281,
         "c479a10e-fb4d-4c85-b2a3-d12db41d2423"
        ],
        [
         1292,
         "<StoreSurvey xmlns=\"http://schemas.microsoft.com/sqlserver/2004/07/adventure-works/StoreSurvey\"><AnnualSales>3000000</AnnualSales><AnnualRevenue>300000</AnnualRevenue><BankName>Guardian Bank</BankName><BusinessType>OS</BusinessType><YearOpened>1980</YearOpened><Specialty>Touring</Specialty><SquareFeet>75000</SquareFeet><Brands>4+</Brands><Internet>DSL</Internet><NumberEmployees>89</NumberEmployees></StoreSurvey>",
         "2014-09-12",
         "Family Entertainment Center",
         280,
         "785c93ca-4ad3-4427-a790-8437cbb3a3ee"
        ],
        [
         1294,
         "<StoreSurvey xmlns=\"http://schemas.microsoft.com/sqlserver/2004/07/adventure-works/StoreSurvey\"><AnnualSales>3000000</AnnualSales><AnnualRevenue>300000</AnnualRevenue><BankName>International Security</BankName><BusinessType>OS</BusinessType><YearOpened>1972</YearOpened><Specialty>Mountain</Specialty><SquareFeet>78000</SquareFeet><Brands>4+</Brands><Internet>DSL</Internet><NumberEmployees>90</NumberEmployees></StoreSurvey>",
         "2014-09-12",
         "Go-cart and Bike Specialists",
         277,
         "d8a88a07-ac1c-4b24-9a78-75bb4ff04852"
        ],
        [
         1296,
         "<StoreSurvey xmlns=\"http://schemas.microsoft.com/sqlserver/2004/07/adventure-works/StoreSurvey\"><AnnualSales>3000000</AnnualSales><AnnualRevenue>300000</AnnualRevenue><BankName>Primary Bank &amp; Reserve</BankName><BusinessType>OS</BusinessType><YearOpened>1977</YearOpened><Specialty>Mountain</Specialty><SquareFeet>78000</SquareFeet><Brands>3</Brands><Internet>T1</Internet><NumberEmployees>91</NumberEmployees></StoreSurvey>",
         "2014-09-12",
         "Trailblazing Sports",
         281,
         "276c70d2-c4d6-458e-9a49-0036b93bb544"
        ],
        [
         1298,
         "<StoreSurvey xmlns=\"http://schemas.microsoft.com/sqlserver/2004/07/adventure-works/StoreSurvey\"><AnnualSales>3000000</AnnualSales><AnnualRevenue>300000</AnnualRevenue><BankName>International Bank</BankName><BusinessType>OS</BusinessType><YearOpened>1987</YearOpened><Specialty>Mountain</Specialty><SquareFeet>79000</SquareFeet><Brands>4+</Brands><Internet>DSL</Internet><NumberEmployees>92</NumberEmployees></StoreSurvey>",
         "2014-09-12",
         "Racing Partners",
         282,
         "e18d136c-7303-49ed-a534-e54680cace07"
        ],
        [
         1300,
         "<StoreSurvey xmlns=\"http://schemas.microsoft.com/sqlserver/2004/07/adventure-works/StoreSurvey\"><AnnualSales>3000000</AnnualSales><AnnualRevenue>300000</AnnualRevenue><BankName>United Security</BankName><BusinessType>OS</BusinessType><YearOpened>1974</YearOpened><Specialty>Touring</Specialty><SquareFeet>76000</SquareFeet><Brands>2</Brands><Internet>ISDN</Internet><NumberEmployees>93</NumberEmployees></StoreSurvey>",
         "2014-09-12",
         "Perfect Toys",
         290,
         "06e14015-df3d-4a8d-9998-d6c752f05a02"
        ],
        [
         1302,
         "<StoreSurvey xmlns=\"http://schemas.microsoft.com/sqlserver/2004/07/adventure-works/StoreSurvey\"><AnnualSales>3000000</AnnualSales><AnnualRevenue>300000</AnnualRevenue><BankName>Reserve Security</BankName><BusinessType>OS</BusinessType><YearOpened>1974</YearOpened><Specialty>Mountain</Specialty><SquareFeet>77000</SquareFeet><Brands>2</Brands><Internet>DSL</Internet><NumberEmployees>94</NumberEmployees></StoreSurvey>",
         "2014-09-12",
         "Exhibition Showroom",
         289,
         "a7788438-9873-4c7b-98e9-f8bbb6c8490e"
        ],
        [
         1304,
         "<StoreSurvey xmlns=\"http://schemas.microsoft.com/sqlserver/2004/07/adventure-works/StoreSurvey\"><AnnualSales>3000000</AnnualSales><AnnualRevenue>300000</AnnualRevenue><BankName>Primary International</BankName><BusinessType>OS</BusinessType><YearOpened>1980</YearOpened><Specialty>Touring</Specialty><SquareFeet>75000</SquareFeet><Brands>3</Brands><Internet>T1</Internet><NumberEmployees>95</NumberEmployees></StoreSurvey>",
         "2014-09-12",
         "Authorized Bike Sales and Rental",
         280,
         "d1966056-3822-4f4d-a687-14eba601642c"
        ],
        [
         1306,
         "<StoreSurvey xmlns=\"http://schemas.microsoft.com/sqlserver/2004/07/adventure-works/StoreSurvey\"><AnnualSales>3000000</AnnualSales><AnnualRevenue>300000</AnnualRevenue><BankName>Guardian Bank</BankName><BusinessType>OS</BusinessType><YearOpened>1986</YearOpened><Specialty>Touring</Specialty><SquareFeet>80000</SquareFeet><Brands>2</Brands><Internet>T1</Internet><NumberEmployees>96</NumberEmployees></StoreSurvey>",
         "2014-09-12",
         "Two-Seater Bikes",
         277,
         "2d7135a8-73a7-4efe-8b67-87fd720c4b86"
        ],
        [
         1308,
         "<StoreSurvey xmlns=\"http://schemas.microsoft.com/sqlserver/2004/07/adventure-works/StoreSurvey\"><AnnualSales>3000000</AnnualSales><AnnualRevenue>300000</AnnualRevenue><BankName>Primary Bank &amp; Reserve</BankName><BusinessType>OS</BusinessType><YearOpened>1992</YearOpened><Specialty>Road</Specialty><SquareFeet>79000</SquareFeet><Brands>3</Brands><Internet>T2</Internet><NumberEmployees>97</NumberEmployees></StoreSurvey>",
         "2014-09-12",
         "More Bikes!",
         276,
         "f27b7f9d-045a-49b7-88d6-b11a2beda905"
        ],
        [
         1310,
         "<StoreSurvey xmlns=\"http://schemas.microsoft.com/sqlserver/2004/07/adventure-works/StoreSurvey\"><AnnualSales>3000000</AnnualSales><AnnualRevenue>300000</AnnualRevenue><BankName>International Bank</BankName><BusinessType>OS</BusinessType><YearOpened>1998</YearOpened><Specialty>Mountain</Specialty><SquareFeet>80000</SquareFeet><Brands>4+</Brands><Internet>ISDN</Internet><NumberEmployees>98</NumberEmployees></StoreSurvey>",
         "2014-09-12",
         "Unified Sports Company",
         279,
         "5ce11163-c07a-4383-88ad-e0ef5bc0f040"
        ],
        [
         1312,
         "<StoreSurvey xmlns=\"http://schemas.microsoft.com/sqlserver/2004/07/adventure-works/StoreSurvey\"><AnnualSales>3000000</AnnualSales><AnnualRevenue>300000</AnnualRevenue><BankName>United Security</BankName><BusinessType>OS</BusinessType><YearOpened>1999</YearOpened><Specialty>Road</Specialty><SquareFeet>80000</SquareFeet><Brands>3</Brands><Internet>DSL</Internet><NumberEmployees>99</NumberEmployees></StoreSurvey>",
         "2014-09-12",
         "National Manufacturing",
         278,
         "bbbe2820-9426-4cb9-a4ca-76fe78175e99"
        ],
        [
         1314,
         "<StoreSurvey xmlns=\"http://schemas.microsoft.com/sqlserver/2004/07/adventure-works/StoreSurvey\"><AnnualSales>3000000</AnnualSales><AnnualRevenue>300000</AnnualRevenue><BankName>Reserve Security</BankName><BusinessType>OS</BusinessType><YearOpened>1999</YearOpened><Specialty>Mountain</Specialty><SquareFeet>78000</SquareFeet><Brands>4+</Brands><Internet>DSL</Internet><NumberEmployees>100</NumberEmployees></StoreSurvey>",
         "2014-09-12",
         "Volume Bike Sellers",
         286,
         "e7efaebc-d62c-4744-9613-57f093f71db6"
        ],
        [
         1316,
         "<StoreSurvey xmlns=\"http://schemas.microsoft.com/sqlserver/2004/07/adventure-works/StoreSurvey\"><AnnualSales>3000000</AnnualSales><AnnualRevenue>300000</AnnualRevenue><BankName>Primary International</BankName><BusinessType>OS</BusinessType><YearOpened>1979</YearOpened><Specialty>Road</Specialty><SquareFeet>73000</SquareFeet><Brands>2</Brands><Internet>T1</Internet><NumberEmployees>66</NumberEmployees></StoreSurvey>",
         "2014-09-12",
         "Wheelsets Storehouse",
         275,
         "286465b6-93ec-4ee3-b33a-b5ba2c77bde1"
        ],
        [
         1318,
         "<StoreSurvey xmlns=\"http://schemas.microsoft.com/sqlserver/2004/07/adventure-works/StoreSurvey\"><AnnualSales>1500000</AnnualSales><AnnualRevenue>150000</AnnualRevenue><BankName>Reserve Security</BankName><BusinessType>OS</BusinessType><YearOpened>1974</YearOpened><Specialty>Touring</Specialty><SquareFeet>38000</SquareFeet><Brands>2</Brands><Internet>DSL</Internet><NumberEmployees>40</NumberEmployees></StoreSurvey>",
         "2014-09-12",
         "Town Industries",
         277,
         "5642c175-e11f-490a-9590-8d5211692d60"
        ],
        [
         1320,
         "<StoreSurvey xmlns=\"http://schemas.microsoft.com/sqlserver/2004/07/adventure-works/StoreSurvey\"><AnnualSales>1500000</AnnualSales><AnnualRevenue>150000</AnnualRevenue><BankName>Primary International</BankName><BusinessType>OS</BusinessType><YearOpened>1980</YearOpened><Specialty>Mountain</Specialty><SquareFeet>41000</SquareFeet><Brands>4+</Brands><Internet>DSL</Internet><NumberEmployees>43</NumberEmployees></StoreSurvey>",
         "2014-09-12",
         "Security Racks and Locks Wholesalers",
         281,
         "69a30a7b-7b6a-43e1-a2f2-438909377803"
        ],
        [
         1322,
         "<StoreSurvey xmlns=\"http://schemas.microsoft.com/sqlserver/2004/07/adventure-works/StoreSurvey\"><AnnualSales>1500000</AnnualSales><AnnualRevenue>150000</AnnualRevenue><BankName>Guardian Bank</BankName><BusinessType>OS</BusinessType><YearOpened>1986</YearOpened><Specialty>Mountain</Specialty><SquareFeet>40000</SquareFeet><Brands>2</Brands><Internet>T2</Internet><NumberEmployees>46</NumberEmployees></StoreSurvey>",
         "2014-09-12",
         "Rapid Bikes",
         282,
         "476cdcad-c2c1-4036-b4d0-1469a7b29749"
        ],
        [
         1324,
         "<StoreSurvey xmlns=\"http://schemas.microsoft.com/sqlserver/2004/07/adventure-works/StoreSurvey\"><AnnualSales>1500000</AnnualSales><AnnualRevenue>150000</AnnualRevenue><BankName>International Security</BankName><BusinessType>OS</BusinessType><YearOpened>1992</YearOpened><Specialty>Mountain</Specialty><SquareFeet>41000</SquareFeet><Brands>4+</Brands><Internet>T1</Internet><NumberEmployees>49</NumberEmployees></StoreSurvey>",
         "2014-09-12",
         "Metro Sports Equipment",
         290,
         "e522c053-ff26-41cf-8c15-d36b57eb863d"
        ],
        [
         1326,
         "<StoreSurvey xmlns=\"http://schemas.microsoft.com/sqlserver/2004/07/adventure-works/StoreSurvey\"><AnnualSales>3000000</AnnualSales><AnnualRevenue>300000</AnnualRevenue><BankName>Primary Bank &amp; Reserve</BankName><BusinessType>OS</BusinessType><YearOpened>1998</YearOpened><Specialty>Road</Specialty><SquareFeet>71000</SquareFeet><Brands>4+</Brands><Internet>DSL</Internet><NumberEmployees>52</NumberEmployees></StoreSurvey>",
         "2014-09-12",
         "Nearby Sporting Goods",
         289,
         "5b2933ee-ec29-4e35-9b6a-bef23a42d046"
        ],
        [
         1328,
         "<StoreSurvey xmlns=\"http://schemas.microsoft.com/sqlserver/2004/07/adventure-works/StoreSurvey\"><AnnualSales>3000000</AnnualSales><AnnualRevenue>300000</AnnualRevenue><BankName>International Bank</BankName><BusinessType>OS</BusinessType><YearOpened>1999</YearOpened><Specialty>Mountain</Specialty><SquareFeet>70000</SquareFeet><Brands>2</Brands><Internet>DSL</Internet><NumberEmployees>55</NumberEmployees></StoreSurvey>",
         "2014-09-12",
         "Front Sporting Goods",
         280,
         "5aed8117-0923-489c-864b-db7a601daf33"
        ],
        [
         1330,
         "<StoreSurvey xmlns=\"http://schemas.microsoft.com/sqlserver/2004/07/adventure-works/StoreSurvey\"><AnnualSales>3000000</AnnualSales><AnnualRevenue>300000</AnnualRevenue><BankName>United Security</BankName><BusinessType>OS</BusinessType><YearOpened>1999</YearOpened><Specialty>Road</Specialty><SquareFeet>69000</SquareFeet><Brands>2</Brands><Internet>DSL</Internet><NumberEmployees>58</NumberEmployees></StoreSurvey>",
         "2014-09-12",
         "Elite Bikes",
         277,
         "4d2585ec-171b-4aae-a54b-09dedd3a5583"
        ],
        [
         1332,
         "<StoreSurvey xmlns=\"http://schemas.microsoft.com/sqlserver/2004/07/adventure-works/StoreSurvey\"><AnnualSales>3000000</AnnualSales><AnnualRevenue>300000</AnnualRevenue><BankName>United Security</BankName><BusinessType>OS</BusinessType><YearOpened>1999</YearOpened><Specialty>Mountain</Specialty><SquareFeet>69000</SquareFeet><Brands>3</Brands><Internet>ISDN</Internet><NumberEmployees>55</NumberEmployees></StoreSurvey>",
         "2014-09-12",
         "Catalog Store",
         275,
         "7ebd2cb1-52cf-4658-ba05-41435ee1f2ba"
        ],
        [
         1334,
         "<StoreSurvey xmlns=\"http://schemas.microsoft.com/sqlserver/2004/07/adventure-works/StoreSurvey\"><AnnualSales>3000000</AnnualSales><AnnualRevenue>300000</AnnualRevenue><BankName>Reserve Security</BankName><BusinessType>OS</BusinessType><YearOpened>1999</YearOpened><Specialty>Mountain</Specialty><SquareFeet>71000</SquareFeet><Brands>4+</Brands><Internet>T1</Internet><NumberEmployees>58</NumberEmployees></StoreSurvey>",
         "2014-09-12",
         "Chic Department Stores",
         277,
         "519d6c36-96bc-409d-a2bc-81f75b79e504"
        ],
        [
         1336,
         "<StoreSurvey xmlns=\"http://schemas.microsoft.com/sqlserver/2004/07/adventure-works/StoreSurvey\"><AnnualSales>3000000</AnnualSales><AnnualRevenue>300000</AnnualRevenue><BankName>Primary International</BankName><BusinessType>OS</BusinessType><YearOpened>1979</YearOpened><Specialty>Road</Specialty><SquareFeet>70000</SquareFeet><Brands>3</Brands><Internet>DSL</Internet><NumberEmployees>61</NumberEmployees></StoreSurvey>",
         "2014-09-12",
         "Eastside Department Store",
         276,
         "6a400bd8-88a6-46e3-ae7a-c146ffcdc7fc"
        ],
        [
         1338,
         "<StoreSurvey xmlns=\"http://schemas.microsoft.com/sqlserver/2004/07/adventure-works/StoreSurvey\"><AnnualSales>3000000</AnnualSales><AnnualRevenue>300000</AnnualRevenue><BankName>Guardian Bank</BankName><BusinessType>OS</BusinessType><YearOpened>1996</YearOpened><Specialty>Mountain</Specialty><SquareFeet>72000</SquareFeet><Brands>4+</Brands><Internet>T2</Internet><NumberEmployees>64</NumberEmployees></StoreSurvey>",
         "2014-09-12",
         "Sports Sales and Rental",
         279,
         "8718b588-0073-4706-824c-0bae6ac48a41"
        ],
        [
         1340,
         "<StoreSurvey xmlns=\"http://schemas.microsoft.com/sqlserver/2004/07/adventure-works/StoreSurvey\"><AnnualSales>3000000</AnnualSales><AnnualRevenue>300000</AnnualRevenue><BankName>International Security</BankName><BusinessType>OS</BusinessType><YearOpened>1991</YearOpened><Specialty>Road</Specialty><SquareFeet>75000</SquareFeet><Brands>3</Brands><Internet>DSL</Internet><NumberEmployees>67</NumberEmployees></StoreSurvey>",
         "2014-09-12",
         "Cycle Merchants",
         278,
         "43121a65-0aa0-4cc7-b2c2-068777556d79"
        ],
        [
         1342,
         "<StoreSurvey xmlns=\"http://schemas.microsoft.com/sqlserver/2004/07/adventure-works/StoreSurvey\"><AnnualSales>3000000</AnnualSales><AnnualRevenue>300000</AnnualRevenue><BankName>Primary Bank &amp; Reserve</BankName><BusinessType>OS</BusinessType><YearOpened>1993</YearOpened><Specialty>Mountain</Specialty><SquareFeet>75000</SquareFeet><Brands>4+</Brands><Internet>DSL</Internet><NumberEmployees>70</NumberEmployees></StoreSurvey>",
         "2014-09-12",
         "Global Sports Outlet",
         286,
         "c20c86a2-5d1a-4a9d-99da-d989bcd0f2fd"
        ],
        [
         1344,
         "<StoreSurvey xmlns=\"http://schemas.microsoft.com/sqlserver/2004/07/adventure-works/StoreSurvey\"><AnnualSales>3000000</AnnualSales><AnnualRevenue>300000</AnnualRevenue><BankName>International Bank</BankName><BusinessType>OS</BusinessType><YearOpened>1998</YearOpened><Specialty>Road</Specialty><SquareFeet>75000</SquareFeet><Brands>4+</Brands><Internet>ISDN</Internet><NumberEmployees>73</NumberEmployees></StoreSurvey>",
         "2014-09-12",
         "Exotic Bikes",
         275,
         "4f33eed4-011c-4916-8eb3-52b9032eab97"
        ],
        [
         1346,
         "<StoreSurvey xmlns=\"http://schemas.microsoft.com/sqlserver/2004/07/adventure-works/StoreSurvey\"><AnnualSales>3000000</AnnualSales><AnnualRevenue>300000</AnnualRevenue><BankName>United Security</BankName><BusinessType>OS</BusinessType><YearOpened>1990</YearOpened><Specialty>Road</Specialty><SquareFeet>75000</SquareFeet><Brands>2</Brands><Internet>T1</Internet><NumberEmployees>76</NumberEmployees></StoreSurvey>",
         "2014-09-12",
         "Fitness Hotel",
         277,
         "5b9242cc-550d-4105-9baa-886f20dd34f9"
        ],
        [
         1348,
         "<StoreSurvey xmlns=\"http://schemas.microsoft.com/sqlserver/2004/07/adventure-works/StoreSurvey\"><AnnualSales>3000000</AnnualSales><AnnualRevenue>300000</AnnualRevenue><BankName>Reserve Security</BankName><BusinessType>OS</BusinessType><YearOpened>1995</YearOpened><Specialty>Mountain</Specialty><SquareFeet>74000</SquareFeet><Brands>4+</Brands><Internet>ISDN</Internet><NumberEmployees>79</NumberEmployees></StoreSurvey>",
         "2014-09-12",
         "Healthy Activity Store",
         276,
         "5988540b-f987-421f-a342-4eb1b809afa1"
        ],
        [
         1350,
         "<StoreSurvey xmlns=\"http://schemas.microsoft.com/sqlserver/2004/07/adventure-works/StoreSurvey\"><AnnualSales>3000000</AnnualSales><AnnualRevenue>300000</AnnualRevenue><BankName>Primary International</BankName><BusinessType>OS</BusinessType><YearOpened>1987</YearOpened><Specialty>Road</Specialty><SquareFeet>76000</SquareFeet><Brands>2</Brands><Internet>T1</Internet><NumberEmployees>80</NumberEmployees></StoreSurvey>",
         "2014-09-12",
         "Every Bike Shop",
         279,
         "1e7c9c84-dab9-4164-8154-4f7b8893a542"
        ],
        [
         1352,
         "<StoreSurvey xmlns=\"http://schemas.microsoft.com/sqlserver/2004/07/adventure-works/StoreSurvey\"><AnnualSales>3000000</AnnualSales><AnnualRevenue>300000</AnnualRevenue><BankName>Guardian Bank</BankName><BusinessType>OS</BusinessType><YearOpened>1992</YearOpened><Specialty>Touring</Specialty><SquareFeet>77000</SquareFeet><Brands>2</Brands><Internet>T1</Internet><NumberEmployees>81</NumberEmployees></StoreSurvey>",
         "2014-09-12",
         "Grand Industries",
         278,
         "72cfcc42-64dc-4283-98c7-a64a2d112451"
        ],
        [
         1354,
         "<StoreSurvey xmlns=\"http://schemas.microsoft.com/sqlserver/2004/07/adventure-works/StoreSurvey\"><AnnualSales>3000000</AnnualSales><AnnualRevenue>300000</AnnualRevenue><BankName>International Security</BankName><BusinessType>OS</BusinessType><YearOpened>1984</YearOpened><Specialty>Touring</Specialty><SquareFeet>76000</SquareFeet><Brands>3</Brands><Internet>DSL</Internet><NumberEmployees>82</NumberEmployees></StoreSurvey>",
         "2014-09-12",
         "Ideal Components",
         286,
         "254d461c-3410-4a91-b496-f4b43c1f406e"
        ],
        [
         1356,
         "<StoreSurvey xmlns=\"http://schemas.microsoft.com/sqlserver/2004/07/adventure-works/StoreSurvey\"><AnnualSales>3000000</AnnualSales><AnnualRevenue>300000</AnnualRevenue><BankName>Primary Bank &amp; Reserve</BankName><BusinessType>OS</BusinessType><YearOpened>1989</YearOpened><Specialty>Road</Specialty><SquareFeet>77000</SquareFeet><Brands>4+</Brands><Internet>T1</Internet><NumberEmployees>83</NumberEmployees></StoreSurvey>",
         "2014-09-12",
         "Larger Cycle Shop",
         275,
         "ac717a14-7677-402e-8b8a-3b9e17ca3664"
        ],
        [
         1358,
         "<StoreSurvey xmlns=\"http://schemas.microsoft.com/sqlserver/2004/07/adventure-works/StoreSurvey\"><AnnualSales>3000000</AnnualSales><AnnualRevenue>300000</AnnualRevenue><BankName>International Bank</BankName><BusinessType>OS</BusinessType><YearOpened>1981</YearOpened><Specialty>Road</Specialty><SquareFeet>75000</SquareFeet><Brands>4+</Brands><Internet>T1</Internet><NumberEmployees>84</NumberEmployees></StoreSurvey>",
         "2014-09-12",
         "Leading Sales & Repair",
         277,
         "2a953c4e-a056-456a-86fc-21e0dcd7e432"
        ],
        [
         1360,
         "<StoreSurvey xmlns=\"http://schemas.microsoft.com/sqlserver/2004/07/adventure-works/StoreSurvey\"><AnnualSales>3000000</AnnualSales><AnnualRevenue>300000</AnnualRevenue><BankName>United Security</BankName><BusinessType>OS</BusinessType><YearOpened>1986</YearOpened><Specialty>Road</Specialty><SquareFeet>75000</SquareFeet><Brands>3</Brands><Internet>T2</Internet><NumberEmployees>85</NumberEmployees></StoreSurvey>",
         "2014-09-12",
         "Main Bicycle Services",
         276,
         "4ebcd19d-6dab-4f99-83c0-c439a13969d3"
        ],
        [
         1362,
         "<StoreSurvey xmlns=\"http://schemas.microsoft.com/sqlserver/2004/07/adventure-works/StoreSurvey\"><AnnualSales>3000000</AnnualSales><AnnualRevenue>300000</AnnualRevenue><BankName>Reserve Security</BankName><BusinessType>OS</BusinessType><YearOpened>1978</YearOpened><Specialty>Mountain</Specialty><SquareFeet>76000</SquareFeet><Brands>3</Brands><Internet>DSL</Internet><NumberEmployees>86</NumberEmployees></StoreSurvey>",
         "2014-09-12",
         "Metro Bike Mart",
         279,
         "662ce427-c733-44b5-a35c-891589d210b8"
        ],
        [
         1364,
         "<StoreSurvey xmlns=\"http://schemas.microsoft.com/sqlserver/2004/07/adventure-works/StoreSurvey\"><AnnualSales>1500000</AnnualSales><AnnualRevenue>150000</AnnualRevenue><BankName>International Bank</BankName><BusinessType>BS</BusinessType><YearOpened>1972</YearOpened><Specialty>Road</Specialty><SquareFeet>38000</SquareFeet><Brands>4+</Brands><Internet>DSL</Internet><NumberEmployees>34</NumberEmployees></StoreSurvey>",
         "2014-09-12",
         "Tandem Sales and Service",
         278,
         "4372d419-1d5a-4a3d-8803-cb94a930e5d9"
        ],
        [
         1366,
         "<StoreSurvey xmlns=\"http://schemas.microsoft.com/sqlserver/2004/07/adventure-works/StoreSurvey\"><AnnualSales>1500000</AnnualSales><AnnualRevenue>150000</AnnualRevenue><BankName>United Security</BankName><BusinessType>BS</BusinessType><YearOpened>1978</YearOpened><Specialty>Touring</Specialty><SquareFeet>37000</SquareFeet><Brands>2</Brands><Internet>DSL</Internet><NumberEmployees>33</NumberEmployees></StoreSurvey>",
         "2014-09-12",
         "Sensible Sports",
         286,
         "c32f634b-50be-48bb-a1e4-f39800b04407"
        ],
        [
         1368,
         "<StoreSurvey xmlns=\"http://schemas.microsoft.com/sqlserver/2004/07/adventure-works/StoreSurvey\"><AnnualSales>1500000</AnnualSales><AnnualRevenue>150000</AnnualRevenue><BankName>Reserve Security</BankName><BusinessType>BS</BusinessType><YearOpened>1984</YearOpened><Specialty>Road</Specialty><SquareFeet>35000</SquareFeet><Brands>4+</Brands><Internet>DSL</Internet><NumberEmployees>32</NumberEmployees></StoreSurvey>",
         "2014-09-12",
         "Reliable Retail Center",
         278,
         "65eb45f3-c60f-4bb6-85ce-b8482e68868b"
        ],
        [
         1370,
         "<StoreSurvey xmlns=\"http://schemas.microsoft.com/sqlserver/2004/07/adventure-works/StoreSurvey\"><AnnualSales>1500000</AnnualSales><AnnualRevenue>150000</AnnualRevenue><BankName>Primary International</BankName><BusinessType>BS</BusinessType><YearOpened>1990</YearOpened><Specialty>Touring</Specialty><SquareFeet>37000</SquareFeet><Brands>4+</Brands><Internet>T1</Internet><NumberEmployees>31</NumberEmployees></StoreSurvey>",
         "2014-09-12",
         "Liquidation Sales",
         286,
         "0f23ce3a-c1d0-4c61-9d5f-a071dcbc9912"
        ],
        [
         1372,
         "<StoreSurvey xmlns=\"http://schemas.microsoft.com/sqlserver/2004/07/adventure-works/StoreSurvey\"><AnnualSales>1500000</AnnualSales><AnnualRevenue>150000</AnnualRevenue><BankName>Guardian Bank</BankName><BusinessType>BS</BusinessType><YearOpened>1996</YearOpened><Specialty>Road</Specialty><SquareFeet>39000</SquareFeet><Brands>2</Brands><Internet>ISDN</Internet><NumberEmployees>30</NumberEmployees></StoreSurvey>",
         "2014-09-12",
         "Friendly Bike Shop",
         275,
         "8483baae-a01a-4497-bebf-1f193e1d5f34"
        ],
        [
         1374,
         "<StoreSurvey xmlns=\"http://schemas.microsoft.com/sqlserver/2004/07/adventure-works/StoreSurvey\"><AnnualSales>1000000</AnnualSales><AnnualRevenue>100000</AnnualRevenue><BankName>International Security</BankName><BusinessType>BS</BusinessType><YearOpened>2001</YearOpened><Specialty>Mountain</Specialty><SquareFeet>26000</SquareFeet><Brands>4+</Brands><Internet>T1</Internet><NumberEmployees>29</NumberEmployees></StoreSurvey>",
         "2014-09-12",
         "Yellow Bicycle Company",
         277,
         "6ae7f252-55b7-4d73-91b1-4580678cba60"
        ],
        [
         1376,
         "<StoreSurvey xmlns=\"http://schemas.microsoft.com/sqlserver/2004/07/adventure-works/StoreSurvey\"><AnnualSales>1000000</AnnualSales><AnnualRevenue>100000</AnnualRevenue><BankName>Primary Bank &amp; Reserve</BankName><BusinessType>BS</BusinessType><YearOpened>1971</YearOpened><Specialty>Road</Specialty><SquareFeet>26000</SquareFeet><Brands>4+</Brands><Internet>DSL</Internet><NumberEmployees>28</NumberEmployees></StoreSurvey>",
         "2014-09-12",
         "Sports Products Store",
         276,
         "dccccf66-c09a-45cd-8f03-e2fd39257c4f"
        ],
        [
         1378,
         "<StoreSurvey xmlns=\"http://schemas.microsoft.com/sqlserver/2004/07/adventure-works/StoreSurvey\"><AnnualSales>1000000</AnnualSales><AnnualRevenue>100000</AnnualRevenue><BankName>International Bank</BankName><BusinessType>BS</BusinessType><YearOpened>1998</YearOpened><Specialty>Mountain</Specialty><SquareFeet>27000</SquareFeet><Brands>3</Brands><Internet>DSL</Internet><NumberEmployees>27</NumberEmployees></StoreSurvey>",
         "2014-09-12",
         "Selected Distributors",
         279,
         "c408e9d4-c9f0-422f-89a1-f5c77d5d9680"
        ],
        [
         1380,
         "<StoreSurvey xmlns=\"http://schemas.microsoft.com/sqlserver/2004/07/adventure-works/StoreSurvey\"><AnnualSales>800000</AnnualSales><AnnualRevenue>80000</AnnualRevenue><BankName>Primary Bank &amp; Reserve</BankName><BusinessType>BS</BusinessType><YearOpened>1972</YearOpened><Specialty>Mountain</Specialty><SquareFeet>18000</SquareFeet><Brands>3</Brands><Internet>ISDN</Internet><NumberEmployees>10</NumberEmployees></StoreSurvey>",
         "2014-09-12",
         "Impervious Paint Company",
         290,
         "26b1e4dc-8fb0-495c-8188-0e06f117f2f9"
        ],
        [
         1382,
         "<StoreSurvey xmlns=\"http://schemas.microsoft.com/sqlserver/2004/07/adventure-works/StoreSurvey\"><AnnualSales>800000</AnnualSales><AnnualRevenue>80000</AnnualRevenue><BankName>International Bank</BankName><BusinessType>BS</BusinessType><YearOpened>1978</YearOpened><Specialty>Road</Specialty><SquareFeet>20000</SquareFeet><Brands>2</Brands><Internet>DSL</Internet><NumberEmployees>13</NumberEmployees></StoreSurvey>",
         "2014-09-12",
         "Shipping Specialists",
         289,
         "14aa6ec7-1684-4a9d-bfb9-3405270bc52b"
        ],
        [
         1384,
         "<StoreSurvey xmlns=\"http://schemas.microsoft.com/sqlserver/2004/07/adventure-works/StoreSurvey\"><AnnualSales>800000</AnnualSales><AnnualRevenue>80000</AnnualRevenue><BankName>United Security</BankName><BusinessType>BS</BusinessType><YearOpened>1984</YearOpened><Specialty>Touring</Specialty><SquareFeet>18000</SquareFeet><Brands>4+</Brands><Internet>T1</Internet><NumberEmployees>16</NumberEmployees></StoreSurvey>",
         "2014-09-12",
         "Finer Sporting Goods",
         290,
         "dc4c935b-4788-48de-8e2b-fe702b9b3940"
        ],
        [
         1386,
         "<StoreSurvey xmlns=\"http://schemas.microsoft.com/sqlserver/2004/07/adventure-works/StoreSurvey\"><AnnualSales>800000</AnnualSales><AnnualRevenue>80000</AnnualRevenue><BankName>Reserve Security</BankName><BusinessType>BS</BusinessType><YearOpened>1990</YearOpened><Specialty>Mountain</Specialty><SquareFeet>20000</SquareFeet><Brands>AW</Brands><Internet>DSL</Internet><NumberEmployees>19</NumberEmployees></StoreSurvey>",
         "2014-09-12",
         "Authentic Sales and Service",
         289,
         "9cb195b3-45e3-455c-8e5e-8b621010bca8"
        ],
        [
         1388,
         "<StoreSurvey xmlns=\"http://schemas.microsoft.com/sqlserver/2004/07/adventure-works/StoreSurvey\"><AnnualSales>1000000</AnnualSales><AnnualRevenue>100000</AnnualRevenue><BankName>Primary International</BankName><BusinessType>BS</BusinessType><YearOpened>1996</YearOpened><Specialty>Road</Specialty><SquareFeet>24000</SquareFeet><Brands>4+</Brands><Internet>T1</Internet><NumberEmployees>22</NumberEmployees></StoreSurvey>",
         "2014-09-12",
         "Official Parts Shop",
         280,
         "0676819d-a218-496d-a83b-4b750bee0d61"
        ],
        [
         1390,
         "<StoreSurvey xmlns=\"http://schemas.microsoft.com/sqlserver/2004/07/adventure-works/StoreSurvey\"><AnnualSales>1000000</AnnualSales><AnnualRevenue>100000</AnnualRevenue><BankName>Guardian Bank</BankName><BusinessType>BS</BusinessType><YearOpened>2001</YearOpened><Specialty>Road</Specialty><SquareFeet>24000</SquareFeet><Brands>4+</Brands><Internet>T2</Internet><NumberEmployees>25</NumberEmployees></StoreSurvey>",
         "2014-09-12",
         "Contoso, Ltd.",
         277,
         "8874d7b8-9bfb-412a-b19c-3c566c15c03a"
        ],
        [
         1392,
         "<StoreSurvey xmlns=\"http://schemas.microsoft.com/sqlserver/2004/07/adventure-works/StoreSurvey\"><AnnualSales>1000000</AnnualSales><AnnualRevenue>100000</AnnualRevenue><BankName>International Security</BankName><BusinessType>BS</BusinessType><YearOpened>1971</YearOpened><Specialty>Road</Specialty><SquareFeet>28000</SquareFeet><Brands>4+</Brands><Internet>DSL</Internet><NumberEmployees>28</NumberEmployees></StoreSurvey>",
         "2014-09-12",
         "Discount Tours",
         281,
         "d208f87f-7cff-40f7-b3a8-efbabbae289c"
        ],
        [
         1394,
         "<StoreSurvey xmlns=\"http://schemas.microsoft.com/sqlserver/2004/07/adventure-works/StoreSurvey\"><AnnualSales>1500000</AnnualSales><AnnualRevenue>150000</AnnualRevenue><BankName>Primary Bank &amp; Reserve</BankName><BusinessType>BS</BusinessType><YearOpened>1998</YearOpened><Specialty>Mountain</Specialty><SquareFeet>36000</SquareFeet><Brands>4+</Brands><Internet>T1</Internet><NumberEmployees>31</NumberEmployees></StoreSurvey>",
         "2014-09-12",
         "Tire Exchange",
         282,
         "529d4609-7129-4c41-a88e-7bbe2f25b663"
        ],
        [
         1396,
         "<StoreSurvey xmlns=\"http://schemas.microsoft.com/sqlserver/2004/07/adventure-works/StoreSurvey\"><AnnualSales>1500000</AnnualSales><AnnualRevenue>150000</AnnualRevenue><BankName>International Bank</BankName><BusinessType>BS</BusinessType><YearOpened>1983</YearOpened><Specialty>Mountain</Specialty><SquareFeet>36000</SquareFeet><Brands>3</Brands><Internet>T1</Internet><NumberEmployees>34</NumberEmployees></StoreSurvey>",
         "2014-09-12",
         "Racing Tours",
         290,
         "6b6d4a42-f6dc-4c37-8c31-0aea817b2167"
        ],
        [
         1398,
         "<StoreSurvey xmlns=\"http://schemas.microsoft.com/sqlserver/2004/07/adventure-works/StoreSurvey\"><AnnualSales>1500000</AnnualSales><AnnualRevenue>150000</AnnualRevenue><BankName>United Security</BankName><BusinessType>BS</BusinessType><YearOpened>1995</YearOpened><Specialty>Mountain</Specialty><SquareFeet>37000</SquareFeet><Brands>3</Brands><Internet>T1</Internet><NumberEmployees>37</NumberEmployees></StoreSurvey>",
         "2014-09-12",
         "Oils and Fluids Warehouse",
         289,
         "ebfc3863-01f0-4614-8a38-25f35f6801e2"
        ],
        [
         1400,
         "<StoreSurvey xmlns=\"http://schemas.microsoft.com/sqlserver/2004/07/adventure-works/StoreSurvey\"><AnnualSales>1500000</AnnualSales><AnnualRevenue>150000</AnnualRevenue><BankName>Reserve Security</BankName><BusinessType>BS</BusinessType><YearOpened>1995</YearOpened><Specialty>Mountain</Specialty><SquareFeet>36000</SquareFeet><Brands>3</Brands><Internet>DSL</Internet><NumberEmployees>40</NumberEmployees></StoreSurvey>",
         "2014-09-12",
         "Finished Parts Shop",
         290,
         "08aefe30-a612-49ad-8b00-f4f8304c17cb"
        ],
        [
         1402,
         "<StoreSurvey xmlns=\"http://schemas.microsoft.com/sqlserver/2004/07/adventure-works/StoreSurvey\"><AnnualSales>1500000</AnnualSales><AnnualRevenue>150000</AnnualRevenue><BankName>Primary International</BankName><BusinessType>BS</BusinessType><YearOpened>1992</YearOpened><Specialty>Road</Specialty><SquareFeet>37000</SquareFeet><Brands>4+</Brands><Internet>T2</Internet><NumberEmployees>43</NumberEmployees></StoreSurvey>",
         "2014-09-12",
         "Consumer Equipment",
         289,
         "05721187-b066-4424-b9a3-e089f95f3fd4"
        ],
        [
         1404,
         "<StoreSurvey xmlns=\"http://schemas.microsoft.com/sqlserver/2004/07/adventure-works/StoreSurvey\"><AnnualSales>3000000</AnnualSales><AnnualRevenue>300000</AnnualRevenue><BankName>International Security</BankName><BusinessType>OS</BusinessType><YearOpened>1992</YearOpened><Specialty>Touring</Specialty><SquareFeet>77000</SquareFeet><Brands>2</Brands><Internet>T2</Internet><NumberEmployees>97</NumberEmployees></StoreSurvey>",
         "2014-09-12",
         "Rally Master Company Inc",
         281,
         "7501acfe-c321-41d1-9966-7928ee700b8e"
        ],
        [
         1406,
         "<StoreSurvey xmlns=\"http://schemas.microsoft.com/sqlserver/2004/07/adventure-works/StoreSurvey\"><AnnualSales>3000000</AnnualSales><AnnualRevenue>300000</AnnualRevenue><BankName>Primary Bank &amp; Reserve</BankName><BusinessType>OS</BusinessType><YearOpened>1998</YearOpened><Specialty>Road</Specialty><SquareFeet>77000</SquareFeet><Brands>3</Brands><Internet>T1</Internet><NumberEmployees>98</NumberEmployees></StoreSurvey>",
         "2014-09-12",
         "Professional Cyclists",
         282,
         "e0097dfc-ab99-445b-b0a1-f8f53bd19743"
        ],
        [
         1408,
         "<StoreSurvey xmlns=\"http://schemas.microsoft.com/sqlserver/2004/07/adventure-works/StoreSurvey\"><AnnualSales>3000000</AnnualSales><AnnualRevenue>300000</AnnualRevenue><BankName>International Bank</BankName><BusinessType>OS</BusinessType><YearOpened>1999</YearOpened><Specialty>Road</Specialty><SquareFeet>78000</SquareFeet><Brands>3</Brands><Internet>ISDN</Internet><NumberEmployees>99</NumberEmployees></StoreSurvey>",
         "2014-09-12",
         "Sports Products Store",
         290,
         "f4988993-96c3-4cfb-9ef5-325adeff13d9"
        ],
        [
         1410,
         "<StoreSurvey xmlns=\"http://schemas.microsoft.com/sqlserver/2004/07/adventure-works/StoreSurvey\"><AnnualSales>3000000</AnnualSales><AnnualRevenue>300000</AnnualRevenue><BankName>United Security</BankName><BusinessType>OS</BusinessType><YearOpened>1999</YearOpened><Specialty>Road</Specialty><SquareFeet>77000</SquareFeet><Brands>4+</Brands><Internet>DSL</Internet><NumberEmployees>100</NumberEmployees></StoreSurvey>",
         "2014-09-12",
         "Exclusive Bicycle Mart",
         289,
         "1638ea15-3bdc-4803-a8ee-4604446ab757"
        ],
        [
         1412,
         "<StoreSurvey xmlns=\"http://schemas.microsoft.com/sqlserver/2004/07/adventure-works/StoreSurvey\"><AnnualSales>3000000</AnnualSales><AnnualRevenue>300000</AnnualRevenue><BankName>Reserve Security</BankName><BusinessType>OS</BusinessType><YearOpened>1979</YearOpened><Specialty>Mountain</Specialty><SquareFeet>75000</SquareFeet><Brands>4+</Brands><Internet>DSL</Internet><NumberEmployees>66</NumberEmployees></StoreSurvey>",
         "2014-09-12",
         "City Manufacturing",
         280,
         "c8a665ba-4ee0-4a76-a2fc-b78323823f46"
        ],
        [
         1414,
         "<StoreSurvey xmlns=\"http://schemas.microsoft.com/sqlserver/2004/07/adventure-works/StoreSurvey\"><AnnualSales>1500000</AnnualSales><AnnualRevenue>150000</AnnualRevenue><BankName>United Security</BankName><BusinessType>OS</BusinessType><YearOpened>1974</YearOpened><Specialty>Road</Specialty><SquareFeet>40000</SquareFeet><Brands>3</Brands><Internet>T1</Internet><NumberEmployees>40</NumberEmployees></StoreSurvey>",
         "2014-09-12",
         "Bike Dealers Association",
         281,
         "b882005e-0489-4033-ad67-3e0cbf4ffa37"
        ],
        [
         1416,
         "<StoreSurvey xmlns=\"http://schemas.microsoft.com/sqlserver/2004/07/adventure-works/StoreSurvey\"><AnnualSales>1500000</AnnualSales><AnnualRevenue>150000</AnnualRevenue><BankName>Reserve Security</BankName><BusinessType>OS</BusinessType><YearOpened>1980</YearOpened><Specialty>Road</Specialty><SquareFeet>39000</SquareFeet><Brands>4+</Brands><Internet>T3</Internet><NumberEmployees>43</NumberEmployees></StoreSurvey>",
         "2014-09-12",
         "Pedal Systems Company",
         279,
         "0d2bed8a-7bce-4f09-8da0-ac99a88b334f"
        ],
        [
         1418,
         "<StoreSurvey xmlns=\"http://schemas.microsoft.com/sqlserver/2004/07/adventure-works/StoreSurvey\"><AnnualSales>1500000</AnnualSales><AnnualRevenue>150000</AnnualRevenue><BankName>Primary International</BankName><BusinessType>OS</BusinessType><YearOpened>1986</YearOpened><Specialty>Road</Specialty><SquareFeet>40000</SquareFeet><Brands>4+</Brands><Internet>T1</Internet><NumberEmployees>46</NumberEmployees></StoreSurvey>",
         "2014-09-12",
         "Health Spa, Limited",
         282,
         "2340bc61-c2f5-4f38-84a6-44b3e1b90d5e"
        ],
        [
         1420,
         "<StoreSurvey xmlns=\"http://schemas.microsoft.com/sqlserver/2004/07/adventure-works/StoreSurvey\"><AnnualSales>1500000</AnnualSales><AnnualRevenue>150000</AnnualRevenue><BankName>Guardian Bank</BankName><BusinessType>OS</BusinessType><YearOpened>1992</YearOpened><Specialty>Touring</Specialty><SquareFeet>40000</SquareFeet><Brands>4+</Brands><Internet>T1</Internet><NumberEmployees>49</NumberEmployees></StoreSurvey>",
         "2014-09-12",
         "Global Bike Retailers",
         288,
         "72466590-e6b6-4aab-a1f2-0dcb18685a12"
        ],
        [
         1422,
         "<StoreSurvey xmlns=\"http://schemas.microsoft.com/sqlserver/2004/07/adventure-works/StoreSurvey\"><AnnualSales>3000000</AnnualSales><AnnualRevenue>300000</AnnualRevenue><BankName>International Security</BankName><BusinessType>OS</BusinessType><YearOpened>1998</YearOpened><Specialty>Mountain</Specialty><SquareFeet>68000</SquareFeet><Brands>3</Brands><Internet>DSL</Internet><NumberEmployees>52</NumberEmployees></StoreSurvey>",
         "2014-09-12",
         "Fashionable Department Stores",
         275,
         "5221dd86-f37e-4f4a-8374-bbcae7e69f4f"
        ],
        [
         1424,
         "<StoreSurvey xmlns=\"http://schemas.microsoft.com/sqlserver/2004/07/adventure-works/StoreSurvey\"><AnnualSales>3000000</AnnualSales><AnnualRevenue>300000</AnnualRevenue><BankName>Primary Bank &amp; Reserve</BankName><BusinessType>OS</BusinessType><YearOpened>1999</YearOpened><Specialty>Mountain</Specialty><SquareFeet>70000</SquareFeet><Brands>3</Brands><Internet>T1</Internet><NumberEmployees>55</NumberEmployees></StoreSurvey>",
         "2014-09-12",
         "Closeout Boutique",
         283,
         "7b25c4ec-0a30-416b-8353-99a4725cb62a"
        ],
        [
         1426,
         "<StoreSurvey xmlns=\"http://schemas.microsoft.com/sqlserver/2004/07/adventure-works/StoreSurvey\"><AnnualSales>3000000</AnnualSales><AnnualRevenue>300000</AnnualRevenue><BankName>International Bank</BankName><BusinessType>OS</BusinessType><YearOpened>1999</YearOpened><Specialty>Road</Specialty><SquareFeet>69000</SquareFeet><Brands>4+</Brands><Internet>T1</Internet><NumberEmployees>58</NumberEmployees></StoreSurvey>",
         "2014-09-12",
         "Bicycle Merchandise Warehouse",
         281,
         "820b50fb-3a24-4cc5-a4dd-aae6ad57d919"
        ],
        [
         1428,
         "<StoreSurvey xmlns=\"http://schemas.microsoft.com/sqlserver/2004/07/adventure-works/StoreSurvey\"><AnnualSales>3000000</AnnualSales><AnnualRevenue>300000</AnnualRevenue><BankName>United Security</BankName><BusinessType>OS</BusinessType><YearOpened>1979</YearOpened><Specialty>Road</Specialty><SquareFeet>74000</SquareFeet><Brands>4+</Brands><Internet>T1</Internet><NumberEmployees>61</NumberEmployees></StoreSurvey>",
         "2014-09-12",
         "Spoke Manufacturers",
         279,
         "d0e5ad57-6e5e-40c6-a834-d2906a365231"
        ],
        [
         1430,
         "<StoreSurvey xmlns=\"http://schemas.microsoft.com/sqlserver/2004/07/adventure-works/StoreSurvey\"><AnnualSales>3000000</AnnualSales><AnnualRevenue>300000</AnnualRevenue><BankName>Reserve Security</BankName><BusinessType>OS</BusinessType><YearOpened>1996</YearOpened><Specialty>Mountain</Specialty><SquareFeet>72000</SquareFeet><Brands>4+</Brands><Internet>ISDN</Internet><NumberEmployees>64</NumberEmployees></StoreSurvey>",
         "2014-09-12",
         "Leather Seat Factory",
         282,
         "1fcc2c07-e555-42b9-a4b7-cff0b9dcf884"
        ],
        [
         1432,
         "<StoreSurvey xmlns=\"http://schemas.microsoft.com/sqlserver/2004/07/adventure-works/StoreSurvey\"><AnnualSales>3000000</AnnualSales><AnnualRevenue>300000</AnnualRevenue><BankName>Primary International</BankName><BusinessType>OS</BusinessType><YearOpened>1991</YearOpened><Specialty>Road</Specialty><SquareFeet>71000</SquareFeet><Brands>4+</Brands><Internet>ISDN</Internet><NumberEmployees>67</NumberEmployees></StoreSurvey>",
         "2014-09-12",
         "Good Bicycle Store",
         288,
         "8625c3d9-e443-494e-ad75-523a30e2967b"
        ],
        [
         1434,
         "<StoreSurvey xmlns=\"http://schemas.microsoft.com/sqlserver/2004/07/adventure-works/StoreSurvey\"><AnnualSales>3000000</AnnualSales><AnnualRevenue>300000</AnnualRevenue><BankName>Guardian Bank</BankName><BusinessType>OS</BusinessType><YearOpened>1993</YearOpened><Specialty>Road</Specialty><SquareFeet>75000</SquareFeet><Brands>3</Brands><Internet>DSL</Internet><NumberEmployees>70</NumberEmployees></StoreSurvey>",
         "2014-09-12",
         "Endurance Bikes",
         275,
         "d393f32e-8fe6-4ff2-865c-b4175331f985"
        ],
        [
         1436,
         "<StoreSurvey xmlns=\"http://schemas.microsoft.com/sqlserver/2004/07/adventure-works/StoreSurvey\"><AnnualSales>1000000</AnnualSales><AnnualRevenue>100000</AnnualRevenue><BankName>International Security</BankName><BusinessType>BS</BusinessType><YearOpened>2001</YearOpened><Specialty>Mountain</Specialty><SquareFeet>26000</SquareFeet><Brands>3</Brands><Internet>DSL</Internet><NumberEmployees>25</NumberEmployees></StoreSurvey>",
         "2014-09-12",
         "Practical Bike Supply Company",
         277,
         "7d0add31-0074-42d0-b00a-ddb8d31bbbd2"
        ],
        [
         1438,
         "<StoreSurvey xmlns=\"http://schemas.microsoft.com/sqlserver/2004/07/adventure-works/StoreSurvey\"><AnnualSales>1000000</AnnualSales><AnnualRevenue>100000</AnnualRevenue><BankName>Guardian Bank</BankName><BusinessType>BS</BusinessType><YearOpened>1996</YearOpened><Specialty>Mountain</Specialty><SquareFeet>27000</SquareFeet><Brands>2</Brands><Internet>T1</Internet><NumberEmployees>22</NumberEmployees></StoreSurvey>",
         "2014-09-12",
         "Some Discount Store",
         280,
         "b5ca298f-1ecc-4f42-a077-a32c5c9a30bb"
        ],
        [
         1440,
         "<StoreSurvey xmlns=\"http://schemas.microsoft.com/sqlserver/2004/07/adventure-works/StoreSurvey\"><AnnualSales>800000</AnnualSales><AnnualRevenue>80000</AnnualRevenue><BankName>Primary International</BankName><BusinessType>BS</BusinessType><YearOpened>1990</YearOpened><Specialty>Touring</Specialty><SquareFeet>21000</SquareFeet><Brands>AW</Brands><Internet>DSL</Internet><NumberEmployees>19</NumberEmployees></StoreSurvey>",
         "2014-09-12",
         "Variety Cycling",
         289,
         "47d6b3c9-a6d6-405a-9cce-1f78cbafb1fd"
        ],
        [
         1442,
         "<StoreSurvey xmlns=\"http://schemas.microsoft.com/sqlserver/2004/07/adventure-works/StoreSurvey\"><AnnualSales>800000</AnnualSales><AnnualRevenue>80000</AnnualRevenue><BankName>Reserve Security</BankName><BusinessType>BS</BusinessType><YearOpened>1984</YearOpened><Specialty>Touring</Specialty><SquareFeet>22000</SquareFeet><Brands>2</Brands><Internet>DSL</Internet><NumberEmployees>16</NumberEmployees></StoreSurvey>",
         "2014-09-12",
         "Accessories Network",
         290,
         "4ffffbb5-1337-4f14-ba3c-6bb27cd33e50"
        ],
        [
         1444,
         "<StoreSurvey xmlns=\"http://schemas.microsoft.com/sqlserver/2004/07/adventure-works/StoreSurvey\"><AnnualSales>800000</AnnualSales><AnnualRevenue>80000</AnnualRevenue><BankName>United Security</BankName><BusinessType>BS</BusinessType><YearOpened>1978</YearOpened><Specialty>Road</Specialty><SquareFeet>19000</SquareFeet><Brands>3</Brands><Internet>DSL</Internet><NumberEmployees>13</NumberEmployees></StoreSurvey>",
         "2014-09-12",
         "Remote Bicycle Specialists",
         282,
         "2b37636b-b111-414f-ad38-25c3d407b501"
        ],
        [
         1446,
         "<StoreSurvey xmlns=\"http://schemas.microsoft.com/sqlserver/2004/07/adventure-works/StoreSurvey\"><AnnualSales>800000</AnnualSales><AnnualRevenue>80000</AnnualRevenue><BankName>International Bank</BankName><BusinessType>BS</BusinessType><YearOpened>1972</YearOpened><Specialty>Road</Specialty><SquareFeet>20000</SquareFeet><Brands>3</Brands><Internet>DSL</Internet><NumberEmployees>10</NumberEmployees></StoreSurvey>",
         "2014-09-12",
         "Curbside Sporting Goods",
         281,
         "3ee65eec-4abf-48b2-82b6-5b368c1bb84e"
        ],
        [
         1448,
         "<StoreSurvey xmlns=\"http://schemas.microsoft.com/sqlserver/2004/07/adventure-works/StoreSurvey\"><AnnualSales>1000000</AnnualSales><AnnualRevenue>100000</AnnualRevenue><BankName>United Security</BankName><BusinessType>BS</BusinessType><YearOpened>1998</YearOpened><Specialty>Mountain</Specialty><SquareFeet>28000</SquareFeet><Brands>4+</Brands><Internet>DSL</Internet><NumberEmployees>27</NumberEmployees></StoreSurvey>",
         "2014-09-12",
         "Friendly Neighborhood Bikes",
         277,
         "a9849c81-88bc-49a9-9584-78634aea3681"
        ],
        [
         1450,
         "<StoreSurvey xmlns=\"http://schemas.microsoft.com/sqlserver/2004/07/adventure-works/StoreSurvey\"><AnnualSales>1000000</AnnualSales><AnnualRevenue>100000</AnnualRevenue><BankName>International Bank</BankName><BusinessType>BS</BusinessType><YearOpened>1971</YearOpened><Specialty>Road</Specialty><SquareFeet>28000</SquareFeet><Brands>4+</Brands><Internet>T1</Internet><NumberEmployees>28</NumberEmployees></StoreSurvey>",
         "2014-09-12",
         "Guaranteed Sales and Service",
         275,
         "e0e88a9e-eac4-4e30-8072-534c4c4ac250"
        ],
        [
         1452,
         "<StoreSurvey xmlns=\"http://schemas.microsoft.com/sqlserver/2004/07/adventure-works/StoreSurvey\"><AnnualSales>1000000</AnnualSales><AnnualRevenue>100000</AnnualRevenue><BankName>Primary Bank &amp; Reserve</BankName><BusinessType>BS</BusinessType><YearOpened>2001</YearOpened><Specialty>Touring</Specialty><SquareFeet>24000</SquareFeet><Brands>4+</Brands><Internet>DSL</Internet><NumberEmployees>29</NumberEmployees></StoreSurvey>",
         "2014-09-12",
         "Preferable Bikes",
         286,
         "0ff9a129-cad9-4a94-9a92-a08461903579"
        ],
        [
         1454,
         "<StoreSurvey xmlns=\"http://schemas.microsoft.com/sqlserver/2004/07/adventure-works/StoreSurvey\"><AnnualSales>1500000</AnnualSales><AnnualRevenue>150000</AnnualRevenue><BankName>International Security</BankName><BusinessType>BS</BusinessType><YearOpened>1996</YearOpened><Specialty>Road</Specialty><SquareFeet>35000</SquareFeet><Brands>4+</Brands><Internet>DSL</Internet><NumberEmployees>30</NumberEmployees></StoreSurvey>",
         "2014-09-12",
         "Recommended Bicycles",
         278,
         "f00bfda2-17eb-4b77-ba24-4443e1da8360"
        ],
        [
         1456,
         "<StoreSurvey xmlns=\"http://schemas.microsoft.com/sqlserver/2004/07/adventure-works/StoreSurvey\"><AnnualSales>1500000</AnnualSales><AnnualRevenue>150000</AnnualRevenue><BankName>Guardian Bank</BankName><BusinessType>BS</BusinessType><YearOpened>1990</YearOpened><Specialty>Road</Specialty><SquareFeet>39000</SquareFeet><Brands>4+</Brands><Internet>DSL</Internet><NumberEmployees>31</NumberEmployees></StoreSurvey>",
         "2014-09-12",
         "Sunny Place Bikes",
         279,
         "b07b4a19-8960-4a16-914c-b516cb49cce0"
        ],
        [
         1458,
         "<StoreSurvey xmlns=\"http://schemas.microsoft.com/sqlserver/2004/07/adventure-works/StoreSurvey\"><AnnualSales>1500000</AnnualSales><AnnualRevenue>150000</AnnualRevenue><BankName>Primary International</BankName><BusinessType>BS</BusinessType><YearOpened>1984</YearOpened><Specialty>Road</Specialty><SquareFeet>37000</SquareFeet><Brands>2</Brands><Internet>DSL</Internet><NumberEmployees>32</NumberEmployees></StoreSurvey>",
         "2014-09-12",
         "Alpine Ski House",
         276,
         "a05e0815-2d28-45e6-91e5-ff8053433ebf"
        ],
        [
         1460,
         "<StoreSurvey xmlns=\"http://schemas.microsoft.com/sqlserver/2004/07/adventure-works/StoreSurvey\"><AnnualSales>1500000</AnnualSales><AnnualRevenue>150000</AnnualRevenue><BankName>Reserve Security</BankName><BusinessType>BS</BusinessType><YearOpened>1978</YearOpened><Specialty>Road</Specialty><SquareFeet>35000</SquareFeet><Brands>4+</Brands><Internet>T1</Internet><NumberEmployees>33</NumberEmployees></StoreSurvey>",
         "2014-09-12",
         "Cycles and Scooters",
         279,
         "30141da2-7560-44cb-97a9-02c8857c7079"
        ],
        [
         1462,
         "<StoreSurvey xmlns=\"http://schemas.microsoft.com/sqlserver/2004/07/adventure-works/StoreSurvey\"><AnnualSales>1500000</AnnualSales><AnnualRevenue>150000</AnnualRevenue><BankName>United Security</BankName><BusinessType>BS</BusinessType><YearOpened>1972</YearOpened><Specialty>Touring</Specialty><SquareFeet>37000</SquareFeet><Brands>3</Brands><Internet>T2</Internet><NumberEmployees>34</NumberEmployees></StoreSurvey>",
         "2014-09-12",
         "Small Bike Accessories Shop",
         275,
         "0ab43663-3a2d-4234-b2ab-04b18376d857"
        ],
        [
         1464,
         "<StoreSurvey xmlns=\"http://schemas.microsoft.com/sqlserver/2004/07/adventure-works/StoreSurvey\"><AnnualSales>1500000</AnnualSales><AnnualRevenue>150000</AnnualRevenue><BankName>International Bank</BankName><BusinessType>BS</BusinessType><YearOpened>1988</YearOpened><Specialty>Touring</Specialty><SquareFeet>37000</SquareFeet><Brands>3</Brands><Internet>DSL</Internet><NumberEmployees>35</NumberEmployees></StoreSurvey>",
         "2014-09-12",
         "List Price Catalog Company",
         286,
         "ba90930e-259d-4bfe-b558-de00867a4247"
        ],
        [
         1466,
         "<StoreSurvey xmlns=\"http://schemas.microsoft.com/sqlserver/2004/07/adventure-works/StoreSurvey\"><AnnualSales>1500000</AnnualSales><AnnualRevenue>150000</AnnualRevenue><BankName>Primary Bank &amp; Reserve</BankName><BusinessType>BS</BusinessType><YearOpened>1976</YearOpened><Specialty>Mountain</Specialty><SquareFeet>38000</SquareFeet><Brands>4+</Brands><Internet>DSL</Internet><NumberEmployees>36</NumberEmployees></StoreSurvey>",
         "2014-09-12",
         "Seats and Saddles Company",
         278,
         "2316f0f6-acf4-4458-9538-74f842c88d11"
        ],
        [
         1468,
         "<StoreSurvey xmlns=\"http://schemas.microsoft.com/sqlserver/2004/07/adventure-works/StoreSurvey\"><AnnualSales>1500000</AnnualSales><AnnualRevenue>150000</AnnualRevenue><BankName>International Security</BankName><BusinessType>BS</BusinessType><YearOpened>1971</YearOpened><Specialty>Mountain</Specialty><SquareFeet>40000</SquareFeet><Brands>3</Brands><Internet>ISDN</Internet><NumberEmployees>37</NumberEmployees></StoreSurvey>",
         "2014-09-12",
         "Village Tours",
         279,
         "96a94727-d9cc-4596-a196-f48d0932f5cc"
        ],
        [
         1470,
         "<StoreSurvey xmlns=\"http://schemas.microsoft.com/sqlserver/2004/07/adventure-works/StoreSurvey\"><AnnualSales>1000000</AnnualSales><AnnualRevenue>100000</AnnualRevenue><BankName>Primary International</BankName><BusinessType>BS</BusinessType><YearOpened>1998</YearOpened><Specialty>Mountain</Specialty><SquareFeet>25000</SquareFeet><Brands>3</Brands><Internet>DSL</Internet><NumberEmployees>27</NumberEmployees></StoreSurvey>",
         "2014-09-12",
         "All Cycle Shop",
         280,
         "c5b62e91-9344-4622-b360-8a1c3101535c"
        ],
        [
         1472,
         "<StoreSurvey xmlns=\"http://schemas.microsoft.com/sqlserver/2004/07/adventure-works/StoreSurvey\"><AnnualSales>1000000</AnnualSales><AnnualRevenue>100000</AnnualRevenue><BankName>Reserve Security</BankName><BusinessType>BS</BusinessType><YearOpened>1971</YearOpened><Specialty>Mountain</Specialty><SquareFeet>25000</SquareFeet><Brands>4+</Brands><Internet>DSL</Internet><NumberEmployees>28</NumberEmployees></StoreSurvey>",
         "2014-09-12",
         "Tachometers and Accessories",
         289,
         "9e86d886-ae40-492a-960c-376f1102aa68"
        ],
        [
         1474,
         "<StoreSurvey xmlns=\"http://schemas.microsoft.com/sqlserver/2004/07/adventure-works/StoreSurvey\"><AnnualSales>1000000</AnnualSales><AnnualRevenue>100000</AnnualRevenue><BankName>United Security</BankName><BusinessType>BS</BusinessType><YearOpened>2001</YearOpened><Specialty>Touring</Specialty><SquareFeet>26000</SquareFeet><Brands>3</Brands><Internet>T1</Internet><NumberEmployees>29</NumberEmployees></StoreSurvey>",
         "2014-09-12",
         "Cycles Sales and Repair",
         290,
         "29d20006-51cb-491d-bba5-d126f15062af"
        ],
        [
         1476,
         "<StoreSurvey xmlns=\"http://schemas.microsoft.com/sqlserver/2004/07/adventure-works/StoreSurvey\"><AnnualSales>1500000</AnnualSales><AnnualRevenue>150000</AnnualRevenue><BankName>International Bank</BankName><BusinessType>BS</BusinessType><YearOpened>1996</YearOpened><Specialty>Mountain</Specialty><SquareFeet>36000</SquareFeet><Brands>4+</Brands><Internet>DSL</Internet><NumberEmployees>30</NumberEmployees></StoreSurvey>",
         "2014-09-12",
         "Low Price Cycles",
         282,
         "47c198f4-09ed-4826-b43b-7cf4ac53d6bf"
        ],
        [
         1478,
         "<StoreSurvey xmlns=\"http://schemas.microsoft.com/sqlserver/2004/07/adventure-works/StoreSurvey\"><AnnualSales>1500000</AnnualSales><AnnualRevenue>150000</AnnualRevenue><BankName>Primary Bank &amp; Reserve</BankName><BusinessType>BS</BusinessType><YearOpened>1990</YearOpened><Specialty>Road</Specialty><SquareFeet>39000</SquareFeet><Brands>4+</Brands><Internet>DSL</Internet><NumberEmployees>31</NumberEmployees></StoreSurvey>",
         "2014-09-12",
         "Metropolitan Manufacturing",
         281,
         "76c1b6ab-0697-4636-b65e-b4c66fd9af60"
        ],
        [
         1480,
         "<StoreSurvey xmlns=\"http://schemas.microsoft.com/sqlserver/2004/07/adventure-works/StoreSurvey\"><AnnualSales>1500000</AnnualSales><AnnualRevenue>150000</AnnualRevenue><BankName>International Security</BankName><BusinessType>BS</BusinessType><YearOpened>1984</YearOpened><Specialty>Road</Specialty><SquareFeet>37000</SquareFeet><Brands>4+</Brands><Internet>T1</Internet><NumberEmployees>32</NumberEmployees></StoreSurvey>",
         "2014-09-12",
         "Orange Bicycle Company",
         277,
         "094a64bd-0f6e-4a78-977c-3ee38b1fa993"
        ],
        [
         1482,
         "<StoreSurvey xmlns=\"http://schemas.microsoft.com/sqlserver/2004/07/adventure-works/StoreSurvey\"><AnnualSales>1500000</AnnualSales><AnnualRevenue>150000</AnnualRevenue><BankName>Guardian Bank</BankName><BusinessType>BS</BusinessType><YearOpened>1978</YearOpened><Specialty>Mountain</Specialty><SquareFeet>36000</SquareFeet><Brands>4+</Brands><Internet>DSL</Internet><NumberEmployees>33</NumberEmployees></StoreSurvey>",
         "2014-09-12",
         "Riding Associates",
         280,
         "5ccdbdc8-55f8-4b22-b24d-0f58db098e0b"
        ],
        [
         1484,
         "<StoreSurvey xmlns=\"http://schemas.microsoft.com/sqlserver/2004/07/adventure-works/StoreSurvey\"><AnnualSales>1500000</AnnualSales><AnnualRevenue>150000</AnnualRevenue><BankName>Primary International</BankName><BusinessType>BS</BusinessType><YearOpened>1972</YearOpened><Specialty>Road</Specialty><SquareFeet>39000</SquareFeet><Brands>4+</Brands><Internet>DSL</Internet><NumberEmployees>34</NumberEmployees></StoreSurvey>",
         "2014-09-12",
         "Essential Bike Works",
         289,
         "18887cc9-a503-4f5c-b054-fb6ccdf9f56d"
        ],
        [
         1486,
         "<StoreSurvey xmlns=\"http://schemas.microsoft.com/sqlserver/2004/07/adventure-works/StoreSurvey\"><AnnualSales>1500000</AnnualSales><AnnualRevenue>150000</AnnualRevenue><BankName>Reserve Security</BankName><BusinessType>BS</BusinessType><YearOpened>1988</YearOpened><Specialty>Road</Specialty><SquareFeet>39000</SquareFeet><Brands>4+</Brands><Internet>T1</Internet><NumberEmployees>35</NumberEmployees></StoreSurvey>",
         "2014-09-12",
         "Rural Mountain Bike Mart",
         290,
         "7df7c186-7e2a-4bce-9ea2-5d42abf2fb7b"
        ],
        [
         1488,
         "<StoreSurvey xmlns=\"http://schemas.microsoft.com/sqlserver/2004/07/adventure-works/StoreSurvey\"><AnnualSales>1500000</AnnualSales><AnnualRevenue>150000</AnnualRevenue><BankName>United Security</BankName><BusinessType>BS</BusinessType><YearOpened>1976</YearOpened><Specialty>Road</Specialty><SquareFeet>37000</SquareFeet><Brands>2</Brands><Internet>T1</Internet><NumberEmployees>36</NumberEmployees></StoreSurvey>",
         "2014-09-12",
         "City Cycling",
         282,
         "7d7911cf-c5dc-4d89-a503-7377a84cb3d9"
        ],
        [
         1490,
         "<StoreSurvey xmlns=\"http://schemas.microsoft.com/sqlserver/2004/07/adventure-works/StoreSurvey\"><AnnualSales>1500000</AnnualSales><AnnualRevenue>150000</AnnualRevenue><BankName>International Bank</BankName><BusinessType>BS</BusinessType><YearOpened>1971</YearOpened><Specialty>Touring</Specialty><SquareFeet>40000</SquareFeet><Brands>4+</Brands><Internet>T2</Internet><NumberEmployees>37</NumberEmployees></StoreSurvey>",
         "2014-09-12",
         "Engineered Bike Systems",
         281,
         "28a52834-6069-473e-b547-fc8b4b04c0c9"
        ],
        [
         1796,
         "<StoreSurvey xmlns=\"http://schemas.microsoft.com/sqlserver/2004/07/adventure-works/StoreSurvey\"><AnnualSales>1500000</AnnualSales><AnnualRevenue>150000</AnnualRevenue><BankName>International Security</BankName><BusinessType>BS</BusinessType><YearOpened>1997</YearOpened><Specialty>Mountain</Specialty><SquareFeet>38000</SquareFeet><Brands>4+</Brands><Internet>DSL</Internet><NumberEmployees>46</NumberEmployees></StoreSurvey>",
         "2014-09-12",
         "Professional Containers and Packaging Co.",
         281,
         "57e8e5c9-7a01-485e-ae4b-48dcb41a0dc2"
        ],
        [
         1798,
         "<StoreSurvey xmlns=\"http://schemas.microsoft.com/sqlserver/2004/07/adventure-works/StoreSurvey\"><AnnualSales>1500000</AnnualSales><AnnualRevenue>150000</AnnualRevenue><BankName>Primary Bank &amp; Reserve</BankName><BusinessType>BS</BusinessType><YearOpened>1989</YearOpened><Specialty>Mountain</Specialty><SquareFeet>41000</SquareFeet><Brands>3</Brands><Internet>DSL</Internet><NumberEmployees>49</NumberEmployees></StoreSurvey>",
         "2014-09-12",
         "One Bike Company",
         282,
         "4317b79b-6640-4ec3-8353-1370a12633a5"
        ],
        [
         1800,
         "<StoreSurvey xmlns=\"http://schemas.microsoft.com/sqlserver/2004/07/adventure-works/StoreSurvey\"><AnnualSales>1500000</AnnualSales><AnnualRevenue>150000</AnnualRevenue><BankName>International Bank</BankName><BusinessType>BS</BusinessType><YearOpened>1994</YearOpened><Specialty>Touring</Specialty><SquareFeet>40000</SquareFeet><Brands>2</Brands><Internet>T2</Internet><NumberEmployees>48</NumberEmployees></StoreSurvey>",
         "2014-09-12",
         "Hiatus Bike Tours",
         290,
         "c838b0d9-14ea-4019-b010-5bbef2b43862"
        ],
        [
         1802,
         "<StoreSurvey xmlns=\"http://schemas.microsoft.com/sqlserver/2004/07/adventure-works/StoreSurvey\"><AnnualSales>1500000</AnnualSales><AnnualRevenue>150000</AnnualRevenue><BankName>United Security</BankName><BusinessType>BS</BusinessType><YearOpened>1986</YearOpened><Specialty>Road</Specialty><SquareFeet>37000</SquareFeet><Brands>4+</Brands><Internet>DSL</Internet><NumberEmployees>47</NumberEmployees></StoreSurvey>",
         "2014-09-12",
         "Cycling Goods",
         289,
         "5aef8ade-bd2a-4012-9766-71b2147d5d35"
        ],
        [
         1804,
         "<StoreSurvey xmlns=\"http://schemas.microsoft.com/sqlserver/2004/07/adventure-works/StoreSurvey\"><AnnualSales>1500000</AnnualSales><AnnualRevenue>150000</AnnualRevenue><BankName>Reserve Security</BankName><BusinessType>BS</BusinessType><YearOpened>1991</YearOpened><Specialty>Touring</Specialty><SquareFeet>40000</SquareFeet><Brands>2</Brands><Internet>T1</Internet><NumberEmployees>46</NumberEmployees></StoreSurvey>",
         "2014-09-12",
         "Cycle Clearance",
         280,
         "7f2c3ab3-97ca-46ba-820e-a03f59ec842d"
        ],
        [
         1806,
         "<StoreSurvey xmlns=\"http://schemas.microsoft.com/sqlserver/2004/07/adventure-works/StoreSurvey\"><AnnualSales>1500000</AnnualSales><AnnualRevenue>150000</AnnualRevenue><BankName>Primary International</BankName><BusinessType>BS</BusinessType><YearOpened>1983</YearOpened><Specialty>Mountain</Specialty><SquareFeet>40000</SquareFeet><Brands>4+</Brands><Internet>DSL</Internet><NumberEmployees>45</NumberEmployees></StoreSurvey>",
         "2014-09-12",
         "Black Bicycle Company",
         277,
         "b67e6fd5-2918-4100-82a8-e004da0ddb35"
        ],
        [
         1808,
         "<StoreSurvey xmlns=\"http://schemas.microsoft.com/sqlserver/2004/07/adventure-works/StoreSurvey\"><AnnualSales>1500000</AnnualSales><AnnualRevenue>150000</AnnualRevenue><BankName>Guardian Bank</BankName><BusinessType>BS</BusinessType><YearOpened>1988</YearOpened><Specialty>Touring</Specialty><SquareFeet>41000</SquareFeet><Brands>3</Brands><Internet>ISDN</Internet><NumberEmployees>44</NumberEmployees></StoreSurvey>",
         "2014-09-12",
         "Transport Bikes",
         281,
         "8317603a-1c85-40fd-a106-b5c591042ea3"
        ],
        [
         1810,
         "<StoreSurvey xmlns=\"http://schemas.microsoft.com/sqlserver/2004/07/adventure-works/StoreSurvey\"><AnnualSales>1500000</AnnualSales><AnnualRevenue>150000</AnnualRevenue><BankName>International Security</BankName><BusinessType>BS</BusinessType><YearOpened>1980</YearOpened><Specialty>Road</Specialty><SquareFeet>37000</SquareFeet><Brands>4+</Brands><Internet>DSL</Internet><NumberEmployees>43</NumberEmployees></StoreSurvey>",
         "2014-09-12",
         "Sellers of Cycles",
         280,
         "3818af93-b4da-49ce-968e-672059b77bed"
        ],
        [
         1812,
         "<StoreSurvey xmlns=\"http://schemas.microsoft.com/sqlserver/2004/07/adventure-works/StoreSurvey\"><AnnualSales>1500000</AnnualSales><AnnualRevenue>150000</AnnualRevenue><BankName>Primary Bank &amp; Reserve</BankName><BusinessType>BS</BusinessType><YearOpened>1985</YearOpened><Specialty>Touring</Specialty><SquareFeet>41000</SquareFeet><Brands>4+</Brands><Internet>DSL</Internet><NumberEmployees>42</NumberEmployees></StoreSurvey>",
         "2014-09-12",
         "Maintenance and Repair for Bicycles",
         277,
         "060163f2-6e85-4473-b0fc-c2ef091c057d"
        ],
        [
         1814,
         "<StoreSurvey xmlns=\"http://schemas.microsoft.com/sqlserver/2004/07/adventure-works/StoreSurvey\"><AnnualSales>1500000</AnnualSales><AnnualRevenue>150000</AnnualRevenue><BankName>International Bank</BankName><BusinessType>BS</BusinessType><YearOpened>1977</YearOpened><Specialty>Touring</Specialty><SquareFeet>37000</SquareFeet><Brands>3</Brands><Internet>T2</Internet><NumberEmployees>41</NumberEmployees></StoreSurvey>",
         "2014-09-12",
         "Fitness Department Stores",
         281,
         "02f5437e-f74e-4f8b-92ee-f129c8ac0986"
        ],
        [
         1816,
         "<StoreSurvey xmlns=\"http://schemas.microsoft.com/sqlserver/2004/07/adventure-works/StoreSurvey\"><AnnualSales>1500000</AnnualSales><AnnualRevenue>150000</AnnualRevenue><BankName>United Security</BankName><BusinessType>BS</BusinessType><YearOpened>1982</YearOpened><Specialty>Mountain</Specialty><SquareFeet>37000</SquareFeet><Brands>4+</Brands><Internet>DSL</Internet><NumberEmployees>40</NumberEmployees></StoreSurvey>",
         "2014-09-12",
         "Famous Bike Shop",
         278,
         "0e7982ee-ce33-404c-b7db-36f78da457eb"
        ],
        [
         1818,
         "<StoreSurvey xmlns=\"http://schemas.microsoft.com/sqlserver/2004/07/adventure-works/StoreSurvey\"><AnnualSales>1500000</AnnualSales><AnnualRevenue>150000</AnnualRevenue><BankName>Reserve Security</BankName><BusinessType>BS</BusinessType><YearOpened>1974</YearOpened><Specialty>Touring</Specialty><SquareFeet>39000</SquareFeet><Brands>3</Brands><Internet>DSL</Internet><NumberEmployees>39</NumberEmployees></StoreSurvey>",
         "2014-09-12",
         "Eastward Bike Accessories",
         286,
         "11108d11-d7ab-49f8-824b-d4e5d4341570"
        ],
        [
         1820,
         "<StoreSurvey xmlns=\"http://schemas.microsoft.com/sqlserver/2004/07/adventure-works/StoreSurvey\"><AnnualSales>1500000</AnnualSales><AnnualRevenue>150000</AnnualRevenue><BankName>Primary International</BankName><BusinessType>BS</BusinessType><YearOpened>1979</YearOpened><Specialty>Road</Specialty><SquareFeet>36000</SquareFeet><Brands>4+</Brands><Internet>DSL</Internet><NumberEmployees>38</NumberEmployees></StoreSurvey>",
         "2014-09-12",
         "Strong Metal Manufacturing",
         275,
         "f844dffd-c87f-4dd4-b82b-e27fd5b50372"
        ],
        [
         1822,
         "<StoreSurvey xmlns=\"http://schemas.microsoft.com/sqlserver/2004/07/adventure-works/StoreSurvey\"><AnnualSales>1500000</AnnualSales><AnnualRevenue>150000</AnnualRevenue><BankName>Guardian Bank</BankName><BusinessType>BS</BusinessType><YearOpened>1971</YearOpened><Specialty>Road</Specialty><SquareFeet>36000</SquareFeet><Brands>4+</Brands><Internet>DSL</Internet><NumberEmployees>37</NumberEmployees></StoreSurvey>",
         "2014-09-12",
         "Gift and Toy Store",
         277,
         "0ab1bbf2-d910-4baf-b8e4-1977cc0fbcbb"
        ],
        [
         1824,
         "<StoreSurvey xmlns=\"http://schemas.microsoft.com/sqlserver/2004/07/adventure-works/StoreSurvey\"><AnnualSales>1500000</AnnualSales><AnnualRevenue>150000</AnnualRevenue><BankName>International Security</BankName><BusinessType>BS</BusinessType><YearOpened>1976</YearOpened><Specialty>Road</Specialty><SquareFeet>40000</SquareFeet><Brands>4+</Brands><Internet>DSL</Internet><NumberEmployees>36</NumberEmployees></StoreSurvey>",
         "2014-09-12",
         "Major Sporting Goods",
         276,
         "9fc444e5-c1bc-42b2-8656-2e6c96f32920"
        ],
        [
         1826,
         "<StoreSurvey xmlns=\"http://schemas.microsoft.com/sqlserver/2004/07/adventure-works/StoreSurvey\"><AnnualSales>1500000</AnnualSales><AnnualRevenue>150000</AnnualRevenue><BankName>Primary Bank &amp; Reserve</BankName><BusinessType>BS</BusinessType><YearOpened>1988</YearOpened><Specialty>Road</Specialty><SquareFeet>39000</SquareFeet><Brands>4+</Brands><Internet>T1</Internet><NumberEmployees>35</NumberEmployees></StoreSurvey>",
         "2014-09-12",
         "Executive Discount Store",
         279,
         "a2ab0a56-0e6f-4786-b122-3a2fb52ce2ef"
        ],
        [
         1828,
         "<StoreSurvey xmlns=\"http://schemas.microsoft.com/sqlserver/2004/07/adventure-works/StoreSurvey\"><AnnualSales>3000000</AnnualSales><AnnualRevenue>300000</AnnualRevenue><BankName>International Security</BankName><BusinessType>OS</BusinessType><YearOpened>1995</YearOpened><Specialty>Road</Specialty><SquareFeet>77000</SquareFeet><Brands>2</Brands><Internet>T2</Internet><NumberEmployees>79</NumberEmployees></StoreSurvey>",
         "2014-09-12",
         "Major Cycling",
         282,
         "2f45bf63-26c3-43e5-adae-486a0fa6d41f"
        ],
        [
         1830,
         "<StoreSurvey xmlns=\"http://schemas.microsoft.com/sqlserver/2004/07/adventure-works/StoreSurvey\"><AnnualSales>3000000</AnnualSales><AnnualRevenue>300000</AnnualRevenue><BankName>Primary Bank &amp; Reserve</BankName><BusinessType>OS</BusinessType><YearOpened>1987</YearOpened><Specialty>Road</Specialty><SquareFeet>75000</SquareFeet><Brands>4+</Brands><Internet>T1</Internet><NumberEmployees>80</NumberEmployees></StoreSurvey>",
         "2014-09-12",
         "Getaway Inn",
         290,
         "64f9ef4b-475a-4cfa-a816-e0e66856cc5f"
        ],
        [
         1832,
         "<StoreSurvey xmlns=\"http://schemas.microsoft.com/sqlserver/2004/07/adventure-works/StoreSurvey\"><AnnualSales>3000000</AnnualSales><AnnualRevenue>300000</AnnualRevenue><BankName>International Bank</BankName><BusinessType>OS</BusinessType><YearOpened>1992</YearOpened><Specialty>Mountain</Specialty><SquareFeet>77000</SquareFeet><Brands>2</Brands><Internet>DSL</Internet><NumberEmployees>81</NumberEmployees></StoreSurvey>",
         "2014-09-12",
         "Downhill Bicycle Specialists",
         289,
         "161b1bb9-5afb-47b2-b1ad-45bf03ba6520"
        ],
        [
         1834,
         "<StoreSurvey xmlns=\"http://schemas.microsoft.com/sqlserver/2004/07/adventure-works/StoreSurvey\"><AnnualSales>3000000</AnnualSales><AnnualRevenue>300000</AnnualRevenue><BankName>United Security</BankName><BusinessType>OS</BusinessType><YearOpened>1984</YearOpened><Specialty>Mountain</Specialty><SquareFeet>73000</SquareFeet><Brands>4+</Brands><Internet>DSL</Internet><NumberEmployees>82</NumberEmployees></StoreSurvey>",
         "2014-09-12",
         "Bike Experts",
         280,
         "639bbc3a-d30b-4456-a2fd-cb740884e939"
        ],
        [
         1836,
         "<StoreSurvey xmlns=\"http://schemas.microsoft.com/sqlserver/2004/07/adventure-works/StoreSurvey\"><AnnualSales>3000000</AnnualSales><AnnualRevenue>300000</AnnualRevenue><BankName>Reserve Security</BankName><BusinessType>OS</BusinessType><YearOpened>1989</YearOpened><Specialty>Mountain</Specialty><SquareFeet>75000</SquareFeet><Brands>2</Brands><Internet>T2</Internet><NumberEmployees>83</NumberEmployees></StoreSurvey>",
         "2014-09-12",
         "Extraordinary Bike Works",
         277,
         "d8f8e7f3-9acf-4f4b-8327-293b7a7943b3"
        ],
        [
         1838,
         "<StoreSurvey xmlns=\"http://schemas.microsoft.com/sqlserver/2004/07/adventure-works/StoreSurvey\"><AnnualSales>3000000</AnnualSales><AnnualRevenue>300000</AnnualRevenue><BankName>Primary International</BankName><BusinessType>OS</BusinessType><YearOpened>1981</YearOpened><Specialty>Road</Specialty><SquareFeet>76000</SquareFeet><Brands>4+</Brands><Internet>DSL</Internet><NumberEmployees>84</NumberEmployees></StoreSurvey>",
         "2014-09-12",
         "Valley Bicycle Distributors",
         281,
         "db88da40-586e-4429-af8d-2148a59b93a6"
        ],
        [
         1840,
         "<StoreSurvey xmlns=\"http://schemas.microsoft.com/sqlserver/2004/07/adventure-works/StoreSurvey\"><AnnualSales>3000000</AnnualSales><AnnualRevenue>300000</AnnualRevenue><BankName>Guardian Bank</BankName><BusinessType>OS</BusinessType><YearOpened>1986</YearOpened><Specialty>Mountain</Specialty><SquareFeet>78000</SquareFeet><Brands>3</Brands><Internet>DSL</Internet><NumberEmployees>85</NumberEmployees></StoreSurvey>",
         "2014-09-12",
         "Top Sports Supply",
         282,
         "20d63e3e-5631-4118-9712-1171aa5a0357"
        ],
        [
         1842,
         "<StoreSurvey xmlns=\"http://schemas.microsoft.com/sqlserver/2004/07/adventure-works/StoreSurvey\"><AnnualSales>3000000</AnnualSales><AnnualRevenue>300000</AnnualRevenue><BankName>International Security</BankName><BusinessType>OS</BusinessType><YearOpened>1978</YearOpened><Specialty>Road</Specialty><SquareFeet>77000</SquareFeet><Brands>3</Brands><Internet>DSL</Internet><NumberEmployees>86</NumberEmployees></StoreSurvey>",
         "2014-09-12",
         "Racing Sales and Service",
         290,
         "cdd163a9-dc42-44b4-ba95-b5de845813e4"
        ],
        [
         1844,
         "<StoreSurvey xmlns=\"http://schemas.microsoft.com/sqlserver/2004/07/adventure-works/StoreSurvey\"><AnnualSales>3000000</AnnualSales><AnnualRevenue>300000</AnnualRevenue><BankName>Primary Bank &amp; Reserve</BankName><BusinessType>OS</BusinessType><YearOpened>1983</YearOpened><Specialty>Mountain</Specialty><SquareFeet>78000</SquareFeet><Brands>4+</Brands><Internet>DSL</Internet><NumberEmployees>87</NumberEmployees></StoreSurvey>",
         "2014-09-12",
         "Metropolitan Bicycle Supply",
         289,
         "bf60e1dd-fe8b-4d6f-bd43-dcec43504357"
        ],
        [
         1846,
         "<StoreSurvey xmlns=\"http://schemas.microsoft.com/sqlserver/2004/07/adventure-works/StoreSurvey\"><AnnualSales>3000000</AnnualSales><AnnualRevenue>300000</AnnualRevenue><BankName>International Bank</BankName><BusinessType>OS</BusinessType><YearOpened>1975</YearOpened><Specialty>Touring</Specialty><SquareFeet>77000</SquareFeet><Brands>3</Brands><Internet>DSL</Internet><NumberEmployees>88</NumberEmployees></StoreSurvey>",
         "2014-09-12",
         "Honest Repair Service",
         280,
         "ea9914d7-5fc2-4f73-9483-95cbad7408a7"
        ],
        [
         1848,
         "<StoreSurvey xmlns=\"http://schemas.microsoft.com/sqlserver/2004/07/adventure-works/StoreSurvey\"><AnnualSales>3000000</AnnualSales><AnnualRevenue>300000</AnnualRevenue><BankName>United Security</BankName><BusinessType>OS</BusinessType><YearOpened>1980</YearOpened><Specialty>Road</Specialty><SquareFeet>74000</SquareFeet><Brands>3</Brands><Internet>T2</Internet><NumberEmployees>89</NumberEmployees></StoreSurvey>",
         "2014-09-12",
         "Designer Department Stores",
         277,
         "8689142f-784a-4e36-acc4-87346be7da38"
        ],
        [
         1850,
         "<StoreSurvey xmlns=\"http://schemas.microsoft.com/sqlserver/2004/07/adventure-works/StoreSurvey\"><AnnualSales>3000000</AnnualSales><AnnualRevenue>300000</AnnualRevenue><BankName>Reserve Security</BankName><BusinessType>OS</BusinessType><YearOpened>1972</YearOpened><Specialty>Road</Specialty><SquareFeet>79000</SquareFeet><Brands>2</Brands><Internet>DSL</Internet><NumberEmployees>90</NumberEmployees></StoreSurvey>",
         "2014-09-12",
         "Wheel Gallery",
         281,
         "7ef9c12f-21f8-46c6-b18d-e073e1a2a5f3"
        ],
        [
         1852,
         "<StoreSurvey xmlns=\"http://schemas.microsoft.com/sqlserver/2004/07/adventure-works/StoreSurvey\"><AnnualSales>3000000</AnnualSales><AnnualRevenue>300000</AnnualRevenue><BankName>International Bank</BankName><BusinessType>OS</BusinessType><YearOpened>1987</YearOpened><Specialty>Touring</Specialty><SquareFeet>75000</SquareFeet><Brands>3</Brands><Internet>T1</Internet><NumberEmployees>80</NumberEmployees></StoreSurvey>",
         "2014-09-12",
         "Top Bike Market",
         278,
         "5555020a-f026-41f8-924f-4180974f39eb"
        ],
        [
         1854,
         "<StoreSurvey xmlns=\"http://schemas.microsoft.com/sqlserver/2004/07/adventure-works/StoreSurvey\"><AnnualSales>3000000</AnnualSales><AnnualRevenue>300000</AnnualRevenue><BankName>United Security</BankName><BusinessType>OS</BusinessType><YearOpened>1992</YearOpened><Specialty>Road</Specialty><SquareFeet>75000</SquareFeet><Brands>2</Brands><Internet>DSL</Internet><NumberEmployees>81</NumberEmployees></StoreSurvey>",
         "2014-09-12",
         "Region Bike Company",
         286,
         "1d393e58-5467-4529-be25-52f1eb28ba12"
        ],
        [
         1856,
         "<StoreSurvey xmlns=\"http://schemas.microsoft.com/sqlserver/2004/07/adventure-works/StoreSurvey\"><AnnualSales>3000000</AnnualSales><AnnualRevenue>300000</AnnualRevenue><BankName>Reserve Security</BankName><BusinessType>OS</BusinessType><YearOpened>1984</YearOpened><Specialty>Mountain</Specialty><SquareFeet>75000</SquareFeet><Brands>3</Brands><Internet>DSL</Internet><NumberEmployees>82</NumberEmployees></StoreSurvey>",
         "2014-09-12",
         "Grown-up Bike Store",
         275,
         "5ae09d08-49d1-46bf-9219-bf9874cb1992"
        ],
        [
         1858,
         "<StoreSurvey xmlns=\"http://schemas.microsoft.com/sqlserver/2004/07/adventure-works/StoreSurvey\"><AnnualSales>3000000</AnnualSales><AnnualRevenue>300000</AnnualRevenue><BankName>Primary International</BankName><BusinessType>OS</BusinessType><YearOpened>1989</YearOpened><Specialty>Mountain</Specialty><SquareFeet>77000</SquareFeet><Brands>3</Brands><Internet>DSL</Internet><NumberEmployees>83</NumberEmployees></StoreSurvey>",
         "2014-09-12",
         "Bicycle Lines Distributors",
         277,
         "ede264f5-0931-4e4b-b447-5c0add3aba5d"
        ],
        [
         1860,
         "<StoreSurvey xmlns=\"http://schemas.microsoft.com/sqlserver/2004/07/adventure-works/StoreSurvey\"><AnnualSales>3000000</AnnualSales><AnnualRevenue>300000</AnnualRevenue><BankName>Guardian Bank</BankName><BusinessType>OS</BusinessType><YearOpened>1981</YearOpened><Specialty>Mountain</Specialty><SquareFeet>76000</SquareFeet><Brands>2</Brands><Internet>DSL</Internet><NumberEmployees>84</NumberEmployees></StoreSurvey>",
         "2014-09-12",
         "Sparkling Paint and Finishes",
         276,
         "b84ba799-82a1-45ea-94fe-63bbe36f1d2d"
        ],
        [
         1862,
         "<StoreSurvey xmlns=\"http://schemas.microsoft.com/sqlserver/2004/07/adventure-works/StoreSurvey\"><AnnualSales>3000000</AnnualSales><AnnualRevenue>300000</AnnualRevenue><BankName>International Security</BankName><BusinessType>OS</BusinessType><YearOpened>1986</YearOpened><Specialty>Road</Specialty><SquareFeet>76000</SquareFeet><Brands>3</Brands><Internet>T1</Internet><NumberEmployees>85</NumberEmployees></StoreSurvey>",
         "2014-09-12",
         "Racing Association",
         279,
         "f2b788db-35c9-4f0f-a282-4983bbcb8eac"
        ],
        [
         1864,
         "<StoreSurvey xmlns=\"http://schemas.microsoft.com/sqlserver/2004/07/adventure-works/StoreSurvey\"><AnnualSales>3000000</AnnualSales><AnnualRevenue>300000</AnnualRevenue><BankName>Primary Bank &amp; Reserve</BankName><BusinessType>OS</BusinessType><YearOpened>1978</YearOpened><Specialty>Mountain</Specialty><SquareFeet>76000</SquareFeet><Brands>4+</Brands><Internet>DSL</Internet><NumberEmployees>86</NumberEmployees></StoreSurvey>",
         "2014-09-12",
         "Plastic Parts Company",
         278,
         "ce201239-6a87-4995-a399-2ee197df8d0f"
        ],
        [
         1866,
         "<StoreSurvey xmlns=\"http://schemas.microsoft.com/sqlserver/2004/07/adventure-works/StoreSurvey\"><AnnualSales>3000000</AnnualSales><AnnualRevenue>300000</AnnualRevenue><BankName>International Bank</BankName><BusinessType>OS</BusinessType><YearOpened>1983</YearOpened><Specialty>Touring</Specialty><SquareFeet>74000</SquareFeet><Brands>2</Brands><Internet>T1</Internet><NumberEmployees>87</NumberEmployees></StoreSurvey>",
         "2014-09-12",
         "Gears and Parts Company",
         286,
         "8fc966e0-ad57-4b20-b4fd-f03da9bb9ccb"
        ],
        [
         1868,
         "<StoreSurvey xmlns=\"http://schemas.microsoft.com/sqlserver/2004/07/adventure-works/StoreSurvey\"><AnnualSales>3000000</AnnualSales><AnnualRevenue>300000</AnnualRevenue><BankName>United Security</BankName><BusinessType>OS</BusinessType><YearOpened>1975</YearOpened><Specialty>Mountain</Specialty><SquareFeet>76000</SquareFeet><Brands>3</Brands><Internet>DSL</Internet><NumberEmployees>88</NumberEmployees></StoreSurvey>",
         "2014-09-12",
         "Executive Gift Store",
         275,
         "2387a2b5-33ea-4e68-8a92-11c251f92280"
        ],
        [
         1870,
         "<StoreSurvey xmlns=\"http://schemas.microsoft.com/sqlserver/2004/07/adventure-works/StoreSurvey\"><AnnualSales>3000000</AnnualSales><AnnualRevenue>300000</AnnualRevenue><BankName>Reserve Security</BankName><BusinessType>OS</BusinessType><YearOpened>1980</YearOpened><Specialty>Touring</Specialty><SquareFeet>77000</SquareFeet><Brands>4+</Brands><Internet>DSL</Internet><NumberEmployees>89</NumberEmployees></StoreSurvey>",
         "2014-09-12",
         "Big Cycle Mall",
         277,
         "17fa0e6e-9ef9-4574-9338-d0610acfd99a"
        ],
        [
         1872,
         "<StoreSurvey xmlns=\"http://schemas.microsoft.com/sqlserver/2004/07/adventure-works/StoreSurvey\"><AnnualSales>800000</AnnualSales><AnnualRevenue>80000</AnnualRevenue><BankName>International Bank</BankName><BusinessType>BM</BusinessType><YearOpened>1997</YearOpened><Specialty>Road</Specialty><SquareFeet>22000</SquareFeet><Brands>AW</Brands><Internet>ISDN</Internet><NumberEmployees>18</NumberEmployees></StoreSurvey>",
         "2014-09-12",
         "Budget Bike Company",
         279,
         "a954dc6d-de84-4eb7-b23b-120571fdfde8"
        ],
        [
         1874,
         "<StoreSurvey xmlns=\"http://schemas.microsoft.com/sqlserver/2004/07/adventure-works/StoreSurvey\"><AnnualSales>800000</AnnualSales><AnnualRevenue>80000</AnnualRevenue><BankName>Primary Bank &amp; Reserve</BankName><BusinessType>BM</BusinessType><YearOpened>1975</YearOpened><Specialty>Touring</Specialty><SquareFeet>21000</SquareFeet><Brands>3</Brands><Internet>T2</Internet><NumberEmployees>19</NumberEmployees></StoreSurvey>",
         "2014-09-12",
         "Eighth Bike Store",
         281,
         "311afc6c-933d-41b8-83b8-51551f1d8ff0"
        ],
        [
         1876,
         "<StoreSurvey xmlns=\"http://schemas.microsoft.com/sqlserver/2004/07/adventure-works/StoreSurvey\"><AnnualSales>1000000</AnnualSales><AnnualRevenue>100000</AnnualRevenue><BankName>International Security</BankName><BusinessType>BM</BusinessType><YearOpened>2000</YearOpened><Specialty>Road</Specialty><SquareFeet>24000</SquareFeet><Brands>4+</Brands><Internet>T1</Internet><NumberEmployees>20</NumberEmployees></StoreSurvey>",
         "2014-09-12",
         "Demand Distributors",
         283,
         "b34e161a-8ed8-4e28-a86c-200ce4704883"
        ],
        [
         1878,
         "<StoreSurvey xmlns=\"http://schemas.microsoft.com/sqlserver/2004/07/adventure-works/StoreSurvey\"><AnnualSales>800000</AnnualSales><AnnualRevenue>80000</AnnualRevenue><BankName>Guardian Bank</BankName><BusinessType>BM</BusinessType><YearOpened>2000</YearOpened><Specialty>Mountain</Specialty><SquareFeet>22000</SquareFeet><Brands>4+</Brands><Internet>T2</Internet><NumberEmployees>17</NumberEmployees></StoreSurvey>",
         "2014-09-12",
         "Immediate Repair Shop",
         275,
         "0c2d39a6-b731-4d81-8253-85a0d25acd25"
        ],
        [
         1880,
         "<StoreSurvey xmlns=\"http://schemas.microsoft.com/sqlserver/2004/07/adventure-works/StoreSurvey\"><AnnualSales>800000</AnnualSales><AnnualRevenue>80000</AnnualRevenue><BankName>Primary International</BankName><BusinessType>BM</BusinessType><YearOpened>1994</YearOpened><Specialty>Touring</Specialty><SquareFeet>22000</SquareFeet><Brands>4+</Brands><Internet>T1</Internet><NumberEmployees>14</NumberEmployees></StoreSurvey>",
         "2014-09-12",
         "Off-Price Bike Center",
         288,
         "0bd08a52-187e-42bb-8a1c-2ac8971bfa12"
        ],
        [
         1882,
         "<StoreSurvey xmlns=\"http://schemas.microsoft.com/sqlserver/2004/07/adventure-works/StoreSurvey\"><AnnualSales>800000</AnnualSales><AnnualRevenue>80000</AnnualRevenue><BankName>Reserve Security</BankName><BusinessType>BM</BusinessType><YearOpened>1988</YearOpened><Specialty>Mountain</Specialty><SquareFeet>18000</SquareFeet><Brands>3</Brands><Internet>DSL</Internet><NumberEmployees>11</NumberEmployees></StoreSurvey>",
         "2014-09-12",
         "Red Bicycle Company",
         282,
         "b8e6ef57-7087-4b21-9636-0e657902714e"
        ],
        [
         1884,
         "<StoreSurvey xmlns=\"http://schemas.microsoft.com/sqlserver/2004/07/adventure-works/StoreSurvey\"><AnnualSales>300000</AnnualSales><AnnualRevenue>30000</AnnualRevenue><BankName>United Security</BankName><BusinessType>BM</BusinessType><YearOpened>1982</YearOpened><Specialty>Road</Specialty><SquareFeet>11000</SquareFeet><Brands>4+</Brands><Internet>T1</Internet><NumberEmployees>8</NumberEmployees></StoreSurvey>",
         "2014-09-12",
         "Retirement Activities Association",
         279,
         "acdca9a3-f6f2-4e09-a9af-61f6b9834595"
        ],
        [
         1886,
         "<StoreSurvey xmlns=\"http://schemas.microsoft.com/sqlserver/2004/07/adventure-works/StoreSurvey\"><AnnualSales>300000</AnnualSales><AnnualRevenue>30000</AnnualRevenue><BankName>International Bank</BankName><BusinessType>BM</BusinessType><YearOpened>1976</YearOpened><Specialty>Touring</Specialty><SquareFeet>9000</SquareFeet><Brands>AW</Brands><Internet>DSL</Internet><NumberEmployees>5</NumberEmployees></StoreSurvey>",
         "2014-09-12",
         "Trendy Department Stores",
         281,
         "5f8c35a3-92f4-4979-a838-5b93c221b9df"
        ],
        [
         1888,
         "<StoreSurvey xmlns=\"http://schemas.microsoft.com/sqlserver/2004/07/adventure-works/StoreSurvey\"><AnnualSales>300000</AnnualSales><AnnualRevenue>30000</AnnualRevenue><BankName>Primary Bank &amp; Reserve</BankName><BusinessType>BM</BusinessType><YearOpened>1970</YearOpened><Specialty>Touring</Specialty><SquareFeet>9000</SquareFeet><Brands>AW</Brands><Internet>DSL</Internet><NumberEmployees>2</NumberEmployees></StoreSurvey>",
         "2014-09-12",
         "Vintage Sport Boutique",
         283,
         "6d6e4980-1732-4c6f-9045-31c3e1c75abb"
        ],
        [
         1890,
         "<StoreSurvey xmlns=\"http://schemas.microsoft.com/sqlserver/2004/07/adventure-works/StoreSurvey\"><AnnualSales>800000</AnnualSales><AnnualRevenue>80000</AnnualRevenue><BankName>United Security</BankName><BusinessType>BM</BusinessType><YearOpened>1997</YearOpened><Specialty>Mountain</Specialty><SquareFeet>18000</SquareFeet><Brands>4+</Brands><Internet>DSL</Internet><NumberEmployees>17</NumberEmployees></StoreSurvey>",
         "2014-09-12",
         "Travel Sports",
         280,
         "5e8bf52b-d5c7-49ab-bc10-ddced8cf5dda"
        ],
        [
         1892,
         "<StoreSurvey xmlns=\"http://schemas.microsoft.com/sqlserver/2004/07/adventure-works/StoreSurvey\"><AnnualSales>800000</AnnualSales><AnnualRevenue>80000</AnnualRevenue><BankName>International Bank</BankName><BusinessType>BM</BusinessType><YearOpened>1975</YearOpened><Specialty>Touring</Specialty><SquareFeet>19000</SquareFeet><Brands>3</Brands><Internet>DSL</Internet><NumberEmployees>18</NumberEmployees></StoreSurvey>",
         "2014-09-12",
         "West Side Mart",
         289,
         "ac3c4acf-213f-4bcd-9778-dca173060cc0"
        ],
        [
         1894,
         "<StoreSurvey xmlns=\"http://schemas.microsoft.com/sqlserver/2004/07/adventure-works/StoreSurvey\"><AnnualSales>800000</AnnualSales><AnnualRevenue>80000</AnnualRevenue><BankName>Primary Bank &amp; Reserve</BankName><BusinessType>BM</BusinessType><YearOpened>2000</YearOpened><Specialty>Touring</Specialty><SquareFeet>21000</SquareFeet><Brands>2</Brands><Internet>T1</Internet><NumberEmployees>19</NumberEmployees></StoreSurvey>",
         "2014-09-12",
         "The Bike Outlet",
         290,
         "9a11a00b-06e6-4e9b-a7d7-69fd4045f80e"
        ],
        [
         1896,
         "<StoreSurvey xmlns=\"http://schemas.microsoft.com/sqlserver/2004/07/adventure-works/StoreSurvey\"><AnnualSales>800000</AnnualSales><AnnualRevenue>80000</AnnualRevenue><BankName>International Bank</BankName><BusinessType>BM</BusinessType><YearOpened>1994</YearOpened><Specialty>Road</Specialty><SquareFeet>23000</SquareFeet><Brands>4+</Brands><Internet>DSL</Internet><NumberEmployees>18</NumberEmployees></StoreSurvey>",
         "2014-09-12",
         "Tenth Bike Store",
         282,
         "66b28442-b5d7-4332-9ef2-e89221fdbb9b"
        ],
        [
         1898,
         "<StoreSurvey xmlns=\"http://schemas.microsoft.com/sqlserver/2004/07/adventure-works/StoreSurvey\"><AnnualSales>800000</AnnualSales><AnnualRevenue>80000</AnnualRevenue><BankName>Primary Bank &amp; Reserve</BankName><BusinessType>BM</BusinessType><YearOpened>1988</YearOpened><Specialty>Mountain</Specialty><SquareFeet>20000</SquareFeet><Brands>2</Brands><Internet>DSL</Internet><NumberEmployees>16</NumberEmployees></StoreSurvey>",
         "2014-09-12",
         "Valuable Bike Parts Company",
         279,
         "3e4f1b95-2189-4ee2-a882-749a904b1dfa"
        ],
        [
         1900,
         "<StoreSurvey xmlns=\"http://schemas.microsoft.com/sqlserver/2004/07/adventure-works/StoreSurvey\"><AnnualSales>800000</AnnualSales><AnnualRevenue>80000</AnnualRevenue><BankName>International Security</BankName><BusinessType>BM</BusinessType><YearOpened>1982</YearOpened><Specialty>Road</Specialty><SquareFeet>22000</SquareFeet><Brands>3</Brands><Internet>DSL</Internet><NumberEmployees>14</NumberEmployees></StoreSurvey>",
         "2014-09-12",
         "Fun Times Club",
         281,
         "2ae16c95-ed93-45e7-a3ab-3d4c60dfb9a9"
        ],
        [
         1902,
         "<StoreSurvey xmlns=\"http://schemas.microsoft.com/sqlserver/2004/07/adventure-works/StoreSurvey\"><AnnualSales>800000</AnnualSales><AnnualRevenue>80000</AnnualRevenue><BankName>Guardian Bank</BankName><BusinessType>BM</BusinessType><YearOpened>1976</YearOpened><Specialty>Road</Specialty><SquareFeet>20000</SquareFeet><Brands>3</Brands><Internet>DSL</Internet><NumberEmployees>12</NumberEmployees></StoreSurvey>",
         "2014-09-12",
         "Chain and Chain Tool Distributions",
         279,
         "4034b966-97e9-42f1-a475-406339846dc5"
        ],
        [
         1904,
         "<StoreSurvey xmlns=\"http://schemas.microsoft.com/sqlserver/2004/07/adventure-works/StoreSurvey\"><AnnualSales>800000</AnnualSales><AnnualRevenue>80000</AnnualRevenue><BankName>Primary International</BankName><BusinessType>BM</BusinessType><YearOpened>1970</YearOpened><Specialty>Road</Specialty><SquareFeet>17000</SquareFeet><Brands>2</Brands><Internet>T1</Internet><NumberEmployees>10</NumberEmployees></StoreSurvey>",
         "2014-09-12",
         "Mobile Outlet",
         275,
         "9acf0c46-95c0-40d3-b39e-44c548a7a8ab"
        ],
        [
         1906,
         "<StoreSurvey xmlns=\"http://schemas.microsoft.com/sqlserver/2004/07/adventure-works/StoreSurvey\"><AnnualSales>300000</AnnualSales><AnnualRevenue>30000</AnnualRevenue><BankName>Reserve Security</BankName><BusinessType>BM</BusinessType><YearOpened>1975</YearOpened><Specialty>Road</Specialty><SquareFeet>10000</SquareFeet><Brands>2</Brands><Internet>DSL</Internet><NumberEmployees>8</NumberEmployees></StoreSurvey>",
         "2014-09-12",
         "Regional Cycle Shop",
         288,
         "793a1b41-4b83-416b-853c-fb190b79728c"
        ],
        [
         1908,
         "<StoreSurvey xmlns=\"http://schemas.microsoft.com/sqlserver/2004/07/adventure-works/StoreSurvey\"><AnnualSales>300000</AnnualSales><AnnualRevenue>30000</AnnualRevenue><BankName>United Security</BankName><BusinessType>BM</BusinessType><YearOpened>1970</YearOpened><Specialty>Mountain</Specialty><SquareFeet>10000</SquareFeet><Brands>4+</Brands><Internet>DSL</Internet><NumberEmployees>6</NumberEmployees></StoreSurvey>",
         "2014-09-12",
         "Rural Bicycle Supply",
         282,
         "0f7aa600-6050-49ba-819d-30a7d3ab4b5b"
        ],
        [
         1910,
         "<StoreSurvey xmlns=\"http://schemas.microsoft.com/sqlserver/2004/07/adventure-works/StoreSurvey\"><AnnualSales>800000</AnnualSales><AnnualRevenue>80000</AnnualRevenue><BankName>International Bank</BankName><BusinessType>BM</BusinessType><YearOpened>1999</YearOpened><Specialty>Mountain</Specialty><SquareFeet>20000</SquareFeet><Brands>3</Brands><Internet>T1</Internet><NumberEmployees>15</NumberEmployees></StoreSurvey>",
         "2014-09-12",
         "Wingtip Toys",
         283,
         "23f57be6-5b8b-447b-ae0d-3a161c09a0ac"
        ],
        [
         1912,
         "<StoreSurvey xmlns=\"http://schemas.microsoft.com/sqlserver/2004/07/adventure-works/StoreSurvey\"><AnnualSales>800000</AnnualSales><AnnualRevenue>80000</AnnualRevenue><BankName>Primary Bank &amp; Reserve</BankName><BusinessType>BM</BusinessType><YearOpened>1994</YearOpened><Specialty>Mountain</Specialty><SquareFeet>22000</SquareFeet><Brands>3</Brands><Internet>T1</Internet><NumberEmployees>16</NumberEmployees></StoreSurvey>",
         "2014-09-12",
         "The Cycle Store",
         275,
         "3fce0ef1-27ca-48ee-9339-3523648400d1"
        ],
        [
         1914,
         "<StoreSurvey xmlns=\"http://schemas.microsoft.com/sqlserver/2004/07/adventure-works/StoreSurvey\"><AnnualSales>800000</AnnualSales><AnnualRevenue>80000</AnnualRevenue><BankName>International Security</BankName><BusinessType>BM</BusinessType><YearOpened>1987</YearOpened><Specialty>Touring</Specialty><SquareFeet>19000</SquareFeet><Brands>2</Brands><Internet>DSL</Internet><NumberEmployees>17</NumberEmployees></StoreSurvey>",
         "2014-09-12",
         "Educational Services",
         288,
         "74b0c415-ae1e-4fd1-985b-a62f7c378632"
        ],
        [
         1916,
         "<StoreSurvey xmlns=\"http://schemas.microsoft.com/sqlserver/2004/07/adventure-works/StoreSurvey\"><AnnualSales>800000</AnnualSales><AnnualRevenue>80000</AnnualRevenue><BankName>Guardian Bank</BankName><BusinessType>BM</BusinessType><YearOpened>1997</YearOpened><Specialty>Road</Specialty><SquareFeet>20000</SquareFeet><Brands>4+</Brands><Internet>T1</Internet><NumberEmployees>18</NumberEmployees></StoreSurvey>",
         "2014-09-12",
         "Active Life Toys",
         282,
         "0893dd3b-bd98-4820-aae6-ed7f8562d210"
        ],
        [
         1918,
         "<StoreSurvey xmlns=\"http://schemas.microsoft.com/sqlserver/2004/07/adventure-works/StoreSurvey\"><AnnualSales>800000</AnnualSales><AnnualRevenue>80000</AnnualRevenue><BankName>Primary International</BankName><BusinessType>BM</BusinessType><YearOpened>1975</YearOpened><Specialty>Road</Specialty><SquareFeet>21000</SquareFeet><Brands>4+</Brands><Internet>DSL</Internet><NumberEmployees>19</NumberEmployees></StoreSurvey>",
         "2014-09-12",
         "Simple Bike Parts",
         279,
         "608d52aa-1d0d-4d5d-a0a0-47f9977af2af"
        ],
        [
         1920,
         "<StoreSurvey xmlns=\"http://schemas.microsoft.com/sqlserver/2004/07/adventure-works/StoreSurvey\"><AnnualSales>1000000</AnnualSales><AnnualRevenue>100000</AnnualRevenue><BankName>Reserve Security</BankName><BusinessType>BM</BusinessType><YearOpened>2000</YearOpened><Specialty>Mountain</Specialty><SquareFeet>24000</SquareFeet><Brands>2</Brands><Internet>T1</Internet><NumberEmployees>20</NumberEmployees></StoreSurvey>",
         "2014-09-12",
         "Timely Shipping Service",
         281,
         "5b92790f-aa8b-4f60-8dc8-bc45bf25e4a6"
        ],
        [
         1922,
         "<StoreSurvey xmlns=\"http://schemas.microsoft.com/sqlserver/2004/07/adventure-works/StoreSurvey\"><AnnualSales>800000</AnnualSales><AnnualRevenue>80000</AnnualRevenue><BankName>United Security</BankName><BusinessType>BM</BusinessType><YearOpened>2000</YearOpened><Specialty>Touring</Specialty><SquareFeet>22000</SquareFeet><Brands>3</Brands><Internet>T2</Internet><NumberEmployees>17</NumberEmployees></StoreSurvey>",
         "2014-09-12",
         "A Cycle Shop",
         283,
         "d2a3db53-0901-4322-a7af-1cc77a7b1778"
        ],
        [
         1924,
         "<StoreSurvey xmlns=\"http://schemas.microsoft.com/sqlserver/2004/07/adventure-works/StoreSurvey\"><AnnualSales>800000</AnnualSales><AnnualRevenue>80000</AnnualRevenue><BankName>International Bank</BankName><BusinessType>BM</BusinessType><YearOpened>1994</YearOpened><Specialty>Mountain</Specialty><SquareFeet>19000</SquareFeet><Brands>AW</Brands><Internet>T2</Internet><NumberEmployees>14</NumberEmployees></StoreSurvey>",
         "2014-09-12",
         "Bike Products and Accessories",
         275,
         "7fb517f3-ecee-4451-9563-c95665a0b777"
        ],
        [
         1926,
         "<StoreSurvey xmlns=\"http://schemas.microsoft.com/sqlserver/2004/07/adventure-works/StoreSurvey\"><AnnualSales>800000</AnnualSales><AnnualRevenue>80000</AnnualRevenue><BankName>Primary Bank &amp; Reserve</BankName><BusinessType>BM</BusinessType><YearOpened>1988</YearOpened><Specialty>Touring</Specialty><SquareFeet>21000</SquareFeet><Brands>2</Brands><Internet>T1</Internet><NumberEmployees>11</NumberEmployees></StoreSurvey>",
         "2014-09-12",
         "Fitness Toys",
         288,
         "70cbfdc4-a8fe-4bdd-9571-8fc617bdfcb7"
        ],
        [
         1928,
         "<StoreSurvey xmlns=\"http://schemas.microsoft.com/sqlserver/2004/07/adventure-works/StoreSurvey\"><AnnualSales>300000</AnnualSales><AnnualRevenue>30000</AnnualRevenue><BankName>International Security</BankName><BusinessType>BM</BusinessType><YearOpened>1984</YearOpened><Specialty>Touring</Specialty><SquareFeet>7000</SquareFeet><Brands>4+</Brands><Internet>DSL</Internet><NumberEmployees>5</NumberEmployees></StoreSurvey>",
         "2014-09-12",
         "Quick Parts and Service",
         278,
         "638dfc4e-0c69-4538-8da8-7e82b1b7a9ce"
        ],
        [
         1930,
         "<StoreSurvey xmlns=\"http://schemas.microsoft.com/sqlserver/2004/07/adventure-works/StoreSurvey\"><AnnualSales>300000</AnnualSales><AnnualRevenue>30000</AnnualRevenue><BankName>Guardian Bank</BankName><BusinessType>BM</BusinessType><YearOpened>1979</YearOpened><Specialty>Mountain</Specialty><SquareFeet>7000</SquareFeet><Brands>3</Brands><Internet>DSL</Internet><NumberEmployees>6</NumberEmployees></StoreSurvey>",
         "2014-09-12",
         "Reliable Brake Systems",
         279,
         "e33ad5ac-f5ce-4070-bbf0-5f9d3d5dbefb"
        ],
        [
         1932,
         "<StoreSurvey xmlns=\"http://schemas.microsoft.com/sqlserver/2004/07/adventure-works/StoreSurvey\"><AnnualSales>300000</AnnualSales><AnnualRevenue>30000</AnnualRevenue><BankName>Primary International</BankName><BusinessType>BM</BusinessType><YearOpened>1987</YearOpened><Specialty>Road</Specialty><SquareFeet>8000</SquareFeet><Brands>2</Brands><Internet>DSL</Internet><NumberEmployees>7</NumberEmployees></StoreSurvey>",
         "2014-09-12",
         "Thrifty Parts and Sales",
         276,
         "b8862d14-e834-48e6-b0a6-643eb0b7900b"
        ],
        [
         1934,
         "<StoreSurvey xmlns=\"http://schemas.microsoft.com/sqlserver/2004/07/adventure-works/StoreSurvey\"><AnnualSales>300000</AnnualSales><AnnualRevenue>30000</AnnualRevenue><BankName>Reserve Security</BankName><BusinessType>BM</BusinessType><YearOpened>1982</YearOpened><Specialty>Road</Specialty><SquareFeet>8000</SquareFeet><Brands>AW</Brands><Internet>T1</Internet><NumberEmployees>8</NumberEmployees></StoreSurvey>",
         "2014-09-12",
         "A Typical Bike Shop",
         277,
         "68147f2d-51db-4ef8-8909-4d5951f18d0c"
        ],
        [
         1936,
         "<StoreSurvey xmlns=\"http://schemas.microsoft.com/sqlserver/2004/07/adventure-works/StoreSurvey\"><AnnualSales>300000</AnnualSales><AnnualRevenue>30000</AnnualRevenue><BankName>United Security</BankName><BusinessType>BM</BusinessType><YearOpened>1990</YearOpened><Specialty>Road</Specialty><SquareFeet>8000</SquareFeet><Brands>AW</Brands><Internet>T2</Internet><NumberEmployees>9</NumberEmployees></StoreSurvey>",
         "2014-09-12",
         "Active Transport Inc.",
         275,
         "08ace001-1d14-4fc9-ae2d-bc20edb2f9dc"
        ],
        [
         1938,
         "<StoreSurvey xmlns=\"http://schemas.microsoft.com/sqlserver/2004/07/adventure-works/StoreSurvey\"><AnnualSales>800000</AnnualSales><AnnualRevenue>80000</AnnualRevenue><BankName>International Bank</BankName><BusinessType>BM</BusinessType><YearOpened>1985</YearOpened><Specialty>Touring</Specialty><SquareFeet>20000</SquareFeet><Brands>3</Brands><Internet>T2</Internet><NumberEmployees>10</NumberEmployees></StoreSurvey>",
         "2014-09-12",
         "Cycle Parts and Accessories",
         286,
         "f2bbf7e1-a7eb-4966-bc17-64288e4568f6"
        ],
        [
         1940,
         "<StoreSurvey xmlns=\"http://schemas.microsoft.com/sqlserver/2004/07/adventure-works/StoreSurvey\"><AnnualSales>800000</AnnualSales><AnnualRevenue>80000</AnnualRevenue><BankName>Primary Bank &amp; Reserve</BankName><BusinessType>BM</BusinessType><YearOpened>1993</YearOpened><Specialty>Touring</Specialty><SquareFeet>18000</SquareFeet><Brands>4+</Brands><Internet>DSL</Internet><NumberEmployees>11</NumberEmployees></StoreSurvey>",
         "2014-09-12",
         "Fasteners & Bolts Outlet",
         278,
         "42ebcb9e-a948-46ad-b1e9-1ce6b3586670"
        ],
        [
         1942,
         "<StoreSurvey xmlns=\"http://schemas.microsoft.com/sqlserver/2004/07/adventure-works/StoreSurvey\"><AnnualSales>800000</AnnualSales><AnnualRevenue>80000</AnnualRevenue><BankName>International Security</BankName><BusinessType>BM</BusinessType><YearOpened>1988</YearOpened><Specialty>Mountain</Specialty><SquareFeet>19000</SquareFeet><Brands>3</Brands><Internet>DSL</Internet><NumberEmployees>12</NumberEmployees></StoreSurvey>",
         "2014-09-12",
         "Functional Store North",
         279,
         "33313e49-4158-4e04-acb3-9f6407b0eb02"
        ],
        [
         1944,
         "<StoreSurvey xmlns=\"http://schemas.microsoft.com/sqlserver/2004/07/adventure-works/StoreSurvey\"><AnnualSales>800000</AnnualSales><AnnualRevenue>80000</AnnualRevenue><BankName>Guardian Bank</BankName><BusinessType>BM</BusinessType><YearOpened>1996</YearOpened><Specialty>Road</Specialty><SquareFeet>19000</SquareFeet><Brands>3</Brands><Internet>DSL</Internet><NumberEmployees>13</NumberEmployees></StoreSurvey>",
         "2014-09-12",
         "Quantity Discounts",
         276,
         "7c2547ec-e661-4c36-bb47-51f57ac3dbc4"
        ],
        [
         1946,
         "<StoreSurvey xmlns=\"http://schemas.microsoft.com/sqlserver/2004/07/adventure-works/StoreSurvey\"><AnnualSales>800000</AnnualSales><AnnualRevenue>80000</AnnualRevenue><BankName>Primary International</BankName><BusinessType>BM</BusinessType><YearOpened>1991</YearOpened><Specialty>Road</Specialty><SquareFeet>22000</SquareFeet><Brands>3</Brands><Internet>ISDN</Internet><NumberEmployees>14</NumberEmployees></StoreSurvey>",
         "2014-09-12",
         "Swift Cycles",
         277,
         "c05a6203-36f7-4be4-92e6-e7cf57b838c3"
        ],
        [
         1948,
         "<StoreSurvey xmlns=\"http://schemas.microsoft.com/sqlserver/2004/07/adventure-works/StoreSurvey\"><AnnualSales>800000</AnnualSales><AnnualRevenue>80000</AnnualRevenue><BankName>Reserve Security</BankName><BusinessType>BM</BusinessType><YearOpened>1999</YearOpened><Specialty>Mountain</Specialty><SquareFeet>22000</SquareFeet><Brands>2</Brands><Internet>DSL</Internet><NumberEmployees>15</NumberEmployees></StoreSurvey>",
         "2014-09-12",
         "Classic Cycle Store",
         275,
         "966674c7-2048-4d9e-8a92-138e9b09030d"
        ],
        [
         1950,
         "<StoreSurvey xmlns=\"http://schemas.microsoft.com/sqlserver/2004/07/adventure-works/StoreSurvey\"><AnnualSales>800000</AnnualSales><AnnualRevenue>80000</AnnualRevenue><BankName>United Security</BankName><BusinessType>BM</BusinessType><YearOpened>1994</YearOpened><Specialty>Touring</Specialty><SquareFeet>19000</SquareFeet><Brands>4+</Brands><Internet>DSL</Internet><NumberEmployees>16</NumberEmployees></StoreSurvey>",
         "2014-09-12",
         "Helpful Sales and Repair Service ",
         286,
         "5b578c14-dcd2-4fa6-a64d-4f87f843722c"
        ],
        [
         1952,
         "<StoreSurvey xmlns=\"http://schemas.microsoft.com/sqlserver/2004/07/adventure-works/StoreSurvey\"><AnnualSales>800000</AnnualSales><AnnualRevenue>80000</AnnualRevenue><BankName>International Bank</BankName><BusinessType>BM</BusinessType><YearOpened>1987</YearOpened><Specialty>Mountain</Specialty><SquareFeet>19000</SquareFeet><Brands>4+</Brands><Internet>T1</Internet><NumberEmployees>17</NumberEmployees></StoreSurvey>",
         "2014-09-12",
         "Large Bike Shop",
         278,
         "8b1e2f28-a97f-4b3e-9130-ac855b3f8a42"
        ],
        [
         1954,
         "<StoreSurvey xmlns=\"http://schemas.microsoft.com/sqlserver/2004/07/adventure-works/StoreSurvey\"><AnnualSales>800000</AnnualSales><AnnualRevenue>80000</AnnualRevenue><BankName>Primary Bank &amp; Reserve</BankName><BusinessType>BM</BusinessType><YearOpened>1997</YearOpened><Specialty>Mountain</Specialty><SquareFeet>22000</SquareFeet><Brands>3</Brands><Internet>DSL</Internet><NumberEmployees>18</NumberEmployees></StoreSurvey>",
         "2014-09-12",
         "Recreation Supplies",
         279,
         "00e69db8-5933-4f61-a963-7808c4baf0c5"
        ],
        [
         1956,
         "<StoreSurvey xmlns=\"http://schemas.microsoft.com/sqlserver/2004/07/adventure-works/StoreSurvey\"><AnnualSales>800000</AnnualSales><AnnualRevenue>80000</AnnualRevenue><BankName>International Security</BankName><BusinessType>BM</BusinessType><YearOpened>1975</YearOpened><Specialty>Road</Specialty><SquareFeet>19000</SquareFeet><Brands>4+</Brands><Internet>DSL</Internet><NumberEmployees>19</NumberEmployees></StoreSurvey>",
         "2014-09-12",
         "Wire Baskets and Parts",
         276,
         "d8dca6ad-2529-469d-bb71-314f7a177e65"
        ],
        [
         1958,
         "<StoreSurvey xmlns=\"http://schemas.microsoft.com/sqlserver/2004/07/adventure-works/StoreSurvey\"><AnnualSales>3000000</AnnualSales><AnnualRevenue>300000</AnnualRevenue><BankName>International Security</BankName><BusinessType>OS</BusinessType><YearOpened>1974</YearOpened><Specialty>Mountain</Specialty><SquareFeet>78000</SquareFeet><Brands>2</Brands><Internet>T1</Internet><NumberEmployees>94</NumberEmployees></StoreSurvey>",
         "2014-09-12",
         "Ultimate Bicycle Company",
         290,
         "304c84b4-89a5-4b0f-8bbd-461e8c70c13c"
        ],
        [
         1960,
         "<StoreSurvey xmlns=\"http://schemas.microsoft.com/sqlserver/2004/07/adventure-works/StoreSurvey\"><AnnualSales>3000000</AnnualSales><AnnualRevenue>300000</AnnualRevenue><BankName>Primary Bank &amp; Reserve</BankName><BusinessType>OS</BusinessType><YearOpened>1980</YearOpened><Specialty>Mountain</Specialty><SquareFeet>76000</SquareFeet><Brands>3</Brands><Internet>DSL</Internet><NumberEmployees>95</NumberEmployees></StoreSurvey>",
         "2014-09-12",
         "Sports Store",
         289,
         "ff449303-a956-4800-ad4c-a7892235679c"
        ],
        [
         1962,
         "<StoreSurvey xmlns=\"http://schemas.microsoft.com/sqlserver/2004/07/adventure-works/StoreSurvey\"><AnnualSales>3000000</AnnualSales><AnnualRevenue>300000</AnnualRevenue><BankName>International Bank</BankName><BusinessType>OS</BusinessType><YearOpened>1986</YearOpened><Specialty>Road</Specialty><SquareFeet>78000</SquareFeet><Brands>2</Brands><Internet>DSL</Internet><NumberEmployees>96</NumberEmployees></StoreSurvey>",
         "2014-09-12",
         "Metropolitan Equipment",
         290,
         "32618f97-57c6-454a-a594-172076b0f52c"
        ],
        [
         1964,
         "<StoreSurvey xmlns=\"http://schemas.microsoft.com/sqlserver/2004/07/adventure-works/StoreSurvey\"><AnnualSales>3000000</AnnualSales><AnnualRevenue>300000</AnnualRevenue><BankName>United Security</BankName><BusinessType>OS</BusinessType><YearOpened>1992</YearOpened><Specialty>Road</Specialty><SquareFeet>78000</SquareFeet><Brands>4+</Brands><Internet>T1</Internet><NumberEmployees>97</NumberEmployees></StoreSurvey>",
         "2014-09-12",
         "Extended Tours",
         289,
         "993c0120-5e56-4ab8-9e1b-bf71be3b7faa"
        ],
        [
         1966,
         "<StoreSurvey xmlns=\"http://schemas.microsoft.com/sqlserver/2004/07/adventure-works/StoreSurvey\"><AnnualSales>3000000</AnnualSales><AnnualRevenue>300000</AnnualRevenue><BankName>Reserve Security</BankName><BusinessType>OS</BusinessType><YearOpened>1998</YearOpened><Specialty>Road</Specialty><SquareFeet>77000</SquareFeet><Brands>4+</Brands><Internet>T1</Internet><NumberEmployees>98</NumberEmployees></StoreSurvey>",
         "2014-09-12",
         "Convenient Sales and Service",
         280,
         "4a396e48-e3ff-4115-a0c6-51847e75adcf"
        ],
        [
         1968,
         "<StoreSurvey xmlns=\"http://schemas.microsoft.com/sqlserver/2004/07/adventure-works/StoreSurvey\"><AnnualSales>3000000</AnnualSales><AnnualRevenue>300000</AnnualRevenue><BankName>Primary International</BankName><BusinessType>OS</BusinessType><YearOpened>1999</YearOpened><Specialty>Road</Specialty><SquareFeet>77000</SquareFeet><Brands>4+</Brands><Internet>DSL</Internet><NumberEmployees>99</NumberEmployees></StoreSurvey>",
         "2014-09-12",
         "Solid Bike Parts",
         277,
         "5e7cb5e1-6651-49e6-a5cf-edf584f7ec92"
        ],
        [
         1970,
         "<StoreSurvey xmlns=\"http://schemas.microsoft.com/sqlserver/2004/07/adventure-works/StoreSurvey\"><AnnualSales>3000000</AnnualSales><AnnualRevenue>300000</AnnualRevenue><BankName>Guardian Bank</BankName><BusinessType>OS</BusinessType><YearOpened>1999</YearOpened><Specialty>Mountain</Specialty><SquareFeet>79000</SquareFeet><Brands>4+</Brands><Internet>DSL</Internet><NumberEmployees>100</NumberEmployees></StoreSurvey>",
         "2014-09-12",
         "Permanent Finish Products",
         281,
         "7c270785-2478-4e43-9681-ec76000f4881"
        ],
        [
         1972,
         "<StoreSurvey xmlns=\"http://schemas.microsoft.com/sqlserver/2004/07/adventure-works/StoreSurvey\"><AnnualSales>3000000</AnnualSales><AnnualRevenue>300000</AnnualRevenue><BankName>International Security</BankName><BusinessType>OS</BusinessType><YearOpened>1979</YearOpened><Specialty>Mountain</Specialty><SquareFeet>71000</SquareFeet><Brands>4+</Brands><Internet>T1</Internet><NumberEmployees>66</NumberEmployees></StoreSurvey>",
         "2014-09-12",
         "Mercantile Outlet",
         282,
         "27758a68-359b-4ea6-8689-5cb8b4a5f489"
        ],
        [
         1974,
         "<StoreSurvey xmlns=\"http://schemas.microsoft.com/sqlserver/2004/07/adventure-works/StoreSurvey\"><AnnualSales>1500000</AnnualSales><AnnualRevenue>150000</AnnualRevenue><BankName>Guardian Bank</BankName><BusinessType>OS</BusinessType><YearOpened>1974</YearOpened><Specialty>Mountain</Specialty><SquareFeet>39000</SquareFeet><Brands>2</Brands><Internet>DSL</Internet><NumberEmployees>40</NumberEmployees></StoreSurvey>",
         "2014-09-12",
         "Links Works",
         288,
         "6870f695-e4e4-453f-8ecc-0c1cb1c09a14"
        ],
        [
         1976,
         "<StoreSurvey xmlns=\"http://schemas.microsoft.com/sqlserver/2004/07/adventure-works/StoreSurvey\"><AnnualSales>1500000</AnnualSales><AnnualRevenue>150000</AnnualRevenue><BankName>International Security</BankName><BusinessType>OS</BusinessType><YearOpened>1980</YearOpened><Specialty>Road</Specialty><SquareFeet>40000</SquareFeet><Brands>3</Brands><Internet>T2</Internet><NumberEmployees>43</NumberEmployees></StoreSurvey>",
         "2014-09-12",
         "Exhilarating Cycles",
         275,
         "38f8bb38-28b7-42ef-a1ef-c66d247ecb59"
        ],
        [
         1978,
         "<StoreSurvey xmlns=\"http://schemas.microsoft.com/sqlserver/2004/07/adventure-works/StoreSurvey\"><AnnualSales>800000</AnnualSales><AnnualRevenue>80000</AnnualRevenue><BankName>Guardian Bank</BankName><BusinessType>BM</BusinessType><YearOpened>1975</YearOpened><Specialty>Mountain</Specialty><SquareFeet>23000</SquareFeet><Brands>2</Brands><Internet>T1</Internet><NumberEmployees>19</NumberEmployees></StoreSurvey>",
         "2014-09-12",
         "Exercise Center",
         281,
         "7f509b53-0c05-4d57-9596-6701191190da"
        ],
        [
         1980,
         "<StoreSurvey xmlns=\"http://schemas.microsoft.com/sqlserver/2004/07/adventure-works/StoreSurvey\"><AnnualSales>1000000</AnnualSales><AnnualRevenue>100000</AnnualRevenue><BankName>Primary International</BankName><BusinessType>BM</BusinessType><YearOpened>2000</YearOpened><Specialty>Mountain</Specialty><SquareFeet>27000</SquareFeet><Brands>4+</Brands><Internet>T1</Internet><NumberEmployees>20</NumberEmployees></StoreSurvey>",
         "2014-09-12",
         "Great Bicycle Supply",
         277,
         "dca3fda7-7276-45cf-a3ff-74eae11f6798"
        ],
        [
         1982,
         "<StoreSurvey xmlns=\"http://schemas.microsoft.com/sqlserver/2004/07/adventure-works/StoreSurvey\"><AnnualSales>800000</AnnualSales><AnnualRevenue>80000</AnnualRevenue><BankName>Reserve Security</BankName><BusinessType>BM</BusinessType><YearOpened>2000</YearOpened><Specialty>Road</Specialty><SquareFeet>18000</SquareFeet><Brands>4+</Brands><Internet>T1</Internet><NumberEmployees>17</NumberEmployees></StoreSurvey>",
         "2014-09-12",
         "Mail-Order Outlet",
         280,
         "a6644d71-94f1-4964-b258-9be80889f5df"
        ],
        [
         1984,
         "<StoreSurvey xmlns=\"http://schemas.microsoft.com/sqlserver/2004/07/adventure-works/StoreSurvey\"><AnnualSales>800000</AnnualSales><AnnualRevenue>80000</AnnualRevenue><BankName>United Security</BankName><BusinessType>BM</BusinessType><YearOpened>1994</YearOpened><Specialty>Mountain</Specialty><SquareFeet>20000</SquareFeet><Brands>2</Brands><Internet>T1</Internet><NumberEmployees>14</NumberEmployees></StoreSurvey>",
         "2014-09-12",
         "Nearby Cycle Shop",
         289,
         "a0670332-e61e-4ad6-8233-76a3dbbd514a"
        ],
        [
         1986,
         "<StoreSurvey xmlns=\"http://schemas.microsoft.com/sqlserver/2004/07/adventure-works/StoreSurvey\"><AnnualSales>800000</AnnualSales><AnnualRevenue>80000</AnnualRevenue><BankName>International Bank</BankName><BusinessType>BM</BusinessType><YearOpened>1988</YearOpened><Specialty>Mountain</Specialty><SquareFeet>17000</SquareFeet><Brands>3</Brands><Internet>T1</Internet><NumberEmployees>11</NumberEmployees></StoreSurvey>",
         "2014-09-12",
         "Recreation Toy Store",
         290,
         "77a34c42-6d04-406a-8dec-7928a48520ee"
        ],
        [
         1988,
         "<StoreSurvey xmlns=\"http://schemas.microsoft.com/sqlserver/2004/07/adventure-works/StoreSurvey\"><AnnualSales>300000</AnnualSales><AnnualRevenue>30000</AnnualRevenue><BankName>Primary Bank &amp; Reserve</BankName><BusinessType>BM</BusinessType><YearOpened>1982</YearOpened><Specialty>Road</Specialty><SquareFeet>7000</SquareFeet><Brands>4+</Brands><Internet>T2</Internet><NumberEmployees>8</NumberEmployees></StoreSurvey>",
         "2014-09-12",
         "Retreat Inn",
         282,
         "ea21ec81-1bfa-4a07-9b4d-73d9852afcbf"
        ],
        [
         1990,
         "<StoreSurvey xmlns=\"http://schemas.microsoft.com/sqlserver/2004/07/adventure-works/StoreSurvey\"><AnnualSales>300000</AnnualSales><AnnualRevenue>30000</AnnualRevenue><BankName>International Security</BankName><BusinessType>BM</BusinessType><YearOpened>1976</YearOpened><Specialty>Touring</Specialty><SquareFeet>7000</SquareFeet><Brands>4+</Brands><Internet>T1</Internet><NumberEmployees>5</NumberEmployees></StoreSurvey>",
         "2014-09-12",
         "Technical Parts Manufacturing",
         281,
         "c8e3c4ed-8f58-4db2-b600-e0cd11d9cfad"
        ],
        [
         1992,
         "<StoreSurvey xmlns=\"http://schemas.microsoft.com/sqlserver/2004/07/adventure-works/StoreSurvey\"><AnnualSales>300000</AnnualSales><AnnualRevenue>30000</AnnualRevenue><BankName>Guardian Bank</BankName><BusinessType>BM</BusinessType><YearOpened>1970</YearOpened><Specialty>Road</Specialty><SquareFeet>6000</SquareFeet><Brands>4+</Brands><Internet>DSL</Internet><NumberEmployees>2</NumberEmployees></StoreSurvey>",
         "2014-09-12",
         "Totes & Baskets Company",
         277,
         "ce860b58-643c-4567-bfd8-06e97969cc67"
        ],
        [
         1994,
         "<StoreSurvey xmlns=\"http://schemas.microsoft.com/sqlserver/2004/07/adventure-works/StoreSurvey\"><AnnualSales>800000</AnnualSales><AnnualRevenue>80000</AnnualRevenue><BankName>Primary Bank &amp; Reserve</BankName><BusinessType>BM</BusinessType><YearOpened>1997</YearOpened><Specialty>Mountain</Specialty><SquareFeet>19000</SquareFeet><Brands>4+</Brands><Internet>T1</Internet><NumberEmployees>17</NumberEmployees></StoreSurvey>",
         "2014-09-12",
         "World of Bikes",
         277,
         "0c10f2b6-a13a-440c-9c25-5b28d482872a"
        ],
        [
         2051,
         "<StoreSurvey xmlns=\"http://schemas.microsoft.com/sqlserver/2004/07/adventure-works/StoreSurvey\"><AnnualSales>800000</AnnualSales><AnnualRevenue>80000</AnnualRevenue><BankName>International Security</BankName><BusinessType>BM</BusinessType><YearOpened>1975</YearOpened><Specialty>Touring</Specialty><SquareFeet>19000</SquareFeet><Brands>2</Brands><Internet>T1</Internet><NumberEmployees>18</NumberEmployees></StoreSurvey>",
         "2014-09-12",
         "A Bicycle Association",
         275,
         "82237172-d3fe-4a95-82ef-636f655240ad"
        ]
       ],
       "datasetInfos": [],
       "dbfsResultPath": null,
       "isJsonSchema": true,
       "metadata": {},
       "overflow": false,
       "plotOptions": {
        "customPlotOptions": {},
        "displayType": "table",
        "pivotAggregation": null,
        "pivotColumns": null,
        "xColumns": null,
        "yColumns": null
       },
       "removedWidgets": [],
       "schema": [
        {
         "metadata": "{}",
         "name": "Business_Entity_ID",
         "type": "\"long\""
        },
        {
         "metadata": "{}",
         "name": "Demographics",
         "type": "\"string\""
        },
        {
         "metadata": "{}",
         "name": "Modified_Date",
         "type": "\"string\""
        },
        {
         "metadata": "{}",
         "name": "Name",
         "type": "\"string\""
        },
        {
         "metadata": "{}",
         "name": "Sales_Person_ID",
         "type": "\"long\""
        },
        {
         "metadata": "{}",
         "name": "rowguid",
         "type": "\"string\""
        }
       ],
       "type": "table"
      }
     },
     "output_type": "display_data"
    }
   ],
   "source": [
    "display(df)"
   ]
  },
  {
   "cell_type": "code",
   "execution_count": 0,
   "metadata": {
    "application/vnd.databricks.v1+cell": {
     "cellMetadata": {},
     "inputWidgets": {},
     "nuid": "1b35bc11-41be-4bdd-b89e-4dc5fbc60fda",
     "showTitle": false,
     "title": ""
    }
   },
   "outputs": [],
   "source": []
  }
 ],
 "metadata": {
  "application/vnd.databricks.v1+notebook": {
   "dashboards": [],
   "language": "python",
   "notebookMetadata": {
    "pythonIndentUnit": 4
   },
   "notebookName": "silver to gold",
   "widgets": {}
  }
 },
 "nbformat": 4,
 "nbformat_minor": 0
}
