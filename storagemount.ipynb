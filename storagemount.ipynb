{
 "cells": [
  {
   "cell_type": "code",
   "execution_count": 0,
   "metadata": {
    "application/vnd.databricks.v1+cell": {
     "cellMetadata": {
      "byteLimit": 2048000,
      "rowLimit": 10000
     },
     "inputWidgets": {},
     "nuid": "02b41c4e-8ee5-4c32-897e-f6b3f30d90ad",
     "showTitle": false,
     "title": ""
    }
   },
   "outputs": [
    {
     "output_type": "stream",
     "name": "stdout",
     "output_type": "stream",
     "text": [
      "Out[2]: True"
     ]
    }
   ],
   "source": [
    "configs = {\n",
    "  \"fs.azure.account.auth.type\": \"CustomAccessToken\",\n",
    "  \"fs.azure.account.custom.token.provider.class\": spark.conf.get(\"spark.databricks.passthrough.adls.gen2.tokenProviderClassName\")\n",
    "}\n",
    "\n",
    "# Optionally, you can add <directory-name> to the source URI of your mount point.\n",
    "dbutils.fs.mount(\n",
    "  source = \"abfss://bronze@dp203dataengindlgen2.dfs.core.windows.net/\",\n",
    "  mount_point = \"/mnt/bronze\",\n",
    "  extra_configs = configs)"
   ]
  },
  {
   "cell_type": "code",
   "execution_count": 0,
   "metadata": {
    "application/vnd.databricks.v1+cell": {
     "cellMetadata": {
      "byteLimit": 2048000,
      "rowLimit": 10000
     },
     "inputWidgets": {},
     "nuid": "2422b30d-7169-4c10-9af8-12b82564265c",
     "showTitle": false,
     "title": ""
    }
   },
   "outputs": [
    {
     "output_type": "stream",
     "name": "stdout",
     "output_type": "stream",
     "text": [
      "Out[4]: [FileInfo(path='dbfs:/mnt/bronze/Sales/CountryRegionCurrency/', name='CountryRegionCurrency/', size=0, modificationTime=1690286152000),\n FileInfo(path='dbfs:/mnt/bronze/Sales/CreditCard/', name='CreditCard/', size=0, modificationTime=1690286157000),\n FileInfo(path='dbfs:/mnt/bronze/Sales/Currency/', name='Currency/', size=0, modificationTime=1690286165000),\n FileInfo(path='dbfs:/mnt/bronze/Sales/CurrencyRate/', name='CurrencyRate/', size=0, modificationTime=1690286160000),\n FileInfo(path='dbfs:/mnt/bronze/Sales/Customer/', name='Customer/', size=0, modificationTime=1690286153000),\n FileInfo(path='dbfs:/mnt/bronze/Sales/PersonCreditCard/', name='PersonCreditCard/', size=0, modificationTime=1690286165000),\n FileInfo(path='dbfs:/mnt/bronze/Sales/SalesOrderDetail/', name='SalesOrderDetail/', size=0, modificationTime=1690286175000),\n FileInfo(path='dbfs:/mnt/bronze/Sales/SalesOrderHeader/', name='SalesOrderHeader/', size=0, modificationTime=1690286169000),\n FileInfo(path='dbfs:/mnt/bronze/Sales/SalesOrderHeaderSalesReason/', name='SalesOrderHeaderSalesReason/', size=0, modificationTime=1690286154000),\n FileInfo(path='dbfs:/mnt/bronze/Sales/SalesPerson/', name='SalesPerson/', size=0, modificationTime=1690286163000),\n FileInfo(path='dbfs:/mnt/bronze/Sales/SalesPersonQuotaHistory/', name='SalesPersonQuotaHistory/', size=0, modificationTime=1690286163000),\n FileInfo(path='dbfs:/mnt/bronze/Sales/SalesReason/', name='SalesReason/', size=0, modificationTime=1690286153000),\n FileInfo(path='dbfs:/mnt/bronze/Sales/SalesTaxRate/', name='SalesTaxRate/', size=0, modificationTime=1690286168000),\n FileInfo(path='dbfs:/mnt/bronze/Sales/SalesTerritory/', name='SalesTerritory/', size=0, modificationTime=1690286161000),\n FileInfo(path='dbfs:/mnt/bronze/Sales/SalesTerritoryHistory/', name='SalesTerritoryHistory/', size=0, modificationTime=1690286152000),\n FileInfo(path='dbfs:/mnt/bronze/Sales/ShoppingCartItem/', name='ShoppingCartItem/', size=0, modificationTime=1690286152000),\n FileInfo(path='dbfs:/mnt/bronze/Sales/SpecialOffer/', name='SpecialOffer/', size=0, modificationTime=1690286153000),\n FileInfo(path='dbfs:/mnt/bronze/Sales/SpecialOfferProduct/', name='SpecialOfferProduct/', size=0, modificationTime=1690286163000),\n FileInfo(path='dbfs:/mnt/bronze/Sales/Store/', name='Store/', size=0, modificationTime=1690286154000)]"
     ]
    }
   ],
   "source": [
    "dbutils.fs.ls(\"/mnt/bronze/Sales\")"
   ]
  },
  {
   "cell_type": "code",
   "execution_count": 0,
   "metadata": {
    "application/vnd.databricks.v1+cell": {
     "cellMetadata": {
      "byteLimit": 2048000,
      "rowLimit": 10000
     },
     "inputWidgets": {},
     "nuid": "2fa663e5-fae6-40cd-9043-86faf9d30514",
     "showTitle": false,
     "title": ""
    }
   },
   "outputs": [
    {
     "output_type": "stream",
     "name": "stdout",
     "output_type": "stream",
     "text": [
      "Out[7]: True"
     ]
    }
   ],
   "source": [
    "configs = {\n",
    "  \"fs.azure.account.auth.type\": \"CustomAccessToken\",\n",
    "  \"fs.azure.account.custom.token.provider.class\": spark.conf.get(\"spark.databricks.passthrough.adls.gen2.tokenProviderClassName\")\n",
    "}\n",
    "\n",
    "# Optionally, you can add <directory-name> to the source URI of your mount point.\n",
    "dbutils.fs.mount(\n",
    "  source = \"abfss://silver@dp203dataengindlgen2.dfs.core.windows.net/\",\n",
    "  mount_point = \"/mnt/silver\",\n",
    "  extra_configs = configs)"
   ]
  },
  {
   "cell_type": "code",
   "execution_count": 0,
   "metadata": {
    "application/vnd.databricks.v1+cell": {
     "cellMetadata": {
      "byteLimit": 2048000,
      "rowLimit": 10000
     },
     "inputWidgets": {},
     "nuid": "b5a2b100-146d-4572-9a89-2e0437c273c5",
     "showTitle": false,
     "title": ""
    }
   },
   "outputs": [
    {
     "output_type": "stream",
     "name": "stdout",
     "output_type": "stream",
     "text": [
      "Out[8]: True"
     ]
    }
   ],
   "source": [
    "configs = {\n",
    "  \"fs.azure.account.auth.type\": \"CustomAccessToken\",\n",
    "  \"fs.azure.account.custom.token.provider.class\": spark.conf.get(\"spark.databricks.passthrough.adls.gen2.tokenProviderClassName\")\n",
    "}\n",
    "\n",
    "# Optionally, you can add <directory-name> to the source URI of your mount point.\n",
    "dbutils.fs.mount(\n",
    "  source = \"abfss://gold@dp203dataengindlgen2.dfs.core.windows.net/\",\n",
    "  mount_point = \"/mnt/gold\",\n",
    "  extra_configs = configs)"
   ]
  },
  {
   "cell_type": "code",
   "execution_count": 0,
   "metadata": {
    "application/vnd.databricks.v1+cell": {
     "cellMetadata": {},
     "inputWidgets": {},
     "nuid": "ea2a789c-7d33-47e3-9e44-7ee143b1f315",
     "showTitle": false,
     "title": ""
    }
   },
   "outputs": [],
   "source": []
  }
 ],
 "metadata": {
  "application/vnd.databricks.v1+notebook": {
   "dashboards": [],
   "language": "python",
   "notebookMetadata": {
    "pythonIndentUnit": 4
   },
   "notebookName": "storagemount",
   "widgets": {}
  }
 },
 "nbformat": 4,
 "nbformat_minor": 0
}
